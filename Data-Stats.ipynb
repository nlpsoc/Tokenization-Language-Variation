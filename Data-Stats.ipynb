{
 "cells": [
  {
   "cell_type": "markdown",
   "id": "4d0dcd78",
   "metadata": {},
   "source": [
    "### on SADIRI 1%: Do Candidate/Query Overlap: No"
   ]
  },
  {
   "cell_type": "code",
   "execution_count": null,
   "id": "afd2f1d6",
   "metadata": {},
   "outputs": [],
   "source": [
    "# check the overlap between candidate and query files\n",
    "from datasets import load_from_disk\n",
    "directory_path = '/shared/3/projects/hiatus/aggregated_trainset_v2/content_masking_research/down_1_shuffle/train'"
   ]
  },
  {
   "cell_type": "code",
   "execution_count": 6,
   "id": "07ffe9d5",
   "metadata": {},
   "outputs": [
    {
     "name": "stdout",
     "output_type": "stream",
     "text": [
      "Dataset({\n",
      "    features: ['query_id', 'query_authorID', 'query_text', 'candidate_id', 'candidate_authorID', 'candidate_text'],\n",
      "    num_rows: 40796\n",
      "})\n"
     ]
    }
   ],
   "source": [
    "# Load the dataset\n",
    "dataset = load_from_disk(directory_path)\n",
    "\n",
    "# Display the first few rows of the train split\n",
    "print(dataset['train'])"
   ]
  },
  {
   "cell_type": "code",
   "execution_count": 7,
   "id": "017e96bb",
   "metadata": {},
   "outputs": [
    {
     "name": "stdout",
     "output_type": "stream",
     "text": [
      "There are no overlapping IDs between query_id and candidate_id.\n"
     ]
    }
   ],
   "source": [
    "# Extract the query_id and candidate_id columns from the train split\n",
    "query_ids = set(dataset['train']['query_id'])\n",
    "candidate_ids = set(dataset['train']['candidate_id'])\n",
    "\n",
    "# Find the intersection of query_id and candidate_id\n",
    "overlap = query_ids.intersection(candidate_ids)\n",
    "\n",
    "# Check if there is any overlap\n",
    "if overlap:\n",
    "    print(\"There are overlapping IDs between query_id and candidate_id:\")\n",
    "    print(overlap)\n",
    "else:\n",
    "    print(\"There are no overlapping IDs between query_id and candidate_id.\")"
   ]
  },
  {
   "cell_type": "markdown",
   "id": "4e2b7799",
   "metadata": {},
   "source": [
    "## On SADIRI 100%, amazon: do candidate/query overlap?: No"
   ]
  },
  {
   "cell_type": "code",
   "execution_count": 18,
   "id": "77c29f34",
   "metadata": {},
   "outputs": [
    {
     "name": "stdout",
     "output_type": "stream",
     "text": [
      "\n",
      "Keys in the train_candidates.jsonl DataFrame:\n",
      "Index(['documentID', 'authorIDs', 'fullText', 'spanAttribution', 'isNeedle',\n",
      "       'collectionNum', 'source', 'dateCollected', 'publiclyAvailable',\n",
      "       'deidentified', 'languages', 'lengthWords', 'dateCreated',\n",
      "       'timeCreated', 'sourceSpecific'],\n",
      "      dtype='object')\n",
      "                             documentID                 authorIDs  \\\n",
      "0  7041c0a5-6ef6-4e41-8630-5a8409583d89  ['A0103849GBVWICKXD4T6']   \n",
      "\n",
      "                                            fullText  \\\n",
      "0  Bought this as a possible EDC item, but found ...   \n",
      "\n",
      "                                     spanAttribution  isNeedle collectionNum  \\\n",
      "0  [{'authorID': 'A0103849GBVWICKXD4T6', 'start':...     False        amazon   \n",
      "\n",
      "   source dateCollected  publiclyAvailable  deidentified languages  \\\n",
      "0  amazon    2022-12-31               True          True      [en]   \n",
      "\n",
      "   lengthWords  dateCreated  timeCreated  \\\n",
      "0           72  09 15, 2014  09 15, 2014   \n",
      "\n",
      "                                      sourceSpecific  \n",
      "0  {'product': 'B006M9NIEI', 'sentiment': 4.0, 'p...  \n",
      "There are no overlapping IDs between query_id and candidate_id.\n"
     ]
    }
   ],
   "source": [
    "import pandas as pd\n",
    "amazon_base = '/shared/3/projects/hiatus/aggregated_trainset_v2/content_masking_research/amazon/'\n",
    "# Load the train_queries.jsonl file\n",
    "queries_path = amazon_base + 'train_queries.jsonl'\n",
    "queries_df = pd.read_json(queries_path, lines=True)\n",
    "\n",
    "# Load the train_candidates.jsonl file\n",
    "candidates_path = amazon_base + 'train_candidates.jsonl'\n",
    "candidates_df = pd.read_json(candidates_path, lines=True)\n",
    "\n",
    "# Print the keys of the train_candidates.jsonl DataFrame\n",
    "print(\"\\nKeys in the train_candidates.jsonl DataFrame:\")\n",
    "print(candidates_df.columns)\n",
    "print(candidates_df[:1])\n",
    "\n",
    "# Extract query_id and candidate_id from the jsonl datasets\n",
    "query_ids_jsonl = set(queries_df['documentID'])\n",
    "candidate_ids_jsonl = set(candidates_df['documentID'])\n",
    "\n",
    "# Check for overlap between query_id and candidate_id\n",
    "overlap = query_ids_jsonl.intersection(candidate_ids_jsonl)\n",
    "\n",
    "if overlap:\n",
    "    print(\"There are overlapping IDs between query_id and candidate_id:\")\n",
    "    print(overlap)\n",
    "else:\n",
    "    print(\"There are no overlapping IDs between query_id and candidate_id.\")"
   ]
  },
  {
   "cell_type": "markdown",
   "id": "9759b12c",
   "metadata": {},
   "source": [
    "## Get the size of full (not with held-out) SADIRI TRAIN dataset in terms of #words"
   ]
  },
  {
   "cell_type": "code",
   "execution_count": 2,
   "id": "2932b489",
   "metadata": {},
   "outputs": [],
   "source": [
    "project_base = \"/shared/3/projects/hiatus/aggregated_trainset_v2/content_masking_research/\"\n",
    "data_folders = [\"amazon\", \"ao3\", \"bookcorpus\", \"gmane\", \"nytimes-articles-and-comments\", \"pubmed\", \"realnews\", \"reddit\", \"stackexchange\", \"wiki_articles\"]\n",
    "data_folders = [project_base + folder_name for folder_name in data_folders]"
   ]
  },
  {
   "cell_type": "code",
   "execution_count": 5,
   "id": "516df9b2",
   "metadata": {},
   "outputs": [],
   "source": [
    "import pandas as pd\n",
    "import os\n",
    "\n",
    "def count_words_in_fullText(file_path):\n",
    "    # Load the JSONL file into a DataFrame\n",
    "    df = pd.read_json(file_path, lines=True)\n",
    "    \n",
    "    # Check if the 'fullText' column exists\n",
    "    if 'fullText' in df.columns:\n",
    "        # Count the number of words in the 'fullText' column\n",
    "        word_count = df['fullText'].str.split().str.len().sum()\n",
    "        return word_count\n",
    "    else:\n",
    "        return 0\n",
    "\n",
    "def process_datasets(dataset_paths):\n",
    "    total_word_count = 0\n",
    "    word_counts = {}\n",
    "    \n",
    "    for dataset_path in dataset_paths:\n",
    "        dataset_name = os.path.basename(dataset_path)\n",
    "        \n",
    "        # Initialize word count for the dataset\n",
    "        dataset_word_count = 0\n",
    "        \n",
    "        # Process only the specified JSONL files in the dataset folder\n",
    "        for file_name in ['train_queries.jsonl', 'train_candidates.jsonl']:\n",
    "            file_path = os.path.join(dataset_path, file_name)\n",
    "            if os.path.exists(file_path):\n",
    "                file_word_count = count_words_in_fullText(file_path)\n",
    "                dataset_word_count += file_word_count\n",
    "        \n",
    "        # Store the word count for the dataset\n",
    "        word_counts[dataset_name] = dataset_word_count\n",
    "        total_word_count += dataset_word_count\n",
    "    \n",
    "    return word_counts, total_word_count"
   ]
  },
  {
   "cell_type": "code",
   "execution_count": 33,
   "id": "082c20a2",
   "metadata": {
    "scrolled": true
   },
   "outputs": [
    {
     "name": "stdout",
     "output_type": "stream",
     "text": [
      "Total number of words in amazon: 31650279\n",
      "Total number of words in ao3: 573926907\n",
      "Total number of words in bookcorpus: 57367225\n",
      "Total number of words in gmane: 141837101\n",
      "Total number of words in nytimes-articles-and-comments: 24131163\n",
      "Total number of words in pubmed: 9748317\n",
      "Total number of words in realnews: 272933709\n",
      "Total number of words in reddit: 446769021\n",
      "Total number of words in stackexchange: 153991860\n",
      "Total number of words in wiki_articles: 34779747\n",
      "Overall total number of words: 1747135329\n"
     ]
    }
   ],
   "source": [
    "# Process the datasets and get the word counts\n",
    "word_counts, total_word_count = process_datasets(data_folders)\n",
    "\n",
    "# Print the word counts for each dataset\n",
    "for dataset_name, word_count in word_counts.items():\n",
    "    print(f\"Total number of words in {dataset_name}: {word_count}\")\n",
    "\n",
    "# Print the overall total word count\n",
    "print(f\"Overall total number of words: {total_word_count}\")"
   ]
  },
  {
   "cell_type": "code",
   "execution_count": 32,
   "id": "19cb8a24",
   "metadata": {},
   "outputs": [
    {
     "data": {
      "text/plain": [
       "({'': 34779747}, 1747135329)"
      ]
     },
     "execution_count": 32,
     "metadata": {},
     "output_type": "execute_result"
    }
   ],
   "source": [
    "word_counts, total_word_count"
   ]
  },
  {
   "cell_type": "markdown",
   "id": "64926778",
   "metadata": {},
   "source": [
    "### held out SADIRI dataset"
   ]
  },
  {
   "cell_type": "code",
   "execution_count": 3,
   "id": "4cbe28f8",
   "metadata": {},
   "outputs": [],
   "source": [
    "data_folders = [\"blogcorpus\", \"food.com-recipes\", \"sfu-socc\", \"goodreads\", \"wiki_discussions\"]\n",
    "data_folders = [project_base + folder_name for folder_name in data_folders]"
   ]
  },
  {
   "cell_type": "code",
   "execution_count": 6,
   "id": "cc973449",
   "metadata": {},
   "outputs": [
    {
     "name": "stdout",
     "output_type": "stream",
     "text": [
      "Total number of words in blogcorpus: 8189607\n",
      "Total number of words in food.com-recipes: 4346765\n",
      "Total number of words in sfu-socc: 3007117\n",
      "Total number of words in goodreads: 53683977\n",
      "Total number of words in wiki_discussions: 40827678\n",
      "Overall total number of words: 110055144\n"
     ]
    }
   ],
   "source": [
    "# Process the datasets and get the word counts\n",
    "word_counts, total_word_count = process_datasets(data_folders)\n",
    "\n",
    "# Print the word counts for each dataset\n",
    "for dataset_name, word_count in word_counts.items():\n",
    "    print(f\"Total number of words in {dataset_name}: {word_count}\")\n",
    "\n",
    "# Print the overall total word count\n",
    "print(f\"Overall total number of words: {total_word_count}\")"
   ]
  },
  {
   "cell_type": "markdown",
   "id": "7ab2afc0",
   "metadata": {},
   "source": [
    "## peak at shared/3/datasets/wikipedia/enwiki/pages-articles/enwiki-20230601-pages-articles.clean-text.txt.gz "
   ]
  },
  {
   "cell_type": "code",
   "execution_count": 1,
   "id": "3100e089",
   "metadata": {},
   "outputs": [],
   "source": [
    "wiki_path = \"/shared/3/datasets/wikipedia/enwiki/pages-articles/enwiki-20230601-pages-articles.clean-text.txt.gz\""
   ]
  },
  {
   "cell_type": "code",
   "execution_count": 2,
   "id": "6b9b416e",
   "metadata": {},
   "outputs": [],
   "source": [
    "import gzip\n",
    "\n",
    "def peek_gzipped_file(file_path, num_lines=10):\n",
    "    with gzip.open(file_path, 'rt', encoding='utf-8') as file:\n",
    "        for _ in range(num_lines):\n",
    "            print(next(file))"
   ]
  },
  {
   "cell_type": "code",
   "execution_count": 3,
   "id": "45ee8344",
   "metadata": {},
   "outputs": [
    {
     "name": "stdout",
     "output_type": "stream",
     "text": [
      "'Fred' Watson founded the Patent Collapsible Sidecar Company, later renamed to Watsonian Folding Sidecar Company Ltd, after he built a folding sidecar that allowed him to get his motorcycle and sidecar combination through a narrow entrance to the yard at his house.\n",
      "\n",
      "The first round was held on August 7.\n",
      "\n",
      "Born in Guildford, Darren is the brother of former England seam bowler Martin Bicknell. However, he struggled to have similar international impact in the 1990s, the selectors instead preferring players such as Jason Gallian and Mark Lathwell. Most of Bicknell's career was spent at Surrey, but he finished his career with seven seasons at Nottinghamshire, before retiring at the end of the 2006 season.\n",
      "\n",
      "Kairos Na Pame Parakato is a Greek language album by Antonis Remos from 1998 which sold more than 100,000 copies and was certified double platinum.\"\n",
      "\n",
      "Thomas Valente (portrayed by Daniel Benzali) was a high-ranking official in the domestic nuclear detection office of the Department of Homeland Security. Valente supervised Project Red Bell, and was also among the leaders of the nuclear plot which, with Valente and Sarah Mason sabotaging Red Bell's efforts to stop it, succeeded.\n",
      "\n",
      "The larvae feed on Gardenia globesa and Clerodendrum glabrum.\n",
      "\n",
      "Schieffelin had made a practice of studying maps and believed there was a great \"continental belt\" of mineral wealth that extended from South America through Mexico, the United States, and British Columbia.Berton, P., (1958). The Klo(=)dike Fever. Alfred A Knopf: New York, pp. 11–12. During 1882, Ed prepared for what he planned to be a three-year survey of mineral wealth. He began the expedition with his brother Al and three others on a trip up the Yukon River. They commissioned construction of and fitted out a small, shallow-draft sternwheel steamer which they named the New Packet. Schieffelin prospected during the trip in Alaska and found some specks of gold. He was for a while convinced he had found the continental belt he had been searching for. But he was extremely discouraged by the Arctic cold he experienced, up to 50 F below zero (-46 C). He decided that mining in Alaska was a lost cause and he returned to the lower 48 states.\n",
      "\n",
      "- Teams with a male-female ratio between 40 and 60 percent produce results that are more sustained and predictable than those of unbalanced teams (Michel Landel, McKinsey & Company, 2017)\n",
      "\n",
      "Basic, in IBM terminology, indicates a lower-level access method that deals with data sets in terms of physical blocks and does not provide either read-ahead, called anticipatory buffering, or synchronization — that is, the user program has to explicitly wait for completion of each input/output event.\n",
      "\n",
      "Reckitt Benckiser Korea has been blamed for 103 deaths by a coalition of consumer groups in South Korea; the April 2016 The Korea Herald report said that Reckitt Benckiser Korea had been blamed for 221 deaths.\n",
      "\n"
     ]
    }
   ],
   "source": [
    "peek_gzipped_file(wiki_path, num_lines=10)"
   ]
  },
  {
   "cell_type": "markdown",
   "id": "5291bd9a",
   "metadata": {},
   "source": [
    "## Sample 1.5 billion words from wikipedia"
   ]
  },
  {
   "cell_type": "code",
   "execution_count": 8,
   "id": "9ed88ed8",
   "metadata": {},
   "outputs": [
    {
     "data": {
      "application/vnd.jupyter.widget-view+json": {
       "model_id": "87edb3edb34c4523b637fe726464572c",
       "version_major": 2,
       "version_minor": 0
      },
      "text/plain": [
       "Saving the dataset (0/20 shards):   0%|          | 0/25383803 [00:09<?, ? examples/s]"
      ]
     },
     "metadata": {},
     "output_type": "display_data"
    }
   ],
   "source": [
    "import gzip\n",
    "import random\n",
    "from datasets import Dataset\n",
    "import os\n",
    "\n",
    "def count_words_in_line(line):\n",
    "    return len(line.split())\n",
    "\n",
    "def extract_random_lines(file_path, target_word_count=1_500_000_000, seed=42):\n",
    "    random.seed(seed)\n",
    "    total_word_count = 0\n",
    "    selected_lines = []\n",
    "\n",
    "    with gzip.open(file_path, 'rt', encoding='utf-8') as file:\n",
    "        lines = file.readlines()\n",
    "        random.shuffle(lines)\n",
    "\n",
    "        for line_number, line in enumerate(lines, 1):\n",
    "            line_word_count = count_words_in_line(line)\n",
    "            if total_word_count + line_word_count > target_word_count:\n",
    "                break\n",
    "            total_word_count += line_word_count\n",
    "            selected_lines.append((line_number, line))\n",
    "\n",
    "    return selected_lines\n",
    "\n",
    "def save_to_huggingface_format(lines, output_path):\n",
    "    dataset_dict = {\n",
    "        \"line_number\": [line_number for line_number, _ in lines],\n",
    "        \"text\": [text for _, text in lines]\n",
    "    }\n",
    "    dataset = Dataset.from_dict(dataset_dict)\n",
    "    dataset.save_to_disk(output_path)\n",
    "\n",
    "def process_wikipedia_file(input_path, output_path):\n",
    "    lines = extract_random_lines(input_path)\n",
    "    save_to_huggingface_format(lines, output_path)\n",
    "\n",
    "# Replace with your actual file path and desired output path\n",
    "input_path = \"/shared/3/datasets/wikipedia/enwiki/pages-articles/enwiki-20230601-pages-articles.clean-text.txt.gz\"\n",
    "output_path = \"/shared/3/projects/hiatus/TOKENIZER_wegmann/data/fitting-corpora/wikipedia\"\n",
    "\n",
    "process_wikipedia_file(input_path, output_path)"
   ]
  },
  {
   "cell_type": "code",
   "execution_count": 5,
   "id": "780d4dee",
   "metadata": {},
   "outputs": [
    {
     "data": {
      "application/vnd.jupyter.widget-view+json": {
       "model_id": "3d854432e5d94b4eaaea5861a34087e8",
       "version_major": 2,
       "version_minor": 0
      },
      "text/plain": [
       "Loading dataset from disk:   0%|          | 0/20 [00:00<?, ?it/s]"
      ]
     },
     "metadata": {},
     "output_type": "display_data"
    },
    {
     "name": "stdout",
     "output_type": "stream",
     "text": [
      "Line 1: Hønefoss in Storelva (Ringerike) valley is left by the line northwest into the Sogna valley, where the route uses its northern valley flanks to Sokna. To get to the Krøderen (lake) valley, Bergen Line follows Rudselva, passes by Langevannet and Breidvannet lakes and also through the 2.3 kilometer Haversting tunnel, which runs parallel to the Norwegian National Road 7, (), Ørgenvik tunnel. Hallingdal valley is used as a natural corridor further north-west, mostly on the left river bank, serving the larger settlements of Flå and Nesbyen. At Svenkerud to the north of Nesbyen the valley flank is changed. Soutwestbound to Gol, the ascent becomes gradually steeper in the following section to Geilo.\n",
      "\n",
      "Line 2: The Korovin pistol (Пистолет Коровина, Тульский Коровин (ТК), GAU Index 56-A-112) is regarded as the first Soviet semi-automatic pistol.\n",
      "\n",
      "Line 3: Due to COVID-19 pandemic, this year's Indonesia International Motor Show was split into two events, the IIMS Virtual, which was held virtually on its official website, and the IIMS Hybrid, which was held both in the exhibition center (in compliance with strict health protocols) and on its official website.\n",
      "\n",
      "Line 4: fun loop (0, acc) = acc\n",
      "\n",
      "Line 5: Saint-Pierre-de-Lamps () is a former commune in the Indre department in central France.INSEE commune file On 1 January 2019, it was merged into the commune Levroux, and became a delegated commune.Arrêté préfectoral 24 August 2018\n",
      "\n"
     ]
    }
   ],
   "source": [
    "from datasets import load_from_disk\n",
    "\n",
    "output_path = \"/shared/3/projects/hiatus/TOKENIZER_wegmann/data/fitting-corpora/wikipedia\"\n",
    "dataset = load_from_disk(output_path)\n",
    "first_five_lines = dataset.select(range(5))\n",
    "for row in first_five_lines:\n",
    "    print(f\"Line {row['line_number']}: {row['text']}\")"
   ]
  },
  {
   "cell_type": "markdown",
   "id": "1a3fd8d3",
   "metadata": {},
   "source": [
    "## Sample 1.5 billion words from 2021 Twitter API Samples"
   ]
  },
  {
   "cell_type": "code",
   "execution_count": 1,
   "id": "ed277336",
   "metadata": {},
   "outputs": [],
   "source": [
    "import bz2\n",
    "import json\n",
    "import os\n",
    "from datasets import Dataset\n",
    "\n",
    "def count_words(text):\n",
    "    return len(text.split())\n",
    "\n",
    "def process_file(file_path, target_word_count_per_file, data):\n",
    "    cumulative_word_count = 0\n",
    "    with bz2.open(file_path, 'rt') as file:\n",
    "        for line in file:\n",
    "            tweet = json.loads(line)\n",
    "            text = tweet.get(\"text\", \"\")\n",
    "            tweet_id = tweet.get(\"id\", \"\")\n",
    "            word_count = count_words(text)\n",
    "            \n",
    "            cumulative_word_count += word_count\n",
    "            data.append({\"id\": tweet_id, \"text\": text})\n",
    "            \n",
    "            if cumulative_word_count >= target_word_count_per_file:\n",
    "                return data, cumulative_word_count\n",
    "    return data, cumulative_word_count\n",
    "\n",
    "\n",
    "def sample_texts_from_files(directory, target_word_count):\n",
    "    \"\"\"\n",
    "        get the number of compressed files and determine how much to sample from each file,\n",
    "        st target word count is distributed equally across bz2 files\n",
    "    \"\"\"\n",
    "    files = [os.path.join(root, file_name)\n",
    "             for root, _, files in os.walk(directory)\n",
    "             for file_name in sorted(files)\n",
    "             if not \"2022\" in file_name and (file_name.endswith('p2.bz2') or file_name.endswith('p1.bz2'))]\n",
    "    print(files)\n",
    "    num_files = len(files)\n",
    "    target_word_count_per_file = target_word_count // num_files\n",
    "    data = []\n",
    "\n",
    "    for filen_index, file_path in enumerate(files):\n",
    "        print(f\"At file {filen_index}/{num_files} called {file_path}\")\n",
    "        print(f\"Extracting {target_word_count_per_file} words\")\n",
    "        data, _ = process_file(file_path, target_word_count_per_file, data)\n",
    "\n",
    "    return data"
   ]
  },
  {
   "cell_type": "code",
   "execution_count": 2,
   "id": "5705424c",
   "metadata": {},
   "outputs": [
    {
     "name": "stdout",
     "output_type": "stream",
     "text": [
      "['/nfs/locker/twitter-decahose-locker/2021/decahose.2021-01-01.p1.bz2', '/nfs/locker/twitter-decahose-locker/2021/decahose.2021-01-01.p2.bz2', '/nfs/locker/twitter-decahose-locker/2021/decahose.2021-01-02.p1.bz2', '/nfs/locker/twitter-decahose-locker/2021/decahose.2021-01-02.p2.bz2', '/nfs/locker/twitter-decahose-locker/2021/decahose.2021-01-03.p1.bz2', '/nfs/locker/twitter-decahose-locker/2021/decahose.2021-01-03.p2.bz2', '/nfs/locker/twitter-decahose-locker/2021/decahose.2021-01-04.p1.bz2', '/nfs/locker/twitter-decahose-locker/2021/decahose.2021-01-04.p2.bz2', '/nfs/locker/twitter-decahose-locker/2021/decahose.2021-01-05.p1.bz2', '/nfs/locker/twitter-decahose-locker/2021/decahose.2021-01-05.p2.bz2', '/nfs/locker/twitter-decahose-locker/2021/decahose.2021-01-06.p1.bz2', '/nfs/locker/twitter-decahose-locker/2021/decahose.2021-01-06.p2.bz2', '/nfs/locker/twitter-decahose-locker/2021/decahose.2021-01-07.p1.bz2', '/nfs/locker/twitter-decahose-locker/2021/decahose.2021-01-07.p2.bz2', '/nfs/locker/twitter-decahose-locker/2021/decahose.2021-01-08.p1.bz2', '/nfs/locker/twitter-decahose-locker/2021/decahose.2021-01-08.p2.bz2', '/nfs/locker/twitter-decahose-locker/2021/decahose.2021-01-09.p1.bz2', '/nfs/locker/twitter-decahose-locker/2021/decahose.2021-01-09.p2.bz2', '/nfs/locker/twitter-decahose-locker/2021/decahose.2021-01-10.p1.bz2', '/nfs/locker/twitter-decahose-locker/2021/decahose.2021-01-10.p2.bz2', '/nfs/locker/twitter-decahose-locker/2021/decahose.2021-01-11.p1.bz2', '/nfs/locker/twitter-decahose-locker/2021/decahose.2021-01-11.p2.bz2', '/nfs/locker/twitter-decahose-locker/2021/decahose.2021-01-12.p1.bz2', '/nfs/locker/twitter-decahose-locker/2021/decahose.2021-01-12.p2.bz2', '/nfs/locker/twitter-decahose-locker/2021/decahose.2021-01-13.p1.bz2', '/nfs/locker/twitter-decahose-locker/2021/decahose.2021-01-13.p2.bz2', '/nfs/locker/twitter-decahose-locker/2021/decahose.2021-01-14.p1.bz2', '/nfs/locker/twitter-decahose-locker/2021/decahose.2021-01-14.p2.bz2', '/nfs/locker/twitter-decahose-locker/2021/decahose.2021-01-15.p1.bz2', '/nfs/locker/twitter-decahose-locker/2021/decahose.2021-01-15.p2.bz2', '/nfs/locker/twitter-decahose-locker/2021/decahose.2021-01-16.p1.bz2', '/nfs/locker/twitter-decahose-locker/2021/decahose.2021-01-16.p2.bz2', '/nfs/locker/twitter-decahose-locker/2021/decahose.2021-01-17.p1.bz2', '/nfs/locker/twitter-decahose-locker/2021/decahose.2021-01-17.p2.bz2', '/nfs/locker/twitter-decahose-locker/2021/decahose.2021-01-18.p1.bz2', '/nfs/locker/twitter-decahose-locker/2021/decahose.2021-01-18.p2.bz2', '/nfs/locker/twitter-decahose-locker/2021/decahose.2021-01-19.p1.bz2', '/nfs/locker/twitter-decahose-locker/2021/decahose.2021-01-19.p2.bz2', '/nfs/locker/twitter-decahose-locker/2021/decahose.2021-01-20.p1.bz2', '/nfs/locker/twitter-decahose-locker/2021/decahose.2021-01-20.p2.bz2', '/nfs/locker/twitter-decahose-locker/2021/decahose.2021-01-21.p1.bz2', '/nfs/locker/twitter-decahose-locker/2021/decahose.2021-01-21.p2.bz2', '/nfs/locker/twitter-decahose-locker/2021/decahose.2021-01-22.p1.bz2', '/nfs/locker/twitter-decahose-locker/2021/decahose.2021-01-22.p2.bz2', '/nfs/locker/twitter-decahose-locker/2021/decahose.2021-01-23.p1.bz2', '/nfs/locker/twitter-decahose-locker/2021/decahose.2021-01-23.p2.bz2', '/nfs/locker/twitter-decahose-locker/2021/decahose.2021-01-24.p1.bz2', '/nfs/locker/twitter-decahose-locker/2021/decahose.2021-01-24.p2.bz2', '/nfs/locker/twitter-decahose-locker/2021/decahose.2021-01-25.p1.bz2', '/nfs/locker/twitter-decahose-locker/2021/decahose.2021-01-25.p2.bz2', '/nfs/locker/twitter-decahose-locker/2021/decahose.2021-01-26.p1.bz2', '/nfs/locker/twitter-decahose-locker/2021/decahose.2021-01-26.p2.bz2', '/nfs/locker/twitter-decahose-locker/2021/decahose.2021-01-27.p1.bz2', '/nfs/locker/twitter-decahose-locker/2021/decahose.2021-01-27.p2.bz2', '/nfs/locker/twitter-decahose-locker/2021/decahose.2021-01-28.p1.bz2', '/nfs/locker/twitter-decahose-locker/2021/decahose.2021-01-28.p2.bz2', '/nfs/locker/twitter-decahose-locker/2021/decahose.2021-01-29.p1.bz2', '/nfs/locker/twitter-decahose-locker/2021/decahose.2021-01-29.p2.bz2', '/nfs/locker/twitter-decahose-locker/2021/decahose.2021-01-30.p1.bz2', '/nfs/locker/twitter-decahose-locker/2021/decahose.2021-01-30.p2.bz2', '/nfs/locker/twitter-decahose-locker/2021/decahose.2021-01-31.p1.bz2', '/nfs/locker/twitter-decahose-locker/2021/decahose.2021-01-31.p2.bz2', '/nfs/locker/twitter-decahose-locker/2021/decahose.2021-02-01.p1.bz2', '/nfs/locker/twitter-decahose-locker/2021/decahose.2021-02-01.p2.bz2', '/nfs/locker/twitter-decahose-locker/2021/decahose.2021-02-02.p1.bz2', '/nfs/locker/twitter-decahose-locker/2021/decahose.2021-02-02.p2.bz2', '/nfs/locker/twitter-decahose-locker/2021/decahose.2021-02-03.p1.bz2', '/nfs/locker/twitter-decahose-locker/2021/decahose.2021-02-03.p2.bz2', '/nfs/locker/twitter-decahose-locker/2021/decahose.2021-02-04.p1.bz2', '/nfs/locker/twitter-decahose-locker/2021/decahose.2021-02-04.p2.bz2', '/nfs/locker/twitter-decahose-locker/2021/decahose.2021-02-05.p1.bz2', '/nfs/locker/twitter-decahose-locker/2021/decahose.2021-02-05.p2.bz2', '/nfs/locker/twitter-decahose-locker/2021/decahose.2021-02-06.p1.bz2', '/nfs/locker/twitter-decahose-locker/2021/decahose.2021-02-06.p2.bz2', '/nfs/locker/twitter-decahose-locker/2021/decahose.2021-02-07.p1.bz2', '/nfs/locker/twitter-decahose-locker/2021/decahose.2021-02-07.p2.bz2', '/nfs/locker/twitter-decahose-locker/2021/decahose.2021-02-08.p1.bz2', '/nfs/locker/twitter-decahose-locker/2021/decahose.2021-02-08.p2.bz2', '/nfs/locker/twitter-decahose-locker/2021/decahose.2021-02-09.p1.bz2', '/nfs/locker/twitter-decahose-locker/2021/decahose.2021-02-09.p2.bz2', '/nfs/locker/twitter-decahose-locker/2021/decahose.2021-02-10.p1.bz2', '/nfs/locker/twitter-decahose-locker/2021/decahose.2021-02-10.p2.bz2', '/nfs/locker/twitter-decahose-locker/2021/decahose.2021-02-11.p1.bz2', '/nfs/locker/twitter-decahose-locker/2021/decahose.2021-02-11.p2.bz2', '/nfs/locker/twitter-decahose-locker/2021/decahose.2021-02-12.p1.bz2', '/nfs/locker/twitter-decahose-locker/2021/decahose.2021-02-12.p2.bz2', '/nfs/locker/twitter-decahose-locker/2021/decahose.2021-02-13.p1.bz2', '/nfs/locker/twitter-decahose-locker/2021/decahose.2021-02-13.p2.bz2', '/nfs/locker/twitter-decahose-locker/2021/decahose.2021-02-14.p1.bz2', '/nfs/locker/twitter-decahose-locker/2021/decahose.2021-02-14.p2.bz2', '/nfs/locker/twitter-decahose-locker/2021/decahose.2021-02-15.p1.bz2', '/nfs/locker/twitter-decahose-locker/2021/decahose.2021-02-15.p2.bz2', '/nfs/locker/twitter-decahose-locker/2021/decahose.2021-02-16.p1.bz2', '/nfs/locker/twitter-decahose-locker/2021/decahose.2021-02-16.p2.bz2', '/nfs/locker/twitter-decahose-locker/2021/decahose.2021-02-17.p1.bz2', '/nfs/locker/twitter-decahose-locker/2021/decahose.2021-02-17.p2.bz2', '/nfs/locker/twitter-decahose-locker/2021/decahose.2021-02-18.p1.bz2', '/nfs/locker/twitter-decahose-locker/2021/decahose.2021-02-18.p2.bz2', '/nfs/locker/twitter-decahose-locker/2021/decahose.2021-02-19.p1.bz2', '/nfs/locker/twitter-decahose-locker/2021/decahose.2021-02-19.p2.bz2', '/nfs/locker/twitter-decahose-locker/2021/decahose.2021-02-20.p1.bz2', '/nfs/locker/twitter-decahose-locker/2021/decahose.2021-02-20.p2.bz2', '/nfs/locker/twitter-decahose-locker/2021/decahose.2021-02-21.p1.bz2', '/nfs/locker/twitter-decahose-locker/2021/decahose.2021-02-21.p2.bz2', '/nfs/locker/twitter-decahose-locker/2021/decahose.2021-02-22.p1.bz2', '/nfs/locker/twitter-decahose-locker/2021/decahose.2021-02-22.p2.bz2', '/nfs/locker/twitter-decahose-locker/2021/decahose.2021-02-23.p1.bz2', '/nfs/locker/twitter-decahose-locker/2021/decahose.2021-02-23.p2.bz2', '/nfs/locker/twitter-decahose-locker/2021/decahose.2021-02-24.p1.bz2', '/nfs/locker/twitter-decahose-locker/2021/decahose.2021-02-24.p2.bz2', '/nfs/locker/twitter-decahose-locker/2021/decahose.2021-02-25.p1.bz2', '/nfs/locker/twitter-decahose-locker/2021/decahose.2021-02-25.p2.bz2', '/nfs/locker/twitter-decahose-locker/2021/decahose.2021-02-26.p1.bz2', '/nfs/locker/twitter-decahose-locker/2021/decahose.2021-02-26.p2.bz2', '/nfs/locker/twitter-decahose-locker/2021/decahose.2021-02-27.p1.bz2', '/nfs/locker/twitter-decahose-locker/2021/decahose.2021-02-27.p2.bz2', '/nfs/locker/twitter-decahose-locker/2021/decahose.2021-02-28.p1.bz2', '/nfs/locker/twitter-decahose-locker/2021/decahose.2021-02-28.p2.bz2', '/nfs/locker/twitter-decahose-locker/2021/decahose.2021-03-01.p1.bz2', '/nfs/locker/twitter-decahose-locker/2021/decahose.2021-03-01.p2.bz2', '/nfs/locker/twitter-decahose-locker/2021/decahose.2021-03-02.p1.bz2', '/nfs/locker/twitter-decahose-locker/2021/decahose.2021-03-02.p2.bz2', '/nfs/locker/twitter-decahose-locker/2021/decahose.2021-03-03.p1.bz2', '/nfs/locker/twitter-decahose-locker/2021/decahose.2021-03-03.p2.bz2', '/nfs/locker/twitter-decahose-locker/2021/decahose.2021-03-04.p1.bz2', '/nfs/locker/twitter-decahose-locker/2021/decahose.2021-03-04.p2.bz2', '/nfs/locker/twitter-decahose-locker/2021/decahose.2021-03-05.p1.bz2', '/nfs/locker/twitter-decahose-locker/2021/decahose.2021-03-05.p2.bz2', '/nfs/locker/twitter-decahose-locker/2021/decahose.2021-03-06.p1.bz2', '/nfs/locker/twitter-decahose-locker/2021/decahose.2021-03-06.p2.bz2', '/nfs/locker/twitter-decahose-locker/2021/decahose.2021-03-07.p1.bz2', '/nfs/locker/twitter-decahose-locker/2021/decahose.2021-03-07.p2.bz2', '/nfs/locker/twitter-decahose-locker/2021/decahose.2021-03-08.p1.bz2', '/nfs/locker/twitter-decahose-locker/2021/decahose.2021-03-08.p2.bz2', '/nfs/locker/twitter-decahose-locker/2021/decahose.2021-03-09.p1.bz2', '/nfs/locker/twitter-decahose-locker/2021/decahose.2021-03-09.p2.bz2', '/nfs/locker/twitter-decahose-locker/2021/decahose.2021-03-10.p1.bz2', '/nfs/locker/twitter-decahose-locker/2021/decahose.2021-03-10.p2.bz2', '/nfs/locker/twitter-decahose-locker/2021/decahose.2021-03-11.p1.bz2', '/nfs/locker/twitter-decahose-locker/2021/decahose.2021-03-11.p2.bz2', '/nfs/locker/twitter-decahose-locker/2021/decahose.2021-03-12.p1.bz2', '/nfs/locker/twitter-decahose-locker/2021/decahose.2021-03-12.p2.bz2', '/nfs/locker/twitter-decahose-locker/2021/decahose.2021-03-13.p1.bz2', '/nfs/locker/twitter-decahose-locker/2021/decahose.2021-03-13.p2.bz2', '/nfs/locker/twitter-decahose-locker/2021/decahose.2021-03-14.p1.bz2', '/nfs/locker/twitter-decahose-locker/2021/decahose.2021-03-14.p2.bz2', '/nfs/locker/twitter-decahose-locker/2021/decahose.2021-03-15.p1.bz2', '/nfs/locker/twitter-decahose-locker/2021/decahose.2021-03-15.p2.bz2', '/nfs/locker/twitter-decahose-locker/2021/decahose.2021-03-16.p1.bz2', '/nfs/locker/twitter-decahose-locker/2021/decahose.2021-03-16.p2.bz2', '/nfs/locker/twitter-decahose-locker/2021/decahose.2021-03-17.p1.bz2', '/nfs/locker/twitter-decahose-locker/2021/decahose.2021-03-17.p2.bz2', '/nfs/locker/twitter-decahose-locker/2021/decahose.2021-03-18.p1.bz2', '/nfs/locker/twitter-decahose-locker/2021/decahose.2021-03-18.p2.bz2', '/nfs/locker/twitter-decahose-locker/2021/decahose.2021-03-19.p1.bz2', '/nfs/locker/twitter-decahose-locker/2021/decahose.2021-03-19.p2.bz2', '/nfs/locker/twitter-decahose-locker/2021/decahose.2021-03-20.p1.bz2', '/nfs/locker/twitter-decahose-locker/2021/decahose.2021-03-20.p2.bz2', '/nfs/locker/twitter-decahose-locker/2021/decahose.2021-03-21.p1.bz2', '/nfs/locker/twitter-decahose-locker/2021/decahose.2021-03-21.p2.bz2', '/nfs/locker/twitter-decahose-locker/2021/decahose.2021-03-22.p1.bz2', '/nfs/locker/twitter-decahose-locker/2021/decahose.2021-03-22.p2.bz2', '/nfs/locker/twitter-decahose-locker/2021/decahose.2021-03-23.p1.bz2', '/nfs/locker/twitter-decahose-locker/2021/decahose.2021-03-23.p2.bz2', '/nfs/locker/twitter-decahose-locker/2021/decahose.2021-03-24.p1.bz2', '/nfs/locker/twitter-decahose-locker/2021/decahose.2021-03-24.p2.bz2', '/nfs/locker/twitter-decahose-locker/2021/decahose.2021-03-25.p1.bz2', '/nfs/locker/twitter-decahose-locker/2021/decahose.2021-03-25.p2.bz2', '/nfs/locker/twitter-decahose-locker/2021/decahose.2021-03-26.p1.bz2', '/nfs/locker/twitter-decahose-locker/2021/decahose.2021-03-26.p2.bz2', '/nfs/locker/twitter-decahose-locker/2021/decahose.2021-03-27.p1.bz2', '/nfs/locker/twitter-decahose-locker/2021/decahose.2021-03-27.p2.bz2', '/nfs/locker/twitter-decahose-locker/2021/decahose.2021-03-28.p1.bz2', '/nfs/locker/twitter-decahose-locker/2021/decahose.2021-03-28.p2.bz2', '/nfs/locker/twitter-decahose-locker/2021/decahose.2021-03-29.p1.bz2', '/nfs/locker/twitter-decahose-locker/2021/decahose.2021-03-29.p2.bz2', '/nfs/locker/twitter-decahose-locker/2021/decahose.2021-03-30.p1.bz2', '/nfs/locker/twitter-decahose-locker/2021/decahose.2021-03-30.p2.bz2', '/nfs/locker/twitter-decahose-locker/2021/decahose.2021-03-31.p1.bz2', '/nfs/locker/twitter-decahose-locker/2021/decahose.2021-03-31.p2.bz2', '/nfs/locker/twitter-decahose-locker/2021/decahose.2021-04-01.p1.bz2', '/nfs/locker/twitter-decahose-locker/2021/decahose.2021-04-01.p2.bz2', '/nfs/locker/twitter-decahose-locker/2021/decahose.2021-04-02.p1.bz2', '/nfs/locker/twitter-decahose-locker/2021/decahose.2021-04-02.p2.bz2', '/nfs/locker/twitter-decahose-locker/2021/decahose.2021-04-03.p1.bz2', '/nfs/locker/twitter-decahose-locker/2021/decahose.2021-04-03.p2.bz2', '/nfs/locker/twitter-decahose-locker/2021/decahose.2021-04-04.p1.bz2', '/nfs/locker/twitter-decahose-locker/2021/decahose.2021-04-04.p2.bz2', '/nfs/locker/twitter-decahose-locker/2021/decahose.2021-04-05.p1.bz2', '/nfs/locker/twitter-decahose-locker/2021/decahose.2021-04-05.p2.bz2', '/nfs/locker/twitter-decahose-locker/2021/decahose.2021-04-06.p1.bz2', '/nfs/locker/twitter-decahose-locker/2021/decahose.2021-04-06.p2.bz2', '/nfs/locker/twitter-decahose-locker/2021/decahose.2021-04-07.p1.bz2', '/nfs/locker/twitter-decahose-locker/2021/decahose.2021-04-07.p2.bz2', '/nfs/locker/twitter-decahose-locker/2021/decahose.2021-04-08.p1.bz2', '/nfs/locker/twitter-decahose-locker/2021/decahose.2021-04-08.p2.bz2', '/nfs/locker/twitter-decahose-locker/2021/decahose.2021-04-09.p1.bz2', '/nfs/locker/twitter-decahose-locker/2021/decahose.2021-04-09.p2.bz2', '/nfs/locker/twitter-decahose-locker/2021/decahose.2021-04-10.p1.bz2', '/nfs/locker/twitter-decahose-locker/2021/decahose.2021-04-10.p2.bz2', '/nfs/locker/twitter-decahose-locker/2021/decahose.2021-04-11.p1.bz2', '/nfs/locker/twitter-decahose-locker/2021/decahose.2021-04-11.p2.bz2', '/nfs/locker/twitter-decahose-locker/2021/decahose.2021-04-12.p1.bz2', '/nfs/locker/twitter-decahose-locker/2021/decahose.2021-04-12.p2.bz2', '/nfs/locker/twitter-decahose-locker/2021/decahose.2021-04-13.p1.bz2', '/nfs/locker/twitter-decahose-locker/2021/decahose.2021-04-13.p2.bz2', '/nfs/locker/twitter-decahose-locker/2021/decahose.2021-04-14.p1.bz2', '/nfs/locker/twitter-decahose-locker/2021/decahose.2021-04-14.p2.bz2', '/nfs/locker/twitter-decahose-locker/2021/decahose.2021-04-15.p1.bz2', '/nfs/locker/twitter-decahose-locker/2021/decahose.2021-04-15.p2.bz2', '/nfs/locker/twitter-decahose-locker/2021/decahose.2021-04-16.p1.bz2', '/nfs/locker/twitter-decahose-locker/2021/decahose.2021-04-16.p2.bz2', '/nfs/locker/twitter-decahose-locker/2021/decahose.2021-04-17.p1.bz2', '/nfs/locker/twitter-decahose-locker/2021/decahose.2021-04-17.p2.bz2', '/nfs/locker/twitter-decahose-locker/2021/decahose.2021-04-18.p1.bz2', '/nfs/locker/twitter-decahose-locker/2021/decahose.2021-04-18.p2.bz2', '/nfs/locker/twitter-decahose-locker/2021/decahose.2021-04-19.p1.bz2', '/nfs/locker/twitter-decahose-locker/2021/decahose.2021-04-19.p2.bz2', '/nfs/locker/twitter-decahose-locker/2021/decahose.2021-04-20.p1.bz2', '/nfs/locker/twitter-decahose-locker/2021/decahose.2021-04-20.p2.bz2', '/nfs/locker/twitter-decahose-locker/2021/decahose.2021-04-21.p1.bz2', '/nfs/locker/twitter-decahose-locker/2021/decahose.2021-04-21.p2.bz2', '/nfs/locker/twitter-decahose-locker/2021/decahose.2021-04-22.p1.bz2', '/nfs/locker/twitter-decahose-locker/2021/decahose.2021-04-22.p2.bz2', '/nfs/locker/twitter-decahose-locker/2021/decahose.2021-04-23.p1.bz2', '/nfs/locker/twitter-decahose-locker/2021/decahose.2021-04-23.p2.bz2', '/nfs/locker/twitter-decahose-locker/2021/decahose.2021-04-24.p1.bz2', '/nfs/locker/twitter-decahose-locker/2021/decahose.2021-04-24.p2.bz2', '/nfs/locker/twitter-decahose-locker/2021/decahose.2021-04-25.p1.bz2', '/nfs/locker/twitter-decahose-locker/2021/decahose.2021-04-25.p2.bz2', '/nfs/locker/twitter-decahose-locker/2021/decahose.2021-04-26.p1.bz2', '/nfs/locker/twitter-decahose-locker/2021/decahose.2021-04-26.p2.bz2', '/nfs/locker/twitter-decahose-locker/2021/decahose.2021-04-27.p1.bz2', '/nfs/locker/twitter-decahose-locker/2021/decahose.2021-04-27.p2.bz2', '/nfs/locker/twitter-decahose-locker/2021/decahose.2021-04-28.p1.bz2', '/nfs/locker/twitter-decahose-locker/2021/decahose.2021-04-28.p2.bz2', '/nfs/locker/twitter-decahose-locker/2021/decahose.2021-04-29.p1.bz2', '/nfs/locker/twitter-decahose-locker/2021/decahose.2021-04-29.p2.bz2', '/nfs/locker/twitter-decahose-locker/2021/decahose.2021-04-30.p1.bz2', '/nfs/locker/twitter-decahose-locker/2021/decahose.2021-04-30.p2.bz2', '/nfs/locker/twitter-decahose-locker/2021/decahose.2021-05-01.p1.bz2', '/nfs/locker/twitter-decahose-locker/2021/decahose.2021-05-01.p2.bz2', '/nfs/locker/twitter-decahose-locker/2021/decahose.2021-05-02.p1.bz2', '/nfs/locker/twitter-decahose-locker/2021/decahose.2021-05-02.p2.bz2', '/nfs/locker/twitter-decahose-locker/2021/decahose.2021-05-03.p1.bz2', '/nfs/locker/twitter-decahose-locker/2021/decahose.2021-05-03.p2.bz2', '/nfs/locker/twitter-decahose-locker/2021/decahose.2021-05-04.p1.bz2', '/nfs/locker/twitter-decahose-locker/2021/decahose.2021-05-04.p2.bz2', '/nfs/locker/twitter-decahose-locker/2021/decahose.2021-05-05.p1.bz2', '/nfs/locker/twitter-decahose-locker/2021/decahose.2021-05-05.p2.bz2', '/nfs/locker/twitter-decahose-locker/2021/decahose.2021-05-06.p1.bz2', '/nfs/locker/twitter-decahose-locker/2021/decahose.2021-05-06.p2.bz2', '/nfs/locker/twitter-decahose-locker/2021/decahose.2021-05-07.p1.bz2', '/nfs/locker/twitter-decahose-locker/2021/decahose.2021-05-07.p2.bz2', '/nfs/locker/twitter-decahose-locker/2021/decahose.2021-05-08.p1.bz2', '/nfs/locker/twitter-decahose-locker/2021/decahose.2021-05-08.p2.bz2', '/nfs/locker/twitter-decahose-locker/2021/decahose.2021-05-09.p1.bz2', '/nfs/locker/twitter-decahose-locker/2021/decahose.2021-05-09.p2.bz2', '/nfs/locker/twitter-decahose-locker/2021/decahose.2021-05-10.p1.bz2', '/nfs/locker/twitter-decahose-locker/2021/decahose.2021-05-10.p2.bz2', '/nfs/locker/twitter-decahose-locker/2021/decahose.2021-05-11.p1.bz2', '/nfs/locker/twitter-decahose-locker/2021/decahose.2021-05-11.p2.bz2', '/nfs/locker/twitter-decahose-locker/2021/decahose.2021-05-12.p1.bz2', '/nfs/locker/twitter-decahose-locker/2021/decahose.2021-05-12.p2.bz2', '/nfs/locker/twitter-decahose-locker/2021/decahose.2021-05-13.p1.bz2', '/nfs/locker/twitter-decahose-locker/2021/decahose.2021-05-13.p2.bz2', '/nfs/locker/twitter-decahose-locker/2021/decahose.2021-05-14.p1.bz2', '/nfs/locker/twitter-decahose-locker/2021/decahose.2021-05-14.p2.bz2', '/nfs/locker/twitter-decahose-locker/2021/decahose.2021-05-15.p1.bz2', '/nfs/locker/twitter-decahose-locker/2021/decahose.2021-05-15.p2.bz2', '/nfs/locker/twitter-decahose-locker/2021/decahose.2021-05-16.p1.bz2', '/nfs/locker/twitter-decahose-locker/2021/decahose.2021-05-16.p2.bz2', '/nfs/locker/twitter-decahose-locker/2021/decahose.2021-05-17.p1.bz2', '/nfs/locker/twitter-decahose-locker/2021/decahose.2021-05-17.p2.bz2', '/nfs/locker/twitter-decahose-locker/2021/decahose.2021-05-18.p1.bz2', '/nfs/locker/twitter-decahose-locker/2021/decahose.2021-05-18.p2.bz2', '/nfs/locker/twitter-decahose-locker/2021/decahose.2021-05-19.p1.bz2', '/nfs/locker/twitter-decahose-locker/2021/decahose.2021-05-19.p2.bz2', '/nfs/locker/twitter-decahose-locker/2021/decahose.2021-05-20.p1.bz2', '/nfs/locker/twitter-decahose-locker/2021/decahose.2021-05-20.p2.bz2', '/nfs/locker/twitter-decahose-locker/2021/decahose.2021-05-21.p1.bz2', '/nfs/locker/twitter-decahose-locker/2021/decahose.2021-05-21.p2.bz2', '/nfs/locker/twitter-decahose-locker/2021/decahose.2021-05-22.p1.bz2', '/nfs/locker/twitter-decahose-locker/2021/decahose.2021-05-22.p2.bz2', '/nfs/locker/twitter-decahose-locker/2021/decahose.2021-05-23.p1.bz2', '/nfs/locker/twitter-decahose-locker/2021/decahose.2021-05-23.p2.bz2', '/nfs/locker/twitter-decahose-locker/2021/decahose.2021-05-24.p1.bz2', '/nfs/locker/twitter-decahose-locker/2021/decahose.2021-05-24.p2.bz2', '/nfs/locker/twitter-decahose-locker/2021/decahose.2021-05-25.p1.bz2', '/nfs/locker/twitter-decahose-locker/2021/decahose.2021-05-25.p2.bz2', '/nfs/locker/twitter-decahose-locker/2021/decahose.2021-05-26.p1.bz2', '/nfs/locker/twitter-decahose-locker/2021/decahose.2021-05-26.p2.bz2', '/nfs/locker/twitter-decahose-locker/2021/decahose.2021-05-27.p1.bz2', '/nfs/locker/twitter-decahose-locker/2021/decahose.2021-05-27.p2.bz2', '/nfs/locker/twitter-decahose-locker/2021/decahose.2021-05-28.p1.bz2', '/nfs/locker/twitter-decahose-locker/2021/decahose.2021-05-28.p2.bz2', '/nfs/locker/twitter-decahose-locker/2021/decahose.2021-05-29.p1.bz2', '/nfs/locker/twitter-decahose-locker/2021/decahose.2021-05-29.p2.bz2', '/nfs/locker/twitter-decahose-locker/2021/decahose.2021-05-30.p1.bz2', '/nfs/locker/twitter-decahose-locker/2021/decahose.2021-05-30.p2.bz2', '/nfs/locker/twitter-decahose-locker/2021/decahose.2021-05-31.p1.bz2', '/nfs/locker/twitter-decahose-locker/2021/decahose.2021-05-31.p2.bz2', '/nfs/locker/twitter-decahose-locker/2021/decahose.2021-06-01.p1.bz2', '/nfs/locker/twitter-decahose-locker/2021/decahose.2021-06-01.p2.bz2', '/nfs/locker/twitter-decahose-locker/2021/decahose.2021-06-02.p1.bz2', '/nfs/locker/twitter-decahose-locker/2021/decahose.2021-06-02.p2.bz2', '/nfs/locker/twitter-decahose-locker/2021/decahose.2021-06-03.p1.bz2', '/nfs/locker/twitter-decahose-locker/2021/decahose.2021-06-03.p2.bz2', '/nfs/locker/twitter-decahose-locker/2021/decahose.2021-06-04.p1.bz2', '/nfs/locker/twitter-decahose-locker/2021/decahose.2021-06-04.p2.bz2', '/nfs/locker/twitter-decahose-locker/2021/decahose.2021-06-05.p1.bz2', '/nfs/locker/twitter-decahose-locker/2021/decahose.2021-06-05.p2.bz2', '/nfs/locker/twitter-decahose-locker/2021/decahose.2021-06-06.p1.bz2', '/nfs/locker/twitter-decahose-locker/2021/decahose.2021-06-06.p2.bz2', '/nfs/locker/twitter-decahose-locker/2021/decahose.2021-06-07.p1.bz2', '/nfs/locker/twitter-decahose-locker/2021/decahose.2021-06-07.p2.bz2', '/nfs/locker/twitter-decahose-locker/2021/decahose.2021-06-08.p1.bz2', '/nfs/locker/twitter-decahose-locker/2021/decahose.2021-06-08.p2.bz2', '/nfs/locker/twitter-decahose-locker/2021/decahose.2021-06-09.p1.bz2', '/nfs/locker/twitter-decahose-locker/2021/decahose.2021-06-09.p2.bz2', '/nfs/locker/twitter-decahose-locker/2021/decahose.2021-06-10.p1.bz2', '/nfs/locker/twitter-decahose-locker/2021/decahose.2021-06-10.p2.bz2', '/nfs/locker/twitter-decahose-locker/2021/decahose.2021-06-11.p1.bz2', '/nfs/locker/twitter-decahose-locker/2021/decahose.2021-06-11.p2.bz2', '/nfs/locker/twitter-decahose-locker/2021/decahose.2021-06-12.p1.bz2', '/nfs/locker/twitter-decahose-locker/2021/decahose.2021-06-12.p2.bz2', '/nfs/locker/twitter-decahose-locker/2021/decahose.2021-06-13.p1.bz2', '/nfs/locker/twitter-decahose-locker/2021/decahose.2021-06-13.p2.bz2', '/nfs/locker/twitter-decahose-locker/2021/decahose.2021-06-14.p1.bz2', '/nfs/locker/twitter-decahose-locker/2021/decahose.2021-06-14.p2.bz2', '/nfs/locker/twitter-decahose-locker/2021/decahose.2021-06-15.p1.bz2', '/nfs/locker/twitter-decahose-locker/2021/decahose.2021-06-15.p2.bz2', '/nfs/locker/twitter-decahose-locker/2021/decahose.2021-06-16.p1.bz2', '/nfs/locker/twitter-decahose-locker/2021/decahose.2021-06-16.p2.bz2', '/nfs/locker/twitter-decahose-locker/2021/decahose.2021-06-17.p1.bz2', '/nfs/locker/twitter-decahose-locker/2021/decahose.2021-06-17.p2.bz2', '/nfs/locker/twitter-decahose-locker/2021/decahose.2021-06-18.p1.bz2', '/nfs/locker/twitter-decahose-locker/2021/decahose.2021-06-18.p2.bz2', '/nfs/locker/twitter-decahose-locker/2021/decahose.2021-06-19.p1.bz2', '/nfs/locker/twitter-decahose-locker/2021/decahose.2021-06-19.p2.bz2', '/nfs/locker/twitter-decahose-locker/2021/decahose.2021-06-20.p1.bz2', '/nfs/locker/twitter-decahose-locker/2021/decahose.2021-06-20.p2.bz2', '/nfs/locker/twitter-decahose-locker/2021/decahose.2021-06-21.p1.bz2', '/nfs/locker/twitter-decahose-locker/2021/decahose.2021-06-21.p2.bz2', '/nfs/locker/twitter-decahose-locker/2021/decahose.2021-06-22.p1.bz2', '/nfs/locker/twitter-decahose-locker/2021/decahose.2021-06-22.p2.bz2', '/nfs/locker/twitter-decahose-locker/2021/decahose.2021-06-23.p1.bz2', '/nfs/locker/twitter-decahose-locker/2021/decahose.2021-06-23.p2.bz2', '/nfs/locker/twitter-decahose-locker/2021/decahose.2021-06-24.p1.bz2', '/nfs/locker/twitter-decahose-locker/2021/decahose.2021-06-24.p2.bz2', '/nfs/locker/twitter-decahose-locker/2021/decahose.2021-06-25.p1.bz2', '/nfs/locker/twitter-decahose-locker/2021/decahose.2021-06-25.p2.bz2', '/nfs/locker/twitter-decahose-locker/2021/decahose.2021-06-26.p1.bz2', '/nfs/locker/twitter-decahose-locker/2021/decahose.2021-06-26.p2.bz2', '/nfs/locker/twitter-decahose-locker/2021/decahose.2021-06-27.p1.bz2', '/nfs/locker/twitter-decahose-locker/2021/decahose.2021-06-27.p2.bz2', '/nfs/locker/twitter-decahose-locker/2021/decahose.2021-06-28.p1.bz2', '/nfs/locker/twitter-decahose-locker/2021/decahose.2021-06-28.p2.bz2', '/nfs/locker/twitter-decahose-locker/2021/decahose.2021-06-29.p1.bz2', '/nfs/locker/twitter-decahose-locker/2021/decahose.2021-06-29.p2.bz2', '/nfs/locker/twitter-decahose-locker/2021/decahose.2021-06-30.p1.bz2', '/nfs/locker/twitter-decahose-locker/2021/decahose.2021-06-30.p2.bz2', '/nfs/locker/twitter-decahose-locker/2021/decahose.2021-07-01.p1.bz2', '/nfs/locker/twitter-decahose-locker/2021/decahose.2021-07-01.p2.bz2', '/nfs/locker/twitter-decahose-locker/2021/decahose.2021-07-02.p1.bz2', '/nfs/locker/twitter-decahose-locker/2021/decahose.2021-07-02.p2.bz2', '/nfs/locker/twitter-decahose-locker/2021/decahose.2021-07-03.p1.bz2', '/nfs/locker/twitter-decahose-locker/2021/decahose.2021-07-03.p2.bz2', '/nfs/locker/twitter-decahose-locker/2021/decahose.2021-07-04.p1.bz2', '/nfs/locker/twitter-decahose-locker/2021/decahose.2021-07-04.p2.bz2', '/nfs/locker/twitter-decahose-locker/2021/decahose.2021-07-05.p1.bz2', '/nfs/locker/twitter-decahose-locker/2021/decahose.2021-07-05.p2.bz2', '/nfs/locker/twitter-decahose-locker/2021/decahose.2021-07-06.p1.bz2', '/nfs/locker/twitter-decahose-locker/2021/decahose.2021-07-06.p2.bz2', '/nfs/locker/twitter-decahose-locker/2021/decahose.2021-07-07.p1.bz2', '/nfs/locker/twitter-decahose-locker/2021/decahose.2021-07-07.p2.bz2', '/nfs/locker/twitter-decahose-locker/2021/decahose.2021-07-08.p1.bz2', '/nfs/locker/twitter-decahose-locker/2021/decahose.2021-07-08.p2.bz2', '/nfs/locker/twitter-decahose-locker/2021/decahose.2021-07-09.p1.bz2', '/nfs/locker/twitter-decahose-locker/2021/decahose.2021-07-09.p2.bz2', '/nfs/locker/twitter-decahose-locker/2021/decahose.2021-07-10.p1.bz2', '/nfs/locker/twitter-decahose-locker/2021/decahose.2021-07-10.p2.bz2', '/nfs/locker/twitter-decahose-locker/2021/decahose.2021-07-11.p1.bz2', '/nfs/locker/twitter-decahose-locker/2021/decahose.2021-07-11.p2.bz2', '/nfs/locker/twitter-decahose-locker/2021/decahose.2021-07-12.p1.bz2', '/nfs/locker/twitter-decahose-locker/2021/decahose.2021-07-12.p2.bz2', '/nfs/locker/twitter-decahose-locker/2021/decahose.2021-07-13.p1.bz2', '/nfs/locker/twitter-decahose-locker/2021/decahose.2021-07-13.p2.bz2', '/nfs/locker/twitter-decahose-locker/2021/decahose.2021-07-14.p1.bz2', '/nfs/locker/twitter-decahose-locker/2021/decahose.2021-07-14.p2.bz2', '/nfs/locker/twitter-decahose-locker/2021/decahose.2021-07-15.p1.bz2', '/nfs/locker/twitter-decahose-locker/2021/decahose.2021-07-15.p2.bz2', '/nfs/locker/twitter-decahose-locker/2021/decahose.2021-07-16.p1.bz2', '/nfs/locker/twitter-decahose-locker/2021/decahose.2021-07-16.p2.bz2', '/nfs/locker/twitter-decahose-locker/2021/decahose.2021-07-17.p1.bz2', '/nfs/locker/twitter-decahose-locker/2021/decahose.2021-07-17.p2.bz2', '/nfs/locker/twitter-decahose-locker/2021/decahose.2021-07-18.p1.bz2', '/nfs/locker/twitter-decahose-locker/2021/decahose.2021-07-18.p2.bz2', '/nfs/locker/twitter-decahose-locker/2021/decahose.2021-07-19.p1.bz2', '/nfs/locker/twitter-decahose-locker/2021/decahose.2021-07-19.p2.bz2', '/nfs/locker/twitter-decahose-locker/2021/decahose.2021-07-20.p1.bz2', '/nfs/locker/twitter-decahose-locker/2021/decahose.2021-07-20.p2.bz2', '/nfs/locker/twitter-decahose-locker/2021/decahose.2021-07-21.p1.bz2', '/nfs/locker/twitter-decahose-locker/2021/decahose.2021-07-21.p2.bz2', '/nfs/locker/twitter-decahose-locker/2021/decahose.2021-07-22.p1.bz2', '/nfs/locker/twitter-decahose-locker/2021/decahose.2021-07-22.p2.bz2', '/nfs/locker/twitter-decahose-locker/2021/decahose.2021-07-23.p1.bz2', '/nfs/locker/twitter-decahose-locker/2021/decahose.2021-07-23.p2.bz2', '/nfs/locker/twitter-decahose-locker/2021/decahose.2021-07-24.p1.bz2', '/nfs/locker/twitter-decahose-locker/2021/decahose.2021-07-24.p2.bz2', '/nfs/locker/twitter-decahose-locker/2021/decahose.2021-07-25.p1.bz2', '/nfs/locker/twitter-decahose-locker/2021/decahose.2021-07-25.p2.bz2', '/nfs/locker/twitter-decahose-locker/2021/decahose.2021-07-26.p1.bz2', '/nfs/locker/twitter-decahose-locker/2021/decahose.2021-07-26.p2.bz2', '/nfs/locker/twitter-decahose-locker/2021/decahose.2021-07-27.p1.bz2', '/nfs/locker/twitter-decahose-locker/2021/decahose.2021-07-27.p2.bz2', '/nfs/locker/twitter-decahose-locker/2021/decahose.2021-07-28.p1.bz2', '/nfs/locker/twitter-decahose-locker/2021/decahose.2021-07-28.p2.bz2', '/nfs/locker/twitter-decahose-locker/2021/decahose.2021-07-29.p1.bz2', '/nfs/locker/twitter-decahose-locker/2021/decahose.2021-07-29.p2.bz2', '/nfs/locker/twitter-decahose-locker/2021/decahose.2021-07-30.p1.bz2', '/nfs/locker/twitter-decahose-locker/2021/decahose.2021-07-30.p2.bz2', '/nfs/locker/twitter-decahose-locker/2021/decahose.2021-07-31.p1.bz2', '/nfs/locker/twitter-decahose-locker/2021/decahose.2021-07-31.p2.bz2', '/nfs/locker/twitter-decahose-locker/2021/decahose.2021-08-01.p1.bz2', '/nfs/locker/twitter-decahose-locker/2021/decahose.2021-08-01.p2.bz2', '/nfs/locker/twitter-decahose-locker/2021/decahose.2021-08-02.p1.bz2', '/nfs/locker/twitter-decahose-locker/2021/decahose.2021-08-02.p2.bz2', '/nfs/locker/twitter-decahose-locker/2021/decahose.2021-08-03.p1.bz2', '/nfs/locker/twitter-decahose-locker/2021/decahose.2021-08-03.p2.bz2', '/nfs/locker/twitter-decahose-locker/2021/decahose.2021-08-04.p1.bz2', '/nfs/locker/twitter-decahose-locker/2021/decahose.2021-08-04.p2.bz2', '/nfs/locker/twitter-decahose-locker/2021/decahose.2021-08-05.p1.bz2', '/nfs/locker/twitter-decahose-locker/2021/decahose.2021-08-05.p2.bz2', '/nfs/locker/twitter-decahose-locker/2021/decahose.2021-08-06.p1.bz2', '/nfs/locker/twitter-decahose-locker/2021/decahose.2021-08-06.p2.bz2', '/nfs/locker/twitter-decahose-locker/2021/decahose.2021-08-07.p1.bz2', '/nfs/locker/twitter-decahose-locker/2021/decahose.2021-08-07.p2.bz2', '/nfs/locker/twitter-decahose-locker/2021/decahose.2021-08-08.p1.bz2', '/nfs/locker/twitter-decahose-locker/2021/decahose.2021-08-08.p2.bz2', '/nfs/locker/twitter-decahose-locker/2021/decahose.2021-08-09.p1.bz2', '/nfs/locker/twitter-decahose-locker/2021/decahose.2021-08-09.p2.bz2', '/nfs/locker/twitter-decahose-locker/2021/decahose.2021-08-10.p1.bz2', '/nfs/locker/twitter-decahose-locker/2021/decahose.2021-08-10.p2.bz2', '/nfs/locker/twitter-decahose-locker/2021/decahose.2021-08-11.p1.bz2', '/nfs/locker/twitter-decahose-locker/2021/decahose.2021-08-11.p2.bz2', '/nfs/locker/twitter-decahose-locker/2021/decahose.2021-08-12.p1.bz2', '/nfs/locker/twitter-decahose-locker/2021/decahose.2021-08-12.p2.bz2', '/nfs/locker/twitter-decahose-locker/2021/decahose.2021-08-13.p1.bz2', '/nfs/locker/twitter-decahose-locker/2021/decahose.2021-08-13.p2.bz2', '/nfs/locker/twitter-decahose-locker/2021/decahose.2021-08-14.p1.bz2', '/nfs/locker/twitter-decahose-locker/2021/decahose.2021-08-14.p2.bz2', '/nfs/locker/twitter-decahose-locker/2021/decahose.2021-08-15.p1.bz2', '/nfs/locker/twitter-decahose-locker/2021/decahose.2021-08-15.p2.bz2', '/nfs/locker/twitter-decahose-locker/2021/decahose.2021-08-16.p1.bz2', '/nfs/locker/twitter-decahose-locker/2021/decahose.2021-08-16.p2.bz2', '/nfs/locker/twitter-decahose-locker/2021/decahose.2021-08-17.p1.bz2', '/nfs/locker/twitter-decahose-locker/2021/decahose.2021-08-17.p2.bz2', '/nfs/locker/twitter-decahose-locker/2021/decahose.2021-08-18.p1.bz2', '/nfs/locker/twitter-decahose-locker/2021/decahose.2021-08-18.p2.bz2', '/nfs/locker/twitter-decahose-locker/2021/decahose.2021-08-19.p1.bz2', '/nfs/locker/twitter-decahose-locker/2021/decahose.2021-08-19.p2.bz2', '/nfs/locker/twitter-decahose-locker/2021/decahose.2021-08-20.p1.bz2', '/nfs/locker/twitter-decahose-locker/2021/decahose.2021-08-20.p2.bz2', '/nfs/locker/twitter-decahose-locker/2021/decahose.2021-08-21.p1.bz2', '/nfs/locker/twitter-decahose-locker/2021/decahose.2021-08-21.p2.bz2', '/nfs/locker/twitter-decahose-locker/2021/decahose.2021-08-22.p1.bz2', '/nfs/locker/twitter-decahose-locker/2021/decahose.2021-08-22.p2.bz2', '/nfs/locker/twitter-decahose-locker/2021/decahose.2021-08-23.p1.bz2', '/nfs/locker/twitter-decahose-locker/2021/decahose.2021-08-23.p2.bz2', '/nfs/locker/twitter-decahose-locker/2021/decahose.2021-08-24.p1.bz2', '/nfs/locker/twitter-decahose-locker/2021/decahose.2021-08-24.p2.bz2', '/nfs/locker/twitter-decahose-locker/2021/decahose.2021-08-25.p1.bz2', '/nfs/locker/twitter-decahose-locker/2021/decahose.2021-08-25.p2.bz2', '/nfs/locker/twitter-decahose-locker/2021/decahose.2021-08-26.p1.bz2', '/nfs/locker/twitter-decahose-locker/2021/decahose.2021-08-26.p2.bz2', '/nfs/locker/twitter-decahose-locker/2021/decahose.2021-08-27.p1.bz2', '/nfs/locker/twitter-decahose-locker/2021/decahose.2021-08-27.p2.bz2', '/nfs/locker/twitter-decahose-locker/2021/decahose.2021-08-28.p1.bz2', '/nfs/locker/twitter-decahose-locker/2021/decahose.2021-08-28.p2.bz2', '/nfs/locker/twitter-decahose-locker/2021/decahose.2021-08-29.p1.bz2', '/nfs/locker/twitter-decahose-locker/2021/decahose.2021-08-29.p2.bz2', '/nfs/locker/twitter-decahose-locker/2021/decahose.2021-08-30.p1.bz2', '/nfs/locker/twitter-decahose-locker/2021/decahose.2021-08-30.p2.bz2', '/nfs/locker/twitter-decahose-locker/2021/decahose.2021-08-31.p1.bz2', '/nfs/locker/twitter-decahose-locker/2021/decahose.2021-08-31.p2.bz2', '/nfs/locker/twitter-decahose-locker/2021/decahose.2021-09-01.p1.bz2', '/nfs/locker/twitter-decahose-locker/2021/decahose.2021-09-01.p2.bz2', '/nfs/locker/twitter-decahose-locker/2021/decahose.2021-09-02.p1.bz2', '/nfs/locker/twitter-decahose-locker/2021/decahose.2021-09-02.p2.bz2', '/nfs/locker/twitter-decahose-locker/2021/decahose.2021-09-03.p1.bz2', '/nfs/locker/twitter-decahose-locker/2021/decahose.2021-09-03.p2.bz2', '/nfs/locker/twitter-decahose-locker/2021/decahose.2021-09-04.p1.bz2', '/nfs/locker/twitter-decahose-locker/2021/decahose.2021-09-04.p2.bz2', '/nfs/locker/twitter-decahose-locker/2021/decahose.2021-09-05.p1.bz2', '/nfs/locker/twitter-decahose-locker/2021/decahose.2021-09-05.p2.bz2', '/nfs/locker/twitter-decahose-locker/2021/decahose.2021-09-06.p1.bz2', '/nfs/locker/twitter-decahose-locker/2021/decahose.2021-09-06.p2.bz2', '/nfs/locker/twitter-decahose-locker/2021/decahose.2021-09-07.p1.bz2', '/nfs/locker/twitter-decahose-locker/2021/decahose.2021-09-07.p2.bz2', '/nfs/locker/twitter-decahose-locker/2021/decahose.2021-09-08.p1.bz2', '/nfs/locker/twitter-decahose-locker/2021/decahose.2021-09-08.p2.bz2', '/nfs/locker/twitter-decahose-locker/2021/decahose.2021-09-09.p1.bz2', '/nfs/locker/twitter-decahose-locker/2021/decahose.2021-09-09.p2.bz2', '/nfs/locker/twitter-decahose-locker/2021/decahose.2021-09-10.p1.bz2', '/nfs/locker/twitter-decahose-locker/2021/decahose.2021-09-10.p2.bz2', '/nfs/locker/twitter-decahose-locker/2021/decahose.2021-09-11.p1.bz2', '/nfs/locker/twitter-decahose-locker/2021/decahose.2021-09-11.p2.bz2', '/nfs/locker/twitter-decahose-locker/2021/decahose.2021-09-12.p1.bz2', '/nfs/locker/twitter-decahose-locker/2021/decahose.2021-09-12.p2.bz2', '/nfs/locker/twitter-decahose-locker/2021/decahose.2021-09-13.p1.bz2', '/nfs/locker/twitter-decahose-locker/2021/decahose.2021-09-13.p2.bz2', '/nfs/locker/twitter-decahose-locker/2021/decahose.2021-09-14.p1.bz2', '/nfs/locker/twitter-decahose-locker/2021/decahose.2021-09-14.p2.bz2', '/nfs/locker/twitter-decahose-locker/2021/decahose.2021-09-15.p1.bz2', '/nfs/locker/twitter-decahose-locker/2021/decahose.2021-09-15.p2.bz2', '/nfs/locker/twitter-decahose-locker/2021/decahose.2021-09-16.p1.bz2', '/nfs/locker/twitter-decahose-locker/2021/decahose.2021-09-16.p2.bz2', '/nfs/locker/twitter-decahose-locker/2021/decahose.2021-09-17.p1.bz2', '/nfs/locker/twitter-decahose-locker/2021/decahose.2021-09-17.p2.bz2', '/nfs/locker/twitter-decahose-locker/2021/decahose.2021-09-18.p1.bz2', '/nfs/locker/twitter-decahose-locker/2021/decahose.2021-09-18.p2.bz2', '/nfs/locker/twitter-decahose-locker/2021/decahose.2021-09-19.p1.bz2', '/nfs/locker/twitter-decahose-locker/2021/decahose.2021-09-19.p2.bz2', '/nfs/locker/twitter-decahose-locker/2021/decahose.2021-09-20.p1.bz2', '/nfs/locker/twitter-decahose-locker/2021/decahose.2021-09-20.p2.bz2', '/nfs/locker/twitter-decahose-locker/2021/decahose.2021-09-21.p1.bz2', '/nfs/locker/twitter-decahose-locker/2021/decahose.2021-09-21.p2.bz2', '/nfs/locker/twitter-decahose-locker/2021/decahose.2021-09-22.p1.bz2', '/nfs/locker/twitter-decahose-locker/2021/decahose.2021-09-22.p2.bz2', '/nfs/locker/twitter-decahose-locker/2021/decahose.2021-09-23.p1.bz2', '/nfs/locker/twitter-decahose-locker/2021/decahose.2021-09-23.p2.bz2', '/nfs/locker/twitter-decahose-locker/2021/decahose.2021-09-24.p1.bz2', '/nfs/locker/twitter-decahose-locker/2021/decahose.2021-09-24.p2.bz2', '/nfs/locker/twitter-decahose-locker/2021/decahose.2021-09-25.p1.bz2', '/nfs/locker/twitter-decahose-locker/2021/decahose.2021-09-25.p2.bz2', '/nfs/locker/twitter-decahose-locker/2021/decahose.2021-09-26.p1.bz2', '/nfs/locker/twitter-decahose-locker/2021/decahose.2021-09-26.p2.bz2', '/nfs/locker/twitter-decahose-locker/2021/decahose.2021-09-27.p1.bz2', '/nfs/locker/twitter-decahose-locker/2021/decahose.2021-09-27.p2.bz2', '/nfs/locker/twitter-decahose-locker/2021/decahose.2021-09-28.p1.bz2', '/nfs/locker/twitter-decahose-locker/2021/decahose.2021-09-28.p2.bz2', '/nfs/locker/twitter-decahose-locker/2021/decahose.2021-09-29.p1.bz2', '/nfs/locker/twitter-decahose-locker/2021/decahose.2021-09-29.p2.bz2', '/nfs/locker/twitter-decahose-locker/2021/decahose.2021-09-30.p1.bz2', '/nfs/locker/twitter-decahose-locker/2021/decahose.2021-09-30.p2.bz2', '/nfs/locker/twitter-decahose-locker/2021/decahose.2021-10-01.p1.bz2', '/nfs/locker/twitter-decahose-locker/2021/decahose.2021-10-01.p2.bz2', '/nfs/locker/twitter-decahose-locker/2021/decahose.2021-10-02.p1.bz2', '/nfs/locker/twitter-decahose-locker/2021/decahose.2021-10-02.p2.bz2', '/nfs/locker/twitter-decahose-locker/2021/decahose.2021-10-03.p1.bz2', '/nfs/locker/twitter-decahose-locker/2021/decahose.2021-10-03.p2.bz2', '/nfs/locker/twitter-decahose-locker/2021/decahose.2021-10-04.p1.bz2', '/nfs/locker/twitter-decahose-locker/2021/decahose.2021-10-04.p2.bz2', '/nfs/locker/twitter-decahose-locker/2021/decahose.2021-10-05.p1.bz2', '/nfs/locker/twitter-decahose-locker/2021/decahose.2021-10-05.p2.bz2', '/nfs/locker/twitter-decahose-locker/2021/decahose.2021-10-06.p1.bz2', '/nfs/locker/twitter-decahose-locker/2021/decahose.2021-10-06.p2.bz2', '/nfs/locker/twitter-decahose-locker/2021/decahose.2021-10-07.p1.bz2', '/nfs/locker/twitter-decahose-locker/2021/decahose.2021-10-07.p2.bz2', '/nfs/locker/twitter-decahose-locker/2021/decahose.2021-10-08.p1.bz2', '/nfs/locker/twitter-decahose-locker/2021/decahose.2021-10-08.p2.bz2', '/nfs/locker/twitter-decahose-locker/2021/decahose.2021-10-09.p1.bz2', '/nfs/locker/twitter-decahose-locker/2021/decahose.2021-10-09.p2.bz2', '/nfs/locker/twitter-decahose-locker/2021/decahose.2021-10-10.p1.bz2', '/nfs/locker/twitter-decahose-locker/2021/decahose.2021-10-10.p2.bz2', '/nfs/locker/twitter-decahose-locker/2021/decahose.2021-10-11.p1.bz2', '/nfs/locker/twitter-decahose-locker/2021/decahose.2021-10-11.p2.bz2', '/nfs/locker/twitter-decahose-locker/2021/decahose.2021-10-12.p1.bz2', '/nfs/locker/twitter-decahose-locker/2021/decahose.2021-10-12.p2.bz2', '/nfs/locker/twitter-decahose-locker/2021/decahose.2021-10-13.p1.bz2', '/nfs/locker/twitter-decahose-locker/2021/decahose.2021-10-13.p2.bz2', '/nfs/locker/twitter-decahose-locker/2021/decahose.2021-10-14.p1.bz2', '/nfs/locker/twitter-decahose-locker/2021/decahose.2021-10-14.p2.bz2', '/nfs/locker/twitter-decahose-locker/2021/decahose.2021-10-15.p1.bz2', '/nfs/locker/twitter-decahose-locker/2021/decahose.2021-10-15.p2.bz2', '/nfs/locker/twitter-decahose-locker/2021/decahose.2021-10-16.p1.bz2', '/nfs/locker/twitter-decahose-locker/2021/decahose.2021-10-16.p2.bz2', '/nfs/locker/twitter-decahose-locker/2021/decahose.2021-10-17.p1.bz2', '/nfs/locker/twitter-decahose-locker/2021/decahose.2021-10-17.p2.bz2', '/nfs/locker/twitter-decahose-locker/2021/decahose.2021-10-18.p1.bz2', '/nfs/locker/twitter-decahose-locker/2021/decahose.2021-10-18.p2.bz2', '/nfs/locker/twitter-decahose-locker/2021/decahose.2021-10-19.p1.bz2', '/nfs/locker/twitter-decahose-locker/2021/decahose.2021-10-19.p2.bz2', '/nfs/locker/twitter-decahose-locker/2021/decahose.2021-10-20.p1.bz2', '/nfs/locker/twitter-decahose-locker/2021/decahose.2021-10-20.p2.bz2', '/nfs/locker/twitter-decahose-locker/2021/decahose.2021-10-21.p1.bz2', '/nfs/locker/twitter-decahose-locker/2021/decahose.2021-10-21.p2.bz2', '/nfs/locker/twitter-decahose-locker/2021/decahose.2021-10-22.p1.bz2', '/nfs/locker/twitter-decahose-locker/2021/decahose.2021-10-22.p2.bz2', '/nfs/locker/twitter-decahose-locker/2021/decahose.2021-10-23.p1.bz2', '/nfs/locker/twitter-decahose-locker/2021/decahose.2021-10-23.p2.bz2', '/nfs/locker/twitter-decahose-locker/2021/decahose.2021-10-24.p1.bz2', '/nfs/locker/twitter-decahose-locker/2021/decahose.2021-10-24.p2.bz2', '/nfs/locker/twitter-decahose-locker/2021/decahose.2021-10-25.p1.bz2', '/nfs/locker/twitter-decahose-locker/2021/decahose.2021-10-25.p2.bz2', '/nfs/locker/twitter-decahose-locker/2021/decahose.2021-10-26.p1.bz2', '/nfs/locker/twitter-decahose-locker/2021/decahose.2021-10-26.p2.bz2', '/nfs/locker/twitter-decahose-locker/2021/decahose.2021-10-27.p1.bz2', '/nfs/locker/twitter-decahose-locker/2021/decahose.2021-10-27.p2.bz2', '/nfs/locker/twitter-decahose-locker/2021/decahose.2021-10-28.p1.bz2', '/nfs/locker/twitter-decahose-locker/2021/decahose.2021-10-28.p2.bz2', '/nfs/locker/twitter-decahose-locker/2021/decahose.2021-10-29.p1.bz2', '/nfs/locker/twitter-decahose-locker/2021/decahose.2021-10-29.p2.bz2', '/nfs/locker/twitter-decahose-locker/2021/decahose.2021-10-30.p1.bz2', '/nfs/locker/twitter-decahose-locker/2021/decahose.2021-10-30.p2.bz2', '/nfs/locker/twitter-decahose-locker/2021/decahose.2021-10-31.p1.bz2', '/nfs/locker/twitter-decahose-locker/2021/decahose.2021-10-31.p2.bz2', '/nfs/locker/twitter-decahose-locker/2021/decahose.2021-11-01.p1.bz2', '/nfs/locker/twitter-decahose-locker/2021/decahose.2021-11-01.p2.bz2', '/nfs/locker/twitter-decahose-locker/2021/decahose.2021-11-02.p1.bz2', '/nfs/locker/twitter-decahose-locker/2021/decahose.2021-11-02.p2.bz2', '/nfs/locker/twitter-decahose-locker/2021/decahose.2021-11-03.p1.bz2', '/nfs/locker/twitter-decahose-locker/2021/decahose.2021-11-03.p2.bz2', '/nfs/locker/twitter-decahose-locker/2021/decahose.2021-11-04.p1.bz2', '/nfs/locker/twitter-decahose-locker/2021/decahose.2021-11-04.p2.bz2', '/nfs/locker/twitter-decahose-locker/2021/decahose.2021-11-05.p1.bz2', '/nfs/locker/twitter-decahose-locker/2021/decahose.2021-11-05.p2.bz2', '/nfs/locker/twitter-decahose-locker/2021/decahose.2021-11-06.p1.bz2', '/nfs/locker/twitter-decahose-locker/2021/decahose.2021-11-06.p2.bz2', '/nfs/locker/twitter-decahose-locker/2021/decahose.2021-11-07.p1.bz2', '/nfs/locker/twitter-decahose-locker/2021/decahose.2021-11-07.p2.bz2', '/nfs/locker/twitter-decahose-locker/2021/decahose.2021-11-08.p1.bz2', '/nfs/locker/twitter-decahose-locker/2021/decahose.2021-11-08.p2.bz2', '/nfs/locker/twitter-decahose-locker/2021/decahose.2021-11-09.p1.bz2', '/nfs/locker/twitter-decahose-locker/2021/decahose.2021-11-09.p2.bz2', '/nfs/locker/twitter-decahose-locker/2021/decahose.2021-11-10.p1.bz2', '/nfs/locker/twitter-decahose-locker/2021/decahose.2021-11-10.p2.bz2', '/nfs/locker/twitter-decahose-locker/2021/decahose.2021-11-11.p1.bz2', '/nfs/locker/twitter-decahose-locker/2021/decahose.2021-11-11.p2.bz2', '/nfs/locker/twitter-decahose-locker/2021/decahose.2021-11-12.p1.bz2', '/nfs/locker/twitter-decahose-locker/2021/decahose.2021-11-12.p2.bz2', '/nfs/locker/twitter-decahose-locker/2021/decahose.2021-11-13.p1.bz2', '/nfs/locker/twitter-decahose-locker/2021/decahose.2021-11-13.p2.bz2', '/nfs/locker/twitter-decahose-locker/2021/decahose.2021-11-14.p1.bz2', '/nfs/locker/twitter-decahose-locker/2021/decahose.2021-11-14.p2.bz2', '/nfs/locker/twitter-decahose-locker/2021/decahose.2021-11-16.p1.bz2', '/nfs/locker/twitter-decahose-locker/2021/decahose.2021-11-16.p2.bz2', '/nfs/locker/twitter-decahose-locker/2021/decahose.2021-11-19.p2.bz2', '/nfs/locker/twitter-decahose-locker/2021/decahose.2021-11-20.p1.bz2', '/nfs/locker/twitter-decahose-locker/2021/decahose.2021-11-20.p2.bz2', '/nfs/locker/twitter-decahose-locker/2021/decahose.2021-11-21.p1.bz2', '/nfs/locker/twitter-decahose-locker/2021/decahose.2021-11-21.p2.bz2', '/nfs/locker/twitter-decahose-locker/2021/decahose.2021-11-22.p1.bz2', '/nfs/locker/twitter-decahose-locker/2021/decahose.2021-11-22.p2.bz2', '/nfs/locker/twitter-decahose-locker/2021/decahose.2021-11-23.p1.bz2', '/nfs/locker/twitter-decahose-locker/2021/decahose.2021-11-23.p2.bz2', '/nfs/locker/twitter-decahose-locker/2021/decahose.2021-11-24.p1.bz2', '/nfs/locker/twitter-decahose-locker/2021/decahose.2021-11-24.p2.bz2', '/nfs/locker/twitter-decahose-locker/2021/decahose.2021-11-25.p1.bz2', '/nfs/locker/twitter-decahose-locker/2021/decahose.2021-11-25.p2.bz2', '/nfs/locker/twitter-decahose-locker/2021/decahose.2021-11-26.p1.bz2', '/nfs/locker/twitter-decahose-locker/2021/decahose.2021-11-26.p2.bz2', '/nfs/locker/twitter-decahose-locker/2021/decahose.2021-11-27.p1.bz2', '/nfs/locker/twitter-decahose-locker/2021/decahose.2021-11-27.p2.bz2', '/nfs/locker/twitter-decahose-locker/2021/decahose.2021-11-28.p1.bz2', '/nfs/locker/twitter-decahose-locker/2021/decahose.2021-11-28.p2.bz2', '/nfs/locker/twitter-decahose-locker/2021/decahose.2021-11-29.p1.bz2', '/nfs/locker/twitter-decahose-locker/2021/decahose.2021-11-29.p2.bz2', '/nfs/locker/twitter-decahose-locker/2021/decahose.2021-11-30.p1.bz2', '/nfs/locker/twitter-decahose-locker/2021/decahose.2021-11-30.p2.bz2', '/nfs/locker/twitter-decahose-locker/2021/decahose.2021-12-01.p1.bz2', '/nfs/locker/twitter-decahose-locker/2021/decahose.2021-12-01.p2.bz2', '/nfs/locker/twitter-decahose-locker/2021/decahose.2021-12-02.p1.bz2', '/nfs/locker/twitter-decahose-locker/2021/decahose.2021-12-02.p2.bz2', '/nfs/locker/twitter-decahose-locker/2021/decahose.2021-12-03.p1.bz2', '/nfs/locker/twitter-decahose-locker/2021/decahose.2021-12-03.p2.bz2', '/nfs/locker/twitter-decahose-locker/2021/decahose.2021-12-04.p1.bz2', '/nfs/locker/twitter-decahose-locker/2021/decahose.2021-12-04.p2.bz2', '/nfs/locker/twitter-decahose-locker/2021/decahose.2021-12-05.p1.bz2', '/nfs/locker/twitter-decahose-locker/2021/decahose.2021-12-05.p2.bz2', '/nfs/locker/twitter-decahose-locker/2021/decahose.2021-12-06.p1.bz2', '/nfs/locker/twitter-decahose-locker/2021/decahose.2021-12-06.p2.bz2', '/nfs/locker/twitter-decahose-locker/2021/decahose.2021-12-07.p1.bz2', '/nfs/locker/twitter-decahose-locker/2021/decahose.2021-12-07.p2.bz2', '/nfs/locker/twitter-decahose-locker/2021/decahose.2021-12-08.p1.bz2', '/nfs/locker/twitter-decahose-locker/2021/decahose.2021-12-08.p2.bz2', '/nfs/locker/twitter-decahose-locker/2021/decahose.2021-12-09.p1.bz2', '/nfs/locker/twitter-decahose-locker/2021/decahose.2021-12-09.p2.bz2', '/nfs/locker/twitter-decahose-locker/2021/decahose.2021-12-10.p1.bz2', '/nfs/locker/twitter-decahose-locker/2021/decahose.2021-12-10.p2.bz2', '/nfs/locker/twitter-decahose-locker/2021/decahose.2021-12-11.p1.bz2', '/nfs/locker/twitter-decahose-locker/2021/decahose.2021-12-11.p2.bz2', '/nfs/locker/twitter-decahose-locker/2021/decahose.2021-12-12.p1.bz2', '/nfs/locker/twitter-decahose-locker/2021/decahose.2021-12-12.p2.bz2', '/nfs/locker/twitter-decahose-locker/2021/decahose.2021-12-13.p1.bz2', '/nfs/locker/twitter-decahose-locker/2021/decahose.2021-12-13.p2.bz2', '/nfs/locker/twitter-decahose-locker/2021/decahose.2021-12-14.p1.bz2', '/nfs/locker/twitter-decahose-locker/2021/decahose.2021-12-14.p2.bz2', '/nfs/locker/twitter-decahose-locker/2021/decahose.2021-12-15.p1.bz2', '/nfs/locker/twitter-decahose-locker/2021/decahose.2021-12-15.p2.bz2', '/nfs/locker/twitter-decahose-locker/2021/decahose.2021-12-16.p1.bz2', '/nfs/locker/twitter-decahose-locker/2021/decahose.2021-12-16.p2.bz2', '/nfs/locker/twitter-decahose-locker/2021/decahose.2021-12-17.p1.bz2', '/nfs/locker/twitter-decahose-locker/2021/decahose.2021-12-17.p2.bz2', '/nfs/locker/twitter-decahose-locker/2021/decahose.2021-12-18.p1.bz2', '/nfs/locker/twitter-decahose-locker/2021/decahose.2021-12-18.p2.bz2', '/nfs/locker/twitter-decahose-locker/2021/decahose.2021-12-19.p1.bz2', '/nfs/locker/twitter-decahose-locker/2021/decahose.2021-12-19.p2.bz2', '/nfs/locker/twitter-decahose-locker/2021/decahose.2021-12-20.p1.bz2', '/nfs/locker/twitter-decahose-locker/2021/decahose.2021-12-20.p2.bz2', '/nfs/locker/twitter-decahose-locker/2021/decahose.2021-12-21.p1.bz2', '/nfs/locker/twitter-decahose-locker/2021/decahose.2021-12-21.p2.bz2', '/nfs/locker/twitter-decahose-locker/2021/decahose.2021-12-22.p1.bz2', '/nfs/locker/twitter-decahose-locker/2021/decahose.2021-12-22.p2.bz2', '/nfs/locker/twitter-decahose-locker/2021/decahose.2021-12-23.p1.bz2', '/nfs/locker/twitter-decahose-locker/2021/decahose.2021-12-23.p2.bz2', '/nfs/locker/twitter-decahose-locker/2021/decahose.2021-12-24.p1.bz2', '/nfs/locker/twitter-decahose-locker/2021/decahose.2021-12-24.p2.bz2', '/nfs/locker/twitter-decahose-locker/2021/decahose.2021-12-25.p1.bz2', '/nfs/locker/twitter-decahose-locker/2021/decahose.2021-12-25.p2.bz2', '/nfs/locker/twitter-decahose-locker/2021/decahose.2021-12-26.p1.bz2', '/nfs/locker/twitter-decahose-locker/2021/decahose.2021-12-26.p2.bz2', '/nfs/locker/twitter-decahose-locker/2021/decahose.2021-12-27.p1.bz2', '/nfs/locker/twitter-decahose-locker/2021/decahose.2021-12-27.p2.bz2', '/nfs/locker/twitter-decahose-locker/2021/decahose.2021-12-28.p1.bz2', '/nfs/locker/twitter-decahose-locker/2021/decahose.2021-12-28.p2.bz2', '/nfs/locker/twitter-decahose-locker/2021/decahose.2021-12-29.p1.bz2', '/nfs/locker/twitter-decahose-locker/2021/decahose.2021-12-29.p2.bz2', '/nfs/locker/twitter-decahose-locker/2021/decahose.2021-12-30.p1.bz2', '/nfs/locker/twitter-decahose-locker/2021/decahose.2021-12-30.p2.bz2', '/nfs/locker/twitter-decahose-locker/2021/decahose.2021-12-31.p1.bz2', '/nfs/locker/twitter-decahose-locker/2021/decahose.2021-12-31.p2.bz2']\n",
      "At file 0/723 called /nfs/locker/twitter-decahose-locker/2021/decahose.2021-01-01.p1.bz2\n",
      "Extracting 2074688 words\n"
     ]
    },
    {
     "name": "stdout",
     "output_type": "stream",
     "text": [
      "At file 1/723 called /nfs/locker/twitter-decahose-locker/2021/decahose.2021-01-01.p2.bz2\n",
      "Extracting 2074688 words\n",
      "At file 2/723 called /nfs/locker/twitter-decahose-locker/2021/decahose.2021-01-02.p1.bz2\n",
      "Extracting 2074688 words\n",
      "At file 3/723 called /nfs/locker/twitter-decahose-locker/2021/decahose.2021-01-02.p2.bz2\n",
      "Extracting 2074688 words\n",
      "At file 4/723 called /nfs/locker/twitter-decahose-locker/2021/decahose.2021-01-03.p1.bz2\n",
      "Extracting 2074688 words\n",
      "At file 5/723 called /nfs/locker/twitter-decahose-locker/2021/decahose.2021-01-03.p2.bz2\n",
      "Extracting 2074688 words\n",
      "At file 6/723 called /nfs/locker/twitter-decahose-locker/2021/decahose.2021-01-04.p1.bz2\n",
      "Extracting 2074688 words\n",
      "At file 7/723 called /nfs/locker/twitter-decahose-locker/2021/decahose.2021-01-04.p2.bz2\n",
      "Extracting 2074688 words\n",
      "At file 8/723 called /nfs/locker/twitter-decahose-locker/2021/decahose.2021-01-05.p1.bz2\n",
      "Extracting 2074688 words\n",
      "At file 9/723 called /nfs/locker/twitter-decahose-locker/2021/decahose.2021-01-05.p2.bz2\n",
      "Extracting 2074688 words\n",
      "At file 10/723 called /nfs/locker/twitter-decahose-locker/2021/decahose.2021-01-06.p1.bz2\n",
      "Extracting 2074688 words\n",
      "At file 11/723 called /nfs/locker/twitter-decahose-locker/2021/decahose.2021-01-06.p2.bz2\n",
      "Extracting 2074688 words\n"
     ]
    },
    {
     "ename": "KeyboardInterrupt",
     "evalue": "",
     "output_type": "error",
     "traceback": [
      "\u001b[0;31m---------------------------------------------------------------------------\u001b[0m",
      "\u001b[0;31mKeyboardInterrupt\u001b[0m                         Traceback (most recent call last)",
      "Cell \u001b[0;32mIn[2], line 4\u001b[0m\n\u001b[1;32m      2\u001b[0m output_path \u001b[38;5;241m=\u001b[39m \u001b[38;5;124m'\u001b[39m\u001b[38;5;124m/shared/3/projects/hiatus/TOKENIZER_wegmann/data/fitting-corpora/twitter\u001b[39m\u001b[38;5;124m'\u001b[39m\n\u001b[1;32m      3\u001b[0m target_word_count \u001b[38;5;241m=\u001b[39m \u001b[38;5;241m1_500_000_000\u001b[39m\n\u001b[0;32m----> 4\u001b[0m data \u001b[38;5;241m=\u001b[39m sample_texts_from_files(directory, target_word_count)\n\u001b[1;32m      5\u001b[0m dataset \u001b[38;5;241m=\u001b[39m Dataset\u001b[38;5;241m.\u001b[39mfrom_dict({\u001b[38;5;124m\"\u001b[39m\u001b[38;5;124mid\u001b[39m\u001b[38;5;124m\"\u001b[39m: [item[\u001b[38;5;124m\"\u001b[39m\u001b[38;5;124mid\u001b[39m\u001b[38;5;124m\"\u001b[39m] \u001b[38;5;28;01mfor\u001b[39;00m item \u001b[38;5;129;01min\u001b[39;00m data], \u001b[38;5;124m\"\u001b[39m\u001b[38;5;124mtext\u001b[39m\u001b[38;5;124m\"\u001b[39m: [item[\u001b[38;5;124m\"\u001b[39m\u001b[38;5;124mtext\u001b[39m\u001b[38;5;124m\"\u001b[39m] \u001b[38;5;28;01mfor\u001b[39;00m item \u001b[38;5;129;01min\u001b[39;00m data]})\n\u001b[1;32m      6\u001b[0m dataset\u001b[38;5;241m.\u001b[39msave_to_disk(output_path)\n",
      "Cell \u001b[0;32mIn[1], line 43\u001b[0m, in \u001b[0;36msample_texts_from_files\u001b[0;34m(directory, target_word_count)\u001b[0m\n\u001b[1;32m     41\u001b[0m     \u001b[38;5;28mprint\u001b[39m(\u001b[38;5;124mf\u001b[39m\u001b[38;5;124m\"\u001b[39m\u001b[38;5;124mAt file \u001b[39m\u001b[38;5;132;01m{\u001b[39;00mfilen_index\u001b[38;5;132;01m}\u001b[39;00m\u001b[38;5;124m/\u001b[39m\u001b[38;5;132;01m{\u001b[39;00mnum_files\u001b[38;5;132;01m}\u001b[39;00m\u001b[38;5;124m called \u001b[39m\u001b[38;5;132;01m{\u001b[39;00mfile_path\u001b[38;5;132;01m}\u001b[39;00m\u001b[38;5;124m\"\u001b[39m)\n\u001b[1;32m     42\u001b[0m     \u001b[38;5;28mprint\u001b[39m(\u001b[38;5;124mf\u001b[39m\u001b[38;5;124m\"\u001b[39m\u001b[38;5;124mExtracting \u001b[39m\u001b[38;5;132;01m{\u001b[39;00mtarget_word_count_per_file\u001b[38;5;132;01m}\u001b[39;00m\u001b[38;5;124m words\u001b[39m\u001b[38;5;124m\"\u001b[39m)\n\u001b[0;32m---> 43\u001b[0m     data, _ \u001b[38;5;241m=\u001b[39m process_file(file_path, target_word_count_per_file, data)\n\u001b[1;32m     45\u001b[0m \u001b[38;5;28;01mreturn\u001b[39;00m data\n",
      "Cell \u001b[0;32mIn[1], line 12\u001b[0m, in \u001b[0;36mprocess_file\u001b[0;34m(file_path, target_word_count_per_file, data)\u001b[0m\n\u001b[1;32m     10\u001b[0m cumulative_word_count \u001b[38;5;241m=\u001b[39m \u001b[38;5;241m0\u001b[39m\n\u001b[1;32m     11\u001b[0m \u001b[38;5;28;01mwith\u001b[39;00m bz2\u001b[38;5;241m.\u001b[39mopen(file_path, \u001b[38;5;124m'\u001b[39m\u001b[38;5;124mrt\u001b[39m\u001b[38;5;124m'\u001b[39m) \u001b[38;5;28;01mas\u001b[39;00m file:\n\u001b[0;32m---> 12\u001b[0m     \u001b[38;5;28;01mfor\u001b[39;00m line \u001b[38;5;129;01min\u001b[39;00m file:\n\u001b[1;32m     13\u001b[0m         tweet \u001b[38;5;241m=\u001b[39m json\u001b[38;5;241m.\u001b[39mloads(line)\n\u001b[1;32m     14\u001b[0m         text \u001b[38;5;241m=\u001b[39m tweet\u001b[38;5;241m.\u001b[39mget(\u001b[38;5;124m\"\u001b[39m\u001b[38;5;124mtext\u001b[39m\u001b[38;5;124m\"\u001b[39m, \u001b[38;5;124m\"\u001b[39m\u001b[38;5;124m\"\u001b[39m)\n",
      "File \u001b[0;32m/opt/anaconda/lib/python3.11/bz2.py:176\u001b[0m, in \u001b[0;36mBZ2File.read1\u001b[0;34m(self, size)\u001b[0m\n\u001b[1;32m    174\u001b[0m \u001b[38;5;28;01mif\u001b[39;00m size \u001b[38;5;241m<\u001b[39m \u001b[38;5;241m0\u001b[39m:\n\u001b[1;32m    175\u001b[0m     size \u001b[38;5;241m=\u001b[39m io\u001b[38;5;241m.\u001b[39mDEFAULT_BUFFER_SIZE\n\u001b[0;32m--> 176\u001b[0m \u001b[38;5;28;01mreturn\u001b[39;00m \u001b[38;5;28mself\u001b[39m\u001b[38;5;241m.\u001b[39m_buffer\u001b[38;5;241m.\u001b[39mread1(size)\n",
      "File \u001b[0;32m/opt/anaconda/lib/python3.11/_compression.py:68\u001b[0m, in \u001b[0;36mDecompressReader.readinto\u001b[0;34m(self, b)\u001b[0m\n\u001b[1;32m     66\u001b[0m \u001b[38;5;28;01mdef\u001b[39;00m \u001b[38;5;21mreadinto\u001b[39m(\u001b[38;5;28mself\u001b[39m, b):\n\u001b[1;32m     67\u001b[0m     \u001b[38;5;28;01mwith\u001b[39;00m \u001b[38;5;28mmemoryview\u001b[39m(b) \u001b[38;5;28;01mas\u001b[39;00m view, view\u001b[38;5;241m.\u001b[39mcast(\u001b[38;5;124m\"\u001b[39m\u001b[38;5;124mB\u001b[39m\u001b[38;5;124m\"\u001b[39m) \u001b[38;5;28;01mas\u001b[39;00m byte_view:\n\u001b[0;32m---> 68\u001b[0m         data \u001b[38;5;241m=\u001b[39m \u001b[38;5;28mself\u001b[39m\u001b[38;5;241m.\u001b[39mread(\u001b[38;5;28mlen\u001b[39m(byte_view))\n\u001b[1;32m     69\u001b[0m         byte_view[:\u001b[38;5;28mlen\u001b[39m(data)] \u001b[38;5;241m=\u001b[39m data\n\u001b[1;32m     70\u001b[0m     \u001b[38;5;28;01mreturn\u001b[39;00m \u001b[38;5;28mlen\u001b[39m(data)\n",
      "File \u001b[0;32m/opt/anaconda/lib/python3.11/_compression.py:103\u001b[0m, in \u001b[0;36mDecompressReader.read\u001b[0;34m(self, size)\u001b[0m\n\u001b[1;32m    101\u001b[0m     \u001b[38;5;28;01melse\u001b[39;00m:\n\u001b[1;32m    102\u001b[0m         rawblock \u001b[38;5;241m=\u001b[39m \u001b[38;5;124mb\u001b[39m\u001b[38;5;124m\"\u001b[39m\u001b[38;5;124m\"\u001b[39m\n\u001b[0;32m--> 103\u001b[0m     data \u001b[38;5;241m=\u001b[39m \u001b[38;5;28mself\u001b[39m\u001b[38;5;241m.\u001b[39m_decompressor\u001b[38;5;241m.\u001b[39mdecompress(rawblock, size)\n\u001b[1;32m    104\u001b[0m \u001b[38;5;28;01mif\u001b[39;00m data:\n\u001b[1;32m    105\u001b[0m     \u001b[38;5;28;01mbreak\u001b[39;00m\n",
      "\u001b[0;31mKeyboardInterrupt\u001b[0m: "
     ]
    }
   ],
   "source": [
    "directory = '/nfs/locker/twitter-decahose-locker/2021'\n",
    "output_path = '/shared/3/projects/hiatus/TOKENIZER_wegmann/data/fitting-corpora/twitter'\n",
    "target_word_count = 1_500_000_000\n",
    "data = sample_texts_from_files(directory, target_word_count)\n",
    "dataset = Dataset.from_dict({\"id\": [item[\"id\"] for item in data], \"text\": [item[\"text\"] for item in data]})\n",
    "dataset.save_to_disk(output_path)"
   ]
  },
  {
   "cell_type": "code",
   "execution_count": null,
   "id": "4c671343",
   "metadata": {},
   "outputs": [],
   "source": []
  }
 ],
 "metadata": {
  "kernelspec": {
   "display_name": "Python 3 (ipykernel)",
   "language": "python",
   "name": "python3"
  },
  "language_info": {
   "codemirror_mode": {
    "name": "ipython",
    "version": 3
   },
   "file_extension": ".py",
   "mimetype": "text/x-python",
   "name": "python",
   "nbconvert_exporter": "python",
   "pygments_lexer": "ipython3",
   "version": "3.11.5"
  }
 },
 "nbformat": 4,
 "nbformat_minor": 5
}
