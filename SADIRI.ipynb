{
 "cells": [
  {
   "cell_type": "code",
   "execution_count": 6,
   "id": "initial_id",
   "metadata": {
    "collapsed": true,
    "ExecuteTime": {
     "end_time": "2024-12-12T13:49:03.910005Z",
     "start_time": "2024-12-12T13:49:03.896598Z"
    }
   },
   "outputs": [],
   "source": [
    "# import a datasets dataset from /Users/anna/Documents/git projects.nosync/StyleTokenizer/data/UMich-AV/down_1_shuffle\n",
    "import datasets\n",
    "\n",
    "file_path = \"/Users/anna/Documents/git projects.nosync/StyleTokenizer/data/UMich-AV/down_1_shuffle/validation\"\n",
    "dataset = datasets.load_from_disk(file_path)"
   ]
  },
  {
   "cell_type": "code",
   "execution_count": 11,
   "outputs": [
    {
     "name": "stdout",
     "output_type": "stream",
     "text": [
      "{'query_id': '9f0bc8e4-2dca-6682-a316-da33d9dba573', 'query_authorID': \"['36460096-5341-1918-ed68-025baa59aeda']\", 'query_text': 'Hi,\\n\\nI am currently evaluating OTRS for use as a Helpdesk System.\\n\\nHowever I am a little confused about how best to set it up.\\n\\nI have setup different queues for different types of problems eg Desktop\\nServer etc\\n\\nI want to have some users managing some queues but not others, but also \\nsome customers to create tickets in  some queues but not others.\\n\\nExample (cos I probably didnt explain that very well)\\n\\nQueues A B C\\nUser 1 can manage queues A B\\nUser 2 can manage queue C\\nCustomer 1 can create tickets in queue A\\nCustomer 2 can create tickets in queue B\\nCustomer 3 can create tickets in queue C\\n\\nWhen I create the queue, I assign the user group to that queue, but how \\ndo I then allow the customers access to these queues?\\n\\nI have turned on the facility to use Customer Groups but this doesnt \\nappear to help me.\\n\\nIs this possible?\\n\\nApologies if this is a silly question but I couldnt find an answer on \\nthe Mailing List archives.\\n\\nCheers\\n\\nCeri\\n', 'candidate_id': 'cb856a7d-6b46-37ad-4888-b4a9c024c31b', 'candidate_authorID': \"['36460096-5341-1918-ed68-025baa59aeda']\", 'candidate_text': 'Hi,\\n\\nI am setting up Mailscanner not to deliver any spam to my users, but to \\nsend a spam report once a day using quarantine_report.php.\\n\\nHowever I quarantine non spam messages, so that I can feed incorrectly \\nclassified spam to sa-learn.\\n\\nThis means that when quarantine_report.php runs, it also includes \\nnon-spam messages, which will have been delivered. These show up as type \\nreason UNKNOWN in the quarantine report.\\n\\nIs there a better way to achieve this, so that the quarantine_report \\nonly shows up spam?  I looked into tweeking the SQL that runs in \\nquarantine_report.php, but I am not sure how to achieve this given the \\ndatabase structure.\\n\\nCould anyone point me in the right direction?\\n\\nCheers\\n\\nCeri\\n'}\n"
     ]
    }
   ],
   "source": [
    "# print an example from the dataest with the column names\n",
    "print(dataset[100])"
   ],
   "metadata": {
    "collapsed": false,
    "ExecuteTime": {
     "end_time": "2024-12-12T13:50:07.554161Z",
     "start_time": "2024-12-12T13:50:07.545784Z"
    }
   },
   "id": "f1db8ae737a51482"
  },
  {
   "cell_type": "code",
   "execution_count": 13,
   "outputs": [],
   "source": [
    "import pandas as pd\n",
    "data_path = \"/Users/anna/Documents/git projects.nosync/StyleTokenizer/data/GYAFC/GYAFC_Corpus/dev.csv\"\n",
    "data = pd.read_csv(data_path)"
   ],
   "metadata": {
    "collapsed": false,
    "ExecuteTime": {
     "end_time": "2024-12-12T13:54:51.214439Z",
     "start_time": "2024-12-12T13:54:51.178136Z"
    }
   },
   "id": "b899a2161adf44c0"
  },
  {
   "cell_type": "code",
   "execution_count": 14,
   "outputs": [
    {
     "data": {
      "text/plain": "      label                                               text\n0         1  \"Xero\" is actually spelled like that, but it i...\n1         1       Yes, men do think about sex more than women.\n2         1  That is because people are usually out on a Sa...\n3         0           talk to me-- you can't be that lonely !!\n4         0                         What do think will he sue?\n...     ...                                                ...\n2827      0                get noticed, get hired...get on tv.\n2828      0  Dude, I hate to say it but she was cheating on...\n2829      0  Well, it's on cable at night still...isn't tha...\n2830      0  Mine was Audio Adrenaline ever heard of them, ...\n2831      1                      Yes, that would be very good.\n\n[2832 rows x 2 columns]",
      "text/html": "<div>\n<style scoped>\n    .dataframe tbody tr th:only-of-type {\n        vertical-align: middle;\n    }\n\n    .dataframe tbody tr th {\n        vertical-align: top;\n    }\n\n    .dataframe thead th {\n        text-align: right;\n    }\n</style>\n<table border=\"1\" class=\"dataframe\">\n  <thead>\n    <tr style=\"text-align: right;\">\n      <th></th>\n      <th>label</th>\n      <th>text</th>\n    </tr>\n  </thead>\n  <tbody>\n    <tr>\n      <th>0</th>\n      <td>1</td>\n      <td>\"Xero\" is actually spelled like that, but it i...</td>\n    </tr>\n    <tr>\n      <th>1</th>\n      <td>1</td>\n      <td>Yes, men do think about sex more than women.</td>\n    </tr>\n    <tr>\n      <th>2</th>\n      <td>1</td>\n      <td>That is because people are usually out on a Sa...</td>\n    </tr>\n    <tr>\n      <th>3</th>\n      <td>0</td>\n      <td>talk to me-- you can't be that lonely !!</td>\n    </tr>\n    <tr>\n      <th>4</th>\n      <td>0</td>\n      <td>What do think will he sue?</td>\n    </tr>\n    <tr>\n      <th>...</th>\n      <td>...</td>\n      <td>...</td>\n    </tr>\n    <tr>\n      <th>2827</th>\n      <td>0</td>\n      <td>get noticed, get hired...get on tv.</td>\n    </tr>\n    <tr>\n      <th>2828</th>\n      <td>0</td>\n      <td>Dude, I hate to say it but she was cheating on...</td>\n    </tr>\n    <tr>\n      <th>2829</th>\n      <td>0</td>\n      <td>Well, it's on cable at night still...isn't tha...</td>\n    </tr>\n    <tr>\n      <th>2830</th>\n      <td>0</td>\n      <td>Mine was Audio Adrenaline ever heard of them, ...</td>\n    </tr>\n    <tr>\n      <th>2831</th>\n      <td>1</td>\n      <td>Yes, that would be very good.</td>\n    </tr>\n  </tbody>\n</table>\n<p>2832 rows × 2 columns</p>\n</div>"
     },
     "execution_count": 14,
     "metadata": {},
     "output_type": "execute_result"
    }
   ],
   "source": [
    "data"
   ],
   "metadata": {
    "collapsed": false,
    "ExecuteTime": {
     "end_time": "2024-12-12T13:54:53.335477Z",
     "start_time": "2024-12-12T13:54:53.313912Z"
    }
   },
   "id": "f9899dbd9b9fb5cd"
  },
  {
   "cell_type": "code",
   "execution_count": null,
   "outputs": [],
   "source": [],
   "metadata": {
    "collapsed": false
   },
   "id": "e0014d8fed98396a"
  }
 ],
 "metadata": {
  "kernelspec": {
   "display_name": "Python 3",
   "language": "python",
   "name": "python3"
  },
  "language_info": {
   "codemirror_mode": {
    "name": "ipython",
    "version": 2
   },
   "file_extension": ".py",
   "mimetype": "text/x-python",
   "name": "python",
   "nbconvert_exporter": "python",
   "pygments_lexer": "ipython2",
   "version": "2.7.6"
  }
 },
 "nbformat": 4,
 "nbformat_minor": 5
}
