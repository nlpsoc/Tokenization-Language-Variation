{
 "cells": [
  {
   "cell_type": "code",
   "execution_count": 4,
   "id": "4e7eaa3b",
   "metadata": {},
   "outputs": [],
   "source": [
    "gyafc_path = \"/shared/3/projects/hiatus/TOKENIZER_wegmann/data/GYAFC/GYAFC_corpus\""
   ]
  },
  {
   "cell_type": "code",
   "execution_count": 5,
   "id": "30428ef4",
   "metadata": {},
   "outputs": [],
   "source": [
    "import os"
   ]
  },
  {
   "cell_type": "code",
   "execution_count": 14,
   "id": "1415204a",
   "metadata": {},
   "outputs": [
    {
     "data": {
      "text/plain": [
       "True"
      ]
     },
     "execution_count": 14,
     "metadata": {},
     "output_type": "execute_result"
    }
   ],
   "source": [
    "os.path.exists(\"/shared/3/projects/hiatus/TOKENIZER_wegmann/data/GYAFC/GYAFC_Corpus\")"
   ]
  },
  {
   "cell_type": "code",
   "execution_count": null,
   "id": "3681c3bc",
   "metadata": {},
   "outputs": [],
   "source": []
  }
 ],
 "metadata": {
  "kernelspec": {
   "display_name": "Python 3 (ipykernel)",
   "language": "python",
   "name": "python3"
  },
  "language_info": {
   "codemirror_mode": {
    "name": "ipython",
    "version": 3
   },
   "file_extension": ".py",
   "mimetype": "text/x-python",
   "name": "python",
   "nbconvert_exporter": "python",
   "pygments_lexer": "ipython3",
   "version": "3.10.9"
  }
 },
 "nbformat": 4,
 "nbformat_minor": 5
}
