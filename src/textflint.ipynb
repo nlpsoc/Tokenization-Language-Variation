{
 "cells": [
  {
   "cell_type": "markdown",
   "source": [
    "# SST2"
   ],
   "metadata": {
    "collapsed": false
   },
   "id": "3899a0cf6e784ff6"
  },
  {
   "cell_type": "code",
   "execution_count": 12,
   "outputs": [
    {
     "data": {
      "text/plain": "Creating CSV from Arrow format:   0%|          | 0/68 [00:00<?, ?ba/s]",
      "application/vnd.jupyter.widget-view+json": {
       "version_major": 2,
       "version_minor": 0,
       "model_id": "a3ef46c799054c928437079a72dd95a4"
      }
     },
     "metadata": {},
     "output_type": "display_data"
    },
    {
     "data": {
      "text/plain": "Creating CSV from Arrow format:   0%|          | 0/1 [00:00<?, ?ba/s]",
      "application/vnd.jupyter.widget-view+json": {
       "version_major": 2,
       "version_minor": 0,
       "model_id": "5dba6351117c4283ac1d29f5612cb655"
      }
     },
     "metadata": {},
     "output_type": "display_data"
    },
    {
     "data": {
      "text/plain": "Creating CSV from Arrow format:   0%|          | 0/2 [00:00<?, ?ba/s]",
      "application/vnd.jupyter.widget-view+json": {
       "version_major": 2,
       "version_minor": 0,
       "model_id": "81a44b497b3941ff977672d96434f0d7"
      }
     },
     "metadata": {},
     "output_type": "display_data"
    },
    {
     "data": {
      "text/plain": "204793"
     },
     "execution_count": 12,
     "metadata": {},
     "output_type": "execute_result"
    }
   ],
   "source": [
    "import pandas as pd\n",
    "import textflint\n",
    "# load GLUE sst2 dataset and save splits as .csv\n",
    "from datasets import load_dataset\n",
    "dataset = load_dataset(\"glue\", \"sst2\")\n",
    "# rename \"sentence\" column to \"x\"\n",
    "# rename \"label\" column to \"y\"\n",
    "# replace 0 with negative and 1 with positive\n",
    "dataset['train'] = dataset['train'].rename_column('sentence', 'x').rename_column('label', 'y')\n",
    "dataset['validation'] = dataset['validation'].rename_column('sentence', 'x').rename_column('label', 'y')\n",
    "dataset['test'] = dataset['test'].rename_column('sentence', 'x').rename_column('label', 'y')\n",
    "\n",
    "def transform_labels(example):\n",
    "    example[\"y\"] = \"negative\" if example[\"y\"] == 0 else \"positive\"\n",
    "    return example\n",
    "\n",
    "dataset['train'].to_csv('../data/GLUE_textflint/sst2_train.csv')\n",
    "dataset['validation'].to_csv('../data/GLUE_textflint/sst2_val.csv')\n",
    "dataset['test'].to_csv('../data/GLUE_textflint/sst2_test.csv')"
   ],
   "metadata": {
    "collapsed": false,
    "ExecuteTime": {
     "end_time": "2024-12-18T16:24:42.606655Z",
     "start_time": "2024-12-18T16:24:38.356216Z"
    }
   },
   "id": "ede013104660db7a"
  },
  {
   "cell_type": "markdown",
   "source": [
    "now run textflint on the dataset  \n",
    "`textflint --dataset sst2_val.csv --config config.json`  \n",
    "config sth like  \n",
    "```\n",
    "{\n",
    "  \"task\": \"SA\",\n",
    "  \"out_dir\": \"./DATA/\",\n",
    "  \"trans_methods\": [\n",
    "    [\"SpellingError\", \"Typos\"]\n",
    "  ]\n",
    "}\n",
    "```"
   ],
   "metadata": {
    "collapsed": false
   },
   "id": "ef03f29e83b91258"
  },
  {
   "cell_type": "code",
   "execution_count": 19,
   "outputs": [],
   "source": [
    "def transform_back(file_path, out_path):\n",
    "    import json\n",
    "    data = []\n",
    "    with open(file_path, 'r', encoding='utf-8') as f:\n",
    "        for line in f:\n",
    "            # Strip whitespace and parse the JSON object\n",
    "            d = json.loads(line.strip())\n",
    "            data.append(d)\n",
    "            \n",
    "    import pandas as pd\n",
    "    df = pd.DataFrame(data)\n",
    "    \n",
    "    # rename \"x\" column to \"sentence\"\n",
    "    # rename \"y\" column to \"label\"\n",
    "    df = df.rename(columns={\"x\": \"sentence\", \"y\": \"label\"})\n",
    "    df.to_csv(out_path)  # \"../data/GLUE_textflint/sst2_dev_textflint.csv\""
   ],
   "metadata": {
    "collapsed": false,
    "ExecuteTime": {
     "end_time": "2024-12-18T16:43:06.401830Z",
     "start_time": "2024-12-18T16:43:06.399175Z"
    }
   },
   "id": "226b86719008a0e2"
  },
  {
   "cell_type": "markdown",
   "source": [],
   "metadata": {
    "collapsed": false
   },
   "id": "121df8f1b6cf78f2"
  },
  {
   "cell_type": "code",
   "execution_count": 21,
   "outputs": [],
   "source": [
    "transform_back('/Users/anna/Documents/git projects.nosync/StyleTokenizer/data/GLUE_textflint/DATA_test/trans_Pipeline_SpellingError_Typos_random_1813.json', '../data/GLUE_textflint/sst2_test_textflint.csv')"
   ],
   "metadata": {
    "collapsed": false,
    "ExecuteTime": {
     "end_time": "2024-12-18T16:43:38.574250Z",
     "start_time": "2024-12-18T16:43:38.563600Z"
    }
   },
   "id": "4876a4796e3ffbce"
  },
  {
   "cell_type": "code",
   "execution_count": 22,
   "outputs": [],
   "source": [
    "transform_back('/Users/anna/Documents/git projects.nosync/StyleTokenizer/data/GLUE_textflint/DATA_train/trans_Pipeline_SpellingError_Typos_random_59223.json', '../data/GLUE_textflint/sst2_train_textflint.csv')"
   ],
   "metadata": {
    "collapsed": false,
    "ExecuteTime": {
     "end_time": "2024-12-18T16:44:38.971863Z",
     "start_time": "2024-12-18T16:44:38.776917Z"
    }
   },
   "id": "c16781fbd5c939bc"
  },
  {
   "cell_type": "markdown",
   "source": [
    "# QNLI"
   ],
   "metadata": {
    "collapsed": false
   },
   "id": "fc6ffe8e296b970a"
  },
  {
   "cell_type": "code",
   "execution_count": 1,
   "outputs": [
    {
     "data": {
      "text/plain": "Casting the dataset:   0%|          | 0/104743 [00:00<?, ? examples/s]",
      "application/vnd.jupyter.widget-view+json": {
       "version_major": 2,
       "version_minor": 0,
       "model_id": "755068cf5c604b1dba49b19eca8917bc"
      }
     },
     "metadata": {},
     "output_type": "display_data"
    },
    {
     "data": {
      "text/plain": "Map:   0%|          | 0/104743 [00:00<?, ? examples/s]",
      "application/vnd.jupyter.widget-view+json": {
       "version_major": 2,
       "version_minor": 0,
       "model_id": "7c7a059636d54fa4bdcd710e75337eb9"
      }
     },
     "metadata": {},
     "output_type": "display_data"
    },
    {
     "data": {
      "text/plain": "Filter:   0%|          | 0/104743 [00:00<?, ? examples/s]",
      "application/vnd.jupyter.widget-view+json": {
       "version_major": 2,
       "version_minor": 0,
       "model_id": "afbba2f96d9648d79ceaa7f5300d9ea4"
      }
     },
     "metadata": {},
     "output_type": "display_data"
    },
    {
     "data": {
      "text/plain": "Casting the dataset:   0%|          | 0/5463 [00:00<?, ? examples/s]",
      "application/vnd.jupyter.widget-view+json": {
       "version_major": 2,
       "version_minor": 0,
       "model_id": "cd817bd34b554066ae18debb90ee23cc"
      }
     },
     "metadata": {},
     "output_type": "display_data"
    },
    {
     "data": {
      "text/plain": "Map:   0%|          | 0/5463 [00:00<?, ? examples/s]",
      "application/vnd.jupyter.widget-view+json": {
       "version_major": 2,
       "version_minor": 0,
       "model_id": "8fa559ec84aa403498c9771ba91e2c9d"
      }
     },
     "metadata": {},
     "output_type": "display_data"
    },
    {
     "data": {
      "text/plain": "Filter:   0%|          | 0/5463 [00:00<?, ? examples/s]",
      "application/vnd.jupyter.widget-view+json": {
       "version_major": 2,
       "version_minor": 0,
       "model_id": "e026066fe0fb47fe8c5c053554b8e4f3"
      }
     },
     "metadata": {},
     "output_type": "display_data"
    },
    {
     "data": {
      "text/plain": "Casting the dataset:   0%|          | 0/5463 [00:00<?, ? examples/s]",
      "application/vnd.jupyter.widget-view+json": {
       "version_major": 2,
       "version_minor": 0,
       "model_id": "1b23ad2feda24880bf2e574f57d41e63"
      }
     },
     "metadata": {},
     "output_type": "display_data"
    },
    {
     "data": {
      "text/plain": "Map:   0%|          | 0/5463 [00:00<?, ? examples/s]",
      "application/vnd.jupyter.widget-view+json": {
       "version_major": 2,
       "version_minor": 0,
       "model_id": "6272f37b7b5f48c9a25658fd701e09ad"
      }
     },
     "metadata": {},
     "output_type": "display_data"
    },
    {
     "data": {
      "text/plain": "Filter:   0%|          | 0/5463 [00:00<?, ? examples/s]",
      "application/vnd.jupyter.widget-view+json": {
       "version_major": 2,
       "version_minor": 0,
       "model_id": "9c466e40f05c49629387a47bd6c9fda6"
      }
     },
     "metadata": {},
     "output_type": "display_data"
    },
    {
     "data": {
      "text/plain": "Creating CSV from Arrow format:   0%|          | 0/105 [00:00<?, ?ba/s]",
      "application/vnd.jupyter.widget-view+json": {
       "version_major": 2,
       "version_minor": 0,
       "model_id": "661719a9fa044a28b9234e8cc00d6725"
      }
     },
     "metadata": {},
     "output_type": "display_data"
    },
    {
     "data": {
      "text/plain": "Creating CSV from Arrow format:   0%|          | 0/6 [00:00<?, ?ba/s]",
      "application/vnd.jupyter.widget-view+json": {
       "version_major": 2,
       "version_minor": 0,
       "model_id": "2533166f6e0548c7829c3a99325926bb"
      }
     },
     "metadata": {},
     "output_type": "display_data"
    },
    {
     "data": {
      "text/plain": "Creating CSV from Arrow format:   0%|          | 0/6 [00:00<?, ?ba/s]",
      "application/vnd.jupyter.widget-view+json": {
       "version_major": 2,
       "version_minor": 0,
       "model_id": "58a41e3358a44806a2144b8acabc9eed"
      }
     },
     "metadata": {},
     "output_type": "display_data"
    },
    {
     "data": {
      "text/plain": "1328272"
     },
     "execution_count": 1,
     "metadata": {},
     "output_type": "execute_result"
    }
   ],
   "source": [
    "from datasets import load_dataset\n",
    "dataset = load_dataset(\"glue\", \"qnli\")\n",
    "from datasets import Features, Value\n",
    "# Cast the label column to a string feature\n",
    "for split in dataset.keys():\n",
    "    dataset[split] = dataset[split].cast(\n",
    "        Features({**dataset[split].features, \"label\": Value(\"string\")})\n",
    "    )\n",
    "    dataset[split] = dataset[split].map(\n",
    "        lambda x: {\"label\": \"entailment\" if x[\"label\"] == \"0\" else \"neutral\" if x[\"label\"] == \"1\" else x[\"label\"]}\n",
    "    )\n",
    "    # expects 'NLI': ['premise', 'hypothesis'], y instead of question, sentence, label\n",
    "    dataset[split] = dataset[split].rename_column('question', 'premise').rename_column('sentence', 'hypothesis').rename_column('label', 'y')\n",
    "\n",
    "    # remoe elements where y is -1\n",
    "    dataset[split] = dataset[split].filter(lambda example: example[\"y\"] != -1)\n",
    "\n",
    "dataset['train'].to_csv('../data/GLUE_textflint/qnli_train.csv')\n",
    "dataset['validation'].to_csv('../data/GLUE_textflint/qnli_val.csv')\n",
    "dataset['test'].to_csv('../data/GLUE_textflint/qnli_test.csv')\n"
   ],
   "metadata": {
    "collapsed": false,
    "ExecuteTime": {
     "end_time": "2025-01-07T13:15:02.821140Z",
     "start_time": "2025-01-07T13:14:54.454469Z"
    }
   },
   "id": "18e3febd4086bc5"
  },
  {
   "cell_type": "code",
   "execution_count": 4,
   "outputs": [],
   "source": [
    "def transform_back(file_path, out_path):\n",
    "    import json\n",
    "    data = []\n",
    "    with open(file_path, 'r', encoding='utf-8') as f:\n",
    "        for line in f:\n",
    "            # Strip whitespace and parse the JSON object\n",
    "            d = json.loads(line.strip())\n",
    "            data.append(d)\n",
    "            \n",
    "    import pandas as pd\n",
    "    df = pd.DataFrame(data)\n",
    "\n",
    "    df = df.rename(columns={\"premise\": \"question\", \"hypothesis\": \"sentence\", \"y\": \"label\"})\n",
    "    \n",
    "    df['label'] = df['label'].apply(\n",
    "        lambda x: '0' if x == 'entailment' else '1' if x == 'neutral' else x\n",
    "    )\n",
    "    \n",
    "    df.to_csv(out_path)  # \"../data/GLUE_textflint/sst2_dev_textflint.csv\""
   ],
   "metadata": {
    "collapsed": false,
    "ExecuteTime": {
     "end_time": "2025-01-08T15:54:28.225489Z",
     "start_time": "2025-01-08T15:54:28.215961Z"
    }
   },
   "id": "4b4a3a5b077b8b9c"
  },
  {
   "cell_type": "code",
   "execution_count": 3,
   "outputs": [
    {
     "data": {
      "text/plain": "                                                premise  \\\n0     What came into force after the new constitutio...   \n1     What is the first major city in the stream of ...   \n2     What is the minimum required if you want to te...   \n3     How was Temüjin kept imprisoned by the Tayichi...   \n4     What did Herr Gott, dich loben wir become know...   \n...                                                 ...   \n5458           How many people lived in Warsaw in 1939?   \n5459  One of FIS' agenda items was to force women to...   \n5460  Dendritic cells are named that because they re...   \n5461         When did it retract to a inland formation?   \n5462  Who discovered this and where did they come from?   \n\n                                             hypothesis           y   idx  \n0     As of that day, the new constitution heralding...  entailment     0  \n1     The most important tributaries in this area ar...     neutral     1  \n2     In most provinces a second Bachelor's Degree s...     neutral     2  \n3     The Tayichi'ud enslaved Temüjin (reportedly wi...  entailment     3  \n4     He paraphrased the Te Deum as \"Herr Gott, dich...     neutral     4  \n...                                                 ...         ...   ...  \n5458  Unfortunately this belief still lives on in Po...     neutral  5458  \n5459  Taking advantage of economic failure and unpop...  entailment  5459  \n5460  Dendritic cells serve as a link between the bo...     neutral  5460  \n5461  However, the rainforest still managed to thriv...     neutral  5461  \n5462  The development of this fertile soil allowed a...     neutral  5462  \n\n[5463 rows x 4 columns]",
      "text/html": "<div>\n<style scoped>\n    .dataframe tbody tr th:only-of-type {\n        vertical-align: middle;\n    }\n\n    .dataframe tbody tr th {\n        vertical-align: top;\n    }\n\n    .dataframe thead th {\n        text-align: right;\n    }\n</style>\n<table border=\"1\" class=\"dataframe\">\n  <thead>\n    <tr style=\"text-align: right;\">\n      <th></th>\n      <th>premise</th>\n      <th>hypothesis</th>\n      <th>y</th>\n      <th>idx</th>\n    </tr>\n  </thead>\n  <tbody>\n    <tr>\n      <th>0</th>\n      <td>What came into force after the new constitutio...</td>\n      <td>As of that day, the new constitution heralding...</td>\n      <td>entailment</td>\n      <td>0</td>\n    </tr>\n    <tr>\n      <th>1</th>\n      <td>What is the first major city in the stream of ...</td>\n      <td>The most important tributaries in this area ar...</td>\n      <td>neutral</td>\n      <td>1</td>\n    </tr>\n    <tr>\n      <th>2</th>\n      <td>What is the minimum required if you want to te...</td>\n      <td>In most provinces a second Bachelor's Degree s...</td>\n      <td>neutral</td>\n      <td>2</td>\n    </tr>\n    <tr>\n      <th>3</th>\n      <td>How was Temüjin kept imprisoned by the Tayichi...</td>\n      <td>The Tayichi'ud enslaved Temüjin (reportedly wi...</td>\n      <td>entailment</td>\n      <td>3</td>\n    </tr>\n    <tr>\n      <th>4</th>\n      <td>What did Herr Gott, dich loben wir become know...</td>\n      <td>He paraphrased the Te Deum as \"Herr Gott, dich...</td>\n      <td>neutral</td>\n      <td>4</td>\n    </tr>\n    <tr>\n      <th>...</th>\n      <td>...</td>\n      <td>...</td>\n      <td>...</td>\n      <td>...</td>\n    </tr>\n    <tr>\n      <th>5458</th>\n      <td>How many people lived in Warsaw in 1939?</td>\n      <td>Unfortunately this belief still lives on in Po...</td>\n      <td>neutral</td>\n      <td>5458</td>\n    </tr>\n    <tr>\n      <th>5459</th>\n      <td>One of FIS' agenda items was to force women to...</td>\n      <td>Taking advantage of economic failure and unpop...</td>\n      <td>entailment</td>\n      <td>5459</td>\n    </tr>\n    <tr>\n      <th>5460</th>\n      <td>Dendritic cells are named that because they re...</td>\n      <td>Dendritic cells serve as a link between the bo...</td>\n      <td>neutral</td>\n      <td>5460</td>\n    </tr>\n    <tr>\n      <th>5461</th>\n      <td>When did it retract to a inland formation?</td>\n      <td>However, the rainforest still managed to thriv...</td>\n      <td>neutral</td>\n      <td>5461</td>\n    </tr>\n    <tr>\n      <th>5462</th>\n      <td>Who discovered this and where did they come from?</td>\n      <td>The development of this fertile soil allowed a...</td>\n      <td>neutral</td>\n      <td>5462</td>\n    </tr>\n  </tbody>\n</table>\n<p>5463 rows × 4 columns</p>\n</div>"
     },
     "execution_count": 3,
     "metadata": {},
     "output_type": "execute_result"
    }
   ],
   "source": [
    "import pandas as pd\n",
    "pd.DataFrame(dataset['validation'])"
   ],
   "metadata": {
    "collapsed": false,
    "ExecuteTime": {
     "end_time": "2025-01-07T13:15:13.768400Z",
     "start_time": "2025-01-07T13:15:13.624493Z"
    }
   },
   "id": "e550ac3aa07932da"
  },
  {
   "cell_type": "code",
   "execution_count": 5,
   "outputs": [],
   "source": [
    "transform_back('/Users/anna/Documents/git projects.nosync/StyleTokenizer/data/GLUE_textflint/QNLI/DATA_VAL/trans_Pipeline_SpellingError_Typos_random_5463.json','/Users/anna/Documents/git projects.nosync/StyleTokenizer/data/GLUE_textflint/QNLI/qnli_val_textflint.csv')"
   ],
   "metadata": {
    "collapsed": false,
    "ExecuteTime": {
     "end_time": "2025-01-08T15:54:30.667432Z",
     "start_time": "2025-01-08T15:54:30.628620Z"
    }
   },
   "id": "3005357491cee400"
  },
  {
   "cell_type": "code",
   "execution_count": 7,
   "outputs": [],
   "source": [
    "transform_back(\n",
    "    '/Users/anna/Documents/git projects.nosync/StyleTokenizer/data/GLUE_textflint/QNLI/DATA_TRAIN/trans_Pipeline_SpellingError_Typos_random_104741.json',\n",
    "    '/Users/anna/Documents/git projects.nosync/StyleTokenizer/data/GLUE_textflint/QNLI/qnli_train_textflint.csv')"
   ],
   "metadata": {
    "collapsed": false,
    "ExecuteTime": {
     "end_time": "2025-01-08T15:54:43.595500Z",
     "start_time": "2025-01-08T15:54:43.013625Z"
    }
   },
   "id": "1d4c6df33065b972"
  },
  {
   "cell_type": "markdown",
   "source": [
    "# MNLI"
   ],
   "metadata": {
    "collapsed": false
   },
   "id": "b236154b1b333a9b"
  },
  {
   "cell_type": "code",
   "execution_count": 10,
   "outputs": [
    {
     "data": {
      "text/plain": "train-00000-of-00001.parquet:   0%|          | 0.00/52.2M [00:00<?, ?B/s]",
      "application/vnd.jupyter.widget-view+json": {
       "version_major": 2,
       "version_minor": 0,
       "model_id": "146bb9a575a24f379cb369656812e02f"
      }
     },
     "metadata": {},
     "output_type": "display_data"
    },
    {
     "data": {
      "text/plain": "(…)alidation_matched-00000-of-00001.parquet:   0%|          | 0.00/1.21M [00:00<?, ?B/s]",
      "application/vnd.jupyter.widget-view+json": {
       "version_major": 2,
       "version_minor": 0,
       "model_id": "b16a6d6faa4e408d9d07ecc3d1189f8c"
      }
     },
     "metadata": {},
     "output_type": "display_data"
    },
    {
     "data": {
      "text/plain": "(…)dation_mismatched-00000-of-00001.parquet:   0%|          | 0.00/1.25M [00:00<?, ?B/s]",
      "application/vnd.jupyter.widget-view+json": {
       "version_major": 2,
       "version_minor": 0,
       "model_id": "cb66b545b7b34fd5b1d76ba315841d48"
      }
     },
     "metadata": {},
     "output_type": "display_data"
    },
    {
     "data": {
      "text/plain": "test_matched-00000-of-00001.parquet:   0%|          | 0.00/1.22M [00:00<?, ?B/s]",
      "application/vnd.jupyter.widget-view+json": {
       "version_major": 2,
       "version_minor": 0,
       "model_id": "702f56fd94e34da29119152376ff9267"
      }
     },
     "metadata": {},
     "output_type": "display_data"
    },
    {
     "data": {
      "text/plain": "test_mismatched-00000-of-00001.parquet:   0%|          | 0.00/1.26M [00:00<?, ?B/s]",
      "application/vnd.jupyter.widget-view+json": {
       "version_major": 2,
       "version_minor": 0,
       "model_id": "e96daab41ed84e11914fbe6ac2bdc591"
      }
     },
     "metadata": {},
     "output_type": "display_data"
    },
    {
     "data": {
      "text/plain": "Generating train split:   0%|          | 0/392702 [00:00<?, ? examples/s]",
      "application/vnd.jupyter.widget-view+json": {
       "version_major": 2,
       "version_minor": 0,
       "model_id": "8ce3120e05884f11a8341367b27d634a"
      }
     },
     "metadata": {},
     "output_type": "display_data"
    },
    {
     "data": {
      "text/plain": "Generating validation_matched split:   0%|          | 0/9815 [00:00<?, ? examples/s]",
      "application/vnd.jupyter.widget-view+json": {
       "version_major": 2,
       "version_minor": 0,
       "model_id": "44c7a2081ac443b193a1ce94a1d2fa1f"
      }
     },
     "metadata": {},
     "output_type": "display_data"
    },
    {
     "data": {
      "text/plain": "Generating validation_mismatched split:   0%|          | 0/9832 [00:00<?, ? examples/s]",
      "application/vnd.jupyter.widget-view+json": {
       "version_major": 2,
       "version_minor": 0,
       "model_id": "978d60cd71114133a8350d48c4930b3c"
      }
     },
     "metadata": {},
     "output_type": "display_data"
    },
    {
     "data": {
      "text/plain": "Generating test_matched split:   0%|          | 0/9796 [00:00<?, ? examples/s]",
      "application/vnd.jupyter.widget-view+json": {
       "version_major": 2,
       "version_minor": 0,
       "model_id": "608b5d6d6a9247088939e066938a537a"
      }
     },
     "metadata": {},
     "output_type": "display_data"
    },
    {
     "data": {
      "text/plain": "Generating test_mismatched split:   0%|          | 0/9847 [00:00<?, ? examples/s]",
      "application/vnd.jupyter.widget-view+json": {
       "version_major": 2,
       "version_minor": 0,
       "model_id": "42bdf12653d64422b8af0294c69b9147"
      }
     },
     "metadata": {},
     "output_type": "display_data"
    },
    {
     "data": {
      "text/plain": "Casting the dataset:   0%|          | 0/392702 [00:00<?, ? examples/s]",
      "application/vnd.jupyter.widget-view+json": {
       "version_major": 2,
       "version_minor": 0,
       "model_id": "31e83f19990344fba2094cdbf1071701"
      }
     },
     "metadata": {},
     "output_type": "display_data"
    },
    {
     "data": {
      "text/plain": "Map:   0%|          | 0/392702 [00:00<?, ? examples/s]",
      "application/vnd.jupyter.widget-view+json": {
       "version_major": 2,
       "version_minor": 0,
       "model_id": "08d23f1294a8459fa8d1636881bf1586"
      }
     },
     "metadata": {},
     "output_type": "display_data"
    },
    {
     "data": {
      "text/plain": "Filter:   0%|          | 0/392702 [00:00<?, ? examples/s]",
      "application/vnd.jupyter.widget-view+json": {
       "version_major": 2,
       "version_minor": 0,
       "model_id": "79e68de9c84e49139e546e778e57b73c"
      }
     },
     "metadata": {},
     "output_type": "display_data"
    },
    {
     "data": {
      "text/plain": "Casting the dataset:   0%|          | 0/9815 [00:00<?, ? examples/s]",
      "application/vnd.jupyter.widget-view+json": {
       "version_major": 2,
       "version_minor": 0,
       "model_id": "1387ace2b69e49deb5307b9cb124f439"
      }
     },
     "metadata": {},
     "output_type": "display_data"
    },
    {
     "data": {
      "text/plain": "Map:   0%|          | 0/9815 [00:00<?, ? examples/s]",
      "application/vnd.jupyter.widget-view+json": {
       "version_major": 2,
       "version_minor": 0,
       "model_id": "09fbee105c874e768b053d3bee597a81"
      }
     },
     "metadata": {},
     "output_type": "display_data"
    },
    {
     "data": {
      "text/plain": "Filter:   0%|          | 0/9815 [00:00<?, ? examples/s]",
      "application/vnd.jupyter.widget-view+json": {
       "version_major": 2,
       "version_minor": 0,
       "model_id": "861b457cc0b24e89a02e8d2ad01ce884"
      }
     },
     "metadata": {},
     "output_type": "display_data"
    },
    {
     "data": {
      "text/plain": "Casting the dataset:   0%|          | 0/9832 [00:00<?, ? examples/s]",
      "application/vnd.jupyter.widget-view+json": {
       "version_major": 2,
       "version_minor": 0,
       "model_id": "309dba326c384386af67f7c182ab329e"
      }
     },
     "metadata": {},
     "output_type": "display_data"
    },
    {
     "data": {
      "text/plain": "Map:   0%|          | 0/9832 [00:00<?, ? examples/s]",
      "application/vnd.jupyter.widget-view+json": {
       "version_major": 2,
       "version_minor": 0,
       "model_id": "f4085d7046064050b0942076894399d9"
      }
     },
     "metadata": {},
     "output_type": "display_data"
    },
    {
     "data": {
      "text/plain": "Filter:   0%|          | 0/9832 [00:00<?, ? examples/s]",
      "application/vnd.jupyter.widget-view+json": {
       "version_major": 2,
       "version_minor": 0,
       "model_id": "76753159b3de44fead6ab2e9f5516e6e"
      }
     },
     "metadata": {},
     "output_type": "display_data"
    },
    {
     "data": {
      "text/plain": "Casting the dataset:   0%|          | 0/9796 [00:00<?, ? examples/s]",
      "application/vnd.jupyter.widget-view+json": {
       "version_major": 2,
       "version_minor": 0,
       "model_id": "94ad5743b88c467a87a068ec0658a27c"
      }
     },
     "metadata": {},
     "output_type": "display_data"
    },
    {
     "data": {
      "text/plain": "Map:   0%|          | 0/9796 [00:00<?, ? examples/s]",
      "application/vnd.jupyter.widget-view+json": {
       "version_major": 2,
       "version_minor": 0,
       "model_id": "6a79be82f92046d6a8540ea2d598ce83"
      }
     },
     "metadata": {},
     "output_type": "display_data"
    },
    {
     "data": {
      "text/plain": "Filter:   0%|          | 0/9796 [00:00<?, ? examples/s]",
      "application/vnd.jupyter.widget-view+json": {
       "version_major": 2,
       "version_minor": 0,
       "model_id": "7d4c4f75b2b649fbbbf93708e53a5f89"
      }
     },
     "metadata": {},
     "output_type": "display_data"
    },
    {
     "data": {
      "text/plain": "Casting the dataset:   0%|          | 0/9847 [00:00<?, ? examples/s]",
      "application/vnd.jupyter.widget-view+json": {
       "version_major": 2,
       "version_minor": 0,
       "model_id": "e201f3db659e4815967c0da562abaa46"
      }
     },
     "metadata": {},
     "output_type": "display_data"
    },
    {
     "data": {
      "text/plain": "Map:   0%|          | 0/9847 [00:00<?, ? examples/s]",
      "application/vnd.jupyter.widget-view+json": {
       "version_major": 2,
       "version_minor": 0,
       "model_id": "9d7d299ef4ce42a0a087c1f6be0178c3"
      }
     },
     "metadata": {},
     "output_type": "display_data"
    },
    {
     "data": {
      "text/plain": "Filter:   0%|          | 0/9847 [00:00<?, ? examples/s]",
      "application/vnd.jupyter.widget-view+json": {
       "version_major": 2,
       "version_minor": 0,
       "model_id": "05ecaa284d2f46409ca050edcac35e94"
      }
     },
     "metadata": {},
     "output_type": "display_data"
    },
    {
     "data": {
      "text/plain": "Creating CSV from Arrow format:   0%|          | 0/393 [00:00<?, ?ba/s]",
      "application/vnd.jupyter.widget-view+json": {
       "version_major": 2,
       "version_minor": 0,
       "model_id": "38a978e5e7b448a89e84e931a2672cc5"
      }
     },
     "metadata": {},
     "output_type": "display_data"
    },
    {
     "data": {
      "text/plain": "Creating CSV from Arrow format:   0%|          | 0/10 [00:00<?, ?ba/s]",
      "application/vnd.jupyter.widget-view+json": {
       "version_major": 2,
       "version_minor": 0,
       "model_id": "855eb7930f8e4ad2828366721579302a"
      }
     },
     "metadata": {},
     "output_type": "display_data"
    },
    {
     "data": {
      "text/plain": "Creating CSV from Arrow format:   0%|          | 0/10 [00:00<?, ?ba/s]",
      "application/vnd.jupyter.widget-view+json": {
       "version_major": 2,
       "version_minor": 0,
       "model_id": "eaa1d1df2aa94ec7a898cbe8e83142f7"
      }
     },
     "metadata": {},
     "output_type": "display_data"
    },
    {
     "data": {
      "text/plain": "1944084"
     },
     "execution_count": 10,
     "metadata": {},
     "output_type": "execute_result"
    }
   ],
   "source": [
    "from datasets import load_dataset\n",
    "dataset = load_dataset(\"glue\", \"mnli\")\n",
    "from datasets import Features, Value\n",
    "# Cast the label column to a string feature\n",
    "for split in dataset.keys():\n",
    "    dataset[split] = dataset[split].cast(\n",
    "        Features({**dataset[split].features, \"label\": Value(\"string\")})\n",
    "    )\n",
    "    dataset[split] = dataset[split].map(\n",
    "        lambda x: {\n",
    "            \"label\":\n",
    "                \"entailment\"\n",
    "                if x[\"label\"] == \"0\"\n",
    "                else \"contradiction\"\n",
    "                if x[\"label\"] == \"2\"\n",
    "                else \"neutral\"\n",
    "                if x[\"label\"] == \"1\"\n",
    "                else x[\"label\"]\n",
    "        }\n",
    "    )\n",
    "    # expects 'NLI': ['premise', 'hypothesis'], y instead of question, sentence, label\n",
    "    dataset[split] = dataset[split].rename_column('label', 'y')\n",
    "\n",
    "    # remoe elements where y is -1\n",
    "    dataset[split] = dataset[split].filter(lambda example: example[\"y\"] != -1)\n",
    "\n",
    "dataset['train'].to_csv('../data/GLUE_textflint/mnli_train.csv')\n",
    "dataset['validation_matched'].to_csv('../data/GLUE_textflint/mnli_validation-matched.csv')\n",
    "dataset['validation_mismatched'].to_csv('../data/GLUE_textflint/mnli_validation-mismatched.csv')"
   ],
   "metadata": {
    "collapsed": false,
    "ExecuteTime": {
     "end_time": "2025-01-07T16:31:31.727265Z",
     "start_time": "2025-01-07T16:31:15.710957Z"
    }
   },
   "id": "1ea0d3158c4c004a"
  },
  {
   "cell_type": "code",
   "execution_count": 8,
   "outputs": [],
   "source": [
    "def transform_back(file_path, out_path):\n",
    "    import json\n",
    "    data = []\n",
    "    with open(file_path, 'r', encoding='utf-8') as f:\n",
    "        for line in f:\n",
    "            # Strip whitespace and parse the JSON object\n",
    "            d = json.loads(line.strip())\n",
    "            data.append(d)\n",
    "\n",
    "    import pandas as pd\n",
    "    df = pd.DataFrame(data)\n",
    "\n",
    "    df = df.rename(columns={\"y\": \"label\"})\n",
    "    df['label'] = df['label'].apply(\n",
    "        lambda x: '0' if x == 'entailment' else '2' if x == 'contradiction' else '1' if x == 'neutral' else x\n",
    "    )\n",
    "\n",
    "    df.to_csv(out_path)  # \"../data/GLUE_textflint/sst2_dev_textflint.csv\""
   ],
   "metadata": {
    "collapsed": false,
    "ExecuteTime": {
     "end_time": "2025-01-08T15:57:32.067926Z",
     "start_time": "2025-01-08T15:57:32.054445Z"
    }
   },
   "id": "c9e29e4096128e15"
  },
  {
   "cell_type": "markdown",
   "source": [],
   "metadata": {
    "collapsed": false
   },
   "id": "3816b61525ef0ac4"
  },
  {
   "cell_type": "code",
   "execution_count": 9,
   "outputs": [],
   "source": [
    "transform_back('/Users/anna/Documents/git projects.nosync/StyleTokenizer/data/GLUE_textflint/MNLI/DATA_TRAIN/trans_Pipeline_SpellingError_Typos_random_391466.json','/Users/anna/Documents/git projects.nosync/StyleTokenizer/data/GLUE_textflint/MNLI/mnli_train_textflint.csv')"
   ],
   "metadata": {
    "collapsed": false,
    "ExecuteTime": {
     "end_time": "2025-01-08T15:57:35.664454Z",
     "start_time": "2025-01-08T15:57:33.945347Z"
    }
   },
   "id": "4f19806064e70c82"
  },
  {
   "cell_type": "code",
   "execution_count": 10,
   "outputs": [],
   "source": [
    "transform_back('/Users/anna/Documents/git projects.nosync/StyleTokenizer/data/GLUE_textflint/MNLI/DATA_VAL-MATCHED/trans_Pipeline_SpellingError_Typos_random_9779.json','/Users/anna/Documents/git projects.nosync/StyleTokenizer/data/GLUE_textflint/MNLI/mnli_val_matched_textflint.csv')"
   ],
   "metadata": {
    "collapsed": false,
    "ExecuteTime": {
     "end_time": "2025-01-08T15:57:35.707896Z",
     "start_time": "2025-01-08T15:57:35.665266Z"
    }
   },
   "id": "9140703b951566"
  },
  {
   "cell_type": "code",
   "execution_count": 11,
   "outputs": [],
   "source": [
    "transform_back('/Users/anna/Documents/git projects.nosync/StyleTokenizer/data/GLUE_textflint/MNLI/DATA_VAL-MISMATCHED/trans_Pipeline_SpellingError_Typos_random_9813.json','/Users/anna/Documents/git projects.nosync/StyleTokenizer/data/GLUE_textflint/MNLI/mnli_val_mismatched_textflint.csv')"
   ],
   "metadata": {
    "collapsed": false,
    "ExecuteTime": {
     "end_time": "2025-01-08T15:57:35.750542Z",
     "start_time": "2025-01-08T15:57:35.707975Z"
    }
   },
   "id": "355714bc4aa6b772"
  },
  {
   "cell_type": "markdown",
   "source": [
    "# QQP"
   ],
   "metadata": {
    "collapsed": false
   },
   "id": "9adb5d747cb3ebc6"
  },
  {
   "cell_type": "code",
   "execution_count": 18,
   "outputs": [
    {
     "data": {
      "text/plain": "train-00000-of-00001.parquet:   0%|          | 0.00/33.6M [00:00<?, ?B/s]",
      "application/vnd.jupyter.widget-view+json": {
       "version_major": 2,
       "version_minor": 0,
       "model_id": "647d3816bff54a05ad3c538e86f46ee1"
      }
     },
     "metadata": {},
     "output_type": "display_data"
    },
    {
     "data": {
      "text/plain": "validation-00000-of-00001.parquet:   0%|          | 0.00/3.73M [00:00<?, ?B/s]",
      "application/vnd.jupyter.widget-view+json": {
       "version_major": 2,
       "version_minor": 0,
       "model_id": "07776c4f20754e318ef1b2bfc2536564"
      }
     },
     "metadata": {},
     "output_type": "display_data"
    },
    {
     "data": {
      "text/plain": "test-00000-of-00001.parquet:   0%|          | 0.00/36.7M [00:00<?, ?B/s]",
      "application/vnd.jupyter.widget-view+json": {
       "version_major": 2,
       "version_minor": 0,
       "model_id": "bfbbea8828824ee5a9668e1ff7824470"
      }
     },
     "metadata": {},
     "output_type": "display_data"
    },
    {
     "data": {
      "text/plain": "Generating train split:   0%|          | 0/363846 [00:00<?, ? examples/s]",
      "application/vnd.jupyter.widget-view+json": {
       "version_major": 2,
       "version_minor": 0,
       "model_id": "119421bd79f840808e99a4ce740d8a65"
      }
     },
     "metadata": {},
     "output_type": "display_data"
    },
    {
     "data": {
      "text/plain": "Generating validation split:   0%|          | 0/40430 [00:00<?, ? examples/s]",
      "application/vnd.jupyter.widget-view+json": {
       "version_major": 2,
       "version_minor": 0,
       "model_id": "fa5a8d7c7b5c4aa9b2ec6d46b6c87b97"
      }
     },
     "metadata": {},
     "output_type": "display_data"
    },
    {
     "data": {
      "text/plain": "Generating test split:   0%|          | 0/390965 [00:00<?, ? examples/s]",
      "application/vnd.jupyter.widget-view+json": {
       "version_major": 2,
       "version_minor": 0,
       "model_id": "0f811c681843407e9e49329153857b9b"
      }
     },
     "metadata": {},
     "output_type": "display_data"
    },
    {
     "data": {
      "text/plain": "Casting the dataset:   0%|          | 0/363846 [00:00<?, ? examples/s]",
      "application/vnd.jupyter.widget-view+json": {
       "version_major": 2,
       "version_minor": 0,
       "model_id": "aab807f922f34dac812c0906093614a4"
      }
     },
     "metadata": {},
     "output_type": "display_data"
    },
    {
     "data": {
      "text/plain": "Map:   0%|          | 0/363846 [00:00<?, ? examples/s]",
      "application/vnd.jupyter.widget-view+json": {
       "version_major": 2,
       "version_minor": 0,
       "model_id": "3e68ebb5d96b4a6f9751cc1e6056112d"
      }
     },
     "metadata": {},
     "output_type": "display_data"
    },
    {
     "data": {
      "text/plain": "Filter:   0%|          | 0/363846 [00:00<?, ? examples/s]",
      "application/vnd.jupyter.widget-view+json": {
       "version_major": 2,
       "version_minor": 0,
       "model_id": "b1b86aa9d50f45ef97a38fcc8b42d6fc"
      }
     },
     "metadata": {},
     "output_type": "display_data"
    },
    {
     "data": {
      "text/plain": "Casting the dataset:   0%|          | 0/40430 [00:00<?, ? examples/s]",
      "application/vnd.jupyter.widget-view+json": {
       "version_major": 2,
       "version_minor": 0,
       "model_id": "eb9f6d38ab5c4b8bbd49df5cc0b8f31c"
      }
     },
     "metadata": {},
     "output_type": "display_data"
    },
    {
     "data": {
      "text/plain": "Map:   0%|          | 0/40430 [00:00<?, ? examples/s]",
      "application/vnd.jupyter.widget-view+json": {
       "version_major": 2,
       "version_minor": 0,
       "model_id": "79178fd6f48b425db00559c709718b00"
      }
     },
     "metadata": {},
     "output_type": "display_data"
    },
    {
     "data": {
      "text/plain": "Filter:   0%|          | 0/40430 [00:00<?, ? examples/s]",
      "application/vnd.jupyter.widget-view+json": {
       "version_major": 2,
       "version_minor": 0,
       "model_id": "eebbac87bf9542cca297a042a692e935"
      }
     },
     "metadata": {},
     "output_type": "display_data"
    },
    {
     "data": {
      "text/plain": "Casting the dataset:   0%|          | 0/390965 [00:00<?, ? examples/s]",
      "application/vnd.jupyter.widget-view+json": {
       "version_major": 2,
       "version_minor": 0,
       "model_id": "2b6cb2b80bda46cb82815e44c9d980f9"
      }
     },
     "metadata": {},
     "output_type": "display_data"
    },
    {
     "data": {
      "text/plain": "Map:   0%|          | 0/390965 [00:00<?, ? examples/s]",
      "application/vnd.jupyter.widget-view+json": {
       "version_major": 2,
       "version_minor": 0,
       "model_id": "ec940cf2bf83445599e04372fef66f9f"
      }
     },
     "metadata": {},
     "output_type": "display_data"
    },
    {
     "data": {
      "text/plain": "Filter:   0%|          | 0/390965 [00:00<?, ? examples/s]",
      "application/vnd.jupyter.widget-view+json": {
       "version_major": 2,
       "version_minor": 0,
       "model_id": "970b7f62e1b2488891a89ed9b697131d"
      }
     },
     "metadata": {},
     "output_type": "display_data"
    },
    {
     "data": {
      "text/plain": "Creating CSV from Arrow format:   0%|          | 0/364 [00:00<?, ?ba/s]",
      "application/vnd.jupyter.widget-view+json": {
       "version_major": 2,
       "version_minor": 0,
       "model_id": "784dcb8729b047e9a7b5719e4164bcd7"
      }
     },
     "metadata": {},
     "output_type": "display_data"
    },
    {
     "data": {
      "text/plain": "Creating CSV from Arrow format:   0%|          | 0/41 [00:00<?, ?ba/s]",
      "application/vnd.jupyter.widget-view+json": {
       "version_major": 2,
       "version_minor": 0,
       "model_id": "a3074ec759044b60bdaa08e688ae6d38"
      }
     },
     "metadata": {},
     "output_type": "display_data"
    },
    {
     "data": {
      "text/plain": "5553174"
     },
     "execution_count": 18,
     "metadata": {},
     "output_type": "execute_result"
    }
   ],
   "source": [
    "from datasets import load_dataset\n",
    "dataset = load_dataset(\"glue\", \"qqp\")\n",
    "from datasets import Features, Value\n",
    "# Cast the label column to a string feature\n",
    "for split in dataset.keys():\n",
    "    dataset[split] = dataset[split].cast(\n",
    "        Features({**dataset[split].features, \"label\": Value(\"string\")})\n",
    "    )\n",
    "    dataset[split] = dataset[split].map(\n",
    "        lambda x: {\n",
    "            \"label\":\n",
    "                \"neutral\"\n",
    "                if x[\"label\"] == \"0\"\n",
    "                else \"entailment\"\n",
    "                if x[\"label\"] == \"1\"\n",
    "                else x[\"label\"]\n",
    "        }\n",
    "    )\n",
    "    # expects 'NLI': ['premise', 'hypothesis'], y instead of question, sentence, label\n",
    "    dataset[split] = dataset[split].rename_column('label', 'y').rename_column('question1', 'premise').rename_column('question2', 'hypothesis')\n",
    "\n",
    "    # remove elements where y is -1\n",
    "    dataset[split] = dataset[split].filter(lambda example: example[\"y\"] != -1)\n",
    "\n",
    "dataset['train'].to_csv('../data/GLUE_textflint/qqp_train.csv')\n",
    "dataset['validation'].to_csv('../data/GLUE_textflint/qqp_validation.csv')"
   ],
   "metadata": {
    "collapsed": false,
    "ExecuteTime": {
     "end_time": "2025-01-07T17:09:52.001394Z",
     "start_time": "2025-01-07T17:09:30.791362Z"
    }
   },
   "id": "339ca5950b850a24"
  },
  {
   "cell_type": "code",
   "execution_count": 1,
   "outputs": [],
   "source": [
    "def transform_back(file_path, out_path):\n",
    "    import json\n",
    "    data = []\n",
    "    with open(file_path, 'r', encoding='utf-8') as f:\n",
    "        for line in f:\n",
    "            # Strip whitespace and parse the JSON object\n",
    "            d = json.loads(line.strip())\n",
    "            data.append(d)\n",
    "\n",
    "    import pandas as pd\n",
    "    df = pd.DataFrame(data)\n",
    "\n",
    "    df = df.rename(columns={\"premise\": \"question1\", \"hypothesis\": \"question2\", \"y\": \"label\"})\n",
    "    \n",
    "    df['label'] = df['label'].apply(\n",
    "        lambda x: '0' if x == 'neutral' else '1' if x == 'entailment' else x\n",
    "    )\n",
    "\n",
    "    df.to_csv(out_path) \n",
    "    "
   ],
   "metadata": {
    "collapsed": false,
    "ExecuteTime": {
     "end_time": "2025-01-08T15:29:50.792084Z",
     "start_time": "2025-01-08T15:29:50.789816Z"
    }
   },
   "id": "7a77e193d4b679e9"
  },
  {
   "cell_type": "code",
   "execution_count": 2,
   "outputs": [],
   "source": [
    "transform_back('/Users/anna/Documents/git projects.nosync/StyleTokenizer/data/GLUE_textflint/QQP/DATA_TRAIN/trans_Pipeline_SpellingError_Typos_random_363477.json','/Users/anna/Documents/git projects.nosync/StyleTokenizer/data/GLUE_textflint/QQP/qqp_train_textflint.csv')"
   ],
   "metadata": {
    "collapsed": false,
    "ExecuteTime": {
     "end_time": "2025-01-08T15:29:53.930204Z",
     "start_time": "2025-01-08T15:29:52.147616Z"
    }
   },
   "id": "8a34b76a89a1a6c9"
  },
  {
   "cell_type": "code",
   "execution_count": 3,
   "outputs": [],
   "source": [
    "transform_back('/Users/anna/Documents/git projects.nosync/StyleTokenizer/data/GLUE_textflint/QQP/DATA_VALIDATION/trans_Pipeline_SpellingError_Typos_random_40385.json','/Users/anna/Documents/git projects.nosync/StyleTokenizer/data/GLUE_textflint/QQP/qqp_val_textflint.csv')"
   ],
   "metadata": {
    "collapsed": false,
    "ExecuteTime": {
     "end_time": "2025-01-08T15:29:55.450491Z",
     "start_time": "2025-01-08T15:29:55.298945Z"
    }
   },
   "id": "75307dfe62d699eb"
  },
  {
   "cell_type": "code",
   "execution_count": null,
   "outputs": [],
   "source": [],
   "metadata": {
    "collapsed": false
   },
   "id": "b9ed6a7e3fab599f"
  }
 ],
 "metadata": {
  "kernelspec": {
   "display_name": "Python 3",
   "language": "python",
   "name": "python3"
  },
  "language_info": {
   "codemirror_mode": {
    "name": "ipython",
    "version": 2
   },
   "file_extension": ".py",
   "mimetype": "text/x-python",
   "name": "python",
   "nbconvert_exporter": "python",
   "pygments_lexer": "ipython2",
   "version": "2.7.6"
  }
 },
 "nbformat": 4,
 "nbformat_minor": 5
}
