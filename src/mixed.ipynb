{
 "cells": [
  {
   "cell_type": "code",
   "execution_count": null,
   "outputs": [],
   "source": [
    "dataset_path = \"/Users/anna/Documents/git projects.nosync/StyleTokenizer/data/fitting-corpora/mixed\""
   ],
   "metadata": {
    "collapsed": false
   },
   "id": "cf46e0dfda75aad1"
  },
  {
   "cell_type": "code",
   "execution_count": null,
   "outputs": [],
   "source": [],
   "metadata": {
    "collapsed": false
   },
   "id": "89efff9cd198da0a"
  },
  {
   "cell_type": "code",
   "execution_count": null,
   "outputs": [],
   "source": [],
   "metadata": {
    "collapsed": false
   },
   "id": "bee4b4581fbf5881"
  },
  {
   "cell_type": "code",
   "execution_count": 5,
   "outputs": [
    {
     "data": {
      "text/plain": "Loading dataset from disk:   0%|          | 0/22 [00:00<?, ?it/s]",
      "application/vnd.jupyter.widget-view+json": {
       "version_major": 2,
       "version_minor": 0,
       "model_id": "689b880d7f4042d6bffdf6f57471ec1e"
      }
     },
     "metadata": {},
     "output_type": "display_data"
    }
   ],
   "source": [
    "# laod datasets dataset\n",
    "from datasets import load_from_disk\n",
    "local_finder_addition = \"/Users/anna/sftp_mount/hpc_disk2/02-awegmann/TOKENIZER/data/fitting-corpora/pubmed\"\n",
    "dataset = load_from_disk(local_finder_addition)\n"
   ],
   "metadata": {
    "collapsed": false,
    "ExecuteTime": {
     "end_time": "2025-02-04T08:41:48.474322Z",
     "start_time": "2025-02-04T08:37:13.175587Z"
    }
   },
   "id": "e6c41682889c82c"
  },
  {
   "cell_type": "code",
   "execution_count": 7,
   "id": "initial_id",
   "metadata": {
    "collapsed": true,
    "ExecuteTime": {
     "end_time": "2025-02-04T08:43:42.251277Z",
     "start_time": "2025-02-04T08:43:42.245983Z"
    }
   },
   "outputs": [
    {
     "data": {
      "text/plain": "{'id': '26',\n 'text': \"Effects of some drugs on electrical activity of the gut in the postoperative period.\\nMyoelectrical activity of the gut has been studied in the postoperative period on 54 patients who underwent cholecystectomy. They have been divided into one control group and four other groups which were treated with pentagastrin, cholecystokinin, prostigmine or coherin (a posterior pituitary extract). In all patients, bursts of spikes were recorded during the early postoperative period. However, the slow waves were strongly disturbed at this time. Pentagastrin, CCK-PZ and prostigmine had no effect on the slow waves, while they increased the frequency of the spikes. These substances did not reduce the duration of the 'physiological' ileus. On the contrary, coherin was found to improve the regularity of the slow waves and to reduce the duration of the 'physiological' ileus.\",\n 'word_count': 132,\n 'source': 'thePile',\n 'domain': 'PubMed Abstracts'}"
     },
     "execution_count": 7,
     "metadata": {},
     "output_type": "execute_result"
    }
   ],
   "source": [
    "dataset[\"dev\"][1]"
   ]
  },
  {
   "cell_type": "code",
   "execution_count": 8,
   "outputs": [],
   "source": [
    "# sum word_count for each split\n",
    "word_counts = {split: sum(dataset[split][\"word_count\"]) for split in dataset.keys()}"
   ],
   "metadata": {
    "collapsed": false,
    "ExecuteTime": {
     "end_time": "2025-02-04T08:56:57.158710Z",
     "start_time": "2025-02-04T08:56:39.814147Z"
    }
   },
   "id": "f339e674e7f04f2c"
  },
  {
   "cell_type": "code",
   "execution_count": 9,
   "outputs": [
    {
     "data": {
      "text/plain": "{'train': 1469999499, 'dev': 15000106, 'test': 15000501}"
     },
     "execution_count": 9,
     "metadata": {},
     "output_type": "execute_result"
    }
   ],
   "source": [
    "word_counts"
   ],
   "metadata": {
    "collapsed": false,
    "ExecuteTime": {
     "end_time": "2025-02-04T09:02:01.030022Z",
     "start_time": "2025-02-04T09:02:01.024447Z"
    }
   },
   "id": "ed6d5991bd264f3"
  },
  {
   "cell_type": "code",
   "execution_count": null,
   "outputs": [],
   "source": [],
   "metadata": {
    "collapsed": false
   },
   "id": "912a9c2de4c203d8"
  }
 ],
 "metadata": {
  "kernelspec": {
   "display_name": "Python 3",
   "language": "python",
   "name": "python3"
  },
  "language_info": {
   "codemirror_mode": {
    "name": "ipython",
    "version": 2
   },
   "file_extension": ".py",
   "mimetype": "text/x-python",
   "name": "python",
   "nbconvert_exporter": "python",
   "pygments_lexer": "ipython2",
   "version": "2.7.6"
  }
 },
 "nbformat": 4,
 "nbformat_minor": 5
}
