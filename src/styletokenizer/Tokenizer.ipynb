{
 "cells": [
  {
   "cell_type": "code",
   "execution_count": 1,
   "id": "20c19601-ed20-4d35-9859-3864ab6d4104",
   "metadata": {},
   "outputs": [],
   "source": [
    "from transformers import AutoTokenizer"
   ]
  },
  {
   "cell_type": "markdown",
   "id": "bb34f72c-58d3-47e9-94f0-74cb6a7ee655",
   "metadata": {},
   "source": [
    "## Check vocab sizes"
   ]
  },
  {
   "cell_type": "code",
   "execution_count": 8,
   "id": "1fd8dd8b-36d1-4f2d-9568-431cb331fe65",
   "metadata": {},
   "outputs": [],
   "source": [
    "xlmroberta = AutoTokenizer.from_pretrained(\"xlm-roberta-base\")\n",
    "xlm_vocab = xlmroberta.get_vocab()"
   ]
  },
  {
   "cell_type": "code",
   "execution_count": 9,
   "id": "87f0751b-f45a-4977-b6bd-17989025875c",
   "metadata": {},
   "outputs": [
    {
     "data": {
      "text/plain": [
       "250002"
      ]
     },
     "execution_count": 9,
     "metadata": {},
     "output_type": "execute_result"
    }
   ],
   "source": [
    "len(xlm_vocab)"
   ]
  },
  {
   "cell_type": "code",
   "execution_count": null,
   "id": "d20fc50e-672b-4e73-a4dc-e8e9685227e3",
   "metadata": {},
   "outputs": [],
   "source": []
  },
  {
   "cell_type": "markdown",
   "id": "29c58e7f-8886-4ac5-af9b-722fbd41c5f6",
   "metadata": {},
   "source": [
    "## GPT2 and RoBERTa-Base are effectively the same tokenizer"
   ]
  },
  {
   "cell_type": "code",
   "execution_count": 2,
   "id": "bc059348-7a65-4750-b7b1-8e719c1c7f4f",
   "metadata": {},
   "outputs": [],
   "source": [
    "gpttokenizer = AutoTokenizer.from_pretrained(\"gpt2\")\n",
    "robertatokenizer = AutoTokenizer.from_pretrained(\"roberta-base\")\n",
    "gpt_vocab = gpttokenizer.get_vocab()\n",
    "roberta_vocab = robertatokenizer.get_vocab()"
   ]
  },
  {
   "cell_type": "code",
   "execution_count": 3,
   "id": "75ad79bb-07d5-4ca3-9fb4-30dc721c5721",
   "metadata": {},
   "outputs": [
    {
     "data": {
      "text/plain": [
       "50257"
      ]
     },
     "execution_count": 3,
     "metadata": {},
     "output_type": "execute_result"
    }
   ],
   "source": [
    "len(gpt_vocab)"
   ]
  },
  {
   "cell_type": "code",
   "execution_count": 4,
   "id": "d648bed8-3f0c-4304-b131-70f1e4b6b470",
   "metadata": {},
   "outputs": [
    {
     "data": {
      "text/plain": [
       "50265"
      ]
     },
     "execution_count": 4,
     "metadata": {},
     "output_type": "execute_result"
    }
   ],
   "source": [
    "len(roberta_vocab)"
   ]
  },
  {
   "cell_type": "markdown",
   "id": "149d73d0-e39b-46e3-9df3-e8039b54a453",
   "metadata": {},
   "source": [
    "**GPT-2 vocab is encompassed in RoBERTa-base vocab**"
   ]
  },
  {
   "cell_type": "code",
   "execution_count": 5,
   "id": "a4b657e2-10b8-4c6b-b9ef-cced1c02cf0b",
   "metadata": {},
   "outputs": [
    {
     "data": {
      "text/plain": [
       "50257"
      ]
     },
     "execution_count": 5,
     "metadata": {},
     "output_type": "execute_result"
    }
   ],
   "source": [
    "len(set(gpt_vocab).intersection(set(roberta_vocab)))"
   ]
  },
  {
   "cell_type": "code",
   "execution_count": 6,
   "id": "0d445936-6f61-4fa9-9db3-f11002dfa849",
   "metadata": {},
   "outputs": [
    {
     "data": {
      "text/plain": [
       "{'</s>',\n",
       " '<mask>',\n",
       " '<pad>',\n",
       " '<s>',\n",
       " '<unk>',\n",
       " 'madeupword0000',\n",
       " 'madeupword0001',\n",
       " 'madeupword0002'}"
      ]
     },
     "execution_count": 6,
     "metadata": {},
     "output_type": "execute_result"
    }
   ],
   "source": [
    "set(roberta_vocab) - set(gpt_vocab).intersection(set(roberta_vocab))"
   ]
  },
  {
   "cell_type": "code",
   "execution_count": null,
   "id": "a6e3daae-c24c-44e4-a6c3-ac2334333af2",
   "metadata": {},
   "outputs": [],
   "source": [
    "gpttokenizer = AutoTokenizer.from_pretrained(\"gpt2\")\n",
    "robertatokenizer = AutoTokenizer.from_pretrained(\"roberta-base\")"
   ]
  },
  {
   "cell_type": "markdown",
   "id": "75ed9054-55a8-4b81-809b-06a99b212c39",
   "metadata": {},
   "source": [
    "## Check encoding"
   ]
  },
  {
   "cell_type": "code",
   "execution_count": 7,
   "id": "9c144db5-272b-4d35-9eb4-9c834455d9d1",
   "metadata": {},
   "outputs": [],
   "source": [
    "def is_utf8(s):\n",
    "    \"\"\"\n",
    "    Checks if a string is valid UTF-8.\n",
    "    \"\"\"\n",
    "    try:\n",
    "        s.encode('utf-8').decode('utf-8')\n",
    "        return True\n",
    "    except (UnicodeDecodeError, UnicodeEncodeError):\n",
    "        return False"
   ]
  },
  {
   "cell_type": "code",
   "execution_count": 14,
   "id": "71043331-a4ab-4702-9806-303d2a2f16ec",
   "metadata": {},
   "outputs": [
    {
     "data": {
      "text/plain": [
       "28996"
      ]
     },
     "execution_count": 14,
     "metadata": {},
     "output_type": "execute_result"
    }
   ],
   "source": [
    "berttokenizer = AutoTokenizer.from_pretrained(\"bert-base-cased\")\n",
    "bert_vocab = berttokenizer.get_vocab()\n",
    "len(bert_vocab)"
   ]
  },
  {
   "cell_type": "code",
   "execution_count": null,
   "id": "dd3bd9d5-8af4-4565-9d4d-6c1a6eb88f51",
   "metadata": {},
   "outputs": [],
   "source": []
  }
 ],
 "metadata": {
  "kernelspec": {
   "display_name": "Python 3 (ipykernel)",
   "language": "python",
   "name": "python3"
  },
  "language_info": {
   "codemirror_mode": {
    "name": "ipython",
    "version": 3
   },
   "file_extension": ".py",
   "mimetype": "text/x-python",
   "name": "python",
   "nbconvert_exporter": "python",
   "pygments_lexer": "ipython3",
   "version": "3.11.9"
  }
 },
 "nbformat": 4,
 "nbformat_minor": 5
}
