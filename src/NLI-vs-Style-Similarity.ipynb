{
 "cells": [
  {
   "cell_type": "code",
   "execution_count": 1,
   "id": "initial_id",
   "metadata": {
    "collapsed": true,
    "ExecuteTime": {
     "end_time": "2024-12-12T13:00:32.285540Z",
     "start_time": "2024-12-12T13:00:23.712919Z"
    }
   },
   "outputs": [],
   "source": [
    "# import SNLI dataset from h\n",
    "from datasets import load_dataset\n",
    "\n",
    "dataset = load_dataset(\"snli\")\n",
    "# Access the splits\n",
    "train_data = dataset['train']\n",
    "validation_data = dataset['validation']\n",
    "test_data = dataset['test']"
   ]
  },
  {
   "cell_type": "code",
   "execution_count": 2,
   "outputs": [
    {
     "data": {
      "text/plain": "{'premise': 'A person on a horse jumps over a broken down airplane.',\n 'hypothesis': 'A person is training his horse for a competition.',\n 'label': 1}"
     },
     "execution_count": 2,
     "metadata": {},
     "output_type": "execute_result"
    }
   ],
   "source": [
    "train_data[0]"
   ],
   "metadata": {
    "collapsed": false,
    "ExecuteTime": {
     "end_time": "2024-12-11T10:51:08.902086Z",
     "start_time": "2024-12-11T10:51:08.887468Z"
    }
   },
   "id": "1111efc1a74c64b2"
  },
  {
   "cell_type": "code",
   "execution_count": 2,
   "outputs": [],
   "source": [
    "import re\n",
    "import string\n",
    "# Define the punctuation set we care about\n",
    "PUNCT = {'.', '!', '?'}\n",
    "common_contractions = {\n",
    "    \"do not\": \"don't\",\n",
    "    \"is not\": \"isn't\",\n",
    "    \"are not\": \"aren't\",\n",
    "    \"it is\": \"it's\",\n",
    "    \"that is\": \"that's\",\n",
    "    \"we are\": \"we're\",\n",
    "    \"you are\": \"you're\",\n",
    "    \"I am\": \"I'm\",\n",
    "    \"I will\": \"I'll\",\n",
    "    \"I would\": \"I'd\",\n",
    "    \"they are\": \"they're\",\n",
    "    \"will not\": \"won't\",\n",
    "    \"can not\": \"can't\",\n",
    "    \"there is\": \"there's\"\n",
    "}\n",
    "\n",
    "def encased_with_apostrophes(text):\n",
    "    # Check if the text is encased with standard quotes (artificat in SNLI)\n",
    "    return text.startswith('\"') and text.endswith('\"')\n",
    "\n",
    "def starts_with_uppercase_word(text):\n",
    "    # Strip leading whitespace and check if the first character is uppercase\n",
    "    text = text.lstrip()\n",
    "    if not text:\n",
    "        return False\n",
    "    return text[0].isupper()\n",
    "\n",
    "def ends_with_punctuation(text):\n",
    "    # Check if the last non-whitespace character is punctuation\n",
    "    text = text.rstrip()\n",
    "    return len(text) > 0 and text[-1] in PUNCT\n",
    "\n",
    "def contains_punctuation(text):\n",
    "    # Check if there's any punctuation in the text\n",
    "    # return any(ch in string.punctuation for ch in text)\n",
    "    return any(ch in PUNCT for ch in text)\n",
    "\n",
    "def whitespace_encoding(text):\n",
    "    # Identify all distinct whitespace code points used in the text.\n",
    "    # This will differentiate between e.g. U+0020 (normal space) and U+00A0 (no-break space).\n",
    "    whitespaces = set()\n",
    "    for ch in text:\n",
    "        if ch.isspace():\n",
    "            whitespaces.add(ord(ch))  # store the code point\n",
    "    return whitespaces\n",
    "\n",
    "def apostrophe_encoding(text):\n",
    "    # Extract all apostrophe-like characters: common are `'` and `’`\n",
    "    # Return a set of apostrophe chars used\n",
    "    # If you want to be more comprehensive, include other variants.\n",
    "    # Here we include backtick and right single quotation mark as well.\n",
    "    possible_apostrophes = {\"'\", \"’\", \"`\"}\n",
    "    apostrophes = {ch for ch in text if ch in possible_apostrophes}\n",
    "    return apostrophes\n",
    "\n",
    "def extract_number_patterns(text):\n",
    "    # Find all numbers and their surrounding formatting.\n",
    "    # We'll capture substrings around each digit sequence that may include punctuation and spacing.\n",
    "    number_patterns = []\n",
    "    for match in re.finditer(r\"\\d+\", text):\n",
    "        start, end = match.span()\n",
    "        # Extend outwards to include punctuation/whitespace directly adjacent to the digits\n",
    "        left = start\n",
    "        while left > 0 and (text[left-1] in string.punctuation or text[left-1].isspace()):\n",
    "            left -= 1\n",
    "        right = end\n",
    "        while right < len(text) and (text[right] in string.punctuation or text[right].isspace()):\n",
    "            right += 1\n",
    "        substring = text[left:right].strip()\n",
    "        number_patterns.append(substring)\n",
    "    return number_patterns\n",
    "\n",
    "def compare_number_formats(patterns1, patterns2):\n",
    "    # Check if both lists have the same number of numeric patterns\n",
    "    if len(patterns1) != len(patterns2):\n",
    "        return False\n",
    "    # Compare each pair of patterns\n",
    "    for p1, p2 in zip(patterns1, patterns2):\n",
    "        # Compare digits sequence\n",
    "        digits1 = re.sub(r\"\\D\", \"\", p1)\n",
    "        digits2 = re.sub(r\"\\D\", \"\", p2)\n",
    "        if digits1 != digits2:\n",
    "            return False\n",
    "        # Compare non-digit formatting\n",
    "        non_digits1 = re.sub(r\"\\d\", \"\", p1)\n",
    "        non_digits2 = re.sub(r\"\\d\", \"\", p2)\n",
    "        if non_digits1 != non_digits2:\n",
    "            return False\n",
    "    return True\n",
    "\n",
    "def contains_newline(text):\n",
    "    return \"\\n\" in text\n",
    "\n",
    "def contains_contractions(text):\n",
    "    # Check if text contains any of the known contracted forms\n",
    "    pattern = r'\\b(?:' + '|'.join(map(re.escape, common_contractions.values())) + r')\\b'\n",
    "    return bool(re.search(pattern, text, flags=re.IGNORECASE))\n",
    "\n",
    "def can_form_contractions(text):\n",
    "    # Check if text contains any expansions that could be turned into known contractions\n",
    "    # If we find at least one expansion pattern in the text, return True\n",
    "    for expansion in common_contractions.keys():\n",
    "        # Create a regex pattern for the expansion\n",
    "        exp_words = expansion.split()\n",
    "        pattern = r'\\b' + r'\\s+'.join(exp_words) + r'\\b'\n",
    "        if re.search(pattern, text, flags=re.IGNORECASE):\n",
    "            return True\n",
    "    return False\n"
   ],
   "metadata": {
    "collapsed": false,
    "ExecuteTime": {
     "end_time": "2024-12-12T13:00:32.312207Z",
     "start_time": "2024-12-12T13:00:32.296918Z"
    }
   },
   "id": "1fee0ccf675459f4"
  },
  {
   "cell_type": "code",
   "execution_count": 9,
   "outputs": [],
   "source": [
    "def compare_texts(text1, text2):\n",
    "    conditions = []\n",
    "    conditions.append(encased_with_apostrophes(text1) == encased_with_apostrophes(text2))\n",
    "    conditions.append(starts_with_uppercase_word(text1) == starts_with_uppercase_word(text2))\n",
    "    conditions.append(ends_with_punctuation(text1) == ends_with_punctuation(text2))\n",
    "    conditions.append(contains_punctuation(text1) == contains_punctuation(text2))\n",
    "    conditions.append(whitespace_encoding(text1) == whitespace_encoding(text2))\n",
    "    conditions.append(apostrophe_encoding(text1) == apostrophe_encoding(text2))\n",
    "    patterns1 = extract_number_patterns(text1)\n",
    "    patterns2 = extract_number_patterns(text2)\n",
    "    conditions.append(compare_number_formats(patterns1, patterns2))\n",
    "    conditions.append(contains_contractions(text1) == contains_contractions(text2))\n",
    "    similarity = sum(conditions) / len(conditions)\n",
    "    return similarity\n",
    "\n",
    "def make_texts_similar(text1, text2):\n",
    "    # Adjust Quotes\n",
    "    if encased_with_apostrophes(text1) != encased_with_apostrophes(text2):\n",
    "        if encased_with_apostrophes(text1) and not encased_with_apostrophes(text2):\n",
    "            text2 = '\"' + text2 + '\"'\n",
    "        elif not encased_with_apostrophes(text1) and encased_with_apostrophes(text2):\n",
    "            text2 = text2[1:-1]\n",
    "    \n",
    "    # Adjust capitalization at the start\n",
    "    if starts_with_uppercase_word(text1) != starts_with_uppercase_word(text2):\n",
    "        if starts_with_uppercase_word(text1) and not starts_with_uppercase_word(text2):\n",
    "            stripped = text2.lstrip()\n",
    "            if stripped:\n",
    "                start_idx = len(text2) - len(stripped)\n",
    "                text2 = text2[:start_idx] + stripped[0].upper() + stripped[1:]\n",
    "        elif not starts_with_uppercase_word(text1) and starts_with_uppercase_word(text2):\n",
    "            stripped = text2.lstrip()\n",
    "            if stripped:\n",
    "                start_idx = len(text2) - len(stripped)\n",
    "                text2 = text2[:start_idx] + stripped[0].lower() + stripped[1:]\n",
    "\n",
    "    # Adjust punctuation at the end\n",
    "    if ends_with_punctuation(text1) != ends_with_punctuation(text2):\n",
    "        if ends_with_punctuation(text1) and not ends_with_punctuation(text2):\n",
    "            t1_end_punct = text1.rstrip()[-1]\n",
    "            text2 = text2.rstrip() + t1_end_punct\n",
    "        elif not ends_with_punctuation(text1) and ends_with_punctuation(text2):\n",
    "            text2 = text2.rstrip()\n",
    "            while text2 and text2[-1] in PUNCT:\n",
    "                text2 = text2[:-1]\n",
    "\n",
    "    # Now text1 and text2 should be similar in capitalization and end punctuation.\n",
    "    # Apostrophe and whitespace encoding is the same initially.\n",
    "    # Randomly decide if we want to change them for BOTH texts simultaneously.\n",
    "    \n",
    "    # Random chance to change whitespace encoding for both\n",
    "    # For example, replace all regular spaces with non-breaking spaces in both texts\n",
    "    if random.random() < 0.5:\n",
    "        # Check if we have spaces\n",
    "        if \" \" in text1 or \" \" in text2:\n",
    "            # Replace all spaces with non-breaking spaces\n",
    "            text1 = text1.replace(\" \", \"\\u00A0\")\n",
    "            text2 = text2.replace(\" \", \"\\u00A0\")\n",
    "\n",
    "    # Random chance to change the dialect for both texts\n",
    "    if random.random() < 0.5:\n",
    "        # Randomly select a dialect from DIALECTS\n",
    "        attempts = 5  # limit attempts to avoid infinite loops\n",
    "        changed = False\n",
    "        while attempts > 0 and not changed:\n",
    "            try:\n",
    "                dialect = random.choice(DIALECTS)\n",
    "                text1 = dialect.transform(text1)\n",
    "                text2 = dialect.transform(text2)\n",
    "                changed = True\n",
    "            except:  # if the dialect transformation fails\n",
    "                print(f\"Failed to transform {text1} or {text2}. Retrying {attempts} more times ...\")\n",
    "            attempts -= 1\n",
    "\n",
    "    # Random chance to toggle apostrophe encoding for both\n",
    "    # If we have apostrophes, switch them from `'` to `’` or vice versa\n",
    "    apos1 = apostrophe_encoding(text1)\n",
    "    apos2 = apostrophe_encoding(text2)\n",
    "    # Since they are initially the same, we can just pick a toggle.\n",
    "    if random.random() < 0.5 and (apos1 and apos2):\n",
    "        # If we have at least one type of apostrophe in the texts\n",
    "        # If we find `'` in texts, replace it with `’`, else if `’` then replace with `'`\n",
    "        if \"'\" in text1 or \"'\" in text2:\n",
    "            # Replace `'` with `’`\n",
    "            text1 = text1.replace(\"'\", \"’\")\n",
    "            text2 = text2.replace(\"'\", \"’\")\n",
    "        elif \"’\" in text1 or \"’\" in text2:\n",
    "            # Replace `’` with `'`\n",
    "            text1 = text1.replace(\"’\", \"'\")\n",
    "            text2 = text2.replace(\"’\", \"'\")\n",
    "\n",
    "    return text1, text2\n",
    "    "
   ],
   "metadata": {
    "collapsed": false,
    "ExecuteTime": {
     "end_time": "2024-12-12T13:05:04.865918Z",
     "start_time": "2024-12-12T13:05:04.862203Z"
    }
   },
   "id": "3dd4afabfbbafb88"
  },
  {
   "cell_type": "code",
   "execution_count": 4,
   "outputs": [
    {
     "name": "stdout",
     "output_type": "stream",
     "text": [
      "Collecting en-core-web-sm==3.7.1\n",
      "  Downloading https://github.com/explosion/spacy-models/releases/download/en_core_web_sm-3.7.1/en_core_web_sm-3.7.1-py3-none-any.whl (12.8 MB)\n",
      "\u001B[2K     \u001B[90m━━━━━━━━━━━━━━━━━━━━━━━━━━━━━━━━━━━━━━━━\u001B[0m \u001B[32m12.8/12.8 MB\u001B[0m \u001B[31m28.0 MB/s\u001B[0m eta \u001B[36m0:00:00\u001B[0m00:01\u001B[0m00:01\u001B[0m\n",
      "\u001B[?25hRequirement already satisfied: spacy<3.8.0,>=3.7.2 in /Users/anna/anaconda3/envs/StyleTokenizer/lib/python3.11/site-packages (from en-core-web-sm==3.7.1) (3.7.4)\n",
      "Requirement already satisfied: spacy-legacy<3.1.0,>=3.0.11 in /Users/anna/anaconda3/envs/StyleTokenizer/lib/python3.11/site-packages (from spacy<3.8.0,>=3.7.2->en-core-web-sm==3.7.1) (3.0.12)\n",
      "Requirement already satisfied: spacy-loggers<2.0.0,>=1.0.0 in /Users/anna/anaconda3/envs/StyleTokenizer/lib/python3.11/site-packages (from spacy<3.8.0,>=3.7.2->en-core-web-sm==3.7.1) (1.0.5)\n",
      "Requirement already satisfied: murmurhash<1.1.0,>=0.28.0 in /Users/anna/anaconda3/envs/StyleTokenizer/lib/python3.11/site-packages (from spacy<3.8.0,>=3.7.2->en-core-web-sm==3.7.1) (1.0.10)\n",
      "Requirement already satisfied: cymem<2.1.0,>=2.0.2 in /Users/anna/anaconda3/envs/StyleTokenizer/lib/python3.11/site-packages (from spacy<3.8.0,>=3.7.2->en-core-web-sm==3.7.1) (2.0.8)\n",
      "Requirement already satisfied: preshed<3.1.0,>=3.0.2 in /Users/anna/anaconda3/envs/StyleTokenizer/lib/python3.11/site-packages (from spacy<3.8.0,>=3.7.2->en-core-web-sm==3.7.1) (3.0.9)\n",
      "Requirement already satisfied: thinc<8.3.0,>=8.2.2 in /Users/anna/anaconda3/envs/StyleTokenizer/lib/python3.11/site-packages (from spacy<3.8.0,>=3.7.2->en-core-web-sm==3.7.1) (8.2.3)\n",
      "Requirement already satisfied: wasabi<1.2.0,>=0.9.1 in /Users/anna/anaconda3/envs/StyleTokenizer/lib/python3.11/site-packages (from spacy<3.8.0,>=3.7.2->en-core-web-sm==3.7.1) (1.1.2)\n",
      "Requirement already satisfied: srsly<3.0.0,>=2.4.3 in /Users/anna/anaconda3/envs/StyleTokenizer/lib/python3.11/site-packages (from spacy<3.8.0,>=3.7.2->en-core-web-sm==3.7.1) (2.4.8)\n",
      "Requirement already satisfied: catalogue<2.1.0,>=2.0.6 in /Users/anna/anaconda3/envs/StyleTokenizer/lib/python3.11/site-packages (from spacy<3.8.0,>=3.7.2->en-core-web-sm==3.7.1) (2.0.10)\n",
      "Requirement already satisfied: weasel<0.4.0,>=0.1.0 in /Users/anna/anaconda3/envs/StyleTokenizer/lib/python3.11/site-packages (from spacy<3.8.0,>=3.7.2->en-core-web-sm==3.7.1) (0.3.4)\n",
      "Requirement already satisfied: typer<0.10.0,>=0.3.0 in /Users/anna/anaconda3/envs/StyleTokenizer/lib/python3.11/site-packages (from spacy<3.8.0,>=3.7.2->en-core-web-sm==3.7.1) (0.9.4)\n",
      "Requirement already satisfied: smart-open<7.0.0,>=5.2.1 in /Users/anna/anaconda3/envs/StyleTokenizer/lib/python3.11/site-packages (from spacy<3.8.0,>=3.7.2->en-core-web-sm==3.7.1) (6.4.0)\n",
      "Requirement already satisfied: tqdm<5.0.0,>=4.38.0 in /Users/anna/anaconda3/envs/StyleTokenizer/lib/python3.11/site-packages (from spacy<3.8.0,>=3.7.2->en-core-web-sm==3.7.1) (4.66.2)\n",
      "Requirement already satisfied: requests<3.0.0,>=2.13.0 in /Users/anna/anaconda3/envs/StyleTokenizer/lib/python3.11/site-packages (from spacy<3.8.0,>=3.7.2->en-core-web-sm==3.7.1) (2.31.0)\n",
      "Requirement already satisfied: pydantic!=1.8,!=1.8.1,<3.0.0,>=1.7.4 in /Users/anna/anaconda3/envs/StyleTokenizer/lib/python3.11/site-packages (from spacy<3.8.0,>=3.7.2->en-core-web-sm==3.7.1) (2.7.1)\n",
      "Requirement already satisfied: jinja2 in /Users/anna/anaconda3/envs/StyleTokenizer/lib/python3.11/site-packages (from spacy<3.8.0,>=3.7.2->en-core-web-sm==3.7.1) (3.1.3)\n",
      "Requirement already satisfied: setuptools in /Users/anna/anaconda3/envs/StyleTokenizer/lib/python3.11/site-packages (from spacy<3.8.0,>=3.7.2->en-core-web-sm==3.7.1) (68.2.2)\n",
      "Requirement already satisfied: packaging>=20.0 in /Users/anna/anaconda3/envs/StyleTokenizer/lib/python3.11/site-packages (from spacy<3.8.0,>=3.7.2->en-core-web-sm==3.7.1) (24.0)\n",
      "Requirement already satisfied: langcodes<4.0.0,>=3.2.0 in /Users/anna/anaconda3/envs/StyleTokenizer/lib/python3.11/site-packages (from spacy<3.8.0,>=3.7.2->en-core-web-sm==3.7.1) (3.4.0)\n",
      "Requirement already satisfied: numpy>=1.19.0 in /Users/anna/anaconda3/envs/StyleTokenizer/lib/python3.11/site-packages (from spacy<3.8.0,>=3.7.2->en-core-web-sm==3.7.1) (1.26.4)\n",
      "Requirement already satisfied: language-data>=1.2 in /Users/anna/anaconda3/envs/StyleTokenizer/lib/python3.11/site-packages (from langcodes<4.0.0,>=3.2.0->spacy<3.8.0,>=3.7.2->en-core-web-sm==3.7.1) (1.2.0)\n",
      "Requirement already satisfied: annotated-types>=0.4.0 in /Users/anna/anaconda3/envs/StyleTokenizer/lib/python3.11/site-packages (from pydantic!=1.8,!=1.8.1,<3.0.0,>=1.7.4->spacy<3.8.0,>=3.7.2->en-core-web-sm==3.7.1) (0.6.0)\n",
      "Requirement already satisfied: pydantic-core==2.18.2 in /Users/anna/anaconda3/envs/StyleTokenizer/lib/python3.11/site-packages (from pydantic!=1.8,!=1.8.1,<3.0.0,>=1.7.4->spacy<3.8.0,>=3.7.2->en-core-web-sm==3.7.1) (2.18.2)\n",
      "Requirement already satisfied: typing-extensions>=4.6.1 in /Users/anna/anaconda3/envs/StyleTokenizer/lib/python3.11/site-packages (from pydantic!=1.8,!=1.8.1,<3.0.0,>=1.7.4->spacy<3.8.0,>=3.7.2->en-core-web-sm==3.7.1) (4.11.0)\n",
      "Requirement already satisfied: charset-normalizer<4,>=2 in /Users/anna/anaconda3/envs/StyleTokenizer/lib/python3.11/site-packages (from requests<3.0.0,>=2.13.0->spacy<3.8.0,>=3.7.2->en-core-web-sm==3.7.1) (2.0.4)\n",
      "Requirement already satisfied: idna<4,>=2.5 in /Users/anna/anaconda3/envs/StyleTokenizer/lib/python3.11/site-packages (from requests<3.0.0,>=2.13.0->spacy<3.8.0,>=3.7.2->en-core-web-sm==3.7.1) (3.7)\n",
      "Requirement already satisfied: urllib3<3,>=1.21.1 in /Users/anna/anaconda3/envs/StyleTokenizer/lib/python3.11/site-packages (from requests<3.0.0,>=2.13.0->spacy<3.8.0,>=3.7.2->en-core-web-sm==3.7.1) (2.2.1)\n",
      "Requirement already satisfied: certifi>=2017.4.17 in /Users/anna/anaconda3/envs/StyleTokenizer/lib/python3.11/site-packages (from requests<3.0.0,>=2.13.0->spacy<3.8.0,>=3.7.2->en-core-web-sm==3.7.1) (2024.7.4)\n",
      "Requirement already satisfied: blis<0.8.0,>=0.7.8 in /Users/anna/anaconda3/envs/StyleTokenizer/lib/python3.11/site-packages (from thinc<8.3.0,>=8.2.2->spacy<3.8.0,>=3.7.2->en-core-web-sm==3.7.1) (0.7.11)\n",
      "Requirement already satisfied: confection<1.0.0,>=0.0.1 in /Users/anna/anaconda3/envs/StyleTokenizer/lib/python3.11/site-packages (from thinc<8.3.0,>=8.2.2->spacy<3.8.0,>=3.7.2->en-core-web-sm==3.7.1) (0.1.4)\n",
      "Requirement already satisfied: click<9.0.0,>=7.1.1 in /Users/anna/anaconda3/envs/StyleTokenizer/lib/python3.11/site-packages (from typer<0.10.0,>=0.3.0->spacy<3.8.0,>=3.7.2->en-core-web-sm==3.7.1) (7.1.1)\n",
      "Requirement already satisfied: cloudpathlib<0.17.0,>=0.7.0 in /Users/anna/anaconda3/envs/StyleTokenizer/lib/python3.11/site-packages (from weasel<0.4.0,>=0.1.0->spacy<3.8.0,>=3.7.2->en-core-web-sm==3.7.1) (0.16.0)\n",
      "Requirement already satisfied: MarkupSafe>=2.0 in /Users/anna/anaconda3/envs/StyleTokenizer/lib/python3.11/site-packages (from jinja2->spacy<3.8.0,>=3.7.2->en-core-web-sm==3.7.1) (2.1.5)\n",
      "Requirement already satisfied: marisa-trie>=0.7.7 in /Users/anna/anaconda3/envs/StyleTokenizer/lib/python3.11/site-packages (from language-data>=1.2->langcodes<4.0.0,>=3.2.0->spacy<3.8.0,>=3.7.2->en-core-web-sm==3.7.1) (1.1.0)\n",
      "\u001B[38;5;2m✔ Download and installation successful\u001B[0m\n",
      "You can now load the package via spacy.load('en_core_web_sm')\n",
      "\u001B[38;5;3m⚠ Restart to reload dependencies\u001B[0m\n",
      "If you are in a Jupyter or Colab notebook, you may need to restart Python in\n",
      "order to load all the package's dependencies. You can do this by selecting the\n",
      "'Restart kernel' or 'Restart runtime' option.\n"
     ]
    },
    {
     "name": "stderr",
     "output_type": "stream",
     "text": [
      "[nltk_data] Downloading package cmudict to /Users/anna/nltk_data...\n",
      "[nltk_data]   Package cmudict is already up-to-date!\n",
      "[nltk_data] Downloading package wordnet to /Users/anna/nltk_data...\n",
      "[nltk_data]   Package wordnet is already up-to-date!\n"
     ]
    }
   ],
   "source": [
    "from multivalue import Dialects\n",
    "DIALECTS = [Dialects.ColloquialSingaporeDialect(), Dialects.AfricanAmericanVernacular(), Dialects.ChicanoDialect(), Dialects.IndianDialect(), Dialects.AppalachianDialect(), \n",
    "            Dialects.NorthEnglandDialect(), Dialects.MalaysianDialect(), Dialects.AustralianDialect(), Dialects.HongKongDialect(), Dialects.NewZealandDialect(),\n",
    "            Dialects.NigerianDialect(), Dialects.PakistaniDialect(), Dialects.PhilippineDialect(), Dialects.SoutheastAmericanEnclaveDialect()]"
   ],
   "metadata": {
    "collapsed": false,
    "ExecuteTime": {
     "end_time": "2024-12-12T13:01:26.581212Z",
     "start_time": "2024-12-12T13:00:32.339993Z"
    }
   },
   "id": "c3018574e04c99ac"
  },
  {
   "cell_type": "code",
   "execution_count": 12,
   "outputs": [],
   "source": [
    "import random\n",
    "\n",
    "def flip_quotes(t):\n",
    "    if encased_with_apostrophes(t):\n",
    "        return t[1:-1], True\n",
    "    else:\n",
    "        return '\"' + t + '\"', True\n",
    "    \n",
    "def flip_capitalization(t):\n",
    "    stripped = t.lstrip()\n",
    "    if not stripped:\n",
    "        return t, False\n",
    "    start_idx = len(t) - len(stripped)\n",
    "    first_char = stripped[0]\n",
    "    if first_char.isalpha():\n",
    "        flipped = first_char.lower() if first_char.isupper() else first_char.upper()\n",
    "        new_t = t[:start_idx] + flipped + stripped[1:]\n",
    "        changed = (new_t != t)\n",
    "        return new_t, changed\n",
    "    else:\n",
    "        return t, False\n",
    "\n",
    "def toggle_end_punctuation(t):\n",
    "    if ends_with_punctuation(t):\n",
    "        original = t\n",
    "        t = t.rstrip()\n",
    "        while t and t[-1] in PUNCT:\n",
    "            t = t[:-1]\n",
    "        changed = (t != original)\n",
    "        return t, changed\n",
    "    else:\n",
    "        return t + \".\", True\n",
    "\n",
    "# def toggle_punctuation_presence(t):\n",
    "#     if contains_punctuation(t):\n",
    "#         original = t\n",
    "#         t = \"\".join(ch for ch in t if ch not in PUNCT).rstrip()\n",
    "#         changed = (t != original)\n",
    "#         return t, changed\n",
    "#     else:\n",
    "#         return t, False\n",
    "\n",
    "def toggle_whitespace_encoding(t):\n",
    "    # Assume it only includes \" \" whitespaces. Change those to non-breaking spaces (\\u00A0)\n",
    "    original = t\n",
    "    if \" \" in t:\n",
    "        # Replace all spaces with non-breaking spaces\n",
    "        t = t.replace(\" \", \"\\u00A0\")\n",
    "        changed = (t != original)\n",
    "        return t, changed\n",
    "    else:\n",
    "        # No spaces to change\n",
    "        return t, False\n",
    "\n",
    "def toggle_apostrophe_encoding(t):\n",
    "    original = t\n",
    "    apos = apostrophe_encoding(t)\n",
    "    if apos:\n",
    "        if \"'\" in apos and \"’\" in apos:\n",
    "            t = t.replace(\"'\", \"\\uFFFF\")\n",
    "            t = t.replace(\"’\", \"'\")\n",
    "            t = t.replace(\"\\uFFFF\", \"’\")\n",
    "        elif \"'\" in apos:\n",
    "            t = t.replace(\"'\", \"’\")\n",
    "        elif \"’\" in apos:\n",
    "            t = t.replace(\"’\", \"'\")\n",
    "        changed = (t != original)\n",
    "        return t, changed\n",
    "    else:\n",
    "        return t, False\n",
    "\n",
    "def toggle_number_format(t):\n",
    "    patterns = extract_number_patterns(t)\n",
    "    changed = False\n",
    "    if patterns:\n",
    "        for p in patterns:\n",
    "            if ',' in p:\n",
    "                new_p = re.sub(r\",\", \"\", p)\n",
    "                if new_p != p:\n",
    "                    idx = t.find(p)\n",
    "                    if idx != -1:\n",
    "                        t = t[:idx] + new_p + t[idx+len(p):]\n",
    "                        changed = True\n",
    "                        break\n",
    "    return t, changed\n",
    "\n",
    "def dialect_transform(text2):\n",
    "    # randomly select a dialect from DIALECTS\n",
    "    changed = False\n",
    "    attempts = 5  # limit attempts to avoid infinite loops\n",
    "    # transform\n",
    "    while not changed and attempts > 0:\n",
    "        dialect = random.choice(DIALECTS)\n",
    "        transformed_text = text2\n",
    "        try:\n",
    "            transformed_text = dialect.transform(text2)\n",
    "        except:  # if the dialect transformation fails\n",
    "            print(f\"Failed to transform with {text2}. Retrying {attempts} more times...\")\n",
    "        if transformed_text != text2:\n",
    "            return transformed_text, True\n",
    "        attempts -= 1\n",
    "    return text2, False\n",
    "        \n",
    "\n",
    "def maybe_add_contraction(text1, text2):\n",
    "    # Only add a contraction if:\n",
    "    # - text1 can form contractions\n",
    "    # - text1 has no contractions\n",
    "    # - text2 has no contractions\n",
    "    original = text2\n",
    "    if not can_form_contractions(text1):\n",
    "        return text2, False\n",
    "    if contains_contractions(text1) or contains_contractions(text2):\n",
    "        return text2, False\n",
    "\n",
    "    expansions = list(common_contractions.keys())\n",
    "    random.shuffle(expansions)\n",
    "\n",
    "    for expansion in expansions:\n",
    "        exp_words = expansion.split()\n",
    "        pattern = r'\\b' + r'\\s+'.join(exp_words) + r'\\b'\n",
    "        match = re.search(pattern, text2, flags=re.IGNORECASE)\n",
    "        if match:\n",
    "            contraction = common_contractions[expansion]\n",
    "            matched_text = match.group(0)\n",
    "            if matched_text[0].isupper():\n",
    "                contraction = contraction[0].upper() + contraction[1:]\n",
    "            text2 = text2[:match.start()] + contraction + text2[match.end():]\n",
    "            return text2, (text2 != original)\n",
    "\n",
    "    return text2, False\n",
    "\n",
    "\n",
    "\n",
    "def make_texts_distinct(text1, text2):\n",
    "    \"\"\"\n",
    "        Assumes to be called on SNLI text pairs\n",
    "    :param text1: \n",
    "    :param text2: \n",
    "    :return: \n",
    "    \"\"\"\n",
    "    transformations = [\n",
    "        flip_quotes,\n",
    "        flip_capitalization,\n",
    "        toggle_end_punctuation,\n",
    "        toggle_whitespace_encoding,\n",
    "        toggle_apostrophe_encoding,\n",
    "        toggle_number_format,\n",
    "        lambda t: maybe_add_contraction(text1, t),\n",
    "    ]\n",
    "    \n",
    "    # flip coin to to dialect_transform as this is a transformation that needs to run before all other transformations\n",
    "    text_modified = text2\n",
    "    if random.random() < 0.5:\n",
    "        text_modified, changed = dialect_transform(text2)\n",
    "\n",
    "    attempts = 20  # limit attempts to avoid infinite loops\n",
    "    while attempts > 0:\n",
    "        # Attempt two further random transformation\n",
    "        three_trans = random.sample(transformations, 3)\n",
    "        for transform in three_trans:\n",
    "            new_text, changed = transform(text_modified)\n",
    "            if changed:\n",
    "                text_modified = new_text\n",
    "        attempts -= 1\n",
    "        if text_modified != text2:\n",
    "            return text_modified\n",
    "\n",
    "    # If we exit the loop, we failed to reduce similarity\n",
    "    return text_modified\n",
    "\n",
    "\n",
    "    "
   ],
   "metadata": {
    "collapsed": false,
    "ExecuteTime": {
     "end_time": "2024-12-12T13:08:18.720523Z",
     "start_time": "2024-12-12T13:08:18.718526Z"
    }
   },
   "id": "15964367d2573682"
  },
  {
   "cell_type": "code",
   "execution_count": 27,
   "outputs": [
    {
     "name": "stdout",
     "output_type": "stream",
     "text": [
      "('I have talked with them yesterday.', True)\n"
     ]
    }
   ],
   "source": [
    "text_a = \"I talked with them yesterday.\"\n",
    "text_b = \"Hello,\\u00a0world!\"\n",
    "print(dialect_transform(text_a))\n"
   ],
   "metadata": {
    "collapsed": false,
    "ExecuteTime": {
     "end_time": "2024-12-12T09:37:35.031724Z",
     "start_time": "2024-12-12T09:37:28.386386Z"
    }
   },
   "id": "5de578f272ccd4c5"
  },
  {
   "cell_type": "code",
   "execution_count": 22,
   "outputs": [
    {
     "name": "stdout",
     "output_type": "stream",
     "text": [
      "Similarity score: 0.875\n"
     ]
    }
   ],
   "source": [
    "text_a = \"Hello, world!\"\n",
    "text_b = \"Hello,\\u00a0world!\"\n",
    "score = compare_texts(text_a, text_b)\n",
    "print(\"Similarity score:\", score)"
   ],
   "metadata": {
    "collapsed": false,
    "ExecuteTime": {
     "end_time": "2024-12-12T09:37:11.015339Z",
     "start_time": "2024-12-12T09:37:11.011Z"
    }
   },
   "id": "7ed8d149c3e0256"
  },
  {
   "cell_type": "code",
   "execution_count": 7,
   "outputs": [
    {
     "name": "stdout",
     "output_type": "stream",
     "text": [
      "Similarity score: 0.25\n"
     ]
    }
   ],
   "source": [
    "text_a = \"Hello, world!\\nThe price is 1,000 dollars. It’s great.\"\n",
    "text_b = \"hello world. The price is 1000 dollars It's great\"\n",
    "score = compare_texts(text_a, text_b)\n",
    "print(\"Similarity score:\", score)"
   ],
   "metadata": {
    "collapsed": false,
    "ExecuteTime": {
     "end_time": "2024-12-11T10:51:08.938841Z",
     "start_time": "2024-12-11T10:51:08.913535Z"
    }
   },
   "id": "53603be18299f695"
  },
  {
   "cell_type": "code",
   "execution_count": 8,
   "outputs": [
    {
     "name": "stdout",
     "output_type": "stream",
     "text": [
      "Similarity score: 0.75\n",
      "Synthesized text: Men are working on John Deere equipment.\n",
      "Similarity score: 0.875\n"
     ]
    }
   ],
   "source": [
    "text_a = \"The two farmers are working on a piece of John Deere equipment.\"\n",
    "text_b = \"Men are working on John Deere equipment\"\n",
    "score = compare_texts(text_a, text_b)\n",
    "print(\"Similarity score:\", score)\n",
    "text_b_synth = make_texts_similar(text_a, text_b)[1]\n",
    "print(\"Synthesized text:\", text_b_synth)\n",
    "score = compare_texts(text_a, text_b_synth)\n",
    "print(\"Similarity score:\", score)"
   ],
   "metadata": {
    "collapsed": false,
    "ExecuteTime": {
     "end_time": "2024-12-11T10:51:08.938980Z",
     "start_time": "2024-12-11T10:51:08.915891Z"
    }
   },
   "id": "60acb039abe67d71"
  },
  {
   "cell_type": "code",
   "execution_count": 9,
   "outputs": [
    {
     "name": "stdout",
     "output_type": "stream",
     "text": [
      "Similarity score: 1.0\n",
      "Synthesized text: there is a party\n",
      "Similarity score: 0.875\n"
     ]
    }
   ],
   "source": [
    "text_a = \"There is a party\"\n",
    "text_b = \"There is a party\"\n",
    "score = compare_texts(text_a, text_b)\n",
    "print(\"Similarity score:\", score)\n",
    "text_b_synth = make_texts_distinct(text_a, text_b)\n",
    "print(\"Synthesized text:\", text_b_synth)\n",
    "score = compare_texts(text_a, text_b_synth)\n",
    "print(\"Similarity score:\", score)"
   ],
   "metadata": {
    "collapsed": false,
    "ExecuteTime": {
     "end_time": "2024-12-11T10:51:08.939140Z",
     "start_time": "2024-12-11T10:51:08.918056Z"
    }
   },
   "id": "95956ea770054e1"
  },
  {
   "cell_type": "markdown",
   "source": [
    "## Data Augmentation for SNLI"
   ],
   "metadata": {
    "collapsed": false
   },
   "id": "d54e1e41b64ba7d"
  },
  {
   "cell_type": "code",
   "execution_count": null,
   "outputs": [
    {
     "name": "stderr",
     "output_type": "stream",
     "text": [
      "Processing splits:   0%|          | 0/3 [00:00<?, ?it/s]"
     ]
    },
    {
     "name": "stdout",
     "output_type": "stream",
     "text": [
      "Processing test\n"
     ]
    },
    {
     "name": "stderr",
     "output_type": "stream",
     "text": [
      "\n",
      "Processing examples in test:   0%|          | 0/10000 [00:00<?, ?it/s]\u001B[A\n",
      "Processing examples in test:   0%|          | 4/10000 [00:02<1:23:36,  1.99it/s]\u001B[A\n",
      "Processing examples in test:   0%|          | 9/10000 [00:02<50:51,  3.27it/s]  \u001B[A\n",
      "Processing examples in test:   0%|          | 11/10000 [00:04<1:00:48,  2.74it/s]\u001B[A\n",
      "Processing examples in test:   0%|          | 12/10000 [00:05<1:41:52,  1.63it/s]\u001B[A\n",
      "Processing examples in test:   0%|          | 15/10000 [00:07<1:24:38,  1.97it/s]\u001B[A\n",
      "Processing examples in test:   0%|          | 16/10000 [00:08<1:58:24,  1.41it/s]\u001B[A\n",
      "Processing examples in test:   0%|          | 17/10000 [00:10<2:32:22,  1.09it/s]\u001B[A\n",
      "Processing examples in test:   0%|          | 18/10000 [00:12<3:01:24,  1.09s/it]\u001B[A\n",
      "Processing examples in test:   0%|          | 19/10000 [00:14<3:28:27,  1.25s/it]\u001B[A\n",
      "Processing examples in test:   0%|          | 20/10000 [00:14<3:07:43,  1.13s/it]\u001B[A\n",
      "Processing examples in test:   0%|          | 22/10000 [00:15<2:18:43,  1.20it/s]\u001B[A\n",
      "Processing examples in test:   0%|          | 23/10000 [00:17<2:53:47,  1.05s/it]\u001B[A\n",
      "Processing examples in test:   0%|          | 25/10000 [00:18<2:07:51,  1.30it/s]\u001B[A\n",
      "Processing examples in test:   0%|          | 26/10000 [00:19<2:29:49,  1.11it/s]\u001B[A\n",
      "Processing examples in test:   0%|          | 27/10000 [00:20<2:48:48,  1.02s/it]\u001B[A\n",
      "Processing examples in test:   0%|          | 29/10000 [00:22<2:38:49,  1.05it/s]\u001B[A\n",
      "Processing examples in test:   0%|          | 32/10000 [00:24<2:00:28,  1.38it/s]\u001B[A\n",
      "Processing examples in test:   0%|          | 33/10000 [00:25<2:31:38,  1.10it/s]\u001B[A\n",
      "Processing examples in test:   0%|          | 34/10000 [00:27<2:45:19,  1.00it/s]\u001B[A\n",
      "Processing examples in test:   0%|          | 35/10000 [00:30<4:28:18,  1.62s/it]\u001B[A\n",
      "Processing examples in test:   0%|          | 37/10000 [00:31<3:04:29,  1.11s/it]\u001B[A\n",
      "Processing examples in test:   0%|          | 39/10000 [00:33<2:44:10,  1.01it/s]\u001B[A\n",
      "Processing examples in test:   0%|          | 41/10000 [00:34<2:34:09,  1.08it/s]\u001B[A\n",
      "Processing examples in test:   0%|          | 42/10000 [00:36<3:16:10,  1.18s/it]\u001B[A\n",
      "Processing examples in test:   0%|          | 44/10000 [00:37<2:28:44,  1.12it/s]\u001B[A\n",
      "Processing examples in test:   0%|          | 45/10000 [00:39<3:02:59,  1.10s/it]\u001B[A\n",
      "Processing examples in test:   0%|          | 48/10000 [00:41<2:29:38,  1.11it/s]\u001B[A\n",
      "Processing examples in test:   0%|          | 49/10000 [00:43<3:04:02,  1.11s/it]\u001B[A\n",
      "Processing examples in test:   1%|          | 53/10000 [00:45<2:13:53,  1.24it/s]\u001B[A\n",
      "Processing examples in test:   1%|          | 54/10000 [00:47<2:47:47,  1.01s/it]\u001B[A\n",
      "Processing examples in test:   1%|          | 56/10000 [00:49<2:51:45,  1.04s/it]\u001B[A\n",
      "Processing examples in test:   1%|          | 60/10000 [00:51<1:59:41,  1.38it/s]\u001B[A"
     ]
    },
    {
     "name": "stdout",
     "output_type": "stream",
     "text": [
      "Failed to transform with A snow field with a snowboarder on it. Retrying 5 more times...\n",
      "Failed to transform with A snow field with a snowboarder on it. Retrying 4 more times...\n",
      "Failed to transform with A snow field with a snowboarder on it. Retrying 3 more times...\n",
      "Failed to transform with A snow field with a snowboarder on it. Retrying 2 more times...\n"
     ]
    },
    {
     "name": "stderr",
     "output_type": "stream",
     "text": [
      "\n",
      "Processing examples in test:   1%|          | 67/10000 [00:55<1:52:24,  1.47it/s]\u001B[A"
     ]
    },
    {
     "name": "stdout",
     "output_type": "stream",
     "text": [
      "Failed to transform with A snow field with a snowboarder on it. Retrying 1 more times...\n"
     ]
    },
    {
     "name": "stderr",
     "output_type": "stream",
     "text": [
      "\n",
      "Processing examples in test:   1%|          | 68/10000 [00:57<2:14:28,  1.23it/s]\u001B[A\n",
      "Processing examples in test:   1%|          | 69/10000 [00:59<2:34:24,  1.07it/s]\u001B[A\n",
      "Processing examples in test:   1%|          | 76/10000 [01:01<1:31:54,  1.80it/s]\u001B[A\n",
      "Processing examples in test:   1%|          | 78/10000 [01:02<1:35:30,  1.73it/s]\u001B[A\n",
      "Processing examples in test:   1%|          | 79/10000 [01:04<1:51:09,  1.49it/s]\u001B[A\n",
      "Processing examples in test:   1%|          | 80/10000 [01:06<2:17:13,  1.20it/s]\u001B[A\n",
      "Processing examples in test:   1%|          | 81/10000 [01:07<2:31:11,  1.09it/s]\u001B[A\n",
      "Processing examples in test:   1%|          | 83/10000 [01:09<2:26:35,  1.13it/s]\u001B[A\n",
      "Processing examples in test:   1%|          | 90/10000 [01:10<1:20:37,  2.05it/s]\u001B[A\n",
      "Processing examples in test:   1%|          | 91/10000 [01:11<1:26:58,  1.90it/s]\u001B[A\n",
      "Processing examples in test:   1%|          | 94/10000 [01:12<1:23:31,  1.98it/s]\u001B[A\n",
      "Processing examples in test:   1%|          | 95/10000 [01:13<1:27:19,  1.89it/s]\u001B[A\n",
      "Processing examples in test:   1%|          | 96/10000 [01:14<1:33:11,  1.77it/s]\u001B[A\n",
      "Processing examples in test:   1%|          | 97/10000 [01:15<2:00:53,  1.37it/s]\u001B[A\n",
      "Processing examples in test:   1%|          | 99/10000 [01:17<2:07:21,  1.30it/s]\u001B[A\n",
      "Processing examples in test:   1%|          | 102/10000 [01:19<1:54:52,  1.44it/s]\u001B[A\n",
      "Processing examples in test:   1%|          | 105/10000 [01:20<1:45:54,  1.56it/s]\u001B[A\n",
      "Processing examples in test:   1%|          | 106/10000 [01:22<2:18:09,  1.19it/s]\u001B[A\n",
      "Processing examples in test:   1%|          | 109/10000 [01:23<1:47:18,  1.54it/s]\u001B[A\n",
      "Processing examples in test:   1%|          | 110/10000 [01:25<2:20:19,  1.17it/s]\u001B[A\n",
      "Processing examples in test:   1%|          | 112/10000 [01:26<1:55:11,  1.43it/s]\u001B[A\n",
      "Processing examples in test:   1%|          | 114/10000 [01:27<1:46:00,  1.55it/s]\u001B[A\n",
      "Processing examples in test:   1%|          | 116/10000 [01:28<1:41:20,  1.63it/s]\u001B[A\n",
      "Processing examples in test:   1%|          | 117/10000 [01:29<1:49:58,  1.50it/s]\u001B[A\n",
      "Processing examples in test:   1%|          | 121/10000 [01:31<1:35:08,  1.73it/s]\u001B[A"
     ]
    },
    {
     "name": "stdout",
     "output_type": "stream",
     "text": [
      "Failed to transform Two teenage girls conversing next to lockers. or Girls talking about their problems next to lockers.. Retrying 5 more times ...\n",
      "Failed to transform Two teenage girls conversing next to lockers. or Girls talking about their problems next to lockers.. Retrying 4 more times ...\n",
      "Failed to transform Two teenage girls a-conversing next to lockers. or Girls talking about their problems next to lockers.. Retrying 3 more times ...\n",
      "Failed to transform Two teenage girl a-a conversing next to lockers. or Girls talking about their problems next to lockers.. Retrying 2 more times ...\n"
     ]
    },
    {
     "name": "stderr",
     "output_type": "stream",
     "text": [
      "\n",
      "Processing examples in test:   1%|          | 123/10000 [01:40<4:24:20,  1.61s/it]\u001B[A"
     ]
    },
    {
     "name": "stdout",
     "output_type": "stream",
     "text": [
      "Failed to transform Two teenage girl a-a conversing next to lockers. or Girls talking about their problems next to lockers.. Retrying 1 more times ...\n"
     ]
    },
    {
     "name": "stderr",
     "output_type": "stream",
     "text": [
      "\n",
      "Processing examples in test:   1%|          | 124/10000 [01:42<4:34:03,  1.66s/it]\u001B[A\n",
      "Processing examples in test:   1%|▏         | 128/10000 [01:44<3:00:22,  1.10s/it]\u001B[A\n",
      "Processing examples in test:   1%|▏         | 134/10000 [01:45<1:39:49,  1.65it/s]\u001B[A\n",
      "Processing examples in test:   1%|▏         | 140/10000 [01:47<1:20:32,  2.04it/s]\u001B[A\n",
      "Processing examples in test:   1%|▏         | 141/10000 [01:48<1:40:08,  1.64it/s]\u001B[A\n",
      "Processing examples in test:   1%|▏         | 144/10000 [01:50<1:29:22,  1.84it/s]\u001B[A\n",
      "Processing examples in test:   1%|▏         | 148/10000 [01:51<1:19:52,  2.06it/s]\u001B[A\n",
      "Processing examples in test:   2%|▏         | 154/10000 [01:53<1:08:56,  2.38it/s]\u001B[A\n",
      "Processing examples in test:   2%|▏         | 155/10000 [01:54<1:23:45,  1.96it/s]\u001B[A\n",
      "Processing examples in test:   2%|▏         | 159/10000 [01:55<1:06:32,  2.47it/s]\u001B[A\n",
      "Processing examples in test:   2%|▏         | 160/10000 [01:57<1:21:10,  2.02it/s]\u001B[A\n",
      "Processing examples in test:   2%|▏         | 161/10000 [01:58<1:45:12,  1.56it/s]\u001B[A\n",
      "Processing examples in test:   2%|▏         | 162/10000 [02:00<2:19:54,  1.17it/s]\u001B[A\n",
      "Processing examples in test:   2%|▏         | 163/10000 [02:02<2:49:54,  1.04s/it]\u001B[A\n",
      "Processing examples in test:   2%|▏         | 164/10000 [02:03<2:44:00,  1.00s/it]\u001B[A\n",
      "Processing examples in test:   2%|▏         | 165/10000 [02:04<3:01:41,  1.11s/it]\u001B[A\n",
      "Processing examples in test:   2%|▏         | 168/10000 [02:06<2:09:48,  1.26it/s]\u001B[A\n",
      "Processing examples in test:   2%|▏         | 171/10000 [02:07<1:39:56,  1.64it/s]\u001B[A\n",
      "Processing examples in test:   2%|▏         | 172/10000 [02:08<2:00:59,  1.35it/s]\u001B[A\n",
      "Processing examples in test:   2%|▏         | 173/10000 [02:09<2:00:17,  1.36it/s]\u001B[A\n",
      "Processing examples in test:   2%|▏         | 176/10000 [02:10<1:36:00,  1.71it/s]\u001B[A\n",
      "Processing examples in test:   2%|▏         | 180/10000 [02:12<1:20:57,  2.02it/s]\u001B[A\n",
      "Processing examples in test:   2%|▏         | 181/10000 [02:12<1:28:44,  1.84it/s]\u001B[A\n",
      "Processing examples in test:   2%|▏         | 183/10000 [02:13<1:28:53,  1.84it/s]\u001B[A\n",
      "Processing examples in test:   2%|▏         | 184/10000 [02:14<1:35:00,  1.72it/s]\u001B[A\n",
      "Processing examples in test:   2%|▏         | 186/10000 [02:17<2:08:49,  1.27it/s]\u001B[A\n",
      "Processing examples in test:   2%|▏         | 187/10000 [02:18<2:29:35,  1.09it/s]\u001B[A\n",
      "Processing examples in test:   2%|▏         | 188/10000 [02:19<2:42:42,  1.01it/s]\u001B[A\n",
      "Processing examples in test:   2%|▏         | 189/10000 [02:21<2:49:45,  1.04s/it]\u001B[A\n",
      "Processing examples in test:   2%|▏         | 192/10000 [02:23<2:18:23,  1.18it/s]\u001B[A\n",
      "Processing examples in test:   2%|▏         | 193/10000 [02:24<2:25:56,  1.12it/s]\u001B[A\n",
      "Processing examples in test:   2%|▏         | 195/10000 [02:25<2:25:47,  1.12it/s]\u001B[A\n",
      "Processing examples in test:   2%|▏         | 198/10000 [02:26<1:40:56,  1.62it/s]\u001B[A\n",
      "Processing examples in test:   2%|▏         | 199/10000 [02:28<2:05:50,  1.30it/s]\u001B[A\n",
      "Processing examples in test:   2%|▏         | 201/10000 [02:29<1:55:57,  1.41it/s]\u001B[A\n",
      "Processing examples in test:   2%|▏         | 203/10000 [02:30<1:53:47,  1.43it/s]\u001B[A\n",
      "Processing examples in test:   2%|▏         | 207/10000 [02:32<1:25:52,  1.90it/s]\u001B[A\n",
      "Processing examples in test:   2%|▏         | 208/10000 [02:32<1:32:18,  1.77it/s]\u001B[A\n",
      "Processing examples in test:   2%|▏         | 209/10000 [02:34<1:53:40,  1.44it/s]\u001B[A\n",
      "Processing examples in test:   2%|▏         | 210/10000 [02:35<2:18:54,  1.17it/s]\u001B[A\n",
      "Processing examples in test:   2%|▏         | 211/10000 [02:37<3:03:20,  1.12s/it]\u001B[A\n",
      "Processing examples in test:   2%|▏         | 213/10000 [02:39<2:48:35,  1.03s/it]\u001B[A\n",
      "Processing examples in test:   2%|▏         | 215/10000 [02:40<2:15:18,  1.21it/s]\u001B[A\n",
      "Processing examples in test:   2%|▏         | 216/10000 [02:41<2:25:47,  1.12it/s]\u001B[A\n",
      "Processing examples in test:   2%|▏         | 219/10000 [02:43<2:17:33,  1.19it/s]\u001B[A\n",
      "Processing examples in test:   2%|▏         | 220/10000 [02:44<2:16:29,  1.19it/s]\u001B[A\n",
      "Processing examples in test:   2%|▏         | 222/10000 [02:46<2:06:19,  1.29it/s]\u001B[A\n",
      "Processing examples in test:   2%|▏         | 223/10000 [02:48<2:53:38,  1.07s/it]\u001B[A\n",
      "Processing examples in test:   2%|▏         | 225/10000 [02:49<2:31:27,  1.08it/s]\u001B[A\n",
      "Processing examples in test:   2%|▏         | 227/10000 [02:51<2:41:59,  1.01it/s]\u001B[A\n",
      "Processing examples in test:   2%|▏         | 229/10000 [02:53<2:20:19,  1.16it/s]\u001B[A\n",
      "Processing examples in test:   2%|▏         | 232/10000 [02:54<1:50:58,  1.47it/s]\u001B[A\n",
      "Processing examples in test:   2%|▏         | 233/10000 [02:55<2:06:18,  1.29it/s]\u001B[A\n",
      "Processing examples in test:   2%|▏         | 234/10000 [02:57<2:41:04,  1.01it/s]\u001B[A\n",
      "Processing examples in test:   2%|▏         | 237/10000 [02:59<2:09:14,  1.26it/s]\u001B[A\n",
      "Processing examples in test:   2%|▏         | 238/10000 [03:03<3:38:47,  1.34s/it]\u001B[A\n",
      "Processing examples in test:   2%|▏         | 239/10000 [03:05<4:13:38,  1.56s/it]\u001B[A\n",
      "Processing examples in test:   2%|▏         | 242/10000 [03:07<2:54:29,  1.07s/it]\u001B[A\n",
      "Processing examples in test:   2%|▏         | 245/10000 [03:09<2:31:06,  1.08it/s]\u001B[A\n",
      "Processing examples in test:   2%|▏         | 247/10000 [03:10<2:16:35,  1.19it/s]\u001B[A\n",
      "Processing examples in test:   2%|▏         | 248/10000 [03:12<2:46:54,  1.03s/it]\u001B[A\n",
      "Processing examples in test:   2%|▎         | 250/10000 [03:13<2:21:59,  1.14it/s]\u001B[A\n",
      "Processing examples in test:   3%|▎         | 252/10000 [03:15<2:16:46,  1.19it/s]\u001B[A\n",
      "Processing examples in test:   3%|▎         | 255/10000 [03:16<1:45:43,  1.54it/s]\u001B[A\n",
      "Processing examples in test:   3%|▎         | 256/10000 [03:16<1:47:24,  1.51it/s]\u001B[A\n",
      "Processing examples in test:   3%|▎         | 260/10000 [03:18<1:22:58,  1.96it/s]\u001B[A\n",
      "Processing examples in test:   3%|▎         | 262/10000 [03:19<1:18:48,  2.06it/s]\u001B[A\n",
      "Processing examples in test:   3%|▎         | 264/10000 [03:20<1:26:51,  1.87it/s]\u001B[A\n",
      "Processing examples in test:   3%|▎         | 266/10000 [03:21<1:18:34,  2.06it/s]\u001B[A\n",
      "Processing examples in test:   3%|▎         | 267/10000 [03:22<1:35:01,  1.71it/s]\u001B[A\n",
      "Processing examples in test:   3%|▎         | 270/10000 [03:23<1:19:47,  2.03it/s]\u001B[A\n",
      "Processing examples in test:   3%|▎         | 271/10000 [03:25<1:59:25,  1.36it/s]\u001B[A\n",
      "Processing examples in test:   3%|▎         | 272/10000 [03:27<2:44:02,  1.01s/it]\u001B[A\n",
      "Processing examples in test:   3%|▎         | 275/10000 [03:29<2:09:06,  1.26it/s]\u001B[A\n",
      "Processing examples in test:   3%|▎         | 276/10000 [03:30<2:14:14,  1.21it/s]\u001B[A\n",
      "Processing examples in test:   3%|▎         | 277/10000 [03:32<2:51:59,  1.06s/it]\u001B[A\n",
      "Processing examples in test:   3%|▎         | 278/10000 [03:33<3:20:34,  1.24s/it]\u001B[A\n",
      "Processing examples in test:   3%|▎         | 280/10000 [03:34<2:25:01,  1.12it/s]\u001B[A\n",
      "Processing examples in test:   3%|▎         | 281/10000 [03:35<2:31:44,  1.07it/s]\u001B[A"
     ]
    },
    {
     "name": "stdout",
     "output_type": "stream",
     "text": [
      "Failed to transform with A young boy showing his new skateboard tricks to his friends.. Retrying 5 more times...\n",
      "Failed to transform with A young boy showing his new skateboard tricks to his friends.. Retrying 4 more times...\n",
      "Failed to transform with A young boy showing his new skateboard tricks to his friends.. Retrying 3 more times...\n",
      "Failed to transform with A young boy showing his new skateboard tricks to his friends.. Retrying 2 more times...\n"
     ]
    },
    {
     "name": "stderr",
     "output_type": "stream",
     "text": [
      "\n",
      "Processing examples in test:   3%|▎         | 282/10000 [03:40<4:54:23,  1.82s/it]\u001B[A"
     ]
    },
    {
     "name": "stdout",
     "output_type": "stream",
     "text": [
      "Failed to transform with A young boy showing his new skateboard tricks to his friends.. Retrying 1 more times...\n"
     ]
    },
    {
     "name": "stderr",
     "output_type": "stream",
     "text": [
      "\n",
      "Processing examples in test:   3%|▎         | 283/10000 [03:42<5:03:08,  1.87s/it]\u001B[A\n",
      "Processing examples in test:   3%|▎         | 284/10000 [03:43<4:33:50,  1.69s/it]\u001B[A\n",
      "Processing examples in test:   3%|▎         | 286/10000 [03:44<3:17:47,  1.22s/it]\u001B[A\n",
      "Processing examples in test:   3%|▎         | 288/10000 [03:45<2:23:03,  1.13it/s]\u001B[A\n",
      "Processing examples in test:   3%|▎         | 294/10000 [03:46<1:12:34,  2.23it/s]\u001B[A\n",
      "Processing examples in test:   3%|▎         | 295/10000 [03:47<1:24:53,  1.91it/s]\u001B[A\n",
      "Processing examples in test:   3%|▎         | 300/10000 [03:48<1:05:59,  2.45it/s]\u001B[A\n",
      "Processing examples in test:   3%|▎         | 305/10000 [03:50<57:56,  2.79it/s]  \u001B[A\n",
      "Processing examples in test:   3%|▎         | 306/10000 [03:51<1:07:54,  2.38it/s]\u001B[A\n",
      "Processing examples in test:   3%|▎         | 311/10000 [03:52<53:54,  3.00it/s]  \u001B[A\n",
      "Processing examples in test:   3%|▎         | 312/10000 [03:53<1:08:03,  2.37it/s]\u001B[A\n",
      "Processing examples in test:   3%|▎         | 315/10000 [03:55<1:10:41,  2.28it/s]\u001B[A\n",
      "Processing examples in test:   3%|▎         | 316/10000 [03:56<1:40:01,  1.61it/s]\u001B[A\n",
      "Processing examples in test:   3%|▎         | 317/10000 [03:58<2:11:22,  1.23it/s]\u001B[A\n",
      "Processing examples in test:   3%|▎         | 318/10000 [03:59<2:06:24,  1.28it/s]\u001B[A\n",
      "Processing examples in test:   3%|▎         | 320/10000 [04:00<1:53:45,  1.42it/s]\u001B[A\n",
      "Processing examples in test:   3%|▎         | 321/10000 [04:01<2:14:56,  1.20it/s]\u001B[A\n",
      "Processing examples in test:   3%|▎         | 324/10000 [04:03<1:47:21,  1.50it/s]\u001B[A\n",
      "Processing examples in test:   3%|▎         | 331/10000 [04:04<1:05:45,  2.45it/s]\u001B[A\n",
      "Processing examples in test:   3%|▎         | 333/10000 [04:05<1:09:34,  2.32it/s]\u001B[A"
     ]
    },
    {
     "name": "stdout",
     "output_type": "stream",
     "text": [
      "Failed to transform Island native fishermen reeling in their nets after a long day's work. or The men caught many fish.. Retrying 5 more times ...\n",
      "Failed to transform Island native fishermen reeling in their nets after a long day's work. or The men caught many fish.. Retrying 4 more times ...\n",
      "Failed to transform Island native fishermen reeling in their nets after a long day's work. or The men caught many fish.. Retrying 3 more times ...\n",
      "Failed to transform Island native fishermen reeling in their nets after a long day's work. or The men caught many fish.. Retrying 2 more times ...\n"
     ]
    },
    {
     "name": "stderr",
     "output_type": "stream",
     "text": [
      "\n",
      "Processing examples in test:   3%|▎         | 334/10000 [04:11<2:57:04,  1.10s/it]\u001B[A"
     ]
    },
    {
     "name": "stdout",
     "output_type": "stream",
     "text": [
      "Failed to transform Island native fishermen reeling in their nets after a long day's work. or The men caught many fish.. Retrying 1 more times ...\n"
     ]
    },
    {
     "name": "stderr",
     "output_type": "stream",
     "text": [
      "\n",
      "Processing examples in test:   3%|▎         | 336/10000 [04:13<2:49:20,  1.05s/it]\u001B[A\n",
      "Processing examples in test:   3%|▎         | 337/10000 [04:21<5:31:58,  2.06s/it]\u001B[A\n",
      "Processing examples in test:   3%|▎         | 341/10000 [04:22<3:31:22,  1.31s/it]\u001B[A\n",
      "Processing examples in test:   3%|▎         | 345/10000 [04:24<2:24:10,  1.12it/s]\u001B[A\n",
      "Processing examples in test:   3%|▎         | 346/10000 [04:26<2:51:03,  1.06s/it]\u001B[A\n",
      "Processing examples in test:   3%|▎         | 347/10000 [04:28<3:08:30,  1.17s/it]\u001B[A\n",
      "Processing examples in test:   3%|▎         | 349/10000 [04:29<2:37:52,  1.02it/s]\u001B[A\n",
      "Processing examples in test:   4%|▎         | 350/10000 [04:32<3:31:01,  1.31s/it]\u001B[A\n",
      "Processing examples in test:   4%|▎         | 351/10000 [04:32<3:12:19,  1.20s/it]\u001B[A\n",
      "Processing examples in test:   4%|▎         | 353/10000 [04:34<2:58:21,  1.11s/it]\u001B[A\n",
      "Processing examples in test:   4%|▎         | 354/10000 [04:36<3:11:14,  1.19s/it]\u001B[A\n",
      "Processing examples in test:   4%|▎         | 358/10000 [04:36<1:41:23,  1.58it/s]\u001B[A\n",
      "Processing examples in test:   4%|▎         | 359/10000 [04:38<1:58:40,  1.35it/s]\u001B[A\n",
      "Processing examples in test:   4%|▎         | 360/10000 [04:40<2:39:23,  1.01it/s]\u001B[A\n",
      "Processing examples in test:   4%|▎         | 362/10000 [04:40<2:04:54,  1.29it/s]\u001B[A\n",
      "Processing examples in test:   4%|▎         | 364/10000 [04:42<2:04:29,  1.29it/s]\u001B[A\n",
      "Processing examples in test:   4%|▎         | 365/10000 [04:43<2:12:38,  1.21it/s]\u001B[A\n",
      "Processing examples in test:   4%|▎         | 366/10000 [04:44<2:29:58,  1.07it/s]\u001B[A\n",
      "Processing examples in test:   4%|▎         | 367/10000 [04:48<4:02:07,  1.51s/it]\u001B[A\n",
      "Processing examples in test:   4%|▎         | 369/10000 [04:50<3:21:49,  1.26s/it]\u001B[A\n",
      "Processing examples in test:   4%|▎         | 370/10000 [04:51<3:25:31,  1.28s/it]\u001B[A\n",
      "Processing examples in test:   4%|▎         | 374/10000 [04:52<1:44:42,  1.53it/s]\u001B[A\n",
      "Processing examples in test:   4%|▍         | 375/10000 [04:53<1:55:12,  1.39it/s]\u001B[A\n",
      "Processing examples in test:   4%|▍         | 376/10000 [04:54<2:12:31,  1.21it/s]\u001B[A\n",
      "Processing examples in test:   4%|▍         | 378/10000 [04:55<2:03:46,  1.30it/s]\u001B[A\n",
      "Processing examples in test:   4%|▍         | 379/10000 [04:57<2:43:44,  1.02s/it]\u001B[A\n",
      "Processing examples in test:   4%|▍         | 381/10000 [04:59<2:27:12,  1.09it/s]\u001B[A\n",
      "Processing examples in test:   4%|▍         | 382/10000 [05:00<2:40:38,  1.00s/it]\u001B[A\n",
      "Processing examples in test:   4%|▍         | 385/10000 [05:01<1:51:35,  1.44it/s]\u001B[A\n",
      "Processing examples in test:   4%|▍         | 386/10000 [05:03<2:22:08,  1.13it/s]\u001B[A\n",
      "Processing examples in test:   4%|▍         | 387/10000 [05:05<2:51:36,  1.07s/it]\u001B[A\n",
      "Processing examples in test:   4%|▍         | 388/10000 [05:06<2:51:56,  1.07s/it]\u001B[A\n",
      "Processing examples in test:   4%|▍         | 391/10000 [05:07<2:04:49,  1.28it/s]\u001B[A\n",
      "Processing examples in test:   4%|▍         | 394/10000 [05:09<1:56:31,  1.37it/s]\u001B[A\n",
      "Processing examples in test:   4%|▍         | 395/10000 [05:10<2:10:08,  1.23it/s]\u001B[A\n",
      "Processing examples in test:   4%|▍         | 396/10000 [05:12<2:31:20,  1.06it/s]\u001B[A\n",
      "Processing examples in test:   4%|▍         | 400/10000 [05:12<1:25:32,  1.87it/s]\u001B[A\n",
      "Processing examples in test:   4%|▍         | 402/10000 [05:14<1:31:33,  1.75it/s]\u001B[A"
     ]
    },
    {
     "name": "stdout",
     "output_type": "stream",
     "text": [
      "Failed to transform Four men playing drums in very orange lighting while one of them is also drinking something out of a bottle. or The men are musicians.. Retrying 5 more times ...\n",
      "Failed to transform Four men playing drums in very orange lighting while one of them is also drinking something out of a bottle. or The men are musicians.. Retrying 4 more times ...\n",
      "Failed to transform Four men playing drums in very orange lighting while one of them is also drinking something out of a bottle. or The men are musicians.. Retrying 3 more times ...\n",
      "Failed to transform Four men playing drums in very orange lighting while one of them is also drinking something out of a bottle. or The men are musicians.. Retrying 2 more times ...\n"
     ]
    },
    {
     "name": "stderr",
     "output_type": "stream",
     "text": [
      "\n",
      "Processing examples in test:   4%|▍         | 403/10000 [05:18<3:08:43,  1.18s/it]\u001B[A"
     ]
    },
    {
     "name": "stdout",
     "output_type": "stream",
     "text": [
      "Failed to transform Four men playing drums in very orange lighting while one of them is also drinking something out of a bottle. or The men are musicians.. Retrying 1 more times ...\n",
      "Failed to transform Four men playing drums in very orange lighting while one of them is also drinking something out of a bottle. or The men are asleep in the motel.. Retrying 5 more times ...\n",
      "Failed to transform Four men playing drums in very orange lighting while one of them is also drinking something out of a bottle. or The men are asleep in the motel.. Retrying 4 more times ...\n",
      "Failed to transform Four men playing drums in very orange lighting while one of them is also drinking something out of a bottle. or The men are asleep in the motel.. Retrying 3 more times ...\n",
      "Failed to transform Four men playing drums in very orange lighting while one of them is also drinking something out of a bottle. or The men are asleep in the motel.. Retrying 2 more times ...\n"
     ]
    },
    {
     "name": "stderr",
     "output_type": "stream",
     "text": [
      "\n",
      "Processing examples in test:   4%|▍         | 404/10000 [05:22<4:38:27,  1.74s/it]\u001B[A"
     ]
    },
    {
     "name": "stdout",
     "output_type": "stream",
     "text": [
      "Failed to transform Four men playing drums in very orange lighting while one of them is also drinking something out of a bottle. or The men are asleep in the motel.. Retrying 1 more times ...\n"
     ]
    },
    {
     "name": "stderr",
     "output_type": "stream",
     "text": [
      "\n",
      "Processing examples in test:   4%|▍         | 406/10000 [05:24<3:41:35,  1.39s/it]\u001B[A"
     ]
    },
    {
     "name": "stdout",
     "output_type": "stream",
     "text": [
      "Failed to transform Young boy in green and blue jerseys are kicking around  a soccer a ball while other a soccer games are taking a place in a a background. or Young boys waiting for their soccer game.. Retrying 5 more times ...\n",
      "Failed to transform Young boy in green and blue jerseys are a-kicking around  a soccer a ball for other a soccer games are a-taking a place in a a backgrounds. or Young boys waiting for their soccer game.. Retrying 4 more times ...\n",
      "Failed to transform Boy Young in    jerseys blue are -kicking around   soccer  ball for other a soccer games are -taking  place in   backgrounds. or Young boys waiting for their soccer game.. Retrying 3 more times ...\n",
      "Failed to transform Boy Young in    jerseys blue  -kicking around   soccer  ball for other the soccer game  -taking  place in   background. or Young boys waiting for their soccer game.. Retrying 2 more times ...\n"
     ]
    },
    {
     "name": "stderr",
     "output_type": "stream",
     "text": [
      "\n",
      "Processing examples in test:   4%|▍         | 407/10000 [05:31<7:05:50,  2.66s/it]\u001B[A"
     ]
    },
    {
     "name": "stdout",
     "output_type": "stream",
     "text": [
      "Failed to transform Boy Young in    jerseys blue  -kicking around   soccer  ball for other the soccer game  -taking  place in   backgrounds. or Young boys waiting for their soccer game.. Retrying 1 more times ...\n"
     ]
    },
    {
     "name": "stderr",
     "output_type": "stream",
     "text": [
      "\n",
      "Processing examples in test:   4%|▍         | 409/10000 [05:33<5:12:33,  1.96s/it]\u001B[A\n",
      "Processing examples in test:   4%|▍         | 410/10000 [05:34<4:58:19,  1.87s/it]\u001B[A\n",
      "Processing examples in test:   4%|▍         | 413/10000 [05:36<3:07:04,  1.17s/it]\u001B[A\n",
      "Processing examples in test:   4%|▍         | 415/10000 [05:38<3:12:40,  1.21s/it]\u001B[A\n",
      "Processing examples in test:   4%|▍         | 416/10000 [05:40<3:21:30,  1.26s/it]\u001B[A\n",
      "Processing examples in test:   4%|▍         | 419/10000 [05:41<2:33:41,  1.04it/s]\u001B[A\n",
      "Processing examples in test:   4%|▍         | 420/10000 [05:43<2:38:18,  1.01it/s]\u001B[A\n",
      "Processing examples in test:   4%|▍         | 423/10000 [05:45<2:20:33,  1.14it/s]\u001B[A\n",
      "Processing examples in test:   4%|▍         | 424/10000 [05:47<2:48:11,  1.05s/it]\u001B[A\n",
      "Processing examples in test:   4%|▍         | 425/10000 [05:50<3:53:14,  1.46s/it]\u001B[A\n",
      "Processing examples in test:   4%|▍         | 426/10000 [05:51<3:27:23,  1.30s/it]\u001B[A\n",
      "Processing examples in test:   4%|▍         | 427/10000 [05:52<3:17:07,  1.24s/it]\u001B[A"
     ]
    },
    {
     "name": "stdout",
     "output_type": "stream",
     "text": [
      "Failed to transform A black man wearing a down jacket with his arms spread and holding a pink comb. or A man was wearing a jacket while holding a comb.. Retrying 5 more times ...\n",
      "Failed to transform A black man wearing a down jacket with his arms spread and holding a pink comb. or A man was wearing a jacket while holding a comb.. Retrying 4 more times ...\n",
      "Failed to transform A black man wearing a down jacket with his arms spread and holding a pink comb. or A man was wearing a jacket while holding a comb.. Retrying 3 more times ...\n",
      "Failed to transform A black man wearing a down jacket with his arms spread and holding a pink comb. or A man was wearing a jacket while holding a comb.. Retrying 2 more times ...\n"
     ]
    },
    {
     "name": "stderr",
     "output_type": "stream",
     "text": [
      "\n",
      "Processing examples in test:   4%|▍         | 429/10000 [05:57<4:51:33,  1.83s/it]\u001B[A"
     ]
    },
    {
     "name": "stdout",
     "output_type": "stream",
     "text": [
      "Failed to transform A black man wearing a down jacket with his arms spread and holding a pink comb. or A man was wearing a jacket while holding a comb.. Retrying 1 more times ...\n"
     ]
    },
    {
     "name": "stderr",
     "output_type": "stream",
     "text": [
      "\n",
      "Processing examples in test:   4%|▍         | 431/10000 [05:59<3:57:38,  1.49s/it]\u001B[A\n",
      "Processing examples in test:   4%|▍         | 432/10000 [06:01<4:15:43,  1.60s/it]\u001B[A\n",
      "Processing examples in test:   4%|▍         | 433/10000 [06:02<3:51:01,  1.45s/it]\u001B[A\n",
      "Processing examples in test:   4%|▍         | 434/10000 [06:04<4:09:19,  1.56s/it]\u001B[A\n",
      "Processing examples in test:   4%|▍         | 435/10000 [06:06<4:23:00,  1.65s/it]\u001B[A\n",
      "Processing examples in test:   4%|▍         | 438/10000 [06:07<2:35:47,  1.02it/s]\u001B[A\n",
      "Processing examples in test:   4%|▍         | 440/10000 [06:09<2:43:35,  1.03s/it]\u001B[A\n",
      "Processing examples in test:   4%|▍         | 444/10000 [06:10<1:45:30,  1.51it/s]\u001B[A\n",
      "Processing examples in test:   4%|▍         | 445/10000 [06:11<1:49:03,  1.46it/s]\u001B[A\n",
      "Processing examples in test:   4%|▍         | 446/10000 [06:12<2:03:53,  1.29it/s]\u001B[A\n",
      "Processing examples in test:   4%|▍         | 447/10000 [06:13<2:14:32,  1.18it/s]\u001B[A\n",
      "Processing examples in test:   4%|▍         | 449/10000 [06:14<1:44:44,  1.52it/s]\u001B[A\n",
      "Processing examples in test:   5%|▍         | 451/10000 [06:15<1:38:15,  1.62it/s]\u001B[A\n",
      "Processing examples in test:   5%|▍         | 452/10000 [06:17<2:19:35,  1.14it/s]\u001B[A\n",
      "Processing examples in test:   5%|▍         | 455/10000 [06:18<1:46:49,  1.49it/s]\u001B[A\n",
      "Processing examples in test:   5%|▍         | 460/10000 [06:19<1:09:53,  2.28it/s]\u001B[A\n",
      "Processing examples in test:   5%|▍         | 461/10000 [06:20<1:16:06,  2.09it/s]\u001B[A\n",
      "Processing examples in test:   5%|▍         | 463/10000 [06:21<1:17:17,  2.06it/s]\u001B[A\n",
      "Processing examples in test:   5%|▍         | 467/10000 [06:22<1:08:17,  2.33it/s]\u001B[A\n",
      "Processing examples in test:   5%|▍         | 471/10000 [06:23<53:04,  2.99it/s]  \u001B[A\n",
      "Processing examples in test:   5%|▍         | 478/10000 [06:24<38:59,  4.07it/s]\u001B[A\n",
      "Processing examples in test:   5%|▍         | 479/10000 [06:25<48:45,  3.25it/s]\u001B[A\n",
      "Processing examples in test:   5%|▍         | 480/10000 [06:26<55:51,  2.84it/s]\u001B[A\n",
      "Processing examples in test:   5%|▍         | 482/10000 [06:28<1:16:44,  2.07it/s]\u001B[A\n",
      "Processing examples in test:   5%|▍         | 483/10000 [06:29<1:34:02,  1.69it/s]\u001B[A\n",
      "Processing examples in test:   5%|▍         | 484/10000 [06:31<2:09:02,  1.23it/s]\u001B[A\n",
      "Processing examples in test:   5%|▍         | 486/10000 [06:32<2:02:30,  1.29it/s]\u001B[A\n",
      "Processing examples in test:   5%|▍         | 488/10000 [06:34<2:11:38,  1.20it/s]\u001B[A\n",
      "Processing examples in test:   5%|▍         | 490/10000 [06:36<2:08:55,  1.23it/s]\u001B[A\n",
      "Processing examples in test:   5%|▍         | 492/10000 [06:37<2:12:44,  1.19it/s]\u001B[A\n",
      "Processing examples in test:   5%|▍         | 495/10000 [06:39<2:03:48,  1.28it/s]\u001B[A\n",
      "Processing examples in test:   5%|▍         | 498/10000 [06:41<1:50:01,  1.44it/s]\u001B[A\n",
      "Processing examples in test:   5%|▍         | 499/10000 [06:43<2:11:47,  1.20it/s]\u001B[A\n",
      "Processing examples in test:   5%|▌         | 502/10000 [06:44<1:44:16,  1.52it/s]\u001B[A\n",
      "Processing examples in test:   5%|▌         | 503/10000 [06:46<2:15:35,  1.17it/s]\u001B[A\n",
      "Processing examples in test:   5%|▌         | 505/10000 [06:48<2:20:01,  1.13it/s]\u001B[A\n",
      "Processing examples in test:   5%|▌         | 507/10000 [06:49<2:06:24,  1.25it/s]\u001B[A\n",
      "Processing examples in test:   5%|▌         | 510/10000 [06:50<1:40:49,  1.57it/s]\u001B[A\n",
      "Processing examples in test:   5%|▌         | 513/10000 [06:51<1:26:55,  1.82it/s]\u001B[A\n",
      "Processing examples in test:   5%|▌         | 514/10000 [06:53<1:59:12,  1.33it/s]\u001B[A\n",
      "Processing examples in test:   5%|▌         | 515/10000 [06:55<2:35:52,  1.01it/s]\u001B[A\n",
      "Processing examples in test:   5%|▌         | 516/10000 [06:56<2:44:35,  1.04s/it]\u001B[A"
     ]
    },
    {
     "name": "stdout",
     "output_type": "stream",
     "text": [
      "Failed to transform an old shoemaker in his factory or the shoemaker is getting ready for his 16th birthday. Retrying 5 more times ...\n",
      "Failed to transform an old shoemaker in his factory or the shoemaker is getting ready for his 16th birthday. Retrying 4 more times ...\n",
      "Failed to transform an old shoemaker in his factory or the shoemaker is getting ready for his 16th birthday. Retrying 3 more times ...\n",
      "Failed to transform an old shoemaker in his factory or the shoemaker is getting ready for his 16th birthday. Retrying 2 more times ...\n"
     ]
    },
    {
     "name": "stderr",
     "output_type": "stream",
     "text": [
      "\n",
      "Processing examples in test:   5%|▌         | 518/10000 [07:02<4:11:32,  1.59s/it]\u001B[A"
     ]
    },
    {
     "name": "stdout",
     "output_type": "stream",
     "text": [
      "Failed to transform an old shoemaker in his factory or the shoemaker is getting ready for his 16th birthday. Retrying 1 more times ...\n"
     ]
    },
    {
     "name": "stderr",
     "output_type": "stream",
     "text": [
      "\n",
      "Processing examples in test:   5%|▌         | 520/10000 [07:03<3:10:57,  1.21s/it]\u001B[A\n",
      "Processing examples in test:   5%|▌         | 522/10000 [07:04<2:41:46,  1.02s/it]\u001B[A\n",
      "Processing examples in test:   5%|▌         | 524/10000 [07:05<2:16:24,  1.16it/s]\u001B[A\n",
      "Processing examples in test:   5%|▌         | 526/10000 [07:06<2:11:18,  1.20it/s]\u001B[A\n",
      "Processing examples in test:   5%|▌         | 527/10000 [07:08<2:40:59,  1.02s/it]\u001B[A\n",
      "Processing examples in test:   5%|▌         | 529/10000 [07:10<2:33:41,  1.03it/s]\u001B[A\n",
      "Processing examples in test:   5%|▌         | 530/10000 [07:12<2:58:28,  1.13s/it]\u001B[A\n",
      "Processing examples in test:   5%|▌         | 533/10000 [07:13<2:09:38,  1.22it/s]\u001B[A\n",
      "Processing examples in test:   5%|▌         | 535/10000 [07:14<1:57:47,  1.34it/s]\u001B[A\n",
      "Processing examples in test:   5%|▌         | 539/10000 [07:15<1:17:03,  2.05it/s]\u001B[A\n",
      "Processing examples in test:   5%|▌         | 541/10000 [07:16<1:23:36,  1.89it/s]\u001B[A\n",
      "Processing examples in test:   5%|▌         | 542/10000 [07:18<1:40:22,  1.57it/s]\u001B[A\n",
      "Processing examples in test:   5%|▌         | 543/10000 [07:19<2:12:08,  1.19it/s]\u001B[A\n",
      "Processing examples in test:   5%|▌         | 547/10000 [07:21<1:40:54,  1.56it/s]\u001B[A\n",
      "Processing examples in test:   5%|▌         | 548/10000 [07:22<1:49:18,  1.44it/s]\u001B[A\n",
      "Processing examples in test:   5%|▌         | 549/10000 [07:24<2:08:38,  1.22it/s]\u001B[A\n",
      "Processing examples in test:   6%|▌         | 550/10000 [07:25<2:15:33,  1.16it/s]\u001B[A\n",
      "Processing examples in test:   6%|▌         | 552/10000 [07:25<1:51:37,  1.41it/s]\u001B[A\n",
      "Processing examples in test:   6%|▌         | 553/10000 [07:27<2:14:27,  1.17it/s]\u001B[A\n",
      "Processing examples in test:   6%|▌         | 554/10000 [07:28<2:39:55,  1.02s/it]\u001B[A\n",
      "Processing examples in test:   6%|▌         | 557/10000 [07:29<1:38:42,  1.59it/s]\u001B[A"
     ]
    },
    {
     "name": "stdout",
     "output_type": "stream",
     "text": [
      "Failed to transform One young boy in a yellow long-sleeved shirt and jeans sitting down, with five adults in front of him, one operating a video camera. or Someone recording a young boy as he auditions for a part in a movie.. Retrying 5 more times ...\n",
      "Failed to transform One young boy in a yellow long-sleeved shirt and jeans sitting down, with five adults in front of him, one operating a video camera. or Someone recording a young boy as he auditions for a part in a movie.. Retrying 4 more times ...\n",
      "Failed to transform One young boy in a yellow long-sleeved shirt and jeans sitting down, with five adults in front of him, one operating a video camera. or Someone recording a young boy as he auditions for a part in a movie.. Retrying 3 more times ...\n",
      "Failed to transform One young boy in a yellow long-sleeved shirt and jeans sitting down, with five adults in front of him, one operating a video camera. or Someone recording a young boy as he auditions for a part in a movie.. Retrying 2 more times ...\n"
     ]
    },
    {
     "name": "stderr",
     "output_type": "stream",
     "text": [
      "\n",
      "Processing examples in test:   6%|▌         | 559/10000 [07:34<3:18:16,  1.26s/it]\u001B[A"
     ]
    },
    {
     "name": "stdout",
     "output_type": "stream",
     "text": [
      "Failed to transform One young boy in a yellow long-sleeved shirt and jeans sitting down, with five adults in front of him, one operating a video camera. or Someone recording a young boy as he auditions for a part in a movie.. Retrying 1 more times ...\n"
     ]
    },
    {
     "name": "stderr",
     "output_type": "stream",
     "text": [
      "\n",
      "Processing examples in test:   6%|▌         | 560/10000 [07:35<3:10:15,  1.21s/it]\u001B[A\n",
      "Processing examples in test:   6%|▌         | 561/10000 [07:36<3:01:52,  1.16s/it]\u001B[A\n",
      "Processing examples in test:   6%|▌         | 562/10000 [07:37<3:00:26,  1.15s/it]\u001B[A\n",
      "Processing examples in test:   6%|▌         | 566/10000 [07:38<1:41:13,  1.55it/s]\u001B[A\n",
      "Processing examples in test:   6%|▌         | 568/10000 [07:40<1:36:31,  1.63it/s]\u001B[A\n",
      "Processing examples in test:   6%|▌         | 572/10000 [07:40<1:04:53,  2.42it/s]\u001B[A\n",
      "Processing examples in test:   6%|▌         | 574/10000 [07:41<1:09:04,  2.27it/s]\u001B[A\n",
      "Processing examples in test:   6%|▌         | 575/10000 [07:43<1:33:05,  1.69it/s]\u001B[A\n",
      "Processing examples in test:   6%|▌         | 576/10000 [07:44<1:59:23,  1.32it/s]\u001B[A\n",
      "Processing examples in test:   6%|▌         | 577/10000 [07:45<1:59:07,  1.32it/s]\u001B[A\n",
      "Processing examples in test:   6%|▌         | 578/10000 [07:46<1:57:05,  1.34it/s]\u001B[A\n",
      "Processing examples in test:   6%|▌         | 582/10000 [07:47<1:29:16,  1.76it/s]\u001B[A\n",
      "Processing examples in test:   6%|▌         | 584/10000 [07:48<1:17:55,  2.01it/s]\u001B[A\n",
      "Processing examples in test:   6%|▌         | 586/10000 [07:50<1:44:25,  1.50it/s]\u001B[A\n",
      "Processing examples in test:   6%|▌         | 589/10000 [07:52<1:34:25,  1.66it/s]\u001B[A\n",
      "Processing examples in test:   6%|▌         | 590/10000 [07:54<2:06:43,  1.24it/s]\u001B[A\n",
      "Processing examples in test:   6%|▌         | 591/10000 [07:55<2:09:09,  1.21it/s]\u001B[A\n",
      "Processing examples in test:   6%|▌         | 598/10000 [07:56<1:12:17,  2.17it/s]\u001B[A\n",
      "Processing examples in test:   6%|▌         | 599/10000 [07:58<1:38:46,  1.59it/s]\u001B[A\n",
      "Processing examples in test:   6%|▌         | 601/10000 [08:00<1:41:14,  1.55it/s]\u001B[A\n",
      "Processing examples in test:   6%|▌         | 602/10000 [08:01<2:07:08,  1.23it/s]\u001B[A\n",
      "Processing examples in test:   6%|▌         | 606/10000 [08:03<1:40:43,  1.55it/s]\u001B[A\n",
      "Processing examples in test:   6%|▌         | 607/10000 [08:05<1:56:33,  1.34it/s]\u001B[A\n",
      "Processing examples in test:   6%|▌         | 609/10000 [08:06<1:45:56,  1.48it/s]\u001B[A\n",
      "Processing examples in test:   6%|▌         | 610/10000 [08:07<2:13:22,  1.17it/s]\u001B[A\n",
      "Processing examples in test:   6%|▌         | 611/10000 [08:08<2:21:33,  1.11it/s]\u001B[A\n",
      "Processing examples in test:   6%|▌         | 612/10000 [08:10<2:57:06,  1.13s/it]\u001B[A\n",
      "Processing examples in test:   6%|▌         | 613/10000 [08:12<2:57:14,  1.13s/it]\u001B[A\n",
      "Processing examples in test:   6%|▌         | 616/10000 [08:12<1:51:51,  1.40it/s]\u001B[A\n",
      "Processing examples in test:   6%|▌         | 617/10000 [08:14<2:13:44,  1.17it/s]\u001B[A\n",
      "Processing examples in test:   6%|▌         | 618/10000 [08:16<3:07:14,  1.20s/it]\u001B[A\n",
      "Processing examples in test:   6%|▌         | 619/10000 [08:17<3:06:37,  1.19s/it]\u001B[A\n",
      "Processing examples in test:   6%|▌         | 620/10000 [08:20<3:53:46,  1.50s/it]\u001B[A\n",
      "Processing examples in test:   6%|▌         | 621/10000 [08:21<3:39:21,  1.40s/it]\u001B[A\n",
      "Processing examples in test:   6%|▌         | 622/10000 [08:22<3:30:55,  1.35s/it]\u001B[A\n",
      "Processing examples in test:   6%|▌         | 623/10000 [08:25<4:12:53,  1.62s/it]\u001B[A\n",
      "Processing examples in test:   6%|▌         | 624/10000 [08:27<4:34:38,  1.76s/it]\u001B[A\n",
      "Processing examples in test:   6%|▋         | 626/10000 [08:28<3:03:55,  1.18s/it]\u001B[A\n",
      "Processing examples in test:   6%|▋         | 628/10000 [08:29<2:33:26,  1.02it/s]\u001B[A\n",
      "Processing examples in test:   6%|▋         | 629/10000 [08:31<3:01:31,  1.16s/it]\u001B[A\n",
      "Processing examples in test:   6%|▋         | 631/10000 [08:31<2:13:51,  1.17it/s]\u001B[A\n",
      "Processing examples in test:   6%|▋         | 633/10000 [08:33<1:57:19,  1.33it/s]\u001B[A"
     ]
    },
    {
     "name": "stdout",
     "output_type": "stream",
     "text": [
      "Failed to transform with Two boys washing their hands. Retrying 5 more times...\n",
      "Failed to transform with Two boys washing their hands. Retrying 4 more times...\n",
      "Failed to transform with Two boys washing their hands. Retrying 3 more times...\n",
      "Failed to transform with Two boys washing their hands. Retrying 2 more times...\n"
     ]
    },
    {
     "name": "stderr",
     "output_type": "stream",
     "text": [
      "\n",
      "Processing examples in test:   6%|▋         | 635/10000 [08:37<3:07:11,  1.20s/it]\u001B[A"
     ]
    },
    {
     "name": "stdout",
     "output_type": "stream",
     "text": [
      "Failed to transform with Two boys washing their hands. Retrying 1 more times...\n"
     ]
    },
    {
     "name": "stderr",
     "output_type": "stream",
     "text": [
      "\n",
      "Processing examples in test:   6%|▋         | 636/10000 [08:39<3:25:41,  1.32s/it]\u001B[A\n",
      "Processing examples in test:   6%|▋         | 637/10000 [08:47<7:41:36,  2.96s/it]\u001B[A\n",
      "Processing examples in test:   6%|▋         | 642/10000 [08:49<3:30:50,  1.35s/it]\u001B[A\n",
      "Processing examples in test:   6%|▋         | 643/10000 [08:51<3:39:44,  1.41s/it]\u001B[A\n",
      "Processing examples in test:   6%|▋         | 646/10000 [08:53<2:49:21,  1.09s/it]\u001B[A\n",
      "Processing examples in test:   6%|▋         | 647/10000 [08:54<3:05:03,  1.19s/it]\u001B[A\n",
      "Processing examples in test:   6%|▋         | 648/10000 [08:55<3:01:10,  1.16s/it]\u001B[A\n",
      "Processing examples in test:   6%|▋         | 650/10000 [08:56<2:16:13,  1.14it/s]\u001B[A\n",
      "Processing examples in test:   7%|▋         | 652/10000 [08:58<2:22:48,  1.09it/s]\u001B[A\n",
      "Processing examples in test:   7%|▋         | 654/10000 [08:59<1:54:26,  1.36it/s]\u001B[A\n",
      "Processing examples in test:   7%|▋         | 655/10000 [09:00<2:05:14,  1.24it/s]\u001B[A\n",
      "Processing examples in test:   7%|▋         | 658/10000 [09:01<1:41:57,  1.53it/s]\u001B[A\n",
      "Processing examples in test:   7%|▋         | 659/10000 [09:02<2:00:04,  1.30it/s]\u001B[A\n",
      "Processing examples in test:   7%|▋         | 660/10000 [09:04<2:14:37,  1.16it/s]\u001B[A\n",
      "Processing examples in test:   7%|▋         | 661/10000 [09:08<4:12:41,  1.62s/it]\u001B[A\n",
      "Processing examples in test:   7%|▋         | 666/10000 [09:10<2:20:47,  1.10it/s]\u001B[A\n",
      "Processing examples in test:   7%|▋         | 667/10000 [09:12<2:44:50,  1.06s/it]\u001B[A\n",
      "Processing examples in test:   7%|▋         | 668/10000 [09:14<3:05:36,  1.19s/it]\u001B[A\n",
      "Processing examples in test:   7%|▋         | 670/10000 [09:16<2:44:11,  1.06s/it]\u001B[A\n",
      "Processing examples in test:   7%|▋         | 671/10000 [09:18<3:20:55,  1.29s/it]\u001B[A\n",
      "Processing examples in test:   7%|▋         | 672/10000 [09:19<3:15:39,  1.26s/it]\u001B[A\n",
      "Processing examples in test:   7%|▋         | 673/10000 [09:20<2:55:14,  1.13s/it]\u001B[A\n",
      "Processing examples in test:   7%|▋         | 674/10000 [09:21<3:17:46,  1.27s/it]\u001B[A\n",
      "Processing examples in test:   7%|▋         | 675/10000 [09:22<3:08:31,  1.21s/it]\u001B[A\n",
      "Processing examples in test:   7%|▋         | 676/10000 [09:24<3:31:44,  1.36s/it]\u001B[A\n",
      "Processing examples in test:   7%|▋         | 680/10000 [09:26<2:07:33,  1.22it/s]\u001B[A\n",
      "Processing examples in test:   7%|▋         | 684/10000 [09:27<1:28:54,  1.75it/s]\u001B[A\n",
      "Processing examples in test:   7%|▋         | 685/10000 [09:29<1:47:01,  1.45it/s]\u001B[A\n",
      "Processing examples in test:   7%|▋         | 687/10000 [09:30<1:53:48,  1.36it/s]\u001B[A\n",
      "Processing examples in test:   7%|▋         | 688/10000 [09:32<2:23:37,  1.08it/s]\u001B[A\n",
      "Processing examples in test:   7%|▋         | 689/10000 [09:34<2:36:35,  1.01s/it]\u001B[A\n",
      "Processing examples in test:   7%|▋         | 690/10000 [09:35<2:38:39,  1.02s/it]\u001B[A\n",
      "Processing examples in test:   7%|▋         | 691/10000 [09:36<2:41:13,  1.04s/it]\u001B[A\n",
      "Processing examples in test:   7%|▋         | 692/10000 [09:38<3:15:08,  1.26s/it]\u001B[A\n",
      "Processing examples in test:   7%|▋         | 693/10000 [09:38<2:57:15,  1.14s/it]\u001B[A\n",
      "Processing examples in test:   7%|▋         | 694/10000 [09:39<2:38:07,  1.02s/it]\u001B[A\n",
      "Processing examples in test:   7%|▋         | 697/10000 [09:41<1:55:52,  1.34it/s]\u001B[A\n",
      "Processing examples in test:   7%|▋         | 701/10000 [09:42<1:32:05,  1.68it/s]\u001B[A\n",
      "Processing examples in test:   7%|▋         | 702/10000 [09:44<1:58:10,  1.31it/s]\u001B[A\n",
      "Processing examples in test:   7%|▋         | 703/10000 [09:46<2:15:11,  1.15it/s]\u001B[A\n",
      "Processing examples in test:   7%|▋         | 705/10000 [09:47<2:16:53,  1.13it/s]\u001B[A\n",
      "Processing examples in test:   7%|▋         | 707/10000 [09:49<2:17:15,  1.13it/s]\u001B[A\n",
      "Processing examples in test:   7%|▋         | 708/10000 [09:51<2:43:55,  1.06s/it]\u001B[A\n",
      "Processing examples in test:   7%|▋         | 711/10000 [09:52<1:51:33,  1.39it/s]\u001B[A"
     ]
    },
    {
     "name": "stdout",
     "output_type": "stream",
     "text": [
      "Failed to transform A pro-baseball pitcher sends a curve ball to his opponent while many fans relax and enjoy the game. or A pitcher is playing baseball at a stadium.. Retrying 5 more times ...\n",
      "Failed to transform A pro-baseball pitcher sends a curve ball to his opponent while many fans relax and enjoy the game. or A pitcher is playing baseball at a stadium.. Retrying 4 more times ...\n",
      "Failed to transform A pro-baseball pitcher sends a curve ball to his opponent while many fans relax and enjoy the game. or A pitcher is playing baseball at a stadium.. Retrying 3 more times ...\n",
      "Failed to transform A pro-baseball pitcher sends a curve ball to his opponent while many fans relax and enjoy the game. or A pitcher is playing baseball at a stadium.. Retrying 2 more times ...\n"
     ]
    },
    {
     "name": "stderr",
     "output_type": "stream",
     "text": [
      "\n",
      "Processing examples in test:   7%|▋         | 712/10000 [09:58<4:07:26,  1.60s/it]\u001B[A"
     ]
    },
    {
     "name": "stdout",
     "output_type": "stream",
     "text": [
      "Failed to transform A pro-baseball pitcher sends a curve ball to his opponent while many fans relax and enjoy the game. or A pitcher is playing baseball at a stadium.. Retrying 1 more times ...\n"
     ]
    },
    {
     "name": "stderr",
     "output_type": "stream",
     "text": [
      "\n",
      "Processing examples in test:   7%|▋         | 713/10000 [09:58<3:39:07,  1.42s/it]\u001B[A"
     ]
    },
    {
     "name": "stdout",
     "output_type": "stream",
     "text": [
      "Failed to transform A pro-baseball pitcher sends a curve ball to his opponent while many fans relax and enjoy the game. or A man is juggling baseballs while fans look on upset.. Retrying 5 more times ...\n",
      "Failed to transform A pro-baseball pitcher sends a curve ball to his opponent while many fans relax and enjoy the game. or A man is juggling baseballs while fans look on upset.. Retrying 4 more times ...\n",
      "Failed to transform A pro-baseball pitcher sends a curve ball to his opponent while many fans relax and enjoy the game. or A man is juggling baseballs while fans look on upset.. Retrying 3 more times ...\n",
      "Failed to transform A pro-baseball pitcher sends a curve ball to his opponent while many fans relax and enjoy the game. or A man is juggling baseballs while fans look on upset.. Retrying 2 more times ...\n"
     ]
    },
    {
     "name": "stderr",
     "output_type": "stream",
     "text": [
      "\n",
      "Processing examples in test:   7%|▋         | 714/10000 [10:04<6:24:14,  2.48s/it]\u001B[A"
     ]
    },
    {
     "name": "stdout",
     "output_type": "stream",
     "text": [
      "Failed to transform A pro-baseball pitcher sends a curve ball to his opponent while many fans relax and enjoy the game. or A man is juggling baseballs while fans look on upset.. Retrying 1 more times ...\n"
     ]
    },
    {
     "name": "stderr",
     "output_type": "stream",
     "text": [
      "\n",
      "Processing examples in test:   7%|▋         | 715/10000 [10:05<5:24:42,  2.10s/it]\u001B[A\n",
      "Processing examples in test:   7%|▋         | 716/10000 [10:07<5:16:02,  2.04s/it]\u001B[A\n",
      "Processing examples in test:   7%|▋         | 717/10000 [10:09<5:09:03,  2.00s/it]\u001B[A\n",
      "Processing examples in test:   7%|▋         | 721/10000 [10:10<2:32:39,  1.01it/s]\u001B[A\n",
      "Processing examples in test:   7%|▋         | 722/10000 [10:12<2:54:50,  1.13s/it]\u001B[A\n",
      "Processing examples in test:   7%|▋         | 727/10000 [10:14<1:46:15,  1.45it/s]\u001B[A\n",
      "Processing examples in test:   7%|▋         | 730/10000 [10:16<1:40:35,  1.54it/s]\u001B[A\n",
      "Processing examples in test:   7%|▋         | 731/10000 [10:17<1:55:07,  1.34it/s]\u001B[A\n",
      "Processing examples in test:   7%|▋         | 732/10000 [10:18<2:06:32,  1.22it/s]\u001B[A\n",
      "Processing examples in test:   7%|▋         | 733/10000 [10:21<2:54:29,  1.13s/it]\u001B[A\n",
      "Processing examples in test:   7%|▋         | 734/10000 [10:22<2:54:19,  1.13s/it]\u001B[A\n",
      "Processing examples in test:   7%|▋         | 735/10000 [10:22<2:38:26,  1.03s/it]\u001B[A\n",
      "Processing examples in test:   7%|▋         | 736/10000 [10:24<3:04:59,  1.20s/it]\u001B[A\n",
      "Processing examples in test:   7%|▋         | 737/10000 [10:26<3:26:13,  1.34s/it]\u001B[A\n",
      "Processing examples in test:   7%|▋         | 741/10000 [10:27<1:54:34,  1.35it/s]\u001B[A\n",
      "Processing examples in test:   7%|▋         | 742/10000 [10:29<2:23:12,  1.08it/s]\u001B[A\n",
      "Processing examples in test:   7%|▋         | 744/10000 [10:30<2:03:50,  1.25it/s]\u001B[A\n",
      "Processing examples in test:   7%|▋         | 745/10000 [10:32<2:47:45,  1.09s/it]\u001B[A\n",
      "Processing examples in test:   7%|▋         | 749/10000 [10:33<1:33:30,  1.65it/s]\u001B[A\n",
      "Processing examples in test:   8%|▊         | 754/10000 [10:34<58:01,  2.66it/s]  \u001B[A\n",
      "Processing examples in test:   8%|▊         | 755/10000 [10:35<1:11:55,  2.14it/s]\u001B[A"
     ]
    },
    {
     "name": "stdout",
     "output_type": "stream",
     "text": [
      "Failed to transform A crowd wearing orange cheering for their team in a stadium. or Fans cheering on their team at the big game.. Retrying 5 more times ...\n",
      "Failed to transform A crowd wearing orange cheering for their team in a stadium. or Fans cheering on their team at the big game.. Retrying 4 more times ...\n",
      "Failed to transform A crowd wearing orange cheering for their team in a stadium. or Fans cheering on their team at the big game.. Retrying 3 more times ...\n",
      "Failed to transform A crowd wearing orange cheering for their team in a stadium. or Fans cheering on their team at the big game.. Retrying 2 more times ...\n"
     ]
    },
    {
     "name": "stderr",
     "output_type": "stream",
     "text": [
      "\n",
      "Processing examples in test:   8%|▊         | 756/10000 [10:39<2:42:40,  1.06s/it]\u001B[A"
     ]
    },
    {
     "name": "stdout",
     "output_type": "stream",
     "text": [
      "Failed to transform A crowd wearing orange cheering for their team in a stadium. or Fans cheering on their team at the big game.. Retrying 1 more times ...\n"
     ]
    },
    {
     "name": "stderr",
     "output_type": "stream",
     "text": [
      "\n",
      "Processing examples in test:   8%|▊         | 760/10000 [10:41<1:54:52,  1.34it/s]\u001B[A\n",
      "Processing examples in test:   8%|▊         | 761/10000 [10:42<2:00:38,  1.28it/s]\u001B[A\n",
      "Processing examples in test:   8%|▊         | 762/10000 [10:44<2:27:53,  1.04it/s]\u001B[A\n",
      "Processing examples in test:   8%|▊         | 763/10000 [10:46<2:54:38,  1.13s/it]\u001B[A\n",
      "Processing examples in test:   8%|▊         | 764/10000 [10:47<3:02:28,  1.19s/it]\u001B[A\n",
      "Processing examples in test:   8%|▊         | 765/10000 [10:48<2:56:05,  1.14s/it]\u001B[A\n",
      "Processing examples in test:   8%|▊         | 766/10000 [10:49<2:38:19,  1.03s/it]\u001B[A\n",
      "Processing examples in test:   8%|▊         | 772/10000 [10:50<1:06:51,  2.30it/s]\u001B[A\n",
      "Processing examples in test:   8%|▊         | 775/10000 [10:51<1:11:51,  2.14it/s]\u001B[A\n",
      "Processing examples in test:   8%|▊         | 777/10000 [10:52<1:08:28,  2.24it/s]\u001B[A\n",
      "Processing examples in test:   8%|▊         | 779/10000 [10:54<1:26:35,  1.77it/s]\u001B[A\n",
      "Processing examples in test:   8%|▊         | 781/10000 [10:55<1:33:16,  1.65it/s]\u001B[A\n",
      "Processing examples in test:   8%|▊         | 783/10000 [10:56<1:21:11,  1.89it/s]\u001B[A\n",
      "Processing examples in test:   8%|▊         | 784/10000 [10:57<1:27:34,  1.75it/s]\u001B[A\n",
      "Processing examples in test:   8%|▊         | 788/10000 [10:59<1:20:55,  1.90it/s]\u001B[A\n",
      "Processing examples in test:   8%|▊         | 794/10000 [10:59<49:39,  3.09it/s]  \u001B[A\n",
      "Processing examples in test:   8%|▊         | 795/10000 [11:01<1:15:14,  2.04it/s]\u001B[A\n",
      "Processing examples in test:   8%|▊         | 797/10000 [11:03<1:31:24,  1.68it/s]\u001B[A\n",
      "Processing examples in test:   8%|▊         | 800/10000 [11:05<1:38:24,  1.56it/s]\u001B[A\n",
      "Processing examples in test:   8%|▊         | 801/10000 [11:06<1:39:07,  1.55it/s]\u001B[A\n",
      "Processing examples in test:   8%|▊         | 802/10000 [11:07<1:51:49,  1.37it/s]\u001B[A\n",
      "Processing examples in test:   8%|▊         | 805/10000 [11:09<1:41:00,  1.52it/s]\u001B[A\n",
      "Processing examples in test:   8%|▊         | 806/10000 [11:11<2:06:45,  1.21it/s]\u001B[A\n",
      "Processing examples in test:   8%|▊         | 807/10000 [11:12<2:28:03,  1.03it/s]\u001B[A\n",
      "Processing examples in test:   8%|▊         | 808/10000 [11:14<2:59:13,  1.17s/it]\u001B[A\n",
      "Processing examples in test:   8%|▊         | 810/10000 [11:16<2:58:36,  1.17s/it]\u001B[A\n",
      "Processing examples in test:   8%|▊         | 812/10000 [11:17<2:16:22,  1.12it/s]\u001B[A\n",
      "Processing examples in test:   8%|▊         | 815/10000 [11:19<2:00:59,  1.27it/s]\u001B[A\n",
      "Processing examples in test:   8%|▊         | 817/10000 [11:20<1:56:26,  1.31it/s]\u001B[A\n",
      "Processing examples in test:   8%|▊         | 819/10000 [11:22<1:47:22,  1.43it/s]\u001B[A\n",
      "Processing examples in test:   8%|▊         | 820/10000 [11:23<1:56:36,  1.31it/s]\u001B[A\n",
      "Processing examples in test:   8%|▊         | 821/10000 [11:24<2:13:47,  1.14it/s]\u001B[A\n",
      "Processing examples in test:   8%|▊         | 824/10000 [11:26<1:56:06,  1.32it/s]\u001B[A\n",
      "Processing examples in test:   8%|▊         | 826/10000 [11:27<1:48:53,  1.40it/s]\u001B[A\n",
      "Processing examples in test:   8%|▊         | 827/10000 [11:28<2:01:56,  1.25it/s]\u001B[A\n",
      "Processing examples in test:   8%|▊         | 833/10000 [11:29<1:06:50,  2.29it/s]\u001B[A\n",
      "Processing examples in test:   8%|▊         | 836/10000 [11:31<1:08:01,  2.25it/s]\u001B[A\n",
      "Processing examples in test:   8%|▊         | 838/10000 [11:32<1:10:52,  2.15it/s]\u001B[A\n",
      "Processing examples in test:   8%|▊         | 839/10000 [11:34<1:38:51,  1.54it/s]\u001B[A\n",
      "Processing examples in test:   8%|▊         | 840/10000 [11:36<2:11:35,  1.16it/s]\u001B[A\n",
      "Processing examples in test:   8%|▊         | 841/10000 [11:38<2:54:38,  1.14s/it]\u001B[A\n",
      "Processing examples in test:   8%|▊         | 848/10000 [11:39<1:18:13,  1.95it/s]\u001B[A\n",
      "Processing examples in test:   8%|▊         | 849/10000 [11:41<1:47:50,  1.41it/s]\u001B[A\n",
      "Processing examples in test:   8%|▊         | 850/10000 [11:43<2:11:04,  1.16it/s]\u001B[A\n",
      "Processing examples in test:   9%|▊         | 851/10000 [11:45<2:43:33,  1.07s/it]\u001B[A\n",
      "Processing examples in test:   9%|▊         | 853/10000 [11:47<2:39:37,  1.05s/it]\u001B[A"
     ]
    },
    {
     "name": "stdout",
     "output_type": "stream",
     "text": [
      "Failed to transform A young girl in a pink shirt playing with her barbie. or The young girl is having fun.. Retrying 5 more times ...\n",
      "Failed to transform A young girl in a pink shirt playing with her barbie. or The young girl is having fun.. Retrying 4 more times ...\n",
      "Failed to transform A young girl in a pink shirt playing with her barbie. or The young girl is having fun.. Retrying 3 more times ...\n",
      "Failed to transform A young girl in a pink shirt playing with her barbie. or The young girl is having fun.. Retrying 2 more times ...\n"
     ]
    },
    {
     "name": "stderr",
     "output_type": "stream",
     "text": [
      "\n",
      "Processing examples in test:   9%|▊         | 862/10000 [11:53<1:53:48,  1.34it/s]\u001B[A"
     ]
    },
    {
     "name": "stdout",
     "output_type": "stream",
     "text": [
      "Failed to transform A young girl in a pink shirt playing with her barbie. or The young girl is having fun.. Retrying 1 more times ...\n"
     ]
    },
    {
     "name": "stderr",
     "output_type": "stream",
     "text": [
      "\n",
      "Processing examples in test:   9%|▊         | 863/10000 [11:54<1:58:28,  1.29it/s]\u001B[A\n",
      "Processing examples in test:   9%|▊         | 865/10000 [11:54<1:44:35,  1.46it/s]\u001B[A\n",
      "Processing examples in test:   9%|▊         | 868/10000 [11:56<1:34:13,  1.62it/s]\u001B[A\n",
      "Processing examples in test:   9%|▊         | 872/10000 [11:57<1:14:36,  2.04it/s]\u001B[A\n",
      "Processing examples in test:   9%|▊         | 873/10000 [11:58<1:17:57,  1.95it/s]\u001B[A\n",
      "Processing examples in test:   9%|▉         | 879/10000 [11:58<47:59,  3.17it/s]  \u001B[A\n",
      "Processing examples in test:   9%|▉         | 886/10000 [11:59<33:02,  4.60it/s]\u001B[A\n",
      "Processing examples in test:   9%|▉         | 887/10000 [12:01<50:19,  3.02it/s]\u001B[A\n",
      "Processing examples in test:   9%|▉         | 888/10000 [12:02<1:07:49,  2.24it/s]\u001B[A\n",
      "Processing examples in test:   9%|▉         | 890/10000 [12:04<1:31:28,  1.66it/s]\u001B[A\n",
      "Processing examples in test:   9%|▉         | 891/10000 [12:06<2:01:55,  1.25it/s]\u001B[A\n",
      "Processing examples in test:   9%|▉         | 892/10000 [12:12<4:00:14,  1.58s/it]\u001B[A\n",
      "Processing examples in test:   9%|▉         | 894/10000 [12:13<3:10:15,  1.25s/it]\u001B[A\n",
      "Processing examples in test:   9%|▉         | 895/10000 [12:14<3:16:57,  1.30s/it]\u001B[A\n",
      "Processing examples in test:   9%|▉         | 896/10000 [12:15<2:55:57,  1.16s/it]\u001B[A\n",
      "Processing examples in test:   9%|▉         | 899/10000 [12:16<2:00:44,  1.26it/s]\u001B[A\n",
      "Processing examples in test:   9%|▉         | 901/10000 [12:17<1:51:23,  1.36it/s]\u001B[A\n",
      "Processing examples in test:   9%|▉         | 903/10000 [12:19<2:02:47,  1.23it/s]\u001B[A\n",
      "Processing examples in test:   9%|▉         | 906/10000 [12:20<1:35:40,  1.58it/s]\u001B[A\n",
      "Processing examples in test:   9%|▉         | 908/10000 [12:22<1:40:13,  1.51it/s]\u001B[A\n",
      "Processing examples in test:   9%|▉         | 911/10000 [12:23<1:28:08,  1.72it/s]\u001B[A\n",
      "Processing examples in test:   9%|▉         | 916/10000 [12:25<1:07:20,  2.25it/s]\u001B[A\n",
      "Processing examples in test:   9%|▉         | 917/10000 [12:26<1:21:23,  1.86it/s]\u001B[A\n",
      "Processing examples in test:   9%|▉         | 918/10000 [12:27<1:25:16,  1.78it/s]\u001B[A\n",
      "Processing examples in test:   9%|▉         | 919/10000 [12:28<1:56:29,  1.30it/s]\u001B[A\n",
      "Processing examples in test:   9%|▉         | 920/10000 [12:29<1:53:17,  1.34it/s]\u001B[A\n",
      "Processing examples in test:   9%|▉         | 923/10000 [12:31<1:47:13,  1.41it/s]\u001B[A\n",
      "Processing examples in test:   9%|▉         | 927/10000 [12:32<1:12:27,  2.09it/s]\u001B[A\n",
      "Processing examples in test:   9%|▉         | 931/10000 [12:33<59:30,  2.54it/s]  \u001B[A\n",
      "Processing examples in test:   9%|▉         | 933/10000 [12:35<1:19:54,  1.89it/s]\u001B[A\n",
      "Processing examples in test:   9%|▉         | 938/10000 [12:37<1:09:41,  2.17it/s]\u001B[A\n",
      "Processing examples in test:   9%|▉         | 941/10000 [12:39<1:17:50,  1.94it/s]\u001B[A\n",
      "Processing examples in test:   9%|▉         | 942/10000 [12:41<1:48:49,  1.39it/s]\u001B[A\n",
      "Processing examples in test:   9%|▉         | 943/10000 [12:43<2:11:39,  1.15it/s]\u001B[A\n",
      "Processing examples in test:  10%|▉         | 950/10000 [12:45<1:19:30,  1.90it/s]\u001B[A\n",
      "Processing examples in test:  10%|▉         | 953/10000 [12:47<1:21:19,  1.85it/s]\u001B[A\n",
      "Processing examples in test:  10%|▉         | 957/10000 [12:48<1:18:03,  1.93it/s]\u001B[A\n",
      "Processing examples in test:  10%|▉         | 961/10000 [12:49<1:01:54,  2.43it/s]\u001B[A\n",
      "Processing examples in test:  10%|▉         | 964/10000 [12:50<1:02:30,  2.41it/s]\u001B[A\n",
      "Processing examples in test:  10%|▉         | 965/10000 [12:52<1:17:28,  1.94it/s]\u001B[A\n",
      "Processing examples in test:  10%|▉         | 970/10000 [12:54<1:09:45,  2.16it/s]\u001B[A\n",
      "Processing examples in test:  10%|▉         | 972/10000 [12:55<1:12:32,  2.07it/s]\u001B[A\n",
      "Processing examples in test:  10%|▉         | 978/10000 [12:57<57:42,  2.61it/s]  \u001B[A\n",
      "Processing examples in test:  10%|▉         | 980/10000 [12:58<1:06:20,  2.27it/s]\u001B[A\n",
      "Processing examples in test:  10%|▉         | 981/10000 [13:00<1:33:41,  1.60it/s]\u001B[A\n",
      "Processing examples in test:  10%|▉         | 982/10000 [13:01<1:34:22,  1.59it/s]\u001B[A\n",
      "Processing examples in test:  10%|▉         | 983/10000 [13:03<2:14:33,  1.12it/s]\u001B[A\n",
      "Processing examples in test:  10%|▉         | 984/10000 [13:04<2:12:09,  1.14it/s]\u001B[A\n",
      "Processing examples in test:  10%|▉         | 985/10000 [13:05<2:41:26,  1.07s/it]\u001B[A\n",
      "Processing examples in test:  10%|▉         | 986/10000 [13:07<3:15:27,  1.30s/it]\u001B[A\n",
      "Processing examples in test:  10%|▉         | 987/10000 [13:09<3:18:39,  1.32s/it]\u001B[A\n",
      "Processing examples in test:  10%|▉         | 988/10000 [13:11<3:45:39,  1.50s/it]\u001B[A\n",
      "Processing examples in test:  10%|▉         | 989/10000 [13:12<3:17:31,  1.32s/it]\u001B[A\n",
      "Processing examples in test:  10%|▉         | 994/10000 [13:13<1:31:25,  1.64it/s]\u001B[A\n",
      "Processing examples in test:  10%|▉         | 996/10000 [13:15<1:45:03,  1.43it/s]\u001B[A\n",
      "Processing examples in test:  10%|▉         | 998/10000 [13:16<1:31:50,  1.63it/s]\u001B[A"
     ]
    },
    {
     "name": "stdout",
     "output_type": "stream",
     "text": [
      "Failed to transform A Skier ski-jumping while two other skiers watch his act. or A skier down the road skiying.. Retrying 5 more times ...\n",
      "Failed to transform A Skier ski-jumping while two other skiers watch his act. or A skier down the road skiying.. Retrying 4 more times ...\n",
      "Failed to transform A Skier ski-jumping while two other skiers watch his act. or A skier down the road skiying.. Retrying 3 more times ...\n",
      "Failed to transform A Skier ski-jumping while two other skiers watch his act. or A skier down the road skiying.. Retrying 2 more times ...\n"
     ]
    },
    {
     "name": "stderr",
     "output_type": "stream",
     "text": [
      "\n",
      "Processing examples in test:  10%|█         | 1000/10000 [13:23<3:40:01,  1.47s/it]\u001B[A"
     ]
    },
    {
     "name": "stdout",
     "output_type": "stream",
     "text": [
      "Failed to transform A Skier ski-jumping while two other skiers watch his act. or A skier down the road skiying.. Retrying 1 more times ...\n",
      "Failed to transform A Skier ski-jumping while two other skiers watch his act. or A skier preparing a trick.. Retrying 5 more times ...\n",
      "Failed to transform A Skier ski-jumping while two other skiers watch his act. or A skier preparing a trick.. Retrying 4 more times ...\n",
      "Failed to transform A Skier ski-jumping while two other skiers watch his act. or A skier preparing a trick.. Retrying 3 more times ...\n",
      "Failed to transform A Skier ski-jumping while two other skiers watch his act. or A skier preparing a trick.. Retrying 2 more times ...\n"
     ]
    },
    {
     "name": "stderr",
     "output_type": "stream",
     "text": [
      "\n",
      "Processing examples in test:  10%|█         | 1001/10000 [13:30<5:57:25,  2.38s/it]\u001B[A"
     ]
    },
    {
     "name": "stdout",
     "output_type": "stream",
     "text": [
      "Failed to transform A Skier ski-jumping while two other skiers watch his act. or A skier preparing a trick.. Retrying 1 more times ...\n"
     ]
    },
    {
     "name": "stderr",
     "output_type": "stream",
     "text": [
      "\n",
      "Processing examples in test:  10%|█         | 1003/10000 [13:32<4:55:30,  1.97s/it]\u001B[A\n",
      "Processing examples in test:  10%|█         | 1004/10000 [13:33<4:34:07,  1.83s/it]\u001B[A\n",
      "Processing examples in test:  10%|█         | 1006/10000 [13:34<3:29:39,  1.40s/it]\u001B[A\n",
      "Processing examples in test:  10%|█         | 1008/10000 [13:36<3:00:50,  1.21s/it]\u001B[A\n",
      "Processing examples in test:  10%|█         | 1009/10000 [13:37<3:02:12,  1.22s/it]\u001B[A\n",
      "Processing examples in test:  10%|█         | 1010/10000 [13:39<3:25:25,  1.37s/it]\u001B[A\n",
      "Processing examples in test:  10%|█         | 1011/10000 [13:41<3:45:43,  1.51s/it]\u001B[A\n",
      "Processing examples in test:  10%|█         | 1012/10000 [13:42<3:19:44,  1.33s/it]\u001B[A\n",
      "Processing examples in test:  10%|█         | 1013/10000 [13:44<3:44:39,  1.50s/it]\u001B[A"
     ]
    },
    {
     "name": "stdout",
     "output_type": "stream",
     "text": [
      "Failed to transform A black mother in an orange dress with her two little boys and husband at an outdoor market stand. or A family skeet shooting.. Retrying 5 more times ...\n",
      "Failed to transform A black mother in an orange dress with her two little boys and husband at an outdoor market stand. or A family skeet shooting.. Retrying 4 more times ...\n",
      "Failed to transform A black mother in an orange dress with her two little boys and husband at an outdoor market stand. or A family skeet shooting.. Retrying 3 more times ...\n",
      "Failed to transform A black mother in an orange dress with her two little boys and husband at an outdoor market stand. or A family skeet shooting.. Retrying 2 more times ...\n"
     ]
    },
    {
     "name": "stderr",
     "output_type": "stream",
     "text": [
      "\n",
      "Processing examples in test:  10%|█         | 1015/10000 [13:50<5:27:14,  2.19s/it]\u001B[A"
     ]
    },
    {
     "name": "stdout",
     "output_type": "stream",
     "text": [
      "Failed to transform A black mother in an orange dress with her two little boys and husband at an outdoor market stand. or A family skeet shooting.. Retrying 1 more times ...\n",
      "Failed to transform A black mother in an orange dress with her two little boys and husband at an outdoor market stand. or People at an outdoor market.. Retrying 5 more times ...\n",
      "Failed to transform A black mother in an orange dress with her two little boys and husband at an outdoor market stand. or People at an outdoor market.. Retrying 4 more times ...\n",
      "Failed to transform A black mother in an orange dress with her two little boys and husband at an outdoor market stand. or People at an outdoor market.. Retrying 3 more times ...\n",
      "Failed to transform A black mother in an orange dress with her two little boys and husband at an outdoor market stand. or People at an outdoor market.. Retrying 2 more times ...\n"
     ]
    },
    {
     "name": "stderr",
     "output_type": "stream",
     "text": [
      "\n",
      "Processing examples in test:  10%|█         | 1017/10000 [13:55<5:56:03,  2.38s/it]\u001B[A"
     ]
    },
    {
     "name": "stdout",
     "output_type": "stream",
     "text": [
      "Failed to transform A black mother in an orange dress with her two little boys and husband at an outdoor market stand. or People at an outdoor market.. Retrying 1 more times ...\n"
     ]
    },
    {
     "name": "stderr",
     "output_type": "stream",
     "text": [
      "\n",
      "Processing examples in test:  10%|█         | 1019/10000 [13:57<4:39:02,  1.86s/it]\u001B[A\n",
      "Processing examples in test:  10%|█         | 1021/10000 [13:58<3:23:14,  1.36s/it]\u001B[A\n",
      "Processing examples in test:  10%|█         | 1022/10000 [13:59<3:03:58,  1.23s/it]\u001B[A\n",
      "Processing examples in test:  10%|█         | 1026/10000 [13:59<1:40:05,  1.49it/s]\u001B[A\n",
      "Processing examples in test:  10%|█         | 1029/10000 [14:00<1:15:50,  1.97it/s]\u001B[A\n",
      "Processing examples in test:  10%|█         | 1032/10000 [14:02<1:17:57,  1.92it/s]\u001B[A\n",
      "Processing examples in test:  10%|█         | 1033/10000 [14:04<1:50:53,  1.35it/s]\u001B[A\n",
      "Processing examples in test:  10%|█         | 1034/10000 [14:05<2:07:29,  1.17it/s]\u001B[A\n",
      "Processing examples in test:  10%|█         | 1035/10000 [14:07<2:37:54,  1.06s/it]\u001B[A\n",
      "Processing examples in test:  10%|█         | 1036/10000 [14:09<3:01:13,  1.21s/it]\u001B[A\n",
      "Processing examples in test:  10%|█         | 1037/10000 [14:11<3:45:58,  1.51s/it]\u001B[A\n",
      "Processing examples in test:  10%|█         | 1040/10000 [14:14<2:52:41,  1.16s/it]\u001B[A"
     ]
    },
    {
     "name": "stdout",
     "output_type": "stream",
     "text": [
      "Failed to transform A man is walking past a large sign that says E.S.E. Electronics. or There is a man next to a sign.. Retrying 5 more times ...\n",
      "Failed to transform A man is walking past a large sign that says E.S.E. Electronics. or There is a man next to a sign.. Retrying 4 more times ...\n",
      "Failed to transform A man is walking past a large sign that says E.S.E. Electronics. or There is a man next to a sign.. Retrying 3 more times ...\n",
      "Failed to transform A man is walking past a large sign that says E.S.E. Electronics. or There is a man next to a sign.. Retrying 2 more times ...\n"
     ]
    },
    {
     "name": "stderr",
     "output_type": "stream",
     "text": [
      "\n",
      "Processing examples in test:  10%|█         | 1042/10000 [14:19<3:59:36,  1.60s/it]\u001B[A"
     ]
    },
    {
     "name": "stdout",
     "output_type": "stream",
     "text": [
      "Failed to transform A man is walking past a large sign that says E.S.E. Electronics. or There is a man next to a sign.. Retrying 1 more times ...\n"
     ]
    },
    {
     "name": "stderr",
     "output_type": "stream",
     "text": [
      "\n",
      "Processing examples in test:  10%|█         | 1044/10000 [14:20<3:09:05,  1.27s/it]\u001B[A\n",
      "Processing examples in test:  10%|█         | 1045/10000 [14:21<3:07:51,  1.26s/it]\u001B[A"
     ]
    },
    {
     "name": "stdout",
     "output_type": "stream",
     "text": [
      "Failed to transform An African American man is posing in front of an E.S.E. Electronics advertisement billboard after purchasing items from the local liquor store. or Man takes a picture with advertiser after purchasing their brand of liquor at a store they are promoting.. Retrying 5 more times ...\n",
      "Failed to transform An African American man is posing in front of an E.S.E. Electronics advertisement billboard after purchasing items from the local liquor store. or Man takes a picture with advertiser after purchasing their brand of liquor at a store they are promoting.. Retrying 4 more times ...\n",
      "Failed to transform An African American man is posing in front of an E.S.E. Electronics advertisement billboard after purchasing items from the local liquor store. or Man takes a picture with advertiser after purchasing their brand of liquor at a store they are promoting.. Retrying 3 more times ...\n",
      "Failed to transform An African American man is posing in front of an E.S.E. Electronics advertisement billboard after purchasing items from the local liquor store. or Man takes a picture with advertiser after purchasing their brand of liquor at a store they are promoting.. Retrying 2 more times ...\n"
     ]
    },
    {
     "name": "stderr",
     "output_type": "stream",
     "text": [
      "\n",
      "Processing examples in test:  10%|█         | 1047/10000 [14:27<4:45:35,  1.91s/it]\u001B[A"
     ]
    },
    {
     "name": "stdout",
     "output_type": "stream",
     "text": [
      "Failed to transform An African American man is posing in front of an E.S.E. Electronics advertisement billboard after purchasing items from the local liquor store. or Man takes a picture with advertiser after purchasing their brand of liquor at a store they are promoting.. Retrying 1 more times ...\n"
     ]
    },
    {
     "name": "stderr",
     "output_type": "stream",
     "text": [
      "\n",
      "Processing examples in test:  11%|█         | 1051/10000 [14:29<2:59:42,  1.20s/it]\u001B[A"
     ]
    },
    {
     "name": "stdout",
     "output_type": "stream",
     "text": [
      "Failed to transform with A male guitarist playing his intrument for children.. Retrying 5 more times...\n",
      "Failed to transform with A male guitarist playing his intrument for children.. Retrying 4 more times...\n",
      "Failed to transform with A male guitarist playing his intrument for children.. Retrying 3 more times...\n",
      "Failed to transform with A male guitarist playing his intrument for children.. Retrying 2 more times...\n"
     ]
    },
    {
     "name": "stderr",
     "output_type": "stream",
     "text": [
      "\n",
      "Processing examples in test:  11%|█         | 1054/10000 [14:34<3:10:30,  1.28s/it]\u001B[A"
     ]
    },
    {
     "name": "stdout",
     "output_type": "stream",
     "text": [
      "Failed to transform with A male guitarist playing his intrument for children.. Retrying 1 more times...\n"
     ]
    },
    {
     "name": "stderr",
     "output_type": "stream",
     "text": [
      "\n",
      "Processing examples in test:  11%|█         | 1058/10000 [14:36<2:22:41,  1.04it/s]\u001B[A\n",
      "Processing examples in test:  11%|█         | 1059/10000 [14:36<2:19:17,  1.07it/s]\u001B[A\n",
      "Processing examples in test:  11%|█         | 1061/10000 [14:38<2:22:32,  1.05it/s]\u001B[A\n",
      "Processing examples in test:  11%|█         | 1063/10000 [14:40<2:15:21,  1.10it/s]\u001B[A\n",
      "Processing examples in test:  11%|█         | 1065/10000 [14:42<2:15:19,  1.10it/s]\u001B[A\n",
      "Processing examples in test:  11%|█         | 1066/10000 [14:43<2:37:09,  1.06s/it]\u001B[A\n",
      "Processing examples in test:  11%|█         | 1067/10000 [14:45<2:58:41,  1.20s/it]\u001B[A\n",
      "Processing examples in test:  11%|█         | 1068/10000 [14:47<3:21:30,  1.35s/it]\u001B[A\n",
      "Processing examples in test:  11%|█         | 1069/10000 [14:49<3:46:01,  1.52s/it]\u001B[A\n",
      "Processing examples in test:  11%|█         | 1070/10000 [14:51<3:53:51,  1.57s/it]\u001B[A\n",
      "Processing examples in test:  11%|█         | 1073/10000 [14:53<2:43:20,  1.10s/it]\u001B[A\n",
      "Processing examples in test:  11%|█         | 1074/10000 [14:54<2:42:20,  1.09s/it]\u001B[A\n",
      "Processing examples in test:  11%|█         | 1075/10000 [14:56<3:06:55,  1.26s/it]\u001B[A\n",
      "Processing examples in test:  11%|█         | 1076/10000 [14:57<2:50:24,  1.15s/it]\u001B[A\n",
      "Processing examples in test:  11%|█         | 1078/10000 [14:58<2:34:57,  1.04s/it]\u001B[A\n",
      "Processing examples in test:  11%|█         | 1079/10000 [14:59<2:34:44,  1.04s/it]\u001B[A\n",
      "Processing examples in test:  11%|█         | 1082/10000 [15:01<2:04:04,  1.20it/s]\u001B[A\n",
      "Processing examples in test:  11%|█         | 1083/10000 [15:03<2:14:57,  1.10it/s]\u001B[A\n",
      "Processing examples in test:  11%|█         | 1085/10000 [15:03<1:44:57,  1.42it/s]\u001B[A\n",
      "Processing examples in test:  11%|█         | 1088/10000 [15:04<1:16:42,  1.94it/s]\u001B[A\n",
      "Processing examples in test:  11%|█         | 1089/10000 [15:06<1:47:41,  1.38it/s]\u001B[A\n",
      "Processing examples in test:  11%|█         | 1091/10000 [15:08<2:01:40,  1.22it/s]\u001B[A\n",
      "Processing examples in test:  11%|█         | 1092/10000 [15:10<2:33:51,  1.04s/it]\u001B[A\n",
      "Processing examples in test:  11%|█         | 1094/10000 [15:12<2:41:47,  1.09s/it]\u001B[A\n",
      "Processing examples in test:  11%|█         | 1095/10000 [15:13<2:42:43,  1.10s/it]\u001B[A\n",
      "Processing examples in test:  11%|█         | 1096/10000 [15:15<3:12:59,  1.30s/it]\u001B[A\n",
      "Processing examples in test:  11%|█         | 1097/10000 [15:16<2:50:38,  1.15s/it]\u001B[A\n",
      "Processing examples in test:  11%|█         | 1098/10000 [15:17<3:00:49,  1.22s/it]\u001B[A\n",
      "Processing examples in test:  11%|█         | 1100/10000 [15:19<2:28:41,  1.00s/it]\u001B[A\n",
      "Processing examples in test:  11%|█         | 1102/10000 [15:19<1:52:01,  1.32it/s]\u001B[A\n",
      "Processing examples in test:  11%|█         | 1107/10000 [15:21<1:20:00,  1.85it/s]\u001B[A"
     ]
    },
    {
     "name": "stdout",
     "output_type": "stream",
     "text": [
      "Failed to transform A young boy giving his brother a piggyback ride or A boy is playing monopoly with his brother. Retrying 5 more times ...\n",
      "Failed to transform A young boy giving his brother a piggyback ride or A boy is playing monopoly with his brother. Retrying 4 more times ...\n",
      "Failed to transform A young boy giving his brother a piggyback ride or A boy is playing monopoly with his brother. Retrying 3 more times ...\n",
      "Failed to transform A young boy giving his brother a piggyback ride or A boy is playing monopoly with his brother. Retrying 2 more times ...\n"
     ]
    },
    {
     "name": "stderr",
     "output_type": "stream",
     "text": [
      "\n",
      "Processing examples in test:  11%|█         | 1109/10000 [15:26<2:22:42,  1.04it/s]\u001B[A"
     ]
    },
    {
     "name": "stdout",
     "output_type": "stream",
     "text": [
      "Failed to transform A young boy giving his brother a piggyback ride or A boy is playing monopoly with his brother. Retrying 1 more times ...\n",
      "Failed to transform A young boy giving his brother a piggyback ride or A boy is giving his brother a piggyback ride in the park. Retrying 5 more times ...\n",
      "Failed to transform A young boy giving his brother a piggyback ride or A boy is giving his brother a piggyback ride in the park. Retrying 4 more times ...\n",
      "Failed to transform A young boy giving his brother a piggyback ride or A boy is giving his brother a piggyback ride in the park. Retrying 3 more times ...\n",
      "Failed to transform A young boy giving his brother a piggyback ride or A boy is giving his brother a piggyback ride in the park. Retrying 2 more times ...\n"
     ]
    },
    {
     "name": "stderr",
     "output_type": "stream",
     "text": [
      "\n",
      "Processing examples in test:  11%|█         | 1110/10000 [15:31<3:49:40,  1.55s/it]\u001B[A"
     ]
    },
    {
     "name": "stdout",
     "output_type": "stream",
     "text": [
      "Failed to transform A young boy giving his brother a piggyback ride or A boy is giving his brother a piggyback ride in the park. Retrying 1 more times ...\n"
     ]
    },
    {
     "name": "stderr",
     "output_type": "stream",
     "text": [
      "\n",
      "Processing examples in test:  11%|█         | 1111/10000 [15:32<3:50:00,  1.55s/it]\u001B[A\n",
      "Processing examples in test:  11%|█         | 1113/10000 [15:34<3:19:21,  1.35s/it]\u001B[A\n",
      "Processing examples in test:  11%|█         | 1115/10000 [15:36<2:52:46,  1.17s/it]\u001B[A\n",
      "Processing examples in test:  11%|█         | 1117/10000 [15:38<2:41:01,  1.09s/it]\u001B[A\n",
      "Processing examples in test:  11%|█         | 1119/10000 [15:40<2:36:48,  1.06s/it]\u001B[A\n",
      "Processing examples in test:  11%|█         | 1120/10000 [15:41<2:39:43,  1.08s/it]\u001B[A\n",
      "Processing examples in test:  11%|█         | 1122/10000 [15:42<2:07:57,  1.16it/s]\u001B[A\n",
      "Processing examples in test:  11%|█         | 1123/10000 [15:43<2:31:01,  1.02s/it]\u001B[A\n",
      "Processing examples in test:  11%|█▏        | 1125/10000 [15:45<2:27:26,  1.00it/s]\u001B[A\n",
      "Processing examples in test:  11%|█▏        | 1129/10000 [15:47<1:40:16,  1.47it/s]\u001B[A\n",
      "Processing examples in test:  11%|█▏        | 1131/10000 [15:48<1:39:28,  1.49it/s]\u001B[A\n",
      "Processing examples in test:  11%|█▏        | 1134/10000 [15:50<1:37:54,  1.51it/s]\u001B[A\n",
      "Processing examples in test:  11%|█▏        | 1135/10000 [15:51<1:56:43,  1.27it/s]\u001B[A\n",
      "Processing examples in test:  11%|█▏        | 1138/10000 [15:53<1:33:47,  1.57it/s]\u001B[A\n",
      "Processing examples in test:  11%|█▏        | 1141/10000 [15:54<1:19:19,  1.86it/s]\u001B[A\n",
      "Processing examples in test:  11%|█▏        | 1143/10000 [15:55<1:20:01,  1.84it/s]\u001B[A\n",
      "Processing examples in test:  11%|█▏        | 1144/10000 [15:56<1:31:44,  1.61it/s]\u001B[A\n",
      "Processing examples in test:  11%|█▏        | 1146/10000 [15:58<1:47:32,  1.37it/s]\u001B[A\n",
      "Processing examples in test:  11%|█▏        | 1147/10000 [15:59<1:48:43,  1.36it/s]\u001B[A\n",
      "Processing examples in test:  11%|█▏        | 1148/10000 [16:00<2:21:23,  1.04it/s]\u001B[A\n",
      "Processing examples in test:  12%|█▏        | 1154/10000 [16:01<1:02:11,  2.37it/s]\u001B[A\n",
      "Processing examples in test:  12%|█▏        | 1155/10000 [16:02<1:07:05,  2.20it/s]\u001B[A\n",
      "Processing examples in test:  12%|█▏        | 1160/10000 [16:03<53:25,  2.76it/s]  \u001B[A\n",
      "Processing examples in test:  12%|█▏        | 1164/10000 [16:05<52:19,  2.81it/s]\u001B[A\n",
      "Processing examples in test:  12%|█▏        | 1167/10000 [16:07<1:11:42,  2.05it/s]\u001B[A\n",
      "Processing examples in test:  12%|█▏        | 1168/10000 [16:08<1:21:30,  1.81it/s]\u001B[A\n",
      "Processing examples in test:  12%|█▏        | 1171/10000 [16:10<1:25:29,  1.72it/s]\u001B[A\n",
      "Processing examples in test:  12%|█▏        | 1172/10000 [16:11<1:28:39,  1.66it/s]\u001B[A\n",
      "Processing examples in test:  12%|█▏        | 1173/10000 [16:12<1:33:43,  1.57it/s]\u001B[A\n",
      "Processing examples in test:  12%|█▏        | 1174/10000 [16:15<2:39:56,  1.09s/it]\u001B[A\n",
      "Processing examples in test:  12%|█▏        | 1175/10000 [16:17<3:07:54,  1.28s/it]\u001B[A\n",
      "Processing examples in test:  12%|█▏        | 1177/10000 [16:18<2:27:31,  1.00s/it]\u001B[A\n",
      "Processing examples in test:  12%|█▏        | 1178/10000 [16:18<2:18:56,  1.06it/s]\u001B[A\n",
      "Processing examples in test:  12%|█▏        | 1179/10000 [16:20<2:49:40,  1.15s/it]\u001B[A\n",
      "Processing examples in test:  12%|█▏        | 1180/10000 [16:24<4:17:11,  1.75s/it]\u001B[A\n",
      "Processing examples in test:  12%|█▏        | 1181/10000 [16:25<4:17:02,  1.75s/it]\u001B[A\n",
      "Processing examples in test:  12%|█▏        | 1183/10000 [16:28<3:40:16,  1.50s/it]\u001B[A\n",
      "Processing examples in test:  12%|█▏        | 1185/10000 [16:29<2:36:30,  1.07s/it]\u001B[A\n",
      "Processing examples in test:  12%|█▏        | 1186/10000 [16:30<2:57:47,  1.21s/it]\u001B[A\n",
      "Processing examples in test:  12%|█▏        | 1188/10000 [16:31<2:20:32,  1.05it/s]\u001B[A\n",
      "Processing examples in test:  12%|█▏        | 1189/10000 [16:32<2:14:24,  1.09it/s]\u001B[A\n",
      "Processing examples in test:  12%|█▏        | 1192/10000 [16:34<1:51:26,  1.32it/s]\u001B[A\n",
      "Processing examples in test:  12%|█▏        | 1194/10000 [16:36<1:59:32,  1.23it/s]\u001B[A\n",
      "Processing examples in test:  12%|█▏        | 1196/10000 [16:37<1:39:20,  1.48it/s]\u001B[A\n",
      "Processing examples in test:  12%|█▏        | 1199/10000 [16:38<1:30:46,  1.62it/s]\u001B[A\n",
      "Processing examples in test:  12%|█▏        | 1202/10000 [16:39<1:11:29,  2.05it/s]\u001B[A\n",
      "Processing examples in test:  12%|█▏        | 1203/10000 [16:40<1:35:57,  1.53it/s]\u001B[A\n",
      "Processing examples in test:  12%|█▏        | 1204/10000 [16:42<2:03:34,  1.19it/s]\u001B[A\n",
      "Processing examples in test:  12%|█▏        | 1205/10000 [16:44<2:29:40,  1.02s/it]\u001B[A\n",
      "Processing examples in test:  12%|█▏        | 1206/10000 [16:45<2:39:38,  1.09s/it]\u001B[A\n",
      "Processing examples in test:  12%|█▏        | 1209/10000 [16:51<3:30:18,  1.44s/it]\u001B[A\n",
      "Processing examples in test:  12%|█▏        | 1212/10000 [16:51<2:18:37,  1.06it/s]\u001B[A\n",
      "Processing examples in test:  12%|█▏        | 1213/10000 [16:53<2:28:53,  1.02s/it]\u001B[A\n",
      "Processing examples in test:  12%|█▏        | 1218/10000 [16:55<1:43:13,  1.42it/s]\u001B[A\n",
      "Processing examples in test:  12%|█▏        | 1219/10000 [16:56<1:45:40,  1.38it/s]\u001B[A\n",
      "Processing examples in test:  12%|█▏        | 1222/10000 [16:58<1:44:27,  1.40it/s]\u001B[A\n",
      "Processing examples in test:  12%|█▏        | 1223/10000 [17:00<2:05:29,  1.17it/s]\u001B[A\n",
      "Processing examples in test:  12%|█▏        | 1224/10000 [17:01<2:19:09,  1.05it/s]\u001B[A\n",
      "Processing examples in test:  12%|█▏        | 1226/10000 [17:03<2:12:10,  1.11it/s]\u001B[A\n",
      "Processing examples in test:  12%|█▏        | 1227/10000 [17:04<2:20:48,  1.04it/s]\u001B[A\n",
      "Processing examples in test:  12%|█▏        | 1229/10000 [17:05<2:06:00,  1.16it/s]\u001B[A\n",
      "Processing examples in test:  12%|█▏        | 1230/10000 [17:07<2:26:18,  1.00s/it]\u001B[A\n",
      "Processing examples in test:  12%|█▏        | 1231/10000 [17:08<2:49:40,  1.16s/it]\u001B[A\n",
      "Processing examples in test:  12%|█▏        | 1232/10000 [17:09<2:37:30,  1.08s/it]\u001B[A\n",
      "Processing examples in test:  12%|█▏        | 1234/10000 [17:10<1:55:05,  1.27it/s]\u001B[A\n",
      "Processing examples in test:  12%|█▏        | 1236/10000 [17:11<1:39:48,  1.46it/s]\u001B[A\n",
      "Processing examples in test:  12%|█▏        | 1237/10000 [17:12<1:56:24,  1.25it/s]\u001B[A\n",
      "Processing examples in test:  12%|█▏        | 1239/10000 [17:13<1:33:25,  1.56it/s]\u001B[A\n",
      "Processing examples in test:  12%|█▏        | 1240/10000 [17:14<1:57:12,  1.25it/s]\u001B[A\n",
      "Processing examples in test:  12%|█▏        | 1241/10000 [17:16<2:21:24,  1.03it/s]\u001B[A\n",
      "Processing examples in test:  12%|█▏        | 1242/10000 [17:23<5:48:17,  2.39s/it]\u001B[A\n",
      "Processing examples in test:  12%|█▏        | 1244/10000 [17:24<4:15:08,  1.75s/it]\u001B[A\n",
      "Processing examples in test:  12%|█▏        | 1245/10000 [17:26<4:23:31,  1.81s/it]\u001B[A\n",
      "Processing examples in test:  12%|█▏        | 1246/10000 [17:28<4:31:55,  1.86s/it]\u001B[A\n",
      "Processing examples in test:  12%|█▏        | 1248/10000 [17:29<3:11:38,  1.31s/it]\u001B[A\n",
      "Processing examples in test:  12%|█▎        | 1250/10000 [17:30<2:20:31,  1.04it/s]\u001B[A\n",
      "Processing examples in test:  13%|█▎        | 1251/10000 [17:31<2:26:20,  1.00s/it]\u001B[A"
     ]
    },
    {
     "name": "stdout",
     "output_type": "stream",
     "text": [
      "Failed to transform A bearded man with a backpack on his back holding a tripod in front of a rocky creek and bridge. or The man was sitting indoors watching TV.. Retrying 5 more times ...\n",
      "Failed to transform A bearded man with a backpack on his back holding a tripod in front of a rocky creek and bridge. or The man was sitting indoors watching TV.. Retrying 4 more times ...\n",
      "Failed to transform A bearded man with a backpack on his back holding a tripod in front of a rocky creek and bridge. or The man was sitting indoors watching TV.. Retrying 3 more times ...\n",
      "Failed to transform A bearded man with a backpack on his back holding a tripod in front of a rocky creek and bridge. or The man was sitting indoors watching TV.. Retrying 2 more times ...\n"
     ]
    },
    {
     "name": "stderr",
     "output_type": "stream",
     "text": [
      "\n",
      "Processing examples in test:  13%|█▎        | 1254/10000 [17:37<3:22:57,  1.39s/it]\u001B[A"
     ]
    },
    {
     "name": "stdout",
     "output_type": "stream",
     "text": [
      "Failed to transform A bearded man with a backpack on his back holding a tripod in front of a rocky creek and bridge. or The man was sitting indoors watching TV.. Retrying 1 more times ...\n"
     ]
    },
    {
     "name": "stderr",
     "output_type": "stream",
     "text": [
      "\n",
      "Processing examples in test:  13%|█▎        | 1256/10000 [17:38<2:46:41,  1.14s/it]\u001B[A\n",
      "Processing examples in test:  13%|█▎        | 1257/10000 [17:39<2:53:23,  1.19s/it]\u001B[A\n",
      "Processing examples in test:  13%|█▎        | 1259/10000 [17:41<2:34:43,  1.06s/it]\u001B[A\n",
      "Processing examples in test:  13%|█▎        | 1260/10000 [17:43<3:02:44,  1.25s/it]\u001B[A\n",
      "Processing examples in test:  13%|█▎        | 1261/10000 [17:45<3:27:31,  1.42s/it]\u001B[A\n",
      "Processing examples in test:  13%|█▎        | 1262/10000 [17:53<7:05:11,  2.92s/it]\u001B[A\n",
      "Processing examples in test:  13%|█▎        | 1264/10000 [17:54<4:53:51,  2.02s/it]\u001B[A\n",
      "Processing examples in test:  13%|█▎        | 1267/10000 [17:58<4:00:18,  1.65s/it]\u001B[A\n",
      "Processing examples in test:  13%|█▎        | 1269/10000 [17:59<3:19:19,  1.37s/it]\u001B[A\n",
      "Processing examples in test:  13%|█▎        | 1270/10000 [18:01<3:17:37,  1.36s/it]\u001B[A\n",
      "Processing examples in test:  13%|█▎        | 1281/10000 [18:01<58:59,  2.46it/s]  \u001B[A\n",
      "Processing examples in test:  13%|█▎        | 1283/10000 [18:02<58:38,  2.48it/s]\u001B[A\n",
      "Processing examples in test:  13%|█▎        | 1285/10000 [18:04<1:11:32,  2.03it/s]\u001B[A\n",
      "Processing examples in test:  13%|█▎        | 1286/10000 [18:06<1:37:50,  1.48it/s]\u001B[A\n",
      "Processing examples in test:  13%|█▎        | 1287/10000 [18:07<1:52:59,  1.29it/s]\u001B[A\n",
      "Processing examples in test:  13%|█▎        | 1291/10000 [18:08<1:15:33,  1.92it/s]\u001B[A\n",
      "Processing examples in test:  13%|█▎        | 1292/10000 [18:10<1:43:18,  1.40it/s]\u001B[A\n",
      "Processing examples in test:  13%|█▎        | 1293/10000 [18:12<2:16:38,  1.06it/s]\u001B[A\n",
      "Processing examples in test:  13%|█▎        | 1298/10000 [18:13<1:17:13,  1.88it/s]\u001B[A\n",
      "Processing examples in test:  13%|█▎        | 1300/10000 [18:15<1:32:47,  1.56it/s]\u001B[A\n",
      "Processing examples in test:  13%|█▎        | 1301/10000 [18:17<2:02:15,  1.19it/s]\u001B[A\n",
      "Processing examples in test:  13%|█▎        | 1303/10000 [18:20<2:17:36,  1.05it/s]\u001B[A\n",
      "Processing examples in test:  13%|█▎        | 1304/10000 [18:21<2:34:49,  1.07s/it]\u001B[A\n",
      "Processing examples in test:  13%|█▎        | 1307/10000 [18:22<1:50:07,  1.32it/s]\u001B[A\n",
      "Processing examples in test:  13%|█▎        | 1311/10000 [18:23<1:21:07,  1.79it/s]\u001B[A\n",
      "Processing examples in test:  13%|█▎        | 1313/10000 [18:25<1:24:04,  1.72it/s]\u001B[A\n",
      "Processing examples in test:  13%|█▎        | 1314/10000 [18:26<1:46:23,  1.36it/s]\u001B[A\n",
      "Processing examples in test:  13%|█▎        | 1315/10000 [18:28<2:12:30,  1.09it/s]\u001B[A\n",
      "Processing examples in test:  13%|█▎        | 1317/10000 [18:29<1:54:48,  1.26it/s]\u001B[A\n",
      "Processing examples in test:  13%|█▎        | 1318/10000 [18:32<2:39:24,  1.10s/it]\u001B[A\n",
      "Processing examples in test:  13%|█▎        | 1320/10000 [18:34<2:31:56,  1.05s/it]\u001B[A\n",
      "Processing examples in test:  13%|█▎        | 1322/10000 [18:35<2:10:49,  1.11it/s]\u001B[A"
     ]
    },
    {
     "name": "stdout",
     "output_type": "stream",
     "text": [
      "Failed to transform A musician playing a guitar and harmonica singing a song with \"Whatever it Takes\" written on his guitar. or The musician is singing.. Retrying 5 more times ...\n",
      "Failed to transform A musician playing a guitar and harmonica singing a song with \"Whatever it Takes\" written on his guitar. or The musician is singing.. Retrying 4 more times ...\n",
      "Failed to transform A musician playing a guitar and harmonica singing a song with \"Whatever it Takes\" written on his guitar. or The musician is singing.. Retrying 3 more times ...\n",
      "Failed to transform A musician playing a guitar and harmonica singing a song with \"Whatever it Takes\" written on his guitar. or The musician is singing.. Retrying 2 more times ...\n"
     ]
    },
    {
     "name": "stderr",
     "output_type": "stream",
     "text": [
      "\n",
      "Processing examples in test:  13%|█▎        | 1325/10000 [18:41<3:25:54,  1.42s/it]\u001B[A"
     ]
    },
    {
     "name": "stdout",
     "output_type": "stream",
     "text": [
      "Failed to transform A musician playing a guitar and harmonica singing a song with \"Whatever it Takes\" written on his guitar. or The musician is singing.. Retrying 1 more times ...\n"
     ]
    },
    {
     "name": "stderr",
     "output_type": "stream",
     "text": [
      "\n",
      "Processing examples in test:  13%|█▎        | 1327/10000 [18:42<2:43:30,  1.13s/it]\u001B[A\n",
      "Processing examples in test:  13%|█▎        | 1328/10000 [18:44<3:04:49,  1.28s/it]\u001B[A\n",
      "Processing examples in test:  13%|█▎        | 1334/10000 [18:46<1:40:37,  1.44it/s]\u001B[A\n",
      "Processing examples in test:  13%|█▎        | 1335/10000 [18:47<1:57:29,  1.23it/s]\u001B[A\n",
      "Processing examples in test:  13%|█▎        | 1338/10000 [18:50<1:53:28,  1.27it/s]\u001B[A\n",
      "Processing examples in test:  13%|█▎        | 1341/10000 [18:52<1:54:15,  1.26it/s]\u001B[A\n",
      "Processing examples in test:  13%|█▎        | 1344/10000 [18:54<1:52:01,  1.29it/s]\u001B[A\n",
      "Processing examples in test:  13%|█▎        | 1349/10000 [18:56<1:28:09,  1.64it/s]\u001B[A\n",
      "Processing examples in test:  14%|█▎        | 1350/10000 [18:57<1:36:01,  1.50it/s]\u001B[A\n",
      "Processing examples in test:  14%|█▎        | 1352/10000 [18:59<1:34:06,  1.53it/s]\u001B[A\n",
      "Processing examples in test:  14%|█▎        | 1354/10000 [19:01<1:51:54,  1.29it/s]\u001B[A\n",
      "Processing examples in test:  14%|█▎        | 1355/10000 [19:02<1:59:37,  1.20it/s]\u001B[A\n",
      "Processing examples in test:  14%|█▎        | 1358/10000 [19:03<1:34:11,  1.53it/s]\u001B[A\n",
      "Processing examples in test:  14%|█▎        | 1361/10000 [19:04<1:23:09,  1.73it/s]\u001B[A\n",
      "Processing examples in test:  14%|█▎        | 1362/10000 [19:06<1:48:45,  1.32it/s]\u001B[A\n",
      "Processing examples in test:  14%|█▎        | 1363/10000 [19:09<2:37:56,  1.10s/it]\u001B[A\n",
      "Processing examples in test:  14%|█▎        | 1364/10000 [19:12<3:44:38,  1.56s/it]\u001B[A\n",
      "Processing examples in test:  14%|█▎        | 1365/10000 [19:13<3:16:20,  1.36s/it]\u001B[A"
     ]
    },
    {
     "name": "stdout",
     "output_type": "stream",
     "text": [
      "Failed to transform A long dark-haired man sitting on the grass with a guitar in his lap in front of a blue sky. or A man is sitting outdoors.. Retrying 5 more times ...\n",
      "Failed to transform A long dark-haired man sitting on the grass with a guitar in his lap in front of a blue sky. or A man is sitting outdoors.. Retrying 4 more times ...\n",
      "Failed to transform A long dark-haired man sitting on the grass with a guitar in his lap in front of a blue sky. or A man is sitting outdoors.. Retrying 3 more times ...\n",
      "Failed to transform A long dark-haired man sitting on the grass with a guitar in his lap in front of a blue sky. or A man is sitting outdoors.. Retrying 2 more times ...\n"
     ]
    },
    {
     "name": "stderr",
     "output_type": "stream",
     "text": [
      "\n",
      "Processing examples in test:  14%|█▎        | 1368/10000 [19:20<4:13:28,  1.76s/it]\u001B[A"
     ]
    },
    {
     "name": "stdout",
     "output_type": "stream",
     "text": [
      "Failed to transform A long dark-haired man sitting on the grass with a guitar in his lap in front of a blue sky. or A man is sitting outdoors.. Retrying 1 more times ...\n"
     ]
    },
    {
     "name": "stderr",
     "output_type": "stream",
     "text": [
      "\n",
      "Processing examples in test:  14%|█▎        | 1370/10000 [19:20<3:10:57,  1.33s/it]\u001B[A\n",
      "Processing examples in test:  14%|█▎        | 1372/10000 [19:22<2:45:13,  1.15s/it]\u001B[A\n",
      "Processing examples in test:  14%|█▎        | 1373/10000 [19:24<3:06:20,  1.30s/it]\u001B[A\n",
      "Processing examples in test:  14%|█▎        | 1374/10000 [19:25<3:04:22,  1.28s/it]\u001B[A\n",
      "Processing examples in test:  14%|█▍        | 1376/10000 [19:27<2:36:17,  1.09s/it]\u001B[A\n",
      "Processing examples in test:  14%|█▍        | 1377/10000 [19:29<3:03:10,  1.27s/it]\u001B[A\n",
      "Processing examples in test:  14%|█▍        | 1379/10000 [19:30<2:33:15,  1.07s/it]\u001B[A\n",
      "Processing examples in test:  14%|█▍        | 1380/10000 [19:31<2:36:04,  1.09s/it]\u001B[A\n",
      "Processing examples in test:  14%|█▍        | 1382/10000 [19:33<2:32:53,  1.06s/it]\u001B[A\n",
      "Processing examples in test:  14%|█▍        | 1386/10000 [19:34<1:35:35,  1.50it/s]\u001B[A\n",
      "Processing examples in test:  14%|█▍        | 1387/10000 [19:36<1:47:46,  1.33it/s]\u001B[A\n",
      "Processing examples in test:  14%|█▍        | 1389/10000 [19:37<1:42:58,  1.39it/s]\u001B[A\n",
      "Processing examples in test:  14%|█▍        | 1390/10000 [19:38<2:02:05,  1.18it/s]\u001B[A\n",
      "Processing examples in test:  14%|█▍        | 1391/10000 [19:40<2:32:11,  1.06s/it]\u001B[A\n",
      "Processing examples in test:  14%|█▍        | 1392/10000 [19:42<3:01:39,  1.27s/it]\u001B[A"
     ]
    },
    {
     "name": "stdout",
     "output_type": "stream",
     "text": [
      "Failed to transform A girl laying on the ground on her cellphone. or A girl on her cellphone lying on the ground.. Retrying 5 more times ...\n",
      "Failed to transform A girl laying on the ground on her cellphone. or A girl on her cellphone lying on the ground.. Retrying 4 more times ...\n",
      "Failed to transform A girl laying on the ground on her cellphone. or A girl on her cellphone lying on the ground.. Retrying 3 more times ...\n",
      "Failed to transform A girl laying on the ground on her cellphone. or A girl on her cellphone lying on the ground.. Retrying 2 more times ...\n"
     ]
    },
    {
     "name": "stderr",
     "output_type": "stream",
     "text": [
      "\n",
      "Processing examples in test:  14%|█▍        | 1396/10000 [19:49<3:38:01,  1.52s/it]\u001B[A"
     ]
    },
    {
     "name": "stdout",
     "output_type": "stream",
     "text": [
      "Failed to transform A girl laying on the ground on her cellphone. or A girl on her cellphone lying on the ground.. Retrying 1 more times ...\n"
     ]
    },
    {
     "name": "stderr",
     "output_type": "stream",
     "text": [
      "\n",
      "Processing examples in test:  14%|█▍        | 1399/10000 [19:50<2:38:18,  1.10s/it]\u001B[A\n",
      "Processing examples in test:  14%|█▍        | 1400/10000 [19:53<3:06:27,  1.30s/it]\u001B[A"
     ]
    },
    {
     "name": "stdout",
     "output_type": "stream",
     "text": [
      "Failed to transform four people standing on a hiking trail in a forest with big tree logs on the ground close to them. or tall humans standing.. Retrying 5 more times ...\n",
      "Failed to transform four people standing on a hiking trail in a forest with big tree logs on the ground close to them. or tall humans standing.. Retrying 4 more times ...\n",
      "Failed to transform four people standing on a hiking trail in a forest with big tree logs on the ground close to them. or tall humans standing.. Retrying 3 more times ...\n",
      "Failed to transform four people standing on a hiking trail in a forest with big tree logs on the ground close to them. or tall humans standing.. Retrying 2 more times ...\n"
     ]
    },
    {
     "name": "stderr",
     "output_type": "stream",
     "text": [
      "\n",
      "Processing examples in test:  14%|█▍        | 1406/10000 [19:59<2:49:31,  1.18s/it]\u001B[A"
     ]
    },
    {
     "name": "stdout",
     "output_type": "stream",
     "text": [
      "Failed to transform four people standing on a hiking trail in a forest with big tree logs on the ground close to them. or tall humans standing.. Retrying 1 more times ...\n"
     ]
    },
    {
     "name": "stderr",
     "output_type": "stream",
     "text": [
      "\n",
      "Processing examples in test:  14%|█▍        | 1409/10000 [20:01<2:21:54,  1.01it/s]\u001B[A\n",
      "Processing examples in test:  14%|█▍        | 1410/10000 [20:04<2:52:46,  1.21s/it]\u001B[A\n",
      "Processing examples in test:  14%|█▍        | 1411/10000 [20:04<2:42:52,  1.14s/it]\u001B[A\n",
      "Processing examples in test:  14%|█▍        | 1412/10000 [20:06<3:07:11,  1.31s/it]\u001B[A\n",
      "Processing examples in test:  14%|█▍        | 1415/10000 [20:07<2:02:48,  1.17it/s]\u001B[A\n",
      "Processing examples in test:  14%|█▍        | 1418/10000 [20:08<1:38:20,  1.45it/s]\u001B[A\n",
      "Processing examples in test:  14%|█▍        | 1420/10000 [20:10<1:49:17,  1.31it/s]\u001B[A"
     ]
    },
    {
     "name": "stdout",
     "output_type": "stream",
     "text": [
      "Failed to transform A boy kneeling on a skateboard riding down that street or A boy on a skateboard riding down the street his house is on. Retrying 5 more times ...\n",
      "Failed to transform A on a skateboard riding down boy kneeling that street or A boy on a skateboard riding down the street his house is on. Retrying 4 more times ...\n",
      "Failed to transform A on a skateboard riding down boy kneeling that there street or A boy on a skateboard riding down the street his house is on. Retrying 3 more times ...\n",
      "Failed to transform The A the skateboard down boy riding kneeling that there street or A boy on a skateboard riding down the street his house is on. Retrying 2 more times ...\n"
     ]
    },
    {
     "name": "stderr",
     "output_type": "stream",
     "text": [
      "\n",
      "Processing examples in test:  14%|█▍        | 1422/10000 [20:19<4:04:11,  1.71s/it]\u001B[A"
     ]
    },
    {
     "name": "stdout",
     "output_type": "stream",
     "text": [
      "Failed to transform It is kneeling that there street that the A the skateboard down boy riding or A boy on a skateboard riding down the street his house is on. Retrying 1 more times ...\n"
     ]
    },
    {
     "name": "stderr",
     "output_type": "stream",
     "text": [
      "\n",
      "Processing examples in test:  14%|█▍        | 1423/10000 [20:20<4:02:10,  1.69s/it]\u001B[A\n",
      "Processing examples in test:  14%|█▍        | 1425/10000 [20:21<3:04:36,  1.29s/it]\u001B[A\n",
      "Processing examples in test:  14%|█▍        | 1426/10000 [20:23<3:07:04,  1.31s/it]\u001B[A\n",
      "Processing examples in test:  14%|█▍        | 1428/10000 [20:25<2:49:43,  1.19s/it]\u001B[A\n",
      "Processing examples in test:  14%|█▍        | 1429/10000 [20:26<2:55:46,  1.23s/it]\u001B[A\n",
      "Processing examples in test:  14%|█▍        | 1430/10000 [20:27<2:59:48,  1.26s/it]\u001B[A\n",
      "Processing examples in test:  14%|█▍        | 1433/10000 [20:29<2:16:30,  1.05it/s]\u001B[A\n",
      "Processing examples in test:  14%|█▍        | 1435/10000 [20:31<2:00:49,  1.18it/s]\u001B[A\n",
      "Processing examples in test:  14%|█▍        | 1436/10000 [20:32<2:07:55,  1.12it/s]\u001B[A\n",
      "Processing examples in test:  14%|█▍        | 1438/10000 [20:32<1:42:29,  1.39it/s]\u001B[A\n",
      "Processing examples in test:  14%|█▍        | 1439/10000 [20:34<2:01:34,  1.17it/s]\u001B[A\n",
      "Processing examples in test:  14%|█▍        | 1440/10000 [20:35<1:58:04,  1.21it/s]\u001B[A\n",
      "Processing examples in test:  14%|█▍        | 1442/10000 [20:36<2:03:18,  1.16it/s]\u001B[A\n",
      "Processing examples in test:  14%|█▍        | 1445/10000 [20:38<1:38:55,  1.44it/s]\u001B[A\n",
      "Processing examples in test:  14%|█▍        | 1446/10000 [20:40<2:07:33,  1.12it/s]\u001B[A\n",
      "Processing examples in test:  14%|█▍        | 1447/10000 [20:41<2:31:12,  1.06s/it]\u001B[A\n",
      "Processing examples in test:  14%|█▍        | 1448/10000 [20:43<2:56:02,  1.24s/it]\u001B[A\n",
      "Processing examples in test:  14%|█▍        | 1450/10000 [20:45<2:34:43,  1.09s/it]\u001B[A\n",
      "Processing examples in test:  15%|█▍        | 1454/10000 [20:47<1:48:43,  1.31it/s]\u001B[A\n",
      "Processing examples in test:  15%|█▍        | 1455/10000 [20:48<2:02:24,  1.16it/s]\u001B[A\n",
      "Processing examples in test:  15%|█▍        | 1457/10000 [20:50<2:03:44,  1.15it/s]\u001B[A\n",
      "Processing examples in test:  15%|█▍        | 1458/10000 [20:51<2:01:34,  1.17it/s]\u001B[A\n",
      "Processing examples in test:  15%|█▍        | 1465/10000 [20:53<1:08:39,  2.07it/s]\u001B[A\n",
      "Processing examples in test:  15%|█▍        | 1468/10000 [20:55<1:14:53,  1.90it/s]\u001B[A\n",
      "Processing examples in test:  15%|█▍        | 1469/10000 [20:56<1:29:54,  1.58it/s]\u001B[A\n",
      "Processing examples in test:  15%|█▍        | 1472/10000 [21:03<2:54:36,  1.23s/it]\u001B[A\n",
      "Processing examples in test:  15%|█▍        | 1475/10000 [21:04<2:15:36,  1.05it/s]\u001B[A\n",
      "Processing examples in test:  15%|█▍        | 1480/10000 [21:06<1:37:41,  1.45it/s]\u001B[A\n",
      "Processing examples in test:  15%|█▍        | 1489/10000 [21:08<1:02:46,  2.26it/s]\u001B[A\n",
      "Processing examples in test:  15%|█▍        | 1492/10000 [21:10<1:03:14,  2.24it/s]\u001B[A\n",
      "Processing examples in test:  15%|█▍        | 1496/10000 [21:11<1:04:45,  2.19it/s]\u001B[A"
     ]
    },
    {
     "name": "stdout",
     "output_type": "stream",
     "text": [
      "Failed to transform A shirtless man with a white hat and no shoes sitting crisscross with his back against the wall holding up a white plastic cup. or A woman is walking.. Retrying 5 more times ...\n",
      "Failed to transform A shirtless man with a white hat and no shoes sitting crisscross with his back against the wall holding up a white plastic cup. or A woman is walking.. Retrying 4 more times ...\n",
      "Failed to transform A shirtless man with a white hat and no shoes sitting crisscross with his back against the wall holding up a white plastic cup. or A woman is walking.. Retrying 3 more times ...\n",
      "Failed to transform A shirtless man with a white hat and no shoes sitting crisscross with his back against the wall holding up a white plastic cup. or A woman is walking.. Retrying 2 more times ...\n"
     ]
    },
    {
     "name": "stderr",
     "output_type": "stream",
     "text": [
      "\n",
      "Processing examples in test:  15%|█▍        | 1497/10000 [21:17<2:11:17,  1.08it/s]\u001B[A"
     ]
    },
    {
     "name": "stdout",
     "output_type": "stream",
     "text": [
      "Failed to transform A shirtless man with a white hat and no shoes sitting crisscross with his back against the wall holding up a white plastic cup. or A woman is walking.. Retrying 1 more times ...\n"
     ]
    },
    {
     "name": "stderr",
     "output_type": "stream",
     "text": [
      "\n",
      "Processing examples in test:  15%|█▍        | 1498/10000 [21:19<2:31:36,  1.07s/it]\u001B[A\n",
      "Processing examples in test:  15%|█▍        | 1499/10000 [21:22<2:55:30,  1.24s/it]\u001B[A\n",
      "Processing examples in test:  15%|█▌        | 1500/10000 [21:24<3:19:56,  1.41s/it]\u001B[A\n",
      "Processing examples in test:  15%|█▌        | 1501/10000 [21:26<3:32:16,  1.50s/it]\u001B[A\n",
      "Processing examples in test:  15%|█▌        | 1503/10000 [21:27<2:37:40,  1.11s/it]\u001B[A\n",
      "Processing examples in test:  15%|█▌        | 1506/10000 [21:29<2:13:00,  1.06it/s]\u001B[A\n",
      "Processing examples in test:  15%|█▌        | 1508/10000 [21:30<2:01:36,  1.16it/s]\u001B[A\n",
      "Processing examples in test:  15%|█▌        | 1510/10000 [21:32<2:07:02,  1.11it/s]\u001B[A\n",
      "Processing examples in test:  15%|█▌        | 1514/10000 [21:34<1:40:16,  1.41it/s]\u001B[A\n",
      "Processing examples in test:  15%|█▌        | 1515/10000 [21:35<1:49:05,  1.30it/s]\u001B[A\n",
      "Processing examples in test:  15%|█▌        | 1518/10000 [21:37<1:42:04,  1.38it/s]\u001B[A\n",
      "Processing examples in test:  15%|█▌        | 1522/10000 [21:38<1:15:24,  1.87it/s]\u001B[A\n",
      "Processing examples in test:  15%|█▌        | 1523/10000 [21:39<1:27:46,  1.61it/s]\u001B[A\n",
      "Processing examples in test:  15%|█▌        | 1525/10000 [21:41<1:33:55,  1.50it/s]\u001B[A\n",
      "Processing examples in test:  15%|█▌        | 1527/10000 [21:42<1:27:02,  1.62it/s]\u001B[A\n",
      "Processing examples in test:  15%|█▌        | 1528/10000 [21:43<1:31:08,  1.55it/s]\u001B[A\n",
      "Processing examples in test:  15%|█▌        | 1531/10000 [21:44<1:21:50,  1.72it/s]\u001B[A\n",
      "Processing examples in test:  15%|█▌        | 1532/10000 [21:46<1:47:27,  1.31it/s]\u001B[A\n",
      "Processing examples in test:  15%|█▌        | 1537/10000 [21:47<1:01:14,  2.30it/s]\u001B[A\n",
      "Processing examples in test:  15%|█▌        | 1538/10000 [21:49<1:31:12,  1.55it/s]\u001B[A\n",
      "Processing examples in test:  15%|█▌        | 1540/10000 [21:50<1:43:02,  1.37it/s]\u001B[A\n",
      "Processing examples in test:  15%|█▌        | 1542/10000 [21:52<1:49:43,  1.28it/s]\u001B[A\n",
      "Processing examples in test:  15%|█▌        | 1544/10000 [21:53<1:41:51,  1.38it/s]\u001B[A\n",
      "Processing examples in test:  16%|█▌        | 1550/10000 [21:55<1:10:22,  2.00it/s]\u001B[A\n",
      "Processing examples in test:  16%|█▌        | 1556/10000 [21:57<58:23,  2.41it/s]  \u001B[A\n",
      "Processing examples in test:  16%|█▌        | 1558/10000 [21:58<1:02:49,  2.24it/s]\u001B[A"
     ]
    },
    {
     "name": "stdout",
     "output_type": "stream",
     "text": [
      "Failed to transform An older women looking off into the distance with three older women walking towards her from behind. or Four older women are sitting in a hot tub.. Retrying 5 more times ...\n",
      "Failed to transform An older women looking off into the distance with three older women walking towards her from behind. or Four older women are sitting in a hot tub.. Retrying 4 more times ...\n",
      "Failed to transform An older women looking off into the distance with three older women walking towards her from behind. or Four older women are sitting in a hot tub.. Retrying 3 more times ...\n",
      "Failed to transform An older women looking off into the distance with three older women walking towards her from behind. or Four older women are sitting in a hot tub.. Retrying 2 more times ...\n"
     ]
    },
    {
     "name": "stderr",
     "output_type": "stream",
     "text": [
      "\n",
      "Processing examples in test:  16%|█▌        | 1560/10000 [22:03<1:59:20,  1.18it/s]\u001B[A"
     ]
    },
    {
     "name": "stdout",
     "output_type": "stream",
     "text": [
      "Failed to transform An older women looking off into the distance with three older women walking towards her from behind. or Four older women are sitting in a hot tub.. Retrying 1 more times ...\n",
      "Failed to transform A man sitting with his head down on his arm and a roll of toilet paper and a cellphone sitting beside him. or A man is running a marathon.. Retrying 5 more times ...\n",
      "Failed to transform A man sitting with his head down on his arm and a roll of toilet paper and a cellphone sitting beside him. or A man is running a marathon.. Retrying 4 more times ...\n",
      "Failed to transform A man sitting with his head down on his arm and a roll of toilet paper and a cellphone sitting beside him. or A man is running a marathon.. Retrying 3 more times ...\n",
      "Failed to transform A man sitting with his head down on his arm and a roll of toilet paper and a cellphone sitting beside him. or A man is running a marathon.. Retrying 2 more times ...\n"
     ]
    },
    {
     "name": "stderr",
     "output_type": "stream",
     "text": [
      "\n",
      "Processing examples in test:  16%|█▌        | 1561/10000 [22:08<2:57:31,  1.26s/it]\u001B[A"
     ]
    },
    {
     "name": "stdout",
     "output_type": "stream",
     "text": [
      "Failed to transform A man sitting with his head down on his arm and a roll of toilet paper and a cellphone sitting beside him. or A man is running a marathon.. Retrying 1 more times ...\n",
      "Failed to transform A man sitting with his head down on his arm and a roll of toilet paper and a cellphone sitting beside him. or A man is sick next to the toilet.. Retrying 5 more times ...\n",
      "Failed to transform A man sitting with his head down on his arm and a roll of toilet paper and a cellphone sitting beside him. or A man is sick next to the toilet.. Retrying 4 more times ...\n",
      "Failed to transform A man sitting with his head down on his arm and a roll of toilet paper and a cellphone sitting beside him. or A man is sick next to the toilet.. Retrying 3 more times ...\n",
      "Failed to transform A man sitting with his head down on his arm and a roll of toilet paper and a cellphone sitting beside him. or A man is sick next to the toilet.. Retrying 2 more times ...\n"
     ]
    },
    {
     "name": "stderr",
     "output_type": "stream",
     "text": [
      "\n",
      "Processing examples in test:  16%|█▌        | 1563/10000 [22:12<3:34:23,  1.52s/it]\u001B[A"
     ]
    },
    {
     "name": "stdout",
     "output_type": "stream",
     "text": [
      "Failed to transform A man sitting with his head down on his arm and a roll of toilet paper and a cellphone sitting beside him. or A man is sick next to the toilet.. Retrying 1 more times ...\n"
     ]
    },
    {
     "name": "stderr",
     "output_type": "stream",
     "text": [
      "\n",
      "Processing examples in test:  16%|█▌        | 1565/10000 [22:13<2:50:37,  1.21s/it]\u001B[A\n",
      "Processing examples in test:  16%|█▌        | 1567/10000 [22:14<2:25:34,  1.04s/it]\u001B[A\n",
      "Processing examples in test:  16%|█▌        | 1569/10000 [22:15<2:04:16,  1.13it/s]\u001B[A\n",
      "Processing examples in test:  16%|█▌        | 1575/10000 [22:16<1:11:21,  1.97it/s]\u001B[A\n",
      "Processing examples in test:  16%|█▌        | 1579/10000 [22:18<1:10:59,  1.98it/s]\u001B[A\n",
      "Processing examples in test:  16%|█▌        | 1580/10000 [22:20<1:23:45,  1.68it/s]\u001B[A\n",
      "Processing examples in test:  16%|█▌        | 1586/10000 [22:21<59:41,  2.35it/s]  \u001B[A\n",
      "Processing examples in test:  16%|█▌        | 1587/10000 [22:23<1:21:31,  1.72it/s]\u001B[A\n",
      "Processing examples in test:  16%|█▌        | 1589/10000 [22:24<1:14:03,  1.89it/s]\u001B[A\n",
      "Processing examples in test:  16%|█▌        | 1591/10000 [22:25<1:15:01,  1.87it/s]\u001B[A\n",
      "Processing examples in test:  16%|█▌        | 1593/10000 [22:26<1:15:35,  1.85it/s]\u001B[A\n",
      "Processing examples in test:  16%|█▌        | 1594/10000 [22:27<1:29:01,  1.57it/s]\u001B[A\n",
      "Processing examples in test:  16%|█▌        | 1596/10000 [22:28<1:25:52,  1.63it/s]\u001B[A\n",
      "Processing examples in test:  16%|█▌        | 1597/10000 [22:30<2:06:42,  1.11it/s]\u001B[A\n",
      "Processing examples in test:  16%|█▌        | 1598/10000 [22:33<2:49:43,  1.21s/it]\u001B[A\n",
      "Processing examples in test:  16%|█▌        | 1600/10000 [22:33<2:06:07,  1.11it/s]\u001B[A\n",
      "Processing examples in test:  16%|█▌        | 1601/10000 [22:35<2:11:18,  1.07it/s]\u001B[A\n",
      "Processing examples in test:  16%|█▌        | 1603/10000 [22:36<1:52:00,  1.25it/s]\u001B[A\n",
      "Processing examples in test:  16%|█▌        | 1604/10000 [22:38<2:39:51,  1.14s/it]\u001B[A\n",
      "Processing examples in test:  16%|█▌        | 1606/10000 [22:41<2:52:34,  1.23s/it]\u001B[A\n",
      "Processing examples in test:  16%|█▌        | 1609/10000 [22:42<1:49:55,  1.27it/s]\u001B[A\n",
      "Processing examples in test:  16%|█▌        | 1612/10000 [22:42<1:19:41,  1.75it/s]\u001B[A\n",
      "Processing examples in test:  16%|█▌        | 1613/10000 [22:43<1:22:39,  1.69it/s]\u001B[A\n",
      "Processing examples in test:  16%|█▌        | 1614/10000 [22:45<1:55:46,  1.21it/s]\u001B[A\n",
      "Processing examples in test:  16%|█▌        | 1615/10000 [22:47<2:32:15,  1.09s/it]\u001B[A\n",
      "Processing examples in test:  16%|█▌        | 1616/10000 [22:50<3:25:28,  1.47s/it]\u001B[A\n",
      "Processing examples in test:  16%|█▌        | 1618/10000 [22:52<3:07:26,  1.34s/it]\u001B[A\n",
      "Processing examples in test:  16%|█▌        | 1619/10000 [22:54<3:30:38,  1.51s/it]\u001B[A"
     ]
    }
   ],
   "source": [
    "import pandas as pd\n",
    "import os\n",
    "from tqdm import tqdm\n",
    "\n",
    "dataset = load_dataset(\"snli\")\n",
    "os.makedirs(\"snli_modified\", exist_ok=True)\n",
    "\n",
    "for split in tqdm(dataset.keys(), desc=\"Processing splits\"):\n",
    "    print(f\"Processing {split}\")\n",
    "    data = dataset[split]\n",
    "\n",
    "    rows = []\n",
    "    for example in tqdm(data, desc=f\"Processing examples in {split}\"):\n",
    "        premise = example[\"premise\"]\n",
    "        hypothesis = example[\"hypothesis\"]\n",
    "        label = example[\"label\"]\n",
    "        \n",
    "        # make sure that text is not empty\n",
    "        if not premise or not hypothesis:\n",
    "            continue\n",
    "\n",
    "        # Skip if label is not in {0, 1, 2}\n",
    "        if label not in {0, 1, 2}:\n",
    "            continue\n",
    "\n",
    "        # Flip a coin for similar/distinct\n",
    "        want_similar = random.choice([True, False])\n",
    "\n",
    "        # Check current similarity\n",
    "        initial_sim = compare_texts(premise, hypothesis)\n",
    "        # currently_similar = (initial_sim == 1.0)\n",
    "\n",
    "        if want_similar:\n",
    "            # Make them similar\n",
    "            premise, hypothesis = make_texts_similar(premise, hypothesis)\n",
    "        else:\n",
    "            # Make them distinct\n",
    "            hypothesis = make_texts_distinct(premise, hypothesis)\n",
    "\n",
    "        # Re-check similarity after transformations\n",
    "        final_sim = compare_texts(premise, hypothesis)\n",
    "        style = 1 if final_sim == 1.0 else 0 # 1 for similar, 0 for distinct\n",
    "\n",
    "        rows.append({\n",
    "            \"premise\": premise,\n",
    "            \"hypothesis\": hypothesis,\n",
    "            \"premise_original\": example[\"premise\"],\n",
    "            \"hypothesis_original\": example[\"hypothesis\"],\n",
    "            \"nli\": label, # 0 entailment, 1 neutral, 2 contradiction\n",
    "            \"style\": style # 0 distinct, 1 similar\n",
    "        })\n",
    "\n",
    "    df = pd.DataFrame(rows, columns=[\"premise\", \"hypothesis\", \"premise_original\", \"hypothesis_original\", \"nli\", \"style\"])\n",
    "    output_file = f\"snli_modified/{split}_modified.tsv\"\n",
    "    df.to_csv(output_file, index=False, encoding='utf-8', sep=\"\\t\")"
   ],
   "metadata": {
    "collapsed": false,
    "is_executing": true,
    "ExecuteTime": {
     "start_time": "2024-12-12T13:08:20.866873Z"
    }
   },
   "id": "498d9a270007d867"
  },
  {
   "cell_type": "code",
   "execution_count": null,
   "outputs": [],
   "source": [],
   "metadata": {
    "collapsed": false
   },
   "id": "5e5b745063e02459"
  },
  {
   "cell_type": "code",
   "execution_count": null,
   "outputs": [],
   "source": [],
   "metadata": {
    "collapsed": false
   },
   "id": "92e73a3a143eb934"
  },
  {
   "cell_type": "code",
   "execution_count": null,
   "outputs": [],
   "source": [],
   "metadata": {
    "collapsed": false
   },
   "id": "801e82992da35a7c"
  },
  {
   "cell_type": "code",
   "execution_count": 1,
   "outputs": [
    {
     "name": "stderr",
     "output_type": "stream",
     "text": [
      "\u001B[34;1mTextFlint\u001B[0m: Downloading http://textflint.oss-cn-beijing.aliyuncs.com/download/NLTK_DATA/wordnet/wordnet.zip.\n",
      "100%|██████████| 10.8M/10.8M [00:01<00:00, 5.97MB/s]\n",
      "\u001B[34;1mTextFlint\u001B[0m: Unzipping file /Users/anna/.cache/textflint/tmp3a_4wsdp to /Users/anna/.cache/textflint/NLTK_DATA/wordnet.\n",
      "\u001B[34;1mTextFlint\u001B[0m: Successfully saved NLTK_DATA/wordnet/wordnet.zip to cache.\n"
     ]
    },
    {
     "ename": "ModuleNotFoundError",
     "evalue": "No module named 'textflint.transformation'",
     "output_type": "error",
     "traceback": [
      "\u001B[0;31m---------------------------------------------------------------------------\u001B[0m",
      "\u001B[0;31mModuleNotFoundError\u001B[0m                       Traceback (most recent call last)",
      "Cell \u001B[0;32mIn[1], line 1\u001B[0m\n\u001B[0;32m----> 1\u001B[0m \u001B[38;5;28;01mfrom\u001B[39;00m \u001B[38;5;21;01mtextflint\u001B[39;00m\u001B[38;5;21;01m.\u001B[39;00m\u001B[38;5;21;01mtransformation\u001B[39;00m\u001B[38;5;21;01m.\u001B[39;00m\u001B[38;5;21;01muniversal\u001B[39;00m\u001B[38;5;21;01m.\u001B[39;00m\u001B[38;5;21;01mchar_typos\u001B[39;00m \u001B[38;5;28;01mimport\u001B[39;00m CharTypos\n\u001B[1;32m      3\u001B[0m original_text \u001B[38;5;241m=\u001B[39m \u001B[38;5;124m\"\u001B[39m\u001B[38;5;124mThis is a sample sentence.\u001B[39m\u001B[38;5;124m\"\u001B[39m\n\u001B[1;32m      4\u001B[0m transformer \u001B[38;5;241m=\u001B[39m CharTypos()\n",
      "\u001B[0;31mModuleNotFoundError\u001B[0m: No module named 'textflint.transformation'"
     ]
    }
   ],
   "source": [
    "from textflint.transformation.universal.char_typos import CharTypos\n",
    "\n",
    "original_text = \"This is a sample sentence.\"\n",
    "transformer = CharTypos()\n",
    "\n",
    "# The transform() method expects a list of strings and returns a list of variants.\n",
    "perturbed_variants = transformer.transform([original_text])\n",
    "\n",
    "print(\"Original Text:\")\n",
    "print(original_text)\n",
    "print(\"\\nPerturbed Variants:\")\n",
    "for i, variant in enumerate(perturbed_variants, start=1):\n",
    "    print(f\"{i}. {variant}\")"
   ],
   "metadata": {
    "collapsed": false,
    "ExecuteTime": {
     "end_time": "2024-12-10T14:55:58.415312Z",
     "start_time": "2024-12-10T14:55:51.601173Z"
    }
   },
   "id": "1c4b2554e575481e"
  },
  {
   "cell_type": "code",
   "execution_count": null,
   "outputs": [],
   "source": [],
   "metadata": {
    "collapsed": false
   },
   "id": "9844f73f784247d"
  }
 ],
 "metadata": {
  "kernelspec": {
   "display_name": "Python 3",
   "language": "python",
   "name": "python3"
  },
  "language_info": {
   "codemirror_mode": {
    "name": "ipython",
    "version": 2
   },
   "file_extension": ".py",
   "mimetype": "text/x-python",
   "name": "python",
   "nbconvert_exporter": "python",
   "pygments_lexer": "ipython2",
   "version": "2.7.6"
  }
 },
 "nbformat": 4,
 "nbformat_minor": 5
}
