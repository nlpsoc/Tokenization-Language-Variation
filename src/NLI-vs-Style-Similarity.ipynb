{
 "cells": [
  {
   "cell_type": "code",
   "execution_count": 1,
   "id": "initial_id",
   "metadata": {
    "collapsed": true,
    "ExecuteTime": {
     "end_time": "2024-12-12T13:00:32.285540Z",
     "start_time": "2024-12-12T13:00:23.712919Z"
    }
   },
   "outputs": [],
   "source": [
    "# import SNLI dataset from h\n",
    "from datasets import load_dataset\n",
    "\n",
    "dataset = load_dataset(\"snli\")\n",
    "# Access the splits\n",
    "train_data = dataset['train']\n",
    "validation_data = dataset['validation']\n",
    "test_data = dataset['test']"
   ]
  },
  {
   "cell_type": "code",
   "execution_count": 2,
   "outputs": [
    {
     "data": {
      "text/plain": "{'premise': 'A person on a horse jumps over a broken down airplane.',\n 'hypothesis': 'A person is training his horse for a competition.',\n 'label': 1}"
     },
     "execution_count": 2,
     "metadata": {},
     "output_type": "execute_result"
    }
   ],
   "source": [
    "train_data[0]"
   ],
   "metadata": {
    "collapsed": false,
    "ExecuteTime": {
     "end_time": "2024-12-11T10:51:08.902086Z",
     "start_time": "2024-12-11T10:51:08.887468Z"
    }
   },
   "id": "1111efc1a74c64b2"
  },
  {
   "cell_type": "code",
   "execution_count": 1,
   "outputs": [],
   "source": [
    "import re\n",
    "import string\n",
    "# Define the punctuation set we care about\n",
    "PUNCT = {'.', '!', '?'}\n",
    "common_contractions = {\n",
    "    \"do not\": \"don't\",\n",
    "    \"is not\": \"isn't\",\n",
    "    \"are not\": \"aren't\",\n",
    "    \"it is\": \"it's\",\n",
    "    \"that is\": \"that's\",\n",
    "    \"we are\": \"we're\",\n",
    "    \"you are\": \"you're\",\n",
    "    \"I am\": \"I'm\",\n",
    "    \"I will\": \"I'll\",\n",
    "    \"I would\": \"I'd\",\n",
    "    \"they are\": \"they're\",\n",
    "    \"will not\": \"won't\",\n",
    "    \"can not\": \"can't\",\n",
    "    \"there is\": \"there's\"\n",
    "}\n",
    "\n",
    "def encased_with_apostrophes(text):\n",
    "    # Check if the text is encased with standard quotes (artificat in SNLI)\n",
    "    return text.startswith('\"') and text.endswith('\"')\n",
    "\n",
    "def starts_with_uppercase_word(text):\n",
    "    # Strip leading whitespace and check if the first character is uppercase\n",
    "    text = text.lstrip()\n",
    "    if not text:\n",
    "        return False\n",
    "    return text[0].isupper()\n",
    "\n",
    "def ends_with_punctuation(text):\n",
    "    # Check if the last non-whitespace character is punctuation\n",
    "    text = text.rstrip()\n",
    "    return len(text) > 0 and text[-1] in PUNCT\n",
    "\n",
    "def contains_punctuation(text):\n",
    "    # Check if there's any punctuation in the text\n",
    "    # return any(ch in string.punctuation for ch in text)\n",
    "    return any(ch in PUNCT for ch in text)\n",
    "\n",
    "def whitespace_encoding(text):\n",
    "    # Identify all distinct whitespace code points used in the text.\n",
    "    # This will differentiate between e.g. U+0020 (normal space) and U+00A0 (no-break space).\n",
    "    whitespaces = set()\n",
    "    for ch in text:\n",
    "        if ch.isspace():\n",
    "            whitespaces.add(ord(ch))  # store the code point\n",
    "    return whitespaces\n",
    "\n",
    "def apostrophe_encoding(text):\n",
    "    # Extract all apostrophe-like characters: common are `'` and `’`\n",
    "    # Return a set of apostrophe chars used\n",
    "    # If you want to be more comprehensive, include other variants.\n",
    "    # Here we include backtick and right single quotation mark as well.\n",
    "    possible_apostrophes = {\"'\", \"’\", \"`\"}\n",
    "    apostrophes = {ch for ch in text if ch in possible_apostrophes}\n",
    "    return apostrophes\n",
    "\n",
    "def extract_number_patterns(text):\n",
    "    # Find all numbers and their surrounding formatting.\n",
    "    # We'll capture substrings around each digit sequence that may include punctuation and spacing.\n",
    "    number_patterns = []\n",
    "    for match in re.finditer(r\"\\d+\", text):\n",
    "        start, end = match.span()\n",
    "        # Extend outwards to include punctuation/whitespace directly adjacent to the digits\n",
    "        left = start\n",
    "        while left > 0 and (text[left-1] in string.punctuation or text[left-1].isspace()):\n",
    "            left -= 1\n",
    "        right = end\n",
    "        while right < len(text) and (text[right] in string.punctuation or text[right].isspace()):\n",
    "            right += 1\n",
    "        substring = text[left:right].strip()\n",
    "        number_patterns.append(substring)\n",
    "    return number_patterns\n",
    "\n",
    "def compare_number_formats(patterns1, patterns2):\n",
    "    # Check if both lists have the same number of numeric patterns\n",
    "    if len(patterns1) != len(patterns2):\n",
    "        return False\n",
    "    # Compare each pair of patterns\n",
    "    for p1, p2 in zip(patterns1, patterns2):\n",
    "        # Compare digits sequence\n",
    "        digits1 = re.sub(r\"\\D\", \"\", p1)\n",
    "        digits2 = re.sub(r\"\\D\", \"\", p2)\n",
    "        if digits1 != digits2:\n",
    "            return False\n",
    "        # Compare non-digit formatting\n",
    "        non_digits1 = re.sub(r\"\\d\", \"\", p1)\n",
    "        non_digits2 = re.sub(r\"\\d\", \"\", p2)\n",
    "        if non_digits1 != non_digits2:\n",
    "            return False\n",
    "    return True\n",
    "\n",
    "def contains_newline(text):\n",
    "    return \"\\n\" in text\n",
    "\n",
    "def contains_contractions(text):\n",
    "    # Check if text contains any of the known contracted forms\n",
    "    pattern = r'\\b(?:' + '|'.join(map(re.escape, common_contractions.values())) + r')\\b'\n",
    "    return bool(re.search(pattern, text, flags=re.IGNORECASE))\n",
    "\n",
    "def can_form_contractions(text):\n",
    "    # Check if text contains any expansions that could be turned into known contractions\n",
    "    # If we find at least one expansion pattern in the text, return True\n",
    "    for expansion in common_contractions.keys():\n",
    "        # Create a regex pattern for the expansion\n",
    "        exp_words = expansion.split()\n",
    "        pattern = r'\\b' + r'\\s+'.join(exp_words) + r'\\b'\n",
    "        if re.search(pattern, text, flags=re.IGNORECASE):\n",
    "            return True\n",
    "    return False\n"
   ],
   "metadata": {
    "collapsed": false,
    "ExecuteTime": {
     "end_time": "2024-12-12T15:38:35.975739Z",
     "start_time": "2024-12-12T15:38:35.957261Z"
    }
   },
   "id": "1fee0ccf675459f4"
  },
  {
   "cell_type": "code",
   "execution_count": 12,
   "outputs": [],
   "source": [
    "def compare_texts(text1, text2):\n",
    "    conditions = []\n",
    "    conditions.append(encased_with_apostrophes(text1) == encased_with_apostrophes(text2))\n",
    "    conditions.append(starts_with_uppercase_word(text1) == starts_with_uppercase_word(text2))\n",
    "    conditions.append(ends_with_punctuation(text1) == ends_with_punctuation(text2))\n",
    "    conditions.append(contains_punctuation(text1) == contains_punctuation(text2))\n",
    "    conditions.append(whitespace_encoding(text1) == whitespace_encoding(text2))\n",
    "    conditions.append(apostrophe_encoding(text1) == apostrophe_encoding(text2))\n",
    "    patterns1 = extract_number_patterns(text1)\n",
    "    patterns2 = extract_number_patterns(text2)\n",
    "    conditions.append(compare_number_formats(patterns1, patterns2))\n",
    "    conditions.append(contains_contractions(text1) == contains_contractions(text2))\n",
    "    similarity = sum(conditions) / len(conditions)\n",
    "    return similarity\n",
    "\n",
    "def make_texts_similar(text1, text2):\n",
    "    # Adjust Quotes\n",
    "    if encased_with_apostrophes(text1) != encased_with_apostrophes(text2):\n",
    "        if encased_with_apostrophes(text1) and not encased_with_apostrophes(text2):\n",
    "            text2 = '\"' + text2 + '\"'\n",
    "        elif not encased_with_apostrophes(text1) and encased_with_apostrophes(text2):\n",
    "            text2 = text2[1:-1]\n",
    "    \n",
    "    # Adjust capitalization at the start\n",
    "    if starts_with_uppercase_word(text1) != starts_with_uppercase_word(text2):\n",
    "        if starts_with_uppercase_word(text1) and not starts_with_uppercase_word(text2):\n",
    "            stripped = text2.lstrip()\n",
    "            if stripped:\n",
    "                start_idx = len(text2) - len(stripped)\n",
    "                text2 = text2[:start_idx] + stripped[0].upper() + stripped[1:]\n",
    "        elif not starts_with_uppercase_word(text1) and starts_with_uppercase_word(text2):\n",
    "            stripped = text2.lstrip()\n",
    "            if stripped:\n",
    "                start_idx = len(text2) - len(stripped)\n",
    "                text2 = text2[:start_idx] + stripped[0].lower() + stripped[1:]\n",
    "\n",
    "    # Adjust punctuation at the end\n",
    "    if ends_with_punctuation(text1) != ends_with_punctuation(text2):\n",
    "        if ends_with_punctuation(text1) and not ends_with_punctuation(text2):\n",
    "            t1_end_punct = text1.rstrip()[-1]\n",
    "            text2 = text2.rstrip() + t1_end_punct\n",
    "        elif not ends_with_punctuation(text1) and ends_with_punctuation(text2):\n",
    "            text2 = text2.rstrip()\n",
    "            while text2 and text2[-1] in PUNCT:\n",
    "                text2 = text2[:-1]\n",
    "\n",
    "    # Now text1 and text2 should be similar in capitalization and end punctuation.\n",
    "    # Apostrophe and whitespace encoding is the same initially.\n",
    "    # Randomly decide if we want to change them for BOTH texts simultaneously.\n",
    "    \n",
    "    # Random chance to change whitespace encoding for both\n",
    "    # For example, replace all regular spaces with non-breaking spaces in both texts\n",
    "    # if random.random() < 0.5:\n",
    "    #     # Check if we have spaces\n",
    "    #     if \" \" in text1 or \" \" in text2:\n",
    "    #         # Replace all spaces with non-breaking spaces\n",
    "    #         text1 = text1.replace(\" \", \"\\u00A0\")\n",
    "    #         text2 = text2.replace(\" \", \"\\u00A0\")\n",
    "\n",
    "    # Random chance to change the dialect for both texts\n",
    "    if random.random() < 1.0:\n",
    "        # Randomly select a dialect from DIALECTS\n",
    "        attempts = 5  # limit attempts to avoid infinite loops\n",
    "        changed = False\n",
    "        while attempts > 0 and not changed:\n",
    "            try:\n",
    "                dialect = random.choice(range(len(DIALECTS)))\n",
    "                print(f\"Transforming with {dialect} ...\")\n",
    "                text1 = DIALECTS[dialect].transform(text1)\n",
    "                text2 = DIALECTS[dialect].transform(text2)\n",
    "                changed = True\n",
    "            except:  # if the dialect transformation fails\n",
    "                print(f\"Failed to transform {text1} or {text2}. Retrying {attempts} more times ...\")\n",
    "            attempts -= 1\n",
    "\n",
    "    # # Random chance to toggle apostrophe encoding for both\n",
    "    # # If we have apostrophes, switch them from `'` to `’` or vice versa\n",
    "    # apos1 = apostrophe_encoding(text1)\n",
    "    # apos2 = apostrophe_encoding(text2)\n",
    "    # # Since they are initially the same, we can just pick a toggle.\n",
    "    # if random.random() < 0.5 and (apos1 and apos2):\n",
    "    #     # If we have at least one type of apostrophe in the texts\n",
    "    #     # If we find `'` in texts, replace it with `’`, else if `’` then replace with `'`\n",
    "    #     if \"'\" in text1 or \"'\" in text2:\n",
    "    #         # Replace `'` with `’`\n",
    "    #         text1 = text1.replace(\"'\", \"’\")\n",
    "    #         text2 = text2.replace(\"'\", \"’\")\n",
    "    #     elif \"’\" in text1 or \"’\" in text2:\n",
    "    #         # Replace `’` with `'`\n",
    "    #         text1 = text1.replace(\"’\", \"'\")\n",
    "    #         text2 = text2.replace(\"’\", \"'\")\n",
    "\n",
    "    return text1, text2\n",
    "    "
   ],
   "metadata": {
    "collapsed": false,
    "ExecuteTime": {
     "end_time": "2024-12-12T15:46:34.781266Z",
     "start_time": "2024-12-12T15:46:34.752563Z"
    }
   },
   "id": "3dd4afabfbbafb88"
  },
  {
   "cell_type": "code",
   "execution_count": 3,
   "outputs": [
    {
     "name": "stdout",
     "output_type": "stream",
     "text": [
      "Collecting en-core-web-sm==3.7.1\n",
      "  Downloading https://github.com/explosion/spacy-models/releases/download/en_core_web_sm-3.7.1/en_core_web_sm-3.7.1-py3-none-any.whl (12.8 MB)\n",
      "\u001B[2K     \u001B[90m━━━━━━━━━━━━━━━━━━━━━━━━━━━━━━━━━━━━━━━━\u001B[0m \u001B[32m12.8/12.8 MB\u001B[0m \u001B[31m31.8 MB/s\u001B[0m eta \u001B[36m0:00:00\u001B[0ma \u001B[36m0:00:01\u001B[0m\n",
      "\u001B[?25hRequirement already satisfied: spacy<3.8.0,>=3.7.2 in /Users/anna/anaconda3/envs/StyleTokenizer/lib/python3.11/site-packages (from en-core-web-sm==3.7.1) (3.7.4)\n",
      "Requirement already satisfied: spacy-legacy<3.1.0,>=3.0.11 in /Users/anna/anaconda3/envs/StyleTokenizer/lib/python3.11/site-packages (from spacy<3.8.0,>=3.7.2->en-core-web-sm==3.7.1) (3.0.12)\n",
      "Requirement already satisfied: spacy-loggers<2.0.0,>=1.0.0 in /Users/anna/anaconda3/envs/StyleTokenizer/lib/python3.11/site-packages (from spacy<3.8.0,>=3.7.2->en-core-web-sm==3.7.1) (1.0.5)\n",
      "Requirement already satisfied: murmurhash<1.1.0,>=0.28.0 in /Users/anna/anaconda3/envs/StyleTokenizer/lib/python3.11/site-packages (from spacy<3.8.0,>=3.7.2->en-core-web-sm==3.7.1) (1.0.10)\n",
      "Requirement already satisfied: cymem<2.1.0,>=2.0.2 in /Users/anna/anaconda3/envs/StyleTokenizer/lib/python3.11/site-packages (from spacy<3.8.0,>=3.7.2->en-core-web-sm==3.7.1) (2.0.8)\n",
      "Requirement already satisfied: preshed<3.1.0,>=3.0.2 in /Users/anna/anaconda3/envs/StyleTokenizer/lib/python3.11/site-packages (from spacy<3.8.0,>=3.7.2->en-core-web-sm==3.7.1) (3.0.9)\n",
      "Requirement already satisfied: thinc<8.3.0,>=8.2.2 in /Users/anna/anaconda3/envs/StyleTokenizer/lib/python3.11/site-packages (from spacy<3.8.0,>=3.7.2->en-core-web-sm==3.7.1) (8.2.3)\n",
      "Requirement already satisfied: wasabi<1.2.0,>=0.9.1 in /Users/anna/anaconda3/envs/StyleTokenizer/lib/python3.11/site-packages (from spacy<3.8.0,>=3.7.2->en-core-web-sm==3.7.1) (1.1.2)\n",
      "Requirement already satisfied: srsly<3.0.0,>=2.4.3 in /Users/anna/anaconda3/envs/StyleTokenizer/lib/python3.11/site-packages (from spacy<3.8.0,>=3.7.2->en-core-web-sm==3.7.1) (2.4.8)\n",
      "Requirement already satisfied: catalogue<2.1.0,>=2.0.6 in /Users/anna/anaconda3/envs/StyleTokenizer/lib/python3.11/site-packages (from spacy<3.8.0,>=3.7.2->en-core-web-sm==3.7.1) (2.0.10)\n",
      "Requirement already satisfied: weasel<0.4.0,>=0.1.0 in /Users/anna/anaconda3/envs/StyleTokenizer/lib/python3.11/site-packages (from spacy<3.8.0,>=3.7.2->en-core-web-sm==3.7.1) (0.3.4)\n",
      "Requirement already satisfied: typer<0.10.0,>=0.3.0 in /Users/anna/anaconda3/envs/StyleTokenizer/lib/python3.11/site-packages (from spacy<3.8.0,>=3.7.2->en-core-web-sm==3.7.1) (0.9.4)\n",
      "Requirement already satisfied: smart-open<7.0.0,>=5.2.1 in /Users/anna/anaconda3/envs/StyleTokenizer/lib/python3.11/site-packages (from spacy<3.8.0,>=3.7.2->en-core-web-sm==3.7.1) (6.4.0)\n",
      "Requirement already satisfied: tqdm<5.0.0,>=4.38.0 in /Users/anna/anaconda3/envs/StyleTokenizer/lib/python3.11/site-packages (from spacy<3.8.0,>=3.7.2->en-core-web-sm==3.7.1) (4.66.2)\n",
      "Requirement already satisfied: requests<3.0.0,>=2.13.0 in /Users/anna/anaconda3/envs/StyleTokenizer/lib/python3.11/site-packages (from spacy<3.8.0,>=3.7.2->en-core-web-sm==3.7.1) (2.31.0)\n",
      "Requirement already satisfied: pydantic!=1.8,!=1.8.1,<3.0.0,>=1.7.4 in /Users/anna/anaconda3/envs/StyleTokenizer/lib/python3.11/site-packages (from spacy<3.8.0,>=3.7.2->en-core-web-sm==3.7.1) (2.7.1)\n",
      "Requirement already satisfied: jinja2 in /Users/anna/anaconda3/envs/StyleTokenizer/lib/python3.11/site-packages (from spacy<3.8.0,>=3.7.2->en-core-web-sm==3.7.1) (3.1.3)\n",
      "Requirement already satisfied: setuptools in /Users/anna/anaconda3/envs/StyleTokenizer/lib/python3.11/site-packages (from spacy<3.8.0,>=3.7.2->en-core-web-sm==3.7.1) (68.2.2)\n",
      "Requirement already satisfied: packaging>=20.0 in /Users/anna/anaconda3/envs/StyleTokenizer/lib/python3.11/site-packages (from spacy<3.8.0,>=3.7.2->en-core-web-sm==3.7.1) (24.0)\n",
      "Requirement already satisfied: langcodes<4.0.0,>=3.2.0 in /Users/anna/anaconda3/envs/StyleTokenizer/lib/python3.11/site-packages (from spacy<3.8.0,>=3.7.2->en-core-web-sm==3.7.1) (3.4.0)\n",
      "Requirement already satisfied: numpy>=1.19.0 in /Users/anna/anaconda3/envs/StyleTokenizer/lib/python3.11/site-packages (from spacy<3.8.0,>=3.7.2->en-core-web-sm==3.7.1) (1.26.4)\n",
      "Requirement already satisfied: language-data>=1.2 in /Users/anna/anaconda3/envs/StyleTokenizer/lib/python3.11/site-packages (from langcodes<4.0.0,>=3.2.0->spacy<3.8.0,>=3.7.2->en-core-web-sm==3.7.1) (1.2.0)\n",
      "Requirement already satisfied: annotated-types>=0.4.0 in /Users/anna/anaconda3/envs/StyleTokenizer/lib/python3.11/site-packages (from pydantic!=1.8,!=1.8.1,<3.0.0,>=1.7.4->spacy<3.8.0,>=3.7.2->en-core-web-sm==3.7.1) (0.6.0)\n",
      "Requirement already satisfied: pydantic-core==2.18.2 in /Users/anna/anaconda3/envs/StyleTokenizer/lib/python3.11/site-packages (from pydantic!=1.8,!=1.8.1,<3.0.0,>=1.7.4->spacy<3.8.0,>=3.7.2->en-core-web-sm==3.7.1) (2.18.2)\n",
      "Requirement already satisfied: typing-extensions>=4.6.1 in /Users/anna/anaconda3/envs/StyleTokenizer/lib/python3.11/site-packages (from pydantic!=1.8,!=1.8.1,<3.0.0,>=1.7.4->spacy<3.8.0,>=3.7.2->en-core-web-sm==3.7.1) (4.11.0)\n",
      "Requirement already satisfied: charset-normalizer<4,>=2 in /Users/anna/anaconda3/envs/StyleTokenizer/lib/python3.11/site-packages (from requests<3.0.0,>=2.13.0->spacy<3.8.0,>=3.7.2->en-core-web-sm==3.7.1) (2.0.4)\n",
      "Requirement already satisfied: idna<4,>=2.5 in /Users/anna/anaconda3/envs/StyleTokenizer/lib/python3.11/site-packages (from requests<3.0.0,>=2.13.0->spacy<3.8.0,>=3.7.2->en-core-web-sm==3.7.1) (3.7)\n",
      "Requirement already satisfied: urllib3<3,>=1.21.1 in /Users/anna/anaconda3/envs/StyleTokenizer/lib/python3.11/site-packages (from requests<3.0.0,>=2.13.0->spacy<3.8.0,>=3.7.2->en-core-web-sm==3.7.1) (2.2.1)\n",
      "Requirement already satisfied: certifi>=2017.4.17 in /Users/anna/anaconda3/envs/StyleTokenizer/lib/python3.11/site-packages (from requests<3.0.0,>=2.13.0->spacy<3.8.0,>=3.7.2->en-core-web-sm==3.7.1) (2024.7.4)\n",
      "Requirement already satisfied: blis<0.8.0,>=0.7.8 in /Users/anna/anaconda3/envs/StyleTokenizer/lib/python3.11/site-packages (from thinc<8.3.0,>=8.2.2->spacy<3.8.0,>=3.7.2->en-core-web-sm==3.7.1) (0.7.11)\n",
      "Requirement already satisfied: confection<1.0.0,>=0.0.1 in /Users/anna/anaconda3/envs/StyleTokenizer/lib/python3.11/site-packages (from thinc<8.3.0,>=8.2.2->spacy<3.8.0,>=3.7.2->en-core-web-sm==3.7.1) (0.1.4)\n",
      "Requirement already satisfied: click<9.0.0,>=7.1.1 in /Users/anna/anaconda3/envs/StyleTokenizer/lib/python3.11/site-packages (from typer<0.10.0,>=0.3.0->spacy<3.8.0,>=3.7.2->en-core-web-sm==3.7.1) (7.1.1)\n",
      "Requirement already satisfied: cloudpathlib<0.17.0,>=0.7.0 in /Users/anna/anaconda3/envs/StyleTokenizer/lib/python3.11/site-packages (from weasel<0.4.0,>=0.1.0->spacy<3.8.0,>=3.7.2->en-core-web-sm==3.7.1) (0.16.0)\n",
      "Requirement already satisfied: MarkupSafe>=2.0 in /Users/anna/anaconda3/envs/StyleTokenizer/lib/python3.11/site-packages (from jinja2->spacy<3.8.0,>=3.7.2->en-core-web-sm==3.7.1) (2.1.5)\n",
      "Requirement already satisfied: marisa-trie>=0.7.7 in /Users/anna/anaconda3/envs/StyleTokenizer/lib/python3.11/site-packages (from language-data>=1.2->langcodes<4.0.0,>=3.2.0->spacy<3.8.0,>=3.7.2->en-core-web-sm==3.7.1) (1.1.0)\n",
      "\u001B[38;5;2m✔ Download and installation successful\u001B[0m\n",
      "You can now load the package via spacy.load('en_core_web_sm')\n",
      "\u001B[38;5;3m⚠ Restart to reload dependencies\u001B[0m\n",
      "If you are in a Jupyter or Colab notebook, you may need to restart Python in\n",
      "order to load all the package's dependencies. You can do this by selecting the\n",
      "'Restart kernel' or 'Restart runtime' option.\n"
     ]
    },
    {
     "name": "stderr",
     "output_type": "stream",
     "text": [
      "[nltk_data] Downloading package cmudict to /Users/anna/nltk_data...\n",
      "[nltk_data]   Package cmudict is already up-to-date!\n",
      "[nltk_data] Downloading package wordnet to /Users/anna/nltk_data...\n",
      "[nltk_data]   Package wordnet is already up-to-date!\n"
     ]
    }
   ],
   "source": [
    "from multivalue import Dialects\n",
    "DIALECTS = [Dialects.ColloquialSingaporeDialect(), Dialects.AfricanAmericanVernacular(), Dialects.ChicanoDialect(), Dialects.IndianDialect(), Dialects.AppalachianDialect(), \n",
    "            Dialects.NorthEnglandDialect(), Dialects.MalaysianDialect(), Dialects.AustralianDialect(), Dialects.HongKongDialect(), Dialects.NewZealandDialect(),\n",
    "            Dialects.NigerianDialect(), Dialects.PakistaniDialect(), Dialects.PhilippineDialect(), Dialects.SoutheastAmericanEnclaveDialect()]"
   ],
   "metadata": {
    "collapsed": false,
    "ExecuteTime": {
     "end_time": "2024-12-12T15:39:32.908508Z",
     "start_time": "2024-12-12T15:38:37.334438Z"
    }
   },
   "id": "c3018574e04c99ac"
  },
  {
   "cell_type": "code",
   "execution_count": 4,
   "outputs": [],
   "source": [
    "import random\n",
    "\n",
    "def flip_quotes(t):\n",
    "    if encased_with_apostrophes(t):\n",
    "        return t[1:-1], True\n",
    "    else:\n",
    "        return '\"' + t + '\"', True\n",
    "    \n",
    "def flip_capitalization(t):\n",
    "    stripped = t.lstrip()\n",
    "    if not stripped:\n",
    "        return t, False\n",
    "    start_idx = len(t) - len(stripped)\n",
    "    first_char = stripped[0]\n",
    "    if first_char.isalpha():\n",
    "        flipped = first_char.lower() if first_char.isupper() else first_char.upper()\n",
    "        new_t = t[:start_idx] + flipped + stripped[1:]\n",
    "        changed = (new_t != t)\n",
    "        return new_t, changed\n",
    "    else:\n",
    "        return t, False\n",
    "\n",
    "def toggle_end_punctuation(t):\n",
    "    if ends_with_punctuation(t):\n",
    "        original = t\n",
    "        t = t.rstrip()\n",
    "        while t and t[-1] in PUNCT:\n",
    "            t = t[:-1]\n",
    "        changed = (t != original)\n",
    "        return t, changed\n",
    "    else:\n",
    "        return t + \".\", True\n",
    "\n",
    "# def toggle_punctuation_presence(t):\n",
    "#     if contains_punctuation(t):\n",
    "#         original = t\n",
    "#         t = \"\".join(ch for ch in t if ch not in PUNCT).rstrip()\n",
    "#         changed = (t != original)\n",
    "#         return t, changed\n",
    "#     else:\n",
    "#         return t, False\n",
    "\n",
    "def toggle_whitespace_encoding(t):\n",
    "    # Assume it only includes \" \" whitespaces. Change those to non-breaking spaces (\\u00A0)\n",
    "    original = t\n",
    "    if \" \" in t:\n",
    "        # Replace all spaces with non-breaking spaces\n",
    "        t = t.replace(\" \", \"\\u00A0\")\n",
    "        changed = (t != original)\n",
    "        return t, changed\n",
    "    else:\n",
    "        # No spaces to change\n",
    "        return t, False\n",
    "\n",
    "def toggle_apostrophe_encoding(t):\n",
    "    original = t\n",
    "    apos = apostrophe_encoding(t)\n",
    "    if apos:\n",
    "        if \"'\" in apos and \"’\" in apos:\n",
    "            t = t.replace(\"'\", \"\\uFFFF\")\n",
    "            t = t.replace(\"’\", \"'\")\n",
    "            t = t.replace(\"\\uFFFF\", \"’\")\n",
    "        elif \"'\" in apos:\n",
    "            t = t.replace(\"'\", \"’\")\n",
    "        elif \"’\" in apos:\n",
    "            t = t.replace(\"’\", \"'\")\n",
    "        changed = (t != original)\n",
    "        return t, changed\n",
    "    else:\n",
    "        return t, False\n",
    "\n",
    "def toggle_number_format(t):\n",
    "    patterns = extract_number_patterns(t)\n",
    "    changed = False\n",
    "    if patterns:\n",
    "        for p in patterns:\n",
    "            if ',' in p:\n",
    "                new_p = re.sub(r\",\", \"\", p)\n",
    "                if new_p != p:\n",
    "                    idx = t.find(p)\n",
    "                    if idx != -1:\n",
    "                        t = t[:idx] + new_p + t[idx+len(p):]\n",
    "                        changed = True\n",
    "                        break\n",
    "    return t, changed\n",
    "\n",
    "def dialect_transform(text2):\n",
    "    # randomly select a dialect from DIALECTS\n",
    "    changed = False\n",
    "    attempts = 5  # limit attempts to avoid infinite loops\n",
    "    # transform\n",
    "    while not changed and attempts > 0:\n",
    "        dialect = random.choice(DIALECTS)\n",
    "        transformed_text = text2\n",
    "        try:\n",
    "            transformed_text = dialect.transform(text2)\n",
    "        except:  # if the dialect transformation fails\n",
    "            print(f\"Failed to transform with {text2}. Retrying {attempts} more times...\")\n",
    "        if transformed_text != text2:\n",
    "            return transformed_text, True\n",
    "        attempts -= 1\n",
    "    return text2, False\n",
    "        \n",
    "\n",
    "def maybe_add_contraction(text1, text2):\n",
    "    # Only add a contraction if:\n",
    "    # - text1 can form contractions\n",
    "    # - text1 has no contractions\n",
    "    # - text2 has no contractions\n",
    "    original = text2\n",
    "    if not can_form_contractions(text1):\n",
    "        return text2, False\n",
    "    if contains_contractions(text1) or contains_contractions(text2):\n",
    "        return text2, False\n",
    "\n",
    "    expansions = list(common_contractions.keys())\n",
    "    random.shuffle(expansions)\n",
    "\n",
    "    for expansion in expansions:\n",
    "        exp_words = expansion.split()\n",
    "        pattern = r'\\b' + r'\\s+'.join(exp_words) + r'\\b'\n",
    "        match = re.search(pattern, text2, flags=re.IGNORECASE)\n",
    "        if match:\n",
    "            contraction = common_contractions[expansion]\n",
    "            matched_text = match.group(0)\n",
    "            if matched_text[0].isupper():\n",
    "                contraction = contraction[0].upper() + contraction[1:]\n",
    "            text2 = text2[:match.start()] + contraction + text2[match.end():]\n",
    "            return text2, (text2 != original)\n",
    "\n",
    "    return text2, False\n",
    "\n",
    "\n",
    "\n",
    "def make_texts_distinct(text1, text2):\n",
    "    \"\"\"\n",
    "        Assumes to be called on SNLI text pairs\n",
    "    :param text1: \n",
    "    :param text2: \n",
    "    :return: \n",
    "    \"\"\"\n",
    "    transformations = [\n",
    "        flip_quotes,\n",
    "        flip_capitalization,\n",
    "        toggle_end_punctuation,\n",
    "        toggle_whitespace_encoding,\n",
    "        toggle_apostrophe_encoding,\n",
    "        toggle_number_format,\n",
    "        lambda t: maybe_add_contraction(text1, t),\n",
    "    ]\n",
    "    \n",
    "    # flip coin to to dialect_transform as this is a transformation that needs to run before all other transformations\n",
    "    text_modified = text2\n",
    "    if random.random() < 0.5:\n",
    "        text_modified, changed = dialect_transform(text2)\n",
    "\n",
    "    attempts = 20  # limit attempts to avoid infinite loops\n",
    "    while attempts > 0:\n",
    "        # Attempt two further random transformation\n",
    "        three_trans = random.sample(transformations, 3)\n",
    "        for transform in three_trans:\n",
    "            new_text, changed = transform(text_modified)\n",
    "            if changed:\n",
    "                text_modified = new_text\n",
    "        attempts -= 1\n",
    "        if text_modified != text2:\n",
    "            return text_modified\n",
    "\n",
    "    # If we exit the loop, we failed to reduce similarity\n",
    "    return text_modified\n",
    "\n",
    "\n",
    "    "
   ],
   "metadata": {
    "collapsed": false,
    "ExecuteTime": {
     "end_time": "2024-12-12T15:39:32.924498Z",
     "start_time": "2024-12-12T15:39:32.914550Z"
    }
   },
   "id": "15964367d2573682"
  },
  {
   "cell_type": "code",
   "execution_count": 27,
   "outputs": [
    {
     "name": "stdout",
     "output_type": "stream",
     "text": [
      "('I have talked with them yesterday.', True)\n"
     ]
    }
   ],
   "source": [
    "text_a = \"I talked with them yesterday.\"\n",
    "text_b = \"Hello,\\u00a0world!\"\n",
    "print(dialect_transform(text_a))\n"
   ],
   "metadata": {
    "collapsed": false,
    "ExecuteTime": {
     "end_time": "2024-12-12T09:37:35.031724Z",
     "start_time": "2024-12-12T09:37:28.386386Z"
    }
   },
   "id": "5de578f272ccd4c5"
  },
  {
   "cell_type": "code",
   "execution_count": 22,
   "outputs": [
    {
     "name": "stdout",
     "output_type": "stream",
     "text": [
      "Similarity score: 0.875\n"
     ]
    }
   ],
   "source": [
    "text_a = \"Hello, world!\"\n",
    "text_b = \"Hello,\\u00a0world!\"\n",
    "score = compare_texts(text_a, text_b)\n",
    "print(\"Similarity score:\", score)"
   ],
   "metadata": {
    "collapsed": false,
    "ExecuteTime": {
     "end_time": "2024-12-12T09:37:11.015339Z",
     "start_time": "2024-12-12T09:37:11.011Z"
    }
   },
   "id": "7ed8d149c3e0256"
  },
  {
   "cell_type": "code",
   "execution_count": 7,
   "outputs": [
    {
     "name": "stdout",
     "output_type": "stream",
     "text": [
      "Similarity score: 0.25\n"
     ]
    }
   ],
   "source": [
    "text_a = \"Hello, world!\\nThe price is 1,000 dollars. It’s great.\"\n",
    "text_b = \"hello world. The price is 1000 dollars It's great\"\n",
    "score = compare_texts(text_a, text_b)\n",
    "print(\"Similarity score:\", score)"
   ],
   "metadata": {
    "collapsed": false,
    "ExecuteTime": {
     "end_time": "2024-12-11T10:51:08.938841Z",
     "start_time": "2024-12-11T10:51:08.913535Z"
    }
   },
   "id": "53603be18299f695"
  },
  {
   "cell_type": "code",
   "execution_count": 8,
   "outputs": [
    {
     "name": "stdout",
     "output_type": "stream",
     "text": [
      "Similarity score: 0.75\n",
      "Synthesized text: Men are working on John Deere equipment.\n",
      "Similarity score: 0.875\n"
     ]
    }
   ],
   "source": [
    "text_a = \"The two farmers are working on a piece of John Deere equipment.\"\n",
    "text_b = \"Men are working on John Deere equipment\"\n",
    "score = compare_texts(text_a, text_b)\n",
    "print(\"Similarity score:\", score)\n",
    "text_b_synth = make_texts_similar(text_a, text_b)[1]\n",
    "print(\"Synthesized text:\", text_b_synth)\n",
    "score = compare_texts(text_a, text_b_synth)\n",
    "print(\"Similarity score:\", score)"
   ],
   "metadata": {
    "collapsed": false,
    "ExecuteTime": {
     "end_time": "2024-12-11T10:51:08.938980Z",
     "start_time": "2024-12-11T10:51:08.915891Z"
    }
   },
   "id": "60acb039abe67d71"
  },
  {
   "cell_type": "code",
   "execution_count": 9,
   "outputs": [
    {
     "name": "stdout",
     "output_type": "stream",
     "text": [
      "Similarity score: 1.0\n",
      "Synthesized text: there is a party\n",
      "Similarity score: 0.875\n"
     ]
    }
   ],
   "source": [
    "text_a = \"There is a party\"\n",
    "text_b = \"There is a party\"\n",
    "score = compare_texts(text_a, text_b)\n",
    "print(\"Similarity score:\", score)\n",
    "text_b_synth = make_texts_distinct(text_a, text_b)\n",
    "print(\"Synthesized text:\", text_b_synth)\n",
    "score = compare_texts(text_a, text_b_synth)\n",
    "print(\"Similarity score:\", score)"
   ],
   "metadata": {
    "collapsed": false,
    "ExecuteTime": {
     "end_time": "2024-12-11T10:51:08.939140Z",
     "start_time": "2024-12-11T10:51:08.918056Z"
    }
   },
   "id": "95956ea770054e1"
  },
  {
   "cell_type": "markdown",
   "source": [
    "## Data Augmentation for SNLI"
   ],
   "metadata": {
    "collapsed": false
   },
   "id": "d54e1e41b64ba7d"
  },
  {
   "cell_type": "code",
   "execution_count": null,
   "outputs": [
    {
     "name": "stderr",
     "output_type": "stream",
     "text": [
      "Processing splits:   0%|          | 0/3 [00:00<?, ?it/s]"
     ]
    },
    {
     "name": "stdout",
     "output_type": "stream",
     "text": [
      "Processing test\n"
     ]
    },
    {
     "name": "stderr",
     "output_type": "stream",
     "text": [
      "\n",
      "Processing examples in test:   0%|          | 0/10000 [00:00<?, ?it/s]\u001B[A\n",
      "Processing examples in test:   0%|          | 4/10000 [00:02<1:23:36,  1.99it/s]\u001B[A\n",
      "Processing examples in test:   0%|          | 9/10000 [00:02<50:51,  3.27it/s]  \u001B[A\n",
      "Processing examples in test:   0%|          | 11/10000 [00:04<1:00:48,  2.74it/s]\u001B[A\n",
      "Processing examples in test:   0%|          | 12/10000 [00:05<1:41:52,  1.63it/s]\u001B[A\n",
      "Processing examples in test:   0%|          | 15/10000 [00:07<1:24:38,  1.97it/s]\u001B[A\n",
      "Processing examples in test:   0%|          | 16/10000 [00:08<1:58:24,  1.41it/s]\u001B[A\n",
      "Processing examples in test:   0%|          | 17/10000 [00:10<2:32:22,  1.09it/s]\u001B[A\n",
      "Processing examples in test:   0%|          | 18/10000 [00:12<3:01:24,  1.09s/it]\u001B[A\n",
      "Processing examples in test:   0%|          | 19/10000 [00:14<3:28:27,  1.25s/it]\u001B[A\n",
      "Processing examples in test:   0%|          | 20/10000 [00:14<3:07:43,  1.13s/it]\u001B[A\n",
      "Processing examples in test:   0%|          | 22/10000 [00:15<2:18:43,  1.20it/s]\u001B[A\n",
      "Processing examples in test:   0%|          | 23/10000 [00:17<2:53:47,  1.05s/it]\u001B[A\n",
      "Processing examples in test:   0%|          | 25/10000 [00:18<2:07:51,  1.30it/s]\u001B[A\n",
      "Processing examples in test:   0%|          | 26/10000 [00:19<2:29:49,  1.11it/s]\u001B[A\n",
      "Processing examples in test:   0%|          | 27/10000 [00:20<2:48:48,  1.02s/it]\u001B[A\n",
      "Processing examples in test:   0%|          | 29/10000 [00:22<2:38:49,  1.05it/s]\u001B[A\n",
      "Processing examples in test:   0%|          | 32/10000 [00:24<2:00:28,  1.38it/s]\u001B[A\n",
      "Processing examples in test:   0%|          | 33/10000 [00:25<2:31:38,  1.10it/s]\u001B[A\n",
      "Processing examples in test:   0%|          | 34/10000 [00:27<2:45:19,  1.00it/s]\u001B[A\n",
      "Processing examples in test:   0%|          | 35/10000 [00:30<4:28:18,  1.62s/it]\u001B[A\n",
      "Processing examples in test:   0%|          | 37/10000 [00:31<3:04:29,  1.11s/it]\u001B[A\n",
      "Processing examples in test:   0%|          | 39/10000 [00:33<2:44:10,  1.01it/s]\u001B[A\n",
      "Processing examples in test:   0%|          | 41/10000 [00:34<2:34:09,  1.08it/s]\u001B[A\n",
      "Processing examples in test:   0%|          | 42/10000 [00:36<3:16:10,  1.18s/it]\u001B[A\n",
      "Processing examples in test:   0%|          | 44/10000 [00:37<2:28:44,  1.12it/s]\u001B[A\n",
      "Processing examples in test:   0%|          | 45/10000 [00:39<3:02:59,  1.10s/it]\u001B[A\n",
      "Processing examples in test:   0%|          | 48/10000 [00:41<2:29:38,  1.11it/s]\u001B[A\n",
      "Processing examples in test:   0%|          | 49/10000 [00:43<3:04:02,  1.11s/it]\u001B[A\n",
      "Processing examples in test:   1%|          | 53/10000 [00:45<2:13:53,  1.24it/s]\u001B[A\n",
      "Processing examples in test:   1%|          | 54/10000 [00:47<2:47:47,  1.01s/it]\u001B[A\n",
      "Processing examples in test:   1%|          | 56/10000 [00:49<2:51:45,  1.04s/it]\u001B[A\n",
      "Processing examples in test:   1%|          | 60/10000 [00:51<1:59:41,  1.38it/s]\u001B[A"
     ]
    },
    {
     "name": "stdout",
     "output_type": "stream",
     "text": [
      "Failed to transform with A snow field with a snowboarder on it. Retrying 5 more times...\n",
      "Failed to transform with A snow field with a snowboarder on it. Retrying 4 more times...\n",
      "Failed to transform with A snow field with a snowboarder on it. Retrying 3 more times...\n",
      "Failed to transform with A snow field with a snowboarder on it. Retrying 2 more times...\n"
     ]
    },
    {
     "name": "stderr",
     "output_type": "stream",
     "text": [
      "\n",
      "Processing examples in test:   1%|          | 67/10000 [00:55<1:52:24,  1.47it/s]\u001B[A"
     ]
    },
    {
     "name": "stdout",
     "output_type": "stream",
     "text": [
      "Failed to transform with A snow field with a snowboarder on it. Retrying 1 more times...\n"
     ]
    },
    {
     "name": "stderr",
     "output_type": "stream",
     "text": [
      "\n",
      "Processing examples in test:   1%|          | 68/10000 [00:57<2:14:28,  1.23it/s]\u001B[A\n",
      "Processing examples in test:   1%|          | 69/10000 [00:59<2:34:24,  1.07it/s]\u001B[A\n",
      "Processing examples in test:   1%|          | 76/10000 [01:01<1:31:54,  1.80it/s]\u001B[A\n",
      "Processing examples in test:   1%|          | 78/10000 [01:02<1:35:30,  1.73it/s]\u001B[A\n",
      "Processing examples in test:   1%|          | 79/10000 [01:04<1:51:09,  1.49it/s]\u001B[A\n",
      "Processing examples in test:   1%|          | 80/10000 [01:06<2:17:13,  1.20it/s]\u001B[A\n",
      "Processing examples in test:   1%|          | 81/10000 [01:07<2:31:11,  1.09it/s]\u001B[A\n",
      "Processing examples in test:   1%|          | 83/10000 [01:09<2:26:35,  1.13it/s]\u001B[A\n",
      "Processing examples in test:   1%|          | 90/10000 [01:10<1:20:37,  2.05it/s]\u001B[A\n",
      "Processing examples in test:   1%|          | 91/10000 [01:11<1:26:58,  1.90it/s]\u001B[A\n",
      "Processing examples in test:   1%|          | 94/10000 [01:12<1:23:31,  1.98it/s]\u001B[A\n",
      "Processing examples in test:   1%|          | 95/10000 [01:13<1:27:19,  1.89it/s]\u001B[A\n",
      "Processing examples in test:   1%|          | 96/10000 [01:14<1:33:11,  1.77it/s]\u001B[A\n",
      "Processing examples in test:   1%|          | 97/10000 [01:15<2:00:53,  1.37it/s]\u001B[A\n",
      "Processing examples in test:   1%|          | 99/10000 [01:17<2:07:21,  1.30it/s]\u001B[A\n",
      "Processing examples in test:   1%|          | 102/10000 [01:19<1:54:52,  1.44it/s]\u001B[A\n",
      "Processing examples in test:   1%|          | 105/10000 [01:20<1:45:54,  1.56it/s]\u001B[A\n",
      "Processing examples in test:   1%|          | 106/10000 [01:22<2:18:09,  1.19it/s]\u001B[A\n",
      "Processing examples in test:   1%|          | 109/10000 [01:23<1:47:18,  1.54it/s]\u001B[A\n",
      "Processing examples in test:   1%|          | 110/10000 [01:25<2:20:19,  1.17it/s]\u001B[A\n",
      "Processing examples in test:   1%|          | 112/10000 [01:26<1:55:11,  1.43it/s]\u001B[A\n",
      "Processing examples in test:   1%|          | 114/10000 [01:27<1:46:00,  1.55it/s]\u001B[A\n",
      "Processing examples in test:   1%|          | 116/10000 [01:28<1:41:20,  1.63it/s]\u001B[A\n",
      "Processing examples in test:   1%|          | 117/10000 [01:29<1:49:58,  1.50it/s]\u001B[A\n",
      "Processing examples in test:   1%|          | 121/10000 [01:31<1:35:08,  1.73it/s]\u001B[A"
     ]
    },
    {
     "name": "stdout",
     "output_type": "stream",
     "text": [
      "Failed to transform Two teenage girls conversing next to lockers. or Girls talking about their problems next to lockers.. Retrying 5 more times ...\n",
      "Failed to transform Two teenage girls conversing next to lockers. or Girls talking about their problems next to lockers.. Retrying 4 more times ...\n",
      "Failed to transform Two teenage girls a-conversing next to lockers. or Girls talking about their problems next to lockers.. Retrying 3 more times ...\n",
      "Failed to transform Two teenage girl a-a conversing next to lockers. or Girls talking about their problems next to lockers.. Retrying 2 more times ...\n"
     ]
    },
    {
     "name": "stderr",
     "output_type": "stream",
     "text": [
      "\n",
      "Processing examples in test:   1%|          | 123/10000 [01:40<4:24:20,  1.61s/it]\u001B[A"
     ]
    },
    {
     "name": "stdout",
     "output_type": "stream",
     "text": [
      "Failed to transform Two teenage girl a-a conversing next to lockers. or Girls talking about their problems next to lockers.. Retrying 1 more times ...\n"
     ]
    },
    {
     "name": "stderr",
     "output_type": "stream",
     "text": [
      "\n",
      "Processing examples in test:   1%|          | 124/10000 [01:42<4:34:03,  1.66s/it]\u001B[A\n",
      "Processing examples in test:   1%|▏         | 128/10000 [01:44<3:00:22,  1.10s/it]\u001B[A\n",
      "Processing examples in test:   1%|▏         | 134/10000 [01:45<1:39:49,  1.65it/s]\u001B[A\n",
      "Processing examples in test:   1%|▏         | 140/10000 [01:47<1:20:32,  2.04it/s]\u001B[A\n",
      "Processing examples in test:   1%|▏         | 141/10000 [01:48<1:40:08,  1.64it/s]\u001B[A\n",
      "Processing examples in test:   1%|▏         | 144/10000 [01:50<1:29:22,  1.84it/s]\u001B[A\n",
      "Processing examples in test:   1%|▏         | 148/10000 [01:51<1:19:52,  2.06it/s]\u001B[A\n",
      "Processing examples in test:   2%|▏         | 154/10000 [01:53<1:08:56,  2.38it/s]\u001B[A\n",
      "Processing examples in test:   2%|▏         | 155/10000 [01:54<1:23:45,  1.96it/s]\u001B[A\n",
      "Processing examples in test:   2%|▏         | 159/10000 [01:55<1:06:32,  2.47it/s]\u001B[A\n",
      "Processing examples in test:   2%|▏         | 160/10000 [01:57<1:21:10,  2.02it/s]\u001B[A\n",
      "Processing examples in test:   2%|▏         | 161/10000 [01:58<1:45:12,  1.56it/s]\u001B[A\n",
      "Processing examples in test:   2%|▏         | 162/10000 [02:00<2:19:54,  1.17it/s]\u001B[A\n",
      "Processing examples in test:   2%|▏         | 163/10000 [02:02<2:49:54,  1.04s/it]\u001B[A\n",
      "Processing examples in test:   2%|▏         | 164/10000 [02:03<2:44:00,  1.00s/it]\u001B[A\n",
      "Processing examples in test:   2%|▏         | 165/10000 [02:04<3:01:41,  1.11s/it]\u001B[A\n",
      "Processing examples in test:   2%|▏         | 168/10000 [02:06<2:09:48,  1.26it/s]\u001B[A\n",
      "Processing examples in test:   2%|▏         | 171/10000 [02:07<1:39:56,  1.64it/s]\u001B[A\n",
      "Processing examples in test:   2%|▏         | 172/10000 [02:08<2:00:59,  1.35it/s]\u001B[A\n",
      "Processing examples in test:   2%|▏         | 173/10000 [02:09<2:00:17,  1.36it/s]\u001B[A\n",
      "Processing examples in test:   2%|▏         | 176/10000 [02:10<1:36:00,  1.71it/s]\u001B[A\n",
      "Processing examples in test:   2%|▏         | 180/10000 [02:12<1:20:57,  2.02it/s]\u001B[A\n",
      "Processing examples in test:   2%|▏         | 181/10000 [02:12<1:28:44,  1.84it/s]\u001B[A\n",
      "Processing examples in test:   2%|▏         | 183/10000 [02:13<1:28:53,  1.84it/s]\u001B[A\n",
      "Processing examples in test:   2%|▏         | 184/10000 [02:14<1:35:00,  1.72it/s]\u001B[A\n",
      "Processing examples in test:   2%|▏         | 186/10000 [02:17<2:08:49,  1.27it/s]\u001B[A\n",
      "Processing examples in test:   2%|▏         | 187/10000 [02:18<2:29:35,  1.09it/s]\u001B[A\n",
      "Processing examples in test:   2%|▏         | 188/10000 [02:19<2:42:42,  1.01it/s]\u001B[A\n",
      "Processing examples in test:   2%|▏         | 189/10000 [02:21<2:49:45,  1.04s/it]\u001B[A\n",
      "Processing examples in test:   2%|▏         | 192/10000 [02:23<2:18:23,  1.18it/s]\u001B[A\n",
      "Processing examples in test:   2%|▏         | 193/10000 [02:24<2:25:56,  1.12it/s]\u001B[A\n",
      "Processing examples in test:   2%|▏         | 195/10000 [02:25<2:25:47,  1.12it/s]\u001B[A\n",
      "Processing examples in test:   2%|▏         | 198/10000 [02:26<1:40:56,  1.62it/s]\u001B[A\n",
      "Processing examples in test:   2%|▏         | 199/10000 [02:28<2:05:50,  1.30it/s]\u001B[A\n",
      "Processing examples in test:   2%|▏         | 201/10000 [02:29<1:55:57,  1.41it/s]\u001B[A\n",
      "Processing examples in test:   2%|▏         | 203/10000 [02:30<1:53:47,  1.43it/s]\u001B[A\n",
      "Processing examples in test:   2%|▏         | 207/10000 [02:32<1:25:52,  1.90it/s]\u001B[A\n",
      "Processing examples in test:   2%|▏         | 208/10000 [02:32<1:32:18,  1.77it/s]\u001B[A\n",
      "Processing examples in test:   2%|▏         | 209/10000 [02:34<1:53:40,  1.44it/s]\u001B[A\n",
      "Processing examples in test:   2%|▏         | 210/10000 [02:35<2:18:54,  1.17it/s]\u001B[A\n",
      "Processing examples in test:   2%|▏         | 211/10000 [02:37<3:03:20,  1.12s/it]\u001B[A\n",
      "Processing examples in test:   2%|▏         | 213/10000 [02:39<2:48:35,  1.03s/it]\u001B[A\n",
      "Processing examples in test:   2%|▏         | 215/10000 [02:40<2:15:18,  1.21it/s]\u001B[A\n",
      "Processing examples in test:   2%|▏         | 216/10000 [02:41<2:25:47,  1.12it/s]\u001B[A\n",
      "Processing examples in test:   2%|▏         | 219/10000 [02:43<2:17:33,  1.19it/s]\u001B[A\n",
      "Processing examples in test:   2%|▏         | 220/10000 [02:44<2:16:29,  1.19it/s]\u001B[A\n",
      "Processing examples in test:   2%|▏         | 222/10000 [02:46<2:06:19,  1.29it/s]\u001B[A\n",
      "Processing examples in test:   2%|▏         | 223/10000 [02:48<2:53:38,  1.07s/it]\u001B[A\n",
      "Processing examples in test:   2%|▏         | 225/10000 [02:49<2:31:27,  1.08it/s]\u001B[A\n",
      "Processing examples in test:   2%|▏         | 227/10000 [02:51<2:41:59,  1.01it/s]\u001B[A\n",
      "Processing examples in test:   2%|▏         | 229/10000 [02:53<2:20:19,  1.16it/s]\u001B[A\n",
      "Processing examples in test:   2%|▏         | 232/10000 [02:54<1:50:58,  1.47it/s]\u001B[A\n",
      "Processing examples in test:   2%|▏         | 233/10000 [02:55<2:06:18,  1.29it/s]\u001B[A\n",
      "Processing examples in test:   2%|▏         | 234/10000 [02:57<2:41:04,  1.01it/s]\u001B[A\n",
      "Processing examples in test:   2%|▏         | 237/10000 [02:59<2:09:14,  1.26it/s]\u001B[A\n",
      "Processing examples in test:   2%|▏         | 238/10000 [03:03<3:38:47,  1.34s/it]\u001B[A\n",
      "Processing examples in test:   2%|▏         | 239/10000 [03:05<4:13:38,  1.56s/it]\u001B[A\n",
      "Processing examples in test:   2%|▏         | 242/10000 [03:07<2:54:29,  1.07s/it]\u001B[A\n",
      "Processing examples in test:   2%|▏         | 245/10000 [03:09<2:31:06,  1.08it/s]\u001B[A\n",
      "Processing examples in test:   2%|▏         | 247/10000 [03:10<2:16:35,  1.19it/s]\u001B[A\n",
      "Processing examples in test:   2%|▏         | 248/10000 [03:12<2:46:54,  1.03s/it]\u001B[A\n",
      "Processing examples in test:   2%|▎         | 250/10000 [03:13<2:21:59,  1.14it/s]\u001B[A\n",
      "Processing examples in test:   3%|▎         | 252/10000 [03:15<2:16:46,  1.19it/s]\u001B[A\n",
      "Processing examples in test:   3%|▎         | 255/10000 [03:16<1:45:43,  1.54it/s]\u001B[A\n",
      "Processing examples in test:   3%|▎         | 256/10000 [03:16<1:47:24,  1.51it/s]\u001B[A\n",
      "Processing examples in test:   3%|▎         | 260/10000 [03:18<1:22:58,  1.96it/s]\u001B[A\n",
      "Processing examples in test:   3%|▎         | 262/10000 [03:19<1:18:48,  2.06it/s]\u001B[A\n",
      "Processing examples in test:   3%|▎         | 264/10000 [03:20<1:26:51,  1.87it/s]\u001B[A\n",
      "Processing examples in test:   3%|▎         | 266/10000 [03:21<1:18:34,  2.06it/s]\u001B[A\n",
      "Processing examples in test:   3%|▎         | 267/10000 [03:22<1:35:01,  1.71it/s]\u001B[A\n",
      "Processing examples in test:   3%|▎         | 270/10000 [03:23<1:19:47,  2.03it/s]\u001B[A\n",
      "Processing examples in test:   3%|▎         | 271/10000 [03:25<1:59:25,  1.36it/s]\u001B[A\n",
      "Processing examples in test:   3%|▎         | 272/10000 [03:27<2:44:02,  1.01s/it]\u001B[A\n",
      "Processing examples in test:   3%|▎         | 275/10000 [03:29<2:09:06,  1.26it/s]\u001B[A\n",
      "Processing examples in test:   3%|▎         | 276/10000 [03:30<2:14:14,  1.21it/s]\u001B[A\n",
      "Processing examples in test:   3%|▎         | 277/10000 [03:32<2:51:59,  1.06s/it]\u001B[A\n",
      "Processing examples in test:   3%|▎         | 278/10000 [03:33<3:20:34,  1.24s/it]\u001B[A\n",
      "Processing examples in test:   3%|▎         | 280/10000 [03:34<2:25:01,  1.12it/s]\u001B[A\n",
      "Processing examples in test:   3%|▎         | 281/10000 [03:35<2:31:44,  1.07it/s]\u001B[A"
     ]
    },
    {
     "name": "stdout",
     "output_type": "stream",
     "text": [
      "Failed to transform with A young boy showing his new skateboard tricks to his friends.. Retrying 5 more times...\n",
      "Failed to transform with A young boy showing his new skateboard tricks to his friends.. Retrying 4 more times...\n",
      "Failed to transform with A young boy showing his new skateboard tricks to his friends.. Retrying 3 more times...\n",
      "Failed to transform with A young boy showing his new skateboard tricks to his friends.. Retrying 2 more times...\n"
     ]
    },
    {
     "name": "stderr",
     "output_type": "stream",
     "text": [
      "\n",
      "Processing examples in test:   3%|▎         | 282/10000 [03:40<4:54:23,  1.82s/it]\u001B[A"
     ]
    },
    {
     "name": "stdout",
     "output_type": "stream",
     "text": [
      "Failed to transform with A young boy showing his new skateboard tricks to his friends.. Retrying 1 more times...\n"
     ]
    },
    {
     "name": "stderr",
     "output_type": "stream",
     "text": [
      "\n",
      "Processing examples in test:   3%|▎         | 283/10000 [03:42<5:03:08,  1.87s/it]\u001B[A\n",
      "Processing examples in test:   3%|▎         | 284/10000 [03:43<4:33:50,  1.69s/it]\u001B[A\n",
      "Processing examples in test:   3%|▎         | 286/10000 [03:44<3:17:47,  1.22s/it]\u001B[A\n",
      "Processing examples in test:   3%|▎         | 288/10000 [03:45<2:23:03,  1.13it/s]\u001B[A\n",
      "Processing examples in test:   3%|▎         | 294/10000 [03:46<1:12:34,  2.23it/s]\u001B[A\n",
      "Processing examples in test:   3%|▎         | 295/10000 [03:47<1:24:53,  1.91it/s]\u001B[A\n",
      "Processing examples in test:   3%|▎         | 300/10000 [03:48<1:05:59,  2.45it/s]\u001B[A\n",
      "Processing examples in test:   3%|▎         | 305/10000 [03:50<57:56,  2.79it/s]  \u001B[A\n",
      "Processing examples in test:   3%|▎         | 306/10000 [03:51<1:07:54,  2.38it/s]\u001B[A\n",
      "Processing examples in test:   3%|▎         | 311/10000 [03:52<53:54,  3.00it/s]  \u001B[A\n",
      "Processing examples in test:   3%|▎         | 312/10000 [03:53<1:08:03,  2.37it/s]\u001B[A\n",
      "Processing examples in test:   3%|▎         | 315/10000 [03:55<1:10:41,  2.28it/s]\u001B[A\n",
      "Processing examples in test:   3%|▎         | 316/10000 [03:56<1:40:01,  1.61it/s]\u001B[A\n",
      "Processing examples in test:   3%|▎         | 317/10000 [03:58<2:11:22,  1.23it/s]\u001B[A\n",
      "Processing examples in test:   3%|▎         | 318/10000 [03:59<2:06:24,  1.28it/s]\u001B[A\n",
      "Processing examples in test:   3%|▎         | 320/10000 [04:00<1:53:45,  1.42it/s]\u001B[A\n",
      "Processing examples in test:   3%|▎         | 321/10000 [04:01<2:14:56,  1.20it/s]\u001B[A\n",
      "Processing examples in test:   3%|▎         | 324/10000 [04:03<1:47:21,  1.50it/s]\u001B[A\n",
      "Processing examples in test:   3%|▎         | 331/10000 [04:04<1:05:45,  2.45it/s]\u001B[A\n",
      "Processing examples in test:   3%|▎         | 333/10000 [04:05<1:09:34,  2.32it/s]\u001B[A"
     ]
    },
    {
     "name": "stdout",
     "output_type": "stream",
     "text": [
      "Failed to transform Island native fishermen reeling in their nets after a long day's work. or The men caught many fish.. Retrying 5 more times ...\n",
      "Failed to transform Island native fishermen reeling in their nets after a long day's work. or The men caught many fish.. Retrying 4 more times ...\n",
      "Failed to transform Island native fishermen reeling in their nets after a long day's work. or The men caught many fish.. Retrying 3 more times ...\n",
      "Failed to transform Island native fishermen reeling in their nets after a long day's work. or The men caught many fish.. Retrying 2 more times ...\n"
     ]
    },
    {
     "name": "stderr",
     "output_type": "stream",
     "text": [
      "\n",
      "Processing examples in test:   3%|▎         | 334/10000 [04:11<2:57:04,  1.10s/it]\u001B[A"
     ]
    },
    {
     "name": "stdout",
     "output_type": "stream",
     "text": [
      "Failed to transform Island native fishermen reeling in their nets after a long day's work. or The men caught many fish.. Retrying 1 more times ...\n"
     ]
    },
    {
     "name": "stderr",
     "output_type": "stream",
     "text": [
      "\n",
      "Processing examples in test:   3%|▎         | 336/10000 [04:13<2:49:20,  1.05s/it]\u001B[A\n",
      "Processing examples in test:   3%|▎         | 337/10000 [04:21<5:31:58,  2.06s/it]\u001B[A\n",
      "Processing examples in test:   3%|▎         | 341/10000 [04:22<3:31:22,  1.31s/it]\u001B[A\n",
      "Processing examples in test:   3%|▎         | 345/10000 [04:24<2:24:10,  1.12it/s]\u001B[A\n",
      "Processing examples in test:   3%|▎         | 346/10000 [04:26<2:51:03,  1.06s/it]\u001B[A\n",
      "Processing examples in test:   3%|▎         | 347/10000 [04:28<3:08:30,  1.17s/it]\u001B[A\n",
      "Processing examples in test:   3%|▎         | 349/10000 [04:29<2:37:52,  1.02it/s]\u001B[A\n",
      "Processing examples in test:   4%|▎         | 350/10000 [04:32<3:31:01,  1.31s/it]\u001B[A\n",
      "Processing examples in test:   4%|▎         | 351/10000 [04:32<3:12:19,  1.20s/it]\u001B[A\n",
      "Processing examples in test:   4%|▎         | 353/10000 [04:34<2:58:21,  1.11s/it]\u001B[A\n",
      "Processing examples in test:   4%|▎         | 354/10000 [04:36<3:11:14,  1.19s/it]\u001B[A\n",
      "Processing examples in test:   4%|▎         | 358/10000 [04:36<1:41:23,  1.58it/s]\u001B[A\n",
      "Processing examples in test:   4%|▎         | 359/10000 [04:38<1:58:40,  1.35it/s]\u001B[A\n",
      "Processing examples in test:   4%|▎         | 360/10000 [04:40<2:39:23,  1.01it/s]\u001B[A\n",
      "Processing examples in test:   4%|▎         | 362/10000 [04:40<2:04:54,  1.29it/s]\u001B[A\n",
      "Processing examples in test:   4%|▎         | 364/10000 [04:42<2:04:29,  1.29it/s]\u001B[A\n",
      "Processing examples in test:   4%|▎         | 365/10000 [04:43<2:12:38,  1.21it/s]\u001B[A\n",
      "Processing examples in test:   4%|▎         | 366/10000 [04:44<2:29:58,  1.07it/s]\u001B[A\n",
      "Processing examples in test:   4%|▎         | 367/10000 [04:48<4:02:07,  1.51s/it]\u001B[A\n",
      "Processing examples in test:   4%|▎         | 369/10000 [04:50<3:21:49,  1.26s/it]\u001B[A\n",
      "Processing examples in test:   4%|▎         | 370/10000 [04:51<3:25:31,  1.28s/it]\u001B[A\n",
      "Processing examples in test:   4%|▎         | 374/10000 [04:52<1:44:42,  1.53it/s]\u001B[A\n",
      "Processing examples in test:   4%|▍         | 375/10000 [04:53<1:55:12,  1.39it/s]\u001B[A\n",
      "Processing examples in test:   4%|▍         | 376/10000 [04:54<2:12:31,  1.21it/s]\u001B[A\n",
      "Processing examples in test:   4%|▍         | 378/10000 [04:55<2:03:46,  1.30it/s]\u001B[A\n",
      "Processing examples in test:   4%|▍         | 379/10000 [04:57<2:43:44,  1.02s/it]\u001B[A\n",
      "Processing examples in test:   4%|▍         | 381/10000 [04:59<2:27:12,  1.09it/s]\u001B[A\n",
      "Processing examples in test:   4%|▍         | 382/10000 [05:00<2:40:38,  1.00s/it]\u001B[A\n",
      "Processing examples in test:   4%|▍         | 385/10000 [05:01<1:51:35,  1.44it/s]\u001B[A\n",
      "Processing examples in test:   4%|▍         | 386/10000 [05:03<2:22:08,  1.13it/s]\u001B[A\n",
      "Processing examples in test:   4%|▍         | 387/10000 [05:05<2:51:36,  1.07s/it]\u001B[A\n",
      "Processing examples in test:   4%|▍         | 388/10000 [05:06<2:51:56,  1.07s/it]\u001B[A\n",
      "Processing examples in test:   4%|▍         | 391/10000 [05:07<2:04:49,  1.28it/s]\u001B[A\n",
      "Processing examples in test:   4%|▍         | 394/10000 [05:09<1:56:31,  1.37it/s]\u001B[A\n",
      "Processing examples in test:   4%|▍         | 395/10000 [05:10<2:10:08,  1.23it/s]\u001B[A\n",
      "Processing examples in test:   4%|▍         | 396/10000 [05:12<2:31:20,  1.06it/s]\u001B[A\n",
      "Processing examples in test:   4%|▍         | 400/10000 [05:12<1:25:32,  1.87it/s]\u001B[A\n",
      "Processing examples in test:   4%|▍         | 402/10000 [05:14<1:31:33,  1.75it/s]\u001B[A"
     ]
    },
    {
     "name": "stdout",
     "output_type": "stream",
     "text": [
      "Failed to transform Four men playing drums in very orange lighting while one of them is also drinking something out of a bottle. or The men are musicians.. Retrying 5 more times ...\n",
      "Failed to transform Four men playing drums in very orange lighting while one of them is also drinking something out of a bottle. or The men are musicians.. Retrying 4 more times ...\n",
      "Failed to transform Four men playing drums in very orange lighting while one of them is also drinking something out of a bottle. or The men are musicians.. Retrying 3 more times ...\n",
      "Failed to transform Four men playing drums in very orange lighting while one of them is also drinking something out of a bottle. or The men are musicians.. Retrying 2 more times ...\n"
     ]
    },
    {
     "name": "stderr",
     "output_type": "stream",
     "text": [
      "\n",
      "Processing examples in test:   4%|▍         | 403/10000 [05:18<3:08:43,  1.18s/it]\u001B[A"
     ]
    },
    {
     "name": "stdout",
     "output_type": "stream",
     "text": [
      "Failed to transform Four men playing drums in very orange lighting while one of them is also drinking something out of a bottle. or The men are musicians.. Retrying 1 more times ...\n",
      "Failed to transform Four men playing drums in very orange lighting while one of them is also drinking something out of a bottle. or The men are asleep in the motel.. Retrying 5 more times ...\n",
      "Failed to transform Four men playing drums in very orange lighting while one of them is also drinking something out of a bottle. or The men are asleep in the motel.. Retrying 4 more times ...\n",
      "Failed to transform Four men playing drums in very orange lighting while one of them is also drinking something out of a bottle. or The men are asleep in the motel.. Retrying 3 more times ...\n",
      "Failed to transform Four men playing drums in very orange lighting while one of them is also drinking something out of a bottle. or The men are asleep in the motel.. Retrying 2 more times ...\n"
     ]
    },
    {
     "name": "stderr",
     "output_type": "stream",
     "text": [
      "\n",
      "Processing examples in test:   4%|▍         | 404/10000 [05:22<4:38:27,  1.74s/it]\u001B[A"
     ]
    },
    {
     "name": "stdout",
     "output_type": "stream",
     "text": [
      "Failed to transform Four men playing drums in very orange lighting while one of them is also drinking something out of a bottle. or The men are asleep in the motel.. Retrying 1 more times ...\n"
     ]
    },
    {
     "name": "stderr",
     "output_type": "stream",
     "text": [
      "\n",
      "Processing examples in test:   4%|▍         | 406/10000 [05:24<3:41:35,  1.39s/it]\u001B[A"
     ]
    },
    {
     "name": "stdout",
     "output_type": "stream",
     "text": [
      "Failed to transform Young boy in green and blue jerseys are kicking around  a soccer a ball while other a soccer games are taking a place in a a background. or Young boys waiting for their soccer game.. Retrying 5 more times ...\n",
      "Failed to transform Young boy in green and blue jerseys are a-kicking around  a soccer a ball for other a soccer games are a-taking a place in a a backgrounds. or Young boys waiting for their soccer game.. Retrying 4 more times ...\n",
      "Failed to transform Boy Young in    jerseys blue are -kicking around   soccer  ball for other a soccer games are -taking  place in   backgrounds. or Young boys waiting for their soccer game.. Retrying 3 more times ...\n",
      "Failed to transform Boy Young in    jerseys blue  -kicking around   soccer  ball for other the soccer game  -taking  place in   background. or Young boys waiting for their soccer game.. Retrying 2 more times ...\n"
     ]
    },
    {
     "name": "stderr",
     "output_type": "stream",
     "text": [
      "\n",
      "Processing examples in test:   4%|▍         | 407/10000 [05:31<7:05:50,  2.66s/it]\u001B[A"
     ]
    },
    {
     "name": "stdout",
     "output_type": "stream",
     "text": [
      "Failed to transform Boy Young in    jerseys blue  -kicking around   soccer  ball for other the soccer game  -taking  place in   backgrounds. or Young boys waiting for their soccer game.. Retrying 1 more times ...\n"
     ]
    },
    {
     "name": "stderr",
     "output_type": "stream",
     "text": [
      "\n",
      "Processing examples in test:   4%|▍         | 409/10000 [05:33<5:12:33,  1.96s/it]\u001B[A\n",
      "Processing examples in test:   4%|▍         | 410/10000 [05:34<4:58:19,  1.87s/it]\u001B[A\n",
      "Processing examples in test:   4%|▍         | 413/10000 [05:36<3:07:04,  1.17s/it]\u001B[A\n",
      "Processing examples in test:   4%|▍         | 415/10000 [05:38<3:12:40,  1.21s/it]\u001B[A\n",
      "Processing examples in test:   4%|▍         | 416/10000 [05:40<3:21:30,  1.26s/it]\u001B[A\n",
      "Processing examples in test:   4%|▍         | 419/10000 [05:41<2:33:41,  1.04it/s]\u001B[A\n",
      "Processing examples in test:   4%|▍         | 420/10000 [05:43<2:38:18,  1.01it/s]\u001B[A\n",
      "Processing examples in test:   4%|▍         | 423/10000 [05:45<2:20:33,  1.14it/s]\u001B[A\n",
      "Processing examples in test:   4%|▍         | 424/10000 [05:47<2:48:11,  1.05s/it]\u001B[A\n",
      "Processing examples in test:   4%|▍         | 425/10000 [05:50<3:53:14,  1.46s/it]\u001B[A\n",
      "Processing examples in test:   4%|▍         | 426/10000 [05:51<3:27:23,  1.30s/it]\u001B[A\n",
      "Processing examples in test:   4%|▍         | 427/10000 [05:52<3:17:07,  1.24s/it]\u001B[A"
     ]
    },
    {
     "name": "stdout",
     "output_type": "stream",
     "text": [
      "Failed to transform A black man wearing a down jacket with his arms spread and holding a pink comb. or A man was wearing a jacket while holding a comb.. Retrying 5 more times ...\n",
      "Failed to transform A black man wearing a down jacket with his arms spread and holding a pink comb. or A man was wearing a jacket while holding a comb.. Retrying 4 more times ...\n",
      "Failed to transform A black man wearing a down jacket with his arms spread and holding a pink comb. or A man was wearing a jacket while holding a comb.. Retrying 3 more times ...\n",
      "Failed to transform A black man wearing a down jacket with his arms spread and holding a pink comb. or A man was wearing a jacket while holding a comb.. Retrying 2 more times ...\n"
     ]
    },
    {
     "name": "stderr",
     "output_type": "stream",
     "text": [
      "\n",
      "Processing examples in test:   4%|▍         | 429/10000 [05:57<4:51:33,  1.83s/it]\u001B[A"
     ]
    },
    {
     "name": "stdout",
     "output_type": "stream",
     "text": [
      "Failed to transform A black man wearing a down jacket with his arms spread and holding a pink comb. or A man was wearing a jacket while holding a comb.. Retrying 1 more times ...\n"
     ]
    },
    {
     "name": "stderr",
     "output_type": "stream",
     "text": [
      "\n",
      "Processing examples in test:   4%|▍         | 431/10000 [05:59<3:57:38,  1.49s/it]\u001B[A\n",
      "Processing examples in test:   4%|▍         | 432/10000 [06:01<4:15:43,  1.60s/it]\u001B[A\n",
      "Processing examples in test:   4%|▍         | 433/10000 [06:02<3:51:01,  1.45s/it]\u001B[A\n",
      "Processing examples in test:   4%|▍         | 434/10000 [06:04<4:09:19,  1.56s/it]\u001B[A\n",
      "Processing examples in test:   4%|▍         | 435/10000 [06:06<4:23:00,  1.65s/it]\u001B[A\n",
      "Processing examples in test:   4%|▍         | 438/10000 [06:07<2:35:47,  1.02it/s]\u001B[A\n",
      "Processing examples in test:   4%|▍         | 440/10000 [06:09<2:43:35,  1.03s/it]\u001B[A\n",
      "Processing examples in test:   4%|▍         | 444/10000 [06:10<1:45:30,  1.51it/s]\u001B[A\n",
      "Processing examples in test:   4%|▍         | 445/10000 [06:11<1:49:03,  1.46it/s]\u001B[A\n",
      "Processing examples in test:   4%|▍         | 446/10000 [06:12<2:03:53,  1.29it/s]\u001B[A\n",
      "Processing examples in test:   4%|▍         | 447/10000 [06:13<2:14:32,  1.18it/s]\u001B[A\n",
      "Processing examples in test:   4%|▍         | 449/10000 [06:14<1:44:44,  1.52it/s]\u001B[A\n",
      "Processing examples in test:   5%|▍         | 451/10000 [06:15<1:38:15,  1.62it/s]\u001B[A\n",
      "Processing examples in test:   5%|▍         | 452/10000 [06:17<2:19:35,  1.14it/s]\u001B[A\n",
      "Processing examples in test:   5%|▍         | 455/10000 [06:18<1:46:49,  1.49it/s]\u001B[A\n",
      "Processing examples in test:   5%|▍         | 460/10000 [06:19<1:09:53,  2.28it/s]\u001B[A\n",
      "Processing examples in test:   5%|▍         | 461/10000 [06:20<1:16:06,  2.09it/s]\u001B[A\n",
      "Processing examples in test:   5%|▍         | 463/10000 [06:21<1:17:17,  2.06it/s]\u001B[A\n",
      "Processing examples in test:   5%|▍         | 467/10000 [06:22<1:08:17,  2.33it/s]\u001B[A\n",
      "Processing examples in test:   5%|▍         | 471/10000 [06:23<53:04,  2.99it/s]  \u001B[A\n",
      "Processing examples in test:   5%|▍         | 478/10000 [06:24<38:59,  4.07it/s]\u001B[A\n",
      "Processing examples in test:   5%|▍         | 479/10000 [06:25<48:45,  3.25it/s]\u001B[A\n",
      "Processing examples in test:   5%|▍         | 480/10000 [06:26<55:51,  2.84it/s]\u001B[A\n",
      "Processing examples in test:   5%|▍         | 482/10000 [06:28<1:16:44,  2.07it/s]\u001B[A\n",
      "Processing examples in test:   5%|▍         | 483/10000 [06:29<1:34:02,  1.69it/s]\u001B[A\n",
      "Processing examples in test:   5%|▍         | 484/10000 [06:31<2:09:02,  1.23it/s]\u001B[A\n",
      "Processing examples in test:   5%|▍         | 486/10000 [06:32<2:02:30,  1.29it/s]\u001B[A\n",
      "Processing examples in test:   5%|▍         | 488/10000 [06:34<2:11:38,  1.20it/s]\u001B[A\n",
      "Processing examples in test:   5%|▍         | 490/10000 [06:36<2:08:55,  1.23it/s]\u001B[A\n",
      "Processing examples in test:   5%|▍         | 492/10000 [06:37<2:12:44,  1.19it/s]\u001B[A\n",
      "Processing examples in test:   5%|▍         | 495/10000 [06:39<2:03:48,  1.28it/s]\u001B[A\n",
      "Processing examples in test:   5%|▍         | 498/10000 [06:41<1:50:01,  1.44it/s]\u001B[A\n",
      "Processing examples in test:   5%|▍         | 499/10000 [06:43<2:11:47,  1.20it/s]\u001B[A\n",
      "Processing examples in test:   5%|▌         | 502/10000 [06:44<1:44:16,  1.52it/s]\u001B[A\n",
      "Processing examples in test:   5%|▌         | 503/10000 [06:46<2:15:35,  1.17it/s]\u001B[A\n",
      "Processing examples in test:   5%|▌         | 505/10000 [06:48<2:20:01,  1.13it/s]\u001B[A\n",
      "Processing examples in test:   5%|▌         | 507/10000 [06:49<2:06:24,  1.25it/s]\u001B[A\n",
      "Processing examples in test:   5%|▌         | 510/10000 [06:50<1:40:49,  1.57it/s]\u001B[A\n",
      "Processing examples in test:   5%|▌         | 513/10000 [06:51<1:26:55,  1.82it/s]\u001B[A\n",
      "Processing examples in test:   5%|▌         | 514/10000 [06:53<1:59:12,  1.33it/s]\u001B[A\n",
      "Processing examples in test:   5%|▌         | 515/10000 [06:55<2:35:52,  1.01it/s]\u001B[A\n",
      "Processing examples in test:   5%|▌         | 516/10000 [06:56<2:44:35,  1.04s/it]\u001B[A"
     ]
    },
    {
     "name": "stdout",
     "output_type": "stream",
     "text": [
      "Failed to transform an old shoemaker in his factory or the shoemaker is getting ready for his 16th birthday. Retrying 5 more times ...\n",
      "Failed to transform an old shoemaker in his factory or the shoemaker is getting ready for his 16th birthday. Retrying 4 more times ...\n",
      "Failed to transform an old shoemaker in his factory or the shoemaker is getting ready for his 16th birthday. Retrying 3 more times ...\n",
      "Failed to transform an old shoemaker in his factory or the shoemaker is getting ready for his 16th birthday. Retrying 2 more times ...\n"
     ]
    },
    {
     "name": "stderr",
     "output_type": "stream",
     "text": [
      "\n",
      "Processing examples in test:   5%|▌         | 518/10000 [07:02<4:11:32,  1.59s/it]\u001B[A"
     ]
    },
    {
     "name": "stdout",
     "output_type": "stream",
     "text": [
      "Failed to transform an old shoemaker in his factory or the shoemaker is getting ready for his 16th birthday. Retrying 1 more times ...\n"
     ]
    },
    {
     "name": "stderr",
     "output_type": "stream",
     "text": [
      "\n",
      "Processing examples in test:   5%|▌         | 520/10000 [07:03<3:10:57,  1.21s/it]\u001B[A\n",
      "Processing examples in test:   5%|▌         | 522/10000 [07:04<2:41:46,  1.02s/it]\u001B[A\n",
      "Processing examples in test:   5%|▌         | 524/10000 [07:05<2:16:24,  1.16it/s]\u001B[A\n",
      "Processing examples in test:   5%|▌         | 526/10000 [07:06<2:11:18,  1.20it/s]\u001B[A\n",
      "Processing examples in test:   5%|▌         | 527/10000 [07:08<2:40:59,  1.02s/it]\u001B[A\n",
      "Processing examples in test:   5%|▌         | 529/10000 [07:10<2:33:41,  1.03it/s]\u001B[A\n",
      "Processing examples in test:   5%|▌         | 530/10000 [07:12<2:58:28,  1.13s/it]\u001B[A\n",
      "Processing examples in test:   5%|▌         | 533/10000 [07:13<2:09:38,  1.22it/s]\u001B[A\n",
      "Processing examples in test:   5%|▌         | 535/10000 [07:14<1:57:47,  1.34it/s]\u001B[A\n",
      "Processing examples in test:   5%|▌         | 539/10000 [07:15<1:17:03,  2.05it/s]\u001B[A\n",
      "Processing examples in test:   5%|▌         | 541/10000 [07:16<1:23:36,  1.89it/s]\u001B[A\n",
      "Processing examples in test:   5%|▌         | 542/10000 [07:18<1:40:22,  1.57it/s]\u001B[A\n",
      "Processing examples in test:   5%|▌         | 543/10000 [07:19<2:12:08,  1.19it/s]\u001B[A\n",
      "Processing examples in test:   5%|▌         | 547/10000 [07:21<1:40:54,  1.56it/s]\u001B[A\n",
      "Processing examples in test:   5%|▌         | 548/10000 [07:22<1:49:18,  1.44it/s]\u001B[A\n",
      "Processing examples in test:   5%|▌         | 549/10000 [07:24<2:08:38,  1.22it/s]\u001B[A\n",
      "Processing examples in test:   6%|▌         | 550/10000 [07:25<2:15:33,  1.16it/s]\u001B[A\n",
      "Processing examples in test:   6%|▌         | 552/10000 [07:25<1:51:37,  1.41it/s]\u001B[A\n",
      "Processing examples in test:   6%|▌         | 553/10000 [07:27<2:14:27,  1.17it/s]\u001B[A\n",
      "Processing examples in test:   6%|▌         | 554/10000 [07:28<2:39:55,  1.02s/it]\u001B[A\n",
      "Processing examples in test:   6%|▌         | 557/10000 [07:29<1:38:42,  1.59it/s]\u001B[A"
     ]
    },
    {
     "name": "stdout",
     "output_type": "stream",
     "text": [
      "Failed to transform One young boy in a yellow long-sleeved shirt and jeans sitting down, with five adults in front of him, one operating a video camera. or Someone recording a young boy as he auditions for a part in a movie.. Retrying 5 more times ...\n",
      "Failed to transform One young boy in a yellow long-sleeved shirt and jeans sitting down, with five adults in front of him, one operating a video camera. or Someone recording a young boy as he auditions for a part in a movie.. Retrying 4 more times ...\n",
      "Failed to transform One young boy in a yellow long-sleeved shirt and jeans sitting down, with five adults in front of him, one operating a video camera. or Someone recording a young boy as he auditions for a part in a movie.. Retrying 3 more times ...\n",
      "Failed to transform One young boy in a yellow long-sleeved shirt and jeans sitting down, with five adults in front of him, one operating a video camera. or Someone recording a young boy as he auditions for a part in a movie.. Retrying 2 more times ...\n"
     ]
    },
    {
     "name": "stderr",
     "output_type": "stream",
     "text": [
      "\n",
      "Processing examples in test:   6%|▌         | 559/10000 [07:34<3:18:16,  1.26s/it]\u001B[A"
     ]
    },
    {
     "name": "stdout",
     "output_type": "stream",
     "text": [
      "Failed to transform One young boy in a yellow long-sleeved shirt and jeans sitting down, with five adults in front of him, one operating a video camera. or Someone recording a young boy as he auditions for a part in a movie.. Retrying 1 more times ...\n"
     ]
    },
    {
     "name": "stderr",
     "output_type": "stream",
     "text": [
      "\n",
      "Processing examples in test:   6%|▌         | 560/10000 [07:35<3:10:15,  1.21s/it]\u001B[A\n",
      "Processing examples in test:   6%|▌         | 561/10000 [07:36<3:01:52,  1.16s/it]\u001B[A\n",
      "Processing examples in test:   6%|▌         | 562/10000 [07:37<3:00:26,  1.15s/it]\u001B[A\n",
      "Processing examples in test:   6%|▌         | 566/10000 [07:38<1:41:13,  1.55it/s]\u001B[A\n",
      "Processing examples in test:   6%|▌         | 568/10000 [07:40<1:36:31,  1.63it/s]\u001B[A\n",
      "Processing examples in test:   6%|▌         | 572/10000 [07:40<1:04:53,  2.42it/s]\u001B[A\n",
      "Processing examples in test:   6%|▌         | 574/10000 [07:41<1:09:04,  2.27it/s]\u001B[A\n",
      "Processing examples in test:   6%|▌         | 575/10000 [07:43<1:33:05,  1.69it/s]\u001B[A\n",
      "Processing examples in test:   6%|▌         | 576/10000 [07:44<1:59:23,  1.32it/s]\u001B[A\n",
      "Processing examples in test:   6%|▌         | 577/10000 [07:45<1:59:07,  1.32it/s]\u001B[A\n",
      "Processing examples in test:   6%|▌         | 578/10000 [07:46<1:57:05,  1.34it/s]\u001B[A\n",
      "Processing examples in test:   6%|▌         | 582/10000 [07:47<1:29:16,  1.76it/s]\u001B[A\n",
      "Processing examples in test:   6%|▌         | 584/10000 [07:48<1:17:55,  2.01it/s]\u001B[A\n",
      "Processing examples in test:   6%|▌         | 586/10000 [07:50<1:44:25,  1.50it/s]\u001B[A\n",
      "Processing examples in test:   6%|▌         | 589/10000 [07:52<1:34:25,  1.66it/s]\u001B[A\n",
      "Processing examples in test:   6%|▌         | 590/10000 [07:54<2:06:43,  1.24it/s]\u001B[A\n",
      "Processing examples in test:   6%|▌         | 591/10000 [07:55<2:09:09,  1.21it/s]\u001B[A\n",
      "Processing examples in test:   6%|▌         | 598/10000 [07:56<1:12:17,  2.17it/s]\u001B[A\n",
      "Processing examples in test:   6%|▌         | 599/10000 [07:58<1:38:46,  1.59it/s]\u001B[A\n",
      "Processing examples in test:   6%|▌         | 601/10000 [08:00<1:41:14,  1.55it/s]\u001B[A\n",
      "Processing examples in test:   6%|▌         | 602/10000 [08:01<2:07:08,  1.23it/s]\u001B[A\n",
      "Processing examples in test:   6%|▌         | 606/10000 [08:03<1:40:43,  1.55it/s]\u001B[A\n",
      "Processing examples in test:   6%|▌         | 607/10000 [08:05<1:56:33,  1.34it/s]\u001B[A\n",
      "Processing examples in test:   6%|▌         | 609/10000 [08:06<1:45:56,  1.48it/s]\u001B[A\n",
      "Processing examples in test:   6%|▌         | 610/10000 [08:07<2:13:22,  1.17it/s]\u001B[A\n",
      "Processing examples in test:   6%|▌         | 611/10000 [08:08<2:21:33,  1.11it/s]\u001B[A\n",
      "Processing examples in test:   6%|▌         | 612/10000 [08:10<2:57:06,  1.13s/it]\u001B[A\n",
      "Processing examples in test:   6%|▌         | 613/10000 [08:12<2:57:14,  1.13s/it]\u001B[A\n",
      "Processing examples in test:   6%|▌         | 616/10000 [08:12<1:51:51,  1.40it/s]\u001B[A\n",
      "Processing examples in test:   6%|▌         | 617/10000 [08:14<2:13:44,  1.17it/s]\u001B[A\n",
      "Processing examples in test:   6%|▌         | 618/10000 [08:16<3:07:14,  1.20s/it]\u001B[A\n",
      "Processing examples in test:   6%|▌         | 619/10000 [08:17<3:06:37,  1.19s/it]\u001B[A\n",
      "Processing examples in test:   6%|▌         | 620/10000 [08:20<3:53:46,  1.50s/it]\u001B[A\n",
      "Processing examples in test:   6%|▌         | 621/10000 [08:21<3:39:21,  1.40s/it]\u001B[A\n",
      "Processing examples in test:   6%|▌         | 622/10000 [08:22<3:30:55,  1.35s/it]\u001B[A\n",
      "Processing examples in test:   6%|▌         | 623/10000 [08:25<4:12:53,  1.62s/it]\u001B[A\n",
      "Processing examples in test:   6%|▌         | 624/10000 [08:27<4:34:38,  1.76s/it]\u001B[A\n",
      "Processing examples in test:   6%|▋         | 626/10000 [08:28<3:03:55,  1.18s/it]\u001B[A\n",
      "Processing examples in test:   6%|▋         | 628/10000 [08:29<2:33:26,  1.02it/s]\u001B[A\n",
      "Processing examples in test:   6%|▋         | 629/10000 [08:31<3:01:31,  1.16s/it]\u001B[A\n",
      "Processing examples in test:   6%|▋         | 631/10000 [08:31<2:13:51,  1.17it/s]\u001B[A\n",
      "Processing examples in test:   6%|▋         | 633/10000 [08:33<1:57:19,  1.33it/s]\u001B[A"
     ]
    },
    {
     "name": "stdout",
     "output_type": "stream",
     "text": [
      "Failed to transform with Two boys washing their hands. Retrying 5 more times...\n",
      "Failed to transform with Two boys washing their hands. Retrying 4 more times...\n",
      "Failed to transform with Two boys washing their hands. Retrying 3 more times...\n",
      "Failed to transform with Two boys washing their hands. Retrying 2 more times...\n"
     ]
    },
    {
     "name": "stderr",
     "output_type": "stream",
     "text": [
      "\n",
      "Processing examples in test:   6%|▋         | 635/10000 [08:37<3:07:11,  1.20s/it]\u001B[A"
     ]
    },
    {
     "name": "stdout",
     "output_type": "stream",
     "text": [
      "Failed to transform with Two boys washing their hands. Retrying 1 more times...\n"
     ]
    },
    {
     "name": "stderr",
     "output_type": "stream",
     "text": [
      "\n",
      "Processing examples in test:   6%|▋         | 636/10000 [08:39<3:25:41,  1.32s/it]\u001B[A\n",
      "Processing examples in test:   6%|▋         | 637/10000 [08:47<7:41:36,  2.96s/it]\u001B[A\n",
      "Processing examples in test:   6%|▋         | 642/10000 [08:49<3:30:50,  1.35s/it]\u001B[A\n",
      "Processing examples in test:   6%|▋         | 643/10000 [08:51<3:39:44,  1.41s/it]\u001B[A\n",
      "Processing examples in test:   6%|▋         | 646/10000 [08:53<2:49:21,  1.09s/it]\u001B[A\n",
      "Processing examples in test:   6%|▋         | 647/10000 [08:54<3:05:03,  1.19s/it]\u001B[A\n",
      "Processing examples in test:   6%|▋         | 648/10000 [08:55<3:01:10,  1.16s/it]\u001B[A\n",
      "Processing examples in test:   6%|▋         | 650/10000 [08:56<2:16:13,  1.14it/s]\u001B[A\n",
      "Processing examples in test:   7%|▋         | 652/10000 [08:58<2:22:48,  1.09it/s]\u001B[A\n",
      "Processing examples in test:   7%|▋         | 654/10000 [08:59<1:54:26,  1.36it/s]\u001B[A\n",
      "Processing examples in test:   7%|▋         | 655/10000 [09:00<2:05:14,  1.24it/s]\u001B[A\n",
      "Processing examples in test:   7%|▋         | 658/10000 [09:01<1:41:57,  1.53it/s]\u001B[A\n",
      "Processing examples in test:   7%|▋         | 659/10000 [09:02<2:00:04,  1.30it/s]\u001B[A\n",
      "Processing examples in test:   7%|▋         | 660/10000 [09:04<2:14:37,  1.16it/s]\u001B[A\n",
      "Processing examples in test:   7%|▋         | 661/10000 [09:08<4:12:41,  1.62s/it]\u001B[A\n",
      "Processing examples in test:   7%|▋         | 666/10000 [09:10<2:20:47,  1.10it/s]\u001B[A\n",
      "Processing examples in test:   7%|▋         | 667/10000 [09:12<2:44:50,  1.06s/it]\u001B[A\n",
      "Processing examples in test:   7%|▋         | 668/10000 [09:14<3:05:36,  1.19s/it]\u001B[A\n",
      "Processing examples in test:   7%|▋         | 670/10000 [09:16<2:44:11,  1.06s/it]\u001B[A\n",
      "Processing examples in test:   7%|▋         | 671/10000 [09:18<3:20:55,  1.29s/it]\u001B[A\n",
      "Processing examples in test:   7%|▋         | 672/10000 [09:19<3:15:39,  1.26s/it]\u001B[A\n",
      "Processing examples in test:   7%|▋         | 673/10000 [09:20<2:55:14,  1.13s/it]\u001B[A\n",
      "Processing examples in test:   7%|▋         | 674/10000 [09:21<3:17:46,  1.27s/it]\u001B[A\n",
      "Processing examples in test:   7%|▋         | 675/10000 [09:22<3:08:31,  1.21s/it]\u001B[A\n",
      "Processing examples in test:   7%|▋         | 676/10000 [09:24<3:31:44,  1.36s/it]\u001B[A\n",
      "Processing examples in test:   7%|▋         | 680/10000 [09:26<2:07:33,  1.22it/s]\u001B[A\n",
      "Processing examples in test:   7%|▋         | 684/10000 [09:27<1:28:54,  1.75it/s]\u001B[A\n",
      "Processing examples in test:   7%|▋         | 685/10000 [09:29<1:47:01,  1.45it/s]\u001B[A\n",
      "Processing examples in test:   7%|▋         | 687/10000 [09:30<1:53:48,  1.36it/s]\u001B[A\n",
      "Processing examples in test:   7%|▋         | 688/10000 [09:32<2:23:37,  1.08it/s]\u001B[A\n",
      "Processing examples in test:   7%|▋         | 689/10000 [09:34<2:36:35,  1.01s/it]\u001B[A\n",
      "Processing examples in test:   7%|▋         | 690/10000 [09:35<2:38:39,  1.02s/it]\u001B[A\n",
      "Processing examples in test:   7%|▋         | 691/10000 [09:36<2:41:13,  1.04s/it]\u001B[A\n",
      "Processing examples in test:   7%|▋         | 692/10000 [09:38<3:15:08,  1.26s/it]\u001B[A\n",
      "Processing examples in test:   7%|▋         | 693/10000 [09:38<2:57:15,  1.14s/it]\u001B[A\n",
      "Processing examples in test:   7%|▋         | 694/10000 [09:39<2:38:07,  1.02s/it]\u001B[A\n",
      "Processing examples in test:   7%|▋         | 697/10000 [09:41<1:55:52,  1.34it/s]\u001B[A\n",
      "Processing examples in test:   7%|▋         | 701/10000 [09:42<1:32:05,  1.68it/s]\u001B[A\n",
      "Processing examples in test:   7%|▋         | 702/10000 [09:44<1:58:10,  1.31it/s]\u001B[A\n",
      "Processing examples in test:   7%|▋         | 703/10000 [09:46<2:15:11,  1.15it/s]\u001B[A\n",
      "Processing examples in test:   7%|▋         | 705/10000 [09:47<2:16:53,  1.13it/s]\u001B[A\n",
      "Processing examples in test:   7%|▋         | 707/10000 [09:49<2:17:15,  1.13it/s]\u001B[A\n",
      "Processing examples in test:   7%|▋         | 708/10000 [09:51<2:43:55,  1.06s/it]\u001B[A\n",
      "Processing examples in test:   7%|▋         | 711/10000 [09:52<1:51:33,  1.39it/s]\u001B[A"
     ]
    },
    {
     "name": "stdout",
     "output_type": "stream",
     "text": [
      "Failed to transform A pro-baseball pitcher sends a curve ball to his opponent while many fans relax and enjoy the game. or A pitcher is playing baseball at a stadium.. Retrying 5 more times ...\n",
      "Failed to transform A pro-baseball pitcher sends a curve ball to his opponent while many fans relax and enjoy the game. or A pitcher is playing baseball at a stadium.. Retrying 4 more times ...\n",
      "Failed to transform A pro-baseball pitcher sends a curve ball to his opponent while many fans relax and enjoy the game. or A pitcher is playing baseball at a stadium.. Retrying 3 more times ...\n",
      "Failed to transform A pro-baseball pitcher sends a curve ball to his opponent while many fans relax and enjoy the game. or A pitcher is playing baseball at a stadium.. Retrying 2 more times ...\n"
     ]
    },
    {
     "name": "stderr",
     "output_type": "stream",
     "text": [
      "\n",
      "Processing examples in test:   7%|▋         | 712/10000 [09:58<4:07:26,  1.60s/it]\u001B[A"
     ]
    },
    {
     "name": "stdout",
     "output_type": "stream",
     "text": [
      "Failed to transform A pro-baseball pitcher sends a curve ball to his opponent while many fans relax and enjoy the game. or A pitcher is playing baseball at a stadium.. Retrying 1 more times ...\n"
     ]
    },
    {
     "name": "stderr",
     "output_type": "stream",
     "text": [
      "\n",
      "Processing examples in test:   7%|▋         | 713/10000 [09:58<3:39:07,  1.42s/it]\u001B[A"
     ]
    },
    {
     "name": "stdout",
     "output_type": "stream",
     "text": [
      "Failed to transform A pro-baseball pitcher sends a curve ball to his opponent while many fans relax and enjoy the game. or A man is juggling baseballs while fans look on upset.. Retrying 5 more times ...\n",
      "Failed to transform A pro-baseball pitcher sends a curve ball to his opponent while many fans relax and enjoy the game. or A man is juggling baseballs while fans look on upset.. Retrying 4 more times ...\n",
      "Failed to transform A pro-baseball pitcher sends a curve ball to his opponent while many fans relax and enjoy the game. or A man is juggling baseballs while fans look on upset.. Retrying 3 more times ...\n",
      "Failed to transform A pro-baseball pitcher sends a curve ball to his opponent while many fans relax and enjoy the game. or A man is juggling baseballs while fans look on upset.. Retrying 2 more times ...\n"
     ]
    },
    {
     "name": "stderr",
     "output_type": "stream",
     "text": [
      "\n",
      "Processing examples in test:   7%|▋         | 714/10000 [10:04<6:24:14,  2.48s/it]\u001B[A"
     ]
    },
    {
     "name": "stdout",
     "output_type": "stream",
     "text": [
      "Failed to transform A pro-baseball pitcher sends a curve ball to his opponent while many fans relax and enjoy the game. or A man is juggling baseballs while fans look on upset.. Retrying 1 more times ...\n"
     ]
    },
    {
     "name": "stderr",
     "output_type": "stream",
     "text": [
      "\n",
      "Processing examples in test:   7%|▋         | 715/10000 [10:05<5:24:42,  2.10s/it]\u001B[A\n",
      "Processing examples in test:   7%|▋         | 716/10000 [10:07<5:16:02,  2.04s/it]\u001B[A\n",
      "Processing examples in test:   7%|▋         | 717/10000 [10:09<5:09:03,  2.00s/it]\u001B[A\n",
      "Processing examples in test:   7%|▋         | 721/10000 [10:10<2:32:39,  1.01it/s]\u001B[A\n",
      "Processing examples in test:   7%|▋         | 722/10000 [10:12<2:54:50,  1.13s/it]\u001B[A\n",
      "Processing examples in test:   7%|▋         | 727/10000 [10:14<1:46:15,  1.45it/s]\u001B[A\n",
      "Processing examples in test:   7%|▋         | 730/10000 [10:16<1:40:35,  1.54it/s]\u001B[A\n",
      "Processing examples in test:   7%|▋         | 731/10000 [10:17<1:55:07,  1.34it/s]\u001B[A\n",
      "Processing examples in test:   7%|▋         | 732/10000 [10:18<2:06:32,  1.22it/s]\u001B[A\n",
      "Processing examples in test:   7%|▋         | 733/10000 [10:21<2:54:29,  1.13s/it]\u001B[A\n",
      "Processing examples in test:   7%|▋         | 734/10000 [10:22<2:54:19,  1.13s/it]\u001B[A\n",
      "Processing examples in test:   7%|▋         | 735/10000 [10:22<2:38:26,  1.03s/it]\u001B[A\n",
      "Processing examples in test:   7%|▋         | 736/10000 [10:24<3:04:59,  1.20s/it]\u001B[A\n",
      "Processing examples in test:   7%|▋         | 737/10000 [10:26<3:26:13,  1.34s/it]\u001B[A\n",
      "Processing examples in test:   7%|▋         | 741/10000 [10:27<1:54:34,  1.35it/s]\u001B[A\n",
      "Processing examples in test:   7%|▋         | 742/10000 [10:29<2:23:12,  1.08it/s]\u001B[A\n",
      "Processing examples in test:   7%|▋         | 744/10000 [10:30<2:03:50,  1.25it/s]\u001B[A\n",
      "Processing examples in test:   7%|▋         | 745/10000 [10:32<2:47:45,  1.09s/it]\u001B[A\n",
      "Processing examples in test:   7%|▋         | 749/10000 [10:33<1:33:30,  1.65it/s]\u001B[A\n",
      "Processing examples in test:   8%|▊         | 754/10000 [10:34<58:01,  2.66it/s]  \u001B[A\n",
      "Processing examples in test:   8%|▊         | 755/10000 [10:35<1:11:55,  2.14it/s]\u001B[A"
     ]
    },
    {
     "name": "stdout",
     "output_type": "stream",
     "text": [
      "Failed to transform A crowd wearing orange cheering for their team in a stadium. or Fans cheering on their team at the big game.. Retrying 5 more times ...\n",
      "Failed to transform A crowd wearing orange cheering for their team in a stadium. or Fans cheering on their team at the big game.. Retrying 4 more times ...\n",
      "Failed to transform A crowd wearing orange cheering for their team in a stadium. or Fans cheering on their team at the big game.. Retrying 3 more times ...\n",
      "Failed to transform A crowd wearing orange cheering for their team in a stadium. or Fans cheering on their team at the big game.. Retrying 2 more times ...\n"
     ]
    },
    {
     "name": "stderr",
     "output_type": "stream",
     "text": [
      "\n",
      "Processing examples in test:   8%|▊         | 756/10000 [10:39<2:42:40,  1.06s/it]\u001B[A"
     ]
    },
    {
     "name": "stdout",
     "output_type": "stream",
     "text": [
      "Failed to transform A crowd wearing orange cheering for their team in a stadium. or Fans cheering on their team at the big game.. Retrying 1 more times ...\n"
     ]
    },
    {
     "name": "stderr",
     "output_type": "stream",
     "text": [
      "\n",
      "Processing examples in test:   8%|▊         | 760/10000 [10:41<1:54:52,  1.34it/s]\u001B[A\n",
      "Processing examples in test:   8%|▊         | 761/10000 [10:42<2:00:38,  1.28it/s]\u001B[A\n",
      "Processing examples in test:   8%|▊         | 762/10000 [10:44<2:27:53,  1.04it/s]\u001B[A\n",
      "Processing examples in test:   8%|▊         | 763/10000 [10:46<2:54:38,  1.13s/it]\u001B[A\n",
      "Processing examples in test:   8%|▊         | 764/10000 [10:47<3:02:28,  1.19s/it]\u001B[A\n",
      "Processing examples in test:   8%|▊         | 765/10000 [10:48<2:56:05,  1.14s/it]\u001B[A\n",
      "Processing examples in test:   8%|▊         | 766/10000 [10:49<2:38:19,  1.03s/it]\u001B[A\n",
      "Processing examples in test:   8%|▊         | 772/10000 [10:50<1:06:51,  2.30it/s]\u001B[A\n",
      "Processing examples in test:   8%|▊         | 775/10000 [10:51<1:11:51,  2.14it/s]\u001B[A\n",
      "Processing examples in test:   8%|▊         | 777/10000 [10:52<1:08:28,  2.24it/s]\u001B[A\n",
      "Processing examples in test:   8%|▊         | 779/10000 [10:54<1:26:35,  1.77it/s]\u001B[A\n",
      "Processing examples in test:   8%|▊         | 781/10000 [10:55<1:33:16,  1.65it/s]\u001B[A\n",
      "Processing examples in test:   8%|▊         | 783/10000 [10:56<1:21:11,  1.89it/s]\u001B[A\n",
      "Processing examples in test:   8%|▊         | 784/10000 [10:57<1:27:34,  1.75it/s]\u001B[A\n",
      "Processing examples in test:   8%|▊         | 788/10000 [10:59<1:20:55,  1.90it/s]\u001B[A\n",
      "Processing examples in test:   8%|▊         | 794/10000 [10:59<49:39,  3.09it/s]  \u001B[A\n",
      "Processing examples in test:   8%|▊         | 795/10000 [11:01<1:15:14,  2.04it/s]\u001B[A\n",
      "Processing examples in test:   8%|▊         | 797/10000 [11:03<1:31:24,  1.68it/s]\u001B[A\n",
      "Processing examples in test:   8%|▊         | 800/10000 [11:05<1:38:24,  1.56it/s]\u001B[A\n",
      "Processing examples in test:   8%|▊         | 801/10000 [11:06<1:39:07,  1.55it/s]\u001B[A\n",
      "Processing examples in test:   8%|▊         | 802/10000 [11:07<1:51:49,  1.37it/s]\u001B[A\n",
      "Processing examples in test:   8%|▊         | 805/10000 [11:09<1:41:00,  1.52it/s]\u001B[A\n",
      "Processing examples in test:   8%|▊         | 806/10000 [11:11<2:06:45,  1.21it/s]\u001B[A\n",
      "Processing examples in test:   8%|▊         | 807/10000 [11:12<2:28:03,  1.03it/s]\u001B[A\n",
      "Processing examples in test:   8%|▊         | 808/10000 [11:14<2:59:13,  1.17s/it]\u001B[A\n",
      "Processing examples in test:   8%|▊         | 810/10000 [11:16<2:58:36,  1.17s/it]\u001B[A\n",
      "Processing examples in test:   8%|▊         | 812/10000 [11:17<2:16:22,  1.12it/s]\u001B[A\n",
      "Processing examples in test:   8%|▊         | 815/10000 [11:19<2:00:59,  1.27it/s]\u001B[A\n",
      "Processing examples in test:   8%|▊         | 817/10000 [11:20<1:56:26,  1.31it/s]\u001B[A\n",
      "Processing examples in test:   8%|▊         | 819/10000 [11:22<1:47:22,  1.43it/s]\u001B[A\n",
      "Processing examples in test:   8%|▊         | 820/10000 [11:23<1:56:36,  1.31it/s]\u001B[A\n",
      "Processing examples in test:   8%|▊         | 821/10000 [11:24<2:13:47,  1.14it/s]\u001B[A\n",
      "Processing examples in test:   8%|▊         | 824/10000 [11:26<1:56:06,  1.32it/s]\u001B[A\n",
      "Processing examples in test:   8%|▊         | 826/10000 [11:27<1:48:53,  1.40it/s]\u001B[A\n",
      "Processing examples in test:   8%|▊         | 827/10000 [11:28<2:01:56,  1.25it/s]\u001B[A\n",
      "Processing examples in test:   8%|▊         | 833/10000 [11:29<1:06:50,  2.29it/s]\u001B[A\n",
      "Processing examples in test:   8%|▊         | 836/10000 [11:31<1:08:01,  2.25it/s]\u001B[A\n",
      "Processing examples in test:   8%|▊         | 838/10000 [11:32<1:10:52,  2.15it/s]\u001B[A\n",
      "Processing examples in test:   8%|▊         | 839/10000 [11:34<1:38:51,  1.54it/s]\u001B[A\n",
      "Processing examples in test:   8%|▊         | 840/10000 [11:36<2:11:35,  1.16it/s]\u001B[A\n",
      "Processing examples in test:   8%|▊         | 841/10000 [11:38<2:54:38,  1.14s/it]\u001B[A\n",
      "Processing examples in test:   8%|▊         | 848/10000 [11:39<1:18:13,  1.95it/s]\u001B[A\n",
      "Processing examples in test:   8%|▊         | 849/10000 [11:41<1:47:50,  1.41it/s]\u001B[A\n",
      "Processing examples in test:   8%|▊         | 850/10000 [11:43<2:11:04,  1.16it/s]\u001B[A\n",
      "Processing examples in test:   9%|▊         | 851/10000 [11:45<2:43:33,  1.07s/it]\u001B[A\n",
      "Processing examples in test:   9%|▊         | 853/10000 [11:47<2:39:37,  1.05s/it]\u001B[A"
     ]
    },
    {
     "name": "stdout",
     "output_type": "stream",
     "text": [
      "Failed to transform A young girl in a pink shirt playing with her barbie. or The young girl is having fun.. Retrying 5 more times ...\n",
      "Failed to transform A young girl in a pink shirt playing with her barbie. or The young girl is having fun.. Retrying 4 more times ...\n",
      "Failed to transform A young girl in a pink shirt playing with her barbie. or The young girl is having fun.. Retrying 3 more times ...\n",
      "Failed to transform A young girl in a pink shirt playing with her barbie. or The young girl is having fun.. Retrying 2 more times ...\n"
     ]
    },
    {
     "name": "stderr",
     "output_type": "stream",
     "text": [
      "\n",
      "Processing examples in test:   9%|▊         | 862/10000 [11:53<1:53:48,  1.34it/s]\u001B[A"
     ]
    },
    {
     "name": "stdout",
     "output_type": "stream",
     "text": [
      "Failed to transform A young girl in a pink shirt playing with her barbie. or The young girl is having fun.. Retrying 1 more times ...\n"
     ]
    },
    {
     "name": "stderr",
     "output_type": "stream",
     "text": [
      "\n",
      "Processing examples in test:   9%|▊         | 863/10000 [11:54<1:58:28,  1.29it/s]\u001B[A\n",
      "Processing examples in test:   9%|▊         | 865/10000 [11:54<1:44:35,  1.46it/s]\u001B[A\n",
      "Processing examples in test:   9%|▊         | 868/10000 [11:56<1:34:13,  1.62it/s]\u001B[A\n",
      "Processing examples in test:   9%|▊         | 872/10000 [11:57<1:14:36,  2.04it/s]\u001B[A\n",
      "Processing examples in test:   9%|▊         | 873/10000 [11:58<1:17:57,  1.95it/s]\u001B[A\n",
      "Processing examples in test:   9%|▉         | 879/10000 [11:58<47:59,  3.17it/s]  \u001B[A\n",
      "Processing examples in test:   9%|▉         | 886/10000 [11:59<33:02,  4.60it/s]\u001B[A\n",
      "Processing examples in test:   9%|▉         | 887/10000 [12:01<50:19,  3.02it/s]\u001B[A\n",
      "Processing examples in test:   9%|▉         | 888/10000 [12:02<1:07:49,  2.24it/s]\u001B[A\n",
      "Processing examples in test:   9%|▉         | 890/10000 [12:04<1:31:28,  1.66it/s]\u001B[A\n",
      "Processing examples in test:   9%|▉         | 891/10000 [12:06<2:01:55,  1.25it/s]\u001B[A\n",
      "Processing examples in test:   9%|▉         | 892/10000 [12:12<4:00:14,  1.58s/it]\u001B[A\n",
      "Processing examples in test:   9%|▉         | 894/10000 [12:13<3:10:15,  1.25s/it]\u001B[A\n",
      "Processing examples in test:   9%|▉         | 895/10000 [12:14<3:16:57,  1.30s/it]\u001B[A\n",
      "Processing examples in test:   9%|▉         | 896/10000 [12:15<2:55:57,  1.16s/it]\u001B[A\n",
      "Processing examples in test:   9%|▉         | 899/10000 [12:16<2:00:44,  1.26it/s]\u001B[A\n",
      "Processing examples in test:   9%|▉         | 901/10000 [12:17<1:51:23,  1.36it/s]\u001B[A\n",
      "Processing examples in test:   9%|▉         | 903/10000 [12:19<2:02:47,  1.23it/s]\u001B[A\n",
      "Processing examples in test:   9%|▉         | 906/10000 [12:20<1:35:40,  1.58it/s]\u001B[A\n",
      "Processing examples in test:   9%|▉         | 908/10000 [12:22<1:40:13,  1.51it/s]\u001B[A\n",
      "Processing examples in test:   9%|▉         | 911/10000 [12:23<1:28:08,  1.72it/s]\u001B[A\n",
      "Processing examples in test:   9%|▉         | 916/10000 [12:25<1:07:20,  2.25it/s]\u001B[A\n",
      "Processing examples in test:   9%|▉         | 917/10000 [12:26<1:21:23,  1.86it/s]\u001B[A\n",
      "Processing examples in test:   9%|▉         | 918/10000 [12:27<1:25:16,  1.78it/s]\u001B[A\n",
      "Processing examples in test:   9%|▉         | 919/10000 [12:28<1:56:29,  1.30it/s]\u001B[A\n",
      "Processing examples in test:   9%|▉         | 920/10000 [12:29<1:53:17,  1.34it/s]\u001B[A\n",
      "Processing examples in test:   9%|▉         | 923/10000 [12:31<1:47:13,  1.41it/s]\u001B[A\n",
      "Processing examples in test:   9%|▉         | 927/10000 [12:32<1:12:27,  2.09it/s]\u001B[A\n",
      "Processing examples in test:   9%|▉         | 931/10000 [12:33<59:30,  2.54it/s]  \u001B[A\n",
      "Processing examples in test:   9%|▉         | 933/10000 [12:35<1:19:54,  1.89it/s]\u001B[A\n",
      "Processing examples in test:   9%|▉         | 938/10000 [12:37<1:09:41,  2.17it/s]\u001B[A\n",
      "Processing examples in test:   9%|▉         | 941/10000 [12:39<1:17:50,  1.94it/s]\u001B[A\n",
      "Processing examples in test:   9%|▉         | 942/10000 [12:41<1:48:49,  1.39it/s]\u001B[A\n",
      "Processing examples in test:   9%|▉         | 943/10000 [12:43<2:11:39,  1.15it/s]\u001B[A\n",
      "Processing examples in test:  10%|▉         | 950/10000 [12:45<1:19:30,  1.90it/s]\u001B[A\n",
      "Processing examples in test:  10%|▉         | 953/10000 [12:47<1:21:19,  1.85it/s]\u001B[A\n",
      "Processing examples in test:  10%|▉         | 957/10000 [12:48<1:18:03,  1.93it/s]\u001B[A\n",
      "Processing examples in test:  10%|▉         | 961/10000 [12:49<1:01:54,  2.43it/s]\u001B[A\n",
      "Processing examples in test:  10%|▉         | 964/10000 [12:50<1:02:30,  2.41it/s]\u001B[A\n",
      "Processing examples in test:  10%|▉         | 965/10000 [12:52<1:17:28,  1.94it/s]\u001B[A\n",
      "Processing examples in test:  10%|▉         | 970/10000 [12:54<1:09:45,  2.16it/s]\u001B[A\n",
      "Processing examples in test:  10%|▉         | 972/10000 [12:55<1:12:32,  2.07it/s]\u001B[A\n",
      "Processing examples in test:  10%|▉         | 978/10000 [12:57<57:42,  2.61it/s]  \u001B[A\n",
      "Processing examples in test:  10%|▉         | 980/10000 [12:58<1:06:20,  2.27it/s]\u001B[A\n",
      "Processing examples in test:  10%|▉         | 981/10000 [13:00<1:33:41,  1.60it/s]\u001B[A\n",
      "Processing examples in test:  10%|▉         | 982/10000 [13:01<1:34:22,  1.59it/s]\u001B[A\n",
      "Processing examples in test:  10%|▉         | 983/10000 [13:03<2:14:33,  1.12it/s]\u001B[A\n",
      "Processing examples in test:  10%|▉         | 984/10000 [13:04<2:12:09,  1.14it/s]\u001B[A\n",
      "Processing examples in test:  10%|▉         | 985/10000 [13:05<2:41:26,  1.07s/it]\u001B[A\n",
      "Processing examples in test:  10%|▉         | 986/10000 [13:07<3:15:27,  1.30s/it]\u001B[A\n",
      "Processing examples in test:  10%|▉         | 987/10000 [13:09<3:18:39,  1.32s/it]\u001B[A\n",
      "Processing examples in test:  10%|▉         | 988/10000 [13:11<3:45:39,  1.50s/it]\u001B[A\n",
      "Processing examples in test:  10%|▉         | 989/10000 [13:12<3:17:31,  1.32s/it]\u001B[A\n",
      "Processing examples in test:  10%|▉         | 994/10000 [13:13<1:31:25,  1.64it/s]\u001B[A\n",
      "Processing examples in test:  10%|▉         | 996/10000 [13:15<1:45:03,  1.43it/s]\u001B[A\n",
      "Processing examples in test:  10%|▉         | 998/10000 [13:16<1:31:50,  1.63it/s]\u001B[A"
     ]
    },
    {
     "name": "stdout",
     "output_type": "stream",
     "text": [
      "Failed to transform A Skier ski-jumping while two other skiers watch his act. or A skier down the road skiying.. Retrying 5 more times ...\n",
      "Failed to transform A Skier ski-jumping while two other skiers watch his act. or A skier down the road skiying.. Retrying 4 more times ...\n",
      "Failed to transform A Skier ski-jumping while two other skiers watch his act. or A skier down the road skiying.. Retrying 3 more times ...\n",
      "Failed to transform A Skier ski-jumping while two other skiers watch his act. or A skier down the road skiying.. Retrying 2 more times ...\n"
     ]
    },
    {
     "name": "stderr",
     "output_type": "stream",
     "text": [
      "\n",
      "Processing examples in test:  10%|█         | 1000/10000 [13:23<3:40:01,  1.47s/it]\u001B[A"
     ]
    },
    {
     "name": "stdout",
     "output_type": "stream",
     "text": [
      "Failed to transform A Skier ski-jumping while two other skiers watch his act. or A skier down the road skiying.. Retrying 1 more times ...\n",
      "Failed to transform A Skier ski-jumping while two other skiers watch his act. or A skier preparing a trick.. Retrying 5 more times ...\n",
      "Failed to transform A Skier ski-jumping while two other skiers watch his act. or A skier preparing a trick.. Retrying 4 more times ...\n",
      "Failed to transform A Skier ski-jumping while two other skiers watch his act. or A skier preparing a trick.. Retrying 3 more times ...\n",
      "Failed to transform A Skier ski-jumping while two other skiers watch his act. or A skier preparing a trick.. Retrying 2 more times ...\n"
     ]
    },
    {
     "name": "stderr",
     "output_type": "stream",
     "text": [
      "\n",
      "Processing examples in test:  10%|█         | 1001/10000 [13:30<5:57:25,  2.38s/it]\u001B[A"
     ]
    },
    {
     "name": "stdout",
     "output_type": "stream",
     "text": [
      "Failed to transform A Skier ski-jumping while two other skiers watch his act. or A skier preparing a trick.. Retrying 1 more times ...\n"
     ]
    },
    {
     "name": "stderr",
     "output_type": "stream",
     "text": [
      "\n",
      "Processing examples in test:  10%|█         | 1003/10000 [13:32<4:55:30,  1.97s/it]\u001B[A\n",
      "Processing examples in test:  10%|█         | 1004/10000 [13:33<4:34:07,  1.83s/it]\u001B[A\n",
      "Processing examples in test:  10%|█         | 1006/10000 [13:34<3:29:39,  1.40s/it]\u001B[A\n",
      "Processing examples in test:  10%|█         | 1008/10000 [13:36<3:00:50,  1.21s/it]\u001B[A\n",
      "Processing examples in test:  10%|█         | 1009/10000 [13:37<3:02:12,  1.22s/it]\u001B[A\n",
      "Processing examples in test:  10%|█         | 1010/10000 [13:39<3:25:25,  1.37s/it]\u001B[A\n",
      "Processing examples in test:  10%|█         | 1011/10000 [13:41<3:45:43,  1.51s/it]\u001B[A\n",
      "Processing examples in test:  10%|█         | 1012/10000 [13:42<3:19:44,  1.33s/it]\u001B[A\n",
      "Processing examples in test:  10%|█         | 1013/10000 [13:44<3:44:39,  1.50s/it]\u001B[A"
     ]
    },
    {
     "name": "stdout",
     "output_type": "stream",
     "text": [
      "Failed to transform A black mother in an orange dress with her two little boys and husband at an outdoor market stand. or A family skeet shooting.. Retrying 5 more times ...\n",
      "Failed to transform A black mother in an orange dress with her two little boys and husband at an outdoor market stand. or A family skeet shooting.. Retrying 4 more times ...\n",
      "Failed to transform A black mother in an orange dress with her two little boys and husband at an outdoor market stand. or A family skeet shooting.. Retrying 3 more times ...\n",
      "Failed to transform A black mother in an orange dress with her two little boys and husband at an outdoor market stand. or A family skeet shooting.. Retrying 2 more times ...\n"
     ]
    },
    {
     "name": "stderr",
     "output_type": "stream",
     "text": [
      "\n",
      "Processing examples in test:  10%|█         | 1015/10000 [13:50<5:27:14,  2.19s/it]\u001B[A"
     ]
    },
    {
     "name": "stdout",
     "output_type": "stream",
     "text": [
      "Failed to transform A black mother in an orange dress with her two little boys and husband at an outdoor market stand. or A family skeet shooting.. Retrying 1 more times ...\n",
      "Failed to transform A black mother in an orange dress with her two little boys and husband at an outdoor market stand. or People at an outdoor market.. Retrying 5 more times ...\n",
      "Failed to transform A black mother in an orange dress with her two little boys and husband at an outdoor market stand. or People at an outdoor market.. Retrying 4 more times ...\n",
      "Failed to transform A black mother in an orange dress with her two little boys and husband at an outdoor market stand. or People at an outdoor market.. Retrying 3 more times ...\n",
      "Failed to transform A black mother in an orange dress with her two little boys and husband at an outdoor market stand. or People at an outdoor market.. Retrying 2 more times ...\n"
     ]
    },
    {
     "name": "stderr",
     "output_type": "stream",
     "text": [
      "\n",
      "Processing examples in test:  10%|█         | 1017/10000 [13:55<5:56:03,  2.38s/it]\u001B[A"
     ]
    },
    {
     "name": "stdout",
     "output_type": "stream",
     "text": [
      "Failed to transform A black mother in an orange dress with her two little boys and husband at an outdoor market stand. or People at an outdoor market.. Retrying 1 more times ...\n"
     ]
    },
    {
     "name": "stderr",
     "output_type": "stream",
     "text": [
      "\n",
      "Processing examples in test:  10%|█         | 1019/10000 [13:57<4:39:02,  1.86s/it]\u001B[A\n",
      "Processing examples in test:  10%|█         | 1021/10000 [13:58<3:23:14,  1.36s/it]\u001B[A\n",
      "Processing examples in test:  10%|█         | 1022/10000 [13:59<3:03:58,  1.23s/it]\u001B[A\n",
      "Processing examples in test:  10%|█         | 1026/10000 [13:59<1:40:05,  1.49it/s]\u001B[A\n",
      "Processing examples in test:  10%|█         | 1029/10000 [14:00<1:15:50,  1.97it/s]\u001B[A\n",
      "Processing examples in test:  10%|█         | 1032/10000 [14:02<1:17:57,  1.92it/s]\u001B[A\n",
      "Processing examples in test:  10%|█         | 1033/10000 [14:04<1:50:53,  1.35it/s]\u001B[A\n",
      "Processing examples in test:  10%|█         | 1034/10000 [14:05<2:07:29,  1.17it/s]\u001B[A\n",
      "Processing examples in test:  10%|█         | 1035/10000 [14:07<2:37:54,  1.06s/it]\u001B[A\n",
      "Processing examples in test:  10%|█         | 1036/10000 [14:09<3:01:13,  1.21s/it]\u001B[A\n",
      "Processing examples in test:  10%|█         | 1037/10000 [14:11<3:45:58,  1.51s/it]\u001B[A\n",
      "Processing examples in test:  10%|█         | 1040/10000 [14:14<2:52:41,  1.16s/it]\u001B[A"
     ]
    },
    {
     "name": "stdout",
     "output_type": "stream",
     "text": [
      "Failed to transform A man is walking past a large sign that says E.S.E. Electronics. or There is a man next to a sign.. Retrying 5 more times ...\n",
      "Failed to transform A man is walking past a large sign that says E.S.E. Electronics. or There is a man next to a sign.. Retrying 4 more times ...\n",
      "Failed to transform A man is walking past a large sign that says E.S.E. Electronics. or There is a man next to a sign.. Retrying 3 more times ...\n",
      "Failed to transform A man is walking past a large sign that says E.S.E. Electronics. or There is a man next to a sign.. Retrying 2 more times ...\n"
     ]
    },
    {
     "name": "stderr",
     "output_type": "stream",
     "text": [
      "\n",
      "Processing examples in test:  10%|█         | 1042/10000 [14:19<3:59:36,  1.60s/it]\u001B[A"
     ]
    },
    {
     "name": "stdout",
     "output_type": "stream",
     "text": [
      "Failed to transform A man is walking past a large sign that says E.S.E. Electronics. or There is a man next to a sign.. Retrying 1 more times ...\n"
     ]
    },
    {
     "name": "stderr",
     "output_type": "stream",
     "text": [
      "\n",
      "Processing examples in test:  10%|█         | 1044/10000 [14:20<3:09:05,  1.27s/it]\u001B[A\n",
      "Processing examples in test:  10%|█         | 1045/10000 [14:21<3:07:51,  1.26s/it]\u001B[A"
     ]
    },
    {
     "name": "stdout",
     "output_type": "stream",
     "text": [
      "Failed to transform An African American man is posing in front of an E.S.E. Electronics advertisement billboard after purchasing items from the local liquor store. or Man takes a picture with advertiser after purchasing their brand of liquor at a store they are promoting.. Retrying 5 more times ...\n",
      "Failed to transform An African American man is posing in front of an E.S.E. Electronics advertisement billboard after purchasing items from the local liquor store. or Man takes a picture with advertiser after purchasing their brand of liquor at a store they are promoting.. Retrying 4 more times ...\n",
      "Failed to transform An African American man is posing in front of an E.S.E. Electronics advertisement billboard after purchasing items from the local liquor store. or Man takes a picture with advertiser after purchasing their brand of liquor at a store they are promoting.. Retrying 3 more times ...\n",
      "Failed to transform An African American man is posing in front of an E.S.E. Electronics advertisement billboard after purchasing items from the local liquor store. or Man takes a picture with advertiser after purchasing their brand of liquor at a store they are promoting.. Retrying 2 more times ...\n"
     ]
    },
    {
     "name": "stderr",
     "output_type": "stream",
     "text": [
      "\n",
      "Processing examples in test:  10%|█         | 1047/10000 [14:27<4:45:35,  1.91s/it]\u001B[A"
     ]
    },
    {
     "name": "stdout",
     "output_type": "stream",
     "text": [
      "Failed to transform An African American man is posing in front of an E.S.E. Electronics advertisement billboard after purchasing items from the local liquor store. or Man takes a picture with advertiser after purchasing their brand of liquor at a store they are promoting.. Retrying 1 more times ...\n"
     ]
    },
    {
     "name": "stderr",
     "output_type": "stream",
     "text": [
      "\n",
      "Processing examples in test:  11%|█         | 1051/10000 [14:29<2:59:42,  1.20s/it]\u001B[A"
     ]
    },
    {
     "name": "stdout",
     "output_type": "stream",
     "text": [
      "Failed to transform with A male guitarist playing his intrument for children.. Retrying 5 more times...\n",
      "Failed to transform with A male guitarist playing his intrument for children.. Retrying 4 more times...\n",
      "Failed to transform with A male guitarist playing his intrument for children.. Retrying 3 more times...\n",
      "Failed to transform with A male guitarist playing his intrument for children.. Retrying 2 more times...\n"
     ]
    },
    {
     "name": "stderr",
     "output_type": "stream",
     "text": [
      "\n",
      "Processing examples in test:  11%|█         | 1054/10000 [14:34<3:10:30,  1.28s/it]\u001B[A"
     ]
    },
    {
     "name": "stdout",
     "output_type": "stream",
     "text": [
      "Failed to transform with A male guitarist playing his intrument for children.. Retrying 1 more times...\n"
     ]
    },
    {
     "name": "stderr",
     "output_type": "stream",
     "text": [
      "\n",
      "Processing examples in test:  11%|█         | 1058/10000 [14:36<2:22:41,  1.04it/s]\u001B[A\n",
      "Processing examples in test:  11%|█         | 1059/10000 [14:36<2:19:17,  1.07it/s]\u001B[A\n",
      "Processing examples in test:  11%|█         | 1061/10000 [14:38<2:22:32,  1.05it/s]\u001B[A\n",
      "Processing examples in test:  11%|█         | 1063/10000 [14:40<2:15:21,  1.10it/s]\u001B[A\n",
      "Processing examples in test:  11%|█         | 1065/10000 [14:42<2:15:19,  1.10it/s]\u001B[A\n",
      "Processing examples in test:  11%|█         | 1066/10000 [14:43<2:37:09,  1.06s/it]\u001B[A\n",
      "Processing examples in test:  11%|█         | 1067/10000 [14:45<2:58:41,  1.20s/it]\u001B[A\n",
      "Processing examples in test:  11%|█         | 1068/10000 [14:47<3:21:30,  1.35s/it]\u001B[A\n",
      "Processing examples in test:  11%|█         | 1069/10000 [14:49<3:46:01,  1.52s/it]\u001B[A\n",
      "Processing examples in test:  11%|█         | 1070/10000 [14:51<3:53:51,  1.57s/it]\u001B[A\n",
      "Processing examples in test:  11%|█         | 1073/10000 [14:53<2:43:20,  1.10s/it]\u001B[A\n",
      "Processing examples in test:  11%|█         | 1074/10000 [14:54<2:42:20,  1.09s/it]\u001B[A\n",
      "Processing examples in test:  11%|█         | 1075/10000 [14:56<3:06:55,  1.26s/it]\u001B[A\n",
      "Processing examples in test:  11%|█         | 1076/10000 [14:57<2:50:24,  1.15s/it]\u001B[A\n",
      "Processing examples in test:  11%|█         | 1078/10000 [14:58<2:34:57,  1.04s/it]\u001B[A\n",
      "Processing examples in test:  11%|█         | 1079/10000 [14:59<2:34:44,  1.04s/it]\u001B[A\n",
      "Processing examples in test:  11%|█         | 1082/10000 [15:01<2:04:04,  1.20it/s]\u001B[A\n",
      "Processing examples in test:  11%|█         | 1083/10000 [15:03<2:14:57,  1.10it/s]\u001B[A\n",
      "Processing examples in test:  11%|█         | 1085/10000 [15:03<1:44:57,  1.42it/s]\u001B[A\n",
      "Processing examples in test:  11%|█         | 1088/10000 [15:04<1:16:42,  1.94it/s]\u001B[A\n",
      "Processing examples in test:  11%|█         | 1089/10000 [15:06<1:47:41,  1.38it/s]\u001B[A\n",
      "Processing examples in test:  11%|█         | 1091/10000 [15:08<2:01:40,  1.22it/s]\u001B[A\n",
      "Processing examples in test:  11%|█         | 1092/10000 [15:10<2:33:51,  1.04s/it]\u001B[A\n",
      "Processing examples in test:  11%|█         | 1094/10000 [15:12<2:41:47,  1.09s/it]\u001B[A\n",
      "Processing examples in test:  11%|█         | 1095/10000 [15:13<2:42:43,  1.10s/it]\u001B[A\n",
      "Processing examples in test:  11%|█         | 1096/10000 [15:15<3:12:59,  1.30s/it]\u001B[A\n",
      "Processing examples in test:  11%|█         | 1097/10000 [15:16<2:50:38,  1.15s/it]\u001B[A\n",
      "Processing examples in test:  11%|█         | 1098/10000 [15:17<3:00:49,  1.22s/it]\u001B[A\n",
      "Processing examples in test:  11%|█         | 1100/10000 [15:19<2:28:41,  1.00s/it]\u001B[A\n",
      "Processing examples in test:  11%|█         | 1102/10000 [15:19<1:52:01,  1.32it/s]\u001B[A\n",
      "Processing examples in test:  11%|█         | 1107/10000 [15:21<1:20:00,  1.85it/s]\u001B[A"
     ]
    },
    {
     "name": "stdout",
     "output_type": "stream",
     "text": [
      "Failed to transform A young boy giving his brother a piggyback ride or A boy is playing monopoly with his brother. Retrying 5 more times ...\n",
      "Failed to transform A young boy giving his brother a piggyback ride or A boy is playing monopoly with his brother. Retrying 4 more times ...\n",
      "Failed to transform A young boy giving his brother a piggyback ride or A boy is playing monopoly with his brother. Retrying 3 more times ...\n",
      "Failed to transform A young boy giving his brother a piggyback ride or A boy is playing monopoly with his brother. Retrying 2 more times ...\n"
     ]
    },
    {
     "name": "stderr",
     "output_type": "stream",
     "text": [
      "\n",
      "Processing examples in test:  11%|█         | 1109/10000 [15:26<2:22:42,  1.04it/s]\u001B[A"
     ]
    },
    {
     "name": "stdout",
     "output_type": "stream",
     "text": [
      "Failed to transform A young boy giving his brother a piggyback ride or A boy is playing monopoly with his brother. Retrying 1 more times ...\n",
      "Failed to transform A young boy giving his brother a piggyback ride or A boy is giving his brother a piggyback ride in the park. Retrying 5 more times ...\n",
      "Failed to transform A young boy giving his brother a piggyback ride or A boy is giving his brother a piggyback ride in the park. Retrying 4 more times ...\n",
      "Failed to transform A young boy giving his brother a piggyback ride or A boy is giving his brother a piggyback ride in the park. Retrying 3 more times ...\n",
      "Failed to transform A young boy giving his brother a piggyback ride or A boy is giving his brother a piggyback ride in the park. Retrying 2 more times ...\n"
     ]
    },
    {
     "name": "stderr",
     "output_type": "stream",
     "text": [
      "\n",
      "Processing examples in test:  11%|█         | 1110/10000 [15:31<3:49:40,  1.55s/it]\u001B[A"
     ]
    },
    {
     "name": "stdout",
     "output_type": "stream",
     "text": [
      "Failed to transform A young boy giving his brother a piggyback ride or A boy is giving his brother a piggyback ride in the park. Retrying 1 more times ...\n"
     ]
    },
    {
     "name": "stderr",
     "output_type": "stream",
     "text": [
      "\n",
      "Processing examples in test:  11%|█         | 1111/10000 [15:32<3:50:00,  1.55s/it]\u001B[A\n",
      "Processing examples in test:  11%|█         | 1113/10000 [15:34<3:19:21,  1.35s/it]\u001B[A\n",
      "Processing examples in test:  11%|█         | 1115/10000 [15:36<2:52:46,  1.17s/it]\u001B[A\n",
      "Processing examples in test:  11%|█         | 1117/10000 [15:38<2:41:01,  1.09s/it]\u001B[A\n",
      "Processing examples in test:  11%|█         | 1119/10000 [15:40<2:36:48,  1.06s/it]\u001B[A\n",
      "Processing examples in test:  11%|█         | 1120/10000 [15:41<2:39:43,  1.08s/it]\u001B[A\n",
      "Processing examples in test:  11%|█         | 1122/10000 [15:42<2:07:57,  1.16it/s]\u001B[A\n",
      "Processing examples in test:  11%|█         | 1123/10000 [15:43<2:31:01,  1.02s/it]\u001B[A\n",
      "Processing examples in test:  11%|█▏        | 1125/10000 [15:45<2:27:26,  1.00it/s]\u001B[A\n",
      "Processing examples in test:  11%|█▏        | 1129/10000 [15:47<1:40:16,  1.47it/s]\u001B[A\n",
      "Processing examples in test:  11%|█▏        | 1131/10000 [15:48<1:39:28,  1.49it/s]\u001B[A\n",
      "Processing examples in test:  11%|█▏        | 1134/10000 [15:50<1:37:54,  1.51it/s]\u001B[A\n",
      "Processing examples in test:  11%|█▏        | 1135/10000 [15:51<1:56:43,  1.27it/s]\u001B[A\n",
      "Processing examples in test:  11%|█▏        | 1138/10000 [15:53<1:33:47,  1.57it/s]\u001B[A\n",
      "Processing examples in test:  11%|█▏        | 1141/10000 [15:54<1:19:19,  1.86it/s]\u001B[A\n",
      "Processing examples in test:  11%|█▏        | 1143/10000 [15:55<1:20:01,  1.84it/s]\u001B[A\n",
      "Processing examples in test:  11%|█▏        | 1144/10000 [15:56<1:31:44,  1.61it/s]\u001B[A\n",
      "Processing examples in test:  11%|█▏        | 1146/10000 [15:58<1:47:32,  1.37it/s]\u001B[A\n",
      "Processing examples in test:  11%|█▏        | 1147/10000 [15:59<1:48:43,  1.36it/s]\u001B[A\n",
      "Processing examples in test:  11%|█▏        | 1148/10000 [16:00<2:21:23,  1.04it/s]\u001B[A\n",
      "Processing examples in test:  12%|█▏        | 1154/10000 [16:01<1:02:11,  2.37it/s]\u001B[A\n",
      "Processing examples in test:  12%|█▏        | 1155/10000 [16:02<1:07:05,  2.20it/s]\u001B[A\n",
      "Processing examples in test:  12%|█▏        | 1160/10000 [16:03<53:25,  2.76it/s]  \u001B[A\n",
      "Processing examples in test:  12%|█▏        | 1164/10000 [16:05<52:19,  2.81it/s]\u001B[A\n",
      "Processing examples in test:  12%|█▏        | 1167/10000 [16:07<1:11:42,  2.05it/s]\u001B[A\n",
      "Processing examples in test:  12%|█▏        | 1168/10000 [16:08<1:21:30,  1.81it/s]\u001B[A\n",
      "Processing examples in test:  12%|█▏        | 1171/10000 [16:10<1:25:29,  1.72it/s]\u001B[A\n",
      "Processing examples in test:  12%|█▏        | 1172/10000 [16:11<1:28:39,  1.66it/s]\u001B[A\n",
      "Processing examples in test:  12%|█▏        | 1173/10000 [16:12<1:33:43,  1.57it/s]\u001B[A\n",
      "Processing examples in test:  12%|█▏        | 1174/10000 [16:15<2:39:56,  1.09s/it]\u001B[A\n",
      "Processing examples in test:  12%|█▏        | 1175/10000 [16:17<3:07:54,  1.28s/it]\u001B[A\n",
      "Processing examples in test:  12%|█▏        | 1177/10000 [16:18<2:27:31,  1.00s/it]\u001B[A\n",
      "Processing examples in test:  12%|█▏        | 1178/10000 [16:18<2:18:56,  1.06it/s]\u001B[A\n",
      "Processing examples in test:  12%|█▏        | 1179/10000 [16:20<2:49:40,  1.15s/it]\u001B[A\n",
      "Processing examples in test:  12%|█▏        | 1180/10000 [16:24<4:17:11,  1.75s/it]\u001B[A\n",
      "Processing examples in test:  12%|█▏        | 1181/10000 [16:25<4:17:02,  1.75s/it]\u001B[A\n",
      "Processing examples in test:  12%|█▏        | 1183/10000 [16:28<3:40:16,  1.50s/it]\u001B[A\n",
      "Processing examples in test:  12%|█▏        | 1185/10000 [16:29<2:36:30,  1.07s/it]\u001B[A\n",
      "Processing examples in test:  12%|█▏        | 1186/10000 [16:30<2:57:47,  1.21s/it]\u001B[A\n",
      "Processing examples in test:  12%|█▏        | 1188/10000 [16:31<2:20:32,  1.05it/s]\u001B[A\n",
      "Processing examples in test:  12%|█▏        | 1189/10000 [16:32<2:14:24,  1.09it/s]\u001B[A\n",
      "Processing examples in test:  12%|█▏        | 1192/10000 [16:34<1:51:26,  1.32it/s]\u001B[A\n",
      "Processing examples in test:  12%|█▏        | 1194/10000 [16:36<1:59:32,  1.23it/s]\u001B[A\n",
      "Processing examples in test:  12%|█▏        | 1196/10000 [16:37<1:39:20,  1.48it/s]\u001B[A\n",
      "Processing examples in test:  12%|█▏        | 1199/10000 [16:38<1:30:46,  1.62it/s]\u001B[A\n",
      "Processing examples in test:  12%|█▏        | 1202/10000 [16:39<1:11:29,  2.05it/s]\u001B[A\n",
      "Processing examples in test:  12%|█▏        | 1203/10000 [16:40<1:35:57,  1.53it/s]\u001B[A\n",
      "Processing examples in test:  12%|█▏        | 1204/10000 [16:42<2:03:34,  1.19it/s]\u001B[A\n",
      "Processing examples in test:  12%|█▏        | 1205/10000 [16:44<2:29:40,  1.02s/it]\u001B[A\n",
      "Processing examples in test:  12%|█▏        | 1206/10000 [16:45<2:39:38,  1.09s/it]\u001B[A\n",
      "Processing examples in test:  12%|█▏        | 1209/10000 [16:51<3:30:18,  1.44s/it]\u001B[A\n",
      "Processing examples in test:  12%|█▏        | 1212/10000 [16:51<2:18:37,  1.06it/s]\u001B[A\n",
      "Processing examples in test:  12%|█▏        | 1213/10000 [16:53<2:28:53,  1.02s/it]\u001B[A\n",
      "Processing examples in test:  12%|█▏        | 1218/10000 [16:55<1:43:13,  1.42it/s]\u001B[A\n",
      "Processing examples in test:  12%|█▏        | 1219/10000 [16:56<1:45:40,  1.38it/s]\u001B[A\n",
      "Processing examples in test:  12%|█▏        | 1222/10000 [16:58<1:44:27,  1.40it/s]\u001B[A\n",
      "Processing examples in test:  12%|█▏        | 1223/10000 [17:00<2:05:29,  1.17it/s]\u001B[A\n",
      "Processing examples in test:  12%|█▏        | 1224/10000 [17:01<2:19:09,  1.05it/s]\u001B[A\n",
      "Processing examples in test:  12%|█▏        | 1226/10000 [17:03<2:12:10,  1.11it/s]\u001B[A\n",
      "Processing examples in test:  12%|█▏        | 1227/10000 [17:04<2:20:48,  1.04it/s]\u001B[A\n",
      "Processing examples in test:  12%|█▏        | 1229/10000 [17:05<2:06:00,  1.16it/s]\u001B[A\n",
      "Processing examples in test:  12%|█▏        | 1230/10000 [17:07<2:26:18,  1.00s/it]\u001B[A\n",
      "Processing examples in test:  12%|█▏        | 1231/10000 [17:08<2:49:40,  1.16s/it]\u001B[A\n",
      "Processing examples in test:  12%|█▏        | 1232/10000 [17:09<2:37:30,  1.08s/it]\u001B[A\n",
      "Processing examples in test:  12%|█▏        | 1234/10000 [17:10<1:55:05,  1.27it/s]\u001B[A\n",
      "Processing examples in test:  12%|█▏        | 1236/10000 [17:11<1:39:48,  1.46it/s]\u001B[A\n",
      "Processing examples in test:  12%|█▏        | 1237/10000 [17:12<1:56:24,  1.25it/s]\u001B[A\n",
      "Processing examples in test:  12%|█▏        | 1239/10000 [17:13<1:33:25,  1.56it/s]\u001B[A\n",
      "Processing examples in test:  12%|█▏        | 1240/10000 [17:14<1:57:12,  1.25it/s]\u001B[A\n",
      "Processing examples in test:  12%|█▏        | 1241/10000 [17:16<2:21:24,  1.03it/s]\u001B[A\n",
      "Processing examples in test:  12%|█▏        | 1242/10000 [17:23<5:48:17,  2.39s/it]\u001B[A\n",
      "Processing examples in test:  12%|█▏        | 1244/10000 [17:24<4:15:08,  1.75s/it]\u001B[A\n",
      "Processing examples in test:  12%|█▏        | 1245/10000 [17:26<4:23:31,  1.81s/it]\u001B[A\n",
      "Processing examples in test:  12%|█▏        | 1246/10000 [17:28<4:31:55,  1.86s/it]\u001B[A\n",
      "Processing examples in test:  12%|█▏        | 1248/10000 [17:29<3:11:38,  1.31s/it]\u001B[A\n",
      "Processing examples in test:  12%|█▎        | 1250/10000 [17:30<2:20:31,  1.04it/s]\u001B[A\n",
      "Processing examples in test:  13%|█▎        | 1251/10000 [17:31<2:26:20,  1.00s/it]\u001B[A"
     ]
    },
    {
     "name": "stdout",
     "output_type": "stream",
     "text": [
      "Failed to transform A bearded man with a backpack on his back holding a tripod in front of a rocky creek and bridge. or The man was sitting indoors watching TV.. Retrying 5 more times ...\n",
      "Failed to transform A bearded man with a backpack on his back holding a tripod in front of a rocky creek and bridge. or The man was sitting indoors watching TV.. Retrying 4 more times ...\n",
      "Failed to transform A bearded man with a backpack on his back holding a tripod in front of a rocky creek and bridge. or The man was sitting indoors watching TV.. Retrying 3 more times ...\n",
      "Failed to transform A bearded man with a backpack on his back holding a tripod in front of a rocky creek and bridge. or The man was sitting indoors watching TV.. Retrying 2 more times ...\n"
     ]
    },
    {
     "name": "stderr",
     "output_type": "stream",
     "text": [
      "\n",
      "Processing examples in test:  13%|█▎        | 1254/10000 [17:37<3:22:57,  1.39s/it]\u001B[A"
     ]
    },
    {
     "name": "stdout",
     "output_type": "stream",
     "text": [
      "Failed to transform A bearded man with a backpack on his back holding a tripod in front of a rocky creek and bridge. or The man was sitting indoors watching TV.. Retrying 1 more times ...\n"
     ]
    },
    {
     "name": "stderr",
     "output_type": "stream",
     "text": [
      "\n",
      "Processing examples in test:  13%|█▎        | 1256/10000 [17:38<2:46:41,  1.14s/it]\u001B[A\n",
      "Processing examples in test:  13%|█▎        | 1257/10000 [17:39<2:53:23,  1.19s/it]\u001B[A\n",
      "Processing examples in test:  13%|█▎        | 1259/10000 [17:41<2:34:43,  1.06s/it]\u001B[A\n",
      "Processing examples in test:  13%|█▎        | 1260/10000 [17:43<3:02:44,  1.25s/it]\u001B[A\n",
      "Processing examples in test:  13%|█▎        | 1261/10000 [17:45<3:27:31,  1.42s/it]\u001B[A\n",
      "Processing examples in test:  13%|█▎        | 1262/10000 [17:53<7:05:11,  2.92s/it]\u001B[A\n",
      "Processing examples in test:  13%|█▎        | 1264/10000 [17:54<4:53:51,  2.02s/it]\u001B[A\n",
      "Processing examples in test:  13%|█▎        | 1267/10000 [17:58<4:00:18,  1.65s/it]\u001B[A\n",
      "Processing examples in test:  13%|█▎        | 1269/10000 [17:59<3:19:19,  1.37s/it]\u001B[A\n",
      "Processing examples in test:  13%|█▎        | 1270/10000 [18:01<3:17:37,  1.36s/it]\u001B[A\n",
      "Processing examples in test:  13%|█▎        | 1281/10000 [18:01<58:59,  2.46it/s]  \u001B[A\n",
      "Processing examples in test:  13%|█▎        | 1283/10000 [18:02<58:38,  2.48it/s]\u001B[A\n",
      "Processing examples in test:  13%|█▎        | 1285/10000 [18:04<1:11:32,  2.03it/s]\u001B[A\n",
      "Processing examples in test:  13%|█▎        | 1286/10000 [18:06<1:37:50,  1.48it/s]\u001B[A\n",
      "Processing examples in test:  13%|█▎        | 1287/10000 [18:07<1:52:59,  1.29it/s]\u001B[A\n",
      "Processing examples in test:  13%|█▎        | 1291/10000 [18:08<1:15:33,  1.92it/s]\u001B[A\n",
      "Processing examples in test:  13%|█▎        | 1292/10000 [18:10<1:43:18,  1.40it/s]\u001B[A\n",
      "Processing examples in test:  13%|█▎        | 1293/10000 [18:12<2:16:38,  1.06it/s]\u001B[A\n",
      "Processing examples in test:  13%|█▎        | 1298/10000 [18:13<1:17:13,  1.88it/s]\u001B[A\n",
      "Processing examples in test:  13%|█▎        | 1300/10000 [18:15<1:32:47,  1.56it/s]\u001B[A\n",
      "Processing examples in test:  13%|█▎        | 1301/10000 [18:17<2:02:15,  1.19it/s]\u001B[A\n",
      "Processing examples in test:  13%|█▎        | 1303/10000 [18:20<2:17:36,  1.05it/s]\u001B[A\n",
      "Processing examples in test:  13%|█▎        | 1304/10000 [18:21<2:34:49,  1.07s/it]\u001B[A\n",
      "Processing examples in test:  13%|█▎        | 1307/10000 [18:22<1:50:07,  1.32it/s]\u001B[A\n",
      "Processing examples in test:  13%|█▎        | 1311/10000 [18:23<1:21:07,  1.79it/s]\u001B[A\n",
      "Processing examples in test:  13%|█▎        | 1313/10000 [18:25<1:24:04,  1.72it/s]\u001B[A\n",
      "Processing examples in test:  13%|█▎        | 1314/10000 [18:26<1:46:23,  1.36it/s]\u001B[A\n",
      "Processing examples in test:  13%|█▎        | 1315/10000 [18:28<2:12:30,  1.09it/s]\u001B[A\n",
      "Processing examples in test:  13%|█▎        | 1317/10000 [18:29<1:54:48,  1.26it/s]\u001B[A\n",
      "Processing examples in test:  13%|█▎        | 1318/10000 [18:32<2:39:24,  1.10s/it]\u001B[A\n",
      "Processing examples in test:  13%|█▎        | 1320/10000 [18:34<2:31:56,  1.05s/it]\u001B[A\n",
      "Processing examples in test:  13%|█▎        | 1322/10000 [18:35<2:10:49,  1.11it/s]\u001B[A"
     ]
    },
    {
     "name": "stdout",
     "output_type": "stream",
     "text": [
      "Failed to transform A musician playing a guitar and harmonica singing a song with \"Whatever it Takes\" written on his guitar. or The musician is singing.. Retrying 5 more times ...\n",
      "Failed to transform A musician playing a guitar and harmonica singing a song with \"Whatever it Takes\" written on his guitar. or The musician is singing.. Retrying 4 more times ...\n",
      "Failed to transform A musician playing a guitar and harmonica singing a song with \"Whatever it Takes\" written on his guitar. or The musician is singing.. Retrying 3 more times ...\n",
      "Failed to transform A musician playing a guitar and harmonica singing a song with \"Whatever it Takes\" written on his guitar. or The musician is singing.. Retrying 2 more times ...\n"
     ]
    },
    {
     "name": "stderr",
     "output_type": "stream",
     "text": [
      "\n",
      "Processing examples in test:  13%|█▎        | 1325/10000 [18:41<3:25:54,  1.42s/it]\u001B[A"
     ]
    },
    {
     "name": "stdout",
     "output_type": "stream",
     "text": [
      "Failed to transform A musician playing a guitar and harmonica singing a song with \"Whatever it Takes\" written on his guitar. or The musician is singing.. Retrying 1 more times ...\n"
     ]
    },
    {
     "name": "stderr",
     "output_type": "stream",
     "text": [
      "\n",
      "Processing examples in test:  13%|█▎        | 1327/10000 [18:42<2:43:30,  1.13s/it]\u001B[A\n",
      "Processing examples in test:  13%|█▎        | 1328/10000 [18:44<3:04:49,  1.28s/it]\u001B[A\n",
      "Processing examples in test:  13%|█▎        | 1334/10000 [18:46<1:40:37,  1.44it/s]\u001B[A\n",
      "Processing examples in test:  13%|█▎        | 1335/10000 [18:47<1:57:29,  1.23it/s]\u001B[A\n",
      "Processing examples in test:  13%|█▎        | 1338/10000 [18:50<1:53:28,  1.27it/s]\u001B[A\n",
      "Processing examples in test:  13%|█▎        | 1341/10000 [18:52<1:54:15,  1.26it/s]\u001B[A\n",
      "Processing examples in test:  13%|█▎        | 1344/10000 [18:54<1:52:01,  1.29it/s]\u001B[A\n",
      "Processing examples in test:  13%|█▎        | 1349/10000 [18:56<1:28:09,  1.64it/s]\u001B[A\n",
      "Processing examples in test:  14%|█▎        | 1350/10000 [18:57<1:36:01,  1.50it/s]\u001B[A\n",
      "Processing examples in test:  14%|█▎        | 1352/10000 [18:59<1:34:06,  1.53it/s]\u001B[A\n",
      "Processing examples in test:  14%|█▎        | 1354/10000 [19:01<1:51:54,  1.29it/s]\u001B[A\n",
      "Processing examples in test:  14%|█▎        | 1355/10000 [19:02<1:59:37,  1.20it/s]\u001B[A\n",
      "Processing examples in test:  14%|█▎        | 1358/10000 [19:03<1:34:11,  1.53it/s]\u001B[A\n",
      "Processing examples in test:  14%|█▎        | 1361/10000 [19:04<1:23:09,  1.73it/s]\u001B[A\n",
      "Processing examples in test:  14%|█▎        | 1362/10000 [19:06<1:48:45,  1.32it/s]\u001B[A\n",
      "Processing examples in test:  14%|█▎        | 1363/10000 [19:09<2:37:56,  1.10s/it]\u001B[A\n",
      "Processing examples in test:  14%|█▎        | 1364/10000 [19:12<3:44:38,  1.56s/it]\u001B[A\n",
      "Processing examples in test:  14%|█▎        | 1365/10000 [19:13<3:16:20,  1.36s/it]\u001B[A"
     ]
    },
    {
     "name": "stdout",
     "output_type": "stream",
     "text": [
      "Failed to transform A long dark-haired man sitting on the grass with a guitar in his lap in front of a blue sky. or A man is sitting outdoors.. Retrying 5 more times ...\n",
      "Failed to transform A long dark-haired man sitting on the grass with a guitar in his lap in front of a blue sky. or A man is sitting outdoors.. Retrying 4 more times ...\n",
      "Failed to transform A long dark-haired man sitting on the grass with a guitar in his lap in front of a blue sky. or A man is sitting outdoors.. Retrying 3 more times ...\n",
      "Failed to transform A long dark-haired man sitting on the grass with a guitar in his lap in front of a blue sky. or A man is sitting outdoors.. Retrying 2 more times ...\n"
     ]
    },
    {
     "name": "stderr",
     "output_type": "stream",
     "text": [
      "\n",
      "Processing examples in test:  14%|█▎        | 1368/10000 [19:20<4:13:28,  1.76s/it]\u001B[A"
     ]
    },
    {
     "name": "stdout",
     "output_type": "stream",
     "text": [
      "Failed to transform A long dark-haired man sitting on the grass with a guitar in his lap in front of a blue sky. or A man is sitting outdoors.. Retrying 1 more times ...\n"
     ]
    },
    {
     "name": "stderr",
     "output_type": "stream",
     "text": [
      "\n",
      "Processing examples in test:  14%|█▎        | 1370/10000 [19:20<3:10:57,  1.33s/it]\u001B[A\n",
      "Processing examples in test:  14%|█▎        | 1372/10000 [19:22<2:45:13,  1.15s/it]\u001B[A\n",
      "Processing examples in test:  14%|█▎        | 1373/10000 [19:24<3:06:20,  1.30s/it]\u001B[A\n",
      "Processing examples in test:  14%|█▎        | 1374/10000 [19:25<3:04:22,  1.28s/it]\u001B[A\n",
      "Processing examples in test:  14%|█▍        | 1376/10000 [19:27<2:36:17,  1.09s/it]\u001B[A\n",
      "Processing examples in test:  14%|█▍        | 1377/10000 [19:29<3:03:10,  1.27s/it]\u001B[A\n",
      "Processing examples in test:  14%|█▍        | 1379/10000 [19:30<2:33:15,  1.07s/it]\u001B[A\n",
      "Processing examples in test:  14%|█▍        | 1380/10000 [19:31<2:36:04,  1.09s/it]\u001B[A\n",
      "Processing examples in test:  14%|█▍        | 1382/10000 [19:33<2:32:53,  1.06s/it]\u001B[A\n",
      "Processing examples in test:  14%|█▍        | 1386/10000 [19:34<1:35:35,  1.50it/s]\u001B[A\n",
      "Processing examples in test:  14%|█▍        | 1387/10000 [19:36<1:47:46,  1.33it/s]\u001B[A\n",
      "Processing examples in test:  14%|█▍        | 1389/10000 [19:37<1:42:58,  1.39it/s]\u001B[A\n",
      "Processing examples in test:  14%|█▍        | 1390/10000 [19:38<2:02:05,  1.18it/s]\u001B[A\n",
      "Processing examples in test:  14%|█▍        | 1391/10000 [19:40<2:32:11,  1.06s/it]\u001B[A\n",
      "Processing examples in test:  14%|█▍        | 1392/10000 [19:42<3:01:39,  1.27s/it]\u001B[A"
     ]
    },
    {
     "name": "stdout",
     "output_type": "stream",
     "text": [
      "Failed to transform A girl laying on the ground on her cellphone. or A girl on her cellphone lying on the ground.. Retrying 5 more times ...\n",
      "Failed to transform A girl laying on the ground on her cellphone. or A girl on her cellphone lying on the ground.. Retrying 4 more times ...\n",
      "Failed to transform A girl laying on the ground on her cellphone. or A girl on her cellphone lying on the ground.. Retrying 3 more times ...\n",
      "Failed to transform A girl laying on the ground on her cellphone. or A girl on her cellphone lying on the ground.. Retrying 2 more times ...\n"
     ]
    },
    {
     "name": "stderr",
     "output_type": "stream",
     "text": [
      "\n",
      "Processing examples in test:  14%|█▍        | 1396/10000 [19:49<3:38:01,  1.52s/it]\u001B[A"
     ]
    },
    {
     "name": "stdout",
     "output_type": "stream",
     "text": [
      "Failed to transform A girl laying on the ground on her cellphone. or A girl on her cellphone lying on the ground.. Retrying 1 more times ...\n"
     ]
    },
    {
     "name": "stderr",
     "output_type": "stream",
     "text": [
      "\n",
      "Processing examples in test:  14%|█▍        | 1399/10000 [19:50<2:38:18,  1.10s/it]\u001B[A\n",
      "Processing examples in test:  14%|█▍        | 1400/10000 [19:53<3:06:27,  1.30s/it]\u001B[A"
     ]
    },
    {
     "name": "stdout",
     "output_type": "stream",
     "text": [
      "Failed to transform four people standing on a hiking trail in a forest with big tree logs on the ground close to them. or tall humans standing.. Retrying 5 more times ...\n",
      "Failed to transform four people standing on a hiking trail in a forest with big tree logs on the ground close to them. or tall humans standing.. Retrying 4 more times ...\n",
      "Failed to transform four people standing on a hiking trail in a forest with big tree logs on the ground close to them. or tall humans standing.. Retrying 3 more times ...\n",
      "Failed to transform four people standing on a hiking trail in a forest with big tree logs on the ground close to them. or tall humans standing.. Retrying 2 more times ...\n"
     ]
    },
    {
     "name": "stderr",
     "output_type": "stream",
     "text": [
      "\n",
      "Processing examples in test:  14%|█▍        | 1406/10000 [19:59<2:49:31,  1.18s/it]\u001B[A"
     ]
    },
    {
     "name": "stdout",
     "output_type": "stream",
     "text": [
      "Failed to transform four people standing on a hiking trail in a forest with big tree logs on the ground close to them. or tall humans standing.. Retrying 1 more times ...\n"
     ]
    },
    {
     "name": "stderr",
     "output_type": "stream",
     "text": [
      "\n",
      "Processing examples in test:  14%|█▍        | 1409/10000 [20:01<2:21:54,  1.01it/s]\u001B[A\n",
      "Processing examples in test:  14%|█▍        | 1410/10000 [20:04<2:52:46,  1.21s/it]\u001B[A\n",
      "Processing examples in test:  14%|█▍        | 1411/10000 [20:04<2:42:52,  1.14s/it]\u001B[A\n",
      "Processing examples in test:  14%|█▍        | 1412/10000 [20:06<3:07:11,  1.31s/it]\u001B[A\n",
      "Processing examples in test:  14%|█▍        | 1415/10000 [20:07<2:02:48,  1.17it/s]\u001B[A\n",
      "Processing examples in test:  14%|█▍        | 1418/10000 [20:08<1:38:20,  1.45it/s]\u001B[A\n",
      "Processing examples in test:  14%|█▍        | 1420/10000 [20:10<1:49:17,  1.31it/s]\u001B[A"
     ]
    },
    {
     "name": "stdout",
     "output_type": "stream",
     "text": [
      "Failed to transform A boy kneeling on a skateboard riding down that street or A boy on a skateboard riding down the street his house is on. Retrying 5 more times ...\n",
      "Failed to transform A on a skateboard riding down boy kneeling that street or A boy on a skateboard riding down the street his house is on. Retrying 4 more times ...\n",
      "Failed to transform A on a skateboard riding down boy kneeling that there street or A boy on a skateboard riding down the street his house is on. Retrying 3 more times ...\n",
      "Failed to transform The A the skateboard down boy riding kneeling that there street or A boy on a skateboard riding down the street his house is on. Retrying 2 more times ...\n"
     ]
    },
    {
     "name": "stderr",
     "output_type": "stream",
     "text": [
      "\n",
      "Processing examples in test:  14%|█▍        | 1422/10000 [20:19<4:04:11,  1.71s/it]\u001B[A"
     ]
    },
    {
     "name": "stdout",
     "output_type": "stream",
     "text": [
      "Failed to transform It is kneeling that there street that the A the skateboard down boy riding or A boy on a skateboard riding down the street his house is on. Retrying 1 more times ...\n"
     ]
    },
    {
     "name": "stderr",
     "output_type": "stream",
     "text": [
      "\n",
      "Processing examples in test:  14%|█▍        | 1423/10000 [20:20<4:02:10,  1.69s/it]\u001B[A\n",
      "Processing examples in test:  14%|█▍        | 1425/10000 [20:21<3:04:36,  1.29s/it]\u001B[A\n",
      "Processing examples in test:  14%|█▍        | 1426/10000 [20:23<3:07:04,  1.31s/it]\u001B[A\n",
      "Processing examples in test:  14%|█▍        | 1428/10000 [20:25<2:49:43,  1.19s/it]\u001B[A\n",
      "Processing examples in test:  14%|█▍        | 1429/10000 [20:26<2:55:46,  1.23s/it]\u001B[A\n",
      "Processing examples in test:  14%|█▍        | 1430/10000 [20:27<2:59:48,  1.26s/it]\u001B[A\n",
      "Processing examples in test:  14%|█▍        | 1433/10000 [20:29<2:16:30,  1.05it/s]\u001B[A\n",
      "Processing examples in test:  14%|█▍        | 1435/10000 [20:31<2:00:49,  1.18it/s]\u001B[A\n",
      "Processing examples in test:  14%|█▍        | 1436/10000 [20:32<2:07:55,  1.12it/s]\u001B[A\n",
      "Processing examples in test:  14%|█▍        | 1438/10000 [20:32<1:42:29,  1.39it/s]\u001B[A\n",
      "Processing examples in test:  14%|█▍        | 1439/10000 [20:34<2:01:34,  1.17it/s]\u001B[A\n",
      "Processing examples in test:  14%|█▍        | 1440/10000 [20:35<1:58:04,  1.21it/s]\u001B[A\n",
      "Processing examples in test:  14%|█▍        | 1442/10000 [20:36<2:03:18,  1.16it/s]\u001B[A\n",
      "Processing examples in test:  14%|█▍        | 1445/10000 [20:38<1:38:55,  1.44it/s]\u001B[A\n",
      "Processing examples in test:  14%|█▍        | 1446/10000 [20:40<2:07:33,  1.12it/s]\u001B[A\n",
      "Processing examples in test:  14%|█▍        | 1447/10000 [20:41<2:31:12,  1.06s/it]\u001B[A\n",
      "Processing examples in test:  14%|█▍        | 1448/10000 [20:43<2:56:02,  1.24s/it]\u001B[A\n",
      "Processing examples in test:  14%|█▍        | 1450/10000 [20:45<2:34:43,  1.09s/it]\u001B[A\n",
      "Processing examples in test:  15%|█▍        | 1454/10000 [20:47<1:48:43,  1.31it/s]\u001B[A\n",
      "Processing examples in test:  15%|█▍        | 1455/10000 [20:48<2:02:24,  1.16it/s]\u001B[A\n",
      "Processing examples in test:  15%|█▍        | 1457/10000 [20:50<2:03:44,  1.15it/s]\u001B[A\n",
      "Processing examples in test:  15%|█▍        | 1458/10000 [20:51<2:01:34,  1.17it/s]\u001B[A\n",
      "Processing examples in test:  15%|█▍        | 1465/10000 [20:53<1:08:39,  2.07it/s]\u001B[A\n",
      "Processing examples in test:  15%|█▍        | 1468/10000 [20:55<1:14:53,  1.90it/s]\u001B[A\n",
      "Processing examples in test:  15%|█▍        | 1469/10000 [20:56<1:29:54,  1.58it/s]\u001B[A\n",
      "Processing examples in test:  15%|█▍        | 1472/10000 [21:03<2:54:36,  1.23s/it]\u001B[A\n",
      "Processing examples in test:  15%|█▍        | 1475/10000 [21:04<2:15:36,  1.05it/s]\u001B[A\n",
      "Processing examples in test:  15%|█▍        | 1480/10000 [21:06<1:37:41,  1.45it/s]\u001B[A\n",
      "Processing examples in test:  15%|█▍        | 1489/10000 [21:08<1:02:46,  2.26it/s]\u001B[A\n",
      "Processing examples in test:  15%|█▍        | 1492/10000 [21:10<1:03:14,  2.24it/s]\u001B[A\n",
      "Processing examples in test:  15%|█▍        | 1496/10000 [21:11<1:04:45,  2.19it/s]\u001B[A"
     ]
    },
    {
     "name": "stdout",
     "output_type": "stream",
     "text": [
      "Failed to transform A shirtless man with a white hat and no shoes sitting crisscross with his back against the wall holding up a white plastic cup. or A woman is walking.. Retrying 5 more times ...\n",
      "Failed to transform A shirtless man with a white hat and no shoes sitting crisscross with his back against the wall holding up a white plastic cup. or A woman is walking.. Retrying 4 more times ...\n",
      "Failed to transform A shirtless man with a white hat and no shoes sitting crisscross with his back against the wall holding up a white plastic cup. or A woman is walking.. Retrying 3 more times ...\n",
      "Failed to transform A shirtless man with a white hat and no shoes sitting crisscross with his back against the wall holding up a white plastic cup. or A woman is walking.. Retrying 2 more times ...\n"
     ]
    },
    {
     "name": "stderr",
     "output_type": "stream",
     "text": [
      "\n",
      "Processing examples in test:  15%|█▍        | 1497/10000 [21:17<2:11:17,  1.08it/s]\u001B[A"
     ]
    },
    {
     "name": "stdout",
     "output_type": "stream",
     "text": [
      "Failed to transform A shirtless man with a white hat and no shoes sitting crisscross with his back against the wall holding up a white plastic cup. or A woman is walking.. Retrying 1 more times ...\n"
     ]
    },
    {
     "name": "stderr",
     "output_type": "stream",
     "text": [
      "\n",
      "Processing examples in test:  15%|█▍        | 1498/10000 [21:19<2:31:36,  1.07s/it]\u001B[A\n",
      "Processing examples in test:  15%|█▍        | 1499/10000 [21:22<2:55:30,  1.24s/it]\u001B[A\n",
      "Processing examples in test:  15%|█▌        | 1500/10000 [21:24<3:19:56,  1.41s/it]\u001B[A\n",
      "Processing examples in test:  15%|█▌        | 1501/10000 [21:26<3:32:16,  1.50s/it]\u001B[A\n",
      "Processing examples in test:  15%|█▌        | 1503/10000 [21:27<2:37:40,  1.11s/it]\u001B[A\n",
      "Processing examples in test:  15%|█▌        | 1506/10000 [21:29<2:13:00,  1.06it/s]\u001B[A\n",
      "Processing examples in test:  15%|█▌        | 1508/10000 [21:30<2:01:36,  1.16it/s]\u001B[A\n",
      "Processing examples in test:  15%|█▌        | 1510/10000 [21:32<2:07:02,  1.11it/s]\u001B[A\n",
      "Processing examples in test:  15%|█▌        | 1514/10000 [21:34<1:40:16,  1.41it/s]\u001B[A\n",
      "Processing examples in test:  15%|█▌        | 1515/10000 [21:35<1:49:05,  1.30it/s]\u001B[A\n",
      "Processing examples in test:  15%|█▌        | 1518/10000 [21:37<1:42:04,  1.38it/s]\u001B[A\n",
      "Processing examples in test:  15%|█▌        | 1522/10000 [21:38<1:15:24,  1.87it/s]\u001B[A\n",
      "Processing examples in test:  15%|█▌        | 1523/10000 [21:39<1:27:46,  1.61it/s]\u001B[A\n",
      "Processing examples in test:  15%|█▌        | 1525/10000 [21:41<1:33:55,  1.50it/s]\u001B[A\n",
      "Processing examples in test:  15%|█▌        | 1527/10000 [21:42<1:27:02,  1.62it/s]\u001B[A\n",
      "Processing examples in test:  15%|█▌        | 1528/10000 [21:43<1:31:08,  1.55it/s]\u001B[A\n",
      "Processing examples in test:  15%|█▌        | 1531/10000 [21:44<1:21:50,  1.72it/s]\u001B[A\n",
      "Processing examples in test:  15%|█▌        | 1532/10000 [21:46<1:47:27,  1.31it/s]\u001B[A\n",
      "Processing examples in test:  15%|█▌        | 1537/10000 [21:47<1:01:14,  2.30it/s]\u001B[A\n",
      "Processing examples in test:  15%|█▌        | 1538/10000 [21:49<1:31:12,  1.55it/s]\u001B[A\n",
      "Processing examples in test:  15%|█▌        | 1540/10000 [21:50<1:43:02,  1.37it/s]\u001B[A\n",
      "Processing examples in test:  15%|█▌        | 1542/10000 [21:52<1:49:43,  1.28it/s]\u001B[A\n",
      "Processing examples in test:  15%|█▌        | 1544/10000 [21:53<1:41:51,  1.38it/s]\u001B[A\n",
      "Processing examples in test:  16%|█▌        | 1550/10000 [21:55<1:10:22,  2.00it/s]\u001B[A\n",
      "Processing examples in test:  16%|█▌        | 1556/10000 [21:57<58:23,  2.41it/s]  \u001B[A\n",
      "Processing examples in test:  16%|█▌        | 1558/10000 [21:58<1:02:49,  2.24it/s]\u001B[A"
     ]
    },
    {
     "name": "stdout",
     "output_type": "stream",
     "text": [
      "Failed to transform An older women looking off into the distance with three older women walking towards her from behind. or Four older women are sitting in a hot tub.. Retrying 5 more times ...\n",
      "Failed to transform An older women looking off into the distance with three older women walking towards her from behind. or Four older women are sitting in a hot tub.. Retrying 4 more times ...\n",
      "Failed to transform An older women looking off into the distance with three older women walking towards her from behind. or Four older women are sitting in a hot tub.. Retrying 3 more times ...\n",
      "Failed to transform An older women looking off into the distance with three older women walking towards her from behind. or Four older women are sitting in a hot tub.. Retrying 2 more times ...\n"
     ]
    },
    {
     "name": "stderr",
     "output_type": "stream",
     "text": [
      "\n",
      "Processing examples in test:  16%|█▌        | 1560/10000 [22:03<1:59:20,  1.18it/s]\u001B[A"
     ]
    },
    {
     "name": "stdout",
     "output_type": "stream",
     "text": [
      "Failed to transform An older women looking off into the distance with three older women walking towards her from behind. or Four older women are sitting in a hot tub.. Retrying 1 more times ...\n",
      "Failed to transform A man sitting with his head down on his arm and a roll of toilet paper and a cellphone sitting beside him. or A man is running a marathon.. Retrying 5 more times ...\n",
      "Failed to transform A man sitting with his head down on his arm and a roll of toilet paper and a cellphone sitting beside him. or A man is running a marathon.. Retrying 4 more times ...\n",
      "Failed to transform A man sitting with his head down on his arm and a roll of toilet paper and a cellphone sitting beside him. or A man is running a marathon.. Retrying 3 more times ...\n",
      "Failed to transform A man sitting with his head down on his arm and a roll of toilet paper and a cellphone sitting beside him. or A man is running a marathon.. Retrying 2 more times ...\n"
     ]
    },
    {
     "name": "stderr",
     "output_type": "stream",
     "text": [
      "\n",
      "Processing examples in test:  16%|█▌        | 1561/10000 [22:08<2:57:31,  1.26s/it]\u001B[A"
     ]
    },
    {
     "name": "stdout",
     "output_type": "stream",
     "text": [
      "Failed to transform A man sitting with his head down on his arm and a roll of toilet paper and a cellphone sitting beside him. or A man is running a marathon.. Retrying 1 more times ...\n",
      "Failed to transform A man sitting with his head down on his arm and a roll of toilet paper and a cellphone sitting beside him. or A man is sick next to the toilet.. Retrying 5 more times ...\n",
      "Failed to transform A man sitting with his head down on his arm and a roll of toilet paper and a cellphone sitting beside him. or A man is sick next to the toilet.. Retrying 4 more times ...\n",
      "Failed to transform A man sitting with his head down on his arm and a roll of toilet paper and a cellphone sitting beside him. or A man is sick next to the toilet.. Retrying 3 more times ...\n",
      "Failed to transform A man sitting with his head down on his arm and a roll of toilet paper and a cellphone sitting beside him. or A man is sick next to the toilet.. Retrying 2 more times ...\n"
     ]
    },
    {
     "name": "stderr",
     "output_type": "stream",
     "text": [
      "\n",
      "Processing examples in test:  16%|█▌        | 1563/10000 [22:12<3:34:23,  1.52s/it]\u001B[A"
     ]
    },
    {
     "name": "stdout",
     "output_type": "stream",
     "text": [
      "Failed to transform A man sitting with his head down on his arm and a roll of toilet paper and a cellphone sitting beside him. or A man is sick next to the toilet.. Retrying 1 more times ...\n"
     ]
    },
    {
     "name": "stderr",
     "output_type": "stream",
     "text": [
      "\n",
      "Processing examples in test:  16%|█▌        | 1565/10000 [22:13<2:50:37,  1.21s/it]\u001B[A\n",
      "Processing examples in test:  16%|█▌        | 1567/10000 [22:14<2:25:34,  1.04s/it]\u001B[A\n",
      "Processing examples in test:  16%|█▌        | 1569/10000 [22:15<2:04:16,  1.13it/s]\u001B[A\n",
      "Processing examples in test:  16%|█▌        | 1575/10000 [22:16<1:11:21,  1.97it/s]\u001B[A\n",
      "Processing examples in test:  16%|█▌        | 1579/10000 [22:18<1:10:59,  1.98it/s]\u001B[A\n",
      "Processing examples in test:  16%|█▌        | 1580/10000 [22:20<1:23:45,  1.68it/s]\u001B[A\n",
      "Processing examples in test:  16%|█▌        | 1586/10000 [22:21<59:41,  2.35it/s]  \u001B[A\n",
      "Processing examples in test:  16%|█▌        | 1587/10000 [22:23<1:21:31,  1.72it/s]\u001B[A\n",
      "Processing examples in test:  16%|█▌        | 1589/10000 [22:24<1:14:03,  1.89it/s]\u001B[A\n",
      "Processing examples in test:  16%|█▌        | 1591/10000 [22:25<1:15:01,  1.87it/s]\u001B[A\n",
      "Processing examples in test:  16%|█▌        | 1593/10000 [22:26<1:15:35,  1.85it/s]\u001B[A\n",
      "Processing examples in test:  16%|█▌        | 1594/10000 [22:27<1:29:01,  1.57it/s]\u001B[A\n",
      "Processing examples in test:  16%|█▌        | 1596/10000 [22:28<1:25:52,  1.63it/s]\u001B[A\n",
      "Processing examples in test:  16%|█▌        | 1597/10000 [22:30<2:06:42,  1.11it/s]\u001B[A\n",
      "Processing examples in test:  16%|█▌        | 1598/10000 [22:33<2:49:43,  1.21s/it]\u001B[A\n",
      "Processing examples in test:  16%|█▌        | 1600/10000 [22:33<2:06:07,  1.11it/s]\u001B[A\n",
      "Processing examples in test:  16%|█▌        | 1601/10000 [22:35<2:11:18,  1.07it/s]\u001B[A\n",
      "Processing examples in test:  16%|█▌        | 1603/10000 [22:36<1:52:00,  1.25it/s]\u001B[A\n",
      "Processing examples in test:  16%|█▌        | 1604/10000 [22:38<2:39:51,  1.14s/it]\u001B[A\n",
      "Processing examples in test:  16%|█▌        | 1606/10000 [22:41<2:52:34,  1.23s/it]\u001B[A\n",
      "Processing examples in test:  16%|█▌        | 1609/10000 [22:42<1:49:55,  1.27it/s]\u001B[A\n",
      "Processing examples in test:  16%|█▌        | 1612/10000 [22:42<1:19:41,  1.75it/s]\u001B[A\n",
      "Processing examples in test:  16%|█▌        | 1613/10000 [22:43<1:22:39,  1.69it/s]\u001B[A\n",
      "Processing examples in test:  16%|█▌        | 1614/10000 [22:45<1:55:46,  1.21it/s]\u001B[A\n",
      "Processing examples in test:  16%|█▌        | 1615/10000 [22:47<2:32:15,  1.09s/it]\u001B[A\n",
      "Processing examples in test:  16%|█▌        | 1616/10000 [22:50<3:25:28,  1.47s/it]\u001B[A\n",
      "Processing examples in test:  16%|█▌        | 1618/10000 [22:52<3:07:26,  1.34s/it]\u001B[A\n",
      "Processing examples in test:  16%|█▌        | 1619/10000 [22:54<3:30:38,  1.51s/it]\u001B[A\n",
      "Processing examples in test:  16%|█▌        | 1621/10000 [22:55<2:44:04,  1.17s/it]\u001B[A\n",
      "Processing examples in test:  16%|█▌        | 1622/10000 [22:58<3:18:09,  1.42s/it]\u001B[A\n",
      "Processing examples in test:  16%|█▌        | 1623/10000 [22:59<3:11:17,  1.37s/it]\u001B[A\n",
      "Processing examples in test:  16%|█▌        | 1624/10000 [23:00<2:50:51,  1.22s/it]\u001B[A\n",
      "Processing examples in test:  16%|█▋        | 1627/10000 [23:01<1:47:56,  1.29it/s]\u001B[A\n",
      "Processing examples in test:  16%|█▋        | 1628/10000 [23:02<1:56:09,  1.20it/s]\u001B[A\n",
      "Processing examples in test:  16%|█▋        | 1630/10000 [23:03<1:31:30,  1.52it/s]\u001B[A\n",
      "Processing examples in test:  16%|█▋        | 1634/10000 [23:05<1:24:09,  1.66it/s]\u001B[A"
     ]
    },
    {
     "name": "stdout",
     "output_type": "stream",
     "text": [
      "Failed to transform A young boy sits outside in a grassy field with his back turned towards the viewer- he is holding a wooden toy that can be spun between your hands and launched into the air. or A young boy stands at the chalkboard to answer a math problem.. Retrying 5 more times ...\n",
      "Failed to transform A young boy sits outside in a grassy field with his back turned towards the viewer- he is holding a wooden toy that can be spun between your hands and launched into the air. or A young boy stands at the chalkboard to answer a math problem.. Retrying 4 more times ...\n",
      "Failed to transform A young boy sits outside in a grassy field with his back turned towards the viewer- he is holding a wooden toy that can be spun between your hands and launched into the air. or A young boy stands at the chalkboard to answer a math problem.. Retrying 3 more times ...\n",
      "Failed to transform A young boy sits outside in a grassy field with his back turned towards the viewer- he is holding a wooden toy that can be spun between your hands and launched into the air. or A young boy stands at the chalkboard to answer a math problem.. Retrying 2 more times ...\n"
     ]
    },
    {
     "name": "stderr",
     "output_type": "stream",
     "text": [
      "\n",
      "Processing examples in test:  16%|█▋        | 1635/10000 [23:12<3:38:31,  1.57s/it]\u001B[A"
     ]
    },
    {
     "name": "stdout",
     "output_type": "stream",
     "text": [
      "Failed to transform A young boy sits outside in a grassy field with his back turned towards the viewer- he is holding a wooden toy that can be spun between your hands and launched into the air. or A young boy stands at the chalkboard to answer a math problem.. Retrying 1 more times ...\n"
     ]
    },
    {
     "name": "stderr",
     "output_type": "stream",
     "text": [
      "\n",
      "Processing examples in test:  16%|█▋        | 1636/10000 [23:14<3:50:29,  1.65s/it]\u001B[A\n",
      "Processing examples in test:  16%|█▋        | 1637/10000 [23:15<3:41:49,  1.59s/it]\u001B[A\n",
      "Processing examples in test:  16%|█▋        | 1638/10000 [23:17<3:52:03,  1.67s/it]\u001B[A\n",
      "Processing examples in test:  16%|█▋        | 1639/10000 [23:18<3:36:30,  1.55s/it]\u001B[A\n",
      "Processing examples in test:  16%|█▋        | 1640/10000 [23:21<4:23:37,  1.89s/it]\u001B[A\n",
      "Processing examples in test:  16%|█▋        | 1646/10000 [23:23<1:52:29,  1.24it/s]\u001B[A\n",
      "Processing examples in test:  16%|█▋        | 1647/10000 [23:24<2:00:09,  1.16it/s]\u001B[A\n",
      "Processing examples in test:  16%|█▋        | 1648/10000 [23:26<2:33:16,  1.10s/it]\u001B[A\n",
      "Processing examples in test:  16%|█▋        | 1649/10000 [23:28<2:48:26,  1.21s/it]\u001B[A\n",
      "Processing examples in test:  17%|█▋        | 1651/10000 [23:30<2:36:34,  1.13s/it]\u001B[A\n",
      "Processing examples in test:  17%|█▋        | 1652/10000 [23:31<2:43:33,  1.18s/it]\u001B[A\n",
      "Processing examples in test:  17%|█▋        | 1656/10000 [23:34<1:55:35,  1.20it/s]\u001B[A\n",
      "Processing examples in test:  17%|█▋        | 1657/10000 [23:35<2:01:58,  1.14it/s]\u001B[A\n",
      "Processing examples in test:  17%|█▋        | 1658/10000 [23:36<2:10:43,  1.06it/s]\u001B[A\n",
      "Processing examples in test:  17%|█▋        | 1659/10000 [23:37<2:17:27,  1.01it/s]\u001B[A\n",
      "Processing examples in test:  17%|█▋        | 1660/10000 [23:38<2:22:51,  1.03s/it]\u001B[A\n",
      "Processing examples in test:  17%|█▋        | 1661/10000 [23:40<2:54:30,  1.26s/it]\u001B[A\n",
      "Processing examples in test:  17%|█▋        | 1663/10000 [23:42<2:40:19,  1.15s/it]\u001B[A\n",
      "Processing examples in test:  17%|█▋        | 1664/10000 [23:45<3:18:55,  1.43s/it]\u001B[A\n",
      "Processing examples in test:  17%|█▋        | 1666/10000 [23:47<3:10:03,  1.37s/it]\u001B[A\n",
      "Processing examples in test:  17%|█▋        | 1671/10000 [23:49<1:50:45,  1.25it/s]\u001B[A\n",
      "Processing examples in test:  17%|█▋        | 1672/10000 [23:51<2:20:47,  1.01s/it]\u001B[A\n",
      "Processing examples in test:  17%|█▋        | 1673/10000 [23:54<2:57:41,  1.28s/it]\u001B[A\n",
      "Processing examples in test:  17%|█▋        | 1674/10000 [23:55<2:55:25,  1.26s/it]\u001B[A\n",
      "Processing examples in test:  17%|█▋        | 1677/10000 [23:56<2:00:36,  1.15it/s]\u001B[A\n",
      "Processing examples in test:  17%|█▋        | 1680/10000 [23:58<1:49:26,  1.27it/s]\u001B[A\n",
      "Processing examples in test:  17%|█▋        | 1684/10000 [23:59<1:13:52,  1.88it/s]\u001B[A\n",
      "Processing examples in test:  17%|█▋        | 1685/10000 [24:01<1:39:30,  1.39it/s]\u001B[A\n",
      "Processing examples in test:  17%|█▋        | 1686/10000 [24:02<1:54:32,  1.21it/s]\u001B[A\n",
      "Processing examples in test:  17%|█▋        | 1688/10000 [24:04<1:43:13,  1.34it/s]\u001B[A\n",
      "Processing examples in test:  17%|█▋        | 1690/10000 [24:06<1:58:19,  1.17it/s]\u001B[A\n",
      "Processing examples in test:  17%|█▋        | 1693/10000 [24:07<1:36:39,  1.43it/s]\u001B[A\n",
      "Processing examples in test:  17%|█▋        | 1694/10000 [24:08<1:51:54,  1.24it/s]\u001B[A\n",
      "Processing examples in test:  17%|█▋        | 1696/10000 [24:11<2:00:38,  1.15it/s]\u001B[A\n",
      "Processing examples in test:  17%|█▋        | 1697/10000 [24:12<2:14:35,  1.03it/s]\u001B[A"
     ]
    },
    {
     "name": "stdout",
     "output_type": "stream",
     "text": [
      "Failed to transform Man sitting on floor and is surrounded by picture. or A man sitting on the floor with pictures around him.. Retrying 5 more times ...\n",
      "Failed to transform Man sitting on floor and is surrounded by picture. or A man sitting on the floor with pictures around him.. Retrying 4 more times ...\n",
      "Failed to transform Man sitting floor and is surrounded by picture. or A man sitting on the floor with pictures around him.. Retrying 3 more times ...\n",
      "Failed to transform A Man sitting a floor and is surrounded by a picture. or A man sitting on the floor with pictures around him.. Retrying 2 more times ...\n"
     ]
    },
    {
     "name": "stderr",
     "output_type": "stream",
     "text": [
      "\n",
      "Processing examples in test:  17%|█▋        | 1702/10000 [24:21<3:12:42,  1.39s/it]\u001B[A"
     ]
    },
    {
     "name": "stdout",
     "output_type": "stream",
     "text": [
      "Failed to transform The Man a-sitting the floor and is surrounded by the picture. or A man sitting on the floor with pictures around him.. Retrying 1 more times ...\n",
      "Failed to transform with A man sitting on the floor with photographs around him.. Retrying 5 more times...\n",
      "Failed to transform with A man sitting on the floor with photographs around him.. Retrying 4 more times...\n",
      "Failed to transform with A man sitting on the floor with photographs around him.. Retrying 3 more times...\n",
      "Failed to transform with A man sitting on the floor with photographs around him.. Retrying 2 more times...\n"
     ]
    },
    {
     "name": "stderr",
     "output_type": "stream",
     "text": [
      "\n",
      "Processing examples in test:  17%|█▋        | 1703/10000 [24:25<4:03:31,  1.76s/it]\u001B[A"
     ]
    },
    {
     "name": "stdout",
     "output_type": "stream",
     "text": [
      "Failed to transform with A man sitting on the floor with photographs around him.. Retrying 1 more times...\n"
     ]
    },
    {
     "name": "stderr",
     "output_type": "stream",
     "text": [
      "\n",
      "Processing examples in test:  17%|█▋        | 1706/10000 [24:27<3:10:18,  1.38s/it]\u001B[A\n",
      "Processing examples in test:  17%|█▋        | 1709/10000 [24:28<2:23:48,  1.04s/it]\u001B[A\n",
      "Processing examples in test:  17%|█▋        | 1710/10000 [24:29<2:31:05,  1.09s/it]\u001B[A\n",
      "Processing examples in test:  17%|█▋        | 1712/10000 [24:31<2:17:59,  1.00it/s]\u001B[A\n",
      "Processing examples in test:  17%|█▋        | 1713/10000 [24:33<2:38:05,  1.14s/it]\u001B[A\n",
      "Processing examples in test:  17%|█▋        | 1715/10000 [24:35<2:25:47,  1.06s/it]\u001B[A\n",
      "Processing examples in test:  17%|█▋        | 1716/10000 [24:37<2:54:00,  1.26s/it]\u001B[A\n",
      "Processing examples in test:  17%|█▋        | 1717/10000 [24:38<3:01:21,  1.31s/it]\u001B[A\n",
      "Processing examples in test:  17%|█▋        | 1718/10000 [24:40<3:32:29,  1.54s/it]\u001B[A\n",
      "Processing examples in test:  17%|█▋        | 1719/10000 [24:43<4:14:06,  1.84s/it]\u001B[A\n",
      "Processing examples in test:  17%|█▋        | 1720/10000 [24:45<3:56:54,  1.72s/it]\u001B[A\n",
      "Processing examples in test:  17%|█▋        | 1721/10000 [24:47<4:10:58,  1.82s/it]\u001B[A\n",
      "Processing examples in test:  17%|█▋        | 1726/10000 [24:48<1:58:05,  1.17it/s]\u001B[A\n",
      "Processing examples in test:  17%|█▋        | 1727/10000 [24:49<1:56:22,  1.18it/s]\u001B[A\n",
      "Processing examples in test:  17%|█▋        | 1728/10000 [24:52<2:34:27,  1.12s/it]\u001B[A\n",
      "Processing examples in test:  17%|█▋        | 1730/10000 [24:53<2:09:43,  1.06it/s]\u001B[A\n",
      "Processing examples in test:  17%|█▋        | 1731/10000 [24:54<2:16:00,  1.01it/s]\u001B[A\n",
      "Processing examples in test:  17%|█▋        | 1732/10000 [24:56<2:33:46,  1.12s/it]\u001B[A\n",
      "Processing examples in test:  17%|█▋        | 1733/10000 [24:58<3:27:42,  1.51s/it]\u001B[A\n",
      "Processing examples in test:  17%|█▋        | 1736/10000 [25:00<2:19:53,  1.02s/it]\u001B[A\n",
      "Processing examples in test:  17%|█▋        | 1737/10000 [25:01<2:12:38,  1.04it/s]\u001B[A\n",
      "Processing examples in test:  17%|█▋        | 1738/10000 [25:03<2:41:18,  1.17s/it]\u001B[A\n",
      "Processing examples in test:  17%|█▋        | 1739/10000 [25:04<2:46:42,  1.21s/it]\u001B[A\n",
      "Processing examples in test:  17%|█▋        | 1743/10000 [25:05<1:38:32,  1.40it/s]\u001B[A\n",
      "Processing examples in test:  17%|█▋        | 1745/10000 [25:06<1:33:17,  1.47it/s]\u001B[A\n",
      "Processing examples in test:  17%|█▋        | 1746/10000 [25:08<1:59:42,  1.15it/s]\u001B[A\n",
      "Processing examples in test:  17%|█▋        | 1747/10000 [25:10<2:26:19,  1.06s/it]\u001B[A\n",
      "Processing examples in test:  17%|█▋        | 1749/10000 [25:12<2:17:16,  1.00it/s]\u001B[A\n",
      "Processing examples in test:  18%|█▊        | 1750/10000 [25:13<2:29:12,  1.09s/it]\u001B[A\n",
      "Processing examples in test:  18%|█▊        | 1753/10000 [25:14<1:43:54,  1.32it/s]\u001B[A\n",
      "Processing examples in test:  18%|█▊        | 1754/10000 [25:17<2:22:51,  1.04s/it]\u001B[A\n",
      "Processing examples in test:  18%|█▊        | 1755/10000 [25:18<2:28:32,  1.08s/it]\u001B[A\n",
      "Processing examples in test:  18%|█▊        | 1756/10000 [25:20<2:51:22,  1.25s/it]\u001B[A\n",
      "Processing examples in test:  18%|█▊        | 1757/10000 [25:22<3:22:16,  1.47s/it]\u001B[A\n",
      "Processing examples in test:  18%|█▊        | 1758/10000 [25:24<3:47:59,  1.66s/it]\u001B[A\n",
      "Processing examples in test:  18%|█▊        | 1763/10000 [25:25<1:33:29,  1.47it/s]\u001B[A\n",
      "Processing examples in test:  18%|█▊        | 1768/10000 [25:26<1:08:38,  2.00it/s]\u001B[A\n",
      "Processing examples in test:  18%|█▊        | 1770/10000 [25:28<1:10:31,  1.94it/s]\u001B[A\n",
      "Processing examples in test:  18%|█▊        | 1774/10000 [25:30<1:08:56,  1.99it/s]\u001B[A\n",
      "Processing examples in test:  18%|█▊        | 1775/10000 [25:31<1:19:47,  1.72it/s]\u001B[A\n",
      "Processing examples in test:  18%|█▊        | 1776/10000 [25:33<1:47:01,  1.28it/s]\u001B[A\n",
      "Processing examples in test:  18%|█▊        | 1778/10000 [25:34<1:38:14,  1.39it/s]\u001B[A\n",
      "Processing examples in test:  18%|█▊        | 1780/10000 [25:35<1:29:51,  1.52it/s]\u001B[A\n",
      "Processing examples in test:  18%|█▊        | 1782/10000 [25:36<1:18:27,  1.75it/s]\u001B[A\n",
      "Processing examples in test:  18%|█▊        | 1783/10000 [25:36<1:25:29,  1.60it/s]\u001B[A\n",
      "Processing examples in test:  18%|█▊        | 1785/10000 [25:38<1:23:18,  1.64it/s]\u001B[A\n",
      "Processing examples in test:  18%|█▊        | 1786/10000 [25:39<1:48:46,  1.26it/s]\u001B[A\n",
      "Processing examples in test:  18%|█▊        | 1788/10000 [25:41<1:45:01,  1.30it/s]\u001B[A\n",
      "Processing examples in test:  18%|█▊        | 1789/10000 [25:42<2:16:32,  1.00it/s]\u001B[A\n",
      "Processing examples in test:  18%|█▊        | 1790/10000 [25:44<2:45:12,  1.21s/it]\u001B[A\n",
      "Processing examples in test:  18%|█▊        | 1791/10000 [25:45<2:37:10,  1.15s/it]\u001B[A\n",
      "Processing examples in test:  18%|█▊        | 1792/10000 [25:46<2:24:19,  1.06s/it]\u001B[A\n",
      "Processing examples in test:  18%|█▊        | 1794/10000 [25:48<2:17:04,  1.00s/it]\u001B[A\n",
      "Processing examples in test:  18%|█▊        | 1795/10000 [25:50<2:37:00,  1.15s/it]\u001B[A\n",
      "Processing examples in test:  18%|█▊        | 1797/10000 [25:51<2:24:15,  1.06s/it]\u001B[A\n",
      "Processing examples in test:  18%|█▊        | 1798/10000 [25:53<2:50:27,  1.25s/it]\u001B[A\n",
      "Processing examples in test:  18%|█▊        | 1800/10000 [25:54<2:09:21,  1.06it/s]\u001B[A\n",
      "Processing examples in test:  18%|█▊        | 1803/10000 [25:56<1:50:47,  1.23it/s]\u001B[A\n",
      "Processing examples in test:  18%|█▊        | 1806/10000 [25:58<1:41:34,  1.34it/s]\u001B[A\n",
      "Processing examples in test:  18%|█▊        | 1807/10000 [26:00<2:07:49,  1.07it/s]\u001B[A\n",
      "Processing examples in test:  18%|█▊        | 1810/10000 [26:02<1:51:13,  1.23it/s]\u001B[A\n",
      "Processing examples in test:  18%|█▊        | 1811/10000 [26:03<1:56:55,  1.17it/s]\u001B[A\n",
      "Processing examples in test:  18%|█▊        | 1812/10000 [26:05<2:20:40,  1.03s/it]\u001B[A\n",
      "Processing examples in test:  18%|█▊        | 1815/10000 [26:06<1:47:30,  1.27it/s]\u001B[A\n",
      "Processing examples in test:  18%|█▊        | 1816/10000 [26:09<2:21:52,  1.04s/it]\u001B[A\n",
      "Processing examples in test:  18%|█▊        | 1817/10000 [26:11<2:51:42,  1.26s/it]\u001B[A\n",
      "Processing examples in test:  18%|█▊        | 1820/10000 [26:12<1:50:37,  1.23it/s]\u001B[A"
     ]
    },
    {
     "name": "stdout",
     "output_type": "stream",
     "text": [
      "Failed to transform Male wearing brown shorts and black t-shirt in his bedroom with his feet on the desk talking on the phone. or A man is talking to his wife on the phone.. Retrying 5 more times ...\n",
      "Failed to transform Male wearing brown shorts and black t-shirt in his bedroom with his feet on the desk talking on the phone. or A man is talking to his wife on the phone.. Retrying 4 more times ...\n",
      "Failed to transform Male wearing brown shorts and black t-shirt in his bedroom with his feet on the desk talking on the phone. or A man is talking to his wife on the phone.. Retrying 3 more times ...\n",
      "Failed to transform Male wearing brown shorts and black t-shirt in his bedroom with his feet on the desk talking on the phone. or A man is talking to his wife on the phone.. Retrying 2 more times ...\n"
     ]
    },
    {
     "name": "stderr",
     "output_type": "stream",
     "text": [
      "\n",
      "Processing examples in test:  18%|█▊        | 1822/10000 [26:17<3:02:27,  1.34s/it]\u001B[A"
     ]
    },
    {
     "name": "stdout",
     "output_type": "stream",
     "text": [
      "Failed to transform Male wearing brown shorts and black t-shirt in his bedroom with his feet on the desk talking on the phone. or A man is talking to his wife on the phone.. Retrying 1 more times ...\n"
     ]
    },
    {
     "name": "stderr",
     "output_type": "stream",
     "text": [
      "\n",
      "Processing examples in test:  18%|█▊        | 1825/10000 [26:18<2:10:28,  1.04it/s]\u001B[A\n",
      "Processing examples in test:  18%|█▊        | 1826/10000 [26:19<2:08:11,  1.06it/s]\u001B[A\n",
      "Processing examples in test:  18%|█▊        | 1827/10000 [26:20<2:19:04,  1.02s/it]\u001B[A\n",
      "Processing examples in test:  18%|█▊        | 1829/10000 [26:22<2:09:30,  1.05it/s]\u001B[A\n",
      "Processing examples in test:  18%|█▊        | 1831/10000 [26:23<1:55:07,  1.18it/s]\u001B[A\n",
      "Processing examples in test:  18%|█▊        | 1835/10000 [26:25<1:33:11,  1.46it/s]\u001B[A\n",
      "Processing examples in test:  18%|█▊        | 1836/10000 [26:27<2:03:55,  1.10it/s]\u001B[A\n",
      "Processing examples in test:  18%|█▊        | 1838/10000 [26:28<1:51:10,  1.22it/s]\u001B[A\n",
      "Processing examples in test:  18%|█▊        | 1839/10000 [26:30<2:08:41,  1.06it/s]\u001B[A\n",
      "Processing examples in test:  18%|█▊        | 1843/10000 [26:32<1:43:51,  1.31it/s]\u001B[A\n",
      "Processing examples in test:  18%|█▊        | 1847/10000 [26:34<1:22:35,  1.65it/s]\u001B[A\n",
      "Processing examples in test:  19%|█▊        | 1851/10000 [26:36<1:17:20,  1.76it/s]\u001B[A\n",
      "Processing examples in test:  19%|█▊        | 1852/10000 [26:38<1:37:27,  1.39it/s]\u001B[A\n",
      "Processing examples in test:  19%|█▊        | 1854/10000 [26:39<1:27:55,  1.54it/s]\u001B[A\n",
      "Processing examples in test:  19%|█▊        | 1856/10000 [26:40<1:23:52,  1.62it/s]\u001B[A\n",
      "Processing examples in test:  19%|█▊        | 1858/10000 [26:42<1:45:21,  1.29it/s]\u001B[A\n",
      "Processing examples in test:  19%|█▊        | 1859/10000 [26:44<2:10:06,  1.04it/s]\u001B[A\n",
      "Processing examples in test:  19%|█▊        | 1862/10000 [26:46<1:48:01,  1.26it/s]\u001B[A\n",
      "Processing examples in test:  19%|█▊        | 1863/10000 [26:47<1:53:04,  1.20it/s]\u001B[A\n",
      "Processing examples in test:  19%|█▊        | 1864/10000 [26:49<2:34:27,  1.14s/it]\u001B[A\n",
      "Processing examples in test:  19%|█▊        | 1865/10000 [26:51<2:47:02,  1.23s/it]\u001B[A\n",
      "Processing examples in test:  19%|█▊        | 1867/10000 [26:52<2:23:37,  1.06s/it]\u001B[A\n",
      "Processing examples in test:  19%|█▊        | 1870/10000 [26:53<1:35:26,  1.42it/s]\u001B[A\n",
      "Processing examples in test:  19%|█▊        | 1874/10000 [26:54<1:09:24,  1.95it/s]\u001B[A\n",
      "Processing examples in test:  19%|█▉        | 1877/10000 [26:56<1:09:13,  1.96it/s]\u001B[A\n",
      "Processing examples in test:  19%|█▉        | 1882/10000 [26:58<1:00:07,  2.25it/s]\u001B[A\n",
      "Processing examples in test:  19%|█▉        | 1884/10000 [26:58<57:15,  2.36it/s]  \u001B[A\n",
      "Processing examples in test:  19%|█▉        | 1885/10000 [26:59<1:01:43,  2.19it/s]\u001B[A\n",
      "Processing examples in test:  19%|█▉        | 1886/10000 [27:00<1:20:47,  1.67it/s]\u001B[A\n",
      "Processing examples in test:  19%|█▉        | 1888/10000 [27:02<1:34:45,  1.43it/s]\u001B[A\n",
      "Processing examples in test:  19%|█▉        | 1890/10000 [27:03<1:22:58,  1.63it/s]\u001B[A\n",
      "Processing examples in test:  19%|█▉        | 1893/10000 [27:04<1:06:12,  2.04it/s]\u001B[A\n",
      "Processing examples in test:  19%|█▉        | 1894/10000 [27:05<1:29:41,  1.51it/s]\u001B[A\n",
      "Processing examples in test:  19%|█▉        | 1895/10000 [27:07<2:02:00,  1.11it/s]\u001B[A\n",
      "Processing examples in test:  19%|█▉        | 1896/10000 [27:09<2:27:57,  1.10s/it]\u001B[A\n",
      "Processing examples in test:  19%|█▉        | 1897/10000 [27:11<2:41:39,  1.20s/it]\u001B[A\n",
      "Processing examples in test:  19%|█▉        | 1900/10000 [27:13<2:05:09,  1.08it/s]\u001B[A\n",
      "Processing examples in test:  19%|█▉        | 1901/10000 [27:15<2:30:09,  1.11s/it]\u001B[A\n",
      "Processing examples in test:  19%|█▉        | 1902/10000 [27:15<2:22:06,  1.05s/it]\u001B[A\n",
      "Processing examples in test:  19%|█▉        | 1904/10000 [27:16<1:45:25,  1.28it/s]\u001B[A\n",
      "Processing examples in test:  19%|█▉        | 1905/10000 [27:17<1:53:57,  1.18it/s]\u001B[A\n",
      "Processing examples in test:  19%|█▉        | 1909/10000 [27:18<1:11:46,  1.88it/s]\u001B[A\n",
      "Processing examples in test:  19%|█▉        | 1910/10000 [27:19<1:16:55,  1.75it/s]\u001B[A\n",
      "Processing examples in test:  19%|█▉        | 1911/10000 [27:20<1:19:47,  1.69it/s]\u001B[A\n",
      "Processing examples in test:  19%|█▉        | 1913/10000 [27:20<1:08:20,  1.97it/s]\u001B[A\n",
      "Processing examples in test:  19%|█▉        | 1916/10000 [27:22<1:00:47,  2.22it/s]\u001B[A\n",
      "Processing examples in test:  19%|█▉        | 1918/10000 [27:23<1:11:40,  1.88it/s]\u001B[A\n",
      "Processing examples in test:  19%|█▉        | 1919/10000 [27:24<1:18:56,  1.71it/s]\u001B[A\n",
      "Processing examples in test:  19%|█▉        | 1922/10000 [27:26<1:20:44,  1.67it/s]\u001B[A\n",
      "Processing examples in test:  19%|█▉        | 1924/10000 [27:26<1:11:19,  1.89it/s]\u001B[A\n",
      "Processing examples in test:  19%|█▉        | 1926/10000 [27:28<1:26:41,  1.55it/s]\u001B[A\n",
      "Processing examples in test:  19%|█▉        | 1928/10000 [27:29<1:14:38,  1.80it/s]\u001B[A\n",
      "Processing examples in test:  19%|█▉        | 1929/10000 [27:30<1:18:02,  1.72it/s]\u001B[A\n",
      "Processing examples in test:  19%|█▉        | 1930/10000 [27:32<1:53:26,  1.19it/s]\u001B[A\n",
      "Processing examples in test:  19%|█▉        | 1931/10000 [27:33<2:14:13,  1.00it/s]\u001B[A\n",
      "Processing examples in test:  19%|█▉        | 1933/10000 [27:35<2:02:22,  1.10it/s]\u001B[A\n",
      "Processing examples in test:  19%|█▉        | 1937/10000 [27:36<1:28:07,  1.53it/s]\u001B[A\n",
      "Processing examples in test:  19%|█▉        | 1939/10000 [27:38<1:39:06,  1.36it/s]\u001B[A\n",
      "Processing examples in test:  19%|█▉        | 1944/10000 [27:40<1:14:37,  1.80it/s]\u001B[A\n",
      "Processing examples in test:  19%|█▉        | 1947/10000 [27:41<1:03:37,  2.11it/s]\u001B[A\n",
      "Processing examples in test:  19%|█▉        | 1948/10000 [27:44<1:52:45,  1.19it/s]\u001B[A\n",
      "Processing examples in test:  19%|█▉        | 1949/10000 [27:46<1:59:39,  1.12it/s]\u001B[A\n",
      "Processing examples in test:  20%|█▉        | 1951/10000 [27:47<1:54:16,  1.17it/s]\u001B[A\n",
      "Processing examples in test:  20%|█▉        | 1955/10000 [27:49<1:26:14,  1.55it/s]\u001B[A\n",
      "Processing examples in test:  20%|█▉        | 1956/10000 [27:50<1:46:23,  1.26it/s]\u001B[A\n",
      "Processing examples in test:  20%|█▉        | 1958/10000 [27:53<2:04:04,  1.08it/s]\u001B[A\n",
      "Processing examples in test:  20%|█▉        | 1959/10000 [27:56<2:42:08,  1.21s/it]\u001B[A\n",
      "Processing examples in test:  20%|█▉        | 1961/10000 [27:58<2:34:15,  1.15s/it]\u001B[A\n",
      "Processing examples in test:  20%|█▉        | 1966/10000 [28:00<1:39:47,  1.34it/s]\u001B[A\n",
      "Processing examples in test:  20%|█▉        | 1968/10000 [28:00<1:30:09,  1.48it/s]\u001B[A\n",
      "Processing examples in test:  20%|█▉        | 1969/10000 [28:02<1:40:19,  1.33it/s]\u001B[A\n",
      "Processing examples in test:  20%|█▉        | 1970/10000 [28:04<2:04:58,  1.07it/s]\u001B[A\n",
      "Processing examples in test:  20%|█▉        | 1971/10000 [28:06<2:35:21,  1.16s/it]\u001B[A\n",
      "Processing examples in test:  20%|█▉        | 1972/10000 [28:07<2:33:43,  1.15s/it]\u001B[A\n",
      "Processing examples in test:  20%|█▉        | 1973/10000 [28:08<2:50:42,  1.28s/it]\u001B[A\n",
      "Processing examples in test:  20%|█▉        | 1974/10000 [28:10<3:07:41,  1.40s/it]\u001B[A\n",
      "Processing examples in test:  20%|█▉        | 1976/10000 [28:12<2:41:48,  1.21s/it]\u001B[A\n",
      "Processing examples in test:  20%|█▉        | 1977/10000 [28:13<2:43:14,  1.22s/it]\u001B[A\n",
      "Processing examples in test:  20%|█▉        | 1979/10000 [28:15<2:34:32,  1.16s/it]\u001B[A\n",
      "Processing examples in test:  20%|█▉        | 1982/10000 [28:17<1:53:52,  1.17it/s]\u001B[A\n",
      "Processing examples in test:  20%|█▉        | 1983/10000 [28:24<4:31:28,  2.03s/it]\u001B[A\n",
      "Processing examples in test:  20%|█▉        | 1985/10000 [28:27<3:49:58,  1.72s/it]\u001B[A\n",
      "Processing examples in test:  20%|█▉        | 1986/10000 [28:28<3:53:17,  1.75s/it]\u001B[A\n",
      "Processing examples in test:  20%|█▉        | 1987/10000 [28:30<3:54:41,  1.76s/it]\u001B[A\n",
      "Processing examples in test:  20%|█▉        | 1991/10000 [28:32<2:08:31,  1.04it/s]\u001B[A\n",
      "Processing examples in test:  20%|█▉        | 1992/10000 [28:33<2:17:57,  1.03s/it]\u001B[A\n",
      "Processing examples in test:  20%|█▉        | 1994/10000 [28:35<2:12:21,  1.01it/s]\u001B[A\n",
      "Processing examples in test:  20%|█▉        | 1998/10000 [28:36<1:26:03,  1.55it/s]\u001B[A\n",
      "Processing examples in test:  20%|█▉        | 1999/10000 [28:37<1:45:55,  1.26it/s]\u001B[A\n",
      "Processing examples in test:  20%|██        | 2001/10000 [28:39<1:50:21,  1.21it/s]\u001B[A\n",
      "Processing examples in test:  20%|██        | 2002/10000 [28:40<1:56:43,  1.14it/s]\u001B[A\n",
      "Processing examples in test:  20%|██        | 2006/10000 [28:42<1:33:18,  1.43it/s]\u001B[A\n",
      "Processing examples in test:  20%|██        | 2011/10000 [28:44<1:11:04,  1.87it/s]\u001B[A\n",
      "Processing examples in test:  20%|██        | 2012/10000 [28:45<1:15:04,  1.77it/s]\u001B[A\n",
      "Processing examples in test:  20%|██        | 2015/10000 [28:47<1:19:37,  1.67it/s]\u001B[A\n",
      "Processing examples in test:  20%|██        | 2025/10000 [28:48<42:55,  3.10it/s]  \u001B[A\n",
      "Processing examples in test:  20%|██        | 2026/10000 [28:51<1:01:46,  2.15it/s]\u001B[A\n",
      "Processing examples in test:  20%|██        | 2027/10000 [28:52<1:12:41,  1.83it/s]\u001B[A\n",
      "Processing examples in test:  20%|██        | 2028/10000 [28:54<1:36:19,  1.38it/s]\u001B[A\n",
      "Processing examples in test:  20%|██        | 2029/10000 [28:55<1:48:40,  1.22it/s]\u001B[A\n",
      "Processing examples in test:  20%|██        | 2031/10000 [28:56<1:36:03,  1.38it/s]\u001B[A\n",
      "Processing examples in test:  20%|██        | 2035/10000 [28:57<1:01:16,  2.17it/s]\u001B[A\n",
      "Processing examples in test:  20%|██        | 2036/10000 [28:58<1:21:33,  1.63it/s]\u001B[A\n",
      "Processing examples in test:  20%|██        | 2038/10000 [29:00<1:21:56,  1.62it/s]\u001B[A\n",
      "Processing examples in test:  20%|██        | 2039/10000 [29:01<1:49:16,  1.21it/s]\u001B[A\n",
      "Processing examples in test:  20%|██        | 2041/10000 [29:03<1:54:16,  1.16it/s]\u001B[A\n",
      "Processing examples in test:  20%|██        | 2044/10000 [29:04<1:27:57,  1.51it/s]\u001B[A\n",
      "Processing examples in test:  20%|██        | 2045/10000 [29:05<1:37:33,  1.36it/s]\u001B[A\n",
      "Processing examples in test:  20%|██        | 2046/10000 [29:08<2:30:34,  1.14s/it]\u001B[A\n",
      "Processing examples in test:  20%|██        | 2049/10000 [29:14<3:09:09,  1.43s/it]\u001B[A\n",
      "Processing examples in test:  20%|██        | 2050/10000 [29:16<3:26:30,  1.56s/it]\u001B[A\n",
      "Processing examples in test:  21%|██        | 2051/10000 [29:18<3:39:20,  1.66s/it]\u001B[A\n",
      "Processing examples in test:  21%|██        | 2055/10000 [29:19<2:05:35,  1.05it/s]\u001B[A\n",
      "Processing examples in test:  21%|██        | 2056/10000 [29:27<4:20:46,  1.97s/it]\u001B[A\n",
      "Processing examples in test:  21%|██        | 2057/10000 [29:28<3:59:37,  1.81s/it]\u001B[A\n",
      "Processing examples in test:  21%|██        | 2058/10000 [29:29<3:50:05,  1.74s/it]\u001B[A\n",
      "Processing examples in test:  21%|██        | 2059/10000 [29:31<3:56:16,  1.79s/it]\u001B[A\n",
      "Processing examples in test:  21%|██        | 2061/10000 [29:33<3:01:43,  1.37s/it]\u001B[A\n",
      "Processing examples in test:  21%|██        | 2067/10000 [29:34<1:26:22,  1.53it/s]\u001B[A\n",
      "Processing examples in test:  21%|██        | 2069/10000 [29:36<1:34:34,  1.40it/s]\u001B[A\n",
      "Processing examples in test:  21%|██        | 2070/10000 [29:37<1:40:49,  1.31it/s]\u001B[A\n",
      "Processing examples in test:  21%|██        | 2073/10000 [29:39<1:38:47,  1.34it/s]\u001B[A\n",
      "Processing examples in test:  21%|██        | 2075/10000 [29:40<1:36:22,  1.37it/s]\u001B[A\n",
      "Processing examples in test:  21%|██        | 2076/10000 [29:41<1:43:30,  1.28it/s]\u001B[A\n",
      "Processing examples in test:  21%|██        | 2082/10000 [29:43<1:04:30,  2.05it/s]\u001B[A\n",
      "Processing examples in test:  21%|██        | 2083/10000 [29:46<1:40:56,  1.31it/s]\u001B[A\n",
      "Processing examples in test:  21%|██        | 2084/10000 [29:48<2:04:54,  1.06it/s]\u001B[A\n",
      "Processing examples in test:  21%|██        | 2086/10000 [29:50<2:09:27,  1.02it/s]\u001B[A\n",
      "Processing examples in test:  21%|██        | 2088/10000 [29:52<2:11:35,  1.00it/s]\u001B[A\n",
      "Processing examples in test:  21%|██        | 2089/10000 [29:54<2:32:29,  1.16s/it]\u001B[A\n",
      "Processing examples in test:  21%|██        | 2090/10000 [29:55<2:39:35,  1.21s/it]\u001B[A\n",
      "Processing examples in test:  21%|██        | 2091/10000 [29:57<2:57:44,  1.35s/it]\u001B[A\n",
      "Processing examples in test:  21%|██        | 2094/10000 [29:58<1:45:02,  1.25it/s]\u001B[A\n",
      "Processing examples in test:  21%|██        | 2097/10000 [29:59<1:14:28,  1.77it/s]\u001B[A\n",
      "Processing examples in test:  21%|██        | 2099/10000 [30:00<1:16:33,  1.72it/s]\u001B[A\n",
      "Processing examples in test:  21%|██        | 2101/10000 [30:01<1:15:44,  1.74it/s]\u001B[A\n",
      "Processing examples in test:  21%|██        | 2104/10000 [30:02<1:08:08,  1.93it/s]\u001B[A\n",
      "Processing examples in test:  21%|██        | 2105/10000 [30:04<1:37:57,  1.34it/s]\u001B[A\n",
      "Processing examples in test:  21%|██        | 2107/10000 [30:05<1:23:57,  1.57it/s]\u001B[A\n",
      "Processing examples in test:  21%|██        | 2110/10000 [30:06<1:16:24,  1.72it/s]\u001B[A\n",
      "Processing examples in test:  21%|██        | 2112/10000 [30:07<1:08:30,  1.92it/s]\u001B[A\n",
      "Processing examples in test:  21%|██        | 2118/10000 [30:11<1:15:03,  1.75it/s]\u001B[A\n",
      "Processing examples in test:  21%|██        | 2119/10000 [30:13<1:33:01,  1.41it/s]\u001B[A\n",
      "Processing examples in test:  21%|██        | 2120/10000 [30:13<1:32:45,  1.42it/s]\u001B[A\n",
      "Processing examples in test:  21%|██        | 2121/10000 [30:15<2:03:55,  1.06it/s]\u001B[A\n",
      "Processing examples in test:  21%|██        | 2124/10000 [30:17<1:38:41,  1.33it/s]\u001B[A\n",
      "Processing examples in test:  21%|██▏       | 2125/10000 [30:18<1:53:24,  1.16it/s]\u001B[A\n",
      "Processing examples in test:  21%|██▏       | 2127/10000 [30:20<1:43:59,  1.26it/s]\u001B[A\n",
      "Processing examples in test:  21%|██▏       | 2128/10000 [30:21<1:56:23,  1.13it/s]\u001B[A\n",
      "Processing examples in test:  21%|██▏       | 2129/10000 [30:22<2:05:57,  1.04it/s]\u001B[A\n",
      "Processing examples in test:  21%|██▏       | 2130/10000 [30:23<2:13:25,  1.02s/it]\u001B[A\n",
      "Processing examples in test:  21%|██▏       | 2132/10000 [30:25<1:58:45,  1.10it/s]\u001B[A\n",
      "Processing examples in test:  21%|██▏       | 2135/10000 [30:26<1:21:45,  1.60it/s]\u001B[A\n",
      "Processing examples in test:  21%|██▏       | 2136/10000 [30:28<1:50:09,  1.19it/s]\u001B[A\n",
      "Processing examples in test:  21%|██▏       | 2137/10000 [30:29<2:09:55,  1.01it/s]\u001B[A\n",
      "Processing examples in test:  21%|██▏       | 2139/10000 [30:36<4:03:40,  1.86s/it]\u001B[A\n",
      "Processing examples in test:  21%|██▏       | 2140/10000 [30:37<3:44:33,  1.71s/it]\u001B[A\n",
      "Processing examples in test:  21%|██▏       | 2141/10000 [30:38<3:25:30,  1.57s/it]\u001B[A\n",
      "Processing examples in test:  21%|██▏       | 2143/10000 [30:40<2:52:06,  1.31s/it]\u001B[A\n",
      "Processing examples in test:  21%|██▏       | 2147/10000 [30:41<1:44:59,  1.25it/s]\u001B[A\n",
      "Processing examples in test:  21%|██▏       | 2148/10000 [30:43<1:55:19,  1.13it/s]\u001B[A\n",
      "Processing examples in test:  22%|██▏       | 2150/10000 [30:44<1:41:31,  1.29it/s]\u001B[A\n",
      "Processing examples in test:  22%|██▏       | 2154/10000 [30:46<1:27:18,  1.50it/s]\u001B[A\n",
      "Processing examples in test:  22%|██▏       | 2157/10000 [30:47<1:16:03,  1.72it/s]\u001B[A\n",
      "Processing examples in test:  22%|██▏       | 2159/10000 [30:49<1:30:49,  1.44it/s]\u001B[A\n",
      "Processing examples in test:  22%|██▏       | 2164/10000 [30:50<1:03:07,  2.07it/s]\u001B[A\n",
      "Processing examples in test:  22%|██▏       | 2165/10000 [30:52<1:25:13,  1.53it/s]\u001B[A\n",
      "Processing examples in test:  22%|██▏       | 2168/10000 [30:54<1:23:52,  1.56it/s]\u001B[A\n",
      "Processing examples in test:  22%|██▏       | 2169/10000 [30:56<1:41:37,  1.28it/s]\u001B[A\n",
      "Processing examples in test:  22%|██▏       | 2170/10000 [30:58<2:04:22,  1.05it/s]\u001B[A\n",
      "Processing examples in test:  22%|██▏       | 2171/10000 [31:01<3:01:49,  1.39s/it]\u001B[A\n",
      "Processing examples in test:  22%|██▏       | 2173/10000 [31:02<2:32:05,  1.17s/it]\u001B[A\n",
      "Processing examples in test:  22%|██▏       | 2176/10000 [31:04<1:47:15,  1.22it/s]\u001B[A\n",
      "Processing examples in test:  22%|██▏       | 2178/10000 [31:05<1:39:35,  1.31it/s]\u001B[A\n",
      "Processing examples in test:  22%|██▏       | 2181/10000 [31:07<1:32:19,  1.41it/s]\u001B[A\n",
      "Processing examples in test:  22%|██▏       | 2183/10000 [31:08<1:22:42,  1.58it/s]\u001B[A\n",
      "Processing examples in test:  22%|██▏       | 2184/10000 [31:08<1:25:22,  1.53it/s]\u001B[A\n",
      "Processing examples in test:  22%|██▏       | 2187/10000 [31:10<1:12:14,  1.80it/s]\u001B[A\n",
      "Processing examples in test:  22%|██▏       | 2188/10000 [31:12<1:42:51,  1.27it/s]\u001B[A\n",
      "Processing examples in test:  22%|██▏       | 2191/10000 [31:13<1:22:18,  1.58it/s]\u001B[A\n",
      "Processing examples in test:  22%|██▏       | 2194/10000 [31:15<1:21:50,  1.59it/s]\u001B[A\n",
      "Processing examples in test:  22%|██▏       | 2196/10000 [31:16<1:20:13,  1.62it/s]\u001B[A\n",
      "Processing examples in test:  22%|██▏       | 2197/10000 [31:16<1:21:18,  1.60it/s]\u001B[A\n",
      "Processing examples in test:  22%|██▏       | 2198/10000 [31:18<1:44:02,  1.25it/s]\u001B[A\n",
      "Processing examples in test:  22%|██▏       | 2204/10000 [31:19<59:19,  2.19it/s]  \u001B[A\n",
      "Processing examples in test:  22%|██▏       | 2205/10000 [31:21<1:19:21,  1.64it/s]\u001B[A\n",
      "Processing examples in test:  22%|██▏       | 2206/10000 [31:23<1:50:20,  1.18it/s]\u001B[A\n",
      "Processing examples in test:  22%|██▏       | 2209/10000 [31:24<1:25:55,  1.51it/s]\u001B[A\n",
      "Processing examples in test:  22%|██▏       | 2211/10000 [31:25<1:21:09,  1.60it/s]\u001B[A\n",
      "Processing examples in test:  22%|██▏       | 2212/10000 [31:26<1:24:41,  1.53it/s]\u001B[A\n",
      "Processing examples in test:  22%|██▏       | 2215/10000 [31:27<1:10:32,  1.84it/s]\u001B[A\n",
      "Processing examples in test:  22%|██▏       | 2221/10000 [31:29<48:24,  2.68it/s]  \u001B[A\n",
      "Processing examples in test:  22%|██▏       | 2223/10000 [31:30<53:13,  2.44it/s]\u001B[A\n",
      "Processing examples in test:  22%|██▏       | 2227/10000 [31:31<46:39,  2.78it/s]\u001B[A\n",
      "Processing examples in test:  22%|██▏       | 2228/10000 [31:34<1:20:23,  1.61it/s]\u001B[A\n",
      "Processing examples in test:  22%|██▏       | 2229/10000 [31:34<1:21:20,  1.59it/s]\u001B[A\n",
      "Processing examples in test:  22%|██▏       | 2233/10000 [31:35<55:42,  2.32it/s]  \u001B[A\n",
      "Processing examples in test:  22%|██▏       | 2234/10000 [31:36<1:00:28,  2.14it/s]\u001B[A\n",
      "Processing examples in test:  22%|██▏       | 2237/10000 [31:37<51:25,  2.52it/s]  \u001B[A\n",
      "Processing examples in test:  22%|██▏       | 2238/10000 [31:39<1:27:48,  1.47it/s]\u001B[A\n",
      "Processing examples in test:  22%|██▏       | 2240/10000 [31:41<1:42:08,  1.27it/s]\u001B[A\n",
      "Processing examples in test:  22%|██▏       | 2244/10000 [31:43<1:23:01,  1.56it/s]\u001B[A\n",
      "Processing examples in test:  22%|██▏       | 2245/10000 [31:44<1:32:02,  1.40it/s]\u001B[A\n",
      "Processing examples in test:  22%|██▏       | 2246/10000 [31:45<1:41:35,  1.27it/s]\u001B[A\n",
      "Processing examples in test:  22%|██▏       | 2247/10000 [31:46<1:52:02,  1.15it/s]\u001B[A\n",
      "Processing examples in test:  22%|██▏       | 2248/10000 [31:48<2:25:11,  1.12s/it]\u001B[A\n",
      "Processing examples in test:  22%|██▏       | 2249/10000 [31:50<2:28:03,  1.15s/it]\u001B[A\n",
      "Processing examples in test:  22%|██▎       | 2250/10000 [31:50<2:15:02,  1.05s/it]\u001B[A\n",
      "Processing examples in test:  23%|██▎       | 2251/10000 [31:51<2:04:51,  1.03it/s]\u001B[A\n",
      "Processing examples in test:  23%|██▎       | 2252/10000 [31:52<1:59:49,  1.08it/s]\u001B[A"
     ]
    },
    {
     "name": "stdout",
     "output_type": "stream",
     "text": [
      "Failed to transform A ballerina standing on the toes of one food with one arm up in the air and one leg lifted behind her. or The ballerina is sleeping soundly.. Retrying 5 more times ...\n",
      "Failed to transform A ballerina standing on the toes of one food with one arm up in the air and one leg lifted behind her. or The ballerina is sleeping soundly.. Retrying 4 more times ...\n",
      "Failed to transform A ballerina standing on the toes of one food with one arm up in the air and one leg lifted behind her. or The ballerina is sleeping soundly.. Retrying 3 more times ...\n",
      "Failed to transform A ballerina standing on the toes of one food with one arm up in the air and one leg lifted behind her. or The ballerina is sleeping soundly.. Retrying 2 more times ...\n"
     ]
    },
    {
     "name": "stderr",
     "output_type": "stream",
     "text": [
      "\n",
      "Processing examples in test:  23%|██▎       | 2254/10000 [31:59<4:18:29,  2.00s/it]\u001B[A"
     ]
    },
    {
     "name": "stdout",
     "output_type": "stream",
     "text": [
      "Failed to transform A ballerina standing on the toes of one food with one arm up in the air and one leg lifted behind her. or The ballerina is sleeping soundly.. Retrying 1 more times ...\n"
     ]
    },
    {
     "name": "stderr",
     "output_type": "stream",
     "text": [
      "\n",
      "Processing examples in test:  23%|██▎       | 2255/10000 [31:59<3:42:32,  1.72s/it]\u001B[A\n",
      "Processing examples in test:  23%|██▎       | 2257/10000 [32:01<2:42:46,  1.26s/it]\u001B[A\n",
      "Processing examples in test:  23%|██▎       | 2259/10000 [32:02<2:26:01,  1.13s/it]\u001B[A\n",
      "Processing examples in test:  23%|██▎       | 2262/10000 [32:05<2:07:42,  1.01it/s]\u001B[A\n",
      "Processing examples in test:  23%|██▎       | 2263/10000 [32:07<2:24:02,  1.12s/it]\u001B[A\n",
      "Processing examples in test:  23%|██▎       | 2265/10000 [32:09<2:18:15,  1.07s/it]\u001B[A\n",
      "Processing examples in test:  23%|██▎       | 2266/10000 [32:10<2:28:33,  1.15s/it]\u001B[A\n",
      "Processing examples in test:  23%|██▎       | 2267/10000 [32:12<2:45:23,  1.28s/it]\u001B[A\n",
      "Processing examples in test:  23%|██▎       | 2268/10000 [32:14<3:04:28,  1.43s/it]\u001B[A\n",
      "Processing examples in test:  23%|██▎       | 2270/10000 [32:15<2:14:40,  1.05s/it]\u001B[A\n",
      "Processing examples in test:  23%|██▎       | 2273/10000 [32:15<1:27:42,  1.47it/s]\u001B[A\n",
      "Processing examples in test:  23%|██▎       | 2276/10000 [32:17<1:17:23,  1.66it/s]\u001B[A"
     ]
    },
    {
     "name": "stdout",
     "output_type": "stream",
     "text": [
      "Failed to transform A group of young adults with \"X\" on their hands, smiling. or The group of adults is happy.. Retrying 5 more times ...\n",
      "Failed to transform A group of young adults with \"X\" on their hands, smiling. or The group of adults is happy.. Retrying 4 more times ...\n",
      "Failed to transform A group of young adults with \"X\" on their hands, smiling. or The group of adults is happy.. Retrying 3 more times ...\n",
      "Failed to transform A group of young adults with \"X\" on their hands, smiling. or The group of adults is happy.. Retrying 2 more times ...\n"
     ]
    },
    {
     "name": "stderr",
     "output_type": "stream",
     "text": [
      "\n",
      "Processing examples in test:  23%|██▎       | 2279/10000 [32:22<2:02:48,  1.05it/s]\u001B[A"
     ]
    },
    {
     "name": "stdout",
     "output_type": "stream",
     "text": [
      "Failed to transform A group of young adults with \"X\" on their hands, smiling. or The group of adults is happy.. Retrying 1 more times ...\n",
      "Failed to transform A group of young adults with \"X\" on their hands, smiling. or They are all under 21 at a club.. Retrying 5 more times ...\n",
      "Failed to transform A group of young adults with \"X\" on their hands, smiling. or They are all under 21 at a club.. Retrying 4 more times ...\n",
      "Failed to transform A group of young adults with \"X\" on their hands, smiling. or They are all under 21 at a club.. Retrying 3 more times ...\n",
      "Failed to transform A group of young adults with \"X\" on their hands, smiling. or They are all under 21 at a club.. Retrying 2 more times ...\n"
     ]
    },
    {
     "name": "stderr",
     "output_type": "stream",
     "text": [
      "\n",
      "Processing examples in test:  23%|██▎       | 2280/10000 [32:27<3:31:09,  1.64s/it]\u001B[A"
     ]
    },
    {
     "name": "stdout",
     "output_type": "stream",
     "text": [
      "Failed to transform A group of young adults with \"X\" on their hands, smiling. or They are all under 21 at a club.. Retrying 1 more times ...\n"
     ]
    },
    {
     "name": "stderr",
     "output_type": "stream",
     "text": [
      "\n",
      "Processing examples in test:  23%|██▎       | 2282/10000 [32:29<3:00:14,  1.40s/it]\u001B[A\n",
      "Processing examples in test:  23%|██▎       | 2286/10000 [32:31<2:05:11,  1.03it/s]\u001B[A\n",
      "Processing examples in test:  23%|██▎       | 2293/10000 [32:33<1:22:55,  1.55it/s]\u001B[A\n",
      "Processing examples in test:  23%|██▎       | 2305/10000 [32:35<47:48,  2.68it/s]  \u001B[A\n",
      "Processing examples in test:  23%|██▎       | 2306/10000 [32:37<59:33,  2.15it/s]\u001B[A\n",
      "Processing examples in test:  23%|██▎       | 2307/10000 [32:39<1:14:06,  1.73it/s]\u001B[A"
     ]
    },
    {
     "name": "stdout",
     "output_type": "stream",
     "text": [
      "Failed to transform Five individuals standing on grass next to a brick building, holding their own string instrument. or There are five individuals near a building.. Retrying 5 more times ...\n",
      "Failed to transform Five individuals standing on grass next to a brick building, holding their own string instrument. or There are five individuals near a building.. Retrying 4 more times ...\n",
      "Failed to transform Five individuals standing on grass next to a brick building, holding their own string instrument. or There are five individuals near a building.. Retrying 3 more times ...\n",
      "Failed to transform Five individuals standing on grass next to a brick building, holding their own string instrument. or There are five individuals near a building.. Retrying 2 more times ...\n"
     ]
    },
    {
     "name": "stderr",
     "output_type": "stream",
     "text": [
      "\n",
      "Processing examples in test:  23%|██▎       | 2308/10000 [32:43<2:03:57,  1.03it/s]\u001B[A"
     ]
    },
    {
     "name": "stdout",
     "output_type": "stream",
     "text": [
      "Failed to transform Five individuals standing on grass next to a brick building, holding their own string instrument. or There are five individuals near a building.. Retrying 1 more times ...\n",
      "Failed to transform Five individuals standing on grass next to a brick building, holding their own string instrument. or The people are friends.. Retrying 5 more times ...\n",
      "Failed to transform Five individuals standing on grass next to a brick building, holding their own string instrument. or The people are friends.. Retrying 4 more times ...\n",
      "Failed to transform Five individuals standing on grass next to a brick building, holding their own string instrument. or The people are friends.. Retrying 3 more times ...\n",
      "Failed to transform Five individuals standing on grass next to a brick building, holding their own string instrument. or The people are friends.. Retrying 2 more times ...\n"
     ]
    },
    {
     "name": "stderr",
     "output_type": "stream",
     "text": [
      "\n",
      "Processing examples in test:  23%|██▎       | 2309/10000 [32:48<3:06:12,  1.45s/it]\u001B[A"
     ]
    },
    {
     "name": "stdout",
     "output_type": "stream",
     "text": [
      "Failed to transform Five individuals standing on grass next to a brick building, holding their own string instrument. or The people are friends.. Retrying 1 more times ...\n"
     ]
    },
    {
     "name": "stderr",
     "output_type": "stream",
     "text": [
      "\n",
      "Processing examples in test:  23%|██▎       | 2310/10000 [32:50<3:15:47,  1.53s/it]\u001B[A\n",
      "Processing examples in test:  23%|██▎       | 2311/10000 [32:55<4:49:47,  2.26s/it]\u001B[A\n",
      "Processing examples in test:  23%|██▎       | 2312/10000 [32:57<4:42:40,  2.21s/it]\u001B[A\n",
      "Processing examples in test:  23%|██▎       | 2314/10000 [32:58<3:26:09,  1.61s/it]\u001B[A\n",
      "Processing examples in test:  23%|██▎       | 2318/10000 [33:00<2:01:17,  1.06it/s]\u001B[A\n",
      "Processing examples in test:  23%|██▎       | 2323/10000 [33:01<1:22:33,  1.55it/s]\u001B[A\n",
      "Processing examples in test:  23%|██▎       | 2328/10000 [33:02<59:45,  2.14it/s]  \u001B[A\n",
      "Processing examples in test:  23%|██▎       | 2329/10000 [33:04<1:17:12,  1.66it/s]\u001B[A\n",
      "Processing examples in test:  23%|██▎       | 2331/10000 [33:05<1:09:24,  1.84it/s]\u001B[A\n",
      "Processing examples in test:  23%|██▎       | 2336/10000 [33:07<58:17,  2.19it/s]  \u001B[A\n",
      "Processing examples in test:  23%|██▎       | 2338/10000 [33:08<1:10:07,  1.82it/s]\u001B[A\n",
      "Processing examples in test:  23%|██▎       | 2339/10000 [33:10<1:26:35,  1.47it/s]\u001B[A\n",
      "Processing examples in test:  23%|██▎       | 2340/10000 [33:11<1:32:18,  1.38it/s]\u001B[A"
     ]
    },
    {
     "name": "stdout",
     "output_type": "stream",
     "text": [
      "Failed to transform A lady teacher warning her students about their behavior in a museum setting, and inviting them to be quite. or Students are inside of a museum.. Retrying 5 more times ...\n",
      "Failed to transform A lady teacher warning her students about their behavior in a museum setting, and inviting them to be quite. or Students are inside of a museum.. Retrying 4 more times ...\n",
      "Failed to transform A lady teacher warning her students about their behavior in a museum setting, and inviting them to be quite. or Students are inside of a museum.. Retrying 3 more times ...\n",
      "Failed to transform A lady teacher warning her students about their behavior in a museum setting, and inviting them to be quite. or Students are inside of a museum.. Retrying 2 more times ...\n"
     ]
    },
    {
     "name": "stderr",
     "output_type": "stream",
     "text": [
      "\n",
      "Processing examples in test:  23%|██▎       | 2342/10000 [33:16<2:46:36,  1.31s/it]\u001B[A"
     ]
    },
    {
     "name": "stdout",
     "output_type": "stream",
     "text": [
      "Failed to transform A lady teacher warning her students about their behavior in a museum setting, and inviting them to be quite. or Students are inside of a museum.. Retrying 1 more times ...\n"
     ]
    },
    {
     "name": "stderr",
     "output_type": "stream",
     "text": [
      "\n",
      "Processing examples in test:  23%|██▎       | 2343/10000 [33:17<2:43:34,  1.28s/it]\u001B[A\n",
      "Processing examples in test:  23%|██▎       | 2344/10000 [33:18<2:32:30,  1.20s/it]\u001B[A\n",
      "Processing examples in test:  23%|██▎       | 2348/10000 [33:20<1:44:24,  1.22it/s]\u001B[A"
     ]
    },
    {
     "name": "stdout",
     "output_type": "stream",
     "text": [
      "Failed to transform with A man standing with his purchases of the day.. Retrying 5 more times...\n",
      "Failed to transform with A man standing with his purchases of the day.. Retrying 4 more times...\n",
      "Failed to transform with A man standing with his purchases of the day.. Retrying 3 more times...\n",
      "Failed to transform with A man standing with his purchases of the day.. Retrying 2 more times...\n"
     ]
    },
    {
     "name": "stderr",
     "output_type": "stream",
     "text": [
      "\n",
      "Processing examples in test:  24%|██▎       | 2350/10000 [33:24<2:27:07,  1.15s/it]\u001B[A"
     ]
    },
    {
     "name": "stdout",
     "output_type": "stream",
     "text": [
      "Failed to transform with A man standing with his purchases of the day.. Retrying 1 more times...\n"
     ]
    },
    {
     "name": "stderr",
     "output_type": "stream",
     "text": [
      "\n",
      "Processing examples in test:  24%|██▎       | 2352/10000 [33:26<2:21:52,  1.11s/it]\u001B[A\n",
      "Processing examples in test:  24%|██▎       | 2354/10000 [33:28<2:18:41,  1.09s/it]\u001B[A\n",
      "Processing examples in test:  24%|██▎       | 2359/10000 [33:30<1:34:35,  1.35it/s]\u001B[A\n",
      "Processing examples in test:  24%|██▎       | 2360/10000 [33:32<1:55:56,  1.10it/s]\u001B[A\n",
      "Processing examples in test:  24%|██▎       | 2362/10000 [33:34<1:57:20,  1.08it/s]\u001B[A\n",
      "Processing examples in test:  24%|██▎       | 2363/10000 [33:36<2:20:44,  1.11s/it]\u001B[A\n",
      "Processing examples in test:  24%|██▎       | 2366/10000 [33:38<1:54:58,  1.11it/s]\u001B[A\n",
      "Processing examples in test:  24%|██▎       | 2369/10000 [33:40<1:36:07,  1.32it/s]\u001B[A\n",
      "Processing examples in test:  24%|██▎       | 2370/10000 [33:41<1:50:40,  1.15it/s]\u001B[A\n",
      "Processing examples in test:  24%|██▎       | 2371/10000 [33:42<1:56:59,  1.09it/s]\u001B[A\n",
      "Processing examples in test:  24%|██▎       | 2372/10000 [33:44<2:19:20,  1.10s/it]\u001B[A\n",
      "Processing examples in test:  24%|██▍       | 2378/10000 [33:45<1:04:54,  1.96it/s]\u001B[A\n",
      "Processing examples in test:  24%|██▍       | 2379/10000 [33:47<1:23:08,  1.53it/s]\u001B[A\n",
      "Processing examples in test:  24%|██▍       | 2381/10000 [33:48<1:15:28,  1.68it/s]\u001B[A\n",
      "Processing examples in test:  24%|██▍       | 2382/10000 [33:53<2:45:10,  1.30s/it]\u001B[A\n",
      "Processing examples in test:  24%|██▍       | 2385/10000 [33:54<2:04:31,  1.02it/s]\u001B[A\n",
      "Processing examples in test:  24%|██▍       | 2386/10000 [33:56<2:24:47,  1.14s/it]\u001B[A\n",
      "Processing examples in test:  24%|██▍       | 2387/10000 [33:59<2:52:30,  1.36s/it]\u001B[A\n",
      "Processing examples in test:  24%|██▍       | 2391/10000 [34:00<1:43:05,  1.23it/s]\u001B[A"
     ]
    },
    {
     "name": "stdout",
     "output_type": "stream",
     "text": [
      "Failed to transform A woman getting her face painted for a parade. or The woman is on a float.. Retrying 5 more times ...\n",
      "Failed to transform A woman getting her face painted for a parade. or The woman is on a float.. Retrying 4 more times ...\n",
      "Failed to transform A woman getting her face painted for a parade. or The woman is on a float.. Retrying 3 more times ...\n",
      "Failed to transform A woman getting her face painted for a parade. or The woman is on a float.. Retrying 2 more times ...\n"
     ]
    },
    {
     "name": "stderr",
     "output_type": "stream",
     "text": [
      "\n",
      "Processing examples in test:  24%|██▍       | 2392/10000 [34:06<3:23:06,  1.60s/it]\u001B[A"
     ]
    },
    {
     "name": "stdout",
     "output_type": "stream",
     "text": [
      "Failed to transform A woman getting her face painted for a parade. or The woman is on a float.. Retrying 1 more times ...\n"
     ]
    },
    {
     "name": "stderr",
     "output_type": "stream",
     "text": [
      "\n",
      "Processing examples in test:  24%|██▍       | 2394/10000 [34:07<2:44:20,  1.30s/it]\u001B[A\n",
      "Processing examples in test:  24%|██▍       | 2400/10000 [34:09<1:38:29,  1.29it/s]\u001B[A\n",
      "Processing examples in test:  24%|██▍       | 2401/10000 [34:11<1:57:50,  1.07it/s]\u001B[A\n",
      "Processing examples in test:  24%|██▍       | 2403/10000 [34:12<1:46:38,  1.19it/s]\u001B[A\n",
      "Processing examples in test:  24%|██▍       | 2407/10000 [34:14<1:25:51,  1.47it/s]\u001B[A\n",
      "Processing examples in test:  24%|██▍       | 2408/10000 [34:16<1:37:52,  1.29it/s]\u001B[A\n",
      "Processing examples in test:  24%|██▍       | 2410/10000 [34:16<1:25:20,  1.48it/s]\u001B[A\n",
      "Processing examples in test:  24%|██▍       | 2411/10000 [34:17<1:26:27,  1.46it/s]\u001B[A\n",
      "Processing examples in test:  24%|██▍       | 2413/10000 [34:19<1:26:53,  1.46it/s]\u001B[A\n",
      "Processing examples in test:  24%|██▍       | 2414/10000 [34:20<1:53:24,  1.11it/s]\u001B[A\n",
      "Processing examples in test:  24%|██▍       | 2417/10000 [34:21<1:23:11,  1.52it/s]\u001B[A\n",
      "Processing examples in test:  24%|██▍       | 2418/10000 [34:22<1:26:25,  1.46it/s]\u001B[A\n",
      "Processing examples in test:  24%|██▍       | 2421/10000 [34:23<1:09:03,  1.83it/s]\u001B[A\n",
      "Processing examples in test:  24%|██▍       | 2422/10000 [34:25<1:28:39,  1.42it/s]\u001B[A\n",
      "Processing examples in test:  24%|██▍       | 2423/10000 [34:26<1:49:10,  1.16it/s]\u001B[A\n",
      "Processing examples in test:  24%|██▍       | 2425/10000 [34:27<1:26:36,  1.46it/s]\u001B[A\n",
      "Processing examples in test:  24%|██▍       | 2427/10000 [34:28<1:16:47,  1.64it/s]\u001B[A\n",
      "Processing examples in test:  24%|██▍       | 2429/10000 [34:29<1:15:47,  1.67it/s]\u001B[A\n",
      "Processing examples in test:  24%|██▍       | 2430/10000 [34:32<2:01:44,  1.04it/s]\u001B[A"
     ]
    },
    {
     "name": "stdout",
     "output_type": "stream",
     "text": [
      "Failed to transform A gentleman standing on steps getting his picture taken by a girl wearing a dress. or The man is sitting on the curb with a woman.. Retrying 5 more times ...\n",
      "Failed to transform A gentleman standing on steps getting his picture taken by a girl wearing a dress. or The man is sitting on the curb with a woman.. Retrying 4 more times ...\n",
      "Failed to transform A gentleman standing on steps getting his picture taken by a girl wearing a dress. or The man is sitting on the curb with a woman.. Retrying 3 more times ...\n",
      "Failed to transform A gentleman standing on steps getting his picture taken by a girl wearing a dress. or The man is sitting on the curb with a woman.. Retrying 2 more times ...\n"
     ]
    },
    {
     "name": "stderr",
     "output_type": "stream",
     "text": [
      "\n",
      "Processing examples in test:  24%|██▍       | 2431/10000 [34:37<3:53:21,  1.85s/it]\u001B[A"
     ]
    },
    {
     "name": "stdout",
     "output_type": "stream",
     "text": [
      "Failed to transform A gentleman standing on steps getting his picture taken by a girl wearing a dress. or The man is sitting on the curb with a woman.. Retrying 1 more times ...\n",
      "Failed to transform A gentleman standing on steps getting his picture taken by a girl wearing a dress. or The woman is taking the man's photo for a magazine.. Retrying 5 more times ...\n",
      "Failed to transform A gentleman standing on steps getting his picture taken by a girl wearing a dress. or The woman is taking the man's photo for a magazine.. Retrying 4 more times ...\n",
      "Failed to transform A gentleman standing on steps getting his picture taken by a girl wearing a dress. or The woman is taking the man's photo for a magazine.. Retrying 3 more times ...\n",
      "Failed to transform A gentleman standing on steps getting his picture taken by a girl wearing a dress. or The woman is taking the man's photo for a magazine.. Retrying 2 more times ...\n"
     ]
    },
    {
     "name": "stderr",
     "output_type": "stream",
     "text": [
      "\n",
      "Processing examples in test:  24%|██▍       | 2433/10000 [34:41<4:16:32,  2.03s/it]\u001B[A"
     ]
    },
    {
     "name": "stdout",
     "output_type": "stream",
     "text": [
      "Failed to transform A gentleman standing on steps getting his picture taken by a girl wearing a dress. or The woman is taking the man's photo for a magazine.. Retrying 1 more times ...\n"
     ]
    },
    {
     "name": "stderr",
     "output_type": "stream",
     "text": [
      "\n",
      "Processing examples in test:  24%|██▍       | 2438/10000 [34:43<2:10:22,  1.03s/it]\u001B[A\n",
      "Processing examples in test:  24%|██▍       | 2443/10000 [34:45<1:33:18,  1.35it/s]\u001B[A\n",
      "Processing examples in test:  24%|██▍       | 2444/10000 [34:49<2:16:11,  1.08s/it]\u001B[A\n",
      "Processing examples in test:  25%|██▍       | 2451/10000 [34:50<1:21:11,  1.55it/s]\u001B[A\n",
      "Processing examples in test:  25%|██▍       | 2454/10000 [34:52<1:19:21,  1.58it/s]\u001B[A\n",
      "Processing examples in test:  25%|██▍       | 2456/10000 [34:54<1:26:44,  1.45it/s]\u001B[A\n",
      "Processing examples in test:  25%|██▍       | 2457/10000 [34:55<1:27:52,  1.43it/s]\u001B[A\n",
      "Processing examples in test:  25%|██▍       | 2458/10000 [34:56<1:35:31,  1.32it/s]\u001B[A\n",
      "Processing examples in test:  25%|██▍       | 2460/10000 [34:57<1:33:40,  1.34it/s]\u001B[A\n",
      "Processing examples in test:  25%|██▍       | 2461/10000 [34:59<1:58:09,  1.06it/s]\u001B[A\n",
      "Processing examples in test:  25%|██▍       | 2465/10000 [35:00<1:10:17,  1.79it/s]\u001B[A\n",
      "Processing examples in test:  25%|██▍       | 2469/10000 [35:01<56:49,  2.21it/s]  \u001B[A\n",
      "Processing examples in test:  25%|██▍       | 2470/10000 [35:02<1:01:26,  2.04it/s]\u001B[A\n",
      "Processing examples in test:  25%|██▍       | 2472/10000 [35:04<1:14:01,  1.69it/s]\u001B[A"
     ]
    },
    {
     "name": "stdout",
     "output_type": "stream",
     "text": [
      "Failed to transform with A man asleep on his snowboard.. Retrying 5 more times...\n",
      "Failed to transform with A man asleep on his snowboard.. Retrying 4 more times...\n",
      "Failed to transform with A man asleep on his snowboard.. Retrying 3 more times...\n",
      "Failed to transform with A man asleep on his snowboard.. Retrying 2 more times...\n"
     ]
    },
    {
     "name": "stderr",
     "output_type": "stream",
     "text": [
      "\n",
      "Processing examples in test:  25%|██▍       | 2473/10000 [35:08<2:28:27,  1.18s/it]\u001B[A"
     ]
    },
    {
     "name": "stdout",
     "output_type": "stream",
     "text": [
      "Failed to transform with A man asleep on his snowboard.. Retrying 1 more times...\n"
     ]
    },
    {
     "name": "stderr",
     "output_type": "stream",
     "text": [
      "\n",
      "Processing examples in test:  25%|██▍       | 2476/10000 [35:09<1:46:19,  1.18it/s]\u001B[A\n",
      "Processing examples in test:  25%|██▍       | 2477/10000 [35:10<1:43:28,  1.21it/s]\u001B[A\n",
      "Processing examples in test:  25%|██▍       | 2481/10000 [35:11<1:11:07,  1.76it/s]\u001B[A\n",
      "Processing examples in test:  25%|██▍       | 2485/10000 [35:12<1:03:14,  1.98it/s]\u001B[A\n",
      "Processing examples in test:  25%|██▍       | 2486/10000 [35:13<1:09:22,  1.81it/s]\u001B[A\n",
      "Processing examples in test:  25%|██▍       | 2487/10000 [35:15<1:25:15,  1.47it/s]\u001B[A\n",
      "Processing examples in test:  25%|██▍       | 2489/10000 [35:15<1:11:51,  1.74it/s]\u001B[A\n",
      "Processing examples in test:  25%|██▍       | 2490/10000 [35:16<1:22:43,  1.51it/s]\u001B[A\n",
      "Processing examples in test:  25%|██▍       | 2491/10000 [35:18<1:33:17,  1.34it/s]\u001B[A"
     ]
    },
    {
     "name": "stdout",
     "output_type": "stream",
     "text": [
      "Failed to transform Tourist waiting outside of the home  visit. or People waiting for their grandmother to let them in a home.. Retrying 5 more times ...\n",
      "Failed to transform Tourist waiting   the home  visit. or People waiting for their grandmother to let them in a home.. Retrying 4 more times ...\n",
      "Failed to transform Tourist   onewaiting    home  visit. or People waiting for their grandmother to let them in a home.. Retrying 3 more times ...\n",
      "Failed to transform Tourist   onewaiting    home  visit. or People waiting for their grandmother to let them in a home.. Retrying 2 more times ...\n"
     ]
    },
    {
     "name": "stderr",
     "output_type": "stream",
     "text": [
      "\n",
      "Processing examples in test:  25%|██▍       | 2494/10000 [35:26<3:26:26,  1.65s/it]\u001B[A"
     ]
    },
    {
     "name": "stdout",
     "output_type": "stream",
     "text": [
      "Failed to transform Tourist   onewaiting    home  visit. or People waiting for their grandmother to let them in a home.. Retrying 1 more times ...\n"
     ]
    },
    {
     "name": "stderr",
     "output_type": "stream",
     "text": [
      "\n",
      "Processing examples in test:  25%|██▍       | 2495/10000 [35:28<3:33:00,  1.70s/it]\u001B[A\n",
      "Processing examples in test:  25%|██▍       | 2497/10000 [35:29<2:51:14,  1.37s/it]\u001B[A\n",
      "Processing examples in test:  25%|██▍       | 2498/10000 [35:31<3:07:11,  1.50s/it]\u001B[A\n",
      "Processing examples in test:  25%|██▍       | 2499/10000 [35:32<3:04:58,  1.48s/it]\u001B[A\n",
      "Processing examples in test:  25%|██▌       | 2500/10000 [35:35<3:24:01,  1.63s/it]\u001B[A\n",
      "Processing examples in test:  25%|██▌       | 2502/10000 [35:36<2:29:43,  1.20s/it]\u001B[A\n",
      "Processing examples in test:  25%|██▌       | 2505/10000 [35:37<1:40:34,  1.24it/s]\u001B[A\n",
      "Processing examples in test:  25%|██▌       | 2510/10000 [35:38<1:05:17,  1.91it/s]\u001B[A\n",
      "Processing examples in test:  25%|██▌       | 2513/10000 [35:40<1:07:52,  1.84it/s]\u001B[A\n",
      "Processing examples in test:  25%|██▌       | 2514/10000 [35:41<1:10:25,  1.77it/s]\u001B[A\n",
      "Processing examples in test:  25%|██▌       | 2515/10000 [35:41<1:16:06,  1.64it/s]\u001B[A\n",
      "Processing examples in test:  25%|██▌       | 2518/10000 [35:43<1:03:42,  1.96it/s]\u001B[A\n",
      "Processing examples in test:  25%|██▌       | 2521/10000 [35:44<1:08:37,  1.82it/s]\u001B[A\n",
      "Processing examples in test:  25%|██▌       | 2522/10000 [35:45<1:12:56,  1.71it/s]\u001B[A\n",
      "Processing examples in test:  25%|██▌       | 2523/10000 [35:47<1:40:48,  1.24it/s]\u001B[A\n",
      "Processing examples in test:  25%|██▌       | 2524/10000 [35:49<2:02:11,  1.02it/s]\u001B[A\n",
      "Processing examples in test:  25%|██▌       | 2525/10000 [35:50<2:20:04,  1.12s/it]\u001B[A\n",
      "Processing examples in test:  25%|██▌       | 2527/10000 [35:53<2:30:33,  1.21s/it]\u001B[A\n",
      "Processing examples in test:  25%|██▌       | 2528/10000 [35:55<2:53:42,  1.39s/it]\u001B[A\n",
      "Processing examples in test:  25%|██▌       | 2530/10000 [35:57<2:30:59,  1.21s/it]\u001B[A\n",
      "Processing examples in test:  25%|██▌       | 2531/10000 [35:59<2:51:03,  1.37s/it]\u001B[A\n",
      "Processing examples in test:  25%|██▌       | 2532/10000 [36:00<2:46:58,  1.34s/it]\u001B[A\n",
      "Processing examples in test:  25%|██▌       | 2535/10000 [36:02<1:54:23,  1.09it/s]\u001B[A\n",
      "Processing examples in test:  25%|██▌       | 2536/10000 [36:02<1:50:30,  1.13it/s]\u001B[A\n",
      "Processing examples in test:  25%|██▌       | 2538/10000 [36:03<1:35:20,  1.30it/s]\u001B[A\n",
      "Processing examples in test:  25%|██▌       | 2539/10000 [36:05<1:53:35,  1.09it/s]\u001B[A\n",
      "Processing examples in test:  25%|██▌       | 2541/10000 [36:07<1:58:50,  1.05it/s]\u001B[A\n",
      "Processing examples in test:  25%|██▌       | 2542/10000 [36:09<2:23:44,  1.16s/it]\u001B[A\n",
      "Processing examples in test:  25%|██▌       | 2543/10000 [36:10<2:25:29,  1.17s/it]\u001B[A\n",
      "Processing examples in test:  25%|██▌       | 2545/10000 [36:11<1:45:49,  1.17it/s]\u001B[A\n",
      "Processing examples in test:  25%|██▌       | 2546/10000 [36:13<2:16:09,  1.10s/it]\u001B[A\n",
      "Processing examples in test:  25%|██▌       | 2547/10000 [36:14<2:24:44,  1.17s/it]\u001B[A\n",
      "Processing examples in test:  26%|██▌       | 2550/10000 [36:15<1:25:45,  1.45it/s]\u001B[A\n",
      "Processing examples in test:  26%|██▌       | 2551/10000 [36:16<1:25:41,  1.45it/s]\u001B[A\n",
      "Processing examples in test:  26%|██▌       | 2552/10000 [36:17<1:56:34,  1.06it/s]\u001B[A\n",
      "Processing examples in test:  26%|██▌       | 2555/10000 [36:19<1:27:54,  1.41it/s]\u001B[A"
     ]
    },
    {
     "name": "stdout",
     "output_type": "stream",
     "text": [
      "Failed to transform A nurse is a-listening to another women's heartbeat with a stethoscope. or A woman getting her annual check up.. Retrying 5 more times ...\n",
      "Failed to transform Nurse -listening to another womans heartbeat with stethoscope. or A woman getting her annual check up.. Retrying 4 more times ...\n",
      "Failed to transform Nurse -listening to another womans one heartbeat with stethoscope. or A woman getting her annual check up.. Retrying 3 more times ...\n",
      "Failed to transform Nurse to another womans with stethoscope -listening one heartbeat. or A woman getting her annual check up.. Retrying 2 more times ...\n"
     ]
    },
    {
     "name": "stderr",
     "output_type": "stream",
     "text": [
      "\n",
      "Processing examples in test:  26%|██▌       | 2559/10000 [36:29<3:14:46,  1.57s/it]\u001B[A"
     ]
    },
    {
     "name": "stdout",
     "output_type": "stream",
     "text": [
      "Failed to transform To another womans Nurse with stethoscope -listening one heartbeat. or A woman getting her annual check up.. Retrying 1 more times ...\n"
     ]
    },
    {
     "name": "stderr",
     "output_type": "stream",
     "text": [
      "\n",
      "Processing examples in test:  26%|██▌       | 2562/10000 [36:30<2:24:01,  1.16s/it]\u001B[A\n",
      "Processing examples in test:  26%|██▌       | 2563/10000 [36:31<2:24:48,  1.17s/it]\u001B[A\n",
      "Processing examples in test:  26%|██▌       | 2565/10000 [36:33<2:17:07,  1.11s/it]\u001B[A\n",
      "Processing examples in test:  26%|██▌       | 2566/10000 [36:34<2:16:25,  1.10s/it]\u001B[A\n",
      "Processing examples in test:  26%|██▌       | 2569/10000 [36:36<1:51:13,  1.11it/s]\u001B[A\n",
      "Processing examples in test:  26%|██▌       | 2570/10000 [36:37<1:57:09,  1.06it/s]\u001B[A\n",
      "Processing examples in test:  26%|██▌       | 2571/10000 [36:39<2:22:13,  1.15s/it]\u001B[A\n",
      "Processing examples in test:  26%|██▌       | 2572/10000 [36:40<2:12:08,  1.07s/it]\u001B[A\n",
      "Processing examples in test:  26%|██▌       | 2576/10000 [36:42<1:39:27,  1.24it/s]\u001B[A\n",
      "Processing examples in test:  26%|██▌       | 2577/10000 [36:45<2:09:54,  1.05s/it]\u001B[A\n",
      "Processing examples in test:  26%|██▌       | 2579/10000 [36:46<1:51:16,  1.11it/s]\u001B[A\n",
      "Processing examples in test:  26%|██▌       | 2580/10000 [36:47<2:10:07,  1.05s/it]\u001B[A\n",
      "Processing examples in test:  26%|██▌       | 2581/10000 [36:49<2:23:09,  1.16s/it]\u001B[A\n",
      "Processing examples in test:  26%|██▌       | 2582/10000 [36:51<2:35:34,  1.26s/it]\u001B[A\n",
      "Processing examples in test:  26%|██▌       | 2583/10000 [36:52<2:49:04,  1.37s/it]\u001B[A\n",
      "Processing examples in test:  26%|██▌       | 2587/10000 [36:55<1:52:18,  1.10it/s]\u001B[A\n",
      "Processing examples in test:  26%|██▌       | 2588/10000 [36:56<2:00:40,  1.02it/s]\u001B[A\n",
      "Processing examples in test:  26%|██▌       | 2594/10000 [36:57<1:02:03,  1.99it/s]\u001B[A\n",
      "Processing examples in test:  26%|██▌       | 2595/10000 [36:58<1:04:24,  1.92it/s]\u001B[A\n",
      "Processing examples in test:  26%|██▌       | 2596/10000 [36:59<1:23:47,  1.47it/s]\u001B[A\n",
      "Processing examples in test:  26%|██▌       | 2597/10000 [37:01<1:40:03,  1.23it/s]\u001B[A\n",
      "Processing examples in test:  26%|██▌       | 2600/10000 [37:02<1:27:57,  1.40it/s]\u001B[A\n",
      "Processing examples in test:  26%|██▌       | 2603/10000 [37:04<1:21:40,  1.51it/s]\u001B[A\n",
      "Processing examples in test:  26%|██▌       | 2604/10000 [37:06<1:49:13,  1.13it/s]\u001B[A\n",
      "Processing examples in test:  26%|██▌       | 2605/10000 [37:12<3:29:43,  1.70s/it]\u001B[A\n",
      "Processing examples in test:  26%|██▌       | 2606/10000 [37:20<6:20:06,  3.08s/it]\u001B[A\n",
      "Processing examples in test:  26%|██▌       | 2607/10000 [37:22<5:40:10,  2.76s/it]\u001B[A\n",
      "Processing examples in test:  26%|██▌       | 2610/10000 [37:23<3:23:43,  1.65s/it]\u001B[A\n",
      "Processing examples in test:  26%|██▌       | 2612/10000 [37:25<2:42:21,  1.32s/it]\u001B[A\n",
      "Processing examples in test:  26%|██▌       | 2614/10000 [37:26<2:19:59,  1.14s/it]\u001B[A\n",
      "Processing examples in test:  26%|██▌       | 2617/10000 [37:27<1:42:55,  1.20it/s]\u001B[A\n",
      "Processing examples in test:  26%|██▌       | 2618/10000 [37:28<1:50:01,  1.12it/s]\u001B[A\n",
      "Processing examples in test:  26%|██▌       | 2619/10000 [37:30<2:11:00,  1.06s/it]\u001B[A\n",
      "Processing examples in test:  26%|██▌       | 2623/10000 [37:32<1:30:43,  1.36it/s]\u001B[A\n",
      "Processing examples in test:  26%|██▌       | 2624/10000 [37:34<1:51:19,  1.10it/s]\u001B[A\n",
      "Processing examples in test:  26%|██▋       | 2625/10000 [37:35<1:48:46,  1.13it/s]\u001B[A\n",
      "Processing examples in test:  26%|██▋       | 2631/10000 [37:36<1:01:59,  1.98it/s]\u001B[A"
     ]
    },
    {
     "name": "stdout",
     "output_type": "stream",
     "text": [
      "Failed to transform railroad on the tracks at nighttime workers working or people on their last day of work. Retrying 5 more times ...\n",
      "Failed to transform railroad on a tracks at nighttime workers a-working or people on their last day of work. Retrying 4 more times ...\n",
      "Failed to transform railroad tracks nighttime worker a-working or people on their last day of work. Retrying 3 more times ...\n",
      "Failed to transform railroad are tracking nighttime worker a-working or people on their last day of work. Retrying 2 more times ...\n"
     ]
    },
    {
     "name": "stderr",
     "output_type": "stream",
     "text": [
      "\n",
      "Processing examples in test:  26%|██▋       | 2632/10000 [37:50<4:27:44,  2.18s/it]\u001B[A"
     ]
    },
    {
     "name": "stdout",
     "output_type": "stream",
     "text": [
      "Failed to transform railroad are tracking nighttime worker a-working or people on their last day of work. Retrying 1 more times ...\n"
     ]
    },
    {
     "name": "stderr",
     "output_type": "stream",
     "text": [
      "\n",
      "Processing examples in test:  26%|██▋       | 2633/10000 [37:51<4:08:05,  2.02s/it]\u001B[A\n",
      "Processing examples in test:  26%|██▋       | 2635/10000 [37:52<3:14:00,  1.58s/it]\u001B[A\n",
      "Processing examples in test:  26%|██▋       | 2637/10000 [37:54<2:41:35,  1.32s/it]\u001B[A\n",
      "Processing examples in test:  26%|██▋       | 2639/10000 [37:54<2:07:13,  1.04s/it]\u001B[A\n",
      "Processing examples in test:  26%|██▋       | 2640/10000 [37:56<2:29:47,  1.22s/it]\u001B[A\n",
      "Processing examples in test:  26%|██▋       | 2641/10000 [37:57<2:25:27,  1.19s/it]\u001B[A\n",
      "Processing examples in test:  26%|██▋       | 2642/10000 [37:58<2:12:03,  1.08s/it]\u001B[A\n",
      "Processing examples in test:  26%|██▋       | 2643/10000 [38:00<2:22:33,  1.16s/it]\u001B[A\n",
      "Processing examples in test:  26%|██▋       | 2644/10000 [38:00<2:10:42,  1.07s/it]\u001B[A\n",
      "Processing examples in test:  26%|██▋       | 2645/10000 [38:02<2:37:35,  1.29s/it]\u001B[A\n",
      "Processing examples in test:  26%|██▋       | 2647/10000 [38:03<1:50:46,  1.11it/s]\u001B[A\n",
      "Processing examples in test:  26%|██▋       | 2649/10000 [38:04<1:36:08,  1.27it/s]\u001B[A\n",
      "Processing examples in test:  27%|██▋       | 2652/10000 [38:05<1:07:08,  1.82it/s]\u001B[A\n",
      "Processing examples in test:  27%|██▋       | 2653/10000 [38:06<1:24:24,  1.45it/s]\u001B[A\n",
      "Processing examples in test:  27%|██▋       | 2656/10000 [38:08<1:14:02,  1.65it/s]\u001B[A\n",
      "Processing examples in test:  27%|██▋       | 2657/10000 [38:11<2:02:55,  1.00s/it]\u001B[A\n",
      "Processing examples in test:  27%|██▋       | 2658/10000 [38:18<4:30:56,  2.21s/it]\u001B[A\n",
      "Processing examples in test:  27%|██▋       | 2659/10000 [38:25<6:38:17,  3.26s/it]\u001B[A\n",
      "Processing examples in test:  27%|██▋       | 2661/10000 [38:26<4:27:15,  2.18s/it]\u001B[A\n",
      "Processing examples in test:  27%|██▋       | 2663/10000 [38:27<3:09:36,  1.55s/it]\u001B[A\n",
      "Processing examples in test:  27%|██▋       | 2665/10000 [38:28<2:30:18,  1.23s/it]\u001B[A\n",
      "Processing examples in test:  27%|██▋       | 2670/10000 [38:30<1:39:20,  1.23it/s]\u001B[A\n",
      "Processing examples in test:  27%|██▋       | 2671/10000 [38:32<1:57:58,  1.04it/s]\u001B[A\n",
      "Processing examples in test:  27%|██▋       | 2673/10000 [38:35<2:08:41,  1.05s/it]\u001B[A\n",
      "Processing examples in test:  27%|██▋       | 2675/10000 [38:37<2:05:57,  1.03s/it]\u001B[A\n",
      "Processing examples in test:  27%|██▋       | 2677/10000 [38:40<2:27:46,  1.21s/it]\u001B[A\n",
      "Processing examples in test:  27%|██▋       | 2680/10000 [38:41<1:48:45,  1.12it/s]\u001B[A\n",
      "Processing examples in test:  27%|██▋       | 2681/10000 [38:42<1:53:56,  1.07it/s]\u001B[A\n",
      "Processing examples in test:  27%|██▋       | 2685/10000 [38:44<1:20:08,  1.52it/s]\u001B[A\n",
      "Processing examples in test:  27%|██▋       | 2686/10000 [38:45<1:34:56,  1.28it/s]\u001B[A\n",
      "Processing examples in test:  27%|██▋       | 2687/10000 [38:47<1:52:09,  1.09it/s]\u001B[A\n",
      "Processing examples in test:  27%|██▋       | 2688/10000 [38:48<1:49:11,  1.12it/s]\u001B[A\n",
      "Processing examples in test:  27%|██▋       | 2690/10000 [38:49<1:29:53,  1.36it/s]\u001B[A\n",
      "Processing examples in test:  27%|██▋       | 2691/10000 [38:57<4:34:55,  2.26s/it]\u001B[A\n",
      "Processing examples in test:  27%|██▋       | 2693/10000 [38:59<3:34:23,  1.76s/it]\u001B[A\n",
      "Processing examples in test:  27%|██▋       | 2697/10000 [39:00<2:13:48,  1.10s/it]\u001B[A\n",
      "Processing examples in test:  27%|██▋       | 2699/10000 [39:02<2:07:14,  1.05s/it]\u001B[A\n",
      "Processing examples in test:  27%|██▋       | 2700/10000 [39:04<2:21:01,  1.16s/it]\u001B[A\n",
      "Processing examples in test:  27%|██▋       | 2705/10000 [39:05<1:23:53,  1.45it/s]\u001B[A\n",
      "Processing examples in test:  27%|██▋       | 2709/10000 [39:06<1:00:00,  2.03it/s]\u001B[A\n",
      "Processing examples in test:  27%|██▋       | 2711/10000 [39:08<1:17:59,  1.56it/s]\u001B[A\n",
      "Processing examples in test:  27%|██▋       | 2712/10000 [39:11<1:44:18,  1.16it/s]\u001B[A\n",
      "Processing examples in test:  27%|██▋       | 2714/10000 [39:13<1:54:26,  1.06it/s]\u001B[A\n",
      "Processing examples in test:  27%|██▋       | 2718/10000 [39:15<1:29:32,  1.36it/s]\u001B[A\n",
      "Processing examples in test:  27%|██▋       | 2719/10000 [39:16<1:41:19,  1.20it/s]\u001B[A\n",
      "Processing examples in test:  27%|██▋       | 2723/10000 [39:17<1:11:08,  1.70it/s]\u001B[A\n",
      "Processing examples in test:  27%|██▋       | 2724/10000 [39:19<1:24:45,  1.43it/s]\u001B[A\n",
      "Processing examples in test:  27%|██▋       | 2725/10000 [39:21<1:49:27,  1.11it/s]\u001B[A\n",
      "Processing examples in test:  27%|██▋       | 2733/10000 [39:23<57:01,  2.12it/s]  \u001B[A\n",
      "Processing examples in test:  27%|██▋       | 2734/10000 [39:25<1:19:03,  1.53it/s]\u001B[A\n",
      "Processing examples in test:  27%|██▋       | 2735/10000 [39:27<1:41:23,  1.19it/s]\u001B[A\n",
      "Processing examples in test:  27%|██▋       | 2736/10000 [39:28<1:44:59,  1.15it/s]\u001B[A\n",
      "Processing examples in test:  27%|██▋       | 2737/10000 [39:30<2:10:12,  1.08s/it]\u001B[A\n",
      "Processing examples in test:  27%|██▋       | 2738/10000 [39:31<2:07:40,  1.05s/it]\u001B[A\n",
      "Processing examples in test:  27%|██▋       | 2739/10000 [39:33<2:18:37,  1.15s/it]\u001B[A\n",
      "Processing examples in test:  27%|██▋       | 2740/10000 [39:34<2:36:55,  1.30s/it]\u001B[A\n",
      "Processing examples in test:  27%|██▋       | 2742/10000 [39:35<2:00:23,  1.00it/s]\u001B[A\n",
      "Processing examples in test:  27%|██▋       | 2744/10000 [39:37<1:57:46,  1.03it/s]\u001B[A\n",
      "Processing examples in test:  27%|██▋       | 2745/10000 [39:39<2:15:24,  1.12s/it]\u001B[A\n",
      "Processing examples in test:  27%|██▋       | 2747/10000 [39:45<3:45:59,  1.87s/it]\u001B[A\n",
      "Processing examples in test:  27%|██▋       | 2748/10000 [39:47<3:50:21,  1.91s/it]\u001B[A\n",
      "Processing examples in test:  27%|██▋       | 2749/10000 [39:49<3:57:34,  1.97s/it]\u001B[A\n",
      "Processing examples in test:  28%|██▊       | 2752/10000 [40:04<6:53:33,  3.42s/it]\u001B[A\n",
      "Processing examples in test:  28%|██▊       | 2753/10000 [40:05<5:50:47,  2.90s/it]\u001B[A"
     ]
    },
    {
     "name": "stdout",
     "output_type": "stream",
     "text": [
      "Failed to transform A man in a tank top fixing himself a hotdog. or Two girls were ther.. Retrying 5 more times ...\n",
      "Failed to transform A man in a tank top fixing himself a hotdog. or Two girls were ther.. Retrying 4 more times ...\n",
      "Failed to transform A man in a tank top fixing himself a hotdog. or Two girls were ther.. Retrying 3 more times ...\n",
      "Failed to transform A man in a tank top fixing himself a hotdog. or Two girls were ther.. Retrying 2 more times ...\n"
     ]
    },
    {
     "name": "stderr",
     "output_type": "stream",
     "text": [
      "\n",
      "Processing examples in test:  28%|██▊       | 2754/10000 [40:09<6:35:48,  3.28s/it]\u001B[A"
     ]
    },
    {
     "name": "stdout",
     "output_type": "stream",
     "text": [
      "Failed to transform A man in a tank top fixing himself a hotdog. or Two girls were ther.. Retrying 1 more times ...\n"
     ]
    },
    {
     "name": "stderr",
     "output_type": "stream",
     "text": [
      "\n",
      "Processing examples in test:  28%|██▊       | 2755/10000 [40:11<5:33:06,  2.76s/it]\u001B[A\n",
      "Processing examples in test:  28%|██▊       | 2758/10000 [40:13<3:29:42,  1.74s/it]\u001B[A\n",
      "Processing examples in test:  28%|██▊       | 2760/10000 [40:14<2:43:56,  1.36s/it]\u001B[A\n",
      "Processing examples in test:  28%|██▊       | 2761/10000 [40:15<2:46:30,  1.38s/it]\u001B[A\n",
      "Processing examples in test:  28%|██▊       | 2763/10000 [40:17<2:29:27,  1.24s/it]\u001B[A\n",
      "Processing examples in test:  28%|██▊       | 2766/10000 [40:18<1:44:20,  1.16it/s]\u001B[A\n",
      "Processing examples in test:  28%|██▊       | 2767/10000 [40:19<1:43:43,  1.16it/s]\u001B[A\n",
      "Processing examples in test:  28%|██▊       | 2768/10000 [40:20<1:41:33,  1.19it/s]\u001B[A\n",
      "Processing examples in test:  28%|██▊       | 2771/10000 [40:22<1:30:06,  1.34it/s]\u001B[A\n",
      "Processing examples in test:  28%|██▊       | 2775/10000 [40:23<1:08:17,  1.76it/s]\u001B[A\n",
      "Processing examples in test:  28%|██▊       | 2776/10000 [40:25<1:31:43,  1.31it/s]\u001B[A\n",
      "Processing examples in test:  28%|██▊       | 2777/10000 [40:27<1:46:31,  1.13it/s]\u001B[A\n",
      "Processing examples in test:  28%|██▊       | 2778/10000 [40:30<2:34:26,  1.28s/it]\u001B[A\n",
      "Processing examples in test:  28%|██▊       | 2779/10000 [40:32<2:52:23,  1.43s/it]\u001B[A\n",
      "Processing examples in test:  28%|██▊       | 2780/10000 [40:34<3:06:51,  1.55s/it]\u001B[A\n",
      "Processing examples in test:  28%|██▊       | 2781/10000 [40:35<3:08:55,  1.57s/it]\u001B[A\n",
      "Processing examples in test:  28%|██▊       | 2782/10000 [40:36<2:52:31,  1.43s/it]\u001B[A\n",
      "Processing examples in test:  28%|██▊       | 2786/10000 [40:43<3:10:32,  1.58s/it]\u001B[A\n",
      "Processing examples in test:  28%|██▊       | 2789/10000 [40:44<2:19:44,  1.16s/it]\u001B[A\n",
      "Processing examples in test:  28%|██▊       | 2790/10000 [40:46<2:19:46,  1.16s/it]\u001B[A\n",
      "Processing examples in test:  28%|██▊       | 2791/10000 [40:47<2:20:05,  1.17s/it]\u001B[A\n",
      "Processing examples in test:  28%|██▊       | 2794/10000 [40:49<1:58:56,  1.01it/s]\u001B[A\n",
      "Processing examples in test:  28%|██▊       | 2796/10000 [40:50<1:44:16,  1.15it/s]\u001B[A\n",
      "Processing examples in test:  28%|██▊       | 2797/10000 [40:52<2:05:56,  1.05s/it]\u001B[A\n",
      "Processing examples in test:  28%|██▊       | 2804/10000 [40:54<1:02:38,  1.91it/s]\u001B[A\n",
      "Processing examples in test:  28%|██▊       | 2808/10000 [40:55<52:31,  2.28it/s]  \u001B[A\n",
      "Processing examples in test:  28%|██▊       | 2812/10000 [40:57<52:24,  2.29it/s]\u001B[A\n",
      "Processing examples in test:  28%|██▊       | 2813/10000 [40:58<1:10:16,  1.70it/s]\u001B[A\n",
      "Processing examples in test:  28%|██▊       | 2815/10000 [41:02<1:38:28,  1.22it/s]\u001B[A"
     ]
    },
    {
     "name": "stdout",
     "output_type": "stream",
     "text": [
      "Failed to transform an Asian woman dances with long ribbons, she is mid jump with her legs pointed to the right and the red ribbons flowing on either side of her or an Asian man is dancing. Retrying 5 more times ...\n",
      "Failed to transform an Asian woman dances with long ribbons, she is mid jump with her legs pointed to the right and the red ribbons flowing on either side of her or an Asian man is dancing. Retrying 4 more times ...\n",
      "Failed to transform an Asian woman dances with long ribbons, she is mid jump with her legs pointed to the right and the red ribbons flowing on either side of her or an Asian man is dancing. Retrying 3 more times ...\n",
      "Failed to transform an Asian woman dances with long ribbons, she is mid jump with her legs pointed to the right and the red ribbons flowing on either side of her or an Asian man is dancing. Retrying 2 more times ...\n"
     ]
    },
    {
     "name": "stderr",
     "output_type": "stream",
     "text": [
      "\n",
      "Processing examples in test:  28%|██▊       | 2817/10000 [41:07<2:32:09,  1.27s/it]\u001B[A"
     ]
    },
    {
     "name": "stdout",
     "output_type": "stream",
     "text": [
      "Failed to transform an Asian woman dances with long ribbons, she is mid jump with her legs pointed to the right and the red ribbons flowing on either side of her or an Asian man is dancing. Retrying 1 more times ...\n",
      "Failed to transform A big black poodle running on the grass with a toy in its mouth. or A dog is playing outside.. Retrying 5 more times ...\n",
      "Failed to transform A big black poodle running on the grass with a toy in its mouth. or A dog is playing outside.. Retrying 4 more times ...\n",
      "Failed to transform A big black poodle running on the grass with a toy in its mouth. or A dog is playing outside.. Retrying 3 more times ...\n",
      "Failed to transform A big black poodle running on the grass with a toy in its mouth. or A dog is playing outside.. Retrying 2 more times ...\n"
     ]
    },
    {
     "name": "stderr",
     "output_type": "stream",
     "text": [
      "\n",
      "Processing examples in test:  28%|██▊       | 2818/10000 [41:12<3:48:19,  1.91s/it]\u001B[A"
     ]
    },
    {
     "name": "stdout",
     "output_type": "stream",
     "text": [
      "Failed to transform A big black poodle running on the grass with a toy in its mouth. or A dog is playing outside.. Retrying 1 more times ...\n"
     ]
    },
    {
     "name": "stderr",
     "output_type": "stream",
     "text": [
      "\n",
      "Processing examples in test:  28%|██▊       | 2819/10000 [41:14<3:32:09,  1.77s/it]\u001B[A\n",
      "Processing examples in test:  28%|██▊       | 2820/10000 [41:15<3:18:47,  1.66s/it]\u001B[A\n",
      "Processing examples in test:  28%|██▊       | 2821/10000 [41:16<3:12:48,  1.61s/it]\u001B[A\n",
      "Processing examples in test:  28%|██▊       | 2823/10000 [41:17<2:22:59,  1.20s/it]\u001B[A\n",
      "Processing examples in test:  28%|██▊       | 2826/10000 [41:19<1:40:34,  1.19it/s]\u001B[A\n",
      "Processing examples in test:  28%|██▊       | 2828/10000 [41:19<1:23:17,  1.44it/s]\u001B[A\n",
      "Processing examples in test:  28%|██▊       | 2829/10000 [41:21<1:51:01,  1.08it/s]\u001B[A\n",
      "Processing examples in test:  28%|██▊       | 2832/10000 [41:24<1:41:45,  1.17it/s]\u001B[A\n",
      "Processing examples in test:  28%|██▊       | 2833/10000 [41:24<1:40:24,  1.19it/s]\u001B[A\n",
      "Processing examples in test:  28%|██▊       | 2837/10000 [41:26<1:17:13,  1.55it/s]\u001B[A\n",
      "Processing examples in test:  28%|██▊       | 2838/10000 [41:28<1:39:33,  1.20it/s]\u001B[A\n",
      "Processing examples in test:  28%|██▊       | 2840/10000 [41:29<1:29:25,  1.33it/s]\u001B[A\n",
      "Processing examples in test:  28%|██▊       | 2844/10000 [41:31<1:09:44,  1.71it/s]\u001B[A\n",
      "Processing examples in test:  28%|██▊       | 2848/10000 [41:32<59:18,  2.01it/s]  \u001B[A\n",
      "Processing examples in test:  28%|██▊       | 2849/10000 [41:34<1:20:12,  1.49it/s]\u001B[A\n",
      "Processing examples in test:  28%|██▊       | 2850/10000 [41:35<1:29:16,  1.33it/s]\u001B[A\n",
      "Processing examples in test:  29%|██▊       | 2853/10000 [41:36<1:12:35,  1.64it/s]\u001B[A\n",
      "Processing examples in test:  29%|██▊       | 2859/10000 [41:38<45:41,  2.60it/s]  \u001B[A\n",
      "Processing examples in test:  29%|██▊       | 2860/10000 [41:39<57:06,  2.08it/s]\u001B[A\n",
      "Processing examples in test:  29%|██▊       | 2861/10000 [41:41<1:19:44,  1.49it/s]\u001B[A\n",
      "Processing examples in test:  29%|██▊       | 2862/10000 [41:43<1:44:31,  1.14it/s]\u001B[A\n",
      "Processing examples in test:  29%|██▊       | 2863/10000 [41:44<1:50:29,  1.08it/s]\u001B[A"
     ]
    },
    {
     "name": "stdout",
     "output_type": "stream",
     "text": [
      "Failed to transform Indian musicians playing in the evening on a pillow, while life behind them continues. or Musicians are passionate about music.. Retrying 5 more times ...\n",
      "Failed to transform Indian musicians playing in the evening on a pillow, while life behind them continues. or Musicians are passionate about music.. Retrying 4 more times ...\n",
      "Failed to transform Indian musicians playing in the evening on a pillow, while life behind them continues. or Musicians are passionate about music.. Retrying 3 more times ...\n",
      "Failed to transform Indian musicians playing in the evening on a pillow, while life behind them continues. or Musicians are passionate about music.. Retrying 2 more times ...\n"
     ]
    },
    {
     "name": "stderr",
     "output_type": "stream",
     "text": [
      "\n",
      "Processing examples in test:  29%|██▊       | 2865/10000 [41:49<2:55:08,  1.47s/it]\u001B[A"
     ]
    },
    {
     "name": "stdout",
     "output_type": "stream",
     "text": [
      "Failed to transform Indian musicians playing in the evening on a pillow, while life behind them continues. or Musicians are passionate about music.. Retrying 1 more times ...\n"
     ]
    },
    {
     "name": "stderr",
     "output_type": "stream",
     "text": [
      "\n",
      "Processing examples in test:  29%|██▊       | 2866/10000 [41:51<3:05:27,  1.56s/it]\u001B[A\n",
      "Processing examples in test:  29%|██▊       | 2867/10000 [41:54<3:57:30,  2.00s/it]\u001B[A\n",
      "Processing examples in test:  29%|██▊       | 2868/10000 [41:56<3:46:49,  1.91s/it]\u001B[A\n",
      "Processing examples in test:  29%|██▊       | 2869/10000 [41:58<3:43:04,  1.88s/it]\u001B[A\n",
      "Processing examples in test:  29%|██▊       | 2871/10000 [41:59<2:36:27,  1.32s/it]\u001B[A\n",
      "Processing examples in test:  29%|██▊       | 2872/10000 [42:00<2:32:16,  1.28s/it]\u001B[A\n",
      "Processing examples in test:  29%|██▊       | 2873/10000 [42:00<2:14:58,  1.14s/it]\u001B[A"
     ]
    },
    {
     "name": "stdout",
     "output_type": "stream",
     "text": [
      "Failed to transform Female in a military uniform with her hair tied back. or The female is wearing a ponytail.. Retrying 5 more times ...\n",
      "Failed to transform Female in a military uniform with her hair tied back. or The female is wearing a ponytail.. Retrying 4 more times ...\n",
      "Failed to transform Female in a military uniform with her hair tied back. or The female is wearing a ponytail.. Retrying 3 more times ...\n",
      "Failed to transform Female in a military uniform with her hair tied back. or The female is wearing a ponytail.. Retrying 2 more times ...\n"
     ]
    },
    {
     "name": "stderr",
     "output_type": "stream",
     "text": [
      "\n",
      "Processing examples in test:  29%|██▉       | 2875/10000 [42:06<3:31:13,  1.78s/it]\u001B[A"
     ]
    },
    {
     "name": "stdout",
     "output_type": "stream",
     "text": [
      "Failed to transform Female in a military uniform with her hair tied back. or The female is wearing a ponytail.. Retrying 1 more times ...\n"
     ]
    },
    {
     "name": "stderr",
     "output_type": "stream",
     "text": [
      "\n",
      "Processing examples in test:  29%|██▉       | 2880/10000 [42:07<1:35:03,  1.25it/s]\u001B[A\n",
      "Processing examples in test:  29%|██▉       | 2882/10000 [42:08<1:25:11,  1.39it/s]\u001B[A\n",
      "Processing examples in test:  29%|██▉       | 2883/10000 [42:09<1:44:32,  1.13it/s]\u001B[A\n",
      "Processing examples in test:  29%|██▉       | 2884/10000 [42:10<1:48:39,  1.09it/s]\u001B[A\n",
      "Processing examples in test:  29%|██▉       | 2889/10000 [42:11<56:10,  2.11it/s]  \u001B[A\n",
      "Processing examples in test:  29%|██▉       | 2891/10000 [42:13<1:10:54,  1.67it/s]\u001B[A\n",
      "Processing examples in test:  29%|██▉       | 2893/10000 [42:15<1:23:45,  1.41it/s]\u001B[A\n",
      "Processing examples in test:  29%|██▉       | 2895/10000 [42:16<1:12:28,  1.63it/s]\u001B[A\n",
      "Processing examples in test:  29%|██▉       | 2896/10000 [42:18<1:36:50,  1.22it/s]\u001B[A\n",
      "Processing examples in test:  29%|██▉       | 2898/10000 [42:19<1:27:26,  1.35it/s]\u001B[A\n",
      "Processing examples in test:  29%|██▉       | 2900/10000 [42:21<1:32:34,  1.28it/s]\u001B[A\n",
      "Processing examples in test:  29%|██▉       | 2901/10000 [42:23<2:06:47,  1.07s/it]\u001B[A\n",
      "Processing examples in test:  29%|██▉       | 2903/10000 [42:25<2:03:21,  1.04s/it]\u001B[A\n",
      "Processing examples in test:  29%|██▉       | 2904/10000 [42:26<1:58:15,  1.00it/s]\u001B[A\n",
      "Processing examples in test:  29%|██▉       | 2906/10000 [42:27<1:45:18,  1.12it/s]\u001B[A\n",
      "Processing examples in test:  29%|██▉       | 2907/10000 [42:29<2:08:30,  1.09s/it]\u001B[A\n",
      "Processing examples in test:  29%|██▉       | 2909/10000 [42:31<2:01:17,  1.03s/it]\u001B[A\n",
      "Processing examples in test:  29%|██▉       | 2910/10000 [42:31<1:52:24,  1.05it/s]\u001B[A\n",
      "Processing examples in test:  29%|██▉       | 2912/10000 [42:32<1:26:20,  1.37it/s]\u001B[A\n",
      "Processing examples in test:  29%|██▉       | 2916/10000 [42:36<1:32:36,  1.27it/s]\u001B[A\n",
      "Processing examples in test:  29%|██▉       | 2920/10000 [42:37<1:16:26,  1.54it/s]\u001B[A\n",
      "Processing examples in test:  29%|██▉       | 2927/10000 [42:39<48:50,  2.41it/s]  \u001B[A\n",
      "Processing examples in test:  29%|██▉       | 2930/10000 [42:40<49:51,  2.36it/s]\u001B[A\n",
      "Processing examples in test:  29%|██▉       | 2932/10000 [42:44<1:23:32,  1.41it/s]\u001B[A\n",
      "Processing examples in test:  29%|██▉       | 2934/10000 [42:45<1:20:41,  1.46it/s]\u001B[A\n",
      "Processing examples in test:  29%|██▉       | 2935/10000 [42:47<1:32:33,  1.27it/s]\u001B[A\n",
      "Processing examples in test:  29%|██▉       | 2936/10000 [42:50<2:21:15,  1.20s/it]\u001B[A\n",
      "Processing examples in test:  29%|██▉       | 2938/10000 [42:51<1:57:53,  1.00s/it]\u001B[A\n",
      "Processing examples in test:  29%|██▉       | 2943/10000 [42:54<1:25:41,  1.37it/s]\u001B[A\n",
      "Processing examples in test:  29%|██▉       | 2945/10000 [42:55<1:23:17,  1.41it/s]\u001B[A\n",
      "Processing examples in test:  29%|██▉       | 2946/10000 [42:57<1:47:38,  1.09it/s]\u001B[A\n",
      "Processing examples in test:  29%|██▉       | 2947/10000 [42:58<1:52:21,  1.05it/s]\u001B[A\n",
      "Processing examples in test:  29%|██▉       | 2949/10000 [43:00<1:55:18,  1.02it/s]\u001B[A"
     ]
    },
    {
     "name": "stdout",
     "output_type": "stream",
     "text": [
      "Failed to transform there are 5 people on a stage without their face showing behind a red curtain or a man is standing by himself, playing guitar on the sidewalk. Retrying 5 more times ...\n",
      "Failed to transform there are 5 people on a stage without their face showing behind a red curtain or a man is standing by himself, playing guitar on the sidewalk. Retrying 4 more times ...\n",
      "Failed to transform there are 5 people on a stage without their face showing behind a red curtain or a man is standing by himself, playing guitar on the sidewalk. Retrying 3 more times ...\n",
      "Failed to transform there are 5 people on a stage without their face showing behind a red curtain or a man is standing by himself, playing guitar on the sidewalk. Retrying 2 more times ...\n"
     ]
    },
    {
     "name": "stderr",
     "output_type": "stream",
     "text": [
      "\n",
      "Processing examples in test:  30%|██▉       | 2950/10000 [43:05<3:19:59,  1.70s/it]\u001B[A"
     ]
    },
    {
     "name": "stdout",
     "output_type": "stream",
     "text": [
      "Failed to transform there are 5 people on a stage without their face showing behind a red curtain or a man is standing by himself, playing guitar on the sidewalk. Retrying 1 more times ...\n"
     ]
    },
    {
     "name": "stderr",
     "output_type": "stream",
     "text": [
      "\n",
      "Processing examples in test:  30%|██▉       | 2953/10000 [43:07<2:32:13,  1.30s/it]\u001B[A\n",
      "Processing examples in test:  30%|██▉       | 2954/10000 [43:08<2:23:02,  1.22s/it]\u001B[A\n",
      "Processing examples in test:  30%|██▉       | 2955/10000 [43:09<2:20:56,  1.20s/it]\u001B[A\n",
      "Processing examples in test:  30%|██▉       | 2956/10000 [43:11<2:37:26,  1.34s/it]\u001B[A\n",
      "Processing examples in test:  30%|██▉       | 2957/10000 [43:13<2:44:16,  1.40s/it]\u001B[A\n",
      "Processing examples in test:  30%|██▉       | 2958/10000 [43:14<2:37:00,  1.34s/it]\u001B[A\n",
      "Processing examples in test:  30%|██▉       | 2962/10000 [43:15<1:21:50,  1.43it/s]\u001B[A\n",
      "Processing examples in test:  30%|██▉       | 2963/10000 [43:17<1:50:22,  1.06it/s]\u001B[A\n",
      "Processing examples in test:  30%|██▉       | 2969/10000 [43:23<1:55:05,  1.02it/s]\u001B[A\n",
      "Processing examples in test:  30%|██▉       | 2970/10000 [43:25<2:07:48,  1.09s/it]\u001B[A\n",
      "Processing examples in test:  30%|██▉       | 2973/10000 [43:26<1:34:55,  1.23it/s]\u001B[A\n",
      "Processing examples in test:  30%|██▉       | 2974/10000 [43:28<1:56:34,  1.00it/s]\u001B[A\n",
      "Processing examples in test:  30%|██▉       | 2976/10000 [43:30<1:48:25,  1.08it/s]\u001B[A\n",
      "Processing examples in test:  30%|██▉       | 2978/10000 [43:31<1:35:20,  1.23it/s]\u001B[A\n",
      "Processing examples in test:  30%|██▉       | 2980/10000 [43:32<1:29:31,  1.31it/s]\u001B[A\n",
      "Processing examples in test:  30%|██▉       | 2981/10000 [43:33<1:36:05,  1.22it/s]\u001B[A"
     ]
    },
    {
     "name": "stdout",
     "output_type": "stream",
     "text": [
      "Failed to transform Two ladies hiding behind their cotton candy, and smiling on the sidewalk. or Two women with cotton candy smile.. Retrying 5 more times ...\n",
      "Failed to transform Two ladies hiding behind their cotton candy, and smiling on the sidewalk. or Two women with cotton candy smile.. Retrying 4 more times ...\n",
      "Failed to transform Two ladies hiding behind their cotton candy, and smiling on the sidewalk. or Two women with cotton candy smile.. Retrying 3 more times ...\n",
      "Failed to transform Two ladies hiding behind their cotton candy, and smiling on the sidewalk. or Two women with cotton candy smile.. Retrying 2 more times ...\n"
     ]
    },
    {
     "name": "stderr",
     "output_type": "stream",
     "text": [
      "\n",
      "Processing examples in test:  30%|██▉       | 2982/10000 [43:38<3:20:14,  1.71s/it]\u001B[A"
     ]
    },
    {
     "name": "stdout",
     "output_type": "stream",
     "text": [
      "Failed to transform Two ladies hiding behind their cotton candy, and smiling on the sidewalk. or Two women with cotton candy smile.. Retrying 1 more times ...\n"
     ]
    },
    {
     "name": "stderr",
     "output_type": "stream",
     "text": [
      "\n",
      "Processing examples in test:  30%|██▉       | 2983/10000 [43:39<3:06:41,  1.60s/it]\u001B[A\n",
      "Processing examples in test:  30%|██▉       | 2984/10000 [43:41<3:12:57,  1.65s/it]\u001B[A\n",
      "Processing examples in test:  30%|██▉       | 2985/10000 [43:42<2:47:48,  1.44s/it]\u001B[A\n",
      "Processing examples in test:  30%|██▉       | 2986/10000 [43:44<2:50:56,  1.46s/it]\u001B[A\n",
      "Processing examples in test:  30%|██▉       | 2988/10000 [43:46<2:24:26,  1.24s/it]\u001B[A\n",
      "Processing examples in test:  30%|██▉       | 2990/10000 [43:47<2:11:31,  1.13s/it]\u001B[A\n",
      "Processing examples in test:  30%|██▉       | 2994/10000 [43:48<1:13:04,  1.60it/s]\u001B[A\n",
      "Processing examples in test:  30%|███       | 3002/10000 [43:49<38:35,  3.02it/s]  \u001B[A\n",
      "Processing examples in test:  30%|███       | 3003/10000 [43:51<56:14,  2.07it/s]\u001B[A\n",
      "Processing examples in test:  30%|███       | 3004/10000 [43:53<1:15:06,  1.55it/s]\u001B[A\n",
      "Processing examples in test:  30%|███       | 3005/10000 [43:55<1:35:16,  1.22it/s]\u001B[A\n",
      "Processing examples in test:  30%|███       | 3008/10000 [43:57<1:29:37,  1.30it/s]\u001B[A\n",
      "Processing examples in test:  30%|███       | 3009/10000 [43:58<1:36:40,  1.21it/s]\u001B[A\n",
      "Processing examples in test:  30%|███       | 3010/10000 [43:59<1:41:30,  1.15it/s]\u001B[A"
     ]
    },
    {
     "name": "stdout",
     "output_type": "stream",
     "text": [
      "Failed to transform A group of people sitting around a rectangular table having either pieces of paper or laptops in front of them. or Two people drive a boat.. Retrying 5 more times ...\n",
      "Failed to transform A group of people sitting around a rectangular table having either pieces of paper or laptops in front of them. or Two people drive a boat.. Retrying 4 more times ...\n",
      "Failed to transform A group of people sitting around a rectangular table having either pieces of paper or laptops in front of them. or Two people drive a boat.. Retrying 3 more times ...\n",
      "Failed to transform A group of people sitting around a rectangular table having either pieces of paper or laptops in front of them. or Two people drive a boat.. Retrying 2 more times ...\n"
     ]
    },
    {
     "name": "stderr",
     "output_type": "stream",
     "text": [
      "\n",
      "Processing examples in test:  30%|███       | 3011/10000 [44:04<3:09:30,  1.63s/it]\u001B[A"
     ]
    },
    {
     "name": "stdout",
     "output_type": "stream",
     "text": [
      "Failed to transform A group of people sitting around a rectangular table having either pieces of paper or laptops in front of them. or Two people drive a boat.. Retrying 1 more times ...\n"
     ]
    },
    {
     "name": "stderr",
     "output_type": "stream",
     "text": [
      "\n",
      "Processing examples in test:  30%|███       | 3012/10000 [44:05<2:55:36,  1.51s/it]\u001B[A\n",
      "Processing examples in test:  30%|███       | 3013/10000 [44:06<3:02:32,  1.57s/it]\u001B[A\n",
      "Processing examples in test:  30%|███       | 3017/10000 [44:07<1:29:28,  1.30it/s]\u001B[A\n",
      "Processing examples in test:  30%|███       | 3018/10000 [44:09<1:44:25,  1.11it/s]\u001B[A\n",
      "Processing examples in test:  30%|███       | 3019/10000 [44:11<2:11:55,  1.13s/it]\u001B[A\n",
      "Processing examples in test:  30%|███       | 3022/10000 [44:13<1:47:42,  1.08it/s]\u001B[A\n",
      "Processing examples in test:  30%|███       | 3024/10000 [44:15<1:47:01,  1.09it/s]\u001B[A\n",
      "Processing examples in test:  30%|███       | 3026/10000 [44:15<1:26:36,  1.34it/s]\u001B[A\n",
      "Processing examples in test:  30%|███       | 3031/10000 [44:17<58:20,  1.99it/s]  \u001B[A\n",
      "Processing examples in test:  30%|███       | 3032/10000 [44:18<1:10:14,  1.65it/s]\u001B[A\n",
      "Processing examples in test:  30%|███       | 3033/10000 [44:19<1:22:22,  1.41it/s]\u001B[A\n",
      "Processing examples in test:  30%|███       | 3035/10000 [44:21<1:29:14,  1.30it/s]\u001B[A\n",
      "Processing examples in test:  30%|███       | 3036/10000 [44:22<1:34:27,  1.23it/s]\u001B[A\n",
      "Processing examples in test:  30%|███       | 3042/10000 [44:24<58:41,  1.98it/s]  \u001B[A\n",
      "Processing examples in test:  30%|███       | 3043/10000 [44:26<1:17:57,  1.49it/s]\u001B[A\n",
      "Processing examples in test:  30%|███       | 3044/10000 [44:26<1:18:25,  1.48it/s]\u001B[A\n",
      "Processing examples in test:  30%|███       | 3045/10000 [44:27<1:18:57,  1.47it/s]\u001B[A\n",
      "Processing examples in test:  30%|███       | 3049/10000 [44:29<1:06:21,  1.75it/s]\u001B[A\n",
      "Processing examples in test:  31%|███       | 3053/10000 [44:30<52:05,  2.22it/s]  \u001B[A\n",
      "Processing examples in test:  31%|███       | 3057/10000 [44:31<41:23,  2.80it/s]\u001B[A\n",
      "Processing examples in test:  31%|███       | 3058/10000 [44:33<1:06:28,  1.74it/s]\u001B[A\n",
      "Processing examples in test:  31%|███       | 3059/10000 [44:34<1:14:54,  1.54it/s]\u001B[A\n",
      "Processing examples in test:  31%|███       | 3060/10000 [44:36<1:34:54,  1.22it/s]\u001B[A\n",
      "Processing examples in test:  31%|███       | 3061/10000 [44:38<1:53:19,  1.02it/s]\u001B[A\n",
      "Processing examples in test:  31%|███       | 3062/10000 [44:39<2:02:47,  1.06s/it]\u001B[A\n",
      "Processing examples in test:  31%|███       | 3064/10000 [44:40<1:32:13,  1.25it/s]\u001B[A\n",
      "Processing examples in test:  31%|███       | 3066/10000 [44:41<1:24:53,  1.36it/s]\u001B[A\n",
      "Processing examples in test:  31%|███       | 3068/10000 [44:43<1:30:33,  1.28it/s]\u001B[A\n",
      "Processing examples in test:  31%|███       | 3069/10000 [44:44<1:37:36,  1.18it/s]\u001B[A\n",
      "Processing examples in test:  31%|███       | 3071/10000 [44:45<1:32:56,  1.24it/s]\u001B[A\n",
      "Processing examples in test:  31%|███       | 3072/10000 [44:47<1:55:42,  1.00s/it]\u001B[A\n",
      "Processing examples in test:  31%|███       | 3077/10000 [44:49<1:12:38,  1.59it/s]\u001B[A\n",
      "Processing examples in test:  31%|███       | 3084/10000 [44:50<43:15,  2.66it/s]  \u001B[A\n",
      "Processing examples in test:  31%|███       | 3086/10000 [44:51<43:29,  2.65it/s]\u001B[A\n",
      "Processing examples in test:  31%|███       | 3087/10000 [44:53<1:06:22,  1.74it/s]\u001B[A\n",
      "Processing examples in test:  31%|███       | 3090/10000 [44:55<1:10:51,  1.63it/s]\u001B[A\n",
      "Processing examples in test:  31%|███       | 3097/10000 [44:58<56:04,  2.05it/s]  \u001B[A\n",
      "Processing examples in test:  31%|███       | 3100/10000 [44:59<53:15,  2.16it/s]\u001B[A\n",
      "Processing examples in test:  31%|███       | 3105/10000 [45:01<51:29,  2.23it/s]\u001B[A\n",
      "Processing examples in test:  31%|███       | 3107/10000 [45:02<50:06,  2.29it/s]\u001B[A\n",
      "Processing examples in test:  31%|███       | 3108/10000 [45:03<1:08:09,  1.69it/s]\u001B[A\n",
      "Processing examples in test:  31%|███       | 3112/10000 [45:04<51:25,  2.23it/s]  \u001B[A\n",
      "Processing examples in test:  31%|███       | 3120/10000 [45:06<39:24,  2.91it/s]\u001B[A\n",
      "Processing examples in test:  31%|███       | 3121/10000 [45:08<48:03,  2.39it/s]\u001B[A\n",
      "Processing examples in test:  31%|███       | 3123/10000 [45:09<54:41,  2.10it/s]\u001B[A\n",
      "Processing examples in test:  31%|███       | 3124/10000 [45:10<1:07:35,  1.70it/s]\u001B[A\n",
      "Processing examples in test:  31%|███▏      | 3125/10000 [45:12<1:18:41,  1.46it/s]\u001B[A\n",
      "Processing examples in test:  31%|███▏      | 3128/10000 [45:13<1:03:48,  1.79it/s]\u001B[A\n",
      "Processing examples in test:  31%|███▏      | 3129/10000 [45:14<1:15:07,  1.52it/s]\u001B[A\n",
      "Processing examples in test:  31%|███▏      | 3130/10000 [45:16<1:42:32,  1.12it/s]\u001B[A\n",
      "Processing examples in test:  31%|███▏      | 3132/10000 [45:18<1:43:13,  1.11it/s]\u001B[A\n",
      "Processing examples in test:  31%|███▏      | 3133/10000 [45:19<1:47:52,  1.06it/s]\u001B[A\n",
      "Processing examples in test:  31%|███▏      | 3134/10000 [45:21<2:31:00,  1.32s/it]\u001B[A\n",
      "Processing examples in test:  31%|███▏      | 3135/10000 [45:23<2:34:48,  1.35s/it]\u001B[A\n",
      "Processing examples in test:  31%|███▏      | 3137/10000 [45:24<2:00:39,  1.05s/it]\u001B[A\n",
      "Processing examples in test:  31%|███▏      | 3138/10000 [45:28<3:18:44,  1.74s/it]\u001B[A\n",
      "Processing examples in test:  31%|███▏      | 3139/10000 [45:29<3:01:05,  1.58s/it]\u001B[A\n",
      "Processing examples in test:  31%|███▏      | 3142/10000 [45:30<1:43:49,  1.10it/s]\u001B[A\n",
      "Processing examples in test:  31%|███▏      | 3144/10000 [45:32<1:46:01,  1.08it/s]\u001B[A\n",
      "Processing examples in test:  31%|███▏      | 3145/10000 [45:34<2:06:31,  1.11s/it]\u001B[A\n",
      "Processing examples in test:  31%|███▏      | 3149/10000 [45:35<1:17:07,  1.48it/s]\u001B[A\n",
      "Processing examples in test:  32%|███▏      | 3150/10000 [45:38<1:51:16,  1.03it/s]\u001B[A\n",
      "Processing examples in test:  32%|███▏      | 3154/10000 [45:39<1:16:17,  1.50it/s]\u001B[A\n",
      "Processing examples in test:  32%|███▏      | 3156/10000 [45:40<1:15:54,  1.50it/s]\u001B[A\n",
      "Processing examples in test:  32%|███▏      | 3158/10000 [45:42<1:24:45,  1.35it/s]\u001B[A\n",
      "Processing examples in test:  32%|███▏      | 3161/10000 [45:43<1:09:01,  1.65it/s]\u001B[A\n",
      "Processing examples in test:  32%|███▏      | 3166/10000 [45:44<48:35,  2.34it/s]  \u001B[A\n",
      "Processing examples in test:  32%|███▏      | 3168/10000 [45:45<51:17,  2.22it/s]\u001B[A\n",
      "Processing examples in test:  32%|███▏      | 3170/10000 [45:46<48:45,  2.33it/s]\u001B[A\n",
      "Processing examples in test:  32%|███▏      | 3172/10000 [45:47<53:48,  2.11it/s]\u001B[A\n",
      "Processing examples in test:  32%|███▏      | 3173/10000 [45:48<1:00:23,  1.88it/s]\u001B[A\n",
      "Processing examples in test:  32%|███▏      | 3175/10000 [45:49<1:02:44,  1.81it/s]\u001B[A\n",
      "Processing examples in test:  32%|███▏      | 3177/10000 [45:51<1:04:55,  1.75it/s]\u001B[A\n",
      "Processing examples in test:  32%|███▏      | 3179/10000 [45:53<1:24:10,  1.35it/s]\u001B[A\n",
      "Processing examples in test:  32%|███▏      | 3182/10000 [45:55<1:22:39,  1.37it/s]\u001B[A\n",
      "Processing examples in test:  32%|███▏      | 3183/10000 [45:56<1:32:23,  1.23it/s]\u001B[A\n",
      "Processing examples in test:  32%|███▏      | 3185/10000 [45:58<1:37:33,  1.16it/s]\u001B[A\n",
      "Processing examples in test:  32%|███▏      | 3187/10000 [46:00<1:41:07,  1.12it/s]\u001B[A\n",
      "Processing examples in test:  32%|███▏      | 3188/10000 [46:02<1:51:17,  1.02it/s]\u001B[A\n",
      "Processing examples in test:  32%|███▏      | 3195/10000 [46:03<53:09,  2.13it/s]  \u001B[A\n",
      "Processing examples in test:  32%|███▏      | 3197/10000 [46:04<57:27,  1.97it/s]\u001B[A\n",
      "Processing examples in test:  32%|███▏      | 3200/10000 [46:06<1:01:38,  1.84it/s]\u001B[A\n",
      "Processing examples in test:  32%|███▏      | 3202/10000 [46:08<1:17:47,  1.46it/s]\u001B[A\n",
      "Processing examples in test:  32%|███▏      | 3203/10000 [46:10<1:37:44,  1.16it/s]\u001B[A\n",
      "Processing examples in test:  32%|███▏      | 3204/10000 [46:12<1:58:17,  1.04s/it]\u001B[A\n",
      "Processing examples in test:  32%|███▏      | 3209/10000 [46:14<1:18:26,  1.44it/s]\u001B[A\n",
      "Processing examples in test:  32%|███▏      | 3215/10000 [46:15<50:37,  2.23it/s]  \u001B[A\n",
      "Processing examples in test:  32%|███▏      | 3218/10000 [46:21<1:29:37,  1.26it/s]\u001B[A\n",
      "Processing examples in test:  32%|███▏      | 3220/10000 [46:22<1:29:15,  1.27it/s]\u001B[A\n",
      "Processing examples in test:  32%|███▏      | 3221/10000 [46:24<1:36:24,  1.17it/s]\u001B[A\n",
      "Processing examples in test:  32%|███▏      | 3222/10000 [46:25<1:41:33,  1.11it/s]\u001B[A\n",
      "Processing examples in test:  32%|███▏      | 3226/10000 [46:26<1:13:14,  1.54it/s]\u001B[A\n",
      "Processing examples in test:  32%|███▏      | 3227/10000 [46:28<1:35:31,  1.18it/s]\u001B[A\n",
      "Processing examples in test:  32%|███▏      | 3228/10000 [46:29<1:41:23,  1.11it/s]\u001B[A\n",
      "Processing examples in test:  32%|███▏      | 3230/10000 [46:31<1:42:16,  1.10it/s]\u001B[A\n",
      "Processing examples in test:  32%|███▏      | 3231/10000 [46:33<2:10:11,  1.15s/it]\u001B[A\n",
      "Processing examples in test:  32%|███▏      | 3233/10000 [46:35<1:56:10,  1.03s/it]\u001B[A\n",
      "Processing examples in test:  32%|███▏      | 3234/10000 [46:36<1:50:46,  1.02it/s]\u001B[A\n",
      "Processing examples in test:  32%|███▏      | 3235/10000 [46:37<1:52:08,  1.01it/s]\u001B[A\n",
      "Processing examples in test:  32%|███▏      | 3236/10000 [46:39<2:17:09,  1.22s/it]\u001B[A\n",
      "Processing examples in test:  32%|███▏      | 3237/10000 [46:39<2:01:54,  1.08s/it]\u001B[A\n",
      "Processing examples in test:  32%|███▏      | 3238/10000 [46:41<2:24:50,  1.29s/it]\u001B[A\n",
      "Processing examples in test:  32%|███▏      | 3239/10000 [46:45<3:33:26,  1.89s/it]\u001B[A\n",
      "Processing examples in test:  32%|███▏      | 3240/10000 [46:47<3:44:15,  1.99s/it]\u001B[A\n",
      "Processing examples in test:  32%|███▏      | 3244/10000 [46:54<3:33:04,  1.89s/it]\u001B[A\n",
      "Processing examples in test:  32%|███▏      | 3246/10000 [46:56<2:59:50,  1.60s/it]\u001B[A\n",
      "Processing examples in test:  33%|███▎      | 3253/10000 [46:57<1:21:36,  1.38it/s]\u001B[A\n",
      "Processing examples in test:  33%|███▎      | 3256/10000 [46:59<1:14:12,  1.51it/s]\u001B[A\n",
      "Processing examples in test:  33%|███▎      | 3258/10000 [47:01<1:19:22,  1.42it/s]\u001B[A\n",
      "Processing examples in test:  33%|███▎      | 3262/10000 [47:02<1:08:44,  1.63it/s]\u001B[A\n",
      "Processing examples in test:  33%|███▎      | 3263/10000 [47:03<1:15:06,  1.50it/s]\u001B[A\n",
      "Processing examples in test:  33%|███▎      | 3265/10000 [47:05<1:20:56,  1.39it/s]\u001B[A\n",
      "Processing examples in test:  33%|███▎      | 3266/10000 [47:07<1:32:33,  1.21it/s]\u001B[A\n",
      "Processing examples in test:  33%|███▎      | 3267/10000 [47:08<1:37:36,  1.15it/s]\u001B[A\n",
      "Processing examples in test:  33%|███▎      | 3268/10000 [47:09<1:50:31,  1.02it/s]\u001B[A\n",
      "Processing examples in test:  33%|███▎      | 3269/10000 [47:10<1:44:24,  1.07it/s]\u001B[A\n",
      "Processing examples in test:  33%|███▎      | 3270/10000 [47:11<1:58:59,  1.06s/it]\u001B[A\n",
      "Processing examples in test:  33%|███▎      | 3271/10000 [47:12<1:50:38,  1.01it/s]\u001B[A\n",
      "Processing examples in test:  33%|███▎      | 3272/10000 [47:13<1:41:46,  1.10it/s]\u001B[A\n",
      "Processing examples in test:  33%|███▎      | 3273/10000 [47:14<1:57:38,  1.05s/it]\u001B[A\n",
      "Processing examples in test:  33%|███▎      | 3277/10000 [47:15<1:04:14,  1.74it/s]\u001B[A\n",
      "Processing examples in test:  33%|███▎      | 3278/10000 [47:20<2:28:31,  1.33s/it]\u001B[A\n",
      "Processing examples in test:  33%|███▎      | 3279/10000 [47:22<2:40:32,  1.43s/it]\u001B[A\n",
      "Processing examples in test:  33%|███▎      | 3283/10000 [47:23<1:30:17,  1.24it/s]\u001B[A\n",
      "Processing examples in test:  33%|███▎      | 3284/10000 [47:25<1:51:46,  1.00it/s]\u001B[A\n",
      "Processing examples in test:  33%|███▎      | 3285/10000 [47:26<1:55:09,  1.03s/it]\u001B[A\n",
      "Processing examples in test:  33%|███▎      | 3286/10000 [47:28<2:04:51,  1.12s/it]\u001B[A\n",
      "Processing examples in test:  33%|███▎      | 3290/10000 [47:29<1:17:17,  1.45it/s]\u001B[A\n",
      "Processing examples in test:  33%|███▎      | 3292/10000 [47:30<1:12:53,  1.53it/s]\u001B[A\n",
      "Processing examples in test:  33%|███▎      | 3293/10000 [47:31<1:22:20,  1.36it/s]\u001B[A\n",
      "Processing examples in test:  33%|███▎      | 3294/10000 [47:33<1:37:31,  1.15it/s]\u001B[A\n",
      "Processing examples in test:  33%|███▎      | 3295/10000 [47:34<1:52:08,  1.00s/it]\u001B[A\n",
      "Processing examples in test:  33%|███▎      | 3296/10000 [47:36<2:15:32,  1.21s/it]\u001B[A\n",
      "Processing examples in test:  33%|███▎      | 3298/10000 [47:38<2:02:48,  1.10s/it]\u001B[A\n",
      "Processing examples in test:  33%|███▎      | 3301/10000 [47:40<1:38:37,  1.13it/s]\u001B[A\n",
      "Processing examples in test:  33%|███▎      | 3308/10000 [47:41<49:25,  2.26it/s]  \u001B[A\n",
      "Processing examples in test:  33%|███▎      | 3313/10000 [47:43<46:14,  2.41it/s]\u001B[A\n",
      "Processing examples in test:  33%|███▎      | 3314/10000 [47:45<1:03:55,  1.74it/s]\u001B[A\n",
      "Processing examples in test:  33%|███▎      | 3315/10000 [47:47<1:22:04,  1.36it/s]\u001B[A\n",
      "Processing examples in test:  33%|███▎      | 3320/10000 [47:49<1:05:38,  1.70it/s]\u001B[A\n",
      "Processing examples in test:  33%|███▎      | 3322/10000 [47:50<1:05:29,  1.70it/s]\u001B[A"
     ]
    },
    {
     "name": "stdout",
     "output_type": "stream",
     "text": [
      "Failed to transform A group of cyclists at a race with their arms around each other. or A group of cyclists racing.. Retrying 5 more times ...\n",
      "Failed to transform A group of cyclists at a race with their arms around each other. or A group of cyclists racing.. Retrying 4 more times ...\n",
      "Failed to transform A group of cyclists at a race with their arms around each other. or A group of cyclists racing.. Retrying 3 more times ...\n",
      "Failed to transform A group of cyclists at a race with their arms around each other. or A group of cyclists racing.. Retrying 2 more times ...\n"
     ]
    },
    {
     "name": "stderr",
     "output_type": "stream",
     "text": [
      "\n",
      "Processing examples in test:  33%|███▎      | 3324/10000 [47:55<1:54:33,  1.03s/it]\u001B[A"
     ]
    },
    {
     "name": "stdout",
     "output_type": "stream",
     "text": [
      "Failed to transform A group of cyclists at a race with their arms around each other. or A group of cyclists racing.. Retrying 1 more times ...\n"
     ]
    },
    {
     "name": "stderr",
     "output_type": "stream",
     "text": [
      "\n",
      "Processing examples in test:  33%|███▎      | 3325/10000 [47:56<2:01:59,  1.10s/it]\u001B[A\n",
      "Processing examples in test:  33%|███▎      | 3327/10000 [47:58<1:57:14,  1.05s/it]\u001B[A\n",
      "Processing examples in test:  33%|███▎      | 3328/10000 [48:00<2:04:41,  1.12s/it]\u001B[A\n",
      "Processing examples in test:  33%|███▎      | 3336/10000 [48:01<54:51,  2.02it/s]  \u001B[A\n",
      "Processing examples in test:  33%|███▎      | 3339/10000 [48:03<59:01,  1.88it/s]\u001B[A\n",
      "Processing examples in test:  33%|███▎      | 3341/10000 [48:05<1:06:58,  1.66it/s]\u001B[A\n",
      "Processing examples in test:  33%|███▎      | 3342/10000 [48:07<1:22:49,  1.34it/s]\u001B[A\n",
      "Processing examples in test:  33%|███▎      | 3343/10000 [48:07<1:21:14,  1.37it/s]\u001B[A\n",
      "Processing examples in test:  33%|███▎      | 3345/10000 [48:08<1:07:16,  1.65it/s]\u001B[A\n",
      "Processing examples in test:  33%|███▎      | 3346/10000 [48:11<1:57:36,  1.06s/it]\u001B[A\n",
      "Processing examples in test:  34%|███▎      | 3352/10000 [48:12<54:01,  2.05it/s]  \u001B[A\n",
      "Processing examples in test:  34%|███▎      | 3354/10000 [48:13<59:30,  1.86it/s]\u001B[A\n",
      "Processing examples in test:  34%|███▎      | 3355/10000 [48:14<1:06:54,  1.66it/s]\u001B[A\n",
      "Processing examples in test:  34%|███▎      | 3356/10000 [48:16<1:28:45,  1.25it/s]\u001B[A\n",
      "Processing examples in test:  34%|███▎      | 3357/10000 [48:18<1:52:44,  1.02s/it]\u001B[A\n",
      "Processing examples in test:  34%|███▎      | 3358/10000 [48:21<2:38:59,  1.44s/it]\u001B[A\n",
      "Processing examples in test:  34%|███▎      | 3366/10000 [48:22<56:27,  1.96it/s]  \u001B[A\n",
      "Processing examples in test:  34%|███▎      | 3370/10000 [48:23<47:00,  2.35it/s]\u001B[A\n",
      "Processing examples in test:  34%|███▎      | 3371/10000 [48:25<1:04:32,  1.71it/s]\u001B[A\n",
      "Processing examples in test:  34%|███▎      | 3372/10000 [48:26<1:14:27,  1.48it/s]\u001B[A\n",
      "Processing examples in test:  34%|███▎      | 3374/10000 [48:28<1:27:16,  1.27it/s]\u001B[A"
     ]
    },
    {
     "name": "stdout",
     "output_type": "stream",
     "text": [
      "Failed to transform A man looking out of his window. or A man enjoys the sun coming through the window.. Retrying 5 more times ...\n",
      "Failed to transform A man looking out of his window. or A man enjoys the sun coming through the window.. Retrying 4 more times ...\n",
      "Failed to transform A man looking out of his window. or A man enjoys the sun coming through the window.. Retrying 3 more times ...\n",
      "Failed to transform A man looking out of his window. or A man enjoys the sun coming through the window.. Retrying 2 more times ...\n"
     ]
    },
    {
     "name": "stderr",
     "output_type": "stream",
     "text": [
      "\n",
      "Processing examples in test:  34%|███▍      | 3376/10000 [48:34<2:28:20,  1.34s/it]\u001B[A"
     ]
    },
    {
     "name": "stdout",
     "output_type": "stream",
     "text": [
      "Failed to transform A man looking out of his window. or A man enjoys the sun coming through the window.. Retrying 1 more times ...\n"
     ]
    },
    {
     "name": "stderr",
     "output_type": "stream",
     "text": [
      "\n",
      "Processing examples in test:  34%|███▍      | 3379/10000 [48:35<1:51:58,  1.01s/it]\u001B[A\n",
      "Processing examples in test:  34%|███▍      | 3380/10000 [48:37<2:04:26,  1.13s/it]\u001B[A\n",
      "Processing examples in test:  34%|███▍      | 3381/10000 [48:39<2:15:54,  1.23s/it]\u001B[A\n",
      "Processing examples in test:  34%|███▍      | 3382/10000 [48:40<2:12:25,  1.20s/it]\u001B[A\n",
      "Processing examples in test:  34%|███▍      | 3387/10000 [48:42<1:16:39,  1.44it/s]\u001B[A\n",
      "Processing examples in test:  34%|███▍      | 3390/10000 [48:43<1:06:42,  1.65it/s]\u001B[A\n",
      "Processing examples in test:  34%|███▍      | 3391/10000 [48:47<2:00:19,  1.09s/it]\u001B[A\n",
      "Processing examples in test:  34%|███▍      | 3392/10000 [48:49<2:17:12,  1.25s/it]\u001B[A\n",
      "Processing examples in test:  34%|███▍      | 3393/10000 [48:50<2:16:32,  1.24s/it]\u001B[A\n",
      "Processing examples in test:  34%|███▍      | 3394/10000 [48:51<2:17:48,  1.25s/it]\u001B[A\n",
      "Processing examples in test:  34%|███▍      | 3400/10000 [48:53<1:09:51,  1.57it/s]\u001B[A\n",
      "Processing examples in test:  34%|███▍      | 3404/10000 [48:55<1:02:49,  1.75it/s]\u001B[A\n",
      "Processing examples in test:  34%|███▍      | 3406/10000 [48:57<1:07:47,  1.62it/s]\u001B[A\n",
      "Processing examples in test:  34%|███▍      | 3407/10000 [48:58<1:15:51,  1.45it/s]\u001B[A\n",
      "Processing examples in test:  34%|███▍      | 3408/10000 [48:59<1:16:51,  1.43it/s]\u001B[A\n",
      "Processing examples in test:  34%|███▍      | 3409/10000 [49:01<1:46:52,  1.03it/s]\u001B[A\n",
      "Processing examples in test:  34%|███▍      | 3410/10000 [49:03<2:07:27,  1.16s/it]\u001B[A"
     ]
    },
    {
     "name": "stdout",
     "output_type": "stream",
     "text": [
      "Failed to transform Two musician and a singer are on a stage performing a song. or Band members packing their things into a tour bus.. Retrying 5 more times ...\n",
      "Failed to transform Two musician and one singer on one stage performing one song. or Band members packing their things into a tour bus.. Retrying 4 more times ...\n",
      "Failed to transform Two musician and one singer on one stage a-performing one song. or Band members packing their things into a tour bus.. Retrying 3 more times ...\n",
      "Failed to transform Two a musician and one a singer on one a stage one-performing one a song. or Band members packing their things into a tour bus.. Retrying 2 more times ...\n"
     ]
    },
    {
     "name": "stderr",
     "output_type": "stream",
     "text": [
      "\n",
      "Processing examples in test:  34%|███▍      | 3412/10000 [49:11<4:07:10,  2.25s/it]\u001B[A"
     ]
    },
    {
     "name": "stdout",
     "output_type": "stream",
     "text": [
      "Failed to transform Two a musician and one a singer on one a stage one-a-performing one a song. or Band members packing their things into a tour bus.. Retrying 1 more times ...\n"
     ]
    },
    {
     "name": "stderr",
     "output_type": "stream",
     "text": [
      "\n",
      "Processing examples in test:  34%|███▍      | 3413/10000 [49:12<3:38:20,  1.99s/it]\u001B[A\n",
      "Processing examples in test:  34%|███▍      | 3416/10000 [49:13<2:12:24,  1.21s/it]\u001B[A\n",
      "Processing examples in test:  34%|███▍      | 3419/10000 [49:15<1:47:31,  1.02it/s]\u001B[A\n",
      "Processing examples in test:  34%|███▍      | 3420/10000 [49:16<1:59:29,  1.09s/it]\u001B[A\n",
      "Processing examples in test:  34%|███▍      | 3421/10000 [49:18<2:03:00,  1.12s/it]\u001B[A\n",
      "Processing examples in test:  34%|███▍      | 3422/10000 [49:19<2:06:36,  1.15s/it]\u001B[A\n",
      "Processing examples in test:  34%|███▍      | 3423/10000 [49:20<2:04:40,  1.14s/it]\u001B[A\n",
      "Processing examples in test:  34%|███▍      | 3426/10000 [49:21<1:27:46,  1.25it/s]\u001B[A"
     ]
    },
    {
     "name": "stdout",
     "output_type": "stream",
     "text": [
      "Failed to transform with Woman resting her head on husband shoulder. Retrying 5 more times...\n",
      "Failed to transform with Woman resting her head on husband shoulder. Retrying 4 more times...\n",
      "Failed to transform with Woman resting her head on husband shoulder. Retrying 3 more times...\n",
      "Failed to transform with Woman resting her head on husband shoulder. Retrying 2 more times...\n"
     ]
    },
    {
     "name": "stderr",
     "output_type": "stream",
     "text": [
      "\n",
      "Processing examples in test:  34%|███▍      | 3427/10000 [49:25<2:27:56,  1.35s/it]\u001B[A"
     ]
    },
    {
     "name": "stdout",
     "output_type": "stream",
     "text": [
      "Failed to transform with Woman resting her head on husband shoulder. Retrying 1 more times...\n",
      "Failed to transform The woman rest his head on the man shoulder. or Woman baking cake for her husband.. Retrying 5 more times ...\n",
      "Failed to transform The woman rest hisn head on the man might shoulder. or Woman baking cake for her husband.. Retrying 4 more times ...\n",
      "Failed to transform That woman is resting hisn head on that man can might shoulder. or Woman baking cake for her husband.. Retrying 3 more times ...\n",
      "Failed to transform That woman resting hisn head on that man can might shoulder. or Woman baking cake for her husband.. Retrying 2 more times ...\n"
     ]
    },
    {
     "name": "stderr",
     "output_type": "stream",
     "text": [
      "\n",
      "Processing examples in test:  34%|███▍      | 3429/10000 [49:33<4:08:04,  2.27s/it]\u001B[A"
     ]
    },
    {
     "name": "stdout",
     "output_type": "stream",
     "text": [
      "Failed to transform That woman resting hisn that man head can can shoulder. or Woman baking cake for her husband.. Retrying 1 more times ...\n"
     ]
    },
    {
     "name": "stderr",
     "output_type": "stream",
     "text": [
      "\n",
      "Processing examples in test:  34%|███▍      | 3431/10000 [49:34<2:57:27,  1.62s/it]\u001B[A\n",
      "Processing examples in test:  34%|███▍      | 3432/10000 [49:36<3:03:26,  1.68s/it]\u001B[A\n",
      "Processing examples in test:  34%|███▍      | 3433/10000 [49:38<3:13:03,  1.76s/it]\u001B[A\n",
      "Processing examples in test:  34%|███▍      | 3435/10000 [49:40<2:38:13,  1.45s/it]\u001B[A\n",
      "Processing examples in test:  34%|███▍      | 3436/10000 [49:41<2:30:46,  1.38s/it]\u001B[A\n",
      "Processing examples in test:  34%|███▍      | 3437/10000 [49:42<2:33:25,  1.40s/it]\u001B[A\n",
      "Processing examples in test:  34%|███▍      | 3438/10000 [49:44<2:32:45,  1.40s/it]\u001B[A\n",
      "Processing examples in test:  34%|███▍      | 3439/10000 [49:45<2:21:40,  1.30s/it]\u001B[A\n",
      "Processing examples in test:  34%|███▍      | 3441/10000 [49:46<1:46:47,  1.02it/s]\u001B[A\n",
      "Processing examples in test:  34%|███▍      | 3443/10000 [49:47<1:44:23,  1.05it/s]\u001B[A\n",
      "Processing examples in test:  34%|███▍      | 3445/10000 [49:49<1:43:27,  1.06it/s]\u001B[A\n",
      "Processing examples in test:  34%|███▍      | 3446/10000 [49:51<1:53:14,  1.04s/it]\u001B[A\n",
      "Processing examples in test:  34%|███▍      | 3448/10000 [49:52<1:46:28,  1.03it/s]\u001B[A\n",
      "Processing examples in test:  34%|███▍      | 3450/10000 [49:54<1:34:15,  1.16it/s]\u001B[A\n",
      "Processing examples in test:  35%|███▍      | 3451/10000 [49:56<1:55:09,  1.05s/it]\u001B[A\n",
      "Processing examples in test:  35%|███▍      | 3453/10000 [49:57<1:50:22,  1.01s/it]\u001B[A\n",
      "Processing examples in test:  35%|███▍      | 3455/10000 [49:59<1:33:01,  1.17it/s]\u001B[A\n",
      "Processing examples in test:  35%|███▍      | 3456/10000 [50:00<1:52:56,  1.04s/it]\u001B[A\n",
      "Processing examples in test:  35%|███▍      | 3458/10000 [50:02<1:40:45,  1.08it/s]\u001B[A\n",
      "Processing examples in test:  35%|███▍      | 3459/10000 [50:04<2:02:39,  1.13s/it]\u001B[A\n",
      "Processing examples in test:  35%|███▍      | 3461/10000 [50:04<1:32:03,  1.18it/s]\u001B[A\n",
      "Processing examples in test:  35%|███▍      | 3462/10000 [50:06<1:38:16,  1.11it/s]\u001B[A\n",
      "Processing examples in test:  35%|███▍      | 3463/10000 [50:07<1:42:29,  1.06it/s]\u001B[A\n",
      "Processing examples in test:  35%|███▍      | 3464/10000 [50:08<1:45:47,  1.03it/s]\u001B[A\n",
      "Processing examples in test:  35%|███▍      | 3465/10000 [50:09<1:54:52,  1.05s/it]\u001B[A\n",
      "Processing examples in test:  35%|███▍      | 3466/10000 [50:11<2:30:20,  1.38s/it]\u001B[A\n",
      "Processing examples in test:  35%|███▍      | 3468/10000 [50:12<1:52:31,  1.03s/it]\u001B[A\n",
      "Processing examples in test:  35%|███▍      | 3469/10000 [50:13<1:46:14,  1.02it/s]\u001B[A\n",
      "Processing examples in test:  35%|███▍      | 3470/10000 [50:15<2:03:07,  1.13s/it]\u001B[A\n",
      "Processing examples in test:  35%|███▍      | 3471/10000 [50:16<2:04:52,  1.15s/it]\u001B[A\n",
      "Processing examples in test:  35%|███▍      | 3474/10000 [50:18<1:36:23,  1.13it/s]\u001B[A\n",
      "Processing examples in test:  35%|███▍      | 3475/10000 [50:20<1:53:42,  1.05s/it]\u001B[A\n",
      "Processing examples in test:  35%|███▍      | 3481/10000 [50:21<1:01:19,  1.77it/s]\u001B[A\n",
      "Processing examples in test:  35%|███▍      | 3483/10000 [50:22<1:00:28,  1.80it/s]\u001B[A\n",
      "Processing examples in test:  35%|███▍      | 3484/10000 [50:24<1:20:37,  1.35it/s]\u001B[A\n",
      "Processing examples in test:  35%|███▍      | 3485/10000 [50:26<1:30:59,  1.19it/s]\u001B[A\n",
      "Processing examples in test:  35%|███▍      | 3486/10000 [50:27<1:50:34,  1.02s/it]\u001B[A\n",
      "Processing examples in test:  35%|███▍      | 3487/10000 [50:29<2:09:28,  1.19s/it]\u001B[A\n",
      "Processing examples in test:  35%|███▍      | 3488/10000 [50:31<2:15:36,  1.25s/it]\u001B[A\n",
      "Processing examples in test:  35%|███▍      | 3493/10000 [50:31<1:00:57,  1.78it/s]\u001B[A\n",
      "Processing examples in test:  35%|███▍      | 3494/10000 [50:32<1:02:31,  1.73it/s]\u001B[A\n",
      "Processing examples in test:  35%|███▍      | 3495/10000 [50:33<1:06:36,  1.63it/s]\u001B[A\n",
      "Processing examples in test:  35%|███▍      | 3497/10000 [50:34<59:19,  1.83it/s]  \u001B[A\n",
      "Processing examples in test:  35%|███▌      | 3500/10000 [50:35<50:26,  2.15it/s]\u001B[A\n",
      "Processing examples in test:  35%|███▌      | 3501/10000 [50:36<1:09:12,  1.57it/s]\u001B[A\n",
      "Processing examples in test:  35%|███▌      | 3502/10000 [50:37<1:11:41,  1.51it/s]\u001B[A\n",
      "Processing examples in test:  35%|███▌      | 3506/10000 [50:38<44:33,  2.43it/s]  \u001B[A\n",
      "Processing examples in test:  35%|███▌      | 3507/10000 [50:39<57:38,  1.88it/s]\u001B[A\n",
      "Processing examples in test:  35%|███▌      | 3508/10000 [50:40<1:14:44,  1.45it/s]\u001B[A\n",
      "Processing examples in test:  35%|███▌      | 3510/10000 [50:41<1:10:21,  1.54it/s]\u001B[A\n",
      "Processing examples in test:  35%|███▌      | 3511/10000 [50:43<1:38:17,  1.10it/s]\u001B[A\n",
      "Processing examples in test:  35%|███▌      | 3512/10000 [50:45<2:00:23,  1.11s/it]\u001B[A\n",
      "Processing examples in test:  35%|███▌      | 3515/10000 [50:47<1:40:08,  1.08it/s]\u001B[A\n",
      "Processing examples in test:  35%|███▌      | 3517/10000 [50:49<1:27:05,  1.24it/s]\u001B[A\n",
      "Processing examples in test:  35%|███▌      | 3518/10000 [50:50<1:49:18,  1.01s/it]\u001B[A\n",
      "Processing examples in test:  35%|███▌      | 3521/10000 [50:52<1:22:26,  1.31it/s]\u001B[A\n",
      "Processing examples in test:  35%|███▌      | 3522/10000 [50:53<1:28:21,  1.22it/s]\u001B[A\n",
      "Processing examples in test:  35%|███▌      | 3523/10000 [50:54<1:34:45,  1.14it/s]\u001B[A\n",
      "Processing examples in test:  35%|███▌      | 3525/10000 [50:56<1:43:50,  1.04it/s]\u001B[A\n",
      "Processing examples in test:  35%|███▌      | 3526/10000 [51:00<2:44:27,  1.52s/it]\u001B[A"
     ]
    },
    {
     "name": "stdout",
     "output_type": "stream",
     "text": [
      "Failed to transform A musician playing a guitar while he has the microphone inside his mouth. or The man is playing the trombone.. Retrying 5 more times ...\n",
      "Failed to transform A musician playing a guitar while he has the microphone inside his mouth. or The man is playing the trombone.. Retrying 4 more times ...\n",
      "Failed to transform A musician playing a guitar while he has the microphone inside his mouth. or The man is playing the trombone.. Retrying 3 more times ...\n",
      "Failed to transform A musician playing a guitar while he has the microphone inside his mouth. or The man is playing the trombone.. Retrying 2 more times ...\n"
     ]
    },
    {
     "name": "stderr",
     "output_type": "stream",
     "text": [
      "\n",
      "Processing examples in test:  35%|███▌      | 3527/10000 [51:05<4:04:08,  2.26s/it]\u001B[A"
     ]
    },
    {
     "name": "stdout",
     "output_type": "stream",
     "text": [
      "Failed to transform A musician playing a guitar while he has the microphone inside his mouth. or The man is playing the trombone.. Retrying 1 more times ...\n"
     ]
    },
    {
     "name": "stderr",
     "output_type": "stream",
     "text": [
      "\n",
      "Processing examples in test:  35%|███▌      | 3528/10000 [51:06<3:34:29,  1.99s/it]\u001B[A\n",
      "Processing examples in test:  35%|███▌      | 3529/10000 [51:07<3:18:34,  1.84s/it]\u001B[A\n",
      "Processing examples in test:  35%|███▌      | 3530/10000 [51:08<2:56:35,  1.64s/it]\u001B[A\n",
      "Processing examples in test:  35%|███▌      | 3531/10000 [51:10<2:59:19,  1.66s/it]\u001B[A\n",
      "Processing examples in test:  35%|███▌      | 3532/10000 [51:11<2:51:16,  1.59s/it]\u001B[A\n",
      "Processing examples in test:  35%|███▌      | 3533/10000 [51:13<2:48:44,  1.57s/it]\u001B[A\n",
      "Processing examples in test:  35%|███▌      | 3538/10000 [51:14<1:17:05,  1.40it/s]\u001B[A\n",
      "Processing examples in test:  35%|███▌      | 3539/10000 [51:16<1:28:59,  1.21it/s]\u001B[A\n",
      "Processing examples in test:  35%|███▌      | 3541/10000 [51:17<1:13:27,  1.47it/s]\u001B[A\n",
      "Processing examples in test:  35%|███▌      | 3542/10000 [51:18<1:27:48,  1.23it/s]\u001B[A\n",
      "Processing examples in test:  35%|███▌      | 3543/10000 [51:20<1:46:53,  1.01it/s]\u001B[A\n",
      "Processing examples in test:  35%|███▌      | 3546/10000 [51:22<1:36:44,  1.11it/s]\u001B[A\n",
      "Processing examples in test:  35%|███▌      | 3547/10000 [51:23<1:42:13,  1.05it/s]\u001B[A\n",
      "Processing examples in test:  36%|███▌      | 3550/10000 [51:25<1:19:11,  1.36it/s]\u001B[A\n",
      "Processing examples in test:  36%|███▌      | 3553/10000 [51:26<1:05:00,  1.65it/s]\u001B[A\n",
      "Processing examples in test:  36%|███▌      | 3554/10000 [51:28<1:28:22,  1.22it/s]\u001B[A\n",
      "Processing examples in test:  36%|███▌      | 3555/10000 [51:29<1:26:47,  1.24it/s]\u001B[A\n",
      "Processing examples in test:  36%|███▌      | 3556/10000 [51:30<1:34:33,  1.14it/s]\u001B[A\n",
      "Processing examples in test:  36%|███▌      | 3558/10000 [51:30<1:12:43,  1.48it/s]\u001B[A"
     ]
    },
    {
     "name": "stdout",
     "output_type": "stream",
     "text": [
      "Failed to transform A man talking into a microphone with a woman standing next to him. or There are people giving a speech at the fair.. Retrying 5 more times ...\n",
      "Failed to transform A man talking into a microphone with a woman standing next to him. or There are people giving a speech at the fair.. Retrying 4 more times ...\n",
      "Failed to transform A man talking into a microphone with a woman standing next to him. or There are people giving a speech at the fair.. Retrying 3 more times ...\n",
      "Failed to transform A man talking into a microphone with a woman standing next to him. or There are people giving a speech at the fair.. Retrying 2 more times ...\n"
     ]
    },
    {
     "name": "stderr",
     "output_type": "stream",
     "text": [
      "\n",
      "Processing examples in test:  36%|███▌      | 3563/10000 [51:35<1:25:44,  1.25it/s]\u001B[A"
     ]
    },
    {
     "name": "stdout",
     "output_type": "stream",
     "text": [
      "Failed to transform A man talking into a microphone with a woman standing next to him. or There are people giving a speech at the fair.. Retrying 1 more times ...\n"
     ]
    },
    {
     "name": "stderr",
     "output_type": "stream",
     "text": [
      "\n",
      "Processing examples in test:  36%|███▌      | 3566/10000 [51:36<1:07:09,  1.60it/s]\u001B[A\n",
      "Processing examples in test:  36%|███▌      | 3567/10000 [51:37<1:20:43,  1.33it/s]\u001B[A\n",
      "Processing examples in test:  36%|███▌      | 3571/10000 [51:38<54:50,  1.95it/s]  \u001B[A\n",
      "Processing examples in test:  36%|███▌      | 3572/10000 [51:39<58:32,  1.83it/s]\u001B[A\n",
      "Processing examples in test:  36%|███▌      | 3573/10000 [51:40<1:07:02,  1.60it/s]\u001B[A\n",
      "Processing examples in test:  36%|███▌      | 3576/10000 [51:41<1:00:29,  1.77it/s]\u001B[A\n",
      "Processing examples in test:  36%|███▌      | 3577/10000 [51:44<1:29:23,  1.20it/s]\u001B[A\n",
      "Processing examples in test:  36%|███▌      | 3579/10000 [51:45<1:22:04,  1.30it/s]\u001B[A\n",
      "Processing examples in test:  36%|███▌      | 3580/10000 [51:46<1:36:15,  1.11it/s]\u001B[A\n",
      "Processing examples in test:  36%|███▌      | 3581/10000 [51:47<1:36:30,  1.11it/s]\u001B[A\n",
      "Processing examples in test:  36%|███▌      | 3584/10000 [51:49<1:20:53,  1.32it/s]\u001B[A\n",
      "Processing examples in test:  36%|███▌      | 3585/10000 [51:50<1:34:47,  1.13it/s]\u001B[A\n",
      "Processing examples in test:  36%|███▌      | 3586/10000 [51:52<1:53:47,  1.06s/it]\u001B[A\n",
      "Processing examples in test:  36%|███▌      | 3587/10000 [51:53<1:49:21,  1.02s/it]\u001B[A\n",
      "Processing examples in test:  36%|███▌      | 3588/10000 [51:54<1:51:45,  1.05s/it]\u001B[A"
     ]
    },
    {
     "name": "stdout",
     "output_type": "stream",
     "text": [
      "Failed to transform with Henry Ford admiring his assembly lines.. Retrying 5 more times...\n",
      "Failed to transform with Henry Ford admiring his assembly lines.. Retrying 4 more times...\n",
      "Failed to transform with Henry Ford admiring his assembly lines.. Retrying 3 more times...\n",
      "Failed to transform with Henry Ford admiring his assembly lines.. Retrying 2 more times...\n"
     ]
    },
    {
     "name": "stderr",
     "output_type": "stream",
     "text": [
      "\n",
      "Processing examples in test:  36%|███▌      | 3589/10000 [52:00<4:10:43,  2.35s/it]\u001B[A"
     ]
    },
    {
     "name": "stdout",
     "output_type": "stream",
     "text": [
      "Failed to transform with Henry Ford admiring his assembly lines.. Retrying 1 more times...\n"
     ]
    },
    {
     "name": "stderr",
     "output_type": "stream",
     "text": [
      "\n",
      "Processing examples in test:  36%|███▌      | 3590/10000 [52:02<3:49:29,  2.15s/it]\u001B[A\n",
      "Processing examples in test:  36%|███▌      | 3592/10000 [52:03<2:30:14,  1.41s/it]\u001B[A\n",
      "Processing examples in test:  36%|███▌      | 3595/10000 [52:05<1:52:37,  1.06s/it]\u001B[A\n",
      "Processing examples in test:  36%|███▌      | 3596/10000 [52:06<1:55:13,  1.08s/it]\u001B[A\n",
      "Processing examples in test:  36%|███▌      | 3597/10000 [52:08<2:16:16,  1.28s/it]\u001B[A\n",
      "Processing examples in test:  36%|███▌      | 3601/10000 [52:09<1:18:51,  1.35it/s]\u001B[A\n",
      "Processing examples in test:  36%|███▌      | 3603/10000 [52:11<1:23:11,  1.28it/s]\u001B[A\n",
      "Processing examples in test:  36%|███▌      | 3606/10000 [52:12<1:11:10,  1.50it/s]\u001B[A\n",
      "Processing examples in test:  36%|███▌      | 3610/10000 [52:14<1:01:16,  1.74it/s]\u001B[A\n",
      "Processing examples in test:  36%|███▌      | 3613/10000 [52:16<1:06:01,  1.61it/s]\u001B[A\n",
      "Processing examples in test:  36%|███▌      | 3617/10000 [52:18<1:03:09,  1.68it/s]\u001B[A\n",
      "Processing examples in test:  36%|███▌      | 3619/10000 [52:21<1:13:07,  1.45it/s]\u001B[A\n",
      "Processing examples in test:  36%|███▌      | 3621/10000 [52:21<1:06:12,  1.61it/s]\u001B[A\n",
      "Processing examples in test:  36%|███▌      | 3622/10000 [52:24<1:35:22,  1.11it/s]\u001B[A\n",
      "Processing examples in test:  36%|███▋      | 3627/10000 [52:25<59:13,  1.79it/s]  \u001B[A\n",
      "Processing examples in test:  36%|███▋      | 3630/10000 [52:26<55:01,  1.93it/s]\u001B[A"
     ]
    },
    {
     "name": "stdout",
     "output_type": "stream",
     "text": [
      "Failed to transform A boy in a red jacket and balck hat sliding on his knees down a snowy hill or A man is playing in the snow. Retrying 5 more times ...\n",
      "Failed to transform A boy in a red jacket and balck hat sliding on his knees down a snowy hill or A man is playing in the snow. Retrying 4 more times ...\n",
      "Failed to transform A boy in a red jacket and balck hat sliding on his knees down a snowy hill or A man is playing in the snow. Retrying 3 more times ...\n",
      "Failed to transform A boy in a red jacket and balck hat sliding on his knees down a snowy hill or A man is playing in the snow. Retrying 2 more times ...\n"
     ]
    },
    {
     "name": "stderr",
     "output_type": "stream",
     "text": [
      "\n",
      "Processing examples in test:  36%|███▋      | 3633/10000 [52:33<1:49:01,  1.03s/it]\u001B[A"
     ]
    },
    {
     "name": "stdout",
     "output_type": "stream",
     "text": [
      "Failed to transform A boy in a red jacket and balck hat sliding on his knees down a snowy hill or A man is playing in the snow. Retrying 1 more times ...\n",
      "Failed to transform A musician playing his violin. or The violinist is on stage with other musicians.. Retrying 5 more times ...\n",
      "Failed to transform A musician playing his violin. or The violinist is on stage with other musicians.. Retrying 4 more times ...\n",
      "Failed to transform A musician playing his violin. or The violinist is on stage with other musicians.. Retrying 3 more times ...\n",
      "Failed to transform A musician playing his violin. or The violinist is on stage with other musicians.. Retrying 2 more times ...\n"
     ]
    },
    {
     "name": "stderr",
     "output_type": "stream",
     "text": [
      "\n",
      "Processing examples in test:  36%|███▋      | 3635/10000 [52:38<2:26:59,  1.39s/it]\u001B[A"
     ]
    },
    {
     "name": "stdout",
     "output_type": "stream",
     "text": [
      "Failed to transform A musician playing his violin. or The violinist is on stage with other musicians.. Retrying 1 more times ...\n"
     ]
    },
    {
     "name": "stderr",
     "output_type": "stream",
     "text": [
      "\n",
      "Processing examples in test:  36%|███▋      | 3638/10000 [52:40<1:55:47,  1.09s/it]\u001B[A\n",
      "Processing examples in test:  36%|███▋      | 3641/10000 [52:42<1:44:50,  1.01it/s]\u001B[A\n",
      "Processing examples in test:  36%|███▋      | 3647/10000 [52:44<1:09:21,  1.53it/s]\u001B[A\n",
      "Processing examples in test:  36%|███▋      | 3648/10000 [52:45<1:13:30,  1.44it/s]\u001B[A\n",
      "Processing examples in test:  36%|███▋      | 3649/10000 [52:47<1:40:46,  1.05it/s]\u001B[A\n",
      "Processing examples in test:  37%|███▋      | 3651/10000 [52:53<2:29:13,  1.41s/it]\u001B[A\n",
      "Processing examples in test:  37%|███▋      | 3652/10000 [52:54<2:18:21,  1.31s/it]\u001B[A\n",
      "Processing examples in test:  37%|███▋      | 3653/10000 [52:54<2:06:55,  1.20s/it]\u001B[A\n",
      "Processing examples in test:  37%|███▋      | 3654/10000 [52:56<2:23:36,  1.36s/it]\u001B[A\n",
      "Processing examples in test:  37%|███▋      | 3655/10000 [52:58<2:23:08,  1.35s/it]\u001B[A\n",
      "Processing examples in test:  37%|███▋      | 3656/10000 [52:59<2:31:29,  1.43s/it]\u001B[A\n",
      "Processing examples in test:  37%|███▋      | 3659/10000 [53:02<1:57:12,  1.11s/it]\u001B[A\n",
      "Processing examples in test:  37%|███▋      | 3661/10000 [53:04<1:52:48,  1.07s/it]\u001B[A\n",
      "Processing examples in test:  37%|███▋      | 3662/10000 [53:05<2:02:03,  1.16s/it]\u001B[A\n",
      "Processing examples in test:  37%|███▋      | 3663/10000 [53:07<2:10:39,  1.24s/it]\u001B[A\n",
      "Processing examples in test:  37%|███▋      | 3666/10000 [53:08<1:36:47,  1.09it/s]\u001B[A\n",
      "Processing examples in test:  37%|███▋      | 3672/10000 [53:10<52:14,  2.02it/s]  \u001B[A\n",
      "Processing examples in test:  37%|███▋      | 3673/10000 [53:11<1:02:32,  1.69it/s]\u001B[A\n",
      "Processing examples in test:  37%|███▋      | 3675/10000 [53:13<1:12:16,  1.46it/s]\u001B[A\n",
      "Processing examples in test:  37%|███▋      | 3676/10000 [53:14<1:14:49,  1.41it/s]\u001B[A\n",
      "Processing examples in test:  37%|███▋      | 3677/10000 [53:14<1:16:01,  1.39it/s]\u001B[A\n",
      "Processing examples in test:  37%|███▋      | 3678/10000 [53:16<1:26:40,  1.22it/s]\u001B[A\n",
      "Processing examples in test:  37%|███▋      | 3682/10000 [53:17<54:41,  1.93it/s]  \u001B[A\n",
      "Processing examples in test:  37%|███▋      | 3685/10000 [53:21<1:30:10,  1.17it/s]\u001B[A\n",
      "Processing examples in test:  37%|███▋      | 3687/10000 [53:22<1:16:09,  1.38it/s]\u001B[A\n",
      "Processing examples in test:  37%|███▋      | 3689/10000 [53:22<1:07:06,  1.57it/s]\u001B[A\n",
      "Processing examples in test:  37%|███▋      | 3690/10000 [53:26<1:49:30,  1.04s/it]\u001B[A\n",
      "Processing examples in test:  37%|███▋      | 3691/10000 [53:28<2:12:15,  1.26s/it]\u001B[A\n",
      "Processing examples in test:  37%|███▋      | 3692/10000 [53:29<2:16:20,  1.30s/it]\u001B[A"
     ]
    },
    {
     "name": "stdout",
     "output_type": "stream",
     "text": [
      "Failed to transform Little girl with very curly hair drinking her cup of juice. or A girl with curly hair is taking a big bite from a hamburger.. Retrying 5 more times ...\n",
      "Failed to transform Little girl with very curly hair drinking her cup of juice. or A girl with curly hair is taking a big bite from a hamburger.. Retrying 4 more times ...\n",
      "Failed to transform Little girl with very curly hair drinking her cup of juice. or A girl with curly hair is taking a big bite from a hamburger.. Retrying 3 more times ...\n",
      "Failed to transform Little girl with very curly hair drinking her cup of juice. or A girl with curly hair is taking a big bite from a hamburger.. Retrying 2 more times ...\n"
     ]
    },
    {
     "name": "stderr",
     "output_type": "stream",
     "text": [
      "\n",
      "Processing examples in test:  37%|███▋      | 3694/10000 [53:34<3:06:23,  1.77s/it]\u001B[A"
     ]
    },
    {
     "name": "stdout",
     "output_type": "stream",
     "text": [
      "Failed to transform Little girl with very curly hair drinking her cup of juice. or A girl with curly hair is taking a big bite from a hamburger.. Retrying 1 more times ...\n"
     ]
    },
    {
     "name": "stderr",
     "output_type": "stream",
     "text": [
      "\n",
      "Processing examples in test:  37%|███▋      | 3695/10000 [53:35<2:42:06,  1.54s/it]\u001B[A\n",
      "Processing examples in test:  37%|███▋      | 3696/10000 [53:36<2:33:15,  1.46s/it]\u001B[A\n",
      "Processing examples in test:  37%|███▋      | 3698/10000 [53:37<1:54:44,  1.09s/it]\u001B[A\n",
      "Processing examples in test:  37%|███▋      | 3701/10000 [53:38<1:13:18,  1.43it/s]\u001B[A\n",
      "Processing examples in test:  37%|███▋      | 3702/10000 [53:39<1:21:30,  1.29it/s]\u001B[A\n",
      "Processing examples in test:  37%|███▋      | 3703/10000 [53:41<1:44:00,  1.01it/s]\u001B[A\n",
      "Processing examples in test:  37%|███▋      | 3706/10000 [53:42<1:06:46,  1.57it/s]\u001B[A\n",
      "Processing examples in test:  37%|███▋      | 3707/10000 [53:44<1:32:58,  1.13it/s]\u001B[A\n",
      "Processing examples in test:  37%|███▋      | 3708/10000 [53:45<1:38:19,  1.07it/s]\u001B[A\n",
      "Processing examples in test:  37%|███▋      | 3709/10000 [53:48<2:26:31,  1.40s/it]\u001B[A\n",
      "Processing examples in test:  37%|███▋      | 3710/10000 [53:49<2:19:39,  1.33s/it]\u001B[A\n",
      "Processing examples in test:  37%|███▋      | 3713/10000 [53:50<1:30:15,  1.16it/s]\u001B[A\n",
      "Processing examples in test:  37%|███▋      | 3716/10000 [53:51<1:07:44,  1.55it/s]\u001B[A\n",
      "Processing examples in test:  37%|███▋      | 3717/10000 [53:53<1:23:35,  1.25it/s]\u001B[A\n",
      "Processing examples in test:  37%|███▋      | 3719/10000 [53:54<1:16:05,  1.38it/s]\u001B[A\n",
      "Processing examples in test:  37%|███▋      | 3720/10000 [53:55<1:15:26,  1.39it/s]\u001B[A\n",
      "Processing examples in test:  37%|███▋      | 3721/10000 [54:01<3:15:16,  1.87s/it]\u001B[A\n",
      "Processing examples in test:  37%|███▋      | 3724/10000 [54:02<1:56:47,  1.12s/it]\u001B[A\n",
      "Processing examples in test:  37%|███▋      | 3725/10000 [54:03<1:55:54,  1.11s/it]\u001B[A\n",
      "Processing examples in test:  37%|███▋      | 3726/10000 [54:04<1:57:42,  1.13s/it]\u001B[A\n",
      "Processing examples in test:  37%|███▋      | 3728/10000 [54:05<1:40:22,  1.04it/s]\u001B[A\n",
      "Processing examples in test:  37%|███▋      | 3729/10000 [54:07<1:55:45,  1.11s/it]\u001B[A\n",
      "Processing examples in test:  37%|███▋      | 3731/10000 [54:08<1:42:57,  1.01it/s]\u001B[A\n",
      "Processing examples in test:  37%|███▋      | 3733/10000 [54:10<1:31:14,  1.14it/s]\u001B[A\n",
      "Processing examples in test:  37%|███▋      | 3736/10000 [54:16<2:26:10,  1.40s/it]\u001B[A\n",
      "Processing examples in test:  37%|███▋      | 3737/10000 [54:17<2:22:33,  1.37s/it]\u001B[A\n",
      "Processing examples in test:  37%|███▋      | 3738/10000 [54:23<3:58:24,  2.28s/it]\u001B[A\n",
      "Processing examples in test:  37%|███▋      | 3739/10000 [54:29<5:05:10,  2.92s/it]\u001B[A\n",
      "Processing examples in test:  37%|███▋      | 3740/10000 [54:30<4:40:32,  2.69s/it]\u001B[A\n",
      "Processing examples in test:  37%|███▋      | 3742/10000 [54:32<3:11:39,  1.84s/it]\u001B[A"
     ]
    },
    {
     "name": "stdout",
     "output_type": "stream",
     "text": [
      "Failed to transform In an apparent classroom setting, a young man in a blue t-shirt has a book on his knee while a woman dressed in black next to him leans in to point out something in the book. or They are in college.. Retrying 5 more times ...\n",
      "Failed to transform In an apparent classroom setting, a young man in a blue t-shirt has a book on his knee while a woman dressed in black next to him leans in to point out something in the book. or They are in college.. Retrying 4 more times ...\n",
      "Failed to transform In an apparent classroom setting, a young man in a blue t-shirt has a book on his knee while a woman dressed in black next to him leans in to point out something in the book. or They are in college.. Retrying 3 more times ...\n",
      "Failed to transform In an apparent classroom setting, a young man in a blue t-shirt has a book on his knee while a woman dressed in black next to him leans in to point out something in the book. or They are in college.. Retrying 2 more times ...\n"
     ]
    },
    {
     "name": "stderr",
     "output_type": "stream",
     "text": [
      "\n",
      "Processing examples in test:  37%|███▋      | 3744/10000 [54:39<4:17:43,  2.47s/it]\u001B[A"
     ]
    },
    {
     "name": "stdout",
     "output_type": "stream",
     "text": [
      "Failed to transform In an apparent classroom setting, a young man in a blue t-shirt has a book on his knee while a woman dressed in black next to him leans in to point out something in the book. or They are in college.. Retrying 1 more times ...\n"
     ]
    },
    {
     "name": "stderr",
     "output_type": "stream",
     "text": [
      "\n",
      "Processing examples in test:  37%|███▋      | 3746/10000 [54:41<3:28:45,  2.00s/it]\u001B[A\n",
      "Processing examples in test:  37%|███▋      | 3747/10000 [54:42<3:11:32,  1.84s/it]\u001B[A\n",
      "Processing examples in test:  37%|███▋      | 3748/10000 [54:44<3:21:13,  1.93s/it]\u001B[A\n",
      "Processing examples in test:  38%|███▊      | 3754/10000 [54:46<1:28:54,  1.17it/s]\u001B[A\n",
      "Processing examples in test:  38%|███▊      | 3758/10000 [54:47<1:01:28,  1.69it/s]\u001B[A"
     ]
    },
    {
     "name": "stdout",
     "output_type": "stream",
     "text": [
      "Failed to transform A   man   in   a   black   shirt   oneworking on a guitar. or A guy working on his drums.. Retrying 5 more times ...\n",
      "Failed to transform The   a man     the   black   a shirt   oneworking  the a guitar. or A guy working on his drums.. Retrying 4 more times ...\n",
      "Failed to transform A   a man     a   black   a a shirt   oneworking  a  a guitar. or A guy working on his drums.. Retrying 3 more times ...\n",
      "Failed to transform A   a man     a   black   a a shirt     a  a guitar. or A guy working on his drums.. Retrying 2 more times ...\n"
     ]
    },
    {
     "name": "stderr",
     "output_type": "stream",
     "text": [
      "\n",
      "Processing examples in test:  38%|███▊      | 3760/10000 [54:56<2:35:06,  1.49s/it]\u001B[A"
     ]
    },
    {
     "name": "stdout",
     "output_type": "stream",
     "text": [
      "Failed to transform A   a man     a   black   a a shirt     a  a guitar. or A guy working on his drums.. Retrying 1 more times ...\n",
      "Failed to transform with A guy working on his instrument.. Retrying 5 more times...\n",
      "Failed to transform with A guy working on his instrument.. Retrying 4 more times...\n",
      "Failed to transform with A guy working on his instrument.. Retrying 3 more times...\n",
      "Failed to transform with A guy working on his instrument.. Retrying 2 more times...\n"
     ]
    },
    {
     "name": "stderr",
     "output_type": "stream",
     "text": [
      "\n",
      "Processing examples in test:  38%|███▊      | 3761/10000 [55:03<3:42:00,  2.13s/it]\u001B[A"
     ]
    },
    {
     "name": "stdout",
     "output_type": "stream",
     "text": [
      "Failed to transform with A guy working on his instrument.. Retrying 1 more times...\n"
     ]
    },
    {
     "name": "stderr",
     "output_type": "stream",
     "text": [
      "\n",
      "Processing examples in test:  38%|███▊      | 3763/10000 [55:05<3:07:24,  1.80s/it]\u001B[A\n",
      "Processing examples in test:  38%|███▊      | 3764/10000 [55:06<3:09:07,  1.82s/it]\u001B[A\n",
      "Processing examples in test:  38%|███▊      | 3765/10000 [55:08<3:11:06,  1.84s/it]\u001B[A\n",
      "Processing examples in test:  38%|███▊      | 3767/10000 [55:10<2:37:12,  1.51s/it]\u001B[A\n",
      "Processing examples in test:  38%|███▊      | 3768/10000 [55:12<2:45:23,  1.59s/it]\u001B[A\n",
      "Processing examples in test:  38%|███▊      | 3770/10000 [55:14<2:23:25,  1.38s/it]\u001B[A\n",
      "Processing examples in test:  38%|███▊      | 3772/10000 [55:16<2:14:35,  1.30s/it]\u001B[A\n",
      "Processing examples in test:  38%|███▊      | 3774/10000 [55:18<2:05:25,  1.21s/it]\u001B[A\n",
      "Processing examples in test:  38%|███▊      | 3777/10000 [55:20<1:29:43,  1.16it/s]\u001B[A\n",
      "Processing examples in test:  38%|███▊      | 3778/10000 [55:21<1:34:00,  1.10it/s]\u001B[A\n",
      "Processing examples in test:  38%|███▊      | 3784/10000 [55:21<45:48,  2.26it/s]  \u001B[A\n",
      "Processing examples in test:  38%|███▊      | 3785/10000 [55:23<59:47,  1.73it/s]\u001B[A\n",
      "Processing examples in test:  38%|███▊      | 3786/10000 [55:24<1:09:45,  1.48it/s]\u001B[A\n",
      "Processing examples in test:  38%|███▊      | 3792/10000 [55:26<50:12,  2.06it/s]  \u001B[A\n",
      "Processing examples in test:  38%|███▊      | 3793/10000 [55:28<1:06:49,  1.55it/s]\u001B[A\n",
      "Processing examples in test:  38%|███▊      | 3795/10000 [55:29<1:05:15,  1.58it/s]\u001B[A\n",
      "Processing examples in test:  38%|███▊      | 3796/10000 [55:30<1:12:10,  1.43it/s]\u001B[A\n",
      "Processing examples in test:  38%|███▊      | 3797/10000 [55:31<1:11:15,  1.45it/s]\u001B[A\n",
      "Processing examples in test:  38%|███▊      | 3798/10000 [55:33<1:34:53,  1.09it/s]\u001B[A\n",
      "Processing examples in test:  38%|███▊      | 3800/10000 [55:35<1:40:17,  1.03it/s]\u001B[A\n",
      "Processing examples in test:  38%|███▊      | 3802/10000 [55:37<1:39:52,  1.03it/s]\u001B[A\n",
      "Processing examples in test:  38%|███▊      | 3803/10000 [55:38<1:52:09,  1.09s/it]\u001B[A\n",
      "Processing examples in test:  38%|███▊      | 3804/10000 [55:40<2:02:47,  1.19s/it]\u001B[A\n",
      "Processing examples in test:  38%|███▊      | 3808/10000 [55:41<1:03:48,  1.62it/s]\u001B[A\n",
      "Processing examples in test:  38%|███▊      | 3809/10000 [55:42<1:24:14,  1.22it/s]\u001B[A\n",
      "Processing examples in test:  38%|███▊      | 3810/10000 [55:43<1:21:53,  1.26it/s]\u001B[A\n",
      "Processing examples in test:  38%|███▊      | 3812/10000 [55:45<1:22:08,  1.26it/s]\u001B[A\n",
      "Processing examples in test:  38%|███▊      | 3814/10000 [55:45<1:06:29,  1.55it/s]\u001B[A\n",
      "Processing examples in test:  38%|███▊      | 3815/10000 [55:47<1:23:23,  1.24it/s]\u001B[A\n",
      "Processing examples in test:  38%|███▊      | 3818/10000 [55:49<1:15:43,  1.36it/s]\u001B[A\n",
      "Processing examples in test:  38%|███▊      | 3821/10000 [55:51<1:09:54,  1.47it/s]\u001B[A\n",
      "Processing examples in test:  38%|███▊      | 3822/10000 [55:52<1:29:47,  1.15it/s]\u001B[A\n",
      "Processing examples in test:  38%|███▊      | 3823/10000 [55:54<1:41:17,  1.02it/s]\u001B[A\n",
      "Processing examples in test:  38%|███▊      | 3824/10000 [55:55<1:38:34,  1.04it/s]\u001B[A\n",
      "Processing examples in test:  38%|███▊      | 3827/10000 [55:57<1:19:58,  1.29it/s]\u001B[A\n",
      "Processing examples in test:  38%|███▊      | 3829/10000 [55:58<1:23:15,  1.24it/s]\u001B[A\n",
      "Processing examples in test:  38%|███▊      | 3831/10000 [55:59<1:08:11,  1.51it/s]\u001B[A\n",
      "Processing examples in test:  38%|███▊      | 3832/10000 [56:02<1:44:45,  1.02s/it]\u001B[A\n",
      "Processing examples in test:  38%|███▊      | 3833/10000 [56:04<2:14:51,  1.31s/it]\u001B[A\n",
      "Processing examples in test:  38%|███▊      | 3834/10000 [56:05<2:13:14,  1.30s/it]\u001B[A\n",
      "Processing examples in test:  38%|███▊      | 3835/10000 [56:07<2:23:44,  1.40s/it]\u001B[A\n",
      "Processing examples in test:  38%|███▊      | 3837/10000 [56:09<2:01:07,  1.18s/it]\u001B[A\n",
      "Processing examples in test:  38%|███▊      | 3838/10000 [56:10<2:03:28,  1.20s/it]\u001B[A\n",
      "Processing examples in test:  38%|███▊      | 3839/10000 [56:11<2:09:23,  1.26s/it]\u001B[A\n",
      "Processing examples in test:  38%|███▊      | 3842/10000 [56:13<1:21:30,  1.26it/s]\u001B[A\n",
      "Processing examples in test:  38%|███▊      | 3845/10000 [56:15<1:16:42,  1.34it/s]\u001B[A\n",
      "Processing examples in test:  38%|███▊      | 3846/10000 [56:17<1:38:04,  1.05it/s]\u001B[A\n",
      "Processing examples in test:  38%|███▊      | 3848/10000 [56:18<1:25:23,  1.20it/s]\u001B[A\n",
      "Processing examples in test:  38%|███▊      | 3850/10000 [56:19<1:22:18,  1.25it/s]\u001B[A\n",
      "Processing examples in test:  39%|███▊      | 3852/10000 [56:21<1:28:37,  1.16it/s]\u001B[A\n",
      "Processing examples in test:  39%|███▊      | 3853/10000 [56:22<1:32:24,  1.11it/s]\u001B[A\n",
      "Processing examples in test:  39%|███▊      | 3855/10000 [56:23<1:19:53,  1.28it/s]\u001B[A\n",
      "Processing examples in test:  39%|███▊      | 3856/10000 [56:25<1:41:31,  1.01it/s]\u001B[A\n",
      "Processing examples in test:  39%|███▊      | 3857/10000 [56:27<2:00:56,  1.18s/it]\u001B[A\n",
      "Processing examples in test:  39%|███▊      | 3862/10000 [56:29<1:15:13,  1.36it/s]\u001B[A\n",
      "Processing examples in test:  39%|███▊      | 3863/10000 [56:30<1:15:05,  1.36it/s]\u001B[A\n",
      "Processing examples in test:  39%|███▊      | 3864/10000 [56:32<1:37:35,  1.05it/s]\u001B[A\n",
      "Processing examples in test:  39%|███▊      | 3865/10000 [56:33<1:42:14,  1.00it/s]\u001B[A"
     ]
    },
    {
     "name": "stdout",
     "output_type": "stream",
     "text": [
      "Failed to transform with A man walking in Droney Park on his day off.. Retrying 5 more times...\n",
      "Failed to transform with A man walking in Droney Park on his day off.. Retrying 4 more times...\n",
      "Failed to transform with A man walking in Droney Park on his day off.. Retrying 3 more times...\n",
      "Failed to transform with A man walking in Droney Park on his day off.. Retrying 2 more times...\n"
     ]
    },
    {
     "name": "stderr",
     "output_type": "stream",
     "text": [
      "\n",
      "Processing examples in test:  39%|███▊      | 3867/10000 [56:40<3:05:19,  1.81s/it]\u001B[A"
     ]
    },
    {
     "name": "stdout",
     "output_type": "stream",
     "text": [
      "Failed to transform with A man walking in Droney Park on his day off.. Retrying 1 more times...\n"
     ]
    },
    {
     "name": "stderr",
     "output_type": "stream",
     "text": [
      "\n",
      "Processing examples in test:  39%|███▊      | 3868/10000 [56:42<3:08:38,  1.85s/it]\u001B[A\n",
      "Processing examples in test:  39%|███▊      | 3871/10000 [56:43<2:08:28,  1.26s/it]\u001B[A\n",
      "Processing examples in test:  39%|███▊      | 3874/10000 [56:45<1:40:54,  1.01it/s]\u001B[A\n",
      "Processing examples in test:  39%|███▉      | 3875/10000 [56:48<2:17:22,  1.35s/it]\u001B[A\n",
      "Processing examples in test:  39%|███▉      | 3876/10000 [56:50<2:17:44,  1.35s/it]\u001B[A\n",
      "Processing examples in test:  39%|███▉      | 3877/10000 [56:51<2:13:40,  1.31s/it]\u001B[A\n",
      "Processing examples in test:  39%|███▉      | 3878/10000 [56:52<2:15:33,  1.33s/it]\u001B[A\n",
      "Processing examples in test:  39%|███▉      | 3880/10000 [56:54<1:47:04,  1.05s/it]\u001B[A\n",
      "Processing examples in test:  39%|███▉      | 3883/10000 [56:55<1:19:55,  1.28it/s]\u001B[A"
     ]
    },
    {
     "name": "stdout",
     "output_type": "stream",
     "text": [
      "Failed to transform with A woman working with her hands protected from harm.. Retrying 5 more times...\n",
      "Failed to transform with A woman working with her hands protected from harm.. Retrying 4 more times...\n",
      "Failed to transform with A woman working with her hands protected from harm.. Retrying 3 more times...\n",
      "Failed to transform with A woman working with her hands protected from harm.. Retrying 2 more times...\n"
     ]
    },
    {
     "name": "stderr",
     "output_type": "stream",
     "text": [
      "\n",
      "Processing examples in test:  39%|███▉      | 3892/10000 [56:59<59:56,  1.70it/s]  \u001B[A"
     ]
    },
    {
     "name": "stdout",
     "output_type": "stream",
     "text": [
      "Failed to transform with A woman working with her hands protected from harm.. Retrying 1 more times...\n",
      "Failed to transform with A woman wearing gloves to hide her injuries.. Retrying 5 more times...\n",
      "Failed to transform with A woman wearing gloves to hide her injuries.. Retrying 4 more times...\n",
      "Failed to transform with A woman wearing gloves to hide her injuries.. Retrying 3 more times...\n",
      "Failed to transform with A woman wearing gloves to hide her injuries.. Retrying 2 more times...\n"
     ]
    },
    {
     "name": "stderr",
     "output_type": "stream",
     "text": [
      "\n",
      "Processing examples in test:  39%|███▉      | 3894/10000 [57:04<1:27:48,  1.16it/s]\u001B[A"
     ]
    },
    {
     "name": "stdout",
     "output_type": "stream",
     "text": [
      "Failed to transform with A woman wearing gloves to hide her injuries.. Retrying 1 more times...\n"
     ]
    },
    {
     "name": "stderr",
     "output_type": "stream",
     "text": [
      "\n",
      "Processing examples in test:  39%|███▉      | 3895/10000 [57:05<1:30:45,  1.12it/s]\u001B[A\n",
      "Processing examples in test:  39%|███▉      | 3898/10000 [57:07<1:20:57,  1.26it/s]\u001B[A\n",
      "Processing examples in test:  39%|███▉      | 3900/10000 [57:09<1:26:35,  1.17it/s]\u001B[A\n",
      "Processing examples in test:  39%|███▉      | 3901/10000 [57:11<1:41:54,  1.00s/it]\u001B[A\n",
      "Processing examples in test:  39%|███▉      | 3904/10000 [57:13<1:28:24,  1.15it/s]\u001B[A\n",
      "Processing examples in test:  39%|███▉      | 3905/10000 [57:15<1:45:52,  1.04s/it]\u001B[A\n",
      "Processing examples in test:  39%|███▉      | 3907/10000 [57:17<1:45:12,  1.04s/it]\u001B[A\n",
      "Processing examples in test:  39%|███▉      | 3908/10000 [57:17<1:41:35,  1.00s/it]\u001B[A\n",
      "Processing examples in test:  39%|███▉      | 3910/10000 [57:19<1:37:25,  1.04it/s]\u001B[A\n",
      "Processing examples in test:  39%|███▉      | 3913/10000 [57:21<1:21:04,  1.25it/s]\u001B[A\n",
      "Processing examples in test:  39%|███▉      | 3916/10000 [57:22<1:04:48,  1.56it/s]\u001B[A\n",
      "Processing examples in test:  39%|███▉      | 3917/10000 [57:23<1:05:53,  1.54it/s]\u001B[A\n",
      "Processing examples in test:  39%|███▉      | 3918/10000 [57:24<1:17:56,  1.30it/s]\u001B[A\n",
      "Processing examples in test:  39%|███▉      | 3920/10000 [57:26<1:24:22,  1.20it/s]\u001B[A\n",
      "Processing examples in test:  39%|███▉      | 3921/10000 [57:28<1:45:22,  1.04s/it]\u001B[A\n",
      "Processing examples in test:  39%|███▉      | 3923/10000 [57:29<1:29:07,  1.14it/s]\u001B[A\n",
      "Processing examples in test:  39%|███▉      | 3928/10000 [57:30<46:53,  2.16it/s]  \u001B[A\n",
      "Processing examples in test:  39%|███▉      | 3929/10000 [57:32<1:08:06,  1.49it/s]\u001B[A\n",
      "Processing examples in test:  39%|███▉      | 3930/10000 [57:34<1:28:47,  1.14it/s]\u001B[A\n",
      "Processing examples in test:  39%|███▉      | 3933/10000 [57:35<1:07:47,  1.49it/s]\u001B[A\n",
      "Processing examples in test:  39%|███▉      | 3935/10000 [57:37<1:17:40,  1.30it/s]\u001B[A\n",
      "Processing examples in test:  39%|███▉      | 3938/10000 [57:39<1:13:39,  1.37it/s]\u001B[A\n",
      "Processing examples in test:  39%|███▉      | 3939/10000 [57:41<1:31:52,  1.10it/s]\u001B[A\n",
      "Processing examples in test:  39%|███▉      | 3940/10000 [57:42<1:40:26,  1.01it/s]\u001B[A\n",
      "Processing examples in test:  39%|███▉      | 3941/10000 [57:43<1:35:09,  1.06it/s]\u001B[A\n",
      "Processing examples in test:  39%|███▉      | 3942/10000 [57:45<1:56:48,  1.16s/it]\u001B[A\n",
      "Processing examples in test:  39%|███▉      | 3949/10000 [57:46<46:18,  2.18it/s]  \u001B[A\n",
      "Processing examples in test:  40%|███▉      | 3950/10000 [57:46<49:00,  2.06it/s]\u001B[A\n",
      "Processing examples in test:  40%|███▉      | 3956/10000 [57:47<32:23,  3.11it/s]\u001B[A"
     ]
    },
    {
     "name": "stdout",
     "output_type": "stream",
     "text": [
      "Failed to transform A lady in the kitchen cleaning her feet on a chopping board with a red towel, or red apron, with her husband standing there. or A lady cleans her feet for a fetish video.. Retrying 5 more times ...\n",
      "Failed to transform A lady in the kitchen cleaning her feet on a chopping board with a red towel, or red apron, with her husband standing there. or A lady cleans her feet for a fetish video.. Retrying 4 more times ...\n",
      "Failed to transform A lady in the kitchen cleaning her feet on a chopping board with a red towel, or red apron, with her husband standing there. or A lady cleans her feet for a fetish video.. Retrying 3 more times ...\n",
      "Failed to transform A lady in the kitchen cleaning her feet on a chopping board with a red towel, or red apron, with her husband standing there. or A lady cleans her feet for a fetish video.. Retrying 2 more times ...\n"
     ]
    },
    {
     "name": "stderr",
     "output_type": "stream",
     "text": [
      "\n",
      "Processing examples in test:  40%|███▉      | 3958/10000 [57:53<1:16:08,  1.32it/s]\u001B[A"
     ]
    },
    {
     "name": "stdout",
     "output_type": "stream",
     "text": [
      "Failed to transform A lady in the kitchen cleaning her feet on a chopping board with a red towel, or red apron, with her husband standing there. or A lady cleans her feet for a fetish video.. Retrying 1 more times ...\n"
     ]
    },
    {
     "name": "stderr",
     "output_type": "stream",
     "text": [
      "\n",
      "Processing examples in test:  40%|███▉      | 3961/10000 [57:54<1:05:57,  1.53it/s]\u001B[A\n",
      "Processing examples in test:  40%|███▉      | 3963/10000 [57:55<1:03:57,  1.57it/s]\u001B[A\n",
      "Processing examples in test:  40%|███▉      | 3965/10000 [57:56<1:07:20,  1.49it/s]\u001B[A\n",
      "Processing examples in test:  40%|███▉      | 3966/10000 [57:58<1:17:36,  1.30it/s]\u001B[A\n",
      "Processing examples in test:  40%|███▉      | 3968/10000 [58:00<1:22:29,  1.22it/s]\u001B[A\n",
      "Processing examples in test:  40%|███▉      | 3972/10000 [58:01<1:02:23,  1.61it/s]\u001B[A\n",
      "Processing examples in test:  40%|███▉      | 3973/10000 [58:02<1:08:42,  1.46it/s]\u001B[A\n",
      "Processing examples in test:  40%|███▉      | 3974/10000 [58:04<1:20:40,  1.24it/s]\u001B[A\n",
      "Processing examples in test:  40%|███▉      | 3975/10000 [58:06<1:42:24,  1.02s/it]\u001B[A\n",
      "Processing examples in test:  40%|███▉      | 3980/10000 [58:07<56:39,  1.77it/s]  \u001B[A\n",
      "Processing examples in test:  40%|███▉      | 3981/10000 [58:08<1:06:14,  1.51it/s]\u001B[A\n",
      "Processing examples in test:  40%|███▉      | 3982/10000 [58:09<1:12:30,  1.38it/s]\u001B[A\n",
      "Processing examples in test:  40%|███▉      | 3983/10000 [58:10<1:11:49,  1.40it/s]\u001B[A\n",
      "Processing examples in test:  40%|███▉      | 3986/10000 [58:11<50:38,  1.98it/s]  \u001B[A\n",
      "Processing examples in test:  40%|███▉      | 3987/10000 [58:12<1:03:16,  1.58it/s]\u001B[A\n",
      "Processing examples in test:  40%|███▉      | 3989/10000 [58:15<1:31:15,  1.10it/s]\u001B[A\n",
      "Processing examples in test:  40%|███▉      | 3991/10000 [58:17<1:32:42,  1.08it/s]\u001B[A\n",
      "Processing examples in test:  40%|███▉      | 3992/10000 [58:18<1:41:18,  1.01s/it]\u001B[A\n",
      "Processing examples in test:  40%|███▉      | 3994/10000 [58:19<1:29:06,  1.12it/s]\u001B[A\n",
      "Processing examples in test:  40%|███▉      | 3997/10000 [58:21<1:21:10,  1.23it/s]\u001B[A\n",
      "Processing examples in test:  40%|████      | 4000/10000 [58:23<1:15:24,  1.33it/s]\u001B[A\n",
      "Processing examples in test:  40%|████      | 4001/10000 [58:24<1:20:35,  1.24it/s]\u001B[A\n",
      "Processing examples in test:  40%|████      | 4004/10000 [58:25<57:55,  1.73it/s]  \u001B[A\n",
      "Processing examples in test:  40%|████      | 4006/10000 [58:27<1:08:35,  1.46it/s]\u001B[A\n",
      "Processing examples in test:  40%|████      | 4007/10000 [58:29<1:20:37,  1.24it/s]\u001B[A\n",
      "Processing examples in test:  40%|████      | 4009/10000 [58:29<1:05:51,  1.52it/s]\u001B[A\n",
      "Processing examples in test:  40%|████      | 4012/10000 [58:30<53:24,  1.87it/s]  \u001B[A\n",
      "Processing examples in test:  40%|████      | 4013/10000 [58:31<55:30,  1.80it/s]\u001B[A"
     ]
    },
    {
     "name": "stdout",
     "output_type": "stream",
     "text": [
      "Failed to transform A young man holding a young woman in his arms as they get splashed by water shooting up from a fountain. or A young couple is very much in love.. Retrying 5 more times ...\n",
      "Failed to transform A young man holding a young woman in his arms as they get splashed by water shooting up from a fountain. or A young couple is very much in love.. Retrying 4 more times ...\n",
      "Failed to transform A young man holding a young woman in his arms as they get splashed by water shooting up from a fountain. or A young couple is very much in love.. Retrying 3 more times ...\n",
      "Failed to transform A young man holding a young woman in his arms as they get splashed by water shooting up from a fountain. or A young couple is very much in love.. Retrying 2 more times ...\n"
     ]
    },
    {
     "name": "stderr",
     "output_type": "stream",
     "text": [
      "\n",
      "Processing examples in test:  40%|████      | 4014/10000 [58:36<2:10:29,  1.31s/it]\u001B[A"
     ]
    },
    {
     "name": "stdout",
     "output_type": "stream",
     "text": [
      "Failed to transform A young man holding a young woman in his arms as they get splashed by water shooting up from a fountain. or A young couple is very much in love.. Retrying 1 more times ...\n"
     ]
    },
    {
     "name": "stderr",
     "output_type": "stream",
     "text": [
      "\n",
      "Processing examples in test:  40%|████      | 4015/10000 [58:37<2:23:38,  1.44s/it]\u001B[A\n",
      "Processing examples in test:  40%|████      | 4018/10000 [58:39<1:45:38,  1.06s/it]\u001B[A\n",
      "Processing examples in test:  40%|████      | 4020/10000 [58:41<1:45:15,  1.06s/it]\u001B[A\n",
      "Processing examples in test:  40%|████      | 4024/10000 [58:43<1:08:41,  1.45it/s]\u001B[A\n",
      "Processing examples in test:  40%|████      | 4026/10000 [58:44<1:06:35,  1.50it/s]\u001B[A\n",
      "Processing examples in test:  40%|████      | 4028/10000 [58:45<58:28,  1.70it/s]  \u001B[A\n",
      "Processing examples in test:  40%|████      | 4031/10000 [58:45<45:27,  2.19it/s]\u001B[A\n",
      "Processing examples in test:  40%|████      | 4032/10000 [58:47<1:08:01,  1.46it/s]\u001B[A\n",
      "Processing examples in test:  40%|████      | 4033/10000 [58:48<1:07:27,  1.47it/s]\u001B[A\n",
      "Processing examples in test:  40%|████      | 4035/10000 [58:49<56:12,  1.77it/s]  \u001B[A\n",
      "Processing examples in test:  40%|████      | 4038/10000 [58:50<47:46,  2.08it/s]\u001B[A\n",
      "Processing examples in test:  40%|████      | 4039/10000 [58:51<1:10:12,  1.41it/s]\u001B[A\n",
      "Processing examples in test:  40%|████      | 4040/10000 [58:52<1:10:53,  1.40it/s]\u001B[A\n",
      "Processing examples in test:  40%|████      | 4042/10000 [58:54<1:25:00,  1.17it/s]\u001B[A\n",
      "Processing examples in test:  40%|████      | 4046/10000 [58:56<1:00:27,  1.64it/s]\u001B[A\n",
      "Processing examples in test:  40%|████      | 4047/10000 [58:57<1:01:49,  1.60it/s]\u001B[A\n",
      "Processing examples in test:  40%|████      | 4048/10000 [58:59<1:27:33,  1.13it/s]\u001B[A\n",
      "Processing examples in test:  41%|████      | 4051/10000 [59:00<1:04:10,  1.54it/s]\u001B[A\n",
      "Processing examples in test:  41%|████      | 4054/10000 [59:01<1:02:14,  1.59it/s]\u001B[A\n",
      "Processing examples in test:  41%|████      | 4055/10000 [59:03<1:13:11,  1.35it/s]\u001B[A\n",
      "Processing examples in test:  41%|████      | 4060/10000 [59:05<54:25,  1.82it/s]  \u001B[A\n",
      "Processing examples in test:  41%|████      | 4061/10000 [59:05<55:33,  1.78it/s]\u001B[A\n",
      "Processing examples in test:  41%|████      | 4062/10000 [59:07<1:12:54,  1.36it/s]\u001B[A\n",
      "Processing examples in test:  41%|████      | 4063/10000 [59:09<1:33:31,  1.06it/s]\u001B[A\n",
      "Processing examples in test:  41%|████      | 4064/10000 [59:11<1:53:52,  1.15s/it]\u001B[A\n",
      "Processing examples in test:  41%|████      | 4066/10000 [59:12<1:24:36,  1.17it/s]\u001B[A\n",
      "Processing examples in test:  41%|████      | 4067/10000 [59:14<1:49:23,  1.11s/it]\u001B[A\n",
      "Processing examples in test:  41%|████      | 4068/10000 [59:15<2:04:15,  1.26s/it]\u001B[A\n",
      "Processing examples in test:  41%|████      | 4069/10000 [59:17<2:14:54,  1.36s/it]\u001B[A\n",
      "Processing examples in test:  41%|████      | 4070/10000 [59:18<2:00:15,  1.22s/it]\u001B[A\n",
      "Processing examples in test:  41%|████      | 4071/10000 [59:19<1:55:59,  1.17s/it]\u001B[A\n",
      "Processing examples in test:  41%|████      | 4074/10000 [59:20<1:18:15,  1.26it/s]\u001B[A\n",
      "Processing examples in test:  41%|████      | 4075/10000 [59:21<1:23:37,  1.18it/s]\u001B[A\n",
      "Processing examples in test:  41%|████      | 4076/10000 [59:22<1:19:12,  1.25it/s]\u001B[A\n",
      "Processing examples in test:  41%|████      | 4078/10000 [59:25<1:39:54,  1.01s/it]\u001B[A\n",
      "Processing examples in test:  41%|████      | 4081/10000 [59:26<1:08:29,  1.44it/s]\u001B[A\n",
      "Processing examples in test:  41%|████      | 4083/10000 [59:29<1:32:33,  1.07it/s]\u001B[A\n",
      "Processing examples in test:  41%|████      | 4084/10000 [59:30<1:39:53,  1.01s/it]\u001B[A\n",
      "Processing examples in test:  41%|████      | 4087/10000 [59:31<1:07:58,  1.45it/s]\u001B[A\n",
      "Processing examples in test:  41%|████      | 4090/10000 [59:32<54:35,  1.80it/s]  \u001B[A\n",
      "Processing examples in test:  41%|████      | 4092/10000 [59:34<1:06:57,  1.47it/s]\u001B[A\n",
      "Processing examples in test:  41%|████      | 4097/10000 [59:36<51:14,  1.92it/s]  \u001B[A\n",
      "Processing examples in test:  41%|████      | 4099/10000 [59:38<1:03:29,  1.55it/s]\u001B[A\n",
      "Processing examples in test:  41%|████      | 4101/10000 [59:40<1:16:43,  1.28it/s]\u001B[A\n",
      "Processing examples in test:  41%|████      | 4102/10000 [59:42<1:29:29,  1.10it/s]\u001B[A\n",
      "Processing examples in test:  41%|████      | 4103/10000 [59:44<1:45:00,  1.07s/it]\u001B[A\n",
      "Processing examples in test:  41%|████      | 4104/10000 [59:45<1:52:59,  1.15s/it]\u001B[A\n",
      "Processing examples in test:  41%|████      | 4105/10000 [59:47<2:10:49,  1.33s/it]\u001B[A\n",
      "Processing examples in test:  41%|████      | 4106/10000 [59:48<2:08:18,  1.31s/it]\u001B[A\n",
      "Processing examples in test:  41%|████      | 4109/10000 [59:50<1:23:39,  1.17it/s]\u001B[A\n",
      "Processing examples in test:  41%|████      | 4112/10000 [59:52<1:18:51,  1.24it/s]\u001B[A\n",
      "Processing examples in test:  41%|████      | 4113/10000 [59:53<1:22:16,  1.19it/s]\u001B[A\n",
      "Processing examples in test:  41%|████      | 4114/10000 [59:54<1:20:20,  1.22it/s]\u001B[A\n",
      "Processing examples in test:  41%|████      | 4116/10000 [59:55<1:17:59,  1.26it/s]\u001B[A"
     ]
    },
    {
     "name": "stdout",
     "output_type": "stream",
     "text": [
      "Failed to transform with A man sitting on his motorcycle as night begins to fall.. Retrying 5 more times...\n",
      "Failed to transform with A man sitting on his motorcycle as night begins to fall.. Retrying 4 more times...\n",
      "Failed to transform with A man sitting on his motorcycle as night begins to fall.. Retrying 3 more times...\n",
      "Failed to transform with A man sitting on his motorcycle as night begins to fall.. Retrying 2 more times...\n"
     ]
    },
    {
     "name": "stderr",
     "output_type": "stream",
     "text": [
      "\n",
      "Processing examples in test:  41%|████      | 4121/10000 [1:00:01<1:37:17,  1.01it/s]\u001B[A"
     ]
    },
    {
     "name": "stdout",
     "output_type": "stream",
     "text": [
      "Failed to transform with A man sitting on his motorcycle as night begins to fall.. Retrying 1 more times...\n"
     ]
    },
    {
     "name": "stderr",
     "output_type": "stream",
     "text": [
      "\n",
      "Processing examples in test:  41%|████      | 4124/10000 [1:00:02<1:20:37,  1.21it/s]\u001B[A\n",
      "Processing examples in test:  41%|████▏     | 4127/10000 [1:00:04<1:08:35,  1.43it/s]\u001B[A\n",
      "Processing examples in test:  41%|████▏     | 4128/10000 [1:00:05<1:14:12,  1.32it/s]\u001B[A\n",
      "Processing examples in test:  41%|████▏     | 4130/10000 [1:00:06<1:05:26,  1.50it/s]\u001B[A\n",
      "Processing examples in test:  41%|████▏     | 4131/10000 [1:00:06<1:06:25,  1.47it/s]\u001B[A\n",
      "Processing examples in test:  41%|████▏     | 4133/10000 [1:00:08<1:06:22,  1.47it/s]\u001B[A\n",
      "Processing examples in test:  41%|████▏     | 4134/10000 [1:00:10<1:27:19,  1.12it/s]\u001B[A\n",
      "Processing examples in test:  41%|████▏     | 4136/10000 [1:00:11<1:26:18,  1.13it/s]\u001B[A\n",
      "Processing examples in test:  41%|████▏     | 4144/10000 [1:00:13<43:37,  2.24it/s]  \u001B[A\n",
      "Processing examples in test:  41%|████▏     | 4145/10000 [1:00:15<58:42,  1.66it/s]\u001B[A\n",
      "Processing examples in test:  41%|████▏     | 4147/10000 [1:00:16<53:10,  1.83it/s]\u001B[A\n",
      "Processing examples in test:  42%|████▏     | 4150/10000 [1:00:17<47:01,  2.07it/s]\u001B[A\n",
      "Processing examples in test:  42%|████▏     | 4152/10000 [1:00:18<55:16,  1.76it/s]\u001B[A\n",
      "Processing examples in test:  42%|████▏     | 4153/10000 [1:00:20<1:04:47,  1.50it/s]\u001B[A\n",
      "Processing examples in test:  42%|████▏     | 4154/10000 [1:00:21<1:24:14,  1.16it/s]\u001B[A\n",
      "Processing examples in test:  42%|████▏     | 4158/10000 [1:00:23<59:21,  1.64it/s]  \u001B[A\n",
      "Processing examples in test:  42%|████▏     | 4159/10000 [1:00:24<1:07:31,  1.44it/s]\u001B[A\n",
      "Processing examples in test:  42%|████▏     | 4160/10000 [1:00:25<1:07:01,  1.45it/s]\u001B[A\n",
      "Processing examples in test:  42%|████▏     | 4163/10000 [1:00:26<55:39,  1.75it/s]  \u001B[A\n",
      "Processing examples in test:  42%|████▏     | 4167/10000 [1:00:27<46:17,  2.10it/s]\u001B[A\n",
      "Processing examples in test:  42%|████▏     | 4171/10000 [1:00:29<42:39,  2.28it/s]\u001B[A\n",
      "Processing examples in test:  42%|████▏     | 4172/10000 [1:00:30<50:53,  1.91it/s]\u001B[A\n",
      "Processing examples in test:  42%|████▏     | 4174/10000 [1:00:31<52:55,  1.83it/s]\u001B[A\n",
      "Processing examples in test:  42%|████▏     | 4176/10000 [1:00:32<54:42,  1.77it/s]\u001B[A\n",
      "Processing examples in test:  42%|████▏     | 4178/10000 [1:00:34<56:55,  1.70it/s]\u001B[A\n",
      "Processing examples in test:  42%|████▏     | 4179/10000 [1:00:36<1:19:07,  1.23it/s]\u001B[A\n",
      "Processing examples in test:  42%|████▏     | 4180/10000 [1:00:38<1:44:08,  1.07s/it]\u001B[A\n",
      "Processing examples in test:  42%|████▏     | 4181/10000 [1:00:40<2:01:25,  1.25s/it]\u001B[A\n",
      "Processing examples in test:  42%|████▏     | 4183/10000 [1:00:41<1:39:22,  1.03s/it]\u001B[A\n",
      "Processing examples in test:  42%|████▏     | 4184/10000 [1:00:43<1:59:47,  1.24s/it]\u001B[A\n",
      "Processing examples in test:  42%|████▏     | 4185/10000 [1:00:44<2:00:31,  1.24s/it]\u001B[A\n",
      "Processing examples in test:  42%|████▏     | 4188/10000 [1:00:46<1:31:21,  1.06it/s]\u001B[A\n",
      "Processing examples in test:  42%|████▏     | 4190/10000 [1:00:48<1:29:28,  1.08it/s]\u001B[A\n",
      "Processing examples in test:  42%|████▏     | 4193/10000 [1:00:50<1:23:30,  1.16it/s]\u001B[A\n",
      "Processing examples in test:  42%|████▏     | 4195/10000 [1:00:52<1:17:42,  1.25it/s]\u001B[A\n",
      "Processing examples in test:  42%|████▏     | 4197/10000 [1:00:53<1:13:36,  1.31it/s]\u001B[A\n",
      "Processing examples in test:  42%|████▏     | 4199/10000 [1:00:55<1:18:42,  1.23it/s]\u001B[A\n",
      "Processing examples in test:  42%|████▏     | 4202/10000 [1:00:56<57:15,  1.69it/s]  \u001B[A\n",
      "Processing examples in test:  42%|████▏     | 4207/10000 [1:00:57<46:17,  2.09it/s]\u001B[A\n",
      "Processing examples in test:  42%|████▏     | 4208/10000 [1:00:58<53:11,  1.81it/s]\u001B[A\n",
      "Processing examples in test:  42%|████▏     | 4209/10000 [1:01:00<1:04:30,  1.50it/s]\u001B[A\n",
      "Processing examples in test:  42%|████▏     | 4210/10000 [1:01:01<1:17:03,  1.25it/s]\u001B[A\n",
      "Processing examples in test:  42%|████▏     | 4211/10000 [1:01:03<1:30:14,  1.07it/s]\u001B[A\n",
      "Processing examples in test:  42%|████▏     | 4212/10000 [1:01:04<1:41:20,  1.05s/it]\u001B[A\n",
      "Processing examples in test:  42%|████▏     | 4213/10000 [1:01:06<1:53:09,  1.17s/it]\u001B[A\n",
      "Processing examples in test:  42%|████▏     | 4215/10000 [1:01:08<1:41:13,  1.05s/it]\u001B[A\n",
      "Processing examples in test:  42%|████▏     | 4218/10000 [1:01:09<1:20:34,  1.20it/s]\u001B[A\n",
      "Processing examples in test:  42%|████▏     | 4223/10000 [1:01:10<49:08,  1.96it/s]  \u001B[A\n",
      "Processing examples in test:  42%|████▏     | 4227/10000 [1:01:12<43:31,  2.21it/s]\u001B[A\n",
      "Processing examples in test:  42%|████▏     | 4228/10000 [1:01:12<45:52,  2.10it/s]\u001B[A\n",
      "Processing examples in test:  42%|████▏     | 4232/10000 [1:01:14<40:12,  2.39it/s]\u001B[A\n",
      "Processing examples in test:  42%|████▏     | 4233/10000 [1:01:14<42:49,  2.24it/s]\u001B[A\n",
      "Processing examples in test:  42%|████▏     | 4235/10000 [1:01:15<40:01,  2.40it/s]\u001B[A\n",
      "Processing examples in test:  42%|████▏     | 4237/10000 [1:01:17<52:04,  1.84it/s]\u001B[A\n",
      "Processing examples in test:  42%|████▏     | 4238/10000 [1:01:19<1:11:41,  1.34it/s]\u001B[A\n",
      "Processing examples in test:  42%|████▏     | 4241/10000 [1:01:20<1:02:13,  1.54it/s]\u001B[A\n",
      "Processing examples in test:  42%|████▏     | 4242/10000 [1:01:23<1:33:55,  1.02it/s]\u001B[A\n",
      "Processing examples in test:  42%|████▏     | 4243/10000 [1:01:24<1:35:12,  1.01it/s]\u001B[A\n",
      "Processing examples in test:  42%|████▏     | 4245/10000 [1:01:25<1:15:15,  1.27it/s]\u001B[A\n",
      "Processing examples in test:  42%|████▏     | 4246/10000 [1:01:26<1:32:16,  1.04it/s]\u001B[A\n",
      "Processing examples in test:  42%|████▏     | 4248/10000 [1:01:28<1:24:26,  1.14it/s]\u001B[A\n",
      "Processing examples in test:  42%|████▏     | 4249/10000 [1:01:30<1:44:50,  1.09s/it]\u001B[A\n",
      "Processing examples in test:  42%|████▎     | 4250/10000 [1:01:30<1:35:42,  1.00it/s]\u001B[A\n",
      "Processing examples in test:  43%|████▎     | 4251/10000 [1:01:32<1:59:26,  1.25s/it]\u001B[A\n",
      "Processing examples in test:  43%|████▎     | 4252/10000 [1:01:34<1:56:35,  1.22s/it]\u001B[A"
     ]
    },
    {
     "name": "stdout",
     "output_type": "stream",
     "text": [
      "Failed to transform A tan-skinned man sitting in a chair with a bag under his arm, talking on a white phone. or  A young man sitting in a chair with a bag under his arm, talking on a white large phone.. Retrying 5 more times ...\n",
      "Failed to transform A tan-skinned man sitting in a chair with a bag under his arm, talking on a white phone. or  A young man sitting in a chair with a bag under his arm, talking on a white large phone.. Retrying 4 more times ...\n",
      "Failed to transform A tan-skinned man sitting in a chair with a bag under his arm, talking on a white phone. or  A young man sitting in a chair with a bag under his arm, talking on a white large phone.. Retrying 3 more times ...\n",
      "Failed to transform A tan-skinned man sitting in a chair with a bag under his arm, talking on a white phone. or  A young man sitting in a chair with a bag under his arm, talking on a white large phone.. Retrying 2 more times ...\n"
     ]
    },
    {
     "name": "stderr",
     "output_type": "stream",
     "text": [
      "\n",
      "Processing examples in test:  43%|████▎     | 4255/10000 [1:01:38<2:17:57,  1.44s/it]\u001B[A"
     ]
    },
    {
     "name": "stdout",
     "output_type": "stream",
     "text": [
      "Failed to transform A tan-skinned man sitting in a chair with a bag under his arm, talking on a white phone. or  A young man sitting in a chair with a bag under his arm, talking on a white large phone.. Retrying 1 more times ...\n"
     ]
    },
    {
     "name": "stderr",
     "output_type": "stream",
     "text": [
      "\n",
      "Processing examples in test:  43%|████▎     | 4258/10000 [1:01:39<1:29:23,  1.07it/s]\u001B[A\n",
      "Processing examples in test:  43%|████▎     | 4259/10000 [1:01:40<1:32:12,  1.04it/s]\u001B[A\n",
      "Processing examples in test:  43%|████▎     | 4260/10000 [1:01:41<1:35:24,  1.00it/s]\u001B[A\n",
      "Processing examples in test:  43%|████▎     | 4263/10000 [1:01:43<1:08:14,  1.40it/s]\u001B[A\n",
      "Processing examples in test:  43%|████▎     | 4264/10000 [1:01:45<1:35:13,  1.00it/s]\u001B[A\n",
      "Processing examples in test:  43%|████▎     | 4267/10000 [1:01:46<1:05:11,  1.47it/s]\u001B[A\n",
      "Processing examples in test:  43%|████▎     | 4269/10000 [1:01:46<56:29,  1.69it/s]  \u001B[A\n",
      "Processing examples in test:  43%|████▎     | 4270/10000 [1:01:48<1:14:53,  1.28it/s]\u001B[A\n",
      "Processing examples in test:  43%|████▎     | 4271/10000 [1:01:49<1:21:27,  1.17it/s]\u001B[A\n",
      "Processing examples in test:  43%|████▎     | 4272/10000 [1:01:51<1:45:34,  1.11s/it]\u001B[A\n",
      "Processing examples in test:  43%|████▎     | 4275/10000 [1:01:53<1:15:17,  1.27it/s]\u001B[A\n",
      "Processing examples in test:  43%|████▎     | 4278/10000 [1:01:54<1:03:31,  1.50it/s]\u001B[A\n",
      "Processing examples in test:  43%|████▎     | 4280/10000 [1:01:55<1:00:25,  1.58it/s]\u001B[A\n",
      "Processing examples in test:  43%|████▎     | 4282/10000 [1:01:57<1:03:01,  1.51it/s]\u001B[A\n",
      "Processing examples in test:  43%|████▎     | 4285/10000 [1:01:58<1:00:32,  1.57it/s]\u001B[A\n",
      "Processing examples in test:  43%|████▎     | 4287/10000 [1:01:59<54:41,  1.74it/s]  \u001B[A\n",
      "Processing examples in test:  43%|████▎     | 4292/10000 [1:02:00<34:33,  2.75it/s]\u001B[A\n",
      "Processing examples in test:  43%|████▎     | 4293/10000 [1:02:02<50:45,  1.87it/s]\u001B[A\n",
      "Processing examples in test:  43%|████▎     | 4295/10000 [1:02:04<1:00:25,  1.57it/s]\u001B[A\n",
      "Processing examples in test:  43%|████▎     | 4297/10000 [1:02:05<1:01:04,  1.56it/s]\u001B[A\n",
      "Processing examples in test:  43%|████▎     | 4298/10000 [1:02:06<1:06:42,  1.42it/s]\u001B[A\n",
      "Processing examples in test:  43%|████▎     | 4299/10000 [1:02:07<1:17:09,  1.23it/s]\u001B[A\n",
      "Processing examples in test:  43%|████▎     | 4300/10000 [1:02:08<1:25:42,  1.11it/s]\u001B[A\n",
      "Processing examples in test:  43%|████▎     | 4302/10000 [1:02:10<1:12:51,  1.30it/s]\u001B[A\n",
      "Processing examples in test:  43%|████▎     | 4303/10000 [1:02:11<1:32:54,  1.02it/s]\u001B[A\n",
      "Processing examples in test:  43%|████▎     | 4307/10000 [1:02:13<1:05:13,  1.45it/s]\u001B[A\n",
      "Processing examples in test:  43%|████▎     | 4311/10000 [1:02:15<55:15,  1.72it/s]  \u001B[A\n",
      "Processing examples in test:  43%|████▎     | 4314/10000 [1:02:16<48:08,  1.97it/s]\u001B[A\n",
      "Processing examples in test:  43%|████▎     | 4316/10000 [1:02:17<49:04,  1.93it/s]\u001B[A\n",
      "Processing examples in test:  43%|████▎     | 4318/10000 [1:02:18<50:36,  1.87it/s]\u001B[A\n",
      "Processing examples in test:  43%|████▎     | 4322/10000 [1:02:19<39:50,  2.37it/s]\u001B[A\n",
      "Processing examples in test:  43%|████▎     | 4323/10000 [1:02:21<56:08,  1.69it/s]\u001B[A\n",
      "Processing examples in test:  43%|████▎     | 4325/10000 [1:02:22<54:57,  1.72it/s]\u001B[A\n",
      "Processing examples in test:  43%|████▎     | 4326/10000 [1:02:24<1:09:22,  1.36it/s]\u001B[A\n",
      "Processing examples in test:  43%|████▎     | 4327/10000 [1:02:25<1:24:19,  1.12it/s]\u001B[A\n",
      "Processing examples in test:  43%|████▎     | 4332/10000 [1:02:26<43:31,  2.17it/s]  \u001B[A"
     ]
    },
    {
     "name": "stdout",
     "output_type": "stream",
     "text": [
      "Failed to transform with A man riding his motorcycle off road.. Retrying 5 more times...\n",
      "Failed to transform with A man riding his motorcycle off road.. Retrying 4 more times...\n",
      "Failed to transform with A man riding his motorcycle off road.. Retrying 3 more times...\n",
      "Failed to transform with A man riding his motorcycle off road.. Retrying 2 more times...\n"
     ]
    },
    {
     "name": "stderr",
     "output_type": "stream",
     "text": [
      "\n",
      "Processing examples in test:  43%|████▎     | 4333/10000 [1:02:30<1:37:48,  1.04s/it]\u001B[A"
     ]
    },
    {
     "name": "stdout",
     "output_type": "stream",
     "text": [
      "Failed to transform with A man riding his motorcycle off road.. Retrying 1 more times...\n"
     ]
    },
    {
     "name": "stderr",
     "output_type": "stream",
     "text": [
      "\n",
      "Processing examples in test:  43%|████▎     | 4334/10000 [1:02:32<1:47:39,  1.14s/it]\u001B[A\n",
      "Processing examples in test:  43%|████▎     | 4337/10000 [1:02:34<1:31:01,  1.04it/s]\u001B[A\n",
      "Processing examples in test:  43%|████▎     | 4339/10000 [1:02:36<1:28:47,  1.06it/s]\u001B[A\n",
      "Processing examples in test:  43%|████▎     | 4342/10000 [1:02:38<1:14:17,  1.27it/s]\u001B[A\n",
      "Processing examples in test:  43%|████▎     | 4343/10000 [1:02:39<1:22:30,  1.14it/s]\u001B[A\n",
      "Processing examples in test:  43%|████▎     | 4345/10000 [1:02:40<1:12:03,  1.31it/s]\u001B[A\n",
      "Processing examples in test:  43%|████▎     | 4346/10000 [1:02:42<1:29:10,  1.06it/s]\u001B[A\n",
      "Processing examples in test:  43%|████▎     | 4347/10000 [1:02:43<1:24:46,  1.11it/s]\u001B[A\n",
      "Processing examples in test:  43%|████▎     | 4348/10000 [1:02:44<1:34:31,  1.00s/it]\u001B[A\n",
      "Processing examples in test:  43%|████▎     | 4349/10000 [1:02:45<1:37:54,  1.04s/it]\u001B[A\n",
      "Processing examples in test:  44%|████▎     | 4350/10000 [1:02:46<1:31:50,  1.03it/s]\u001B[A\n",
      "Processing examples in test:  44%|████▎     | 4353/10000 [1:02:48<1:15:32,  1.25it/s]\u001B[A\n",
      "Processing examples in test:  44%|████▎     | 4354/10000 [1:02:50<1:33:37,  1.01it/s]\u001B[A\n",
      "Processing examples in test:  44%|████▎     | 4356/10000 [1:02:51<1:30:51,  1.04it/s]\u001B[A\n",
      "Processing examples in test:  44%|████▎     | 4357/10000 [1:02:53<1:52:46,  1.20s/it]\u001B[A\n",
      "Processing examples in test:  44%|████▎     | 4362/10000 [1:02:55<1:05:55,  1.43it/s]\u001B[A\n",
      "Processing examples in test:  44%|████▎     | 4363/10000 [1:02:56<1:04:58,  1.45it/s]\u001B[A\n",
      "Processing examples in test:  44%|████▎     | 4368/10000 [1:02:57<42:12,  2.22it/s]  \u001B[A\n",
      "Processing examples in test:  44%|████▎     | 4373/10000 [1:02:58<31:15,  3.00it/s]\u001B[A\n",
      "Processing examples in test:  44%|████▍     | 4376/10000 [1:02:59<31:52,  2.94it/s]\u001B[A\n",
      "Processing examples in test:  44%|████▍     | 4381/10000 [1:03:00<27:43,  3.38it/s]\u001B[A\n",
      "Processing examples in test:  44%|████▍     | 4382/10000 [1:03:02<41:59,  2.23it/s]\u001B[A\n",
      "Processing examples in test:  44%|████▍     | 4383/10000 [1:03:04<55:27,  1.69it/s]\u001B[A\n",
      "Processing examples in test:  44%|████▍     | 4389/10000 [1:03:05<41:42,  2.24it/s]\u001B[A\n",
      "Processing examples in test:  44%|████▍     | 4390/10000 [1:03:06<47:52,  1.95it/s]\u001B[A\n",
      "Processing examples in test:  44%|████▍     | 4392/10000 [1:03:08<52:09,  1.79it/s]\u001B[A\n",
      "Processing examples in test:  44%|████▍     | 4396/10000 [1:03:10<50:02,  1.87it/s]\u001B[A\n",
      "Processing examples in test:  44%|████▍     | 4397/10000 [1:03:11<1:01:52,  1.51it/s]\u001B[A\n",
      "Processing examples in test:  44%|████▍     | 4399/10000 [1:03:14<1:17:04,  1.21it/s]\u001B[A\n",
      "Processing examples in test:  44%|████▍     | 4404/10000 [1:03:15<48:54,  1.91it/s]  \u001B[A\n",
      "Processing examples in test:  44%|████▍     | 4405/10000 [1:03:16<55:10,  1.69it/s]\u001B[A\n",
      "Processing examples in test:  44%|████▍     | 4408/10000 [1:03:17<51:19,  1.82it/s]\u001B[A\n",
      "Processing examples in test:  44%|████▍     | 4409/10000 [1:03:19<1:08:47,  1.35it/s]\u001B[A\n",
      "Processing examples in test:  44%|████▍     | 4410/10000 [1:03:20<1:07:34,  1.38it/s]\u001B[A\n",
      "Processing examples in test:  44%|████▍     | 4412/10000 [1:03:21<1:02:47,  1.48it/s]\u001B[A\n",
      "Processing examples in test:  44%|████▍     | 4419/10000 [1:03:23<38:12,  2.43it/s]  \u001B[A\n",
      "Processing examples in test:  44%|████▍     | 4420/10000 [1:03:24<49:30,  1.88it/s]\u001B[A\n",
      "Processing examples in test:  44%|████▍     | 4422/10000 [1:03:26<53:11,  1.75it/s]\u001B[A\n",
      "Processing examples in test:  44%|████▍     | 4424/10000 [1:03:28<1:00:29,  1.54it/s]\u001B[A\n",
      "Processing examples in test:  44%|████▍     | 4425/10000 [1:03:29<1:12:53,  1.27it/s]\u001B[A\n",
      "Processing examples in test:  44%|████▍     | 4426/10000 [1:03:31<1:28:40,  1.05it/s]\u001B[A\n",
      "Processing examples in test:  44%|████▍     | 4427/10000 [1:03:33<1:44:04,  1.12s/it]\u001B[A\n",
      "Processing examples in test:  44%|████▍     | 4428/10000 [1:03:34<1:42:09,  1.10s/it]\u001B[A\n",
      "Processing examples in test:  44%|████▍     | 4429/10000 [1:03:34<1:32:19,  1.01it/s]\u001B[A\n",
      "Processing examples in test:  44%|████▍     | 4430/10000 [1:03:36<1:52:35,  1.21s/it]\u001B[A"
     ]
    },
    {
     "name": "stdout",
     "output_type": "stream",
     "text": [
      "Failed to transform with People tossing out their disgusting meals at a sketchy restaurant.. Retrying 5 more times...\n",
      "Failed to transform with People tossing out their disgusting meals at a sketchy restaurant.. Retrying 4 more times...\n",
      "Failed to transform with People tossing out their disgusting meals at a sketchy restaurant.. Retrying 3 more times...\n",
      "Failed to transform with People tossing out their disgusting meals at a sketchy restaurant.. Retrying 2 more times...\n"
     ]
    },
    {
     "name": "stderr",
     "output_type": "stream",
     "text": [
      "\n",
      "Processing examples in test:  44%|████▍     | 4432/10000 [1:03:43<3:23:35,  2.19s/it]\u001B[A"
     ]
    },
    {
     "name": "stdout",
     "output_type": "stream",
     "text": [
      "Failed to transform with People tossing out their disgusting meals at a sketchy restaurant.. Retrying 1 more times...\n"
     ]
    },
    {
     "name": "stderr",
     "output_type": "stream",
     "text": [
      "\n",
      "Processing examples in test:  44%|████▍     | 4433/10000 [1:03:45<3:25:57,  2.22s/it]\u001B[A\n",
      "Processing examples in test:  44%|████▍     | 4435/10000 [1:03:48<2:43:27,  1.76s/it]\u001B[A\n",
      "Processing examples in test:  44%|████▍     | 4437/10000 [1:03:48<1:54:48,  1.24s/it]\u001B[A\n",
      "Processing examples in test:  44%|████▍     | 4439/10000 [1:03:50<1:43:15,  1.11s/it]\u001B[A\n",
      "Processing examples in test:  44%|████▍     | 4440/10000 [1:03:51<1:43:52,  1.12s/it]\u001B[A\n",
      "Processing examples in test:  44%|████▍     | 4441/10000 [1:03:52<1:45:41,  1.14s/it]\u001B[A\n",
      "Processing examples in test:  44%|████▍     | 4442/10000 [1:03:54<1:47:50,  1.16s/it]\u001B[A\n",
      "Processing examples in test:  44%|████▍     | 4446/10000 [1:03:55<1:03:32,  1.46it/s]\u001B[A\n",
      "Processing examples in test:  44%|████▍     | 4447/10000 [1:03:57<1:24:52,  1.09it/s]\u001B[A\n",
      "Processing examples in test:  45%|████▍     | 4452/10000 [1:03:58<50:23,  1.84it/s]  \u001B[A\n",
      "Processing examples in test:  45%|████▍     | 4454/10000 [1:03:59<48:50,  1.89it/s]\u001B[A\n",
      "Processing examples in test:  45%|████▍     | 4455/10000 [1:04:00<55:52,  1.65it/s]\u001B[A\n",
      "Processing examples in test:  45%|████▍     | 4457/10000 [1:04:02<1:04:32,  1.43it/s]\u001B[A\n",
      "Processing examples in test:  45%|████▍     | 4461/10000 [1:04:04<53:39,  1.72it/s]  \u001B[A\n",
      "Processing examples in test:  45%|████▍     | 4462/10000 [1:04:05<1:07:15,  1.37it/s]\u001B[A\n",
      "Processing examples in test:  45%|████▍     | 4463/10000 [1:04:07<1:16:11,  1.21it/s]\u001B[A\n",
      "Processing examples in test:  45%|████▍     | 4466/10000 [1:04:08<1:03:38,  1.45it/s]\u001B[A\n",
      "Processing examples in test:  45%|████▍     | 4467/10000 [1:04:09<1:12:38,  1.27it/s]\u001B[A\n",
      "Processing examples in test:  45%|████▍     | 4468/10000 [1:04:11<1:31:16,  1.01it/s]\u001B[A\n",
      "Processing examples in test:  45%|████▍     | 4470/10000 [1:04:13<1:28:42,  1.04it/s]\u001B[A\n",
      "Processing examples in test:  45%|████▍     | 4471/10000 [1:04:15<1:43:23,  1.12s/it]\u001B[A\n",
      "Processing examples in test:  45%|████▍     | 4472/10000 [1:04:17<1:56:05,  1.26s/it]\u001B[A\n",
      "Processing examples in test:  45%|████▍     | 4474/10000 [1:04:17<1:24:29,  1.09it/s]\u001B[A\n",
      "Processing examples in test:  45%|████▍     | 4475/10000 [1:04:19<1:41:39,  1.10s/it]\u001B[A"
     ]
    },
    {
     "name": "stdout",
     "output_type": "stream",
     "text": [
      "Failed to transform Man  dress pant and a blue dress shirt  walking   shadow  nature. or A man walking around in nature because he's lost.. Retrying 5 more times ...\n",
      "Failed to transform Man  dress pant and one blue dress shadow-nature walking shirt       . or A man walking around in nature because he's lost.. Retrying 4 more times ...\n",
      "Failed to transform Man  dress pant and one blue dress shadows-natures walking shirt       . or A man walking around in nature because he's lost.. Retrying 3 more times ...\n",
      "Failed to transform Man  dress pant and one blue dress shadows-natures walking shirt       . or A man walking around in nature because he's lost.. Retrying 2 more times ...\n"
     ]
    },
    {
     "name": "stderr",
     "output_type": "stream",
     "text": [
      "\n",
      "Processing examples in test:  45%|████▍     | 4478/10000 [1:04:27<2:49:36,  1.84s/it]\u001B[A"
     ]
    },
    {
     "name": "stdout",
     "output_type": "stream",
     "text": [
      "Failed to transform Man  dress pant and one blue dress shadows-nature walking shirt       . or A man walking around in nature because he's lost.. Retrying 1 more times ...\n"
     ]
    },
    {
     "name": "stderr",
     "output_type": "stream",
     "text": [
      "\n",
      "Processing examples in test:  45%|████▍     | 4479/10000 [1:04:28<2:36:17,  1.70s/it]\u001B[A\n",
      "Processing examples in test:  45%|████▍     | 4480/10000 [1:04:30<2:32:56,  1.66s/it]\u001B[A\n",
      "Processing examples in test:  45%|████▍     | 4481/10000 [1:04:31<2:36:32,  1.70s/it]\u001B[A"
     ]
    },
    {
     "name": "stdout",
     "output_type": "stream",
     "text": [
      "Failed to transform with a woman with a newspaper that says \"real change\" on the ground next to her. Retrying 5 more times...\n",
      "Failed to transform with a woman with a newspaper that says \"real change\" on the ground next to her. Retrying 4 more times...\n",
      "Failed to transform with a woman with a newspaper that says \"real change\" on the ground next to her. Retrying 3 more times...\n",
      "Failed to transform with a woman with a newspaper that says \"real change\" on the ground next to her. Retrying 2 more times...\n"
     ]
    },
    {
     "name": "stderr",
     "output_type": "stream",
     "text": [
      "\n",
      "Processing examples in test:  45%|████▍     | 4482/10000 [1:04:36<3:39:01,  2.38s/it]\u001B[A"
     ]
    },
    {
     "name": "stdout",
     "output_type": "stream",
     "text": [
      "Failed to transform with a woman with a newspaper that says \"real change\" on the ground next to her. Retrying 1 more times...\n"
     ]
    },
    {
     "name": "stderr",
     "output_type": "stream",
     "text": [
      "\n",
      "Processing examples in test:  45%|████▍     | 4484/10000 [1:04:37<2:21:37,  1.54s/it]\u001B[A\n",
      "Processing examples in test:  45%|████▍     | 4485/10000 [1:04:37<2:03:47,  1.35s/it]\u001B[A\n",
      "Processing examples in test:  45%|████▍     | 4486/10000 [1:04:39<2:08:52,  1.40s/it]\u001B[A\n",
      "Processing examples in test:  45%|████▍     | 4487/10000 [1:04:40<2:08:43,  1.40s/it]\u001B[A\n",
      "Processing examples in test:  45%|████▍     | 4488/10000 [1:04:42<2:04:52,  1.36s/it]\u001B[A\n",
      "Processing examples in test:  45%|████▍     | 4489/10000 [1:04:44<2:43:04,  1.78s/it]\u001B[A\n",
      "Processing examples in test:  45%|████▍     | 4492/10000 [1:04:46<1:47:05,  1.17s/it]\u001B[A\n",
      "Processing examples in test:  45%|████▍     | 4493/10000 [1:04:48<1:51:38,  1.22s/it]\u001B[A\n",
      "Processing examples in test:  45%|████▍     | 4496/10000 [1:04:49<1:20:13,  1.14it/s]\u001B[A\n",
      "Processing examples in test:  45%|████▍     | 4498/10000 [1:04:52<1:27:42,  1.05it/s]\u001B[A\n",
      "Processing examples in test:  45%|████▌     | 4501/10000 [1:04:53<1:06:32,  1.38it/s]\u001B[A\n",
      "Processing examples in test:  45%|████▌     | 4502/10000 [1:04:55<1:24:19,  1.09it/s]\u001B[A\n",
      "Processing examples in test:  45%|████▌     | 4503/10000 [1:04:58<1:58:04,  1.29s/it]\u001B[A\n",
      "Processing examples in test:  45%|████▌     | 4506/10000 [1:05:00<1:34:43,  1.03s/it]\u001B[A\n",
      "Processing examples in test:  45%|████▌     | 4508/10000 [1:05:01<1:21:32,  1.12it/s]\u001B[A\n",
      "Processing examples in test:  45%|████▌     | 4512/10000 [1:05:01<51:09,  1.79it/s]  \u001B[A\n",
      "Processing examples in test:  45%|████▌     | 4515/10000 [1:05:03<48:06,  1.90it/s]\u001B[A\n",
      "Processing examples in test:  45%|████▌     | 4516/10000 [1:05:05<1:03:04,  1.45it/s]\u001B[A\n",
      "Processing examples in test:  45%|████▌     | 4517/10000 [1:05:06<1:09:35,  1.31it/s]\u001B[A\n",
      "Processing examples in test:  45%|████▌     | 4518/10000 [1:05:07<1:25:54,  1.06it/s]\u001B[A\n",
      "Processing examples in test:  45%|████▌     | 4519/10000 [1:05:12<2:29:32,  1.64s/it]\u001B[A\n",
      "Processing examples in test:  45%|████▌     | 4521/10000 [1:05:14<2:06:26,  1.38s/it]\u001B[A\n",
      "Processing examples in test:  45%|████▌     | 4522/10000 [1:05:14<1:57:28,  1.29s/it]\u001B[A\n",
      "Processing examples in test:  45%|████▌     | 4523/10000 [1:05:16<2:12:17,  1.45s/it]\u001B[A\n",
      "Processing examples in test:  45%|████▌     | 4524/10000 [1:05:17<1:54:51,  1.26s/it]\u001B[A\n",
      "Processing examples in test:  45%|████▌     | 4525/10000 [1:05:18<1:49:43,  1.20s/it]\u001B[A\n",
      "Processing examples in test:  45%|████▌     | 4526/10000 [1:05:19<1:47:44,  1.18s/it]\u001B[A\n",
      "Processing examples in test:  45%|████▌     | 4527/10000 [1:05:20<1:45:12,  1.15s/it]\u001B[A\n",
      "Processing examples in test:  45%|████▌     | 4529/10000 [1:05:22<1:35:29,  1.05s/it]\u001B[A\n",
      "Processing examples in test:  45%|████▌     | 4532/10000 [1:05:24<1:11:56,  1.27it/s]\u001B[A\n",
      "Processing examples in test:  45%|████▌     | 4533/10000 [1:05:26<1:30:08,  1.01it/s]\u001B[A\n",
      "Processing examples in test:  45%|████▌     | 4534/10000 [1:05:28<1:53:14,  1.24s/it]\u001B[A\n",
      "Processing examples in test:  45%|████▌     | 4535/10000 [1:05:30<2:09:06,  1.42s/it]\u001B[A\n",
      "Processing examples in test:  45%|████▌     | 4538/10000 [1:05:30<1:14:14,  1.23it/s]\u001B[A\n",
      "Processing examples in test:  45%|████▌     | 4539/10000 [1:05:31<1:16:12,  1.19it/s]\u001B[A\n",
      "Processing examples in test:  45%|████▌     | 4540/10000 [1:05:33<1:22:20,  1.11it/s]\u001B[A\n",
      "Processing examples in test:  45%|████▌     | 4541/10000 [1:05:34<1:27:34,  1.04it/s]\u001B[A\n",
      "Processing examples in test:  45%|████▌     | 4542/10000 [1:05:35<1:38:14,  1.08s/it]\u001B[A\n",
      "Processing examples in test:  45%|████▌     | 4543/10000 [1:05:36<1:39:21,  1.09s/it]\u001B[A\n",
      "Processing examples in test:  45%|████▌     | 4545/10000 [1:05:38<1:27:30,  1.04it/s]\u001B[A\n",
      "Processing examples in test:  45%|████▌     | 4549/10000 [1:05:39<53:30,  1.70it/s]  \u001B[A\n",
      "Processing examples in test:  46%|████▌     | 4551/10000 [1:05:41<1:05:19,  1.39it/s]\u001B[A\n",
      "Processing examples in test:  46%|████▌     | 4552/10000 [1:05:42<1:12:36,  1.25it/s]\u001B[A\n",
      "Processing examples in test:  46%|████▌     | 4553/10000 [1:05:44<1:25:33,  1.06it/s]\u001B[A\n",
      "Processing examples in test:  46%|████▌     | 4554/10000 [1:05:45<1:26:39,  1.05it/s]\u001B[A\n",
      "Processing examples in test:  46%|████▌     | 4555/10000 [1:05:45<1:20:19,  1.13it/s]\u001B[A\n",
      "Processing examples in test:  46%|████▌     | 4556/10000 [1:05:47<1:42:27,  1.13s/it]\u001B[A\n",
      "Processing examples in test:  46%|████▌     | 4557/10000 [1:05:49<1:51:46,  1.23s/it]\u001B[A\n",
      "Processing examples in test:  46%|████▌     | 4558/10000 [1:05:50<1:49:55,  1.21s/it]\u001B[A\n",
      "Processing examples in test:  46%|████▌     | 4559/10000 [1:05:51<1:50:13,  1.22s/it]\u001B[A\n",
      "Processing examples in test:  46%|████▌     | 4561/10000 [1:05:52<1:18:33,  1.15it/s]\u001B[A\n",
      "Processing examples in test:  46%|████▌     | 4563/10000 [1:05:53<1:01:03,  1.48it/s]\u001B[A\n",
      "Processing examples in test:  46%|████▌     | 4564/10000 [1:05:55<1:26:25,  1.05it/s]\u001B[A\n",
      "Processing examples in test:  46%|████▌     | 4565/10000 [1:05:56<1:34:04,  1.04s/it]\u001B[A\n",
      "Processing examples in test:  46%|████▌     | 4567/10000 [1:05:57<1:18:38,  1.15it/s]\u001B[A\n",
      "Processing examples in test:  46%|████▌     | 4568/10000 [1:05:58<1:15:14,  1.20it/s]\u001B[A\n",
      "Processing examples in test:  46%|████▌     | 4570/10000 [1:05:59<1:12:11,  1.25it/s]\u001B[A\n",
      "Processing examples in test:  46%|████▌     | 4574/10000 [1:06:01<54:59,  1.64it/s]  \u001B[A\n",
      "Processing examples in test:  46%|████▌     | 4575/10000 [1:06:03<1:16:33,  1.18it/s]\u001B[A\n",
      "Processing examples in test:  46%|████▌     | 4577/10000 [1:06:05<1:09:39,  1.30it/s]\u001B[A\n",
      "Processing examples in test:  46%|████▌     | 4578/10000 [1:06:06<1:26:40,  1.04it/s]\u001B[A\n",
      "Processing examples in test:  46%|████▌     | 4581/10000 [1:06:08<1:03:57,  1.41it/s]\u001B[A\n",
      "Processing examples in test:  46%|████▌     | 4582/10000 [1:06:10<1:25:19,  1.06it/s]\u001B[A\n",
      "Processing examples in test:  46%|████▌     | 4583/10000 [1:06:11<1:27:49,  1.03it/s]\u001B[A\n",
      "Processing examples in test:  46%|████▌     | 4584/10000 [1:06:12<1:29:15,  1.01it/s]\u001B[A\n",
      "Processing examples in test:  46%|████▌     | 4587/10000 [1:06:14<1:11:53,  1.25it/s]\u001B[A\n",
      "Processing examples in test:  46%|████▌     | 4588/10000 [1:06:15<1:17:07,  1.17it/s]\u001B[A\n",
      "Processing examples in test:  46%|████▌     | 4589/10000 [1:06:16<1:21:15,  1.11it/s]\u001B[A\n",
      "Processing examples in test:  46%|████▌     | 4590/10000 [1:06:17<1:35:12,  1.06s/it]\u001B[A\n",
      "Processing examples in test:  46%|████▌     | 4592/10000 [1:06:19<1:29:01,  1.01it/s]\u001B[A\n",
      "Processing examples in test:  46%|████▌     | 4593/10000 [1:06:20<1:24:24,  1.07it/s]\u001B[A\n",
      "Processing examples in test:  46%|████▌     | 4594/10000 [1:06:21<1:38:24,  1.09s/it]\u001B[A\n",
      "Processing examples in test:  46%|████▌     | 4596/10000 [1:06:22<1:10:50,  1.27it/s]\u001B[A\n",
      "Processing examples in test:  46%|████▌     | 4597/10000 [1:06:23<1:16:22,  1.18it/s]\u001B[A\n",
      "Processing examples in test:  46%|████▌     | 4600/10000 [1:06:25<1:01:13,  1.47it/s]\u001B[A\n",
      "Processing examples in test:  46%|████▌     | 4601/10000 [1:06:25<1:03:40,  1.41it/s]\u001B[A\n",
      "Processing examples in test:  46%|████▌     | 4602/10000 [1:06:27<1:17:17,  1.16it/s]\u001B[A\n",
      "Processing examples in test:  46%|████▌     | 4603/10000 [1:06:28<1:23:23,  1.08it/s]\u001B[A\n",
      "Processing examples in test:  46%|████▌     | 4604/10000 [1:06:30<1:40:31,  1.12s/it]\u001B[A\n",
      "Processing examples in test:  46%|████▌     | 4605/10000 [1:06:31<1:54:34,  1.27s/it]\u001B[A\n",
      "Processing examples in test:  46%|████▌     | 4606/10000 [1:06:33<1:50:40,  1.23s/it]\u001B[A\n",
      "Processing examples in test:  46%|████▌     | 4610/10000 [1:06:34<1:08:17,  1.32it/s]\u001B[A\n",
      "Processing examples in test:  46%|████▌     | 4611/10000 [1:06:36<1:24:43,  1.06it/s]\u001B[A\n",
      "Processing examples in test:  46%|████▌     | 4612/10000 [1:06:37<1:29:21,  1.01it/s]\u001B[A\n",
      "Processing examples in test:  46%|████▌     | 4613/10000 [1:06:39<1:38:51,  1.10s/it]\u001B[A\n",
      "Processing examples in test:  46%|████▌     | 4614/10000 [1:06:40<1:33:20,  1.04s/it]\u001B[A\n",
      "Processing examples in test:  46%|████▌     | 4615/10000 [1:06:42<1:54:13,  1.27s/it]\u001B[A\n",
      "Processing examples in test:  46%|████▌     | 4617/10000 [1:06:43<1:34:31,  1.05s/it]\u001B[A\n",
      "Processing examples in test:  46%|████▌     | 4618/10000 [1:06:45<1:45:46,  1.18s/it]\u001B[A\n",
      "Processing examples in test:  46%|████▌     | 4619/10000 [1:06:46<1:47:50,  1.20s/it]\u001B[A\n",
      "Processing examples in test:  46%|████▌     | 4623/10000 [1:06:47<1:02:10,  1.44it/s]\u001B[A\n",
      "Processing examples in test:  46%|████▌     | 4624/10000 [1:06:49<1:16:13,  1.18it/s]\u001B[A\n",
      "Processing examples in test:  46%|████▋     | 4627/10000 [1:06:50<57:36,  1.55it/s]  \u001B[A\n",
      "Processing examples in test:  46%|████▋     | 4629/10000 [1:06:51<49:53,  1.79it/s]\u001B[A\n",
      "Processing examples in test:  46%|████▋     | 4630/10000 [1:06:53<1:10:03,  1.28it/s]\u001B[A\n",
      "Processing examples in test:  46%|████▋     | 4631/10000 [1:06:54<1:25:47,  1.04it/s]\u001B[A\n",
      "Processing examples in test:  46%|████▋     | 4632/10000 [1:06:56<1:44:55,  1.17s/it]\u001B[A\n",
      "Processing examples in test:  46%|████▋     | 4634/10000 [1:06:58<1:35:16,  1.07s/it]\u001B[A\n",
      "Processing examples in test:  46%|████▋     | 4636/10000 [1:07:00<1:29:40,  1.00s/it]\u001B[A\n",
      "Processing examples in test:  46%|████▋     | 4640/10000 [1:07:01<1:00:41,  1.47it/s]\u001B[A\n",
      "Processing examples in test:  46%|████▋     | 4643/10000 [1:07:02<50:43,  1.76it/s]  \u001B[A\n",
      "Processing examples in test:  46%|████▋     | 4644/10000 [1:07:03<52:18,  1.71it/s]\u001B[A\n",
      "Processing examples in test:  46%|████▋     | 4647/10000 [1:07:05<53:55,  1.65it/s]\u001B[A\n",
      "Processing examples in test:  46%|████▋     | 4648/10000 [1:07:06<1:01:58,  1.44it/s]\u001B[A\n",
      "Processing examples in test:  46%|████▋     | 4649/10000 [1:07:08<1:17:14,  1.15it/s]\u001B[A\n",
      "Processing examples in test:  47%|████▋     | 4651/10000 [1:07:09<1:07:27,  1.32it/s]\u001B[A\n",
      "Processing examples in test:  47%|████▋     | 4653/10000 [1:07:11<1:11:17,  1.25it/s]\u001B[A\n",
      "Processing examples in test:  47%|████▋     | 4655/10000 [1:07:12<1:09:38,  1.28it/s]\u001B[A\n",
      "Processing examples in test:  47%|████▋     | 4657/10000 [1:07:13<1:03:54,  1.39it/s]\u001B[A\n",
      "Processing examples in test:  47%|████▋     | 4659/10000 [1:07:14<59:00,  1.51it/s]  \u001B[A\n",
      "Processing examples in test:  47%|████▋     | 4664/10000 [1:07:17<50:58,  1.74it/s]\u001B[A\n",
      "Processing examples in test:  47%|████▋     | 4666/10000 [1:07:18<53:13,  1.67it/s]\u001B[A\n",
      "Processing examples in test:  47%|████▋     | 4670/10000 [1:07:20<49:40,  1.79it/s]\u001B[A\n",
      "Processing examples in test:  47%|████▋     | 4674/10000 [1:07:22<45:29,  1.95it/s]\u001B[A\n",
      "Processing examples in test:  47%|████▋     | 4676/10000 [1:07:23<46:08,  1.92it/s]\u001B[A\n",
      "Processing examples in test:  47%|████▋     | 4677/10000 [1:07:24<53:28,  1.66it/s]\u001B[A\n",
      "Processing examples in test:  47%|████▋     | 4678/10000 [1:07:25<1:00:50,  1.46it/s]\u001B[A\n",
      "Processing examples in test:  47%|████▋     | 4679/10000 [1:07:27<1:09:15,  1.28it/s]\u001B[A\n",
      "Processing examples in test:  47%|████▋     | 4680/10000 [1:07:29<1:31:23,  1.03s/it]\u001B[A\n",
      "Processing examples in test:  47%|████▋     | 4682/10000 [1:07:30<1:21:17,  1.09it/s]\u001B[A\n",
      "Processing examples in test:  47%|████▋     | 4684/10000 [1:07:31<1:09:19,  1.28it/s]\u001B[A\n",
      "Processing examples in test:  47%|████▋     | 4686/10000 [1:07:33<1:14:43,  1.19it/s]\u001B[A\n",
      "Processing examples in test:  47%|████▋     | 4687/10000 [1:07:34<1:26:23,  1.03it/s]\u001B[A\n",
      "Processing examples in test:  47%|████▋     | 4688/10000 [1:07:36<1:27:26,  1.01it/s]\u001B[A\n",
      "Processing examples in test:  47%|████▋     | 4690/10000 [1:07:37<1:13:42,  1.20it/s]\u001B[A\n",
      "Processing examples in test:  47%|████▋     | 4694/10000 [1:07:39<57:21,  1.54it/s]  \u001B[A\n",
      "Processing examples in test:  47%|████▋     | 4700/10000 [1:07:40<37:38,  2.35it/s]\u001B[A\n",
      "Processing examples in test:  47%|████▋     | 4701/10000 [1:07:42<51:33,  1.71it/s]\u001B[A\n",
      "Processing examples in test:  47%|████▋     | 4702/10000 [1:07:43<1:02:09,  1.42it/s]\u001B[A\n",
      "Processing examples in test:  47%|████▋     | 4703/10000 [1:07:45<1:24:13,  1.05it/s]\u001B[A\n",
      "Processing examples in test:  47%|████▋     | 4706/10000 [1:07:47<1:07:37,  1.30it/s]\u001B[A\n",
      "Processing examples in test:  47%|████▋     | 4708/10000 [1:07:49<1:12:11,  1.22it/s]\u001B[A\n",
      "Processing examples in test:  47%|████▋     | 4709/10000 [1:07:51<1:28:05,  1.00it/s]\u001B[A\n",
      "Processing examples in test:  47%|████▋     | 4710/10000 [1:07:52<1:34:38,  1.07s/it]\u001B[A\n",
      "Processing examples in test:  47%|████▋     | 4712/10000 [1:07:55<1:44:06,  1.18s/it]\u001B[A\n",
      "Processing examples in test:  47%|████▋     | 4713/10000 [1:07:59<2:32:18,  1.73s/it]\u001B[A\n",
      "Processing examples in test:  47%|████▋     | 4714/10000 [1:08:00<2:26:46,  1.67s/it]\u001B[A\n",
      "Processing examples in test:  47%|████▋     | 4715/10000 [1:08:02<2:21:56,  1.61s/it]\u001B[A\n",
      "Processing examples in test:  47%|████▋     | 4718/10000 [1:08:03<1:29:12,  1.01s/it]\u001B[A\n",
      "Processing examples in test:  47%|████▋     | 4719/10000 [1:08:05<1:43:17,  1.17s/it]\u001B[A\n",
      "Processing examples in test:  47%|████▋     | 4725/10000 [1:08:07<56:23,  1.56it/s]  \u001B[A\n",
      "Processing examples in test:  47%|████▋     | 4728/10000 [1:08:09<57:14,  1.53it/s]\u001B[A\n",
      "Processing examples in test:  47%|████▋     | 4729/10000 [1:08:11<1:11:44,  1.22it/s]\u001B[A\n",
      "Processing examples in test:  47%|████▋     | 4730/10000 [1:08:12<1:15:51,  1.16it/s]\u001B[A\n",
      "Processing examples in test:  47%|████▋     | 4733/10000 [1:08:13<1:00:10,  1.46it/s]\u001B[A\n",
      "Processing examples in test:  47%|████▋     | 4735/10000 [1:08:15<1:06:52,  1.31it/s]\u001B[A"
     ]
    },
    {
     "name": "stdout",
     "output_type": "stream",
     "text": [
      "Failed to transform A dog running in long grass, a housing development behind it. or A dog is running back home.. Retrying 5 more times ...\n",
      "Failed to transform A dog running in long grass, a housing development behind it. or A dog is running back home.. Retrying 4 more times ...\n",
      "Failed to transform A dog running in long grass, a housing development behind it. or A dog is running back home.. Retrying 3 more times ...\n",
      "Failed to transform A dog running in long grass, a housing development behind it. or A dog is running back home.. Retrying 2 more times ...\n"
     ]
    },
    {
     "name": "stderr",
     "output_type": "stream",
     "text": [
      "\n",
      "Processing examples in test:  47%|████▋     | 4741/10000 [1:08:21<1:15:22,  1.16it/s]\u001B[A"
     ]
    },
    {
     "name": "stdout",
     "output_type": "stream",
     "text": [
      "Failed to transform A dog running in long grass, a housing development behind it. or A dog is running back home.. Retrying 1 more times ...\n"
     ]
    },
    {
     "name": "stderr",
     "output_type": "stream",
     "text": [
      "\n",
      "Processing examples in test:  47%|████▋     | 4742/10000 [1:08:22<1:21:23,  1.08it/s]\u001B[A\n",
      "Processing examples in test:  47%|████▋     | 4744/10000 [1:08:24<1:21:39,  1.07it/s]\u001B[A\n",
      "Processing examples in test:  47%|████▋     | 4745/10000 [1:08:26<1:33:05,  1.06s/it]\u001B[A\n",
      "Processing examples in test:  47%|████▋     | 4746/10000 [1:08:28<1:44:47,  1.20s/it]\u001B[A\n",
      "Processing examples in test:  47%|████▋     | 4748/10000 [1:08:29<1:30:00,  1.03s/it]\u001B[A\n",
      "Processing examples in test:  47%|████▋     | 4749/10000 [1:08:31<1:37:26,  1.11s/it]\u001B[A\n",
      "Processing examples in test:  48%|████▊     | 4753/10000 [1:08:32<1:01:18,  1.43it/s]\u001B[A\n",
      "Processing examples in test:  48%|████▊     | 4756/10000 [1:08:34<59:35,  1.47it/s]  \u001B[A\n",
      "Processing examples in test:  48%|████▊     | 4758/10000 [1:08:36<1:05:18,  1.34it/s]\u001B[A\n",
      "Processing examples in test:  48%|████▊     | 4762/10000 [1:08:38<55:25,  1.58it/s]  \u001B[A\n",
      "Processing examples in test:  48%|████▊     | 4764/10000 [1:08:39<52:37,  1.66it/s]\u001B[A\n",
      "Processing examples in test:  48%|████▊     | 4766/10000 [1:08:40<52:04,  1.67it/s]\u001B[A\n",
      "Processing examples in test:  48%|████▊     | 4767/10000 [1:08:41<1:06:18,  1.32it/s]\u001B[A"
     ]
    },
    {
     "name": "stdout",
     "output_type": "stream",
     "text": [
      "Failed to transform with A person carrying a bag with a girl behind her. Retrying 5 more times...\n",
      "Failed to transform with A person carrying a bag with a girl behind her. Retrying 4 more times...\n",
      "Failed to transform with A person carrying a bag with a girl behind her. Retrying 3 more times...\n",
      "Failed to transform with A person carrying a bag with a girl behind her. Retrying 2 more times...\n"
     ]
    },
    {
     "name": "stderr",
     "output_type": "stream",
     "text": [
      "\n",
      "Processing examples in test:  48%|████▊     | 4769/10000 [1:08:46<1:53:06,  1.30s/it]\u001B[A"
     ]
    },
    {
     "name": "stdout",
     "output_type": "stream",
     "text": [
      "Failed to transform with A person carrying a bag with a girl behind her. Retrying 1 more times...\n",
      "Failed to transform with A woman carrying a bag, with a girl behind her. Retrying 5 more times...\n",
      "Failed to transform with A woman carrying a bag, with a girl behind her. Retrying 4 more times...\n",
      "Failed to transform with A woman carrying a bag, with a girl behind her. Retrying 3 more times...\n",
      "Failed to transform with A woman carrying a bag, with a girl behind her. Retrying 2 more times...\n"
     ]
    },
    {
     "name": "stderr",
     "output_type": "stream",
     "text": [
      "\n",
      "Processing examples in test:  48%|████▊     | 4770/10000 [1:08:51<2:49:17,  1.94s/it]\u001B[A"
     ]
    },
    {
     "name": "stdout",
     "output_type": "stream",
     "text": [
      "Failed to transform with A woman carrying a bag, with a girl behind her. Retrying 1 more times...\n",
      "Failed to transform with A woman carrying a girl, with a bag behind her. Retrying 5 more times...\n",
      "Failed to transform with A woman carrying a girl, with a bag behind her. Retrying 4 more times...\n",
      "Failed to transform with A woman carrying a girl, with a bag behind her. Retrying 3 more times...\n",
      "Failed to transform with A woman carrying a girl, with a bag behind her. Retrying 2 more times...\n"
     ]
    },
    {
     "name": "stderr",
     "output_type": "stream",
     "text": [
      "\n",
      "Processing examples in test:  48%|████▊     | 4771/10000 [1:08:57<3:55:54,  2.71s/it]\u001B[A"
     ]
    },
    {
     "name": "stdout",
     "output_type": "stream",
     "text": [
      "Failed to transform with A woman carrying a girl, with a bag behind her. Retrying 1 more times...\n"
     ]
    },
    {
     "name": "stderr",
     "output_type": "stream",
     "text": [
      "\n",
      "Processing examples in test:  48%|████▊     | 4772/10000 [1:08:59<3:39:11,  2.52s/it]\u001B[A\n",
      "Processing examples in test:  48%|████▊     | 4774/10000 [1:09:00<2:27:34,  1.69s/it]\u001B[A\n",
      "Processing examples in test:  48%|████▊     | 4775/10000 [1:09:03<2:59:23,  2.06s/it]\u001B[A\n",
      "Processing examples in test:  48%|████▊     | 4776/10000 [1:09:05<2:48:31,  1.94s/it]\u001B[A\n",
      "Processing examples in test:  48%|████▊     | 4777/10000 [1:09:07<2:49:05,  1.94s/it]\u001B[A\n",
      "Processing examples in test:  48%|████▊     | 4780/10000 [1:09:08<1:41:03,  1.16s/it]\u001B[A\n",
      "Processing examples in test:  48%|████▊     | 4782/10000 [1:09:09<1:25:54,  1.01it/s]\u001B[A\n",
      "Processing examples in test:  48%|████▊     | 4786/10000 [1:09:10<56:37,  1.53it/s]  \u001B[A\n",
      "Processing examples in test:  48%|████▊     | 4788/10000 [1:09:12<1:00:45,  1.43it/s]\u001B[A\n",
      "Processing examples in test:  48%|████▊     | 4789/10000 [1:09:14<1:15:48,  1.15it/s]\u001B[A\n",
      "Processing examples in test:  48%|████▊     | 4791/10000 [1:09:15<1:02:55,  1.38it/s]\u001B[A\n",
      "Processing examples in test:  48%|████▊     | 4794/10000 [1:09:16<50:16,  1.73it/s]  \u001B[A\n",
      "Processing examples in test:  48%|████▊     | 4795/10000 [1:09:19<1:22:37,  1.05it/s]\u001B[A\n",
      "Processing examples in test:  48%|████▊     | 4796/10000 [1:09:21<1:39:51,  1.15s/it]\u001B[A\n",
      "Processing examples in test:  48%|████▊     | 4799/10000 [1:09:22<1:06:44,  1.30it/s]\u001B[A\n",
      "Processing examples in test:  48%|████▊     | 4800/10000 [1:09:23<1:12:05,  1.20it/s]\u001B[A\n",
      "Processing examples in test:  48%|████▊     | 4801/10000 [1:09:25<1:30:57,  1.05s/it]\u001B[A\n",
      "Processing examples in test:  48%|████▊     | 4804/10000 [1:09:25<59:28,  1.46it/s]  \u001B[A\n",
      "Processing examples in test:  48%|████▊     | 4806/10000 [1:09:27<56:23,  1.53it/s]\u001B[A\n",
      "Processing examples in test:  48%|████▊     | 4807/10000 [1:09:28<1:03:55,  1.35it/s]\u001B[A\n",
      "Processing examples in test:  48%|████▊     | 4808/10000 [1:09:30<1:24:26,  1.02it/s]\u001B[A\n",
      "Processing examples in test:  48%|████▊     | 4810/10000 [1:09:31<1:17:11,  1.12it/s]\u001B[A\n",
      "Processing examples in test:  48%|████▊     | 4815/10000 [1:09:35<1:11:58,  1.20it/s]\u001B[A\n",
      "Processing examples in test:  48%|████▊     | 4816/10000 [1:09:36<1:14:54,  1.15it/s]\u001B[A\n",
      "Processing examples in test:  48%|████▊     | 4817/10000 [1:09:37<1:18:17,  1.10it/s]\u001B[A\n",
      "Processing examples in test:  48%|████▊     | 4819/10000 [1:09:38<1:08:58,  1.25it/s]\u001B[A\n",
      "Processing examples in test:  48%|████▊     | 4823/10000 [1:09:40<53:26,  1.61it/s]  \u001B[A\n",
      "Processing examples in test:  48%|████▊     | 4829/10000 [1:09:41<34:50,  2.47it/s]\u001B[A\n",
      "Processing examples in test:  48%|████▊     | 4830/10000 [1:09:43<48:33,  1.77it/s]\u001B[A\n",
      "Processing examples in test:  48%|████▊     | 4831/10000 [1:09:45<1:03:42,  1.35it/s]\u001B[A\n",
      "Processing examples in test:  48%|████▊     | 4833/10000 [1:09:46<58:07,  1.48it/s]  \u001B[A\n",
      "Processing examples in test:  48%|████▊     | 4836/10000 [1:09:48<53:00,  1.62it/s]\u001B[A\n",
      "Processing examples in test:  48%|████▊     | 4838/10000 [1:09:50<1:02:26,  1.38it/s]\u001B[A\n",
      "Processing examples in test:  48%|████▊     | 4843/10000 [1:09:52<49:15,  1.74it/s]  \u001B[A\n",
      "Processing examples in test:  48%|████▊     | 4845/10000 [1:09:53<45:54,  1.87it/s]\u001B[A\n",
      "Processing examples in test:  48%|████▊     | 4846/10000 [1:09:54<53:11,  1.62it/s]\u001B[A\n",
      "Processing examples in test:  48%|████▊     | 4847/10000 [1:09:56<1:12:29,  1.18it/s]\u001B[A\n",
      "Processing examples in test:  48%|████▊     | 4848/10000 [1:09:58<1:29:16,  1.04s/it]\u001B[A\n",
      "Processing examples in test:  49%|████▊     | 4851/10000 [1:09:59<1:05:07,  1.32it/s]\u001B[A\n",
      "Processing examples in test:  49%|████▊     | 4855/10000 [1:10:00<47:02,  1.82it/s]  \u001B[A\n",
      "Processing examples in test:  49%|████▊     | 4856/10000 [1:10:02<1:03:59,  1.34it/s]\u001B[A\n",
      "Processing examples in test:  49%|████▊     | 4857/10000 [1:10:04<1:20:03,  1.07it/s]\u001B[A\n",
      "Processing examples in test:  49%|████▊     | 4859/10000 [1:10:05<1:15:20,  1.14it/s]\u001B[A\n",
      "Processing examples in test:  49%|████▊     | 4860/10000 [1:10:07<1:20:45,  1.06it/s]\u001B[A\n",
      "Processing examples in test:  49%|████▊     | 4861/10000 [1:10:09<1:37:55,  1.14s/it]\u001B[A\n",
      "Processing examples in test:  49%|████▊     | 4865/10000 [1:10:11<1:10:54,  1.21it/s]\u001B[A\n",
      "Processing examples in test:  49%|████▊     | 4869/10000 [1:10:12<53:08,  1.61it/s]  \u001B[A\n",
      "Processing examples in test:  49%|████▊     | 4874/10000 [1:10:13<35:32,  2.40it/s]\u001B[A\n",
      "Processing examples in test:  49%|████▉     | 4877/10000 [1:10:14<34:37,  2.47it/s]\u001B[A\n",
      "Processing examples in test:  49%|████▉     | 4879/10000 [1:10:15<38:25,  2.22it/s]\u001B[A\n",
      "Processing examples in test:  49%|████▉     | 4882/10000 [1:10:17<37:21,  2.28it/s]\u001B[A\n",
      "Processing examples in test:  49%|████▉     | 4884/10000 [1:10:19<48:27,  1.76it/s]\u001B[A\n",
      "Processing examples in test:  49%|████▉     | 4887/10000 [1:10:21<51:22,  1.66it/s]\u001B[A\n",
      "Processing examples in test:  49%|████▉     | 4896/10000 [1:10:22<29:11,  2.91it/s]\u001B[A\n",
      "Processing examples in test:  49%|████▉     | 4897/10000 [1:10:23<34:35,  2.46it/s]\u001B[A\n",
      "Processing examples in test:  49%|████▉     | 4898/10000 [1:10:25<49:12,  1.73it/s]\u001B[A\n",
      "Processing examples in test:  49%|████▉     | 4899/10000 [1:10:27<58:34,  1.45it/s]\u001B[A\n",
      "Processing examples in test:  49%|████▉     | 4900/10000 [1:10:27<58:38,  1.45it/s]\u001B[A\n",
      "Processing examples in test:  49%|████▉     | 4902/10000 [1:10:29<57:58,  1.47it/s]\u001B[A\n",
      "Processing examples in test:  49%|████▉     | 4903/10000 [1:10:29<57:59,  1.46it/s]\u001B[A\n",
      "Processing examples in test:  49%|████▉     | 4907/10000 [1:10:30<36:27,  2.33it/s]\u001B[A\n",
      "Processing examples in test:  49%|████▉     | 4909/10000 [1:10:31<41:45,  2.03it/s]\u001B[A\n",
      "Processing examples in test:  49%|████▉     | 4912/10000 [1:10:33<45:32,  1.86it/s]\u001B[A\n",
      "Processing examples in test:  49%|████▉     | 4913/10000 [1:10:35<1:02:28,  1.36it/s]\u001B[A\n",
      "Processing examples in test:  49%|████▉     | 4914/10000 [1:10:37<1:23:54,  1.01it/s]\u001B[A\n",
      "Processing examples in test:  49%|████▉     | 4915/10000 [1:10:39<1:30:35,  1.07s/it]\u001B[A\n",
      "Processing examples in test:  49%|████▉     | 4916/10000 [1:10:40<1:44:47,  1.24s/it]\u001B[A\n",
      "Processing examples in test:  49%|████▉     | 4919/10000 [1:10:43<1:22:38,  1.02it/s]\u001B[A\n",
      "Processing examples in test:  49%|████▉     | 4920/10000 [1:10:44<1:28:03,  1.04s/it]\u001B[A\n",
      "Processing examples in test:  49%|████▉     | 4922/10000 [1:10:45<1:16:49,  1.10it/s]\u001B[A\n",
      "Processing examples in test:  49%|████▉     | 4927/10000 [1:10:46<45:48,  1.85it/s]  \u001B[A\n",
      "Processing examples in test:  49%|████▉     | 4928/10000 [1:10:48<53:47,  1.57it/s]\u001B[A\n",
      "Processing examples in test:  49%|████▉     | 4930/10000 [1:10:51<1:12:06,  1.17it/s]\u001B[A\n",
      "Processing examples in test:  49%|████▉     | 4931/10000 [1:10:52<1:19:02,  1.07it/s]\u001B[A\n",
      "Processing examples in test:  49%|████▉     | 4932/10000 [1:10:54<1:33:14,  1.10s/it]\u001B[A\n",
      "Processing examples in test:  49%|████▉     | 4934/10000 [1:10:56<1:30:23,  1.07s/it]\u001B[A\n",
      "Processing examples in test:  49%|████▉     | 4935/10000 [1:10:57<1:42:47,  1.22s/it]\u001B[A\n",
      "Processing examples in test:  49%|████▉     | 4936/10000 [1:10:59<1:54:03,  1.35s/it]\u001B[A\n",
      "Processing examples in test:  49%|████▉     | 4937/10000 [1:11:01<1:53:36,  1.35s/it]\u001B[A\n",
      "Processing examples in test:  49%|████▉     | 4938/10000 [1:11:02<1:56:29,  1.38s/it]\u001B[A\n",
      "Processing examples in test:  49%|████▉     | 4939/10000 [1:11:03<1:47:22,  1.27s/it]\u001B[A\n",
      "Processing examples in test:  49%|████▉     | 4941/10000 [1:11:05<1:37:35,  1.16s/it]\u001B[A\n",
      "Processing examples in test:  49%|████▉     | 4949/10000 [1:11:06<38:10,  2.21it/s]  \u001B[A\n",
      "Processing examples in test:  50%|████▉     | 4952/10000 [1:11:07<33:17,  2.53it/s]\u001B[A\n",
      "Processing examples in test:  50%|████▉     | 4954/10000 [1:11:08<33:20,  2.52it/s]\u001B[A\n",
      "Processing examples in test:  50%|████▉     | 4955/10000 [1:11:09<39:55,  2.11it/s]\u001B[A\n",
      "Processing examples in test:  50%|████▉     | 4956/10000 [1:11:11<57:54,  1.45it/s]\u001B[A\n",
      "Processing examples in test:  50%|████▉     | 4964/10000 [1:11:12<26:24,  3.18it/s]\u001B[A\n",
      "Processing examples in test:  50%|████▉     | 4966/10000 [1:11:13<35:11,  2.38it/s]\u001B[A\n",
      "Processing examples in test:  50%|████▉     | 4971/10000 [1:11:15<29:51,  2.81it/s]\u001B[A\n",
      "Processing examples in test:  50%|████▉     | 4972/10000 [1:11:17<45:18,  1.85it/s]\u001B[A\n",
      "Processing examples in test:  50%|████▉     | 4973/10000 [1:11:18<47:11,  1.78it/s]\u001B[A\n",
      "Processing examples in test:  50%|████▉     | 4976/10000 [1:11:20<51:53,  1.61it/s]\u001B[A\n",
      "Processing examples in test:  50%|████▉     | 4977/10000 [1:11:22<1:15:21,  1.11it/s]\u001B[A\n",
      "Processing examples in test:  50%|████▉     | 4980/10000 [1:11:24<1:06:38,  1.26it/s]\u001B[A\n",
      "Processing examples in test:  50%|████▉     | 4981/10000 [1:11:26<1:22:20,  1.02it/s]\u001B[A\n",
      "Processing examples in test:  50%|████▉     | 4982/10000 [1:11:28<1:35:50,  1.15s/it]\u001B[A\n",
      "Processing examples in test:  50%|████▉     | 4984/10000 [1:11:30<1:22:58,  1.01it/s]\u001B[A"
     ]
    },
    {
     "name": "stdout",
     "output_type": "stream",
     "text": [
      "Failed to transform Two identical brown dogs side by side holding something white in both their mouths. or Two twin pups holding onto the same bone.. Retrying 5 more times ...\n",
      "Failed to transform Two identical brown dogs side by side holding something white in both their mouths. or Two twin pups holding onto the same bone.. Retrying 4 more times ...\n",
      "Failed to transform Two identical brown dogs side by side holding something white in both their mouths. or Two twin pups holding onto the same bone.. Retrying 3 more times ...\n",
      "Failed to transform Two identical brown dogs side by side holding something white in both their mouths. or Two twin pups holding onto the same bone.. Retrying 2 more times ...\n"
     ]
    },
    {
     "name": "stderr",
     "output_type": "stream",
     "text": [
      "\n",
      "Processing examples in test:  50%|████▉     | 4985/10000 [1:11:34<2:16:36,  1.63s/it]\u001B[A"
     ]
    },
    {
     "name": "stdout",
     "output_type": "stream",
     "text": [
      "Failed to transform Two identical brown dogs side by side holding something white in both their mouths. or Two twin pups holding onto the same bone.. Retrying 1 more times ...\n",
      "Failed to transform Two identical brown dogs side by side holding something white in both their mouths. or A litter of kittens.. Retrying 5 more times ...\n",
      "Failed to transform Two identical brown dogs side by side holding something white in both their mouths. or A litter of kittens.. Retrying 4 more times ...\n",
      "Failed to transform Two identical brown dogs side by side holding something white in both their mouths. or A litter of kittens.. Retrying 3 more times ...\n",
      "Failed to transform Two identical brown dogs side by side holding something white in both their mouths. or A litter of kittens.. Retrying 2 more times ...\n"
     ]
    },
    {
     "name": "stderr",
     "output_type": "stream",
     "text": [
      "\n",
      "Processing examples in test:  50%|████▉     | 4986/10000 [1:11:39<3:18:27,  2.37s/it]\u001B[A"
     ]
    },
    {
     "name": "stdout",
     "output_type": "stream",
     "text": [
      "Failed to transform Two identical brown dogs side by side holding something white in both their mouths. or A litter of kittens.. Retrying 1 more times ...\n"
     ]
    },
    {
     "name": "stderr",
     "output_type": "stream",
     "text": [
      "\n",
      "Processing examples in test:  50%|████▉     | 4987/10000 [1:11:40<2:44:51,  1.97s/it]\u001B[A\n",
      "Processing examples in test:  50%|████▉     | 4988/10000 [1:11:41<2:33:19,  1.84s/it]\u001B[A\n",
      "Processing examples in test:  50%|████▉     | 4989/10000 [1:11:42<2:16:50,  1.64s/it]\u001B[A\n",
      "Processing examples in test:  50%|████▉     | 4990/10000 [1:11:43<2:04:30,  1.49s/it]\u001B[A\n",
      "Processing examples in test:  50%|████▉     | 4993/10000 [1:11:45<1:23:31,  1.00s/it]\u001B[A"
     ]
    },
    {
     "name": "stdout",
     "output_type": "stream",
     "text": [
      "Failed to transform with Man jumping over the fence on his bicycle trying to escape from the dog.. Retrying 5 more times...\n",
      "Failed to transform with Man jumping over the fence on his bicycle trying to escape from the dog.. Retrying 4 more times...\n",
      "Failed to transform with Man jumping over the fence on his bicycle trying to escape from the dog.. Retrying 3 more times...\n",
      "Failed to transform with Man jumping over the fence on his bicycle trying to escape from the dog.. Retrying 2 more times...\n"
     ]
    },
    {
     "name": "stderr",
     "output_type": "stream",
     "text": [
      "\n",
      "Processing examples in test:  50%|████▉     | 4994/10000 [1:11:50<2:39:20,  1.91s/it]\u001B[A"
     ]
    },
    {
     "name": "stdout",
     "output_type": "stream",
     "text": [
      "Failed to transform with Man jumping over the fence on his bicycle trying to escape from the dog.. Retrying 1 more times...\n"
     ]
    },
    {
     "name": "stderr",
     "output_type": "stream",
     "text": [
      "\n",
      "Processing examples in test:  50%|████▉     | 4998/10000 [1:11:52<1:33:39,  1.12s/it]\u001B[A\n",
      "Processing examples in test:  50%|█████     | 5011/10000 [1:11:53<32:36,  2.55it/s]  \u001B[A\n",
      "Processing examples in test:  50%|█████     | 5013/10000 [1:11:55<38:53,  2.14it/s]\u001B[A\n",
      "Processing examples in test:  50%|█████     | 5014/10000 [1:11:57<49:18,  1.69it/s]\u001B[A\n",
      "Processing examples in test:  50%|█████     | 5015/10000 [1:11:59<1:03:19,  1.31it/s]\u001B[A\n",
      "Processing examples in test:  50%|█████     | 5016/10000 [1:12:00<1:07:26,  1.23it/s]\u001B[A\n",
      "Processing examples in test:  50%|█████     | 5018/10000 [1:12:02<1:09:06,  1.20it/s]\u001B[A\n",
      "Processing examples in test:  50%|█████     | 5021/10000 [1:12:03<54:29,  1.52it/s]  \u001B[A\n",
      "Processing examples in test:  50%|█████     | 5022/10000 [1:12:05<1:11:18,  1.16it/s]\u001B[A\n",
      "Processing examples in test:  50%|█████     | 5023/10000 [1:12:09<2:00:34,  1.45s/it]\u001B[A\n",
      "Processing examples in test:  50%|█████     | 5024/10000 [1:12:11<1:59:49,  1.44s/it]\u001B[A\n",
      "Processing examples in test:  50%|█████     | 5025/10000 [1:12:12<1:52:58,  1.36s/it]\u001B[A\n",
      "Processing examples in test:  50%|█████     | 5028/10000 [1:12:13<1:06:18,  1.25it/s]\u001B[A"
     ]
    },
    {
     "name": "stdout",
     "output_type": "stream",
     "text": [
      "Failed to transform An African person standing the wheat field. or A person standing in a wheat field of his boss.. Retrying 5 more times ...\n",
      "Failed to transform An African person standing wheat field. or A person standing in a wheat field of his boss.. Retrying 4 more times ...\n",
      "Failed to transform An African person standing wheat field. or A person standing in a wheat field of his boss.. Retrying 3 more times ...\n",
      "Failed to transform An African wheat-field standing person. or A person standing in a wheat field of his boss.. Retrying 2 more times ...\n"
     ]
    },
    {
     "name": "stderr",
     "output_type": "stream",
     "text": [
      "\n",
      "Processing examples in test:  50%|█████     | 5029/10000 [1:12:21<3:02:42,  2.21s/it]\u001B[A"
     ]
    },
    {
     "name": "stdout",
     "output_type": "stream",
     "text": [
      "Failed to transform An African wheat-field standing person. or A person standing in a wheat field of his boss.. Retrying 1 more times ...\n"
     ]
    },
    {
     "name": "stderr",
     "output_type": "stream",
     "text": [
      "\n",
      "Processing examples in test:  50%|█████     | 5031/10000 [1:12:22<2:22:28,  1.72s/it]\u001B[A\n",
      "Processing examples in test:  50%|█████     | 5037/10000 [1:12:24<1:13:10,  1.13it/s]\u001B[A\n",
      "Processing examples in test:  50%|█████     | 5039/10000 [1:12:26<1:06:41,  1.24it/s]\u001B[A\n",
      "Processing examples in test:  50%|█████     | 5049/10000 [1:12:27<31:50,  2.59it/s]  \u001B[A\n",
      "Processing examples in test:  51%|█████     | 5052/10000 [1:12:29<37:40,  2.19it/s]\u001B[A\n",
      "Processing examples in test:  51%|█████     | 5053/10000 [1:12:30<43:34,  1.89it/s]\u001B[A\n",
      "Processing examples in test:  51%|█████     | 5055/10000 [1:12:32<47:11,  1.75it/s]\u001B[A\n",
      "Processing examples in test:  51%|█████     | 5056/10000 [1:12:32<48:50,  1.69it/s]\u001B[A\n",
      "Processing examples in test:  51%|█████     | 5057/10000 [1:12:35<1:08:31,  1.20it/s]\u001B[A\n",
      "Processing examples in test:  51%|█████     | 5058/10000 [1:12:36<1:14:51,  1.10it/s]\u001B[A\n",
      "Processing examples in test:  51%|█████     | 5059/10000 [1:12:37<1:12:49,  1.13it/s]\u001B[A\n",
      "Processing examples in test:  51%|█████     | 5061/10000 [1:12:37<55:37,  1.48it/s]  \u001B[A\n",
      "Processing examples in test:  51%|█████     | 5062/10000 [1:12:39<1:13:31,  1.12it/s]\u001B[A\n",
      "Processing examples in test:  51%|█████     | 5063/10000 [1:12:40<1:18:09,  1.05it/s]\u001B[A\n",
      "Processing examples in test:  51%|█████     | 5065/10000 [1:12:42<1:10:49,  1.16it/s]\u001B[A\n",
      "Processing examples in test:  51%|█████     | 5066/10000 [1:12:43<1:26:53,  1.06s/it]\u001B[A\n",
      "Processing examples in test:  51%|█████     | 5067/10000 [1:12:45<1:40:21,  1.22s/it]\u001B[A\n",
      "Processing examples in test:  51%|█████     | 5069/10000 [1:12:47<1:38:29,  1.20s/it]\u001B[A\n",
      "Processing examples in test:  51%|█████     | 5070/10000 [1:12:49<1:49:39,  1.33s/it]\u001B[A\n",
      "Processing examples in test:  51%|█████     | 5074/10000 [1:12:51<1:07:36,  1.21it/s]\u001B[A\n",
      "Processing examples in test:  51%|█████     | 5075/10000 [1:12:53<1:27:28,  1.07s/it]\u001B[A\n",
      "Processing examples in test:  51%|█████     | 5077/10000 [1:12:55<1:26:49,  1.06s/it]\u001B[A\n",
      "Processing examples in test:  51%|█████     | 5079/10000 [1:12:57<1:18:37,  1.04it/s]\u001B[A\n",
      "Processing examples in test:  51%|█████     | 5080/10000 [1:12:59<1:38:10,  1.20s/it]\u001B[A\n",
      "Processing examples in test:  51%|█████     | 5083/10000 [1:13:00<1:08:19,  1.20it/s]\u001B[A\n",
      "Processing examples in test:  51%|█████     | 5086/10000 [1:13:02<1:01:16,  1.34it/s]\u001B[A\n",
      "Processing examples in test:  51%|█████     | 5087/10000 [1:13:04<1:15:07,  1.09it/s]\u001B[A\n",
      "Processing examples in test:  51%|█████     | 5088/10000 [1:13:04<1:12:08,  1.13it/s]\u001B[A\n",
      "Processing examples in test:  51%|█████     | 5089/10000 [1:13:06<1:20:23,  1.02it/s]\u001B[A\n",
      "Processing examples in test:  51%|█████     | 5093/10000 [1:13:13<1:56:22,  1.42s/it]\u001B[A\n",
      "Processing examples in test:  51%|█████     | 5096/10000 [1:13:15<1:31:59,  1.13s/it]\u001B[A\n",
      "Processing examples in test:  51%|█████     | 5099/10000 [1:13:16<1:11:44,  1.14it/s]\u001B[A\n",
      "Processing examples in test:  51%|█████     | 5105/10000 [1:13:17<43:41,  1.87it/s]  \u001B[A\n",
      "Processing examples in test:  51%|█████     | 5108/10000 [1:13:19<45:30,  1.79it/s]\u001B[A\n",
      "Processing examples in test:  51%|█████     | 5111/10000 [1:13:20<38:21,  2.12it/s]\u001B[A\n",
      "Processing examples in test:  51%|█████     | 5112/10000 [1:13:23<1:05:14,  1.25it/s]\u001B[A\n",
      "Processing examples in test:  51%|█████     | 5114/10000 [1:13:25<1:02:53,  1.29it/s]\u001B[A\n",
      "Processing examples in test:  51%|█████     | 5117/10000 [1:13:25<50:24,  1.61it/s]  \u001B[A\n",
      "Processing examples in test:  51%|█████     | 5120/10000 [1:13:26<42:36,  1.91it/s]\u001B[A\n",
      "Processing examples in test:  51%|█████     | 5121/10000 [1:13:28<50:06,  1.62it/s]\u001B[A"
     ]
    },
    {
     "name": "stdout",
     "output_type": "stream",
     "text": [
      "Failed to transform A female covering her face in laughter at the dinner table. or A woman has heard a joke.. Retrying 5 more times ...\n",
      "Failed to transform A female covering her face in laughter at the dinner table. or A woman has heard a joke.. Retrying 4 more times ...\n",
      "Failed to transform A female covering her face in laughter at the dinner table. or A woman has heard a joke.. Retrying 3 more times ...\n",
      "Failed to transform A female covering her face in laughter at the dinner table. or A woman has heard a joke.. Retrying 2 more times ...\n"
     ]
    },
    {
     "name": "stderr",
     "output_type": "stream",
     "text": [
      "\n",
      "Processing examples in test:  51%|█████     | 5124/10000 [1:13:32<1:18:52,  1.03it/s]\u001B[A"
     ]
    },
    {
     "name": "stdout",
     "output_type": "stream",
     "text": [
      "Failed to transform A female covering her face in laughter at the dinner table. or A woman has heard a joke.. Retrying 1 more times ...\n"
     ]
    },
    {
     "name": "stderr",
     "output_type": "stream",
     "text": [
      "\n",
      "Processing examples in test:  51%|█████▏    | 5130/10000 [1:13:34<51:37,  1.57it/s]  \u001B[A\n",
      "Processing examples in test:  51%|█████▏    | 5132/10000 [1:13:36<57:09,  1.42it/s]\u001B[A\n",
      "Processing examples in test:  51%|█████▏    | 5139/10000 [1:13:38<36:40,  2.21it/s]\u001B[A\n",
      "Processing examples in test:  51%|█████▏    | 5140/10000 [1:13:39<43:25,  1.87it/s]\u001B[A\n",
      "Processing examples in test:  51%|█████▏    | 5141/10000 [1:13:41<55:39,  1.45it/s]\u001B[A\n",
      "Processing examples in test:  51%|█████▏    | 5145/10000 [1:13:42<40:32,  2.00it/s]\u001B[A"
     ]
    },
    {
     "name": "stdout",
     "output_type": "stream",
     "text": [
      "Failed to transform Businessman walking as two arrows point to him. or A man is walking near an archery range.. Retrying 5 more times ...\n",
      "Failed to transform Businessman walking as two arrows point to him. or A man is walking near an archery range.. Retrying 4 more times ...\n",
      "Failed to transform Businessman walking as two arrows point to him. or A man is walking near an archery range.. Retrying 3 more times ...\n",
      "Failed to transform Businessman walking as two arrows point to him. or A man is walking near an archery range.. Retrying 2 more times ...\n"
     ]
    },
    {
     "name": "stderr",
     "output_type": "stream",
     "text": [
      "\n",
      "Processing examples in test:  51%|█████▏    | 5147/10000 [1:13:46<1:11:59,  1.12it/s]\u001B[A"
     ]
    },
    {
     "name": "stdout",
     "output_type": "stream",
     "text": [
      "Failed to transform Businessman walking as two arrows point to him. or A man is walking near an archery range.. Retrying 1 more times ...\n",
      "Failed to transform Businessman walking as two arrows point to him. or A guy is jogging in a sweatsuit.. Retrying 5 more times ...\n",
      "Failed to transform Businessman walking as two arrows point to him. or A guy is jogging in a sweatsuit.. Retrying 4 more times ...\n",
      "Failed to transform Businessman walking as two arrows point to him. or A guy is jogging in a sweatsuit.. Retrying 3 more times ...\n",
      "Failed to transform Businessman walking as two arrows point to him. or A guy is jogging in a sweatsuit.. Retrying 2 more times ...\n"
     ]
    },
    {
     "name": "stderr",
     "output_type": "stream",
     "text": [
      "\n",
      "Processing examples in test:  51%|█████▏    | 5149/10000 [1:13:56<2:33:04,  1.89s/it]\u001B[A"
     ]
    },
    {
     "name": "stdout",
     "output_type": "stream",
     "text": [
      "Failed to transform Businessman walking as two arrows point to him. or A guy is jogging in a sweatsuit.. Retrying 1 more times ...\n"
     ]
    },
    {
     "name": "stderr",
     "output_type": "stream",
     "text": [
      "\n",
      "Processing examples in test:  52%|█████▏    | 5152/10000 [1:13:59<2:00:30,  1.49s/it]\u001B[A\n",
      "Processing examples in test:  52%|█████▏    | 5153/10000 [1:14:00<2:05:00,  1.55s/it]\u001B[A\n",
      "Processing examples in test:  52%|█████▏    | 5156/10000 [1:14:02<1:35:46,  1.19s/it]\u001B[A\n",
      "Processing examples in test:  52%|█████▏    | 5157/10000 [1:14:03<1:34:20,  1.17s/it]\u001B[A\n",
      "Processing examples in test:  52%|█████▏    | 5159/10000 [1:14:04<1:18:21,  1.03it/s]\u001B[A\n",
      "Processing examples in test:  52%|█████▏    | 5162/10000 [1:14:06<1:05:31,  1.23it/s]\u001B[A\n",
      "Processing examples in test:  52%|█████▏    | 5163/10000 [1:14:07<1:03:28,  1.27it/s]\u001B[A\n",
      "Processing examples in test:  52%|█████▏    | 5165/10000 [1:14:08<1:03:19,  1.27it/s]\u001B[A\n",
      "Processing examples in test:  52%|█████▏    | 5166/10000 [1:14:11<1:25:45,  1.06s/it]\u001B[A\n",
      "Processing examples in test:  52%|█████▏    | 5167/10000 [1:14:12<1:38:05,  1.22s/it]\u001B[A\n",
      "Processing examples in test:  52%|█████▏    | 5168/10000 [1:14:14<1:40:22,  1.25s/it]\u001B[A\n",
      "Processing examples in test:  52%|█████▏    | 5169/10000 [1:14:15<1:41:02,  1.25s/it]\u001B[A\n",
      "Processing examples in test:  52%|█████▏    | 5170/10000 [1:14:16<1:45:45,  1.31s/it]\u001B[A\n",
      "Processing examples in test:  52%|█████▏    | 5171/10000 [1:14:18<1:56:02,  1.44s/it]\u001B[A"
     ]
    },
    {
     "name": "stdout",
     "output_type": "stream",
     "text": [
      "Failed to transform with People carrying their bikes at night.. Retrying 5 more times...\n",
      "Failed to transform with People carrying their bikes at night.. Retrying 4 more times...\n",
      "Failed to transform with People carrying their bikes at night.. Retrying 3 more times...\n",
      "Failed to transform with People carrying their bikes at night.. Retrying 2 more times...\n"
     ]
    },
    {
     "name": "stderr",
     "output_type": "stream",
     "text": [
      "\n",
      "Processing examples in test:  52%|█████▏    | 5172/10000 [1:14:23<3:15:53,  2.43s/it]\u001B[A"
     ]
    },
    {
     "name": "stdout",
     "output_type": "stream",
     "text": [
      "Failed to transform with People carrying their bikes at night.. Retrying 1 more times...\n"
     ]
    },
    {
     "name": "stderr",
     "output_type": "stream",
     "text": [
      "\n",
      "Processing examples in test:  52%|█████▏    | 5173/10000 [1:14:24<2:44:37,  2.05s/it]\u001B[A\n",
      "Processing examples in test:  52%|█████▏    | 5176/10000 [1:14:27<1:50:00,  1.37s/it]\u001B[A\n",
      "Processing examples in test:  52%|█████▏    | 5178/10000 [1:14:29<1:45:22,  1.31s/it]\u001B[A\n",
      "Processing examples in test:  52%|█████▏    | 5181/10000 [1:14:31<1:17:40,  1.03it/s]\u001B[A\n",
      "Processing examples in test:  52%|█████▏    | 5182/10000 [1:14:32<1:20:49,  1.01s/it]\u001B[A\n",
      "Processing examples in test:  52%|█████▏    | 5185/10000 [1:14:33<58:49,  1.36it/s]  \u001B[A\n",
      "Processing examples in test:  52%|█████▏    | 5187/10000 [1:14:34<56:21,  1.42it/s]\u001B[A\n",
      "Processing examples in test:  52%|█████▏    | 5188/10000 [1:14:36<1:09:25,  1.16it/s]\u001B[A\n",
      "Processing examples in test:  52%|█████▏    | 5189/10000 [1:14:37<1:13:00,  1.10it/s]\u001B[A\n",
      "Processing examples in test:  52%|█████▏    | 5193/10000 [1:14:38<46:33,  1.72it/s]  \u001B[A\n",
      "Processing examples in test:  52%|█████▏    | 5194/10000 [1:14:40<1:03:59,  1.25it/s]\u001B[A\n",
      "Processing examples in test:  52%|█████▏    | 5197/10000 [1:14:41<45:20,  1.77it/s]  \u001B[A\n",
      "Processing examples in test:  52%|█████▏    | 5202/10000 [1:14:42<32:16,  2.48it/s]\u001B[A\n",
      "Processing examples in test:  52%|█████▏    | 5203/10000 [1:14:44<47:06,  1.70it/s]\u001B[A\n",
      "Processing examples in test:  52%|█████▏    | 5204/10000 [1:14:45<55:44,  1.43it/s]\u001B[A\n",
      "Processing examples in test:  52%|█████▏    | 5206/10000 [1:14:47<56:50,  1.41it/s]\u001B[A\n",
      "Processing examples in test:  52%|█████▏    | 5213/10000 [1:14:47<28:24,  2.81it/s]\u001B[A\n",
      "Processing examples in test:  52%|█████▏    | 5217/10000 [1:14:49<29:22,  2.71it/s]\u001B[A\n",
      "Processing examples in test:  52%|█████▏    | 5222/10000 [1:14:50<26:36,  2.99it/s]\u001B[A\n",
      "Processing examples in test:  52%|█████▏    | 5224/10000 [1:14:53<37:48,  2.11it/s]\u001B[A\n",
      "Processing examples in test:  52%|█████▏    | 5226/10000 [1:14:54<41:12,  1.93it/s]\u001B[A\n",
      "Processing examples in test:  52%|█████▏    | 5227/10000 [1:14:56<53:43,  1.48it/s]\u001B[A\n",
      "Processing examples in test:  52%|█████▏    | 5228/10000 [1:14:57<59:12,  1.34it/s]\u001B[A\n",
      "Processing examples in test:  52%|█████▏    | 5232/10000 [1:14:58<42:55,  1.85it/s]\u001B[A\n",
      "Processing examples in test:  52%|█████▏    | 5233/10000 [1:15:00<54:51,  1.45it/s]\u001B[A\n",
      "Processing examples in test:  52%|█████▏    | 5234/10000 [1:15:02<1:12:29,  1.10it/s]\u001B[A\n",
      "Processing examples in test:  52%|█████▏    | 5236/10000 [1:15:03<1:02:47,  1.26it/s]\u001B[A"
     ]
    },
    {
     "name": "stdout",
     "output_type": "stream",
     "text": [
      "Failed to transform with An Asian mother holding her baby girl.. Retrying 5 more times...\n",
      "Failed to transform with An Asian mother holding her baby girl.. Retrying 4 more times...\n",
      "Failed to transform with An Asian mother holding her baby girl.. Retrying 3 more times...\n",
      "Failed to transform with An Asian mother holding her baby girl.. Retrying 2 more times...\n"
     ]
    },
    {
     "name": "stderr",
     "output_type": "stream",
     "text": [
      "\n",
      "Processing examples in test:  52%|█████▏    | 5237/10000 [1:15:09<2:21:44,  1.79s/it]\u001B[A"
     ]
    },
    {
     "name": "stdout",
     "output_type": "stream",
     "text": [
      "Failed to transform with An Asian mother holding her baby girl.. Retrying 1 more times...\n"
     ]
    },
    {
     "name": "stderr",
     "output_type": "stream",
     "text": [
      "\n",
      "Processing examples in test:  52%|█████▏    | 5238/10000 [1:15:10<2:14:09,  1.69s/it]\u001B[A\n",
      "Processing examples in test:  52%|█████▏    | 5246/10000 [1:15:12<48:48,  1.62it/s]  \u001B[A\n",
      "Processing examples in test:  52%|█████▏    | 5248/10000 [1:15:13<50:17,  1.57it/s]\u001B[A\n",
      "Processing examples in test:  52%|█████▏    | 5249/10000 [1:15:14<55:14,  1.43it/s]\u001B[A\n",
      "Processing examples in test:  53%|█████▎    | 5252/10000 [1:15:16<52:55,  1.50it/s]\u001B[A\n",
      "Processing examples in test:  53%|█████▎    | 5253/10000 [1:15:21<1:45:19,  1.33s/it]\u001B[A\n",
      "Processing examples in test:  53%|█████▎    | 5256/10000 [1:15:22<1:13:32,  1.08it/s]\u001B[A\n",
      "Processing examples in test:  53%|█████▎    | 5262/10000 [1:15:23<43:30,  1.82it/s]  \u001B[A\n",
      "Processing examples in test:  53%|█████▎    | 5267/10000 [1:15:25<37:47,  2.09it/s]\u001B[A\n",
      "Processing examples in test:  53%|█████▎    | 5271/10000 [1:15:27<38:29,  2.05it/s]\u001B[A\n",
      "Processing examples in test:  53%|█████▎    | 5274/10000 [1:15:28<37:24,  2.11it/s]\u001B[A\n",
      "Processing examples in test:  53%|█████▎    | 5277/10000 [1:15:31<44:12,  1.78it/s]\u001B[A\n",
      "Processing examples in test:  53%|█████▎    | 5278/10000 [1:15:32<50:06,  1.57it/s]\u001B[A\n",
      "Processing examples in test:  53%|█████▎    | 5279/10000 [1:15:34<58:39,  1.34it/s]\u001B[A\n",
      "Processing examples in test:  53%|█████▎    | 5283/10000 [1:15:36<49:33,  1.59it/s]\u001B[A\n",
      "Processing examples in test:  53%|█████▎    | 5285/10000 [1:15:36<44:08,  1.78it/s]\u001B[A\n",
      "Processing examples in test:  53%|█████▎    | 5289/10000 [1:15:38<36:45,  2.14it/s]\u001B[A\n",
      "Processing examples in test:  53%|█████▎    | 5291/10000 [1:15:39<44:08,  1.78it/s]\u001B[A\n",
      "Processing examples in test:  53%|█████▎    | 5292/10000 [1:15:40<45:38,  1.72it/s]\u001B[A\n",
      "Processing examples in test:  53%|█████▎    | 5293/10000 [1:15:41<56:28,  1.39it/s]\u001B[A\n",
      "Processing examples in test:  53%|█████▎    | 5295/10000 [1:15:43<1:02:16,  1.26it/s]\u001B[A\n",
      "Processing examples in test:  53%|█████▎    | 5296/10000 [1:15:44<1:06:44,  1.17it/s]\u001B[A\n",
      "Processing examples in test:  53%|█████▎    | 5303/10000 [1:15:46<32:20,  2.42it/s]  \u001B[A\n",
      "Processing examples in test:  53%|█████▎    | 5307/10000 [1:15:47<28:30,  2.74it/s]\u001B[A\n",
      "Processing examples in test:  53%|█████▎    | 5310/10000 [1:15:48<28:25,  2.75it/s]\u001B[A\n",
      "Processing examples in test:  53%|█████▎    | 5311/10000 [1:15:50<41:32,  1.88it/s]\u001B[A\n",
      "Processing examples in test:  53%|█████▎    | 5312/10000 [1:15:51<52:40,  1.48it/s]\u001B[A\n",
      "Processing examples in test:  53%|█████▎    | 5313/10000 [1:15:52<54:10,  1.44it/s]\u001B[A\n",
      "Processing examples in test:  53%|█████▎    | 5315/10000 [1:15:53<44:57,  1.74it/s]\u001B[A\n",
      "Processing examples in test:  53%|█████▎    | 5316/10000 [1:15:54<56:43,  1.38it/s]\u001B[A\n",
      "Processing examples in test:  53%|█████▎    | 5319/10000 [1:15:56<51:08,  1.53it/s]\u001B[A\n",
      "Processing examples in test:  53%|█████▎    | 5320/10000 [1:15:57<59:06,  1.32it/s]\u001B[A\n",
      "Processing examples in test:  53%|█████▎    | 5321/10000 [1:15:58<1:06:12,  1.18it/s]\u001B[A\n",
      "Processing examples in test:  53%|█████▎    | 5323/10000 [1:16:00<1:10:34,  1.10it/s]\u001B[A\n",
      "Processing examples in test:  53%|█████▎    | 5324/10000 [1:16:02<1:20:03,  1.03s/it]\u001B[A\n",
      "Processing examples in test:  53%|█████▎    | 5326/10000 [1:16:03<1:15:52,  1.03it/s]\u001B[A\n",
      "Processing examples in test:  53%|█████▎    | 5330/10000 [1:16:06<58:33,  1.33it/s]  \u001B[A\n",
      "Processing examples in test:  53%|█████▎    | 5332/10000 [1:16:08<1:03:12,  1.23it/s]\u001B[A\n",
      "Processing examples in test:  53%|█████▎    | 5334/10000 [1:16:09<1:02:15,  1.25it/s]\u001B[A\n",
      "Processing examples in test:  53%|█████▎    | 5337/10000 [1:16:11<55:44,  1.39it/s]  \u001B[A\n",
      "Processing examples in test:  53%|█████▎    | 5343/10000 [1:16:12<36:21,  2.13it/s]\u001B[A\n",
      "Processing examples in test:  53%|█████▎    | 5345/10000 [1:16:14<43:58,  1.76it/s]\u001B[A\n",
      "Processing examples in test:  53%|█████▎    | 5347/10000 [1:16:15<43:41,  1.77it/s]\u001B[A\n",
      "Processing examples in test:  53%|█████▎    | 5348/10000 [1:16:16<49:47,  1.56it/s]\u001B[A\n",
      "Processing examples in test:  53%|█████▎    | 5349/10000 [1:16:17<50:39,  1.53it/s]\u001B[A\n",
      "Processing examples in test:  54%|█████▎    | 5350/10000 [1:16:19<1:00:57,  1.27it/s]\u001B[A\n",
      "Processing examples in test:  54%|█████▎    | 5351/10000 [1:16:22<1:49:34,  1.41s/it]\u001B[A\n",
      "Processing examples in test:  54%|█████▎    | 5355/10000 [1:16:23<1:00:54,  1.27it/s]\u001B[A\n",
      "Processing examples in test:  54%|█████▎    | 5356/10000 [1:16:25<1:08:38,  1.13it/s]\u001B[A\n",
      "Processing examples in test:  54%|█████▎    | 5357/10000 [1:16:27<1:22:45,  1.07s/it]\u001B[A\n",
      "Processing examples in test:  54%|█████▎    | 5362/10000 [1:16:28<45:29,  1.70it/s]  \u001B[A\n",
      "Processing examples in test:  54%|█████▎    | 5364/10000 [1:16:29<48:56,  1.58it/s]\u001B[A\n",
      "Processing examples in test:  54%|█████▎    | 5368/10000 [1:16:31<40:39,  1.90it/s]\u001B[A\n",
      "Processing examples in test:  54%|█████▎    | 5370/10000 [1:16:33<48:11,  1.60it/s]\u001B[A\n",
      "Processing examples in test:  54%|█████▎    | 5373/10000 [1:16:35<48:33,  1.59it/s]\u001B[A\n",
      "Processing examples in test:  54%|█████▎    | 5374/10000 [1:16:35<49:16,  1.56it/s]\u001B[A\n",
      "Processing examples in test:  54%|█████▍    | 5376/10000 [1:16:37<49:23,  1.56it/s]\u001B[A\n",
      "Processing examples in test:  54%|█████▍    | 5378/10000 [1:16:38<47:14,  1.63it/s]\u001B[A\n",
      "Processing examples in test:  54%|█████▍    | 5379/10000 [1:16:38<49:04,  1.57it/s]\u001B[A\n",
      "Processing examples in test:  54%|█████▍    | 5381/10000 [1:16:40<47:32,  1.62it/s]\u001B[A\n",
      "Processing examples in test:  54%|█████▍    | 5384/10000 [1:16:41<41:37,  1.85it/s]\u001B[A\n",
      "Processing examples in test:  54%|█████▍    | 5385/10000 [1:16:42<52:37,  1.46it/s]\u001B[A\n",
      "Processing examples in test:  54%|█████▍    | 5386/10000 [1:16:44<1:10:24,  1.09it/s]\u001B[A\n",
      "Processing examples in test:  54%|█████▍    | 5387/10000 [1:16:46<1:27:45,  1.14s/it]\u001B[A\n",
      "Processing examples in test:  54%|█████▍    | 5390/10000 [1:16:48<1:11:24,  1.08it/s]\u001B[A\n",
      "Processing examples in test:  54%|█████▍    | 5392/10000 [1:16:50<1:03:27,  1.21it/s]\u001B[A\n",
      "Processing examples in test:  54%|█████▍    | 5394/10000 [1:16:51<1:04:12,  1.20it/s]\u001B[A\n",
      "Processing examples in test:  54%|█████▍    | 5395/10000 [1:16:53<1:17:53,  1.01s/it]\u001B[A\n",
      "Processing examples in test:  54%|█████▍    | 5397/10000 [1:16:55<1:17:20,  1.01s/it]\u001B[A\n",
      "Processing examples in test:  54%|█████▍    | 5401/10000 [1:16:57<53:26,  1.43it/s]  \u001B[A\n",
      "Processing examples in test:  54%|█████▍    | 5403/10000 [1:16:57<46:15,  1.66it/s]\u001B[A"
     ]
    },
    {
     "name": "stdout",
     "output_type": "stream",
     "text": [
      "Failed to transform with People on a nature walk with no equipment and trees to the right of them.. Retrying 5 more times...\n",
      "Failed to transform with People on a nature walk with no equipment and trees to the right of them.. Retrying 4 more times...\n",
      "Failed to transform with People on a nature walk with no equipment and trees to the right of them.. Retrying 3 more times...\n",
      "Failed to transform with People on a nature walk with no equipment and trees to the right of them.. Retrying 2 more times...\n"
     ]
    },
    {
     "name": "stderr",
     "output_type": "stream",
     "text": [
      "\n",
      "Processing examples in test:  54%|█████▍    | 5405/10000 [1:17:02<1:19:25,  1.04s/it]\u001B[A"
     ]
    },
    {
     "name": "stdout",
     "output_type": "stream",
     "text": [
      "Failed to transform with People on a nature walk with no equipment and trees to the right of them.. Retrying 1 more times...\n",
      "Failed to transform People on a nature walk with nets and backpacks with trees to the left of them. or People walking through nature.. Retrying 5 more times ...\n",
      "Failed to transform People on a nature walk with nets and backpacks with trees to the left of them. or People walking through nature.. Retrying 4 more times ...\n",
      "Failed to transform People on a nature walk with nets and backpacks with trees to the left of them. or People walking through nature.. Retrying 3 more times ...\n",
      "Failed to transform People on a nature walk with nets and backpacks with trees to the left of them. or People walking through nature.. Retrying 2 more times ...\n"
     ]
    },
    {
     "name": "stderr",
     "output_type": "stream",
     "text": [
      "\n",
      "Processing examples in test:  54%|█████▍    | 5406/10000 [1:17:07<2:07:04,  1.66s/it]\u001B[A"
     ]
    },
    {
     "name": "stdout",
     "output_type": "stream",
     "text": [
      "Failed to transform People on a nature walk with nets and backpacks with trees to the left of them. or People walking through nature.. Retrying 1 more times ...\n"
     ]
    },
    {
     "name": "stderr",
     "output_type": "stream",
     "text": [
      "\n",
      "Processing examples in test:  54%|█████▍    | 5409/10000 [1:17:08<1:31:14,  1.19s/it]\u001B[A\n",
      "Processing examples in test:  54%|█████▍    | 5412/10000 [1:17:10<1:17:39,  1.02s/it]\u001B[A\n",
      "Processing examples in test:  54%|█████▍    | 5413/10000 [1:17:12<1:28:49,  1.16s/it]\u001B[A\n",
      "Processing examples in test:  54%|█████▍    | 5416/10000 [1:17:14<1:12:04,  1.06it/s]\u001B[A\n",
      "Processing examples in test:  54%|█████▍    | 5419/10000 [1:17:15<55:50,  1.37it/s]  \u001B[A\n",
      "Processing examples in test:  54%|█████▍    | 5421/10000 [1:17:17<59:38,  1.28it/s]\u001B[A\n",
      "Processing examples in test:  54%|█████▍    | 5422/10000 [1:17:19<1:14:29,  1.02it/s]\u001B[A\n",
      "Processing examples in test:  54%|█████▍    | 5423/10000 [1:17:20<1:20:02,  1.05s/it]\u001B[A\n",
      "Processing examples in test:  54%|█████▍    | 5424/10000 [1:17:22<1:22:33,  1.08s/it]\u001B[A\n",
      "Processing examples in test:  54%|█████▍    | 5426/10000 [1:17:24<1:19:03,  1.04s/it]\u001B[A\n",
      "Processing examples in test:  54%|█████▍    | 5428/10000 [1:17:25<1:15:06,  1.01it/s]\u001B[A\n",
      "Processing examples in test:  54%|█████▍    | 5431/10000 [1:17:27<1:02:25,  1.22it/s]\u001B[A\n",
      "Processing examples in test:  54%|█████▍    | 5435/10000 [1:17:28<41:10,  1.85it/s]  \u001B[A\n",
      "Processing examples in test:  54%|█████▍    | 5437/10000 [1:17:29<41:27,  1.83it/s]\u001B[A\n",
      "Processing examples in test:  54%|█████▍    | 5439/10000 [1:17:30<41:34,  1.83it/s]\u001B[A\n",
      "Processing examples in test:  54%|█████▍    | 5441/10000 [1:17:32<46:30,  1.63it/s]\u001B[A\n",
      "Processing examples in test:  54%|█████▍    | 5443/10000 [1:17:33<45:38,  1.66it/s]\u001B[A\n",
      "Processing examples in test:  54%|█████▍    | 5444/10000 [1:17:35<1:03:54,  1.19it/s]\u001B[A\n",
      "Processing examples in test:  54%|█████▍    | 5447/10000 [1:17:37<59:53,  1.27it/s]  \u001B[A\n",
      "Processing examples in test:  54%|█████▍    | 5449/10000 [1:17:38<54:40,  1.39it/s]\u001B[A\n",
      "Processing examples in test:  55%|█████▍    | 5450/10000 [1:17:39<59:01,  1.28it/s]\u001B[A\n",
      "Processing examples in test:  55%|█████▍    | 5452/10000 [1:17:40<56:11,  1.35it/s]\u001B[A\n",
      "Processing examples in test:  55%|█████▍    | 5453/10000 [1:17:43<1:16:51,  1.01s/it]\u001B[A\n",
      "Processing examples in test:  55%|█████▍    | 5455/10000 [1:17:45<1:19:01,  1.04s/it]\u001B[A\n",
      "Processing examples in test:  55%|█████▍    | 5456/10000 [1:17:46<1:13:47,  1.03it/s]\u001B[A\n",
      "Processing examples in test:  55%|█████▍    | 5457/10000 [1:17:48<1:30:08,  1.19s/it]\u001B[A\n",
      "Processing examples in test:  55%|█████▍    | 5461/10000 [1:17:49<58:18,  1.30it/s]  \u001B[A\n",
      "Processing examples in test:  55%|█████▍    | 5463/10000 [1:17:50<54:33,  1.39it/s]\u001B[A\n",
      "Processing examples in test:  55%|█████▍    | 5464/10000 [1:17:53<1:15:08,  1.01it/s]\u001B[A\n",
      "Processing examples in test:  55%|█████▍    | 5465/10000 [1:17:54<1:20:07,  1.06s/it]\u001B[A\n",
      "Processing examples in test:  55%|█████▍    | 5466/10000 [1:17:55<1:13:51,  1.02it/s]\u001B[A\n",
      "Processing examples in test:  55%|█████▍    | 5467/10000 [1:17:56<1:15:48,  1.00s/it]\u001B[A\n",
      "Processing examples in test:  55%|█████▍    | 5468/10000 [1:17:57<1:20:38,  1.07s/it]\u001B[A\n",
      "Processing examples in test:  55%|█████▍    | 5471/10000 [1:17:58<49:03,  1.54it/s]  \u001B[A\n",
      "Processing examples in test:  55%|█████▍    | 5472/10000 [1:17:59<54:35,  1.38it/s]\u001B[A\n",
      "Processing examples in test:  55%|█████▍    | 5474/10000 [1:18:00<52:52,  1.43it/s]\u001B[A\n",
      "Processing examples in test:  55%|█████▍    | 5476/10000 [1:18:02<51:32,  1.46it/s]\u001B[A\n",
      "Processing examples in test:  55%|█████▍    | 5479/10000 [1:18:04<51:05,  1.47it/s]\u001B[A\n",
      "Processing examples in test:  55%|█████▍    | 5484/10000 [1:18:05<33:54,  2.22it/s]\u001B[A\n",
      "Processing examples in test:  55%|█████▍    | 5486/10000 [1:18:06<40:50,  1.84it/s]\u001B[A\n",
      "Processing examples in test:  55%|█████▍    | 5487/10000 [1:18:08<50:07,  1.50it/s]\u001B[A\n",
      "Processing examples in test:  55%|█████▍    | 5490/10000 [1:18:09<43:43,  1.72it/s]\u001B[A\n",
      "Processing examples in test:  55%|█████▍    | 5494/10000 [1:18:11<39:11,  1.92it/s]\u001B[A\n",
      "Processing examples in test:  55%|█████▍    | 5496/10000 [1:18:12<41:16,  1.82it/s]\u001B[A\n",
      "Processing examples in test:  55%|█████▍    | 5497/10000 [1:18:13<42:43,  1.76it/s]\u001B[A\n",
      "Processing examples in test:  55%|█████▍    | 5498/10000 [1:18:15<57:54,  1.30it/s]\u001B[A\n",
      "Processing examples in test:  55%|█████▌    | 5502/10000 [1:18:16<39:33,  1.90it/s]\u001B[A\n",
      "Processing examples in test:  55%|█████▌    | 5504/10000 [1:18:18<46:44,  1.60it/s]\u001B[A\n",
      "Processing examples in test:  55%|█████▌    | 5507/10000 [1:18:19<40:26,  1.85it/s]\u001B[A\n",
      "Processing examples in test:  55%|█████▌    | 5509/10000 [1:18:20<41:10,  1.82it/s]\u001B[A\n",
      "Processing examples in test:  55%|█████▌    | 5511/10000 [1:18:21<41:41,  1.79it/s]\u001B[A\n",
      "Processing examples in test:  55%|█████▌    | 5512/10000 [1:18:22<48:47,  1.53it/s]\u001B[A\n",
      "Processing examples in test:  55%|█████▌    | 5513/10000 [1:18:23<55:38,  1.34it/s]\u001B[A\n",
      "Processing examples in test:  55%|█████▌    | 5516/10000 [1:18:24<38:32,  1.94it/s]\u001B[A\n",
      "Processing examples in test:  55%|█████▌    | 5517/10000 [1:18:26<56:36,  1.32it/s]\u001B[A\n",
      "Processing examples in test:  55%|█████▌    | 5520/10000 [1:18:28<53:08,  1.41it/s]\u001B[A\n",
      "Processing examples in test:  55%|█████▌    | 5521/10000 [1:18:29<1:03:21,  1.18it/s]\u001B[A\n",
      "Processing examples in test:  55%|█████▌    | 5523/10000 [1:18:31<1:05:30,  1.14it/s]\u001B[A\n",
      "Processing examples in test:  55%|█████▌    | 5529/10000 [1:18:32<33:51,  2.20it/s]  \u001B[A\n",
      "Processing examples in test:  55%|█████▌    | 5531/10000 [1:18:34<40:00,  1.86it/s]\u001B[A\n",
      "Processing examples in test:  55%|█████▌    | 5534/10000 [1:18:36<41:07,  1.81it/s]\u001B[A\n",
      "Processing examples in test:  55%|█████▌    | 5535/10000 [1:18:38<54:15,  1.37it/s]\u001B[A\n",
      "Processing examples in test:  55%|█████▌    | 5537/10000 [1:18:39<58:41,  1.27it/s]\u001B[A\n",
      "Processing examples in test:  55%|█████▌    | 5538/10000 [1:18:41<1:08:00,  1.09it/s]\u001B[A\n",
      "Processing examples in test:  55%|█████▌    | 5540/10000 [1:18:43<1:06:23,  1.12it/s]\u001B[A\n",
      "Processing examples in test:  55%|█████▌    | 5541/10000 [1:18:44<1:11:33,  1.04it/s]\u001B[A\n",
      "Processing examples in test:  55%|█████▌    | 5542/10000 [1:18:45<1:18:43,  1.06s/it]\u001B[A\n",
      "Processing examples in test:  55%|█████▌    | 5543/10000 [1:18:46<1:13:53,  1.01it/s]\u001B[A\n",
      "Processing examples in test:  55%|█████▌    | 5545/10000 [1:18:47<1:00:13,  1.23it/s]\u001B[A\n",
      "Processing examples in test:  55%|█████▌    | 5547/10000 [1:18:48<48:06,  1.54it/s]  \u001B[A\n",
      "Processing examples in test:  55%|█████▌    | 5548/10000 [1:18:50<1:02:45,  1.18it/s]\u001B[A\n",
      "Processing examples in test:  55%|█████▌    | 5549/10000 [1:18:51<1:20:25,  1.08s/it]\u001B[A\n",
      "Processing examples in test:  56%|█████▌    | 5551/10000 [1:18:55<1:34:50,  1.28s/it]\u001B[A\n",
      "Processing examples in test:  56%|█████▌    | 5552/10000 [1:18:56<1:32:26,  1.25s/it]\u001B[A\n",
      "Processing examples in test:  56%|█████▌    | 5553/10000 [1:18:57<1:29:53,  1.21s/it]\u001B[A\n",
      "Processing examples in test:  56%|█████▌    | 5555/10000 [1:18:59<1:22:53,  1.12s/it]\u001B[A\n",
      "Processing examples in test:  56%|█████▌    | 5557/10000 [1:19:01<1:22:33,  1.11s/it]\u001B[A\n",
      "Processing examples in test:  56%|█████▌    | 5559/10000 [1:19:02<1:05:54,  1.12it/s]\u001B[A\n",
      "Processing examples in test:  56%|█████▌    | 5561/10000 [1:19:03<57:19,  1.29it/s]  \u001B[A\n",
      "Processing examples in test:  56%|█████▌    | 5562/10000 [1:19:05<1:13:05,  1.01it/s]\u001B[A\n",
      "Processing examples in test:  56%|█████▌    | 5568/10000 [1:19:07<42:10,  1.75it/s]  \u001B[A\n",
      "Processing examples in test:  56%|█████▌    | 5570/10000 [1:19:08<44:32,  1.66it/s]\u001B[A\n",
      "Processing examples in test:  56%|█████▌    | 5571/10000 [1:19:10<51:26,  1.43it/s]\u001B[A\n",
      "Processing examples in test:  56%|█████▌    | 5574/10000 [1:19:11<43:05,  1.71it/s]\u001B[A\n",
      "Processing examples in test:  56%|█████▌    | 5575/10000 [1:19:13<59:49,  1.23it/s]\u001B[A\n",
      "Processing examples in test:  56%|█████▌    | 5576/10000 [1:19:15<1:17:17,  1.05s/it]\u001B[A\n",
      "Processing examples in test:  56%|█████▌    | 5580/10000 [1:19:17<54:44,  1.35it/s]  \u001B[A"
     ]
    },
    {
     "name": "stdout",
     "output_type": "stream",
     "text": [
      "Failed to transform This woman  for sale   in   the   market setting out the vegetable collection  . or A woman in her vegetable market.. Retrying 5 more times ...\n",
      "Failed to transform This woman   sale       market setting out  vegetable collection  . or A woman in her vegetable market.. Retrying 4 more times ...\n",
      "Failed to transform It is   out    vegetable   collection    that this   woman     sale        marketsetting. or A woman in her vegetable market.. Retrying 3 more times ...\n",
      "Failed to transform Is   out    vegetable   collection    that these   woman     sales        marketsetting. or A woman in her vegetable market.. Retrying 2 more times ...\n"
     ]
    },
    {
     "name": "stderr",
     "output_type": "stream",
     "text": [
      "\n",
      "Processing examples in test:  56%|█████▌    | 5584/10000 [1:19:25<1:34:12,  1.28s/it]\u001B[A"
     ]
    },
    {
     "name": "stdout",
     "output_type": "stream",
     "text": [
      "Failed to transform Is   out    vegetable   collection    that this   woman     sale        marketsetting. or A woman in her vegetable market.. Retrying 1 more times ...\n"
     ]
    },
    {
     "name": "stderr",
     "output_type": "stream",
     "text": [
      "\n",
      "Processing examples in test:  56%|█████▌    | 5587/10000 [1:19:27<1:19:31,  1.08s/it]\u001B[A\n",
      "Processing examples in test:  56%|█████▌    | 5593/10000 [1:19:29<52:43,  1.39it/s]  \u001B[A\n",
      "Processing examples in test:  56%|█████▌    | 5598/10000 [1:19:30<39:53,  1.84it/s]\u001B[A\n",
      "Processing examples in test:  56%|█████▌    | 5604/10000 [1:19:31<28:46,  2.55it/s]\u001B[A\n",
      "Processing examples in test:  56%|█████▌    | 5605/10000 [1:19:33<37:51,  1.93it/s]\u001B[A\n",
      "Processing examples in test:  56%|█████▌    | 5606/10000 [1:19:35<49:55,  1.47it/s]\u001B[A\n",
      "Processing examples in test:  56%|█████▌    | 5611/10000 [1:19:36<37:21,  1.96it/s]\u001B[A\n",
      "Processing examples in test:  56%|█████▌    | 5615/10000 [1:19:37<31:49,  2.30it/s]\u001B[A\n",
      "Processing examples in test:  56%|█████▌    | 5616/10000 [1:19:39<42:09,  1.73it/s]\u001B[A\n",
      "Processing examples in test:  56%|█████▌    | 5621/10000 [1:19:41<37:09,  1.96it/s]\u001B[A\n",
      "Processing examples in test:  56%|█████▌    | 5623/10000 [1:19:42<39:41,  1.84it/s]\u001B[A\n",
      "Processing examples in test:  56%|█████▋    | 5625/10000 [1:19:44<40:13,  1.81it/s]\u001B[A\n",
      "Processing examples in test:  56%|█████▋    | 5626/10000 [1:19:46<56:53,  1.28it/s]\u001B[A\n",
      "Processing examples in test:  56%|█████▋    | 5627/10000 [1:19:47<1:04:26,  1.13it/s]\u001B[A\n",
      "Processing examples in test:  56%|█████▋    | 5628/10000 [1:19:49<1:10:19,  1.04it/s]\u001B[A\n",
      "Processing examples in test:  56%|█████▋    | 5629/10000 [1:19:50<1:25:03,  1.17s/it]\u001B[A\n",
      "Processing examples in test:  56%|█████▋    | 5630/10000 [1:19:52<1:39:53,  1.37s/it]\u001B[A\n",
      "Processing examples in test:  56%|█████▋    | 5632/10000 [1:19:54<1:18:56,  1.08s/it]\u001B[A\n",
      "Processing examples in test:  56%|█████▋    | 5633/10000 [1:19:55<1:13:48,  1.01s/it]\u001B[A\n",
      "Processing examples in test:  56%|█████▋    | 5637/10000 [1:19:57<52:53,  1.37it/s]  \u001B[A\n",
      "Processing examples in test:  56%|█████▋    | 5639/10000 [1:19:58<57:42,  1.26it/s]\u001B[A\n",
      "Processing examples in test:  56%|█████▋    | 5641/10000 [1:20:00<58:26,  1.24it/s]\u001B[A\n",
      "Processing examples in test:  56%|█████▋    | 5643/10000 [1:20:01<53:53,  1.35it/s]\u001B[A\n",
      "Processing examples in test:  56%|█████▋    | 5646/10000 [1:20:03<51:28,  1.41it/s]\u001B[A\n",
      "Processing examples in test:  56%|█████▋    | 5649/10000 [1:20:05<50:24,  1.44it/s]\u001B[A\n",
      "Processing examples in test:  57%|█████▋    | 5652/10000 [1:20:06<42:34,  1.70it/s]\u001B[A\n",
      "Processing examples in test:  57%|█████▋    | 5657/10000 [1:20:07<28:15,  2.56it/s]\u001B[A\n",
      "Processing examples in test:  57%|█████▋    | 5658/10000 [1:20:10<45:31,  1.59it/s]\u001B[A\n",
      "Processing examples in test:  57%|█████▋    | 5661/10000 [1:20:11<37:25,  1.93it/s]\u001B[A\n",
      "Processing examples in test:  57%|█████▋    | 5663/10000 [1:20:13<46:02,  1.57it/s]\u001B[A\n",
      "Processing examples in test:  57%|█████▋    | 5664/10000 [1:20:14<50:48,  1.42it/s]\u001B[A\n",
      "Processing examples in test:  57%|█████▋    | 5665/10000 [1:20:16<1:08:27,  1.06it/s]\u001B[A\n",
      "Processing examples in test:  57%|█████▋    | 5667/10000 [1:20:18<1:08:37,  1.05it/s]\u001B[A\n",
      "Processing examples in test:  57%|█████▋    | 5668/10000 [1:20:23<2:02:37,  1.70s/it]\u001B[A\n",
      "Processing examples in test:  57%|█████▋    | 5669/10000 [1:20:24<1:54:17,  1.58s/it]\u001B[A\n",
      "Processing examples in test:  57%|█████▋    | 5670/10000 [1:20:26<1:59:13,  1.65s/it]\u001B[A\n",
      "Processing examples in test:  57%|█████▋    | 5671/10000 [1:20:27<1:50:53,  1.54s/it]\u001B[A\n",
      "Processing examples in test:  57%|█████▋    | 5672/10000 [1:20:29<2:01:15,  1.68s/it]\u001B[A\n",
      "Processing examples in test:  57%|█████▋    | 5675/10000 [1:20:30<1:07:00,  1.08it/s]\u001B[A\n",
      "Processing examples in test:  57%|█████▋    | 5676/10000 [1:20:31<1:10:50,  1.02it/s]\u001B[A\n",
      "Processing examples in test:  57%|█████▋    | 5677/10000 [1:20:33<1:35:12,  1.32s/it]\u001B[A\n",
      "Processing examples in test:  57%|█████▋    | 5679/10000 [1:20:35<1:27:00,  1.21s/it]\u001B[A\n",
      "Processing examples in test:  57%|█████▋    | 5687/10000 [1:20:37<38:35,  1.86it/s]  \u001B[A\n",
      "Processing examples in test:  57%|█████▋    | 5690/10000 [1:20:38<32:51,  2.19it/s]\u001B[A\n",
      "Processing examples in test:  57%|█████▋    | 5691/10000 [1:20:40<47:06,  1.52it/s]\u001B[A\n",
      "Processing examples in test:  57%|█████▋    | 5693/10000 [1:20:42<53:04,  1.35it/s]\u001B[A\n",
      "Processing examples in test:  57%|█████▋    | 5695/10000 [1:20:45<1:01:43,  1.16it/s]\u001B[A\n",
      "Processing examples in test:  57%|█████▋    | 5699/10000 [1:20:46<46:15,  1.55it/s]  \u001B[A\n",
      "Processing examples in test:  57%|█████▋    | 5700/10000 [1:20:48<1:00:26,  1.19it/s]\u001B[A\n",
      "Processing examples in test:  57%|█████▋    | 5704/10000 [1:20:49<41:34,  1.72it/s]  \u001B[A\n",
      "Processing examples in test:  57%|█████▋    | 5709/10000 [1:20:51<31:58,  2.24it/s]\u001B[A\n",
      "Processing examples in test:  57%|█████▋    | 5711/10000 [1:20:52<33:34,  2.13it/s]\u001B[A\n",
      "Processing examples in test:  57%|█████▋    | 5712/10000 [1:20:53<42:46,  1.67it/s]\u001B[A\n",
      "Processing examples in test:  57%|█████▋    | 5718/10000 [1:20:54<25:04,  2.85it/s]\u001B[A\n",
      "Processing examples in test:  57%|█████▋    | 5719/10000 [1:20:56<36:38,  1.95it/s]\u001B[A\n",
      "Processing examples in test:  57%|█████▋    | 5721/10000 [1:20:57<42:59,  1.66it/s]\u001B[A\n",
      "Processing examples in test:  57%|█████▋    | 5722/10000 [1:20:59<47:50,  1.49it/s]\u001B[A\n",
      "Processing examples in test:  57%|█████▋    | 5723/10000 [1:21:00<53:25,  1.33it/s]\u001B[A\n",
      "Processing examples in test:  57%|█████▋    | 5726/10000 [1:21:01<46:46,  1.52it/s]\u001B[A\n",
      "Processing examples in test:  57%|█████▋    | 5727/10000 [1:21:03<1:01:32,  1.16it/s]\u001B[A\n",
      "Processing examples in test:  57%|█████▋    | 5728/10000 [1:21:04<59:44,  1.19it/s]  \u001B[A\n",
      "Processing examples in test:  57%|█████▋    | 5729/10000 [1:21:06<1:15:39,  1.06s/it]\u001B[A\n",
      "Processing examples in test:  57%|█████▋    | 5730/10000 [1:21:07<1:14:37,  1.05s/it]\u001B[A\n",
      "Processing examples in test:  57%|█████▋    | 5731/10000 [1:21:08<1:26:46,  1.22s/it]\u001B[A\n",
      "Processing examples in test:  57%|█████▋    | 5732/10000 [1:21:09<1:17:42,  1.09s/it]\u001B[A"
     ]
    },
    {
     "name": "stdout",
     "output_type": "stream",
     "text": [
      "Failed to transform with Bride running away from her wedding.. Retrying 5 more times...\n",
      "Failed to transform with Bride running away from her wedding.. Retrying 4 more times...\n",
      "Failed to transform with Bride running away from her wedding.. Retrying 3 more times...\n",
      "Failed to transform with Bride running away from her wedding.. Retrying 2 more times...\n"
     ]
    },
    {
     "name": "stderr",
     "output_type": "stream",
     "text": [
      "\n",
      "Processing examples in test:  57%|█████▋    | 5733/10000 [1:21:14<2:30:13,  2.11s/it]\u001B[A"
     ]
    },
    {
     "name": "stdout",
     "output_type": "stream",
     "text": [
      "Failed to transform with Bride running away from her wedding.. Retrying 1 more times...\n"
     ]
    },
    {
     "name": "stderr",
     "output_type": "stream",
     "text": [
      "\n",
      "Processing examples in test:  57%|█████▋    | 5736/10000 [1:21:16<1:32:48,  1.31s/it]\u001B[A\n",
      "Processing examples in test:  57%|█████▋    | 5747/10000 [1:21:17<30:52,  2.30it/s]  \u001B[A\n",
      "Processing examples in test:  57%|█████▋    | 5748/10000 [1:21:19<35:37,  1.99it/s]\u001B[A\n",
      "Processing examples in test:  57%|█████▊    | 5750/10000 [1:21:20<36:51,  1.92it/s]\u001B[A\n",
      "Processing examples in test:  58%|█████▊    | 5753/10000 [1:21:20<30:56,  2.29it/s]\u001B[A\n",
      "Processing examples in test:  58%|█████▊    | 5759/10000 [1:21:22<27:53,  2.53it/s]\u001B[A\n",
      "Processing examples in test:  58%|█████▊    | 5760/10000 [1:21:24<33:11,  2.13it/s]\u001B[A\n",
      "Processing examples in test:  58%|█████▊    | 5762/10000 [1:21:26<43:28,  1.62it/s]\u001B[A\n",
      "Processing examples in test:  58%|█████▊    | 5765/10000 [1:21:28<43:25,  1.63it/s]\u001B[A\n",
      "Processing examples in test:  58%|█████▊    | 5767/10000 [1:21:30<48:15,  1.46it/s]\u001B[A\n",
      "Processing examples in test:  58%|█████▊    | 5768/10000 [1:21:31<55:09,  1.28it/s]\u001B[A\n",
      "Processing examples in test:  58%|█████▊    | 5771/10000 [1:21:32<40:48,  1.73it/s]\u001B[A\n",
      "Processing examples in test:  58%|█████▊    | 5773/10000 [1:21:34<47:51,  1.47it/s]\u001B[A\n",
      "Processing examples in test:  58%|█████▊    | 5775/10000 [1:21:35<51:47,  1.36it/s]\u001B[A\n",
      "Processing examples in test:  58%|█████▊    | 5776/10000 [1:21:37<58:14,  1.21it/s]\u001B[A\n",
      "Processing examples in test:  58%|█████▊    | 5777/10000 [1:21:39<1:12:40,  1.03s/it]\u001B[A\n",
      "Processing examples in test:  58%|█████▊    | 5779/10000 [1:21:40<1:10:42,  1.01s/it]\u001B[A\n",
      "Processing examples in test:  58%|█████▊    | 5780/10000 [1:21:42<1:20:48,  1.15s/it]\u001B[A\n",
      "Processing examples in test:  58%|█████▊    | 5781/10000 [1:21:43<1:12:50,  1.04s/it]\u001B[A\n",
      "Processing examples in test:  58%|█████▊    | 5783/10000 [1:21:45<1:12:21,  1.03s/it]\u001B[A\n",
      "Processing examples in test:  58%|█████▊    | 5784/10000 [1:21:47<1:26:31,  1.23s/it]\u001B[A\n",
      "Processing examples in test:  58%|█████▊    | 5785/10000 [1:21:47<1:16:51,  1.09s/it]\u001B[A\n",
      "Processing examples in test:  58%|█████▊    | 5786/10000 [1:21:49<1:31:30,  1.30s/it]\u001B[A\n",
      "Processing examples in test:  58%|█████▊    | 5789/10000 [1:21:51<57:19,  1.22it/s]  \u001B[A\n",
      "Processing examples in test:  58%|█████▊    | 5790/10000 [1:21:52<1:12:13,  1.03s/it]\u001B[A\n",
      "Processing examples in test:  58%|█████▊    | 5791/10000 [1:21:54<1:13:37,  1.05s/it]\u001B[A\n",
      "Processing examples in test:  58%|█████▊    | 5794/10000 [1:21:55<52:49,  1.33it/s]  \u001B[A\n",
      "Processing examples in test:  58%|█████▊    | 5798/10000 [1:21:57<44:33,  1.57it/s]\u001B[A\n",
      "Processing examples in test:  58%|█████▊    | 5799/10000 [1:21:59<56:54,  1.23it/s]\u001B[A\n",
      "Processing examples in test:  58%|█████▊    | 5802/10000 [1:22:00<46:06,  1.52it/s]\u001B[A\n",
      "Processing examples in test:  58%|█████▊    | 5804/10000 [1:22:01<47:05,  1.49it/s]\u001B[A\n",
      "Processing examples in test:  58%|█████▊    | 5806/10000 [1:22:03<51:18,  1.36it/s]\u001B[A\n",
      "Processing examples in test:  58%|█████▊    | 5807/10000 [1:22:05<58:33,  1.19it/s]\u001B[A\n",
      "Processing examples in test:  58%|█████▊    | 5808/10000 [1:22:06<1:03:05,  1.11it/s]\u001B[A\n",
      "Processing examples in test:  58%|█████▊    | 5810/10000 [1:22:07<1:02:48,  1.11it/s]\u001B[A\n",
      "Processing examples in test:  58%|█████▊    | 5814/10000 [1:22:09<42:24,  1.64it/s]  \u001B[A\n",
      "Processing examples in test:  58%|█████▊    | 5815/10000 [1:22:10<44:32,  1.57it/s]\u001B[A\n",
      "Processing examples in test:  58%|█████▊    | 5819/10000 [1:22:11<35:49,  1.94it/s]\u001B[A\n",
      "Processing examples in test:  58%|█████▊    | 5821/10000 [1:22:12<38:21,  1.82it/s]\u001B[A\n",
      "Processing examples in test:  58%|█████▊    | 5822/10000 [1:22:14<51:09,  1.36it/s]\u001B[A\n",
      "Processing examples in test:  58%|█████▊    | 5823/10000 [1:22:15<51:00,  1.36it/s]\u001B[A\n",
      "Processing examples in test:  58%|█████▊    | 5825/10000 [1:22:17<57:00,  1.22it/s]\u001B[A\n",
      "Processing examples in test:  58%|█████▊    | 5827/10000 [1:22:18<54:36,  1.27it/s]\u001B[A\n",
      "Processing examples in test:  58%|█████▊    | 5828/10000 [1:22:19<55:28,  1.25it/s]\u001B[A\n",
      "Processing examples in test:  58%|█████▊    | 5829/10000 [1:22:21<1:11:08,  1.02s/it]\u001B[A\n",
      "Processing examples in test:  58%|█████▊    | 5831/10000 [1:22:23<1:03:56,  1.09it/s]\u001B[A\n",
      "Processing examples in test:  58%|█████▊    | 5836/10000 [1:22:24<42:21,  1.64it/s]  \u001B[A\n",
      "Processing examples in test:  58%|█████▊    | 5838/10000 [1:22:27<52:15,  1.33it/s]\u001B[A\n",
      "Processing examples in test:  58%|█████▊    | 5842/10000 [1:22:28<41:29,  1.67it/s]\u001B[A\n",
      "Processing examples in test:  58%|█████▊    | 5846/10000 [1:22:30<37:10,  1.86it/s]\u001B[A\n",
      "Processing examples in test:  59%|█████▊    | 5852/10000 [1:22:32<32:14,  2.14it/s]\u001B[A\n",
      "Processing examples in test:  59%|█████▊    | 5853/10000 [1:22:34<39:22,  1.76it/s]\u001B[A\n",
      "Processing examples in test:  59%|█████▊    | 5856/10000 [1:22:36<39:18,  1.76it/s]\u001B[A\n",
      "Processing examples in test:  59%|█████▊    | 5857/10000 [1:22:37<45:47,  1.51it/s]\u001B[A\n",
      "Processing examples in test:  59%|█████▊    | 5858/10000 [1:22:38<49:53,  1.38it/s]\u001B[A\n",
      "Processing examples in test:  59%|█████▊    | 5859/10000 [1:22:40<1:02:58,  1.10it/s]\u001B[A\n",
      "Processing examples in test:  59%|█████▊    | 5861/10000 [1:22:41<50:39,  1.36it/s]  \u001B[A"
     ]
    },
    {
     "name": "stdout",
     "output_type": "stream",
     "text": [
      "Failed to transform A young girl with her bike. or A girl is wiating for someone to take her bicycle.. Retrying 5 more times ...\n",
      "Failed to transform A young girl with her bike. or A girl is wiating for someone to take her bicycle.. Retrying 4 more times ...\n",
      "Failed to transform A young girl with her bike. or A girl is wiating for someone to take her bicycle.. Retrying 3 more times ...\n",
      "Failed to transform A young girl with her bike. or A girl is wiating for someone to take her bicycle.. Retrying 2 more times ...\n"
     ]
    },
    {
     "name": "stderr",
     "output_type": "stream",
     "text": [
      "\n",
      "Processing examples in test:  59%|█████▊    | 5863/10000 [1:22:46<1:33:13,  1.35s/it]\u001B[A"
     ]
    },
    {
     "name": "stdout",
     "output_type": "stream",
     "text": [
      "Failed to transform A young girl with her bike. or A girl is wiating for someone to take her bicycle.. Retrying 1 more times ...\n"
     ]
    },
    {
     "name": "stderr",
     "output_type": "stream",
     "text": [
      "\n",
      "Processing examples in test:  59%|█████▊    | 5867/10000 [1:22:49<1:14:10,  1.08s/it]\u001B[A\n",
      "Processing examples in test:  59%|█████▊    | 5872/10000 [1:22:50<49:31,  1.39it/s]  \u001B[A\n",
      "Processing examples in test:  59%|█████▉    | 5875/10000 [1:22:52<43:07,  1.59it/s]\u001B[A\n",
      "Processing examples in test:  59%|█████▉    | 5876/10000 [1:22:53<51:51,  1.33it/s]\u001B[A\n",
      "Processing examples in test:  59%|█████▉    | 5877/10000 [1:22:55<1:02:12,  1.10it/s]\u001B[A\n",
      "Processing examples in test:  59%|█████▉    | 5879/10000 [1:22:56<55:43,  1.23it/s]  \u001B[A\n",
      "Processing examples in test:  59%|█████▉    | 5880/10000 [1:22:57<54:02,  1.27it/s]\u001B[A\n",
      "Processing examples in test:  59%|█████▉    | 5881/10000 [1:22:59<1:10:56,  1.03s/it]\u001B[A\n",
      "Processing examples in test:  59%|█████▉    | 5883/10000 [1:23:00<58:43,  1.17it/s]  \u001B[A\n",
      "Processing examples in test:  59%|█████▉    | 5885/10000 [1:23:01<52:00,  1.32it/s]\u001B[A\n",
      "Processing examples in test:  59%|█████▉    | 5886/10000 [1:23:03<1:06:28,  1.03it/s]\u001B[A\n",
      "Processing examples in test:  59%|█████▉    | 5887/10000 [1:23:04<1:09:18,  1.01s/it]\u001B[A\n",
      "Processing examples in test:  59%|█████▉    | 5890/10000 [1:23:06<51:12,  1.34it/s]  \u001B[A\n",
      "Processing examples in test:  59%|█████▉    | 5891/10000 [1:23:08<1:07:43,  1.01it/s]\u001B[A\n",
      "Processing examples in test:  59%|█████▉    | 5896/10000 [1:23:09<43:18,  1.58it/s]  \u001B[A\n",
      "Processing examples in test:  59%|█████▉    | 5900/10000 [1:23:11<35:59,  1.90it/s]\u001B[A\n",
      "Processing examples in test:  59%|█████▉    | 5902/10000 [1:23:12<33:57,  2.01it/s]\u001B[A\n",
      "Processing examples in test:  59%|█████▉    | 5908/10000 [1:23:14<27:25,  2.49it/s]\u001B[A\n",
      "Processing examples in test:  59%|█████▉    | 5910/10000 [1:23:15<29:15,  2.33it/s]\u001B[A"
     ]
    },
    {
     "name": "stdout",
     "output_type": "stream",
     "text": [
      "Failed to transform It is   heavy   metal   signs that a   small   child   giving or A child pretending his hand is a bull. Retrying 5 more times ...\n",
      "Failed to transform Is   heavy   metal   signs that the   small   child   a-giving or A child pretending his hand is a bull. Retrying 4 more times ...\n",
      "Failed to transform Is   heavy   metal   signs that the   small   child   the-giving or A child pretending his hand is a bull. Retrying 3 more times ...\n",
      "Failed to transform Heavy   metals   signs that the   small   child   the-giving or A child pretending his hand is a bull. Retrying 2 more times ...\n"
     ]
    },
    {
     "name": "stderr",
     "output_type": "stream",
     "text": [
      "\n",
      "Processing examples in test:  59%|█████▉    | 5911/10000 [1:23:24<1:40:18,  1.47s/it]\u001B[A"
     ]
    },
    {
     "name": "stdout",
     "output_type": "stream",
     "text": [
      "Failed to transform Heavy   metals   signs that the   small   child   -giving or A child pretending his hand is a bull. Retrying 1 more times ...\n"
     ]
    },
    {
     "name": "stderr",
     "output_type": "stream",
     "text": [
      "\n",
      "Processing examples in test:  59%|█████▉    | 5913/10000 [1:23:26<1:34:23,  1.39s/it]\u001B[A\n",
      "Processing examples in test:  59%|█████▉    | 5914/10000 [1:23:28<1:42:59,  1.51s/it]\u001B[A\n",
      "Processing examples in test:  59%|█████▉    | 5916/10000 [1:23:29<1:19:49,  1.17s/it]\u001B[A\n",
      "Processing examples in test:  59%|█████▉    | 5922/10000 [1:23:30<41:32,  1.64it/s]  \u001B[A\n",
      "Processing examples in test:  59%|█████▉    | 5925/10000 [1:23:32<38:43,  1.75it/s]\u001B[A\n",
      "Processing examples in test:  59%|█████▉    | 5927/10000 [1:23:33<43:41,  1.55it/s]\u001B[A\n",
      "Processing examples in test:  59%|█████▉    | 5928/10000 [1:23:35<54:25,  1.25it/s]\u001B[A\n",
      "Processing examples in test:  59%|█████▉    | 5930/10000 [1:23:38<1:01:02,  1.11it/s]\u001B[A"
     ]
    },
    {
     "name": "stdout",
     "output_type": "stream",
     "text": [
      "Failed to transform A child with a yellow shirt riding a yellow bike in a city. or A kid riding his bike home.. Retrying 5 more times ...\n",
      "Failed to transform A child  a yellow shirt riding a yellow bike  a city. or A kid riding his bike home.. Retrying 4 more times ...\n",
      "Failed to transform The a child  the yellow a shirt riding the yellow a bike  the a city. or A kid riding his bike home.. Retrying 3 more times ...\n",
      "Failed to transform Child   yellow  shirt riding the yellow a bike    city. or A kid riding his bike home.. Retrying 2 more times ...\n"
     ]
    },
    {
     "name": "stderr",
     "output_type": "stream",
     "text": [
      "\n",
      "Processing examples in test:  59%|█████▉    | 5934/10000 [1:23:47<1:46:08,  1.57s/it]\u001B[A"
     ]
    },
    {
     "name": "stdout",
     "output_type": "stream",
     "text": [
      "Failed to transform Child   yellow  shirt a-riding the yellow a bike    city. or A kid riding his bike home.. Retrying 1 more times ...\n"
     ]
    },
    {
     "name": "stderr",
     "output_type": "stream",
     "text": [
      "\n",
      "Processing examples in test:  59%|█████▉    | 5937/10000 [1:23:50<1:28:39,  1.31s/it]\u001B[A\n",
      "Processing examples in test:  59%|█████▉    | 5938/10000 [1:23:51<1:30:09,  1.33s/it]\u001B[A\n",
      "Processing examples in test:  59%|█████▉    | 5939/10000 [1:23:53<1:33:17,  1.38s/it]\u001B[A\n",
      "Processing examples in test:  59%|█████▉    | 5940/10000 [1:23:55<1:41:58,  1.51s/it]\u001B[A\n",
      "Processing examples in test:  59%|█████▉    | 5942/10000 [1:23:55<1:15:48,  1.12s/it]\u001B[A\n",
      "Processing examples in test:  59%|█████▉    | 5943/10000 [1:23:57<1:16:36,  1.13s/it]\u001B[A\n",
      "Processing examples in test:  59%|█████▉    | 5944/10000 [1:23:57<1:11:25,  1.06s/it]\u001B[A\n",
      "Processing examples in test:  59%|█████▉    | 5946/10000 [1:23:59<1:09:55,  1.03s/it]\u001B[A\n",
      "Processing examples in test:  59%|█████▉    | 5947/10000 [1:24:00<1:04:40,  1.04it/s]\u001B[A\n",
      "Processing examples in test:  60%|█████▉    | 5950/10000 [1:24:01<42:41,  1.58it/s]  \u001B[A\n",
      "Processing examples in test:  60%|█████▉    | 5952/10000 [1:24:02<41:37,  1.62it/s]\u001B[A\n",
      "Processing examples in test:  60%|█████▉    | 5954/10000 [1:24:04<47:33,  1.42it/s]\u001B[A\n",
      "Processing examples in test:  60%|█████▉    | 5957/10000 [1:24:06<50:40,  1.33it/s]\u001B[A\n",
      "Processing examples in test:  60%|█████▉    | 5958/10000 [1:24:07<52:21,  1.29it/s]\u001B[A\n",
      "Processing examples in test:  60%|█████▉    | 5960/10000 [1:24:10<59:52,  1.12it/s]\u001B[A\n",
      "Processing examples in test:  60%|█████▉    | 5962/10000 [1:24:11<55:30,  1.21it/s]\u001B[A\n",
      "Processing examples in test:  60%|█████▉    | 5963/10000 [1:24:12<54:41,  1.23it/s]\u001B[A\n",
      "Processing examples in test:  60%|█████▉    | 5964/10000 [1:24:13<1:03:55,  1.05it/s]\u001B[A\n",
      "Processing examples in test:  60%|█████▉    | 5965/10000 [1:24:15<1:20:11,  1.19s/it]\u001B[A\n",
      "Processing examples in test:  60%|█████▉    | 5966/10000 [1:24:16<1:13:16,  1.09s/it]\u001B[A\n",
      "Processing examples in test:  60%|█████▉    | 5968/10000 [1:24:18<1:03:54,  1.05it/s]\u001B[A\n",
      "Processing examples in test:  60%|█████▉    | 5970/10000 [1:24:19<56:38,  1.19it/s]  \u001B[A\n",
      "Processing examples in test:  60%|█████▉    | 5973/10000 [1:24:21<53:10,  1.26it/s]\u001B[A\n",
      "Processing examples in test:  60%|█████▉    | 5975/10000 [1:24:22<44:34,  1.50it/s]\u001B[A\n",
      "Processing examples in test:  60%|█████▉    | 5976/10000 [1:24:23<50:32,  1.33it/s]\u001B[A\n",
      "Processing examples in test:  60%|█████▉    | 5977/10000 [1:24:25<1:13:09,  1.09s/it]\u001B[A\n",
      "Processing examples in test:  60%|█████▉    | 5979/10000 [1:24:28<1:14:33,  1.11s/it]\u001B[A\n",
      "Processing examples in test:  60%|█████▉    | 5980/10000 [1:24:30<1:28:55,  1.33s/it]\u001B[A\n",
      "Processing examples in test:  60%|█████▉    | 5982/10000 [1:24:31<1:10:04,  1.05s/it]\u001B[A\n",
      "Processing examples in test:  60%|█████▉    | 5984/10000 [1:24:33<1:13:04,  1.09s/it]\u001B[A\n",
      "Processing examples in test:  60%|█████▉    | 5985/10000 [1:24:35<1:15:25,  1.13s/it]\u001B[A"
     ]
    },
    {
     "name": "stdout",
     "output_type": "stream",
     "text": [
      "Failed to transform Women in a red hat and beige shoes standing with hands behind her back in front of a cement wall. or A person in a hat.. Retrying 5 more times ...\n",
      "Failed to transform Women in a red hat and beige shoes standing with hands behind her back in front of a cement wall. or A person in a hat.. Retrying 4 more times ...\n",
      "Failed to transform Women in a red hat and beige shoes standing with hands behind her back in front of a cement wall. or A person in a hat.. Retrying 3 more times ...\n",
      "Failed to transform Women in a red hat and beige shoes standing with hands behind her back in front of a cement wall. or A person in a hat.. Retrying 2 more times ...\n"
     ]
    },
    {
     "name": "stderr",
     "output_type": "stream",
     "text": [
      "\n",
      "Processing examples in test:  60%|█████▉    | 5990/10000 [1:24:40<1:16:38,  1.15s/it]\u001B[A"
     ]
    },
    {
     "name": "stdout",
     "output_type": "stream",
     "text": [
      "Failed to transform Women in a red hat and beige shoes standing with hands behind her back in front of a cement wall. or A person in a hat.. Retrying 1 more times ...\n",
      "Failed to transform Women in a red hat and beige shoes standing with hands behind her back in front of a cement wall. or A tall person in a hat.. Retrying 5 more times ...\n",
      "Failed to transform Women in a red hat and beige shoes standing with hands behind her back in front of a cement wall. or A tall person in a hat.. Retrying 4 more times ...\n",
      "Failed to transform Women in a red hat and beige shoes standing with hands behind her back in front of a cement wall. or A tall person in a hat.. Retrying 3 more times ...\n",
      "Failed to transform Women in a red hat and beige shoes standing with hands behind her back in front of a cement wall. or A tall person in a hat.. Retrying 2 more times ...\n"
     ]
    },
    {
     "name": "stderr",
     "output_type": "stream",
     "text": [
      "\n",
      "Processing examples in test:  60%|█████▉    | 5991/10000 [1:24:51<2:46:24,  2.49s/it]\u001B[A"
     ]
    },
    {
     "name": "stdout",
     "output_type": "stream",
     "text": [
      "Failed to transform Women in a red hat and beige shoes standing with hands behind her back in front of a cement wall. or A tall person in a hat.. Retrying 1 more times ...\n"
     ]
    },
    {
     "name": "stderr",
     "output_type": "stream",
     "text": [
      "\n",
      "Processing examples in test:  60%|█████▉    | 5993/10000 [1:24:52<2:10:23,  1.95s/it]\u001B[A\n",
      "Processing examples in test:  60%|█████▉    | 5996/10000 [1:24:53<1:26:09,  1.29s/it]\u001B[A\n",
      "Processing examples in test:  60%|█████▉    | 5997/10000 [1:24:54<1:23:26,  1.25s/it]\u001B[A\n",
      "Processing examples in test:  60%|█████▉    | 5999/10000 [1:24:56<1:14:45,  1.12s/it]\u001B[A\n",
      "Processing examples in test:  60%|██████    | 6000/10000 [1:24:57<1:17:41,  1.17s/it]\u001B[A\n",
      "Processing examples in test:  60%|██████    | 6001/10000 [1:24:59<1:27:25,  1.31s/it]\u001B[A\n",
      "Processing examples in test:  60%|██████    | 6005/10000 [1:25:01<57:54,  1.15it/s]  \u001B[A\n",
      "Processing examples in test:  60%|██████    | 6006/10000 [1:25:03<1:11:04,  1.07s/it]\u001B[A\n",
      "Processing examples in test:  60%|██████    | 6007/10000 [1:25:04<1:14:40,  1.12s/it]\u001B[A\n",
      "Processing examples in test:  60%|██████    | 6008/10000 [1:25:05<1:11:34,  1.08s/it]\u001B[A\n",
      "Processing examples in test:  60%|██████    | 6015/10000 [1:25:07<33:29,  1.98it/s]  \u001B[A\n",
      "Processing examples in test:  60%|██████    | 6016/10000 [1:25:08<41:50,  1.59it/s]\u001B[A\n",
      "Processing examples in test:  60%|██████    | 6018/10000 [1:25:10<49:28,  1.34it/s]\u001B[A\n",
      "Processing examples in test:  60%|██████    | 6019/10000 [1:25:13<1:05:55,  1.01it/s]\u001B[A\n",
      "Processing examples in test:  60%|██████    | 6020/10000 [1:25:15<1:17:48,  1.17s/it]\u001B[A\n",
      "Processing examples in test:  60%|██████    | 6024/10000 [1:25:17<1:00:06,  1.10it/s]\u001B[A\n",
      "Processing examples in test:  60%|██████    | 6026/10000 [1:25:19<54:45,  1.21it/s]  \u001B[A\n",
      "Processing examples in test:  60%|██████    | 6027/10000 [1:25:20<1:03:18,  1.05it/s]\u001B[A\n",
      "Processing examples in test:  60%|██████    | 6028/10000 [1:25:22<1:16:41,  1.16s/it]\u001B[A\n",
      "Processing examples in test:  60%|██████    | 6030/10000 [1:25:23<1:02:43,  1.05it/s]\u001B[A\n",
      "Processing examples in test:  60%|██████    | 6031/10000 [1:25:25<1:09:50,  1.06s/it]\u001B[A\n",
      "Processing examples in test:  60%|██████    | 6032/10000 [1:25:26<1:04:47,  1.02it/s]\u001B[A\n",
      "Processing examples in test:  60%|██████    | 6033/10000 [1:25:34<3:03:13,  2.77s/it]\u001B[A\n",
      "Processing examples in test:  60%|██████    | 6034/10000 [1:25:35<2:35:54,  2.36s/it]\u001B[A\n",
      "Processing examples in test:  60%|██████    | 6044/10000 [1:25:37<45:11,  1.46it/s]  \u001B[A\n",
      "Processing examples in test:  60%|██████    | 6046/10000 [1:25:40<49:28,  1.33it/s]\u001B[A\n",
      "Processing examples in test:  60%|██████    | 6048/10000 [1:25:42<54:07,  1.22it/s]\u001B[A\n",
      "Processing examples in test:  61%|██████    | 6052/10000 [1:25:43<40:26,  1.63it/s]\u001B[A\n",
      "Processing examples in test:  61%|██████    | 6054/10000 [1:25:49<1:17:38,  1.18s/it]\u001B[A\n",
      "Processing examples in test:  61%|██████    | 6055/10000 [1:25:51<1:25:33,  1.30s/it]\u001B[A\n",
      "Processing examples in test:  61%|██████    | 6057/10000 [1:25:53<1:15:16,  1.15s/it]\u001B[A\n",
      "Processing examples in test:  61%|██████    | 6060/10000 [1:25:54<59:33,  1.10it/s]  \u001B[A\n",
      "Processing examples in test:  61%|██████    | 6061/10000 [1:25:57<1:12:02,  1.10s/it]\u001B[A\n",
      "Processing examples in test:  61%|██████    | 6062/10000 [1:25:57<1:07:17,  1.03s/it]\u001B[A\n",
      "Processing examples in test:  61%|██████    | 6063/10000 [1:26:04<2:27:38,  2.25s/it]\u001B[A\n",
      "Processing examples in test:  61%|██████    | 6064/10000 [1:26:06<2:12:41,  2.02s/it]\u001B[A\n",
      "Processing examples in test:  61%|██████    | 6066/10000 [1:26:06<1:30:31,  1.38s/it]\u001B[A\n",
      "Processing examples in test:  61%|██████    | 6067/10000 [1:26:09<1:42:14,  1.56s/it]\u001B[A\n",
      "Processing examples in test:  61%|██████    | 6069/10000 [1:26:11<1:30:47,  1.39s/it]\u001B[A\n",
      "Processing examples in test:  61%|██████    | 6070/10000 [1:26:12<1:26:44,  1.32s/it]\u001B[A\n",
      "Processing examples in test:  61%|██████    | 6071/10000 [1:26:13<1:29:30,  1.37s/it]\u001B[A\n",
      "Processing examples in test:  61%|██████    | 6073/10000 [1:26:15<1:09:54,  1.07s/it]\u001B[A\n",
      "Processing examples in test:  61%|██████    | 6074/10000 [1:26:15<1:04:44,  1.01it/s]\u001B[A\n",
      "Processing examples in test:  61%|██████    | 6075/10000 [1:26:17<1:11:23,  1.09s/it]\u001B[A\n",
      "Processing examples in test:  61%|██████    | 6079/10000 [1:26:19<48:24,  1.35it/s]  \u001B[A\n",
      "Processing examples in test:  61%|██████    | 6086/10000 [1:26:20<25:52,  2.52it/s]\u001B[A\n",
      "Processing examples in test:  61%|██████    | 6087/10000 [1:26:21<30:32,  2.14it/s]\u001B[A\n",
      "Processing examples in test:  61%|██████    | 6090/10000 [1:26:22<26:22,  2.47it/s]\u001B[A\n",
      "Processing examples in test:  61%|██████    | 6091/10000 [1:26:22<28:56,  2.25it/s]\u001B[A\n",
      "Processing examples in test:  61%|██████    | 6092/10000 [1:26:24<44:22,  1.47it/s]\u001B[A\n",
      "Processing examples in test:  61%|██████    | 6093/10000 [1:26:25<44:11,  1.47it/s]\u001B[A\n",
      "Processing examples in test:  61%|██████    | 6099/10000 [1:26:26<24:47,  2.62it/s]\u001B[A\n",
      "Processing examples in test:  61%|██████    | 6105/10000 [1:26:28<22:48,  2.85it/s]\u001B[A\n",
      "Processing examples in test:  61%|██████    | 6106/10000 [1:26:30<33:18,  1.95it/s]\u001B[A\n",
      "Processing examples in test:  61%|██████    | 6112/10000 [1:26:32<25:50,  2.51it/s]\u001B[A\n",
      "Processing examples in test:  61%|██████    | 6113/10000 [1:26:33<32:22,  2.00it/s]\u001B[A\n",
      "Processing examples in test:  61%|██████    | 6118/10000 [1:26:34<23:03,  2.81it/s]\u001B[A\n",
      "Processing examples in test:  61%|██████    | 6120/10000 [1:26:35<27:51,  2.32it/s]\u001B[A\n",
      "Processing examples in test:  61%|██████    | 6121/10000 [1:26:36<29:33,  2.19it/s]\u001B[A\n",
      "Processing examples in test:  61%|██████    | 6122/10000 [1:26:38<41:45,  1.55it/s]\u001B[A\n",
      "Processing examples in test:  61%|██████    | 6124/10000 [1:26:39<44:34,  1.45it/s]\u001B[A\n",
      "Processing examples in test:  61%|██████▏   | 6127/10000 [1:26:41<38:55,  1.66it/s]\u001B[A\n",
      "Processing examples in test:  61%|██████▏   | 6128/10000 [1:26:42<44:53,  1.44it/s]\u001B[A\n",
      "Processing examples in test:  61%|██████▏   | 6133/10000 [1:26:43<31:27,  2.05it/s]\u001B[A"
     ]
    },
    {
     "name": "stdout",
     "output_type": "stream",
     "text": [
      "Failed to transform A young couple thinking about their Christmas decorations. or The couple are decorating for Halloween.. Retrying 5 more times ...\n",
      "Failed to transform A young couple thinking about their Christmas decorations. or The couple are decorating for Halloween.. Retrying 4 more times ...\n",
      "Failed to transform A young couple thinking about their Christmas decorations. or The couple are decorating for Halloween.. Retrying 3 more times ...\n",
      "Failed to transform A young couple thinking about their Christmas decorations. or The couple are decorating for Halloween.. Retrying 2 more times ...\n"
     ]
    },
    {
     "name": "stderr",
     "output_type": "stream",
     "text": [
      "\n",
      "Processing examples in test:  61%|██████▏   | 6134/10000 [1:26:54<1:59:54,  1.86s/it]\u001B[A"
     ]
    },
    {
     "name": "stdout",
     "output_type": "stream",
     "text": [
      "Failed to transform A young couple thinking about their Christmas decorations. or The couple are decorating for Halloween.. Retrying 1 more times ...\n",
      "Failed to transform A young couple thinking about their Christmas decorations. or The couple has their Christmas tree out.. Retrying 5 more times ...\n",
      "Failed to transform A young couple thinking about their Christmas decorations. or The couple has their Christmas tree out.. Retrying 4 more times ...\n",
      "Failed to transform A young couple thinking about their Christmas decorations. or The couple has their Christmas tree out.. Retrying 3 more times ...\n",
      "Failed to transform A young couple thinking about their Christmas decorations. or The couple has their Christmas tree out.. Retrying 2 more times ...\n"
     ]
    },
    {
     "name": "stderr",
     "output_type": "stream",
     "text": [
      "\n",
      "Processing examples in test:  61%|██████▏   | 6136/10000 [1:27:00<2:14:12,  2.08s/it]\u001B[A"
     ]
    },
    {
     "name": "stdout",
     "output_type": "stream",
     "text": [
      "Failed to transform A young couple thinking about their Christmas decorations. or The couple has their Christmas tree out.. Retrying 1 more times ...\n"
     ]
    },
    {
     "name": "stderr",
     "output_type": "stream",
     "text": [
      "\n",
      "Processing examples in test:  61%|██████▏   | 6138/10000 [1:27:01<1:43:05,  1.60s/it]\u001B[A\n",
      "Processing examples in test:  61%|██████▏   | 6140/10000 [1:27:02<1:30:29,  1.41s/it]\u001B[A\n",
      "Processing examples in test:  61%|██████▏   | 6144/10000 [1:27:03<55:34,  1.16it/s]  \u001B[A\n",
      "Processing examples in test:  61%|██████▏   | 6145/10000 [1:27:06<1:11:13,  1.11s/it]\u001B[A\n",
      "Processing examples in test:  61%|██████▏   | 6146/10000 [1:27:07<1:11:56,  1.12s/it]\u001B[A\n",
      "Processing examples in test:  61%|██████▏   | 6148/10000 [1:27:08<1:02:36,  1.03it/s]\u001B[A\n",
      "Processing examples in test:  62%|██████▏   | 6153/10000 [1:27:10<39:29,  1.62it/s]  \u001B[A\n",
      "Processing examples in test:  62%|██████▏   | 6155/10000 [1:27:11<36:17,  1.77it/s]\u001B[A\n",
      "Processing examples in test:  62%|██████▏   | 6156/10000 [1:27:12<44:45,  1.43it/s]\u001B[A\n",
      "Processing examples in test:  62%|██████▏   | 6157/10000 [1:27:13<44:13,  1.45it/s]\u001B[A\n",
      "Processing examples in test:  62%|██████▏   | 6159/10000 [1:27:14<42:41,  1.50it/s]\u001B[A\n",
      "Processing examples in test:  62%|██████▏   | 6165/10000 [1:27:15<25:39,  2.49it/s]\u001B[A\n",
      "Processing examples in test:  62%|██████▏   | 6166/10000 [1:27:16<28:18,  2.26it/s]\u001B[A\n",
      "Processing examples in test:  62%|██████▏   | 6167/10000 [1:27:17<37:22,  1.71it/s]\u001B[A\n",
      "Processing examples in test:  62%|██████▏   | 6168/10000 [1:27:19<43:45,  1.46it/s]\u001B[A\n",
      "Processing examples in test:  62%|██████▏   | 6171/10000 [1:27:20<34:52,  1.83it/s]\u001B[A"
     ]
    },
    {
     "name": "stdout",
     "output_type": "stream",
     "text": [
      "Failed to transform with A young girl eating a peach, while discussing the times of old with her friend.. Retrying 5 more times...\n",
      "Failed to transform with A young girl eating a peach, while discussing the times of old with her friend.. Retrying 4 more times...\n",
      "Failed to transform with A young girl eating a peach, while discussing the times of old with her friend.. Retrying 3 more times...\n",
      "Failed to transform with A young girl eating a peach, while discussing the times of old with her friend.. Retrying 2 more times...\n"
     ]
    },
    {
     "name": "stderr",
     "output_type": "stream",
     "text": [
      "\n",
      "Processing examples in test:  62%|██████▏   | 6172/10000 [1:27:26<1:36:09,  1.51s/it]\u001B[A"
     ]
    },
    {
     "name": "stdout",
     "output_type": "stream",
     "text": [
      "Failed to transform with A young girl eating a peach, while discussing the times of old with her friend.. Retrying 1 more times...\n"
     ]
    },
    {
     "name": "stderr",
     "output_type": "stream",
     "text": [
      "\n",
      "Processing examples in test:  62%|██████▏   | 6173/10000 [1:27:28<1:43:15,  1.62s/it]\u001B[A\n",
      "Processing examples in test:  62%|██████▏   | 6175/10000 [1:27:29<1:15:31,  1.18s/it]\u001B[A\n",
      "Processing examples in test:  62%|██████▏   | 6179/10000 [1:27:30<46:08,  1.38it/s]  \u001B[A\n",
      "Processing examples in test:  62%|██████▏   | 6183/10000 [1:27:31<34:06,  1.87it/s]\u001B[A\n",
      "Processing examples in test:  62%|██████▏   | 6185/10000 [1:27:33<44:17,  1.44it/s]\u001B[A\n",
      "Processing examples in test:  62%|██████▏   | 6187/10000 [1:27:35<45:58,  1.38it/s]\u001B[A\n",
      "Processing examples in test:  62%|██████▏   | 6188/10000 [1:27:37<59:39,  1.07it/s]\u001B[A\n",
      "Processing examples in test:  62%|██████▏   | 6189/10000 [1:27:40<1:25:37,  1.35s/it]\u001B[A\n",
      "Processing examples in test:  62%|██████▏   | 6191/10000 [1:27:42<1:12:21,  1.14s/it]\u001B[A"
     ]
    },
    {
     "name": "stdout",
     "output_type": "stream",
     "text": [
      "Failed to transform A small dog looking up to his loving owner. or A dog is playing with his owner.. Retrying 5 more times ...\n",
      "Failed to transform A small dog looking up to his loving owner. or A dog is playing with his owner.. Retrying 4 more times ...\n",
      "Failed to transform A small dog looking up to his loving owner. or A dog is playing with his owner.. Retrying 3 more times ...\n",
      "Failed to transform A small dog looking up to his loving owner. or A dog is playing with his owner.. Retrying 2 more times ...\n"
     ]
    },
    {
     "name": "stderr",
     "output_type": "stream",
     "text": [
      "\n",
      "Processing examples in test:  62%|██████▏   | 6194/10000 [1:27:47<1:27:13,  1.37s/it]\u001B[A"
     ]
    },
    {
     "name": "stdout",
     "output_type": "stream",
     "text": [
      "Failed to transform A small dog looking up to his loving owner. or A dog is playing with his owner.. Retrying 1 more times ...\n"
     ]
    },
    {
     "name": "stderr",
     "output_type": "stream",
     "text": [
      "\n",
      "Processing examples in test:  62%|██████▏   | 6196/10000 [1:27:49<1:19:18,  1.25s/it]\u001B[A\n",
      "Processing examples in test:  62%|██████▏   | 6197/10000 [1:27:50<1:17:22,  1.22s/it]\u001B[A\n",
      "Processing examples in test:  62%|██████▏   | 6198/10000 [1:27:53<1:38:15,  1.55s/it]\u001B[A\n",
      "Processing examples in test:  62%|██████▏   | 6200/10000 [1:27:55<1:31:32,  1.45s/it]\u001B[A\n",
      "Processing examples in test:  62%|██████▏   | 6207/10000 [1:27:58<45:21,  1.39it/s]  \u001B[A\n",
      "Processing examples in test:  62%|██████▏   | 6208/10000 [1:27:59<51:09,  1.24it/s]\u001B[A\n",
      "Processing examples in test:  62%|██████▏   | 6209/10000 [1:28:00<56:06,  1.13it/s]\u001B[A\n",
      "Processing examples in test:  62%|██████▏   | 6210/10000 [1:28:02<1:06:20,  1.05s/it]\u001B[A\n",
      "Processing examples in test:  62%|██████▏   | 6211/10000 [1:28:04<1:16:56,  1.22s/it]\u001B[A\n",
      "Processing examples in test:  62%|██████▏   | 6212/10000 [1:28:05<1:14:53,  1.19s/it]\u001B[A\n",
      "Processing examples in test:  62%|██████▏   | 6217/10000 [1:28:07<40:58,  1.54it/s]  \u001B[A\n",
      "Processing examples in test:  62%|██████▏   | 6219/10000 [1:28:09<45:47,  1.38it/s]\u001B[A\n",
      "Processing examples in test:  62%|██████▏   | 6222/10000 [1:28:10<37:29,  1.68it/s]\u001B[A\n",
      "Processing examples in test:  62%|██████▏   | 6224/10000 [1:28:13<51:47,  1.22it/s]\u001B[A\n",
      "Processing examples in test:  62%|██████▏   | 6225/10000 [1:28:15<1:04:17,  1.02s/it]\u001B[A\n",
      "Processing examples in test:  62%|██████▏   | 6226/10000 [1:28:16<1:10:36,  1.12s/it]\u001B[A"
     ]
    },
    {
     "name": "stdout",
     "output_type": "stream",
     "text": [
      "Failed to transform Three men sitting in a room looking at their one motorbike and one pedal bike. or Men prepare to fix their damaged bikes.. Retrying 5 more times ...\n",
      "Failed to transform Three men sitting in a room looking at their one motorbike and one pedal bike. or Men prepare to fix their damaged bikes.. Retrying 4 more times ...\n",
      "Failed to transform Three men sitting in a room looking at their one motorbike and one pedal bike. or Men prepare to fix their damaged bikes.. Retrying 3 more times ...\n",
      "Failed to transform Three men sitting in a room looking at their one motorbike and one pedal bike. or Men prepare to fix their damaged bikes.. Retrying 2 more times ...\n"
     ]
    },
    {
     "name": "stderr",
     "output_type": "stream",
     "text": [
      "\n",
      "Processing examples in test:  62%|██████▏   | 6228/10000 [1:28:22<1:41:01,  1.61s/it]\u001B[A"
     ]
    },
    {
     "name": "stdout",
     "output_type": "stream",
     "text": [
      "Failed to transform Three men sitting in a room looking at their one motorbike and one pedal bike. or Men prepare to fix their damaged bikes.. Retrying 1 more times ...\n"
     ]
    },
    {
     "name": "stderr",
     "output_type": "stream",
     "text": [
      "\n",
      "Processing examples in test:  62%|██████▏   | 6229/10000 [1:28:23<1:33:58,  1.50s/it]\u001B[A\n",
      "Processing examples in test:  62%|██████▏   | 6230/10000 [1:28:25<1:40:59,  1.61s/it]\u001B[A\n",
      "Processing examples in test:  62%|██████▏   | 6232/10000 [1:28:27<1:29:02,  1.42s/it]\u001B[A\n",
      "Processing examples in test:  62%|██████▏   | 6238/10000 [1:28:28<39:05,  1.60it/s]  \u001B[A\n",
      "Processing examples in test:  62%|██████▏   | 6240/10000 [1:28:30<43:39,  1.44it/s]\u001B[A\n",
      "Processing examples in test:  62%|██████▏   | 6241/10000 [1:28:31<47:28,  1.32it/s]\u001B[A\n",
      "Processing examples in test:  62%|██████▏   | 6243/10000 [1:28:32<47:13,  1.33it/s]\u001B[A\n",
      "Processing examples in test:  62%|██████▏   | 6244/10000 [1:28:34<1:02:13,  1.01it/s]\u001B[A\n",
      "Processing examples in test:  62%|██████▏   | 6249/10000 [1:28:36<39:24,  1.59it/s]  \u001B[A\n",
      "Processing examples in test:  63%|██████▎   | 6254/10000 [1:28:38<30:36,  2.04it/s]\u001B[A\n",
      "Processing examples in test:  63%|██████▎   | 6256/10000 [1:28:39<31:22,  1.99it/s]\u001B[A\n",
      "Processing examples in test:  63%|██████▎   | 6259/10000 [1:28:41<33:34,  1.86it/s]\u001B[A\n",
      "Processing examples in test:  63%|██████▎   | 6261/10000 [1:28:42<38:57,  1.60it/s]\u001B[A\n",
      "Processing examples in test:  63%|██████▎   | 6262/10000 [1:28:45<52:17,  1.19it/s]\u001B[A\n",
      "Processing examples in test:  63%|██████▎   | 6265/10000 [1:28:46<44:37,  1.40it/s]\u001B[A\n",
      "Processing examples in test:  63%|██████▎   | 6266/10000 [1:28:47<47:37,  1.31it/s]\u001B[A\n",
      "Processing examples in test:  63%|██████▎   | 6270/10000 [1:28:49<42:18,  1.47it/s]\u001B[A\n",
      "Processing examples in test:  63%|██████▎   | 6272/10000 [1:28:51<42:20,  1.47it/s]\u001B[A\n",
      "Processing examples in test:  63%|██████▎   | 6273/10000 [1:28:53<53:15,  1.17it/s]\u001B[A\n",
      "Processing examples in test:  63%|██████▎   | 6274/10000 [1:28:54<1:00:26,  1.03it/s]\u001B[A\n",
      "Processing examples in test:  63%|██████▎   | 6275/10000 [1:28:56<1:12:15,  1.16s/it]\u001B[A\n",
      "Processing examples in test:  63%|██████▎   | 6282/10000 [1:28:58<37:11,  1.67it/s]  \u001B[A\n",
      "Processing examples in test:  63%|██████▎   | 6285/10000 [1:29:00<34:39,  1.79it/s]\u001B[A\n",
      "Processing examples in test:  63%|██████▎   | 6287/10000 [1:29:01<34:05,  1.82it/s]\u001B[A\n",
      "Processing examples in test:  63%|██████▎   | 6288/10000 [1:29:03<44:13,  1.40it/s]\u001B[A\n",
      "Processing examples in test:  63%|██████▎   | 6290/10000 [1:29:04<43:54,  1.41it/s]\u001B[A\n",
      "Processing examples in test:  63%|██████▎   | 6293/10000 [1:29:06<45:56,  1.34it/s]\u001B[A\n",
      "Processing examples in test:  63%|██████▎   | 6295/10000 [1:29:07<41:05,  1.50it/s]\u001B[A\n",
      "Processing examples in test:  63%|██████▎   | 6296/10000 [1:29:09<48:48,  1.26it/s]\u001B[A\n",
      "Processing examples in test:  63%|██████▎   | 6297/10000 [1:29:11<1:02:52,  1.02s/it]\u001B[A\n",
      "Processing examples in test:  63%|██████▎   | 6299/10000 [1:29:12<55:17,  1.12it/s]  \u001B[A\n",
      "Processing examples in test:  63%|██████▎   | 6300/10000 [1:29:13<58:11,  1.06it/s]\u001B[A\n",
      "Processing examples in test:  63%|██████▎   | 6305/10000 [1:29:14<29:08,  2.11it/s]\u001B[A\n",
      "Processing examples in test:  63%|██████▎   | 6306/10000 [1:29:16<40:59,  1.50it/s]\u001B[A\n",
      "Processing examples in test:  63%|██████▎   | 6307/10000 [1:29:17<49:20,  1.25it/s]\u001B[A\n",
      "Processing examples in test:  63%|██████▎   | 6308/10000 [1:29:18<48:57,  1.26it/s]\u001B[A\n",
      "Processing examples in test:  63%|██████▎   | 6312/10000 [1:29:20<37:24,  1.64it/s]\u001B[A\n",
      "Processing examples in test:  63%|██████▎   | 6316/10000 [1:29:21<28:36,  2.15it/s]\u001B[A\n",
      "Processing examples in test:  63%|██████▎   | 6317/10000 [1:29:23<38:59,  1.57it/s]\u001B[A\n",
      "Processing examples in test:  63%|██████▎   | 6318/10000 [1:29:24<45:56,  1.34it/s]\u001B[A"
     ]
    },
    {
     "name": "stdout",
     "output_type": "stream",
     "text": [
      "Failed to transform with A woman reading a book while she sits on a bench waiting for the bus.. Retrying 5 more times...\n",
      "Failed to transform with A woman reading a book while she sits on a bench waiting for the bus.. Retrying 4 more times...\n",
      "Failed to transform with A woman reading a book while she sits on a bench waiting for the bus.. Retrying 3 more times...\n",
      "Failed to transform with A woman reading a book while she sits on a bench waiting for the bus.. Retrying 2 more times...\n"
     ]
    },
    {
     "name": "stderr",
     "output_type": "stream",
     "text": [
      "\n",
      "Processing examples in test:  63%|██████▎   | 6320/10000 [1:29:31<1:35:20,  1.55s/it]\u001B[A"
     ]
    },
    {
     "name": "stdout",
     "output_type": "stream",
     "text": [
      "Failed to transform with A woman reading a book while she sits on a bench waiting for the bus.. Retrying 1 more times...\n"
     ]
    },
    {
     "name": "stderr",
     "output_type": "stream",
     "text": [
      "\n",
      "Processing examples in test:  63%|██████▎   | 6323/10000 [1:29:32<1:06:29,  1.09s/it]\u001B[A\n",
      "Processing examples in test:  63%|██████▎   | 6324/10000 [1:29:34<1:16:07,  1.24s/it]\u001B[A\n",
      "Processing examples in test:  63%|██████▎   | 6326/10000 [1:29:35<1:03:48,  1.04s/it]\u001B[A\n",
      "Processing examples in test:  63%|██████▎   | 6328/10000 [1:29:36<55:41,  1.10it/s]  \u001B[A\n",
      "Processing examples in test:  63%|██████▎   | 6331/10000 [1:29:38<47:52,  1.28it/s]\u001B[A\n",
      "Processing examples in test:  63%|██████▎   | 6332/10000 [1:29:39<47:12,  1.30it/s]\u001B[A\n",
      "Processing examples in test:  63%|██████▎   | 6333/10000 [1:29:40<58:37,  1.04it/s]\u001B[A\n",
      "Processing examples in test:  63%|██████▎   | 6334/10000 [1:29:42<1:09:00,  1.13s/it]\u001B[A\n",
      "Processing examples in test:  63%|██████▎   | 6335/10000 [1:29:43<1:08:50,  1.13s/it]\u001B[A\n",
      "Processing examples in test:  63%|██████▎   | 6338/10000 [1:29:44<41:20,  1.48it/s]  \u001B[A\n",
      "Processing examples in test:  63%|██████▎   | 6341/10000 [1:29:45<33:56,  1.80it/s]\u001B[A\n",
      "Processing examples in test:  63%|██████▎   | 6342/10000 [1:29:47<43:53,  1.39it/s]\u001B[A\n",
      "Processing examples in test:  63%|██████▎   | 6343/10000 [1:29:49<57:01,  1.07it/s]\u001B[A\n",
      "Processing examples in test:  63%|██████▎   | 6348/10000 [1:29:50<36:54,  1.65it/s]\u001B[A"
     ]
    },
    {
     "name": "stdout",
     "output_type": "stream",
     "text": [
      "Failed to transform Woman wearing green pants, blue jacket and sunhat carrying food in baskets that are hung over her shoulder. or They walk along carrying a bounty of food.. Retrying 5 more times ...\n",
      "Failed to transform Woman wearing green pants, blue jacket and sunhat carrying food in baskets that are hung over her shoulder. or They walk along carrying a bounty of food.. Retrying 4 more times ...\n",
      "Failed to transform Woman wearing green pants, blue jacket and sunhat carrying food in baskets that are hung over her shoulder. or They walk along carrying a bounty of food.. Retrying 3 more times ...\n",
      "Failed to transform Woman wearing green pants, blue jacket and sunhat carrying food in baskets that are hung over her shoulder. or They walk along carrying a bounty of food.. Retrying 2 more times ...\n"
     ]
    },
    {
     "name": "stderr",
     "output_type": "stream",
     "text": [
      "\n",
      "Processing examples in test:  64%|██████▎   | 6350/10000 [1:29:55<1:00:22,  1.01it/s]\u001B[A"
     ]
    },
    {
     "name": "stdout",
     "output_type": "stream",
     "text": [
      "Failed to transform Woman wearing green pants, blue jacket and sunhat carrying food in baskets that are hung over her shoulder. or They walk along carrying a bounty of food.. Retrying 1 more times ...\n"
     ]
    },
    {
     "name": "stderr",
     "output_type": "stream",
     "text": [
      "\n",
      "Processing examples in test:  64%|██████▎   | 6353/10000 [1:29:56<47:31,  1.28it/s]  \u001B[A\n",
      "Processing examples in test:  64%|██████▎   | 6354/10000 [1:29:58<58:55,  1.03it/s]\u001B[A\n",
      "Processing examples in test:  64%|██████▎   | 6357/10000 [1:29:59<43:13,  1.40it/s]\u001B[A\n",
      "Processing examples in test:  64%|██████▎   | 6358/10000 [1:30:01<54:02,  1.12it/s]\u001B[A\n",
      "Processing examples in test:  64%|██████▎   | 6359/10000 [1:30:03<1:04:53,  1.07s/it]\u001B[A\n",
      "Processing examples in test:  64%|██████▎   | 6361/10000 [1:30:04<53:20,  1.14it/s]  \u001B[A\n",
      "Processing examples in test:  64%|██████▎   | 6364/10000 [1:30:05<46:15,  1.31it/s]\u001B[A\n",
      "Processing examples in test:  64%|██████▎   | 6367/10000 [1:30:07<37:50,  1.60it/s]\u001B[A\n",
      "Processing examples in test:  64%|██████▎   | 6368/10000 [1:30:09<50:06,  1.21it/s]\u001B[A"
     ]
    },
    {
     "name": "stdout",
     "output_type": "stream",
     "text": [
      "Failed to transform with A woman on her way to church.. Retrying 5 more times...\n",
      "Failed to transform with A woman on her way to church.. Retrying 4 more times...\n",
      "Failed to transform with A woman on her way to church.. Retrying 3 more times...\n",
      "Failed to transform with A woman on her way to church.. Retrying 2 more times...\n"
     ]
    },
    {
     "name": "stderr",
     "output_type": "stream",
     "text": [
      "\n",
      "Processing examples in test:  64%|██████▎   | 6369/10000 [1:30:14<1:41:30,  1.68s/it]\u001B[A"
     ]
    },
    {
     "name": "stdout",
     "output_type": "stream",
     "text": [
      "Failed to transform with A woman on her way to church.. Retrying 1 more times...\n"
     ]
    },
    {
     "name": "stderr",
     "output_type": "stream",
     "text": [
      "\n",
      "Processing examples in test:  64%|██████▎   | 6373/10000 [1:30:15<56:30,  1.07it/s]  \u001B[A\n",
      "Processing examples in test:  64%|██████▎   | 6374/10000 [1:30:16<58:53,  1.03it/s]\u001B[A\n",
      "Processing examples in test:  64%|██████▍   | 6376/10000 [1:30:18<59:40,  1.01it/s]\u001B[A\n",
      "Processing examples in test:  64%|██████▍   | 6383/10000 [1:30:21<35:51,  1.68it/s]\u001B[A\n",
      "Processing examples in test:  64%|██████▍   | 6384/10000 [1:30:22<39:13,  1.54it/s]\u001B[A\n",
      "Processing examples in test:  64%|██████▍   | 6385/10000 [1:30:24<52:59,  1.14it/s]\u001B[A\n",
      "Processing examples in test:  64%|██████▍   | 6386/10000 [1:30:25<56:39,  1.06it/s]\u001B[A\n",
      "Processing examples in test:  64%|██████▍   | 6392/10000 [1:30:27<32:38,  1.84it/s]\u001B[A\n",
      "Processing examples in test:  64%|██████▍   | 6394/10000 [1:30:28<33:40,  1.78it/s]\u001B[A\n",
      "Processing examples in test:  64%|██████▍   | 6395/10000 [1:30:29<39:33,  1.52it/s]\u001B[A\n",
      "Processing examples in test:  64%|██████▍   | 6397/10000 [1:30:32<48:52,  1.23it/s]\u001B[A\n",
      "Processing examples in test:  64%|██████▍   | 6398/10000 [1:30:33<54:16,  1.11it/s]\u001B[A\n",
      "Processing examples in test:  64%|██████▍   | 6399/10000 [1:30:35<1:04:01,  1.07s/it]\u001B[A\n",
      "Processing examples in test:  64%|██████▍   | 6403/10000 [1:30:36<41:10,  1.46it/s]  \u001B[A\n",
      "Processing examples in test:  64%|██████▍   | 6405/10000 [1:30:38<44:04,  1.36it/s]\u001B[A\n",
      "Processing examples in test:  64%|██████▍   | 6407/10000 [1:30:40<48:14,  1.24it/s]\u001B[A\n",
      "Processing examples in test:  64%|██████▍   | 6410/10000 [1:30:41<38:27,  1.56it/s]\u001B[A\n",
      "Processing examples in test:  64%|██████▍   | 6412/10000 [1:30:43<40:33,  1.47it/s]\u001B[A\n",
      "Processing examples in test:  64%|██████▍   | 6413/10000 [1:30:44<46:19,  1.29it/s]\u001B[A\n",
      "Processing examples in test:  64%|██████▍   | 6415/10000 [1:30:46<49:34,  1.21it/s]\u001B[A\n",
      "Processing examples in test:  64%|██████▍   | 6416/10000 [1:30:47<52:39,  1.13it/s]\u001B[A\n",
      "Processing examples in test:  64%|██████▍   | 6417/10000 [1:30:48<58:12,  1.03it/s]\u001B[A\n",
      "Processing examples in test:  64%|██████▍   | 6419/10000 [1:30:49<48:45,  1.22it/s]\u001B[A\n",
      "Processing examples in test:  64%|██████▍   | 6423/10000 [1:30:51<37:24,  1.59it/s]\u001B[A\n",
      "Processing examples in test:  64%|██████▍   | 6424/10000 [1:30:53<48:11,  1.24it/s]\u001B[A\n",
      "Processing examples in test:  64%|██████▍   | 6425/10000 [1:30:54<51:05,  1.17it/s]\u001B[A"
     ]
    },
    {
     "name": "stdout",
     "output_type": "stream",
     "text": [
      "Failed to transform Three young men in a kitchen standing around a stove, one of them is stirring something in a pot. or Three guys are in a swimming pool.. Retrying 5 more times ...\n",
      "Failed to transform Three young men in a kitchen standing around a stove, one of them is stirring something in a pot. or Three guys are in a swimming pool.. Retrying 4 more times ...\n",
      "Failed to transform Three young men in a kitchen standing around a stove, one of them is stirring something in a pot. or Three guys are in a swimming pool.. Retrying 3 more times ...\n",
      "Failed to transform Three young men in a kitchen standing around a stove, one of them is stirring something in a pot. or Three guys are in a swimming pool.. Retrying 2 more times ...\n"
     ]
    },
    {
     "name": "stderr",
     "output_type": "stream",
     "text": [
      "\n",
      "Processing examples in test:  64%|██████▍   | 6429/10000 [1:30:59<1:02:53,  1.06s/it]\u001B[A"
     ]
    },
    {
     "name": "stdout",
     "output_type": "stream",
     "text": [
      "Failed to transform Three young men in a kitchen standing around a stove, one of them is stirring something in a pot. or Three guys are in a swimming pool.. Retrying 1 more times ...\n"
     ]
    },
    {
     "name": "stderr",
     "output_type": "stream",
     "text": [
      "\n",
      "Processing examples in test:  64%|██████▍   | 6430/10000 [1:31:00<1:00:49,  1.02s/it]\u001B[A\n",
      "Processing examples in test:  64%|██████▍   | 6433/10000 [1:31:01<44:05,  1.35it/s]  \u001B[A\n",
      "Processing examples in test:  64%|██████▍   | 6434/10000 [1:31:02<52:25,  1.13it/s]\u001B[A\n",
      "Processing examples in test:  64%|██████▍   | 6436/10000 [1:31:04<52:20,  1.13it/s]\u001B[A\n",
      "Processing examples in test:  64%|██████▍   | 6440/10000 [1:31:05<35:23,  1.68it/s]\u001B[A\n",
      "Processing examples in test:  64%|██████▍   | 6441/10000 [1:31:07<46:33,  1.27it/s]\u001B[A\n",
      "Processing examples in test:  64%|██████▍   | 6442/10000 [1:31:08<46:32,  1.27it/s]\u001B[A\n",
      "Processing examples in test:  64%|██████▍   | 6445/10000 [1:31:10<42:01,  1.41it/s]\u001B[A\n",
      "Processing examples in test:  64%|██████▍   | 6446/10000 [1:31:11<46:00,  1.29it/s]\u001B[A\n",
      "Processing examples in test:  64%|██████▍   | 6450/10000 [1:31:12<34:19,  1.72it/s]\u001B[A\n",
      "Processing examples in test:  65%|██████▍   | 6452/10000 [1:31:14<35:17,  1.68it/s]\u001B[A\n",
      "Processing examples in test:  65%|██████▍   | 6455/10000 [1:31:15<33:31,  1.76it/s]\u001B[A\n",
      "Processing examples in test:  65%|██████▍   | 6456/10000 [1:31:17<45:05,  1.31it/s]\u001B[A\n",
      "Processing examples in test:  65%|██████▍   | 6457/10000 [1:31:18<44:05,  1.34it/s]\u001B[A\n",
      "Processing examples in test:  65%|██████▍   | 6460/10000 [1:31:20<40:27,  1.46it/s]\u001B[A\n",
      "Processing examples in test:  65%|██████▍   | 6463/10000 [1:31:21<35:22,  1.67it/s]\u001B[A\n",
      "Processing examples in test:  65%|██████▍   | 6464/10000 [1:31:23<47:21,  1.24it/s]\u001B[A\n",
      "Processing examples in test:  65%|██████▍   | 6466/10000 [1:31:25<49:05,  1.20it/s]\u001B[A\n",
      "Processing examples in test:  65%|██████▍   | 6467/10000 [1:31:27<1:02:25,  1.06s/it]\u001B[A\n",
      "Processing examples in test:  65%|██████▍   | 6468/10000 [1:31:28<1:03:29,  1.08s/it]\u001B[A\n",
      "Processing examples in test:  65%|██████▍   | 6469/10000 [1:31:30<1:13:49,  1.25s/it]\u001B[A\n",
      "Processing examples in test:  65%|██████▍   | 6473/10000 [1:31:31<44:28,  1.32it/s]  \u001B[A\n",
      "Processing examples in test:  65%|██████▍   | 6475/10000 [1:31:33<48:28,  1.21it/s]\u001B[A\n",
      "Processing examples in test:  65%|██████▍   | 6477/10000 [1:31:34<43:12,  1.36it/s]\u001B[A\n",
      "Processing examples in test:  65%|██████▍   | 6478/10000 [1:31:36<47:09,  1.24it/s]\u001B[A\n",
      "Processing examples in test:  65%|██████▍   | 6479/10000 [1:31:37<51:29,  1.14it/s]\u001B[A\n",
      "Processing examples in test:  65%|██████▍   | 6481/10000 [1:31:38<48:12,  1.22it/s]\u001B[A\n",
      "Processing examples in test:  65%|██████▍   | 6482/10000 [1:31:40<1:00:02,  1.02s/it]\u001B[A\n",
      "Processing examples in test:  65%|██████▍   | 6486/10000 [1:31:42<41:55,  1.40it/s]  \u001B[A\n",
      "Processing examples in test:  65%|██████▍   | 6488/10000 [1:31:43<38:57,  1.50it/s]\u001B[A\n",
      "Processing examples in test:  65%|██████▍   | 6490/10000 [1:31:45<43:29,  1.34it/s]\u001B[A\n",
      "Processing examples in test:  65%|██████▍   | 6493/10000 [1:31:46<38:53,  1.50it/s]\u001B[A\n",
      "Processing examples in test:  65%|██████▍   | 6494/10000 [1:31:49<54:59,  1.06it/s]\u001B[A\n",
      "Processing examples in test:  65%|██████▍   | 6496/10000 [1:31:50<45:30,  1.28it/s]\u001B[A\n",
      "Processing examples in test:  65%|██████▍   | 6497/10000 [1:31:51<53:32,  1.09it/s]\u001B[A\n",
      "Processing examples in test:  65%|██████▌   | 6500/10000 [1:31:52<39:51,  1.46it/s]\u001B[A\n",
      "Processing examples in test:  65%|██████▌   | 6502/10000 [1:31:54<43:20,  1.35it/s]\u001B[A\n",
      "Processing examples in test:  65%|██████▌   | 6505/10000 [1:31:55<36:21,  1.60it/s]\u001B[A\n",
      "Processing examples in test:  65%|██████▌   | 6506/10000 [1:31:56<37:49,  1.54it/s]\u001B[A\n",
      "Processing examples in test:  65%|██████▌   | 6512/10000 [1:31:58<27:26,  2.12it/s]\u001B[A\n",
      "Processing examples in test:  65%|██████▌   | 6513/10000 [1:32:00<37:22,  1.56it/s]\u001B[A\n",
      "Processing examples in test:  65%|██████▌   | 6515/10000 [1:32:02<39:56,  1.45it/s]\u001B[A\n",
      "Processing examples in test:  65%|██████▌   | 6516/10000 [1:32:02<39:40,  1.46it/s]\u001B[A\n",
      "Processing examples in test:  65%|██████▌   | 6518/10000 [1:32:03<37:07,  1.56it/s]\u001B[A\n",
      "Processing examples in test:  65%|██████▌   | 6519/10000 [1:32:04<37:54,  1.53it/s]\u001B[A\n",
      "Processing examples in test:  65%|██████▌   | 6520/10000 [1:32:05<42:43,  1.36it/s]\u001B[A\n",
      "Processing examples in test:  65%|██████▌   | 6521/10000 [1:32:07<55:31,  1.04it/s]\u001B[A\n",
      "Processing examples in test:  65%|██████▌   | 6522/10000 [1:32:08<57:16,  1.01it/s]\u001B[A\n",
      "Processing examples in test:  65%|██████▌   | 6525/10000 [1:32:09<38:28,  1.51it/s]\u001B[A\n",
      "Processing examples in test:  65%|██████▌   | 6526/10000 [1:32:11<47:41,  1.21it/s]\u001B[A\n",
      "Processing examples in test:  65%|██████▌   | 6529/10000 [1:32:12<35:27,  1.63it/s]\u001B[A\n",
      "Processing examples in test:  65%|██████▌   | 6532/10000 [1:32:13<33:25,  1.73it/s]\u001B[A\n",
      "Processing examples in test:  65%|██████▌   | 6533/10000 [1:32:15<45:23,  1.27it/s]\u001B[A\n",
      "Processing examples in test:  65%|██████▌   | 6534/10000 [1:32:16<51:06,  1.13it/s]\u001B[A\n",
      "Processing examples in test:  65%|██████▌   | 6535/10000 [1:32:18<56:21,  1.02it/s]\u001B[A\n",
      "Processing examples in test:  65%|██████▌   | 6536/10000 [1:32:20<1:06:46,  1.16s/it]\u001B[A\n",
      "Processing examples in test:  65%|██████▌   | 6537/10000 [1:32:22<1:18:51,  1.37s/it]\u001B[A\n",
      "Processing examples in test:  65%|██████▌   | 6538/10000 [1:32:23<1:15:32,  1.31s/it]\u001B[A\n",
      "Processing examples in test:  65%|██████▌   | 6540/10000 [1:32:25<1:06:11,  1.15s/it]\u001B[A\n",
      "Processing examples in test:  65%|██████▌   | 6542/10000 [1:32:26<1:00:13,  1.04s/it]\u001B[A\n",
      "Processing examples in test:  65%|██████▌   | 6547/10000 [1:32:27<31:06,  1.85it/s]  \u001B[A\n",
      "Processing examples in test:  66%|██████▌   | 6551/10000 [1:32:29<30:31,  1.88it/s]\u001B[A\n",
      "Processing examples in test:  66%|██████▌   | 6552/10000 [1:32:30<33:16,  1.73it/s]\u001B[A\n",
      "Processing examples in test:  66%|██████▌   | 6553/10000 [1:32:31<34:38,  1.66it/s]\u001B[A\n",
      "Processing examples in test:  66%|██████▌   | 6556/10000 [1:32:32<31:00,  1.85it/s]\u001B[A\n",
      "Processing examples in test:  66%|██████▌   | 6559/10000 [1:32:33<28:06,  2.04it/s]\u001B[A\n",
      "Processing examples in test:  66%|██████▌   | 6560/10000 [1:32:34<29:56,  1.91it/s]\u001B[A\n",
      "Processing examples in test:  66%|██████▌   | 6561/10000 [1:32:36<38:17,  1.50it/s]\u001B[A\n",
      "Processing examples in test:  66%|██████▌   | 6563/10000 [1:32:37<35:34,  1.61it/s]\u001B[A\n",
      "Processing examples in test:  66%|██████▌   | 6564/10000 [1:32:38<48:29,  1.18it/s]\u001B[A\n",
      "Processing examples in test:  66%|██████▌   | 6566/10000 [1:32:41<54:52,  1.04it/s]\u001B[A\n",
      "Processing examples in test:  66%|██████▌   | 6567/10000 [1:32:42<57:28,  1.00s/it]\u001B[A\n",
      "Processing examples in test:  66%|██████▌   | 6571/10000 [1:32:43<35:53,  1.59it/s]\u001B[A\n",
      "Processing examples in test:  66%|██████▌   | 6572/10000 [1:32:45<43:49,  1.30it/s]\u001B[A\n",
      "Processing examples in test:  66%|██████▌   | 6573/10000 [1:32:47<56:35,  1.01it/s]\u001B[A\n",
      "Processing examples in test:  66%|██████▌   | 6577/10000 [1:32:49<42:29,  1.34it/s]\u001B[A\n",
      "Processing examples in test:  66%|██████▌   | 6578/10000 [1:32:50<46:16,  1.23it/s]\u001B[A\n",
      "Processing examples in test:  66%|██████▌   | 6580/10000 [1:32:51<41:27,  1.38it/s]\u001B[A\n",
      "Processing examples in test:  66%|██████▌   | 6581/10000 [1:32:53<51:21,  1.11it/s]\u001B[A\n",
      "Processing examples in test:  66%|██████▌   | 6583/10000 [1:32:54<46:10,  1.23it/s]\u001B[A\n",
      "Processing examples in test:  66%|██████▌   | 6585/10000 [1:32:56<48:47,  1.17it/s]\u001B[A\n",
      "Processing examples in test:  66%|██████▌   | 6587/10000 [1:32:57<40:28,  1.41it/s]\u001B[A\n",
      "Processing examples in test:  66%|██████▌   | 6591/10000 [1:32:59<35:11,  1.61it/s]\u001B[A\n",
      "Processing examples in test:  66%|██████▌   | 6592/10000 [1:32:59<36:15,  1.57it/s]\u001B[A\n",
      "Processing examples in test:  66%|██████▌   | 6597/10000 [1:33:01<27:50,  2.04it/s]\u001B[A\n",
      "Processing examples in test:  66%|██████▌   | 6599/10000 [1:33:02<30:25,  1.86it/s]\u001B[A\n",
      "Processing examples in test:  66%|██████▌   | 6600/10000 [1:33:03<32:04,  1.77it/s]\u001B[A\n",
      "Processing examples in test:  66%|██████▌   | 6602/10000 [1:33:05<36:45,  1.54it/s]\u001B[A\n",
      "Processing examples in test:  66%|██████▌   | 6603/10000 [1:33:07<49:26,  1.15it/s]\u001B[A\n",
      "Processing examples in test:  66%|██████▌   | 6605/10000 [1:33:09<49:58,  1.13it/s]\u001B[A\n",
      "Processing examples in test:  66%|██████▌   | 6607/10000 [1:33:11<51:48,  1.09it/s]\u001B[A\n",
      "Processing examples in test:  66%|██████▌   | 6610/10000 [1:33:17<1:16:20,  1.35s/it]\u001B[A\n",
      "Processing examples in test:  66%|██████▌   | 6613/10000 [1:33:19<1:02:22,  1.11s/it]\u001B[A\n",
      "Processing examples in test:  66%|██████▌   | 6614/10000 [1:33:20<1:07:28,  1.20s/it]\u001B[A\n",
      "Processing examples in test:  66%|██████▌   | 6618/10000 [1:33:22<43:29,  1.30it/s]  \u001B[A\n",
      "Processing examples in test:  66%|██████▌   | 6619/10000 [1:33:23<51:22,  1.10it/s]\u001B[A\n",
      "Processing examples in test:  66%|██████▌   | 6621/10000 [1:33:24<41:53,  1.34it/s]\u001B[A\n",
      "Processing examples in test:  66%|██████▋   | 6627/10000 [1:33:25<24:04,  2.33it/s]\u001B[A\n",
      "Processing examples in test:  66%|██████▋   | 6631/10000 [1:33:26<22:22,  2.51it/s]\u001B[A\n",
      "Processing examples in test:  66%|██████▋   | 6632/10000 [1:33:27<24:27,  2.29it/s]\u001B[A\n",
      "Processing examples in test:  66%|██████▋   | 6633/10000 [1:33:28<29:54,  1.88it/s]\u001B[A\n",
      "Processing examples in test:  66%|██████▋   | 6635/10000 [1:33:30<32:42,  1.71it/s]\u001B[A\n",
      "Processing examples in test:  66%|██████▋   | 6636/10000 [1:33:31<37:20,  1.50it/s]\u001B[A\n",
      "Processing examples in test:  66%|██████▋   | 6640/10000 [1:33:32<28:36,  1.96it/s]\u001B[A\n",
      "Processing examples in test:  66%|██████▋   | 6644/10000 [1:33:34<24:53,  2.25it/s]\u001B[A\n",
      "Processing examples in test:  66%|██████▋   | 6645/10000 [1:33:35<34:52,  1.60it/s]\u001B[A\n",
      "Processing examples in test:  66%|██████▋   | 6646/10000 [1:33:37<45:13,  1.24it/s]\u001B[A\n",
      "Processing examples in test:  66%|██████▋   | 6647/10000 [1:33:39<52:15,  1.07it/s]\u001B[A\n",
      "Processing examples in test:  66%|██████▋   | 6648/10000 [1:33:40<57:48,  1.03s/it]\u001B[A\n",
      "Processing examples in test:  66%|██████▋   | 6649/10000 [1:33:43<1:23:57,  1.50s/it]\u001B[A\n",
      "Processing examples in test:  66%|██████▋   | 6650/10000 [1:33:45<1:22:27,  1.48s/it]\u001B[A"
     ]
    },
    {
     "name": "stdout",
     "output_type": "stream",
     "text": [
      "Failed to transform A man with a tattoo on his arm staring to the side with vehicles and buildings behind him. or A man with no tattoos is getting a massage.. Retrying 5 more times ...\n",
      "Failed to transform A man with a tattoo on his arm staring to the side with vehicles and buildings behind him. or A man with no tattoos is getting a massage.. Retrying 4 more times ...\n",
      "Failed to transform A man with a tattoo on his arm staring to the side with vehicles and buildings behind him. or A man with no tattoos is getting a massage.. Retrying 3 more times ...\n",
      "Failed to transform A man with a tattoo on his arm staring to the side with vehicles and buildings behind him. or A man with no tattoos is getting a massage.. Retrying 2 more times ...\n"
     ]
    },
    {
     "name": "stderr",
     "output_type": "stream",
     "text": [
      "\n",
      "Processing examples in test:  67%|██████▋   | 6651/10000 [1:33:49<2:10:53,  2.34s/it]\u001B[A"
     ]
    },
    {
     "name": "stdout",
     "output_type": "stream",
     "text": [
      "Failed to transform A man with a tattoo on his arm staring to the side with vehicles and buildings behind him. or A man with no tattoos is getting a massage.. Retrying 1 more times ...\n"
     ]
    },
    {
     "name": "stderr",
     "output_type": "stream",
     "text": [
      "\n",
      "Processing examples in test:  67%|██████▋   | 6655/10000 [1:33:51<1:08:32,  1.23s/it]\u001B[A\n",
      "Processing examples in test:  67%|██████▋   | 6658/10000 [1:33:52<47:23,  1.18it/s]  \u001B[A\n",
      "Processing examples in test:  67%|██████▋   | 6662/10000 [1:33:54<35:31,  1.57it/s]\u001B[A\n",
      "Processing examples in test:  67%|██████▋   | 6663/10000 [1:33:55<38:53,  1.43it/s]\u001B[A\n",
      "Processing examples in test:  67%|██████▋   | 6664/10000 [1:33:56<45:01,  1.23it/s]\u001B[A"
     ]
    },
    {
     "name": "stdout",
     "output_type": "stream",
     "text": [
      "Failed to transform with A baby eating cake celebrating it's birthday.. Retrying 5 more times...\n",
      "Failed to transform with A baby eating cake celebrating it's birthday.. Retrying 4 more times...\n",
      "Failed to transform with A baby eating cake celebrating it's birthday.. Retrying 3 more times...\n",
      "Failed to transform with A baby eating cake celebrating it's birthday.. Retrying 2 more times...\n"
     ]
    },
    {
     "name": "stderr",
     "output_type": "stream",
     "text": [
      "\n",
      "Processing examples in test:  67%|██████▋   | 6665/10000 [1:34:01<1:24:45,  1.52s/it]\u001B[A"
     ]
    },
    {
     "name": "stdout",
     "output_type": "stream",
     "text": [
      "Failed to transform with A baby eating cake celebrating it's birthday.. Retrying 1 more times...\n"
     ]
    },
    {
     "name": "stderr",
     "output_type": "stream",
     "text": [
      "\n",
      "Processing examples in test:  67%|██████▋   | 6671/10000 [1:34:02<38:50,  1.43it/s]  \u001B[A\n",
      "Processing examples in test:  67%|██████▋   | 6680/10000 [1:34:03<22:18,  2.48it/s]\u001B[A\n",
      "Processing examples in test:  67%|██████▋   | 6681/10000 [1:34:05<28:45,  1.92it/s]\u001B[A\n",
      "Processing examples in test:  67%|██████▋   | 6686/10000 [1:34:07<24:44,  2.23it/s]\u001B[A\n",
      "Processing examples in test:  67%|██████▋   | 6690/10000 [1:34:09<25:34,  2.16it/s]\u001B[A\n",
      "Processing examples in test:  67%|██████▋   | 6691/10000 [1:34:11<32:38,  1.69it/s]\u001B[A\n",
      "Processing examples in test:  67%|██████▋   | 6692/10000 [1:34:12<35:23,  1.56it/s]\u001B[A\n",
      "Processing examples in test:  67%|██████▋   | 6694/10000 [1:34:13<39:06,  1.41it/s]\u001B[A\n",
      "Processing examples in test:  67%|██████▋   | 6696/10000 [1:34:15<41:59,  1.31it/s]\u001B[A\n",
      "Processing examples in test:  67%|██████▋   | 6697/10000 [1:34:16<45:17,  1.22it/s]\u001B[A\n",
      "Processing examples in test:  67%|██████▋   | 6698/10000 [1:34:17<47:53,  1.15it/s]\u001B[A\n",
      "Processing examples in test:  67%|██████▋   | 6699/10000 [1:34:20<1:02:18,  1.13s/it]\u001B[A\n",
      "Processing examples in test:  67%|██████▋   | 6700/10000 [1:34:20<55:58,  1.02s/it]  \u001B[A\n",
      "Processing examples in test:  67%|██████▋   | 6701/10000 [1:34:21<54:31,  1.01it/s]\u001B[A\n",
      "Processing examples in test:  67%|██████▋   | 6703/10000 [1:34:22<47:07,  1.17it/s]\u001B[A\n",
      "Processing examples in test:  67%|██████▋   | 6704/10000 [1:34:23<44:29,  1.23it/s]\u001B[A\n",
      "Processing examples in test:  67%|██████▋   | 6705/10000 [1:34:24<43:21,  1.27it/s]\u001B[A\n",
      "Processing examples in test:  67%|██████▋   | 6706/10000 [1:34:25<53:21,  1.03it/s]\u001B[A\n",
      "Processing examples in test:  67%|██████▋   | 6709/10000 [1:34:27<40:34,  1.35it/s]\u001B[A\n",
      "Processing examples in test:  67%|██████▋   | 6710/10000 [1:34:29<53:12,  1.03it/s]\u001B[A\n",
      "Processing examples in test:  67%|██████▋   | 6711/10000 [1:34:31<1:02:51,  1.15s/it]\u001B[A\n",
      "Processing examples in test:  67%|██████▋   | 6713/10000 [1:34:31<46:22,  1.18it/s]  \u001B[A\n",
      "Processing examples in test:  67%|██████▋   | 6714/10000 [1:34:33<56:22,  1.03s/it]\u001B[A\n",
      "Processing examples in test:  67%|██████▋   | 6716/10000 [1:34:35<51:35,  1.06it/s]\u001B[A\n",
      "Processing examples in test:  67%|██████▋   | 6719/10000 [1:34:36<40:51,  1.34it/s]\u001B[A\n",
      "Processing examples in test:  67%|██████▋   | 6722/10000 [1:34:39<43:47,  1.25it/s]\u001B[A\n",
      "Processing examples in test:  67%|██████▋   | 6724/10000 [1:34:40<38:58,  1.40it/s]\u001B[A\n",
      "Processing examples in test:  67%|██████▋   | 6725/10000 [1:34:41<39:34,  1.38it/s]\u001B[A\n",
      "Processing examples in test:  67%|██████▋   | 6726/10000 [1:34:42<43:07,  1.27it/s]\u001B[A\n",
      "Processing examples in test:  67%|██████▋   | 6727/10000 [1:34:43<48:11,  1.13it/s]\u001B[A\n",
      "Processing examples in test:  67%|██████▋   | 6731/10000 [1:34:44<32:47,  1.66it/s]\u001B[A\n",
      "Processing examples in test:  67%|██████▋   | 6733/10000 [1:34:46<38:36,  1.41it/s]\u001B[A\n",
      "Processing examples in test:  67%|██████▋   | 6737/10000 [1:34:48<33:34,  1.62it/s]\u001B[A\n",
      "Processing examples in test:  67%|██████▋   | 6738/10000 [1:34:50<37:52,  1.44it/s]\u001B[A\n",
      "Processing examples in test:  67%|██████▋   | 6739/10000 [1:34:52<50:06,  1.08it/s]\u001B[A\n",
      "Processing examples in test:  67%|██████▋   | 6741/10000 [1:34:53<50:16,  1.08it/s]\u001B[A\n",
      "Processing examples in test:  67%|██████▋   | 6742/10000 [1:34:54<48:06,  1.13it/s]\u001B[A\n",
      "Processing examples in test:  67%|██████▋   | 6746/10000 [1:34:55<27:56,  1.94it/s]\u001B[A\n",
      "Processing examples in test:  67%|██████▋   | 6747/10000 [1:34:57<38:26,  1.41it/s]\u001B[A\n",
      "Processing examples in test:  68%|██████▊   | 6750/10000 [1:34:58<32:29,  1.67it/s]\u001B[A\n",
      "Processing examples in test:  68%|██████▊   | 6751/10000 [1:35:00<47:01,  1.15it/s]\u001B[A\n",
      "Processing examples in test:  68%|██████▊   | 6752/10000 [1:35:02<54:41,  1.01s/it]\u001B[A\n",
      "Processing examples in test:  68%|██████▊   | 6753/10000 [1:35:04<1:05:19,  1.21s/it]\u001B[A\n",
      "Processing examples in test:  68%|██████▊   | 6755/10000 [1:35:05<48:27,  1.12it/s]  \u001B[A\n",
      "Processing examples in test:  68%|██████▊   | 6758/10000 [1:35:07<43:38,  1.24it/s]\u001B[A\n",
      "Processing examples in test:  68%|██████▊   | 6760/10000 [1:35:08<44:00,  1.23it/s]\u001B[A\n",
      "Processing examples in test:  68%|██████▊   | 6762/10000 [1:35:09<39:30,  1.37it/s]\u001B[A\n",
      "Processing examples in test:  68%|██████▊   | 6763/10000 [1:35:10<39:01,  1.38it/s]\u001B[A\n",
      "Processing examples in test:  68%|██████▊   | 6764/10000 [1:35:12<52:50,  1.02it/s]\u001B[A\n",
      "Processing examples in test:  68%|██████▊   | 6765/10000 [1:35:14<1:04:43,  1.20s/it]\u001B[A\n",
      "Processing examples in test:  68%|██████▊   | 6766/10000 [1:35:16<1:12:41,  1.35s/it]\u001B[A\n",
      "Processing examples in test:  68%|██████▊   | 6768/10000 [1:35:17<51:17,  1.05it/s]  \u001B[A\n",
      "Processing examples in test:  68%|██████▊   | 6769/10000 [1:35:18<53:23,  1.01it/s]\u001B[A\n",
      "Processing examples in test:  68%|██████▊   | 6773/10000 [1:35:19<31:30,  1.71it/s]\u001B[A\n",
      "Processing examples in test:  68%|██████▊   | 6774/10000 [1:35:20<32:52,  1.64it/s]\u001B[A\n",
      "Processing examples in test:  68%|██████▊   | 6775/10000 [1:35:21<38:15,  1.41it/s]\u001B[A\n",
      "Processing examples in test:  68%|██████▊   | 6776/10000 [1:35:22<42:22,  1.27it/s]\u001B[A\n",
      "Processing examples in test:  68%|██████▊   | 6777/10000 [1:35:23<54:27,  1.01s/it]\u001B[A\n",
      "Processing examples in test:  68%|██████▊   | 6778/10000 [1:35:25<55:30,  1.03s/it]\u001B[A\n",
      "Processing examples in test:  68%|██████▊   | 6779/10000 [1:35:26<55:49,  1.04s/it]\u001B[A\n",
      "Processing examples in test:  68%|██████▊   | 6783/10000 [1:35:27<35:17,  1.52it/s]\u001B[A\n",
      "Processing examples in test:  68%|██████▊   | 6788/10000 [1:35:29<28:06,  1.90it/s]\u001B[A\n",
      "Processing examples in test:  68%|██████▊   | 6789/10000 [1:35:30<29:42,  1.80it/s]\u001B[A\n",
      "Processing examples in test:  68%|██████▊   | 6790/10000 [1:35:31<31:34,  1.69it/s]\u001B[A\n",
      "Processing examples in test:  68%|██████▊   | 6793/10000 [1:35:32<28:32,  1.87it/s]\u001B[A\n",
      "Processing examples in test:  68%|██████▊   | 6796/10000 [1:35:34<30:02,  1.78it/s]\u001B[A\n",
      "Processing examples in test:  68%|██████▊   | 6798/10000 [1:35:35<26:48,  1.99it/s]\u001B[A\n",
      "Processing examples in test:  68%|██████▊   | 6800/10000 [1:35:36<30:18,  1.76it/s]\u001B[A\n",
      "Processing examples in test:  68%|██████▊   | 6804/10000 [1:35:37<23:29,  2.27it/s]\u001B[A\n",
      "Processing examples in test:  68%|██████▊   | 6812/10000 [1:35:39<15:38,  3.40it/s]\u001B[A\n",
      "Processing examples in test:  68%|██████▊   | 6813/10000 [1:35:39<17:34,  3.02it/s]\u001B[A\n",
      "Processing examples in test:  68%|██████▊   | 6814/10000 [1:35:40<22:09,  2.40it/s]\u001B[A\n",
      "Processing examples in test:  68%|██████▊   | 6816/10000 [1:35:42<28:58,  1.83it/s]\u001B[A\n",
      "Processing examples in test:  68%|██████▊   | 6818/10000 [1:35:44<35:44,  1.48it/s]\u001B[A\n",
      "Processing examples in test:  68%|██████▊   | 6819/10000 [1:35:46<46:07,  1.15it/s]\u001B[A\n",
      "Processing examples in test:  68%|██████▊   | 6820/10000 [1:35:48<56:46,  1.07s/it]\u001B[A\n",
      "Processing examples in test:  68%|██████▊   | 6821/10000 [1:35:50<1:05:52,  1.24s/it]\u001B[A\n",
      "Processing examples in test:  68%|██████▊   | 6822/10000 [1:35:53<1:25:44,  1.62s/it]\u001B[A\n",
      "Processing examples in test:  68%|██████▊   | 6823/10000 [1:35:55<1:29:25,  1.69s/it]\u001B[A\n",
      "Processing examples in test:  68%|██████▊   | 6825/10000 [1:35:56<1:05:21,  1.24s/it]\u001B[A\n",
      "Processing examples in test:  68%|██████▊   | 6830/10000 [1:35:58<35:14,  1.50it/s]  \u001B[A\n",
      "Processing examples in test:  68%|██████▊   | 6831/10000 [1:35:59<41:36,  1.27it/s]\u001B[A\n",
      "Processing examples in test:  68%|██████▊   | 6833/10000 [1:36:00<38:03,  1.39it/s]\u001B[A\n",
      "Processing examples in test:  68%|██████▊   | 6834/10000 [1:36:02<47:36,  1.11it/s]\u001B[A\n",
      "Processing examples in test:  68%|██████▊   | 6835/10000 [1:36:04<57:11,  1.08s/it]\u001B[A\n",
      "Processing examples in test:  68%|██████▊   | 6836/10000 [1:36:05<54:20,  1.03s/it]\u001B[A\n",
      "Processing examples in test:  68%|██████▊   | 6839/10000 [1:36:06<37:37,  1.40it/s]\u001B[A\n",
      "Processing examples in test:  68%|██████▊   | 6840/10000 [1:36:07<41:36,  1.27it/s]\u001B[A\n",
      "Processing examples in test:  68%|██████▊   | 6842/10000 [1:36:09<45:53,  1.15it/s]\u001B[A\n",
      "Processing examples in test:  68%|██████▊   | 6844/10000 [1:36:11<44:44,  1.18it/s]\u001B[A\n",
      "Processing examples in test:  68%|██████▊   | 6846/10000 [1:36:12<39:52,  1.32it/s]\u001B[A\n",
      "Processing examples in test:  68%|██████▊   | 6848/10000 [1:36:14<43:19,  1.21it/s]\u001B[A\n",
      "Processing examples in test:  68%|██████▊   | 6849/10000 [1:36:14<43:47,  1.20it/s]\u001B[A\n",
      "Processing examples in test:  69%|██████▊   | 6852/10000 [1:36:16<39:52,  1.32it/s]\u001B[A\n",
      "Processing examples in test:  69%|██████▊   | 6853/10000 [1:36:18<50:29,  1.04it/s]\u001B[A\n",
      "Processing examples in test:  69%|██████▊   | 6857/10000 [1:36:20<37:15,  1.41it/s]\u001B[A\n",
      "Processing examples in test:  69%|██████▊   | 6858/10000 [1:36:22<47:32,  1.10it/s]\u001B[A\n",
      "Processing examples in test:  69%|██████▊   | 6860/10000 [1:36:23<38:19,  1.37it/s]\u001B[A\n",
      "Processing examples in test:  69%|██████▊   | 6863/10000 [1:36:25<35:54,  1.46it/s]\u001B[A\n",
      "Processing examples in test:  69%|██████▊   | 6864/10000 [1:36:27<46:17,  1.13it/s]\u001B[A\n",
      "Processing examples in test:  69%|██████▊   | 6865/10000 [1:36:27<45:03,  1.16it/s]\u001B[A\n",
      "Processing examples in test:  69%|██████▊   | 6867/10000 [1:36:29<45:35,  1.15it/s]\u001B[A\n",
      "Processing examples in test:  69%|██████▊   | 6868/10000 [1:36:30<48:06,  1.09it/s]\u001B[A\n",
      "Processing examples in test:  69%|██████▊   | 6869/10000 [1:36:32<59:40,  1.14s/it]\u001B[A\n",
      "Processing examples in test:  69%|██████▊   | 6870/10000 [1:36:33<55:29,  1.06s/it]\u001B[A\n",
      "Processing examples in test:  69%|██████▊   | 6871/10000 [1:36:34<56:09,  1.08s/it]\u001B[A\n",
      "Processing examples in test:  69%|██████▊   | 6872/10000 [1:36:36<1:10:20,  1.35s/it]\u001B[A\n",
      "Processing examples in test:  69%|██████▉   | 6880/10000 [1:36:38<23:50,  2.18it/s]  \u001B[A\n",
      "Processing examples in test:  69%|██████▉   | 6881/10000 [1:36:39<30:23,  1.71it/s]\u001B[A\n",
      "Processing examples in test:  69%|██████▉   | 6882/10000 [1:36:41<40:42,  1.28it/s]\u001B[A\n",
      "Processing examples in test:  69%|██████▉   | 6887/10000 [1:36:43<27:45,  1.87it/s]\u001B[A\n",
      "Processing examples in test:  69%|██████▉   | 6891/10000 [1:36:44<23:03,  2.25it/s]\u001B[A\n",
      "Processing examples in test:  69%|██████▉   | 6894/10000 [1:36:45<21:40,  2.39it/s]\u001B[A\n",
      "Processing examples in test:  69%|██████▉   | 6895/10000 [1:36:46<28:20,  1.83it/s]\u001B[A\n",
      "Processing examples in test:  69%|██████▉   | 6899/10000 [1:36:48<23:16,  2.22it/s]\u001B[A\n",
      "Processing examples in test:  69%|██████▉   | 6900/10000 [1:36:49<27:13,  1.90it/s]\u001B[A\n",
      "Processing examples in test:  69%|██████▉   | 6902/10000 [1:36:49<25:16,  2.04it/s]\u001B[A"
     ]
    },
    {
     "name": "stdout",
     "output_type": "stream",
     "text": [
      "Failed to transform Two babies, one in red, asleep in their highchairs. or Babies making poopies while playing in the sand on a Florida beach.. Retrying 5 more times ...\n",
      "Failed to transform Two babies, one in red, asleep in their highchairs. or Babies making poopies while playing in the sand on a Florida beach.. Retrying 4 more times ...\n",
      "Failed to transform Two babies, one in red, asleep in their highchairs. or Babies making poopies while playing in the sand on a Florida beach.. Retrying 3 more times ...\n",
      "Failed to transform Two babies, one in red, asleep in their highchairs. or Babies making poopies while playing in the sand on a Florida beach.. Retrying 2 more times ...\n"
     ]
    },
    {
     "name": "stderr",
     "output_type": "stream",
     "text": [
      "\n",
      "Processing examples in test:  69%|██████▉   | 6904/10000 [1:36:54<53:29,  1.04s/it]\u001B[A"
     ]
    },
    {
     "name": "stdout",
     "output_type": "stream",
     "text": [
      "Failed to transform Two babies, one in red, asleep in their highchairs. or Babies making poopies while playing in the sand on a Florida beach.. Retrying 1 more times ...\n"
     ]
    },
    {
     "name": "stderr",
     "output_type": "stream",
     "text": [
      "\n",
      "Processing examples in test:  69%|██████▉   | 6905/10000 [1:36:56<1:01:25,  1.19s/it]\u001B[A\n",
      "Processing examples in test:  69%|██████▉   | 6913/10000 [1:37:01<39:37,  1.30it/s]  \u001B[A\n",
      "Processing examples in test:  69%|██████▉   | 6915/10000 [1:37:01<35:42,  1.44it/s]\u001B[A\n",
      "Processing examples in test:  69%|██████▉   | 6916/10000 [1:37:02<35:46,  1.44it/s]\u001B[A\n",
      "Processing examples in test:  69%|██████▉   | 6917/10000 [1:37:03<39:32,  1.30it/s]\u001B[A\n",
      "Processing examples in test:  69%|██████▉   | 6918/10000 [1:37:04<42:32,  1.21it/s]\u001B[A\n",
      "Processing examples in test:  69%|██████▉   | 6923/10000 [1:37:06<30:30,  1.68it/s]\u001B[A\n",
      "Processing examples in test:  69%|██████▉   | 6925/10000 [1:37:08<30:37,  1.67it/s]\u001B[A\n",
      "Processing examples in test:  69%|██████▉   | 6927/10000 [1:37:10<37:33,  1.36it/s]\u001B[A\n",
      "Processing examples in test:  69%|██████▉   | 6929/10000 [1:37:12<40:03,  1.28it/s]\u001B[A\n",
      "Processing examples in test:  69%|██████▉   | 6931/10000 [1:37:13<35:00,  1.46it/s]\u001B[A\n",
      "Processing examples in test:  69%|██████▉   | 6932/10000 [1:37:14<44:44,  1.14it/s]\u001B[A\n",
      "Processing examples in test:  69%|██████▉   | 6933/10000 [1:37:15<42:47,  1.19it/s]\u001B[A\n",
      "Processing examples in test:  69%|██████▉   | 6934/10000 [1:37:16<46:49,  1.09it/s]\u001B[A\n",
      "Processing examples in test:  69%|██████▉   | 6935/10000 [1:37:17<47:15,  1.08it/s]\u001B[A\n",
      "Processing examples in test:  69%|██████▉   | 6938/10000 [1:37:19<40:28,  1.26it/s]\u001B[A\n",
      "Processing examples in test:  69%|██████▉   | 6940/10000 [1:37:20<36:22,  1.40it/s]\u001B[A\n",
      "Processing examples in test:  69%|██████▉   | 6943/10000 [1:37:21<28:47,  1.77it/s]\u001B[A\n",
      "Processing examples in test:  69%|██████▉   | 6944/10000 [1:37:22<29:46,  1.71it/s]\u001B[A\n",
      "Processing examples in test:  69%|██████▉   | 6945/10000 [1:37:24<39:26,  1.29it/s]\u001B[A\n",
      "Processing examples in test:  69%|██████▉   | 6946/10000 [1:37:26<51:12,  1.01s/it]\u001B[A\n",
      "Processing examples in test:  69%|██████▉   | 6947/10000 [1:37:27<1:01:30,  1.21s/it]\u001B[A\n",
      "Processing examples in test:  69%|██████▉   | 6948/10000 [1:37:28<56:13,  1.11s/it]  \u001B[A\n",
      "Processing examples in test:  70%|██████▉   | 6951/10000 [1:37:29<33:02,  1.54it/s]\u001B[A\n",
      "Processing examples in test:  70%|██████▉   | 6953/10000 [1:37:30<28:06,  1.81it/s]\u001B[A\n",
      "Processing examples in test:  70%|██████▉   | 6954/10000 [1:37:30<29:36,  1.71it/s]\u001B[A\n",
      "Processing examples in test:  70%|██████▉   | 6956/10000 [1:37:31<26:09,  1.94it/s]\u001B[A\n",
      "Processing examples in test:  70%|██████▉   | 6957/10000 [1:37:33<39:47,  1.27it/s]\u001B[A\n",
      "Processing examples in test:  70%|██████▉   | 6958/10000 [1:37:35<51:54,  1.02s/it]\u001B[A\n",
      "Processing examples in test:  70%|██████▉   | 6959/10000 [1:37:37<1:02:17,  1.23s/it]\u001B[A\n",
      "Processing examples in test:  70%|██████▉   | 6960/10000 [1:37:39<1:14:35,  1.47s/it]\u001B[A\n",
      "Processing examples in test:  70%|██████▉   | 6961/10000 [1:37:40<1:04:06,  1.27s/it]\u001B[A\n",
      "Processing examples in test:  70%|██████▉   | 6962/10000 [1:37:41<1:03:59,  1.26s/it]\u001B[A\n",
      "Processing examples in test:  70%|██████▉   | 6963/10000 [1:37:43<1:12:50,  1.44s/it]\u001B[A\n",
      "Processing examples in test:  70%|██████▉   | 6964/10000 [1:37:44<1:15:39,  1.50s/it]\u001B[A\n",
      "Processing examples in test:  70%|██████▉   | 6966/10000 [1:37:45<54:00,  1.07s/it]  \u001B[A\n",
      "Processing examples in test:  70%|██████▉   | 6967/10000 [1:37:46<50:28,  1.00it/s]\u001B[A"
     ]
    },
    {
     "name": "stdout",
     "output_type": "stream",
     "text": [
      "Failed to transform Little boy in a green sweatshirt playing with his toy train. or A boy is playing with his scale model train.. Retrying 5 more times ...\n",
      "Failed to transform Little boy in a green sweatshirt playing with his toy train. or A boy is playing with his scale model train.. Retrying 4 more times ...\n",
      "Failed to transform Little boy in a green sweatshirt playing with his toy train. or A boy is playing with his scale model train.. Retrying 3 more times ...\n",
      "Failed to transform Little boy in a green sweatshirt playing with his toy train. or A boy is playing with his scale model train.. Retrying 2 more times ...\n"
     ]
    },
    {
     "name": "stderr",
     "output_type": "stream",
     "text": [
      "\n",
      "Processing examples in test:  70%|██████▉   | 6970/10000 [1:37:52<1:17:42,  1.54s/it]\u001B[A"
     ]
    },
    {
     "name": "stdout",
     "output_type": "stream",
     "text": [
      "Failed to transform Little boy in a green sweatshirt playing with his toy train. or A boy is playing with his scale model train.. Retrying 1 more times ...\n"
     ]
    },
    {
     "name": "stderr",
     "output_type": "stream",
     "text": [
      "\n",
      "Processing examples in test:  70%|██████▉   | 6976/10000 [1:37:55<42:23,  1.19it/s]  \u001B[A\n",
      "Processing examples in test:  70%|██████▉   | 6977/10000 [1:37:57<50:01,  1.01it/s]\u001B[A\n",
      "Processing examples in test:  70%|██████▉   | 6980/10000 [1:37:58<39:53,  1.26it/s]\u001B[A\n",
      "Processing examples in test:  70%|██████▉   | 6982/10000 [1:38:00<45:05,  1.12it/s]\u001B[A\n",
      "Processing examples in test:  70%|██████▉   | 6983/10000 [1:38:02<52:33,  1.05s/it]\u001B[A\n",
      "Processing examples in test:  70%|██████▉   | 6984/10000 [1:38:04<59:25,  1.18s/it]\u001B[A\n",
      "Processing examples in test:  70%|██████▉   | 6985/10000 [1:38:06<1:05:26,  1.30s/it]\u001B[A\n",
      "Processing examples in test:  70%|██████▉   | 6987/10000 [1:38:07<51:29,  1.03s/it]  \u001B[A\n",
      "Processing examples in test:  70%|██████▉   | 6990/10000 [1:38:09<42:56,  1.17it/s]\u001B[A\n",
      "Processing examples in test:  70%|██████▉   | 6991/10000 [1:38:10<48:44,  1.03it/s]\u001B[A\n",
      "Processing examples in test:  70%|██████▉   | 6992/10000 [1:38:11<49:43,  1.01it/s]\u001B[A\n",
      "Processing examples in test:  70%|██████▉   | 6994/10000 [1:38:13<44:23,  1.13it/s]\u001B[A\n",
      "Processing examples in test:  70%|██████▉   | 6997/10000 [1:38:15<39:39,  1.26it/s]\u001B[A\n",
      "Processing examples in test:  70%|██████▉   | 6998/10000 [1:38:16<45:44,  1.09it/s]\u001B[A\n",
      "Processing examples in test:  70%|██████▉   | 6999/10000 [1:38:17<47:12,  1.06it/s]\u001B[A\n",
      "Processing examples in test:  70%|███████   | 7005/10000 [1:38:19<25:02,  1.99it/s]\u001B[A\n",
      "Processing examples in test:  70%|███████   | 7008/10000 [1:38:23<40:14,  1.24it/s]\u001B[A\n",
      "Processing examples in test:  70%|███████   | 7013/10000 [1:38:28<42:10,  1.18it/s]\u001B[A\n",
      "Processing examples in test:  70%|███████   | 7014/10000 [1:38:29<44:38,  1.11it/s]\u001B[A\n",
      "Processing examples in test:  70%|███████   | 7015/10000 [1:38:31<52:39,  1.06s/it]\u001B[A\n",
      "Processing examples in test:  70%|███████   | 7016/10000 [1:38:33<59:45,  1.20s/it]\u001B[A\n",
      "Processing examples in test:  70%|███████   | 7017/10000 [1:38:34<1:00:21,  1.21s/it]\u001B[A\n",
      "Processing examples in test:  70%|███████   | 7018/10000 [1:38:36<1:00:14,  1.21s/it]\u001B[A\n",
      "Processing examples in test:  70%|███████   | 7019/10000 [1:38:37<1:07:42,  1.36s/it]\u001B[A\n",
      "Processing examples in test:  70%|███████   | 7022/10000 [1:38:39<43:20,  1.15it/s]  \u001B[A\n",
      "Processing examples in test:  70%|███████   | 7024/10000 [1:38:40<44:18,  1.12it/s]\u001B[A\n",
      "Processing examples in test:  70%|███████   | 7027/10000 [1:38:42<39:39,  1.25it/s]\u001B[A\n",
      "Processing examples in test:  70%|███████   | 7028/10000 [1:38:44<45:14,  1.10it/s]\u001B[A\n",
      "Processing examples in test:  70%|███████   | 7031/10000 [1:38:47<48:50,  1.01it/s]\u001B[A\n",
      "Processing examples in test:  70%|███████   | 7032/10000 [1:38:52<1:21:48,  1.65s/it]\u001B[A\n",
      "Processing examples in test:  70%|███████   | 7038/10000 [1:38:54<40:06,  1.23it/s]  \u001B[A\n",
      "Processing examples in test:  70%|███████   | 7040/10000 [1:38:55<39:10,  1.26it/s]\u001B[A\n",
      "Processing examples in test:  70%|███████   | 7041/10000 [1:38:56<42:40,  1.16it/s]\u001B[A\n",
      "Processing examples in test:  70%|███████   | 7042/10000 [1:38:58<50:26,  1.02s/it]\u001B[A"
     ]
    },
    {
     "name": "stdout",
     "output_type": "stream",
     "text": [
      "Failed to transform A woman with long hair pointing her camera skyward as she stands on a brick wall. or A woman is pointing her camera upwards, while standing at a wall.. Retrying 5 more times ...\n",
      "Failed to transform A woman with long hair pointing her camera skyward as she stands on a brick wall. or A woman is pointing her camera upwards, while standing at a wall.. Retrying 4 more times ...\n",
      "Failed to transform A woman with long hair pointing her camera skyward as she stands on a brick wall. or A woman is pointing her camera upwards, while standing at a wall.. Retrying 3 more times ...\n",
      "Failed to transform A woman with long hair pointing her camera skyward as she stands on a brick wall. or A woman is pointing her camera upwards, while standing at a wall.. Retrying 2 more times ...\n"
     ]
    },
    {
     "name": "stderr",
     "output_type": "stream",
     "text": [
      "\n",
      "Processing examples in test:  70%|███████   | 7043/10000 [1:39:04<1:30:35,  1.84s/it]\u001B[A"
     ]
    },
    {
     "name": "stdout",
     "output_type": "stream",
     "text": [
      "Failed to transform A woman with long hair pointing her camera skyward as she stands on a brick wall. or A woman is pointing her camera upwards, while standing at a wall.. Retrying 1 more times ...\n"
     ]
    },
    {
     "name": "stderr",
     "output_type": "stream",
     "text": [
      "\n",
      "Processing examples in test:  70%|███████   | 7046/10000 [1:39:06<1:04:17,  1.31s/it]\u001B[A\n",
      "Processing examples in test:  70%|███████   | 7049/10000 [1:39:07<48:29,  1.01it/s]  \u001B[A\n",
      "Processing examples in test:  70%|███████   | 7050/10000 [1:39:09<59:21,  1.21s/it]\u001B[A\n",
      "Processing examples in test:  71%|███████   | 7053/10000 [1:39:11<46:38,  1.05it/s]\u001B[A\n",
      "Processing examples in test:  71%|███████   | 7055/10000 [1:39:13<45:58,  1.07it/s]\u001B[A\n",
      "Processing examples in test:  71%|███████   | 7061/10000 [1:39:14<25:58,  1.89it/s]\u001B[A\n",
      "Processing examples in test:  71%|███████   | 7062/10000 [1:39:15<29:08,  1.68it/s]\u001B[A\n",
      "Processing examples in test:  71%|███████   | 7064/10000 [1:39:18<38:09,  1.28it/s]\u001B[A\n",
      "Processing examples in test:  71%|███████   | 7067/10000 [1:39:19<33:14,  1.47it/s]\u001B[A\n",
      "Processing examples in test:  71%|███████   | 7068/10000 [1:39:20<33:12,  1.47it/s]\u001B[A\n",
      "Processing examples in test:  71%|███████   | 7071/10000 [1:39:22<32:43,  1.49it/s]\u001B[A\n",
      "Processing examples in test:  71%|███████   | 7072/10000 [1:39:24<44:32,  1.10it/s]\u001B[A"
     ]
    },
    {
     "name": "stdout",
     "output_type": "stream",
     "text": [
      "Failed to transform A cowboy riding  a horse at  a rodeo. or Cowboy feeding his horse.. Retrying 5 more times ...\n",
      "Failed to transform A cowboy a-riding  a horse at  a rodeo. or Cowboy feeding his horse.. Retrying 4 more times ...\n",
      "Failed to transform A cowboy a-riding  a    a rodeo horse. or Cowboy feeding his horse.. Retrying 3 more times ...\n",
      "Failed to transform A cowboy a-a-riding  a    a rodeo horse. or Cowboy feeding his horse.. Retrying 2 more times ...\n"
     ]
    },
    {
     "name": "stderr",
     "output_type": "stream",
     "text": [
      "\n",
      "Processing examples in test:  71%|███████   | 7073/10000 [1:39:32<1:49:11,  2.24s/it]\u001B[A"
     ]
    },
    {
     "name": "stdout",
     "output_type": "stream",
     "text": [
      "Failed to transform A cowboy --riding  a    a rodeo horse. or Cowboy feeding his horse.. Retrying 1 more times ...\n"
     ]
    },
    {
     "name": "stderr",
     "output_type": "stream",
     "text": [
      "\n",
      "Processing examples in test:  71%|███████   | 7077/10000 [1:39:34<1:01:12,  1.26s/it]\u001B[A\n",
      "Processing examples in test:  71%|███████   | 7078/10000 [1:39:36<1:06:43,  1.37s/it]\u001B[A\n",
      "Processing examples in test:  71%|███████   | 7079/10000 [1:39:38<1:12:54,  1.50s/it]\u001B[A\n",
      "Processing examples in test:  71%|███████   | 7084/10000 [1:39:40<43:45,  1.11it/s]  \u001B[A\n",
      "Processing examples in test:  71%|███████   | 7086/10000 [1:39:41<40:11,  1.21it/s]\u001B[A\n",
      "Processing examples in test:  71%|███████   | 7088/10000 [1:39:42<38:00,  1.28it/s]\u001B[A\n",
      "Processing examples in test:  71%|███████   | 7089/10000 [1:39:45<53:13,  1.10s/it]\u001B[A\n",
      "Processing examples in test:  71%|███████   | 7091/10000 [1:39:47<46:34,  1.04it/s]\u001B[A\n",
      "Processing examples in test:  71%|███████   | 7092/10000 [1:39:48<54:45,  1.13s/it]\u001B[A\n",
      "Processing examples in test:  71%|███████   | 7093/10000 [1:39:52<1:14:08,  1.53s/it]\u001B[A\n",
      "Processing examples in test:  71%|███████   | 7095/10000 [1:39:53<1:03:49,  1.32s/it]\u001B[A\n",
      "Processing examples in test:  71%|███████   | 7096/10000 [1:39:55<1:01:53,  1.28s/it]\u001B[A\n",
      "Processing examples in test:  71%|███████   | 7097/10000 [1:39:56<1:08:01,  1.41s/it]\u001B[A\n",
      "Processing examples in test:  71%|███████   | 7098/10000 [1:39:58<1:14:25,  1.54s/it]\u001B[A\n",
      "Processing examples in test:  71%|███████   | 7099/10000 [1:40:01<1:26:55,  1.80s/it]\u001B[A\n",
      "Processing examples in test:  71%|███████   | 7100/10000 [1:40:02<1:22:31,  1.71s/it]\u001B[A\n",
      "Processing examples in test:  71%|███████   | 7101/10000 [1:40:04<1:18:21,  1.62s/it]\u001B[A\n",
      "Processing examples in test:  71%|███████   | 7103/10000 [1:40:06<1:08:01,  1.41s/it]\u001B[A\n",
      "Processing examples in test:  71%|███████   | 7104/10000 [1:40:08<1:14:11,  1.54s/it]\u001B[A\n",
      "Processing examples in test:  71%|███████   | 7106/10000 [1:40:10<1:01:40,  1.28s/it]\u001B[A\n",
      "Processing examples in test:  71%|███████   | 7107/10000 [1:40:12<1:11:43,  1.49s/it]\u001B[A\n",
      "Processing examples in test:  71%|███████   | 7109/10000 [1:40:14<58:00,  1.20s/it]  \u001B[A\n",
      "Processing examples in test:  71%|███████   | 7110/10000 [1:40:16<1:13:38,  1.53s/it]\u001B[A\n",
      "Processing examples in test:  71%|███████   | 7111/10000 [1:40:19<1:25:46,  1.78s/it]\u001B[A\n",
      "Processing examples in test:  71%|███████   | 7112/10000 [1:40:20<1:17:06,  1.60s/it]\u001B[A\n",
      "Processing examples in test:  71%|███████   | 7113/10000 [1:40:22<1:20:41,  1.68s/it]\u001B[A\n",
      "Processing examples in test:  71%|███████   | 7115/10000 [1:40:23<1:03:56,  1.33s/it]\u001B[A\n",
      "Processing examples in test:  71%|███████   | 7116/10000 [1:40:27<1:28:08,  1.83s/it]\u001B[A\n",
      "Processing examples in test:  71%|███████   | 7118/10000 [1:40:28<1:06:30,  1.38s/it]\u001B[A\n",
      "Processing examples in test:  71%|███████   | 7120/10000 [1:40:29<51:32,  1.07s/it]  \u001B[A\n",
      "Processing examples in test:  71%|███████   | 7122/10000 [1:40:31<46:00,  1.04it/s]\u001B[A\n",
      "Processing examples in test:  71%|███████   | 7124/10000 [1:40:32<40:03,  1.20it/s]\u001B[A\n",
      "Processing examples in test:  71%|███████▏  | 7125/10000 [1:40:33<43:26,  1.10it/s]\u001B[A\n",
      "Processing examples in test:  71%|███████▏  | 7126/10000 [1:40:35<49:25,  1.03s/it]\u001B[A\n",
      "Processing examples in test:  71%|███████▏  | 7130/10000 [1:40:36<27:35,  1.73it/s]\u001B[A\n",
      "Processing examples in test:  71%|███████▏  | 7132/10000 [1:40:37<27:30,  1.74it/s]\u001B[A\n",
      "Processing examples in test:  71%|███████▏  | 7134/10000 [1:40:38<30:03,  1.59it/s]\u001B[A\n",
      "Processing examples in test:  71%|███████▏  | 7135/10000 [1:40:41<43:59,  1.09it/s]\u001B[A\n",
      "Processing examples in test:  71%|███████▏  | 7139/10000 [1:40:42<31:23,  1.52it/s]\u001B[A\n",
      "Processing examples in test:  71%|███████▏  | 7141/10000 [1:40:44<35:32,  1.34it/s]\u001B[A\n",
      "Processing examples in test:  71%|███████▏  | 7143/10000 [1:40:46<39:00,  1.22it/s]\u001B[A\n",
      "Processing examples in test:  71%|███████▏  | 7144/10000 [1:40:48<47:30,  1.00it/s]\u001B[A\n",
      "Processing examples in test:  71%|███████▏  | 7145/10000 [1:40:50<51:02,  1.07s/it]\u001B[A\n",
      "Processing examples in test:  71%|███████▏  | 7147/10000 [1:40:51<42:17,  1.12it/s]\u001B[A\n",
      "Processing examples in test:  71%|███████▏  | 7148/10000 [1:40:52<44:00,  1.08it/s]\u001B[A\n",
      "Processing examples in test:  71%|███████▏  | 7149/10000 [1:40:53<51:02,  1.07s/it]\u001B[A\n",
      "Processing examples in test:  72%|███████▏  | 7150/10000 [1:40:55<1:00:19,  1.27s/it]\u001B[A\n",
      "Processing examples in test:  72%|███████▏  | 7157/10000 [1:40:56<22:58,  2.06it/s]  \u001B[A\n",
      "Processing examples in test:  72%|███████▏  | 7158/10000 [1:40:58<31:25,  1.51it/s]\u001B[A\n",
      "Processing examples in test:  72%|███████▏  | 7160/10000 [1:41:00<32:44,  1.45it/s]\u001B[A\n",
      "Processing examples in test:  72%|███████▏  | 7161/10000 [1:41:01<33:49,  1.40it/s]\u001B[A\n",
      "Processing examples in test:  72%|███████▏  | 7162/10000 [1:41:03<50:16,  1.06s/it]\u001B[A\n",
      "Processing examples in test:  72%|███████▏  | 7163/10000 [1:41:04<49:38,  1.05s/it]\u001B[A\n",
      "Processing examples in test:  72%|███████▏  | 7165/10000 [1:41:06<47:18,  1.00s/it]\u001B[A\n",
      "Processing examples in test:  72%|███████▏  | 7166/10000 [1:41:08<54:01,  1.14s/it]\u001B[A\n",
      "Processing examples in test:  72%|███████▏  | 7169/10000 [1:41:10<46:22,  1.02it/s]\u001B[A\n",
      "Processing examples in test:  72%|███████▏  | 7171/10000 [1:41:12<47:38,  1.01s/it]\u001B[A\n",
      "Processing examples in test:  72%|███████▏  | 7173/10000 [1:41:14<49:05,  1.04s/it]\u001B[A\n",
      "Processing examples in test:  72%|███████▏  | 7174/10000 [1:41:16<52:08,  1.11s/it]\u001B[A\n",
      "Processing examples in test:  72%|███████▏  | 7175/10000 [1:41:18<1:06:02,  1.40s/it]\u001B[A\n",
      "Processing examples in test:  72%|███████▏  | 7176/10000 [1:41:20<1:04:50,  1.38s/it]\u001B[A\n",
      "Processing examples in test:  72%|███████▏  | 7179/10000 [1:41:23<55:52,  1.19s/it]  \u001B[A\n",
      "Processing examples in test:  72%|███████▏  | 7180/10000 [1:41:24<52:42,  1.12s/it]\u001B[A\n",
      "Processing examples in test:  72%|███████▏  | 7181/10000 [1:41:25<55:42,  1.19s/it]\u001B[A\n",
      "Processing examples in test:  72%|███████▏  | 7182/10000 [1:41:27<1:06:49,  1.42s/it]\u001B[A\n",
      "Processing examples in test:  72%|███████▏  | 7183/10000 [1:41:29<1:16:09,  1.62s/it]\u001B[A\n",
      "Processing examples in test:  72%|███████▏  | 7186/10000 [1:41:30<45:46,  1.02it/s]  \u001B[A\n",
      "Processing examples in test:  72%|███████▏  | 7187/10000 [1:41:32<47:30,  1.01s/it]\u001B[A\n",
      "Processing examples in test:  72%|███████▏  | 7189/10000 [1:41:33<42:24,  1.10it/s]\u001B[A\n",
      "Processing examples in test:  72%|███████▏  | 7193/10000 [1:41:35<34:21,  1.36it/s]\u001B[A\n",
      "Processing examples in test:  72%|███████▏  | 7195/10000 [1:41:37<36:28,  1.28it/s]\u001B[A\n",
      "Processing examples in test:  72%|███████▏  | 7196/10000 [1:41:39<41:45,  1.12it/s]\u001B[A\n",
      "Processing examples in test:  72%|███████▏  | 7198/10000 [1:41:41<44:42,  1.04it/s]\u001B[A\n",
      "Processing examples in test:  72%|███████▏  | 7200/10000 [1:41:42<39:03,  1.19it/s]\u001B[A\n",
      "Processing examples in test:  72%|███████▏  | 7201/10000 [1:41:46<1:03:25,  1.36s/it]\u001B[A\n",
      "Processing examples in test:  72%|███████▏  | 7202/10000 [1:41:48<1:09:12,  1.48s/it]\u001B[A\n",
      "Processing examples in test:  72%|███████▏  | 7204/10000 [1:41:49<53:58,  1.16s/it]  \u001B[A\n",
      "Processing examples in test:  72%|███████▏  | 7206/10000 [1:41:50<41:15,  1.13it/s]\u001B[A\n",
      "Processing examples in test:  72%|███████▏  | 7210/10000 [1:41:50<24:47,  1.88it/s]\u001B[A\n",
      "Processing examples in test:  72%|███████▏  | 7215/10000 [1:41:52<20:45,  2.24it/s]\u001B[A\n",
      "Processing examples in test:  72%|███████▏  | 7217/10000 [1:41:53<19:49,  2.34it/s]\u001B[A\n",
      "Processing examples in test:  72%|███████▏  | 7220/10000 [1:41:54<19:35,  2.37it/s]\u001B[A\n",
      "Processing examples in test:  72%|███████▏  | 7222/10000 [1:41:55<21:07,  2.19it/s]\u001B[A"
     ]
    },
    {
     "name": "stdout",
     "output_type": "stream",
     "text": [
      "Failed to transform A gentleman with his eyes closed playing an old fluglehorn into a microphone. or A lady with her eyes closed playing an old fluglehorn into a microphone.. Retrying 5 more times ...\n",
      "Failed to transform A gentleman with his eyes closed playing an old fluglehorn into a microphone. or A lady with her eyes closed playing an old fluglehorn into a microphone.. Retrying 4 more times ...\n",
      "Failed to transform A gentleman with his eyes closed playing an old fluglehorn into a microphone. or A lady with her eyes closed playing an old fluglehorn into a microphone.. Retrying 3 more times ...\n",
      "Failed to transform A gentleman with his eyes closed playing an old fluglehorn into a microphone. or A lady with her eyes closed playing an old fluglehorn into a microphone.. Retrying 2 more times ...\n"
     ]
    },
    {
     "name": "stderr",
     "output_type": "stream",
     "text": [
      "\n",
      "Processing examples in test:  72%|███████▏  | 7223/10000 [1:42:01<54:04,  1.17s/it]\u001B[A"
     ]
    },
    {
     "name": "stdout",
     "output_type": "stream",
     "text": [
      "Failed to transform A gentleman with his eyes closed playing an old fluglehorn into a microphone. or A lady with her eyes closed playing an old fluglehorn into a microphone.. Retrying 1 more times ...\n",
      "Failed to transform A gentleman with his eyes closed playing an old fluglehorn into a microphone. or The man is playing an old favorite tune on the flugelhorn.. Retrying 5 more times ...\n",
      "Failed to transform A gentleman with his eyes closed playing an old fluglehorn into a microphone. or The man is playing an old favorite tune on the flugelhorn.. Retrying 4 more times ...\n",
      "Failed to transform A gentleman with his eyes closed playing an old fluglehorn into a microphone. or The man is playing an old favorite tune on the flugelhorn.. Retrying 3 more times ...\n",
      "Failed to transform A gentleman with his eyes closed playing an old fluglehorn into a microphone. or The man is playing an old favorite tune on the flugelhorn.. Retrying 2 more times ...\n"
     ]
    },
    {
     "name": "stderr",
     "output_type": "stream",
     "text": [
      "\n",
      "Processing examples in test:  72%|███████▏  | 7225/10000 [1:42:06<1:13:03,  1.58s/it]\u001B[A"
     ]
    },
    {
     "name": "stdout",
     "output_type": "stream",
     "text": [
      "Failed to transform A gentleman with his eyes closed playing an old fluglehorn into a microphone. or The man is playing an old favorite tune on the flugelhorn.. Retrying 1 more times ...\n"
     ]
    },
    {
     "name": "stderr",
     "output_type": "stream",
     "text": [
      "\n",
      "Processing examples in test:  72%|███████▏  | 7232/10000 [1:42:07<33:13,  1.39it/s]  \u001B[A\n",
      "Processing examples in test:  72%|███████▏  | 7233/10000 [1:42:08<34:10,  1.35it/s]\u001B[A\n",
      "Processing examples in test:  72%|███████▏  | 7234/10000 [1:42:08<34:01,  1.35it/s]\u001B[A\n",
      "Processing examples in test:  72%|███████▏  | 7236/10000 [1:42:09<31:01,  1.48it/s]\u001B[A\n",
      "Processing examples in test:  72%|███████▏  | 7238/10000 [1:42:11<29:47,  1.55it/s]\u001B[A"
     ]
    },
    {
     "name": "stdout",
     "output_type": "stream",
     "text": [
      "Failed to transform a boy in a blue uniform is standing next to a boy in red and a boy in yellow and they are holding baseball gloves. or three boys play volleyball as others watch them.. Retrying 5 more times ...\n",
      "Failed to transform a boy in a blue uniform is standing next to a boy in red and a boy in yellow and they are holding baseball gloves. or three boys play volleyball as others watch them.. Retrying 4 more times ...\n",
      "Failed to transform a boy in a blue uniform is standing next to a boy in red and a boy in yellow and they are holding baseball gloves. or three boys play volleyball as others watch them.. Retrying 3 more times ...\n",
      "Failed to transform a boy in a blue uniform is standing next to a boy in red and a boy in yellow and they are holding baseball gloves. or three boys play volleyball as others watch them.. Retrying 2 more times ...\n"
     ]
    },
    {
     "name": "stderr",
     "output_type": "stream",
     "text": [
      "\n",
      "Processing examples in test:  72%|███████▏  | 7240/10000 [1:42:16<57:50,  1.26s/it]\u001B[A"
     ]
    },
    {
     "name": "stdout",
     "output_type": "stream",
     "text": [
      "Failed to transform a boy in a blue uniform is standing next to a boy in red and a boy in yellow and they are holding baseball gloves. or three boys play volleyball as others watch them.. Retrying 1 more times ...\n"
     ]
    },
    {
     "name": "stderr",
     "output_type": "stream",
     "text": [
      "\n",
      "Processing examples in test:  72%|███████▏  | 7241/10000 [1:42:17<56:53,  1.24s/it]\u001B[A"
     ]
    },
    {
     "name": "stdout",
     "output_type": "stream",
     "text": [
      "Failed to transform Two construction workers climbing the steel ribbed exterior of a new building at their work site. or The workers are climbing to build the steeple.. Retrying 5 more times ...\n",
      "Failed to transform Two construction workers climbing the steel ribbed exterior of a new building at their work site. or The workers are climbing to build the steeple.. Retrying 4 more times ...\n",
      "Failed to transform Two construction workers climbing the steel ribbed exterior of a new building at their work site. or The workers are climbing to build the steeple.. Retrying 3 more times ...\n",
      "Failed to transform Two construction workers climbing the steel ribbed exterior of a new building at their work site. or The workers are climbing to build the steeple.. Retrying 2 more times ...\n"
     ]
    },
    {
     "name": "stderr",
     "output_type": "stream",
     "text": [
      "\n",
      "Processing examples in test:  72%|███████▏  | 7242/10000 [1:42:25<1:52:36,  2.45s/it]\u001B[A"
     ]
    },
    {
     "name": "stdout",
     "output_type": "stream",
     "text": [
      "Failed to transform Two construction workers climbing the steel ribbed exterior of a new building at their work site. or The workers are climbing to build the steeple.. Retrying 1 more times ...\n"
     ]
    },
    {
     "name": "stderr",
     "output_type": "stream",
     "text": [
      "\n",
      "Processing examples in test:  72%|███████▏  | 7243/10000 [1:42:26<1:41:08,  2.20s/it]\u001B[A\n",
      "Processing examples in test:  72%|███████▏  | 7245/10000 [1:42:27<1:13:27,  1.60s/it]\u001B[A\n",
      "Processing examples in test:  72%|███████▏  | 7247/10000 [1:42:29<1:05:21,  1.42s/it]\u001B[A\n",
      "Processing examples in test:  72%|███████▏  | 7248/10000 [1:42:31<1:02:15,  1.36s/it]\u001B[A\n",
      "Processing examples in test:  72%|███████▏  | 7249/10000 [1:42:32<59:43,  1.30s/it]  \u001B[A\n",
      "Processing examples in test:  72%|███████▎  | 7250/10000 [1:42:34<1:15:05,  1.64s/it]\u001B[A\n",
      "Processing examples in test:  73%|███████▎  | 7251/10000 [1:42:37<1:24:27,  1.84s/it]\u001B[A\n",
      "Processing examples in test:  73%|███████▎  | 7252/10000 [1:42:39<1:31:32,  2.00s/it]\u001B[A\n",
      "Processing examples in test:  73%|███████▎  | 7253/10000 [1:42:41<1:29:14,  1.95s/it]\u001B[A\n",
      "Processing examples in test:  73%|███████▎  | 7254/10000 [1:42:43<1:28:04,  1.92s/it]\u001B[A\n",
      "Processing examples in test:  73%|███████▎  | 7259/10000 [1:42:44<37:02,  1.23it/s]  \u001B[A\n",
      "Processing examples in test:  73%|███████▎  | 7262/10000 [1:42:48<46:52,  1.03s/it]\u001B[A\n",
      "Processing examples in test:  73%|███████▎  | 7263/10000 [1:42:49<45:37,  1.00s/it]\u001B[A\n",
      "Processing examples in test:  73%|███████▎  | 7264/10000 [1:42:51<55:31,  1.22s/it]\u001B[A\n",
      "Processing examples in test:  73%|███████▎  | 7266/10000 [1:42:53<51:35,  1.13s/it]\u001B[A\n",
      "Processing examples in test:  73%|███████▎  | 7268/10000 [1:42:54<40:04,  1.14it/s]\u001B[A\n",
      "Processing examples in test:  73%|███████▎  | 7269/10000 [1:42:57<53:12,  1.17s/it]\u001B[A\n",
      "Processing examples in test:  73%|███████▎  | 7270/10000 [1:42:57<49:10,  1.08s/it]\u001B[A\n",
      "Processing examples in test:  73%|███████▎  | 7272/10000 [1:42:58<40:51,  1.11it/s]\u001B[A\n",
      "Processing examples in test:  73%|███████▎  | 7274/10000 [1:43:00<38:58,  1.17it/s]\u001B[A\n",
      "Processing examples in test:  73%|███████▎  | 7276/10000 [1:43:02<37:59,  1.19it/s]\u001B[A\n",
      "Processing examples in test:  73%|███████▎  | 7277/10000 [1:43:03<43:43,  1.04it/s]\u001B[A\n",
      "Processing examples in test:  73%|███████▎  | 7279/10000 [1:43:05<42:22,  1.07it/s]\u001B[A\n",
      "Processing examples in test:  73%|███████▎  | 7280/10000 [1:43:06<44:01,  1.03it/s]\u001B[A\n",
      "Processing examples in test:  73%|███████▎  | 7282/10000 [1:43:07<38:00,  1.19it/s]\u001B[A\n",
      "Processing examples in test:  73%|███████▎  | 7283/10000 [1:43:09<44:43,  1.01it/s]\u001B[A\n",
      "Processing examples in test:  73%|███████▎  | 7285/10000 [1:43:11<44:29,  1.02it/s]\u001B[A\n",
      "Processing examples in test:  73%|███████▎  | 7286/10000 [1:43:13<53:14,  1.18s/it]\u001B[A\n",
      "Processing examples in test:  73%|███████▎  | 7289/10000 [1:43:14<37:28,  1.21it/s]\u001B[A\n",
      "Processing examples in test:  73%|███████▎  | 7294/10000 [1:43:16<27:44,  1.63it/s]\u001B[A\n",
      "Processing examples in test:  73%|███████▎  | 7295/10000 [1:43:18<35:49,  1.26it/s]\u001B[A\n",
      "Processing examples in test:  73%|███████▎  | 7297/10000 [1:43:20<35:41,  1.26it/s]\u001B[A\n",
      "Processing examples in test:  73%|███████▎  | 7299/10000 [1:43:21<33:13,  1.36it/s]\u001B[A\n",
      "Processing examples in test:  73%|███████▎  | 7301/10000 [1:43:23<36:29,  1.23it/s]\u001B[A\n",
      "Processing examples in test:  73%|███████▎  | 7305/10000 [1:43:24<27:32,  1.63it/s]\u001B[A\n",
      "Processing examples in test:  73%|███████▎  | 7308/10000 [1:43:25<23:54,  1.88it/s]\u001B[A\n",
      "Processing examples in test:  73%|███████▎  | 7312/10000 [1:43:27<19:40,  2.28it/s]\u001B[A\n",
      "Processing examples in test:  73%|███████▎  | 7314/10000 [1:43:28<21:38,  2.07it/s]\u001B[A\n",
      "Processing examples in test:  73%|███████▎  | 7316/10000 [1:43:29<22:41,  1.97it/s]\u001B[A\n",
      "Processing examples in test:  73%|███████▎  | 7322/10000 [1:43:30<14:23,  3.10it/s]\u001B[A\n",
      "Processing examples in test:  73%|███████▎  | 7324/10000 [1:43:34<30:38,  1.46it/s]\u001B[A\n",
      "Processing examples in test:  73%|███████▎  | 7325/10000 [1:43:35<31:19,  1.42it/s]\u001B[A\n",
      "Processing examples in test:  73%|███████▎  | 7326/10000 [1:43:36<34:21,  1.30it/s]\u001B[A\n",
      "Processing examples in test:  73%|███████▎  | 7328/10000 [1:43:38<36:05,  1.23it/s]\u001B[A\n",
      "Processing examples in test:  73%|███████▎  | 7330/10000 [1:43:39<32:19,  1.38it/s]\u001B[A\n",
      "Processing examples in test:  73%|███████▎  | 7331/10000 [1:43:40<35:05,  1.27it/s]\u001B[A\n",
      "Processing examples in test:  73%|███████▎  | 7333/10000 [1:43:42<39:11,  1.13it/s]\u001B[A\n",
      "Processing examples in test:  73%|███████▎  | 7334/10000 [1:43:44<46:09,  1.04s/it]\u001B[A\n",
      "Processing examples in test:  73%|███████▎  | 7335/10000 [1:43:46<53:51,  1.21s/it]\u001B[A\n",
      "Processing examples in test:  73%|███████▎  | 7336/10000 [1:43:48<1:00:41,  1.37s/it]\u001B[A\n",
      "Processing examples in test:  73%|███████▎  | 7337/10000 [1:43:50<1:09:53,  1.57s/it]\u001B[A\n",
      "Processing examples in test:  73%|███████▎  | 7341/10000 [1:43:51<35:44,  1.24it/s]  \u001B[A\n",
      "Processing examples in test:  73%|███████▎  | 7347/10000 [1:43:53<23:50,  1.85it/s]\u001B[A\n",
      "Processing examples in test:  73%|███████▎  | 7349/10000 [1:43:54<25:11,  1.75it/s]\u001B[A\n",
      "Processing examples in test:  74%|███████▎  | 7350/10000 [1:43:57<34:29,  1.28it/s]\u001B[A\n",
      "Processing examples in test:  74%|███████▎  | 7353/10000 [1:43:57<25:53,  1.70it/s]\u001B[A\n",
      "Processing examples in test:  74%|███████▎  | 7356/10000 [1:43:59<23:46,  1.85it/s]\u001B[A\n",
      "Processing examples in test:  74%|███████▎  | 7357/10000 [1:44:01<32:50,  1.34it/s]\u001B[A\n",
      "Processing examples in test:  74%|███████▎  | 7359/10000 [1:44:02<34:51,  1.26it/s]\u001B[A\n",
      "Processing examples in test:  74%|███████▎  | 7360/10000 [1:44:04<37:16,  1.18it/s]\u001B[A\n",
      "Processing examples in test:  74%|███████▎  | 7361/10000 [1:44:06<47:41,  1.08s/it]\u001B[A\n",
      "Processing examples in test:  74%|███████▎  | 7363/10000 [1:44:08<45:13,  1.03s/it]\u001B[A"
     ]
    },
    {
     "name": "stdout",
     "output_type": "stream",
     "text": [
      "Failed to transform A young lady toying with her watch. or A woman is fidgeting.. Retrying 5 more times ...\n",
      "Failed to transform A young lady toying with her watch. or A woman is fidgeting.. Retrying 4 more times ...\n",
      "Failed to transform A young lady toying with her watch. or A woman is fidgeting.. Retrying 3 more times ...\n",
      "Failed to transform A young lady toying with her watch. or A woman is fidgeting.. Retrying 2 more times ...\n"
     ]
    },
    {
     "name": "stderr",
     "output_type": "stream",
     "text": [
      "\n",
      "Processing examples in test:  74%|███████▎  | 7368/10000 [1:44:13<45:44,  1.04s/it]\u001B[A"
     ]
    },
    {
     "name": "stdout",
     "output_type": "stream",
     "text": [
      "Failed to transform A young lady toying with her watch. or A woman is fidgeting.. Retrying 1 more times ...\n",
      "Failed to transform A young lady toying with her watch. or A woman is fidgeting with her wallet.. Retrying 5 more times ...\n",
      "Failed to transform A young lady toying with her watch. or A woman is fidgeting with her wallet.. Retrying 4 more times ...\n",
      "Failed to transform A young lady toying with her watch. or A woman is fidgeting with her wallet.. Retrying 3 more times ...\n",
      "Failed to transform A young lady toying with her watch. or A woman is fidgeting with her wallet.. Retrying 2 more times ...\n"
     ]
    },
    {
     "name": "stderr",
     "output_type": "stream",
     "text": [
      "\n",
      "Processing examples in test:  74%|███████▎  | 7369/10000 [1:44:17<1:02:37,  1.43s/it]\u001B[A"
     ]
    },
    {
     "name": "stdout",
     "output_type": "stream",
     "text": [
      "Failed to transform A young lady toying with her watch. or A woman is fidgeting with her wallet.. Retrying 1 more times ...\n"
     ]
    },
    {
     "name": "stderr",
     "output_type": "stream",
     "text": [
      "\n",
      "Processing examples in test:  74%|███████▎  | 7370/10000 [1:44:18<1:00:10,  1.37s/it]\u001B[A\n",
      "Processing examples in test:  74%|███████▎  | 7371/10000 [1:44:20<1:03:35,  1.45s/it]\u001B[A\n",
      "Processing examples in test:  74%|███████▎  | 7372/10000 [1:44:22<1:13:05,  1.67s/it]\u001B[A\n",
      "Processing examples in test:  74%|███████▎  | 7374/10000 [1:44:23<56:57,  1.30s/it]  \u001B[A\n",
      "Processing examples in test:  74%|███████▍  | 7378/10000 [1:44:25<33:47,  1.29it/s]\u001B[A\n",
      "Processing examples in test:  74%|███████▍  | 7379/10000 [1:44:26<39:39,  1.10it/s]\u001B[A\n",
      "Processing examples in test:  74%|███████▍  | 7381/10000 [1:44:28<41:23,  1.05it/s]\u001B[A\n",
      "Processing examples in test:  74%|███████▍  | 7382/10000 [1:44:29<42:59,  1.02it/s]\u001B[A"
     ]
    },
    {
     "name": "stdout",
     "output_type": "stream",
     "text": [
      "Failed to transform Two kids in their pajamas. or Two kids are wearing PJs on pajama day at school.. Retrying 5 more times ...\n",
      "Failed to transform Two kids in their pajamas. or Two kids are wearing PJs on pajama day at school.. Retrying 4 more times ...\n",
      "Failed to transform Two kids in their pajamas. or Two kids are wearing PJs on pajama day at school.. Retrying 3 more times ...\n",
      "Failed to transform Two kids in their pajamas. or Two kids are wearing PJs on pajama day at school.. Retrying 2 more times ...\n"
     ]
    },
    {
     "name": "stderr",
     "output_type": "stream",
     "text": [
      "\n",
      "Processing examples in test:  74%|███████▍  | 7383/10000 [1:44:34<1:18:10,  1.79s/it]\u001B[A"
     ]
    },
    {
     "name": "stdout",
     "output_type": "stream",
     "text": [
      "Failed to transform Two kids in their pajamas. or Two kids are wearing PJs on pajama day at school.. Retrying 1 more times ...\n",
      "Failed to transform Two kids in their pajamas. or Two children are wearing bright bathing suits at the ocean.. Retrying 5 more times ...\n",
      "Failed to transform Two kids in their pajamas. or Two children are wearing bright bathing suits at the ocean.. Retrying 4 more times ...\n",
      "Failed to transform Two kids in their pajamas. or Two children are wearing bright bathing suits at the ocean.. Retrying 3 more times ...\n",
      "Failed to transform Two kids in their pajamas. or Two children are wearing bright bathing suits at the ocean.. Retrying 2 more times ...\n"
     ]
    },
    {
     "name": "stderr",
     "output_type": "stream",
     "text": [
      "\n",
      "Processing examples in test:  74%|███████▍  | 7384/10000 [1:44:40<1:53:01,  2.59s/it]\u001B[A"
     ]
    },
    {
     "name": "stdout",
     "output_type": "stream",
     "text": [
      "Failed to transform Two kids in their pajamas. or Two children are wearing bright bathing suits at the ocean.. Retrying 1 more times ...\n"
     ]
    },
    {
     "name": "stderr",
     "output_type": "stream",
     "text": [
      "\n",
      "Processing examples in test:  74%|███████▍  | 7385/10000 [1:44:40<1:34:11,  2.16s/it]\u001B[A\n",
      "Processing examples in test:  74%|███████▍  | 7387/10000 [1:44:42<1:08:16,  1.57s/it]\u001B[A\n",
      "Processing examples in test:  74%|███████▍  | 7390/10000 [1:44:44<50:33,  1.16s/it]  \u001B[A\n",
      "Processing examples in test:  74%|███████▍  | 7391/10000 [1:44:46<56:02,  1.29s/it]\u001B[A\n",
      "Processing examples in test:  74%|███████▍  | 7393/10000 [1:44:47<44:54,  1.03s/it]\u001B[A\n",
      "Processing examples in test:  74%|███████▍  | 7394/10000 [1:44:49<52:19,  1.20s/it]\u001B[A\n",
      "Processing examples in test:  74%|███████▍  | 7397/10000 [1:44:50<32:46,  1.32it/s]\u001B[A\n",
      "Processing examples in test:  74%|███████▍  | 7398/10000 [1:44:51<41:23,  1.05it/s]\u001B[A\n",
      "Processing examples in test:  74%|███████▍  | 7401/10000 [1:44:53<32:18,  1.34it/s]\u001B[A\n",
      "Processing examples in test:  74%|███████▍  | 7402/10000 [1:44:55<41:24,  1.05it/s]\u001B[A\n",
      "Processing examples in test:  74%|███████▍  | 7403/10000 [1:45:01<1:26:35,  2.00s/it]\u001B[A\n",
      "Processing examples in test:  74%|███████▍  | 7404/10000 [1:45:02<1:15:02,  1.73s/it]\u001B[A\n",
      "Processing examples in test:  74%|███████▍  | 7405/10000 [1:45:04<1:17:08,  1.78s/it]\u001B[A\n",
      "Processing examples in test:  74%|███████▍  | 7408/10000 [1:45:05<44:07,  1.02s/it]  \u001B[A\n",
      "Processing examples in test:  74%|███████▍  | 7409/10000 [1:45:07<54:31,  1.26s/it]\u001B[A\n",
      "Processing examples in test:  74%|███████▍  | 7410/10000 [1:45:08<55:54,  1.30s/it]\u001B[A\n",
      "Processing examples in test:  74%|███████▍  | 7411/10000 [1:45:11<1:06:42,  1.55s/it]\u001B[A\n",
      "Processing examples in test:  74%|███████▍  | 7412/10000 [1:45:13<1:13:02,  1.69s/it]\u001B[A\n",
      "Processing examples in test:  74%|███████▍  | 7414/10000 [1:45:16<1:10:24,  1.63s/it]\u001B[A\n",
      "Processing examples in test:  74%|███████▍  | 7415/10000 [1:45:18<1:13:17,  1.70s/it]\u001B[A\n",
      "Processing examples in test:  74%|███████▍  | 7417/10000 [1:45:20<1:01:50,  1.44s/it]\u001B[A\n",
      "Processing examples in test:  74%|███████▍  | 7422/10000 [1:45:22<36:07,  1.19it/s]  \u001B[A\n",
      "Processing examples in test:  74%|███████▍  | 7423/10000 [1:45:26<52:51,  1.23s/it]\u001B[A\n",
      "Processing examples in test:  74%|███████▍  | 7424/10000 [1:45:28<1:00:18,  1.40s/it]\u001B[A\n",
      "Processing examples in test:  74%|███████▍  | 7425/10000 [1:45:29<1:00:54,  1.42s/it]\u001B[A\n",
      "Processing examples in test:  74%|███████▍  | 7427/10000 [1:45:32<58:24,  1.36s/it]  \u001B[A\n",
      "Processing examples in test:  74%|███████▍  | 7431/10000 [1:45:34<40:14,  1.06it/s]\u001B[A\n",
      "Processing examples in test:  74%|███████▍  | 7435/10000 [1:45:36<31:31,  1.36it/s]\u001B[A\n",
      "Processing examples in test:  74%|███████▍  | 7438/10000 [1:45:38<30:36,  1.40it/s]\u001B[A\n",
      "Processing examples in test:  74%|███████▍  | 7441/10000 [1:45:39<25:06,  1.70it/s]\u001B[A\n",
      "Processing examples in test:  74%|███████▍  | 7442/10000 [1:45:40<29:59,  1.42it/s]\u001B[A\n",
      "Processing examples in test:  74%|███████▍  | 7443/10000 [1:45:42<36:51,  1.16it/s]\u001B[A\n",
      "Processing examples in test:  74%|███████▍  | 7444/10000 [1:45:44<46:10,  1.08s/it]\u001B[A"
     ]
    },
    {
     "name": "stdout",
     "output_type": "stream",
     "text": [
      "Failed to transform A guy surfing in a lake or river while a boat is pulling him or The man is riding a flying surfboard. Retrying 5 more times ...\n",
      "Failed to transform A guy surfing in a lake or river while a boat is pulling him or The man is riding a flying surfboard. Retrying 4 more times ...\n",
      "Failed to transform A guy surfing in a lake or river while a boat is pulling him or The man is riding a flying surfboard. Retrying 3 more times ...\n",
      "Failed to transform A guy surfing in a lake or river while a boat is pulling him or The man is riding a flying surfboard. Retrying 2 more times ...\n"
     ]
    },
    {
     "name": "stderr",
     "output_type": "stream",
     "text": [
      "\n",
      "Processing examples in test:  74%|███████▍  | 7446/10000 [1:45:49<1:09:40,  1.64s/it]\u001B[A"
     ]
    },
    {
     "name": "stdout",
     "output_type": "stream",
     "text": [
      "Failed to transform A guy surfing in a lake or river while a boat is pulling him or The man is riding a flying surfboard. Retrying 1 more times ...\n"
     ]
    },
    {
     "name": "stderr",
     "output_type": "stream",
     "text": [
      "\n",
      "Processing examples in test:  74%|███████▍  | 7450/10000 [1:45:51<46:14,  1.09s/it]  \u001B[A\n",
      "Processing examples in test:  75%|███████▍  | 7457/10000 [1:45:54<27:47,  1.53it/s]\u001B[A\n",
      "Processing examples in test:  75%|███████▍  | 7460/10000 [1:45:55<25:05,  1.69it/s]\u001B[A\n",
      "Processing examples in test:  75%|███████▍  | 7461/10000 [1:45:56<28:20,  1.49it/s]\u001B[A\n",
      "Processing examples in test:  75%|███████▍  | 7462/10000 [1:45:58<35:18,  1.20it/s]\u001B[A\n",
      "Processing examples in test:  75%|███████▍  | 7463/10000 [1:46:00<43:38,  1.03s/it]\u001B[A\n",
      "Processing examples in test:  75%|███████▍  | 7464/10000 [1:46:01<41:48,  1.01it/s]\u001B[A\n",
      "Processing examples in test:  75%|███████▍  | 7465/10000 [1:46:02<46:02,  1.09s/it]\u001B[A\n",
      "Processing examples in test:  75%|███████▍  | 7466/10000 [1:46:03<45:45,  1.08s/it]\u001B[A\n",
      "Processing examples in test:  75%|███████▍  | 7467/10000 [1:46:05<46:42,  1.11s/it]\u001B[A\n",
      "Processing examples in test:  75%|███████▍  | 7471/10000 [1:46:06<25:07,  1.68it/s]\u001B[A\n",
      "Processing examples in test:  75%|███████▍  | 7473/10000 [1:46:07<25:08,  1.68it/s]\u001B[A\n",
      "Processing examples in test:  75%|███████▍  | 7474/10000 [1:46:08<29:50,  1.41it/s]\u001B[A\n",
      "Processing examples in test:  75%|███████▍  | 7476/10000 [1:46:09<25:26,  1.65it/s]\u001B[A\n",
      "Processing examples in test:  75%|███████▍  | 7478/10000 [1:46:10<28:12,  1.49it/s]\u001B[A\n",
      "Processing examples in test:  75%|███████▍  | 7479/10000 [1:46:11<29:03,  1.45it/s]\u001B[A\n",
      "Processing examples in test:  75%|███████▍  | 7480/10000 [1:46:13<39:42,  1.06it/s]\u001B[A\n",
      "Processing examples in test:  75%|███████▍  | 7481/10000 [1:46:15<47:39,  1.14s/it]\u001B[A\n",
      "Processing examples in test:  75%|███████▍  | 7484/10000 [1:46:16<32:44,  1.28it/s]\u001B[A\n",
      "Processing examples in test:  75%|███████▍  | 7486/10000 [1:46:17<30:11,  1.39it/s]\u001B[A"
     ]
    },
    {
     "name": "stdout",
     "output_type": "stream",
     "text": [
      "Failed to transform A woman in a blue uniform, with long curly red-hair, looking at her horse before the race. or The horse has four legs.. Retrying 5 more times ...\n",
      "Failed to transform A woman in a blue uniform, with long curly red-hair, looking at her horse before the race. or The horse has four legs.. Retrying 4 more times ...\n",
      "Failed to transform A woman in a blue uniform, with long curly red-hair, looking at her horse before the race. or The horse has four legs.. Retrying 3 more times ...\n",
      "Failed to transform A woman in a blue uniform, with long curly red-hair, looking at her horse before the race. or The horse has four legs.. Retrying 2 more times ...\n"
     ]
    },
    {
     "name": "stderr",
     "output_type": "stream",
     "text": [
      "\n",
      "Processing examples in test:  75%|███████▍  | 7489/10000 [1:46:23<49:59,  1.19s/it]\u001B[A"
     ]
    },
    {
     "name": "stdout",
     "output_type": "stream",
     "text": [
      "Failed to transform A woman in a blue uniform, with long curly red-hair, looking at her horse before the race. or The horse has four legs.. Retrying 1 more times ...\n"
     ]
    },
    {
     "name": "stderr",
     "output_type": "stream",
     "text": [
      "\n",
      "Processing examples in test:  75%|███████▍  | 7491/10000 [1:46:24<40:49,  1.02it/s]\u001B[A\n",
      "Processing examples in test:  75%|███████▍  | 7492/10000 [1:46:25<45:15,  1.08s/it]\u001B[A\n",
      "Processing examples in test:  75%|███████▍  | 7493/10000 [1:46:27<47:13,  1.13s/it]\u001B[A\n",
      "Processing examples in test:  75%|███████▍  | 7494/10000 [1:46:29<58:06,  1.39s/it]\u001B[A\n",
      "Processing examples in test:  75%|███████▍  | 7495/10000 [1:46:31<1:04:15,  1.54s/it]\u001B[A\n",
      "Processing examples in test:  75%|███████▍  | 7496/10000 [1:46:32<59:54,  1.44s/it]  \u001B[A\n",
      "Processing examples in test:  75%|███████▍  | 7497/10000 [1:46:33<53:23,  1.28s/it]\u001B[A\n",
      "Processing examples in test:  75%|███████▌  | 7501/10000 [1:46:35<33:21,  1.25it/s]\u001B[A\n",
      "Processing examples in test:  75%|███████▌  | 7504/10000 [1:46:37<30:48,  1.35it/s]\u001B[A\n",
      "Processing examples in test:  75%|███████▌  | 7506/10000 [1:46:38<26:30,  1.57it/s]\u001B[A\n",
      "Processing examples in test:  75%|███████▌  | 7507/10000 [1:46:40<34:44,  1.20it/s]\u001B[A\n",
      "Processing examples in test:  75%|███████▌  | 7508/10000 [1:46:42<45:15,  1.09s/it]\u001B[A\n",
      "Processing examples in test:  75%|███████▌  | 7510/10000 [1:46:43<37:41,  1.10it/s]\u001B[A\n",
      "Processing examples in test:  75%|███████▌  | 7511/10000 [1:46:44<41:19,  1.00it/s]\u001B[A\n",
      "Processing examples in test:  75%|███████▌  | 7512/10000 [1:46:46<45:56,  1.11s/it]\u001B[A"
     ]
    },
    {
     "name": "stdout",
     "output_type": "stream",
     "text": [
      "Failed to transform A dad with his child and an apple pie. or A dad and his daughter with an blueberry pie.. Retrying 5 more times ...\n",
      "Failed to transform A dad with his child and an apple pie. or A dad and his daughter with an blueberry pie.. Retrying 4 more times ...\n",
      "Failed to transform A dad with his child and an apple pie. or A dad and his daughter with an blueberry pie.. Retrying 3 more times ...\n",
      "Failed to transform A dad with his child and an apple pie. or A dad and his daughter with an blueberry pie.. Retrying 2 more times ...\n"
     ]
    },
    {
     "name": "stderr",
     "output_type": "stream",
     "text": [
      "\n",
      "Processing examples in test:  75%|███████▌  | 7514/10000 [1:46:52<1:22:31,  1.99s/it]\u001B[A"
     ]
    },
    {
     "name": "stdout",
     "output_type": "stream",
     "text": [
      "Failed to transform A dad with his child and an apple pie. or A dad and his daughter with an blueberry pie.. Retrying 1 more times ...\n"
     ]
    },
    {
     "name": "stderr",
     "output_type": "stream",
     "text": [
      "\n",
      "Processing examples in test:  75%|███████▌  | 7516/10000 [1:46:54<1:03:46,  1.54s/it]\u001B[A\n",
      "Processing examples in test:  75%|███████▌  | 7521/10000 [1:46:56<36:13,  1.14it/s]  \u001B[A\n",
      "Processing examples in test:  75%|███████▌  | 7530/10000 [1:46:58<21:55,  1.88it/s]\u001B[A\n",
      "Processing examples in test:  75%|███████▌  | 7535/10000 [1:47:00<18:01,  2.28it/s]\u001B[A\n",
      "Processing examples in test:  75%|███████▌  | 7536/10000 [1:47:00<19:20,  2.12it/s]\u001B[A\n",
      "Processing examples in test:  75%|███████▌  | 7537/10000 [1:47:02<23:28,  1.75it/s]\u001B[A\n",
      "Processing examples in test:  75%|███████▌  | 7539/10000 [1:47:03<24:45,  1.66it/s]\u001B[A\n",
      "Processing examples in test:  75%|███████▌  | 7541/10000 [1:47:04<22:48,  1.80it/s]\u001B[A\n",
      "Processing examples in test:  75%|███████▌  | 7542/10000 [1:47:07<34:51,  1.18it/s]\u001B[A\n",
      "Processing examples in test:  75%|███████▌  | 7545/10000 [1:47:08<28:19,  1.44it/s]\u001B[A\n",
      "Processing examples in test:  75%|███████▌  | 7547/10000 [1:47:10<30:49,  1.33it/s]\u001B[A\n",
      "Processing examples in test:  76%|███████▌  | 7550/10000 [1:47:12<30:21,  1.35it/s]\u001B[A\n",
      "Processing examples in test:  76%|███████▌  | 7552/10000 [1:47:13<27:59,  1.46it/s]\u001B[A\n",
      "Processing examples in test:  76%|███████▌  | 7553/10000 [1:47:20<1:05:57,  1.62s/it]\u001B[A\n",
      "Processing examples in test:  76%|███████▌  | 7554/10000 [1:47:21<1:03:03,  1.55s/it]\u001B[A\n",
      "Processing examples in test:  76%|███████▌  | 7555/10000 [1:47:22<1:02:09,  1.53s/it]\u001B[A\n",
      "Processing examples in test:  76%|███████▌  | 7557/10000 [1:47:24<55:23,  1.36s/it]  \u001B[A\n",
      "Processing examples in test:  76%|███████▌  | 7560/10000 [1:47:26<41:28,  1.02s/it]\u001B[A\n",
      "Processing examples in test:  76%|███████▌  | 7563/10000 [1:47:27<31:17,  1.30it/s]\u001B[A\n",
      "Processing examples in test:  76%|███████▌  | 7564/10000 [1:47:29<38:53,  1.04it/s]\u001B[A\n",
      "Processing examples in test:  76%|███████▌  | 7567/10000 [1:47:31<32:29,  1.25it/s]\u001B[A\n",
      "Processing examples in test:  76%|███████▌  | 7568/10000 [1:47:32<37:06,  1.09it/s]\u001B[A\n",
      "Processing examples in test:  76%|███████▌  | 7569/10000 [1:47:35<45:41,  1.13s/it]\u001B[A\n",
      "Processing examples in test:  76%|███████▌  | 7570/10000 [1:47:36<51:03,  1.26s/it]\u001B[A\n",
      "Processing examples in test:  76%|███████▌  | 7572/10000 [1:47:38<46:36,  1.15s/it]\u001B[A\n",
      "Processing examples in test:  76%|███████▌  | 7573/10000 [1:47:40<55:34,  1.37s/it]\u001B[A\n",
      "Processing examples in test:  76%|███████▌  | 7574/10000 [1:47:47<1:47:56,  2.67s/it]\u001B[A\n",
      "Processing examples in test:  76%|███████▌  | 7579/10000 [1:47:49<46:14,  1.15s/it]  \u001B[A\n",
      "Processing examples in test:  76%|███████▌  | 7580/10000 [1:47:57<1:31:38,  2.27s/it]\u001B[A\n",
      "Processing examples in test:  76%|███████▌  | 7583/10000 [1:47:58<1:01:58,  1.54s/it]\u001B[A\n",
      "Processing examples in test:  76%|███████▌  | 7586/10000 [1:48:00<48:52,  1.21s/it]  \u001B[A\n",
      "Processing examples in test:  76%|███████▌  | 7588/10000 [1:48:02<47:21,  1.18s/it]\u001B[A\n",
      "Processing examples in test:  76%|███████▌  | 7590/10000 [1:48:04<41:36,  1.04s/it]\u001B[A\n",
      "Processing examples in test:  76%|███████▌  | 7591/10000 [1:48:06<46:36,  1.16s/it]\u001B[A\n",
      "Processing examples in test:  76%|███████▌  | 7593/10000 [1:48:06<36:15,  1.11it/s]\u001B[A\n",
      "Processing examples in test:  76%|███████▌  | 7594/10000 [1:48:08<44:47,  1.12s/it]\u001B[A\n",
      "Processing examples in test:  76%|███████▌  | 7595/10000 [1:48:14<1:26:27,  2.16s/it]\u001B[A\n",
      "Processing examples in test:  76%|███████▌  | 7596/10000 [1:48:16<1:17:17,  1.93s/it]\u001B[A\n",
      "Processing examples in test:  76%|███████▌  | 7597/10000 [1:48:17<1:09:09,  1.73s/it]\u001B[A\n",
      "Processing examples in test:  76%|███████▌  | 7602/10000 [1:48:19<35:00,  1.14it/s]  \u001B[A\n",
      "Processing examples in test:  76%|███████▌  | 7603/10000 [1:48:20<36:58,  1.08it/s]\u001B[A\n",
      "Processing examples in test:  76%|███████▌  | 7604/10000 [1:48:22<43:52,  1.10s/it]\u001B[A\n",
      "Processing examples in test:  76%|███████▌  | 7607/10000 [1:48:24<36:57,  1.08it/s]\u001B[A\n",
      "Processing examples in test:  76%|███████▌  | 7608/10000 [1:48:25<35:51,  1.11it/s]\u001B[A\n",
      "Processing examples in test:  76%|███████▌  | 7609/10000 [1:48:25<34:19,  1.16it/s]\u001B[A\n",
      "Processing examples in test:  76%|███████▌  | 7614/10000 [1:48:26<17:15,  2.30it/s]\u001B[A\n",
      "Processing examples in test:  76%|███████▌  | 7615/10000 [1:48:28<25:37,  1.55it/s]\u001B[A"
     ]
    },
    {
     "name": "stdout",
     "output_type": "stream",
     "text": [
      "Failed to transform with A criminal working his way through the transit station. Retrying 5 more times...\n",
      "Failed to transform with A criminal working his way through the transit station. Retrying 4 more times...\n",
      "Failed to transform with A criminal working his way through the transit station. Retrying 3 more times...\n",
      "Failed to transform with A criminal working his way through the transit station. Retrying 2 more times...\n"
     ]
    },
    {
     "name": "stderr",
     "output_type": "stream",
     "text": [
      "\n",
      "Processing examples in test:  76%|███████▌  | 7616/10000 [1:48:32<51:59,  1.31s/it]\u001B[A"
     ]
    },
    {
     "name": "stdout",
     "output_type": "stream",
     "text": [
      "Failed to transform with A criminal working his way through the transit station. Retrying 1 more times...\n"
     ]
    },
    {
     "name": "stderr",
     "output_type": "stream",
     "text": [
      "\n",
      "Processing examples in test:  76%|███████▌  | 7617/10000 [1:48:34<57:23,  1.44s/it]\u001B[A\n",
      "Processing examples in test:  76%|███████▌  | 7622/10000 [1:48:35<27:18,  1.45it/s]\u001B[A"
     ]
    },
    {
     "name": "stdout",
     "output_type": "stream",
     "text": [
      "Failed to transform with Kids eating cupcakes that their mom gave them.. Retrying 5 more times...\n",
      "Failed to transform with Kids eating cupcakes that their mom gave them.. Retrying 4 more times...\n",
      "Failed to transform with Kids eating cupcakes that their mom gave them.. Retrying 3 more times...\n",
      "Failed to transform with Kids eating cupcakes that their mom gave them.. Retrying 2 more times...\n"
     ]
    },
    {
     "name": "stderr",
     "output_type": "stream",
     "text": [
      "\n",
      "Processing examples in test:  76%|███████▌  | 7623/10000 [1:48:41<54:23,  1.37s/it]\u001B[A"
     ]
    },
    {
     "name": "stdout",
     "output_type": "stream",
     "text": [
      "Failed to transform with Kids eating cupcakes that their mom gave them.. Retrying 1 more times...\n"
     ]
    },
    {
     "name": "stderr",
     "output_type": "stream",
     "text": [
      "\n",
      "Processing examples in test:  76%|███████▌  | 7624/10000 [1:48:43<58:54,  1.49s/it]\u001B[A\n",
      "Processing examples in test:  76%|███████▋  | 7627/10000 [1:48:45<45:16,  1.14s/it]\u001B[A\n",
      "Processing examples in test:  76%|███████▋  | 7630/10000 [1:48:46<33:28,  1.18it/s]\u001B[A\n",
      "Processing examples in test:  76%|███████▋  | 7632/10000 [1:48:47<30:35,  1.29it/s]\u001B[A\n",
      "Processing examples in test:  76%|███████▋  | 7633/10000 [1:48:48<34:16,  1.15it/s]\u001B[A\n",
      "Processing examples in test:  76%|███████▋  | 7634/10000 [1:48:50<40:07,  1.02s/it]\u001B[A\n",
      "Processing examples in test:  76%|███████▋  | 7637/10000 [1:48:52<32:30,  1.21it/s]\u001B[A\n",
      "Processing examples in test:  76%|███████▋  | 7643/10000 [1:48:54<22:54,  1.71it/s]\u001B[A\n",
      "Processing examples in test:  76%|███████▋  | 7644/10000 [1:48:55<23:46,  1.65it/s]\u001B[A\n",
      "Processing examples in test:  76%|███████▋  | 7647/10000 [1:48:57<24:44,  1.58it/s]\u001B[A\n",
      "Processing examples in test:  76%|███████▋  | 7648/10000 [1:48:59<33:34,  1.17it/s]\u001B[A\n",
      "Processing examples in test:  76%|███████▋  | 7650/10000 [1:49:00<28:07,  1.39it/s]\u001B[A\n",
      "Processing examples in test:  77%|███████▋  | 7651/10000 [1:49:02<34:58,  1.12it/s]\u001B[A"
     ]
    },
    {
     "name": "stdout",
     "output_type": "stream",
     "text": [
      "Failed to transform with brown and black dogs carrying a big log in the meadow to show their owner.. Retrying 5 more times...\n",
      "Failed to transform with brown and black dogs carrying a big log in the meadow to show their owner.. Retrying 4 more times...\n",
      "Failed to transform with brown and black dogs carrying a big log in the meadow to show their owner.. Retrying 3 more times...\n",
      "Failed to transform with brown and black dogs carrying a big log in the meadow to show their owner.. Retrying 2 more times...\n"
     ]
    },
    {
     "name": "stderr",
     "output_type": "stream",
     "text": [
      "\n",
      "Processing examples in test:  77%|███████▋  | 7652/10000 [1:49:08<1:13:13,  1.87s/it]\u001B[A"
     ]
    },
    {
     "name": "stdout",
     "output_type": "stream",
     "text": [
      "Failed to transform with brown and black dogs carrying a big log in the meadow to show their owner.. Retrying 1 more times...\n"
     ]
    },
    {
     "name": "stderr",
     "output_type": "stream",
     "text": [
      "\n",
      "Processing examples in test:  77%|███████▋  | 7653/10000 [1:49:10<1:15:44,  1.94s/it]\u001B[A\n",
      "Processing examples in test:  77%|███████▋  | 7654/10000 [1:49:12<1:18:00,  2.00s/it]\u001B[A\n",
      "Processing examples in test:  77%|███████▋  | 7656/10000 [1:49:14<1:06:36,  1.71s/it]\u001B[A\n",
      "Processing examples in test:  77%|███████▋  | 7657/10000 [1:49:16<1:07:19,  1.72s/it]\u001B[A\n",
      "Processing examples in test:  77%|███████▋  | 7660/10000 [1:49:18<43:36,  1.12s/it]  \u001B[A\n",
      "Processing examples in test:  77%|███████▋  | 7667/10000 [1:49:19<20:56,  1.86it/s]\u001B[A\n",
      "Processing examples in test:  77%|███████▋  | 7670/10000 [1:49:21<20:52,  1.86it/s]\u001B[A\n",
      "Processing examples in test:  77%|███████▋  | 7671/10000 [1:49:22<26:46,  1.45it/s]\u001B[A\n",
      "Processing examples in test:  77%|███████▋  | 7675/10000 [1:49:24<20:38,  1.88it/s]\u001B[A\n",
      "Processing examples in test:  77%|███████▋  | 7676/10000 [1:49:24<21:24,  1.81it/s]\u001B[A\n",
      "Processing examples in test:  77%|███████▋  | 7678/10000 [1:49:26<24:56,  1.55it/s]\u001B[A\n",
      "Processing examples in test:  77%|███████▋  | 7681/10000 [1:49:27<20:05,  1.92it/s]\u001B[A\n",
      "Processing examples in test:  77%|███████▋  | 7682/10000 [1:49:28<24:03,  1.61it/s]\u001B[A\n",
      "Processing examples in test:  77%|███████▋  | 7685/10000 [1:49:30<22:38,  1.70it/s]\u001B[A\n",
      "Processing examples in test:  77%|███████▋  | 7687/10000 [1:49:31<22:03,  1.75it/s]\u001B[A\n",
      "Processing examples in test:  77%|███████▋  | 7689/10000 [1:49:32<23:55,  1.61it/s]\u001B[A\n",
      "Processing examples in test:  77%|███████▋  | 7690/10000 [1:49:35<33:50,  1.14it/s]\u001B[A\n",
      "Processing examples in test:  77%|███████▋  | 7691/10000 [1:49:36<36:07,  1.07it/s]\u001B[A\n",
      "Processing examples in test:  77%|███████▋  | 7696/10000 [1:49:38<23:18,  1.65it/s]\u001B[A\n",
      "Processing examples in test:  77%|███████▋  | 7697/10000 [1:49:40<31:19,  1.23it/s]\u001B[A\n",
      "Processing examples in test:  77%|███████▋  | 7699/10000 [1:49:41<30:18,  1.27it/s]\u001B[A\n",
      "Processing examples in test:  77%|███████▋  | 7700/10000 [1:49:43<35:02,  1.09it/s]\u001B[A\n",
      "Processing examples in test:  77%|███████▋  | 7701/10000 [1:49:44<39:00,  1.02s/it]\u001B[A\n",
      "Processing examples in test:  77%|███████▋  | 7702/10000 [1:49:45<40:45,  1.06s/it]\u001B[A\n",
      "Processing examples in test:  77%|███████▋  | 7704/10000 [1:49:46<30:16,  1.26it/s]\u001B[A\n",
      "Processing examples in test:  77%|███████▋  | 7705/10000 [1:49:47<33:16,  1.15it/s]\u001B[A\n",
      "Processing examples in test:  77%|███████▋  | 7707/10000 [1:49:49<32:14,  1.19it/s]\u001B[A\n",
      "Processing examples in test:  77%|███████▋  | 7709/10000 [1:49:50<28:24,  1.34it/s]\u001B[A\n",
      "Processing examples in test:  77%|███████▋  | 7710/10000 [1:49:51<28:13,  1.35it/s]\u001B[A\n",
      "Processing examples in test:  77%|███████▋  | 7711/10000 [1:49:52<36:20,  1.05it/s]\u001B[A\n",
      "Processing examples in test:  77%|███████▋  | 7712/10000 [1:49:54<46:38,  1.22s/it]\u001B[A\n",
      "Processing examples in test:  77%|███████▋  | 7713/10000 [1:49:58<1:09:47,  1.83s/it]\u001B[A\n",
      "Processing examples in test:  77%|███████▋  | 7718/10000 [1:50:00<32:42,  1.16it/s]  \u001B[A\n",
      "Processing examples in test:  77%|███████▋  | 7719/10000 [1:50:02<39:33,  1.04s/it]\u001B[A\n",
      "Processing examples in test:  77%|███████▋  | 7720/10000 [1:50:04<46:50,  1.23s/it]\u001B[A\n",
      "Processing examples in test:  77%|███████▋  | 7724/10000 [1:50:05<28:10,  1.35it/s]\u001B[A\n",
      "Processing examples in test:  77%|███████▋  | 7728/10000 [1:50:07<23:28,  1.61it/s]\u001B[A\n",
      "Processing examples in test:  77%|███████▋  | 7730/10000 [1:50:08<24:49,  1.52it/s]\u001B[A\n",
      "Processing examples in test:  77%|███████▋  | 7731/10000 [1:50:10<31:41,  1.19it/s]\u001B[A\n",
      "Processing examples in test:  77%|███████▋  | 7734/10000 [1:50:12<26:20,  1.43it/s]\u001B[A\n",
      "Processing examples in test:  77%|███████▋  | 7736/10000 [1:50:13<26:24,  1.43it/s]\u001B[A\n",
      "Processing examples in test:  77%|███████▋  | 7739/10000 [1:50:15<25:54,  1.45it/s]\u001B[A\n",
      "Processing examples in test:  77%|███████▋  | 7747/10000 [1:50:16<13:44,  2.73it/s]\u001B[A\n",
      "Processing examples in test:  77%|███████▋  | 7748/10000 [1:50:17<15:30,  2.42it/s]\u001B[A\n",
      "Processing examples in test:  77%|███████▋  | 7749/10000 [1:50:18<18:53,  1.99it/s]\u001B[A\n",
      "Processing examples in test:  78%|███████▊  | 7753/10000 [1:50:20<16:53,  2.22it/s]\u001B[A\n",
      "Processing examples in test:  78%|███████▊  | 7755/10000 [1:50:21<19:10,  1.95it/s]\u001B[A\n",
      "Processing examples in test:  78%|███████▊  | 7759/10000 [1:50:23<19:19,  1.93it/s]\u001B[A\n",
      "Processing examples in test:  78%|███████▊  | 7760/10000 [1:50:24<22:42,  1.64it/s]\u001B[A\n",
      "Processing examples in test:  78%|███████▊  | 7763/10000 [1:50:25<18:01,  2.07it/s]\u001B[A\n",
      "Processing examples in test:  78%|███████▊  | 7764/10000 [1:50:26<21:39,  1.72it/s]\u001B[A"
     ]
    },
    {
     "name": "stdout",
     "output_type": "stream",
     "text": [
      "Failed to transform with A man eats a doughnut with his coffee.. Retrying 5 more times...\n"
     ]
    },
    {
     "name": "stderr",
     "output_type": "stream",
     "text": [
      "\n",
      "Processing examples in test:  78%|███████▊  | 7766/10000 [1:50:31<41:57,  1.13s/it]\u001B[A\n",
      "Processing examples in test:  78%|███████▊  | 7768/10000 [1:50:32<35:04,  1.06it/s]\u001B[A\n",
      "Processing examples in test:  78%|███████▊  | 7769/10000 [1:50:34<42:26,  1.14s/it]\u001B[A\n",
      "Processing examples in test:  78%|███████▊  | 7770/10000 [1:50:39<1:11:37,  1.93s/it]\u001B[A\n",
      "Processing examples in test:  78%|███████▊  | 7771/10000 [1:50:41<1:06:22,  1.79s/it]\u001B[A\n",
      "Processing examples in test:  78%|███████▊  | 7775/10000 [1:50:43<40:27,  1.09s/it]  \u001B[A\n",
      "Processing examples in test:  78%|███████▊  | 7776/10000 [1:50:45<46:09,  1.25s/it]\u001B[A\n",
      "Processing examples in test:  78%|███████▊  | 7777/10000 [1:50:46<43:36,  1.18s/it]\u001B[A\n",
      "Processing examples in test:  78%|███████▊  | 7779/10000 [1:50:47<35:13,  1.05it/s]\u001B[A\n",
      "Processing examples in test:  78%|███████▊  | 7783/10000 [1:50:48<24:38,  1.50it/s]\u001B[A\n",
      "Processing examples in test:  78%|███████▊  | 7784/10000 [1:50:50<29:23,  1.26it/s]\u001B[A\n",
      "Processing examples in test:  78%|███████▊  | 7785/10000 [1:50:54<47:49,  1.30s/it]\u001B[A\n",
      "Processing examples in test:  78%|███████▊  | 7786/10000 [1:50:55<50:38,  1.37s/it]\u001B[A\n",
      "Processing examples in test:  78%|███████▊  | 7787/10000 [1:50:56<47:43,  1.29s/it]\u001B[A\n",
      "Processing examples in test:  78%|███████▊  | 7788/10000 [1:50:58<53:09,  1.44s/it]\u001B[A\n",
      "Processing examples in test:  78%|███████▊  | 7790/10000 [1:51:00<42:38,  1.16s/it]\u001B[A\n",
      "Processing examples in test:  78%|███████▊  | 7792/10000 [1:51:04<58:00,  1.58s/it]\u001B[A\n",
      "Processing examples in test:  78%|███████▊  | 7799/10000 [1:51:06<27:01,  1.36it/s]\u001B[A\n",
      "Processing examples in test:  78%|███████▊  | 7800/10000 [1:51:08<32:57,  1.11it/s]\u001B[A\n",
      "Processing examples in test:  78%|███████▊  | 7801/10000 [1:51:10<39:07,  1.07s/it]\u001B[A\n",
      "Processing examples in test:  78%|███████▊  | 7804/10000 [1:51:12<30:56,  1.18it/s]\u001B[A\n",
      "Processing examples in test:  78%|███████▊  | 7806/10000 [1:51:13<27:53,  1.31it/s]\u001B[A\n",
      "Processing examples in test:  78%|███████▊  | 7808/10000 [1:51:14<26:45,  1.37it/s]\u001B[A\n",
      "Processing examples in test:  78%|███████▊  | 7809/10000 [1:51:17<38:45,  1.06s/it]\u001B[A\n",
      "Processing examples in test:  78%|███████▊  | 7810/10000 [1:51:19<45:52,  1.26s/it]\u001B[A\n",
      "Processing examples in test:  78%|███████▊  | 7812/10000 [1:51:21<42:13,  1.16s/it]\u001B[A\n",
      "Processing examples in test:  78%|███████▊  | 7813/10000 [1:51:22<42:10,  1.16s/it]\u001B[A\n",
      "Processing examples in test:  78%|███████▊  | 7814/10000 [1:51:23<41:57,  1.15s/it]\u001B[A\n",
      "Processing examples in test:  78%|███████▊  | 7815/10000 [1:51:31<1:43:41,  2.85s/it]\u001B[A\n",
      "Processing examples in test:  78%|███████▊  | 7818/10000 [1:51:33<58:57,  1.62s/it]  \u001B[A\n",
      "Processing examples in test:  78%|███████▊  | 7819/10000 [1:51:34<55:27,  1.53s/it]\u001B[A\n",
      "Processing examples in test:  78%|███████▊  | 7820/10000 [1:51:35<49:31,  1.36s/it]\u001B[A\n",
      "Processing examples in test:  78%|███████▊  | 7821/10000 [1:51:37<54:42,  1.51s/it]\u001B[A\n",
      "Processing examples in test:  78%|███████▊  | 7822/10000 [1:51:39<58:35,  1.61s/it]\u001B[A"
     ]
    },
    {
     "name": "stdout",
     "output_type": "stream",
     "text": [
      "Failed to transform A man and women walking down the street holding bags in their hands and smiling both wearing black and white clothes. or A husband and wife walk down the street.. Retrying 5 more times ...\n",
      "Failed to transform A man and women walking down the street holding bags in their hands and smiling both wearing black and white clothes. or A husband and wife walk down the street.. Retrying 4 more times ...\n",
      "Failed to transform A man and women walking down the street holding bags in their hands and smiling both wearing black and white clothes. or A husband and wife walk down the street.. Retrying 3 more times ...\n",
      "Failed to transform A man and women walking down the street holding bags in their hands and smiling both wearing black and white clothes. or A husband and wife walk down the street.. Retrying 2 more times ...\n"
     ]
    },
    {
     "name": "stderr",
     "output_type": "stream",
     "text": [
      "\n",
      "Processing examples in test:  78%|███████▊  | 7823/10000 [1:51:44<1:38:12,  2.71s/it]\u001B[A"
     ]
    },
    {
     "name": "stdout",
     "output_type": "stream",
     "text": [
      "Failed to transform A man and women walking down the street holding bags in their hands and smiling both wearing black and white clothes. or A husband and wife walk down the street.. Retrying 1 more times ...\n",
      "Failed to transform A man and women walking down the street holding bags in their hands and smiling both wearing black and white clothes. or A husband and wife lay on the beach.. Retrying 5 more times ...\n",
      "Failed to transform A man and women walking down the street holding bags in their hands and smiling both wearing black and white clothes. or A husband and wife lay on the beach.. Retrying 4 more times ...\n",
      "Failed to transform A man and women walking down the street holding bags in their hands and smiling both wearing black and white clothes. or A husband and wife lay on the beach.. Retrying 3 more times ...\n",
      "Failed to transform A man and women walking down the street holding bags in their hands and smiling both wearing black and white clothes. or A husband and wife lay on the beach.. Retrying 2 more times ...\n"
     ]
    },
    {
     "name": "stderr",
     "output_type": "stream",
     "text": [
      "\n",
      "Processing examples in test:  78%|███████▊  | 7824/10000 [1:51:56<3:08:48,  5.21s/it]\u001B[A"
     ]
    },
    {
     "name": "stdout",
     "output_type": "stream",
     "text": [
      "Failed to transform A man and women walking down the street holding bags in their hands and smiling both wearing black and white clothes. or A husband and wife lay on the beach.. Retrying 1 more times ...\n"
     ]
    },
    {
     "name": "stderr",
     "output_type": "stream",
     "text": [
      "\n",
      "Processing examples in test:  78%|███████▊  | 7825/10000 [1:51:57<2:27:28,  4.07s/it]\u001B[A\n",
      "Processing examples in test:  78%|███████▊  | 7829/10000 [1:51:58<1:02:18,  1.72s/it]\u001B[A\n",
      "Processing examples in test:  78%|███████▊  | 7830/10000 [1:52:00<1:01:19,  1.70s/it]\u001B[A\n",
      "Processing examples in test:  78%|███████▊  | 7832/10000 [1:52:02<52:34,  1.46s/it]  \u001B[A\n",
      "Processing examples in test:  78%|███████▊  | 7833/10000 [1:52:04<55:28,  1.54s/it]\u001B[A\n",
      "Processing examples in test:  78%|███████▊  | 7834/10000 [1:52:07<1:07:06,  1.86s/it]\u001B[A\n",
      "Processing examples in test:  78%|███████▊  | 7838/10000 [1:52:08<35:29,  1.02it/s]  \u001B[A\n",
      "Processing examples in test:  78%|███████▊  | 7840/10000 [1:52:10<37:11,  1.03s/it]\u001B[A\n",
      "Processing examples in test:  78%|███████▊  | 7842/10000 [1:52:12<37:39,  1.05s/it]\u001B[A\n",
      "Processing examples in test:  78%|███████▊  | 7843/10000 [1:52:13<37:49,  1.05s/it]\u001B[A"
     ]
    },
    {
     "name": "stdout",
     "output_type": "stream",
     "text": [
      "Failed to transform A blond headed child in yellow boots and yellow jacket vest playing in the gravel with his pail, shovel and trucks. or A blonde boy is playing near a construction zone.. Retrying 5 more times ...\n",
      "Failed to transform A blond headed child in yellow boots and yellow jacket vest playing in the gravel with his pail, shovel and trucks. or A blonde boy is playing near a construction zone.. Retrying 4 more times ...\n",
      "Failed to transform A blond headed child in yellow boots and yellow jacket vest playing in the gravel with his pail, shovel and trucks. or A blonde boy is playing near a construction zone.. Retrying 3 more times ...\n",
      "Failed to transform A blond headed child in yellow boots and yellow jacket vest playing in the gravel with his pail, shovel and trucks. or A blonde boy is playing near a construction zone.. Retrying 2 more times ...\n"
     ]
    },
    {
     "name": "stderr",
     "output_type": "stream",
     "text": [
      "\n",
      "Processing examples in test:  78%|███████▊  | 7844/10000 [1:52:24<1:46:59,  2.98s/it]\u001B[A"
     ]
    },
    {
     "name": "stdout",
     "output_type": "stream",
     "text": [
      "Failed to transform A blond headed child in yellow boots and yellow jacket vest playing in the gravel with his pail, shovel and trucks. or A blonde boy is playing near a construction zone.. Retrying 1 more times ...\n",
      "Failed to transform A blond headed child in yellow boots and yellow jacket vest playing in the gravel with his pail, shovel and trucks. or A blonde child is playing.. Retrying 5 more times ...\n",
      "Failed to transform A blond headed child in yellow boots and yellow jacket vest playing in the gravel with his pail, shovel and trucks. or A blonde child is playing.. Retrying 4 more times ...\n",
      "Failed to transform A blond headed child in yellow boots and yellow jacket vest playing in the gravel with his pail, shovel and trucks. or A blonde child is playing.. Retrying 3 more times ...\n",
      "Failed to transform A blond headed child in yellow boots and yellow jacket vest playing in the gravel with his pail, shovel and trucks. or A blonde child is playing.. Retrying 2 more times ...\n"
     ]
    },
    {
     "name": "stderr",
     "output_type": "stream",
     "text": [
      "\n",
      "Processing examples in test:  78%|███████▊  | 7846/10000 [1:52:30<1:45:06,  2.93s/it]\u001B[A"
     ]
    },
    {
     "name": "stdout",
     "output_type": "stream",
     "text": [
      "Failed to transform A blond headed child in yellow boots and yellow jacket vest playing in the gravel with his pail, shovel and trucks. or A blonde child is playing.. Retrying 1 more times ...\n"
     ]
    },
    {
     "name": "stderr",
     "output_type": "stream",
     "text": [
      "\n",
      "Processing examples in test:  78%|███████▊  | 7848/10000 [1:52:32<1:19:37,  2.22s/it]\u001B[A\n",
      "Processing examples in test:  78%|███████▊  | 7850/10000 [1:52:33<1:02:40,  1.75s/it]\u001B[A\n",
      "Processing examples in test:  79%|███████▊  | 7853/10000 [1:52:35<44:47,  1.25s/it]  \u001B[A\n",
      "Processing examples in test:  79%|███████▊  | 7855/10000 [1:52:37<42:03,  1.18s/it]\u001B[A\n",
      "Processing examples in test:  79%|███████▊  | 7856/10000 [1:52:39<47:35,  1.33s/it]\u001B[A\n",
      "Processing examples in test:  79%|███████▊  | 7857/10000 [1:52:41<49:17,  1.38s/it]\u001B[A\n",
      "Processing examples in test:  79%|███████▊  | 7858/10000 [1:52:42<49:02,  1.37s/it]\u001B[A\n",
      "Processing examples in test:  79%|███████▊  | 7860/10000 [1:52:49<1:18:12,  2.19s/it]\u001B[A\n",
      "Processing examples in test:  79%|███████▊  | 7862/10000 [1:52:50<1:00:19,  1.69s/it]\u001B[A\n",
      "Processing examples in test:  79%|███████▊  | 7863/10000 [1:52:53<1:04:36,  1.81s/it]\u001B[A\n",
      "Processing examples in test:  79%|███████▊  | 7865/10000 [1:52:55<55:58,  1.57s/it]  \u001B[A\n",
      "Processing examples in test:  79%|███████▊  | 7868/10000 [1:52:57<40:59,  1.15s/it]\u001B[A\n",
      "Processing examples in test:  79%|███████▊  | 7869/10000 [1:52:58<41:22,  1.16s/it]\u001B[A\n",
      "Processing examples in test:  79%|███████▊  | 7871/10000 [1:53:01<42:19,  1.19s/it]\u001B[A\n",
      "Processing examples in test:  79%|███████▊  | 7874/10000 [1:53:02<31:02,  1.14it/s]\u001B[A\n",
      "Processing examples in test:  79%|███████▉  | 7875/10000 [1:53:04<37:34,  1.06s/it]\u001B[A\n",
      "Processing examples in test:  79%|███████▉  | 7877/10000 [1:53:06<38:25,  1.09s/it]\u001B[A\n",
      "Processing examples in test:  79%|███████▉  | 7881/10000 [1:53:08<28:01,  1.26it/s]\u001B[A\n",
      "Processing examples in test:  79%|███████▉  | 7882/10000 [1:53:09<27:23,  1.29it/s]\u001B[A\n",
      "Processing examples in test:  79%|███████▉  | 7883/10000 [1:53:13<49:36,  1.41s/it]\u001B[A\n",
      "Processing examples in test:  79%|███████▉  | 7887/10000 [1:53:15<31:49,  1.11it/s]\u001B[A\n",
      "Processing examples in test:  79%|███████▉  | 7889/10000 [1:53:16<28:04,  1.25it/s]\u001B[A\n",
      "Processing examples in test:  79%|███████▉  | 7893/10000 [1:53:17<22:25,  1.57it/s]\u001B[A\n",
      "Processing examples in test:  79%|███████▉  | 7894/10000 [1:53:19<28:20,  1.24it/s]\u001B[A\n",
      "Processing examples in test:  79%|███████▉  | 7895/10000 [1:53:21<30:16,  1.16it/s]\u001B[A\n",
      "Processing examples in test:  79%|███████▉  | 7896/10000 [1:53:23<39:34,  1.13s/it]\u001B[A\n",
      "Processing examples in test:  79%|███████▉  | 7897/10000 [1:53:25<46:45,  1.33s/it]\u001B[A\n",
      "Processing examples in test:  79%|███████▉  | 7898/10000 [1:53:26<45:44,  1.31s/it]\u001B[A\n",
      "Processing examples in test:  79%|███████▉  | 7899/10000 [1:53:28<48:31,  1.39s/it]\u001B[A\n",
      "Processing examples in test:  79%|███████▉  | 7900/10000 [1:53:29<43:28,  1.24s/it]\u001B[A\n",
      "Processing examples in test:  79%|███████▉  | 7907/10000 [1:53:31<19:59,  1.75it/s]\u001B[A\n",
      "Processing examples in test:  79%|███████▉  | 7908/10000 [1:53:33<28:00,  1.24it/s]\u001B[A\n",
      "Processing examples in test:  79%|███████▉  | 7909/10000 [1:53:35<35:21,  1.01s/it]\u001B[A\n",
      "Processing examples in test:  79%|███████▉  | 7911/10000 [1:53:37<35:53,  1.03s/it]\u001B[A\n",
      "Processing examples in test:  79%|███████▉  | 7912/10000 [1:53:40<43:24,  1.25s/it]\u001B[A\n",
      "Processing examples in test:  79%|███████▉  | 7915/10000 [1:53:40<28:12,  1.23it/s]\u001B[A\n",
      "Processing examples in test:  79%|███████▉  | 7916/10000 [1:53:42<34:21,  1.01it/s]\u001B[A\n",
      "Processing examples in test:  79%|███████▉  | 7919/10000 [1:53:45<31:19,  1.11it/s]\u001B[A\n",
      "Processing examples in test:  79%|███████▉  | 7920/10000 [1:53:47<38:58,  1.12s/it]\u001B[A\n",
      "Processing examples in test:  79%|███████▉  | 7922/10000 [1:53:49<39:36,  1.14s/it]\u001B[A\n",
      "Processing examples in test:  79%|███████▉  | 7924/10000 [1:53:51<37:55,  1.10s/it]\u001B[A\n",
      "Processing examples in test:  79%|███████▉  | 7926/10000 [1:53:53<36:52,  1.07s/it]\u001B[A\n",
      "Processing examples in test:  79%|███████▉  | 7929/10000 [1:53:54<27:29,  1.26it/s]\u001B[A\n",
      "Processing examples in test:  79%|███████▉  | 7930/10000 [1:54:03<1:08:14,  1.98s/it]\u001B[A\n",
      "Processing examples in test:  79%|███████▉  | 7933/10000 [1:54:04<46:06,  1.34s/it]  \u001B[A\n",
      "Processing examples in test:  79%|███████▉  | 7934/10000 [1:54:05<45:04,  1.31s/it]\u001B[A\n",
      "Processing examples in test:  79%|███████▉  | 7935/10000 [1:54:06<45:51,  1.33s/it]\u001B[A\n",
      "Processing examples in test:  79%|███████▉  | 7938/10000 [1:54:07<28:38,  1.20it/s]\u001B[A\n",
      "Processing examples in test:  79%|███████▉  | 7939/10000 [1:54:08<30:35,  1.12it/s]\u001B[A\n",
      "Processing examples in test:  79%|███████▉  | 7941/10000 [1:54:11<33:35,  1.02it/s]\u001B[A\n",
      "Processing examples in test:  79%|███████▉  | 7942/10000 [1:54:12<39:01,  1.14s/it]\u001B[A\n",
      "Processing examples in test:  79%|███████▉  | 7943/10000 [1:54:13<39:02,  1.14s/it]\u001B[A\n",
      "Processing examples in test:  79%|███████▉  | 7947/10000 [1:54:15<25:33,  1.34it/s]\u001B[A\n",
      "Processing examples in test:  80%|███████▉  | 7951/10000 [1:54:16<18:48,  1.82it/s]\u001B[A\n",
      "Processing examples in test:  80%|███████▉  | 7952/10000 [1:54:18<25:20,  1.35it/s]\u001B[A\n",
      "Processing examples in test:  80%|███████▉  | 7953/10000 [1:54:19<25:16,  1.35it/s]\u001B[A\n",
      "Processing examples in test:  80%|███████▉  | 7954/10000 [1:54:20<29:12,  1.17it/s]\u001B[A\n",
      "Processing examples in test:  80%|███████▉  | 7955/10000 [1:54:24<45:58,  1.35s/it]\u001B[A\n",
      "Processing examples in test:  80%|███████▉  | 7957/10000 [1:54:26<41:42,  1.22s/it]\u001B[A\n",
      "Processing examples in test:  80%|███████▉  | 7958/10000 [1:54:28<47:59,  1.41s/it]\u001B[A\n",
      "Processing examples in test:  80%|███████▉  | 7959/10000 [1:54:30<52:00,  1.53s/it]\u001B[A\n",
      "Processing examples in test:  80%|███████▉  | 7962/10000 [1:54:32<36:52,  1.09s/it]\u001B[A\n",
      "Processing examples in test:  80%|███████▉  | 7964/10000 [1:54:33<32:02,  1.06it/s]\u001B[A\n",
      "Processing examples in test:  80%|███████▉  | 7965/10000 [1:54:34<34:33,  1.02s/it]\u001B[A\n",
      "Processing examples in test:  80%|███████▉  | 7966/10000 [1:54:36<40:48,  1.20s/it]\u001B[A\n",
      "Processing examples in test:  80%|███████▉  | 7969/10000 [1:54:38<32:57,  1.03it/s]\u001B[A\n",
      "Processing examples in test:  80%|███████▉  | 7973/10000 [1:54:40<25:43,  1.31it/s]\u001B[A\n",
      "Processing examples in test:  80%|███████▉  | 7974/10000 [1:54:42<32:05,  1.05it/s]\u001B[A\n",
      "Processing examples in test:  80%|███████▉  | 7976/10000 [1:54:44<28:48,  1.17it/s]\u001B[A\n",
      "Processing examples in test:  80%|███████▉  | 7977/10000 [1:54:45<32:04,  1.05it/s]\u001B[A\n",
      "Processing examples in test:  80%|███████▉  | 7978/10000 [1:54:47<40:38,  1.21s/it]\u001B[A\n",
      "Processing examples in test:  80%|███████▉  | 7980/10000 [1:54:49<37:25,  1.11s/it]\u001B[A\n",
      "Processing examples in test:  80%|███████▉  | 7982/10000 [1:54:51<35:42,  1.06s/it]\u001B[A\n",
      "Processing examples in test:  80%|███████▉  | 7988/10000 [1:54:52<17:43,  1.89it/s]\u001B[A\n",
      "Processing examples in test:  80%|███████▉  | 7990/10000 [1:54:54<20:40,  1.62it/s]\u001B[A\n",
      "Processing examples in test:  80%|███████▉  | 7992/10000 [1:54:55<20:48,  1.61it/s]\u001B[A\n",
      "Processing examples in test:  80%|███████▉  | 7993/10000 [1:54:57<25:02,  1.34it/s]\u001B[A\n",
      "Processing examples in test:  80%|███████▉  | 7994/10000 [1:54:59<32:10,  1.04it/s]\u001B[A\n",
      "Processing examples in test:  80%|███████▉  | 7995/10000 [1:55:01<39:46,  1.19s/it]\u001B[A\n",
      "Processing examples in test:  80%|███████▉  | 7997/10000 [1:55:03<35:29,  1.06s/it]\u001B[A\n",
      "Processing examples in test:  80%|███████▉  | 7999/10000 [1:55:04<34:11,  1.02s/it]\u001B[A\n",
      "Processing examples in test:  80%|████████  | 8005/10000 [1:55:06<19:44,  1.68it/s]\u001B[A\n",
      "Processing examples in test:  80%|████████  | 8006/10000 [1:55:07<21:46,  1.53it/s]\u001B[A\n",
      "Processing examples in test:  80%|████████  | 8009/10000 [1:55:09<21:50,  1.52it/s]\u001B[A\n",
      "Processing examples in test:  80%|████████  | 8011/10000 [1:55:11<24:48,  1.34it/s]\u001B[A\n",
      "Processing examples in test:  80%|████████  | 8015/10000 [1:55:12<17:09,  1.93it/s]\u001B[A\n",
      "Processing examples in test:  80%|████████  | 8018/10000 [1:55:13<15:52,  2.08it/s]\u001B[A\n",
      "Processing examples in test:  80%|████████  | 8022/10000 [1:55:14<13:14,  2.49it/s]\u001B[A\n",
      "Processing examples in test:  80%|████████  | 8023/10000 [1:55:23<42:46,  1.30s/it]\u001B[A\n",
      "Processing examples in test:  80%|████████  | 8031/10000 [1:55:24<21:56,  1.50it/s]\u001B[A\n",
      "Processing examples in test:  80%|████████  | 8032/10000 [1:55:25<24:06,  1.36it/s]\u001B[A\n",
      "Processing examples in test:  80%|████████  | 8033/10000 [1:55:27<25:27,  1.29it/s]\u001B[A\n",
      "Processing examples in test:  80%|████████  | 8037/10000 [1:55:29<22:15,  1.47it/s]\u001B[A\n",
      "Processing examples in test:  80%|████████  | 8040/10000 [1:55:30<19:14,  1.70it/s]\u001B[A\n",
      "Processing examples in test:  80%|████████  | 8041/10000 [1:55:32<25:49,  1.26it/s]\u001B[A\n",
      "Processing examples in test:  80%|████████  | 8042/10000 [1:55:33<28:38,  1.14it/s]\u001B[A"
     ]
    },
    {
     "name": "stdout",
     "output_type": "stream",
     "text": [
      "Failed to transform Small girl in an apron placing confetti in a woman hairs. or A woman bathing her daughter.. Retrying 5 more times ...\n",
      "Failed to transform Small girl in an apron placing confetti in a woman hairs. or A woman bathing her daughter.. Retrying 4 more times ...\n",
      "Failed to transform Small in an   apron   placing   confetti   in a   woman   hairs girl   . or A woman bathing her daughter.. Retrying 3 more times ...\n",
      "Failed to transform Small  an   apron   placing   confetti   the   woman   hairs girl   . or A woman bathing her daughter.. Retrying 2 more times ...\n"
     ]
    },
    {
     "name": "stderr",
     "output_type": "stream",
     "text": [
      "\n",
      "Processing examples in test:  80%|████████  | 8049/10000 [1:55:43<38:34,  1.19s/it]\u001B[A"
     ]
    },
    {
     "name": "stdout",
     "output_type": "stream",
     "text": [
      "Failed to transform Small  an   apron   placing   confetti   the   woman   hairs girl   . or A woman bathing her daughter.. Retrying 1 more times ...\n"
     ]
    },
    {
     "name": "stderr",
     "output_type": "stream",
     "text": [
      "\n",
      "Processing examples in test:  80%|████████  | 8050/10000 [1:55:45<41:21,  1.27s/it]\u001B[A\n",
      "Processing examples in test:  81%|████████  | 8051/10000 [1:55:48<46:56,  1.45s/it]\u001B[A\n",
      "Processing examples in test:  81%|████████  | 8053/10000 [1:55:49<39:32,  1.22s/it]\u001B[A\n",
      "Processing examples in test:  81%|████████  | 8054/10000 [1:55:51<43:09,  1.33s/it]\u001B[A\n",
      "Processing examples in test:  81%|████████  | 8056/10000 [1:55:53<39:02,  1.21s/it]\u001B[A\n",
      "Processing examples in test:  81%|████████  | 8057/10000 [1:55:54<39:49,  1.23s/it]\u001B[A\n",
      "Processing examples in test:  81%|████████  | 8059/10000 [1:55:55<31:38,  1.02it/s]\u001B[A\n",
      "Processing examples in test:  81%|████████  | 8060/10000 [1:55:56<32:48,  1.01s/it]\u001B[A\n",
      "Processing examples in test:  81%|████████  | 8061/10000 [1:55:57<30:22,  1.06it/s]\u001B[A\n",
      "Processing examples in test:  81%|████████  | 8063/10000 [1:55:59<30:34,  1.06it/s]\u001B[A\n",
      "Processing examples in test:  81%|████████  | 8064/10000 [1:56:00<29:44,  1.08it/s]\u001B[A\n",
      "Processing examples in test:  81%|████████  | 8065/10000 [1:56:01<31:24,  1.03it/s]\u001B[A\n",
      "Processing examples in test:  81%|████████  | 8067/10000 [1:56:02<25:39,  1.26it/s]\u001B[A\n",
      "Processing examples in test:  81%|████████  | 8069/10000 [1:56:03<20:29,  1.57it/s]\u001B[A\n",
      "Processing examples in test:  81%|████████  | 8071/10000 [1:56:04<23:14,  1.38it/s]\u001B[A\n",
      "Processing examples in test:  81%|████████  | 8073/10000 [1:56:06<23:40,  1.36it/s]\u001B[A\n",
      "Processing examples in test:  81%|████████  | 8075/10000 [1:56:07<23:29,  1.37it/s]\u001B[A\n",
      "Processing examples in test:  81%|████████  | 8076/10000 [1:56:08<23:06,  1.39it/s]\u001B[A\n",
      "Processing examples in test:  81%|████████  | 8078/10000 [1:56:10<24:06,  1.33it/s]\u001B[A\n",
      "Processing examples in test:  81%|████████  | 8079/10000 [1:56:11<25:52,  1.24it/s]\u001B[A\n",
      "Processing examples in test:  81%|████████  | 8080/10000 [1:56:12<30:59,  1.03it/s]\u001B[A\n",
      "Processing examples in test:  81%|████████  | 8082/10000 [1:56:14<29:09,  1.10it/s]\u001B[A\n",
      "Processing examples in test:  81%|████████  | 8083/10000 [1:56:15<27:59,  1.14it/s]\u001B[A\n",
      "Processing examples in test:  81%|████████  | 8085/10000 [1:56:16<23:39,  1.35it/s]\u001B[A\n",
      "Processing examples in test:  81%|████████  | 8088/10000 [1:56:18<22:46,  1.40it/s]\u001B[A\n",
      "Processing examples in test:  81%|████████  | 8091/10000 [1:56:19<19:37,  1.62it/s]\u001B[A\n",
      "Processing examples in test:  81%|████████  | 8093/10000 [1:56:20<19:36,  1.62it/s]\u001B[A\n",
      "Processing examples in test:  81%|████████  | 8094/10000 [1:56:22<27:11,  1.17it/s]\u001B[A\n",
      "Processing examples in test:  81%|████████  | 8095/10000 [1:56:24<33:33,  1.06s/it]\u001B[A\n",
      "Processing examples in test:  81%|████████  | 8096/10000 [1:56:27<44:45,  1.41s/it]\u001B[A\n",
      "Processing examples in test:  81%|████████  | 8097/10000 [1:56:28<39:14,  1.24s/it]\u001B[A\n",
      "Processing examples in test:  81%|████████  | 8098/10000 [1:56:29<39:17,  1.24s/it]\u001B[A\n",
      "Processing examples in test:  81%|████████  | 8100/10000 [1:56:30<27:44,  1.14it/s]\u001B[A\n",
      "Processing examples in test:  81%|████████  | 8106/10000 [1:56:31<15:22,  2.05it/s]\u001B[A\n",
      "Processing examples in test:  81%|████████  | 8107/10000 [1:56:33<20:27,  1.54it/s]\u001B[A\n",
      "Processing examples in test:  81%|████████  | 8115/10000 [1:56:34<10:36,  2.96it/s]\u001B[A\n",
      "Processing examples in test:  81%|████████  | 8119/10000 [1:56:35<09:59,  3.14it/s]\u001B[A\n",
      "Processing examples in test:  81%|████████  | 8123/10000 [1:56:36<08:28,  3.69it/s]\u001B[A\n",
      "Processing examples in test:  81%|████████  | 8124/10000 [1:56:37<11:43,  2.67it/s]\u001B[A\n",
      "Processing examples in test:  81%|████████▏ | 8126/10000 [1:56:39<15:57,  1.96it/s]\u001B[A\n",
      "Processing examples in test:  81%|████████▏ | 8128/10000 [1:56:41<18:34,  1.68it/s]\u001B[A\n",
      "Processing examples in test:  81%|████████▏ | 8132/10000 [1:56:43<16:34,  1.88it/s]\u001B[A\n",
      "Processing examples in test:  81%|████████▏ | 8133/10000 [1:56:44<20:16,  1.53it/s]\u001B[A\n",
      "Processing examples in test:  81%|████████▏ | 8138/10000 [1:56:45<13:36,  2.28it/s]\u001B[A\n",
      "Processing examples in test:  81%|████████▏ | 8139/10000 [1:56:46<16:14,  1.91it/s]\u001B[A\n",
      "Processing examples in test:  81%|████████▏ | 8140/10000 [1:56:49<25:23,  1.22it/s]\u001B[A\n",
      "Processing examples in test:  81%|████████▏ | 8142/10000 [1:56:51<28:02,  1.10it/s]\u001B[A\n",
      "Processing examples in test:  81%|████████▏ | 8143/10000 [1:56:53<32:14,  1.04s/it]\u001B[A\n",
      "Processing examples in test:  81%|████████▏ | 8144/10000 [1:56:55<38:48,  1.25s/it]\u001B[A\n",
      "Processing examples in test:  81%|████████▏ | 8146/10000 [1:56:57<36:28,  1.18s/it]\u001B[A\n",
      "Processing examples in test:  81%|████████▏ | 8147/10000 [1:56:59<42:24,  1.37s/it]\u001B[A\n",
      "Processing examples in test:  81%|████████▏ | 8149/10000 [1:57:01<35:02,  1.14s/it]\u001B[A\n",
      "Processing examples in test:  82%|████████▏ | 8152/10000 [1:57:02<28:14,  1.09it/s]\u001B[A\n",
      "Processing examples in test:  82%|████████▏ | 8153/10000 [1:57:04<33:56,  1.10s/it]\u001B[A\n",
      "Processing examples in test:  82%|████████▏ | 8154/10000 [1:57:06<33:52,  1.10s/it]\u001B[A\n",
      "Processing examples in test:  82%|████████▏ | 8157/10000 [1:57:06<21:15,  1.44it/s]\u001B[A\n",
      "Processing examples in test:  82%|████████▏ | 8158/10000 [1:57:07<24:04,  1.28it/s]\u001B[A"
     ]
    },
    {
     "name": "stdout",
     "output_type": "stream",
     "text": [
      "Failed to transform Children on the beach with their dog. or The children are playing catch with their dog.. Retrying 5 more times ...\n",
      "Failed to transform Children on the beach with their dog. or The children are playing catch with their dog.. Retrying 4 more times ...\n",
      "Failed to transform Children on the beach with their dog. or The children are playing catch with their dog.. Retrying 3 more times ...\n",
      "Failed to transform Children on the beach with their dog. or The children are playing catch with their dog.. Retrying 2 more times ...\n"
     ]
    },
    {
     "name": "stderr",
     "output_type": "stream",
     "text": [
      "\n",
      "Processing examples in test:  82%|████████▏ | 8160/10000 [1:57:13<44:49,  1.46s/it]\u001B[A"
     ]
    },
    {
     "name": "stdout",
     "output_type": "stream",
     "text": [
      "Failed to transform Children on the beach with their dog. or The children are playing catch with their dog.. Retrying 1 more times ...\n"
     ]
    },
    {
     "name": "stderr",
     "output_type": "stream",
     "text": [
      "\n",
      "Processing examples in test:  82%|████████▏ | 8164/10000 [1:57:15<30:14,  1.01it/s]\u001B[A\n",
      "Processing examples in test:  82%|████████▏ | 8165/10000 [1:57:17<33:38,  1.10s/it]\u001B[A\n",
      "Processing examples in test:  82%|████████▏ | 8167/10000 [1:57:18<28:27,  1.07it/s]\u001B[A\n",
      "Processing examples in test:  82%|████████▏ | 8169/10000 [1:57:19<27:31,  1.11it/s]\u001B[A\n",
      "Processing examples in test:  82%|████████▏ | 8170/10000 [1:57:22<35:01,  1.15s/it]\u001B[A\n",
      "Processing examples in test:  82%|████████▏ | 8172/10000 [1:57:22<27:16,  1.12it/s]\u001B[A\n",
      "Processing examples in test:  82%|████████▏ | 8173/10000 [1:57:24<31:26,  1.03s/it]\u001B[A\n",
      "Processing examples in test:  82%|████████▏ | 8174/10000 [1:57:26<34:00,  1.12s/it]\u001B[A\n",
      "Processing examples in test:  82%|████████▏ | 8177/10000 [1:57:27<22:38,  1.34it/s]\u001B[A\n",
      "Processing examples in test:  82%|████████▏ | 8179/10000 [1:57:28<22:20,  1.36it/s]\u001B[A\n",
      "Processing examples in test:  82%|████████▏ | 8181/10000 [1:57:29<18:51,  1.61it/s]\u001B[A\n",
      "Processing examples in test:  82%|████████▏ | 8182/10000 [1:57:31<25:23,  1.19it/s]\u001B[A\n",
      "Processing examples in test:  82%|████████▏ | 8183/10000 [1:57:32<28:23,  1.07it/s]\u001B[A\n",
      "Processing examples in test:  82%|████████▏ | 8184/10000 [1:57:33<27:00,  1.12it/s]\u001B[A\n",
      "Processing examples in test:  82%|████████▏ | 8187/10000 [1:57:33<17:54,  1.69it/s]\u001B[A\n",
      "Processing examples in test:  82%|████████▏ | 8188/10000 [1:57:35<21:25,  1.41it/s]\u001B[A\n",
      "Processing examples in test:  82%|████████▏ | 8191/10000 [1:57:36<16:49,  1.79it/s]\u001B[A\n",
      "Processing examples in test:  82%|████████▏ | 8192/10000 [1:57:38<25:08,  1.20it/s]\u001B[A\n",
      "Processing examples in test:  82%|████████▏ | 8194/10000 [1:57:39<21:27,  1.40it/s]\u001B[A\n",
      "Processing examples in test:  82%|████████▏ | 8195/10000 [1:57:40<23:52,  1.26it/s]\u001B[A\n",
      "Processing examples in test:  82%|████████▏ | 8196/10000 [1:57:41<27:56,  1.08it/s]\u001B[A\n",
      "Processing examples in test:  82%|████████▏ | 8201/10000 [1:57:46<27:56,  1.07it/s]\u001B[A\n",
      "Processing examples in test:  82%|████████▏ | 8204/10000 [1:57:47<21:54,  1.37it/s]\u001B[A\n",
      "Processing examples in test:  82%|████████▏ | 8205/10000 [1:57:49<25:29,  1.17it/s]\u001B[A\n",
      "Processing examples in test:  82%|████████▏ | 8206/10000 [1:57:51<30:18,  1.01s/it]\u001B[A\n",
      "Processing examples in test:  82%|████████▏ | 8207/10000 [1:57:53<37:26,  1.25s/it]\u001B[A\n",
      "Processing examples in test:  82%|████████▏ | 8208/10000 [1:57:54<34:20,  1.15s/it]\u001B[A\n",
      "Processing examples in test:  82%|████████▏ | 8209/10000 [1:57:55<36:37,  1.23s/it]\u001B[A\n",
      "Processing examples in test:  82%|████████▏ | 8211/10000 [1:57:56<28:26,  1.05it/s]\u001B[A\n",
      "Processing examples in test:  82%|████████▏ | 8212/10000 [1:57:58<34:34,  1.16s/it]\u001B[A\n",
      "Processing examples in test:  82%|████████▏ | 8214/10000 [1:58:00<31:59,  1.07s/it]\u001B[A\n",
      "Processing examples in test:  82%|████████▏ | 8215/10000 [1:58:01<34:39,  1.17s/it]\u001B[A\n",
      "Processing examples in test:  82%|████████▏ | 8217/10000 [1:58:02<25:00,  1.19it/s]\u001B[A\n",
      "Processing examples in test:  82%|████████▏ | 8218/10000 [1:58:03<24:57,  1.19it/s]\u001B[A\n",
      "Processing examples in test:  82%|████████▏ | 8219/10000 [1:58:04<23:46,  1.25it/s]\u001B[A\n",
      "Processing examples in test:  82%|████████▏ | 8222/10000 [1:58:05<21:19,  1.39it/s]\u001B[A\n",
      "Processing examples in test:  82%|████████▏ | 8224/10000 [1:58:07<20:28,  1.45it/s]\u001B[A\n",
      "Processing examples in test:  82%|████████▏ | 8225/10000 [1:58:08<22:35,  1.31it/s]\u001B[A\n",
      "Processing examples in test:  82%|████████▏ | 8227/10000 [1:58:09<21:01,  1.41it/s]\u001B[A\n",
      "Processing examples in test:  82%|████████▏ | 8230/10000 [1:58:10<15:08,  1.95it/s]\u001B[A\n",
      "Processing examples in test:  82%|████████▏ | 8231/10000 [1:58:11<20:15,  1.46it/s]\u001B[A\n",
      "Processing examples in test:  82%|████████▏ | 8232/10000 [1:58:13<26:19,  1.12it/s]\u001B[A\n",
      "Processing examples in test:  82%|████████▏ | 8234/10000 [1:58:14<22:40,  1.30it/s]\u001B[A\n",
      "Processing examples in test:  82%|████████▏ | 8237/10000 [1:58:15<17:25,  1.69it/s]\u001B[A\n",
      "Processing examples in test:  82%|████████▏ | 8243/10000 [1:58:21<22:04,  1.33it/s]\u001B[A\n",
      "Processing examples in test:  82%|████████▏ | 8244/10000 [1:58:22<25:19,  1.16it/s]\u001B[A\n",
      "Processing examples in test:  82%|████████▏ | 8246/10000 [1:58:24<25:27,  1.15it/s]\u001B[A\n",
      "Processing examples in test:  82%|████████▏ | 8247/10000 [1:58:26<31:35,  1.08s/it]\u001B[A\n",
      "Processing examples in test:  82%|████████▏ | 8248/10000 [1:58:27<29:24,  1.01s/it]\u001B[A\n",
      "Processing examples in test:  83%|████████▎ | 8251/10000 [1:58:30<31:06,  1.07s/it]\u001B[A"
     ]
    },
    {
     "name": "stdout",
     "output_type": "stream",
     "text": [
      "Failed to transform The casually dressed young blond woman is as couple   near her   looking away sadly   are like kissing. or A woman looks away after recognizing her ex-boyfriend kissing his new girl.. Retrying 5 more times ...\n",
      "Failed to transform The casually dressed young blond woman  as couple   near her   looking away sadly    like kissing. or A woman looks away after recognizing her ex-boyfriend kissing his new girl.. Retrying 4 more times ...\n",
      "Failed to transform The casually dressed young blond a woman  as a couple   near her   looking away sadly    like kissing. or A woman looks away after recognizing her ex-boyfriend kissing his new girl.. Retrying 3 more times ...\n",
      "Failed to transform The casually dressed young blond a woman  as a couple   near her   looking away sadly    like kissing. or A woman looks away after recognizing her ex-boyfriend kissing his new girl.. Retrying 2 more times ...\n"
     ]
    },
    {
     "name": "stderr",
     "output_type": "stream",
     "text": [
      "\n",
      "Processing examples in test:  83%|████████▎ | 8252/10000 [1:58:39<1:08:11,  2.34s/it]\u001B[A"
     ]
    },
    {
     "name": "stdout",
     "output_type": "stream",
     "text": [
      "Failed to transform The casually dressed young blond a woman  as a couple   near her   looking away sadly    like kissing. or A woman looks away after recognizing her ex-boyfriend kissing his new girl.. Retrying 1 more times ...\n"
     ]
    },
    {
     "name": "stderr",
     "output_type": "stream",
     "text": [
      "\n",
      "Processing examples in test:  83%|████████▎ | 8253/10000 [1:58:41<1:07:03,  2.30s/it]\u001B[A\n",
      "Processing examples in test:  83%|████████▎ | 8257/10000 [1:58:43<38:14,  1.32s/it]  \u001B[A\n",
      "Processing examples in test:  83%|████████▎ | 8258/10000 [1:58:44<37:47,  1.30s/it]\u001B[A\n",
      "Processing examples in test:  83%|████████▎ | 8260/10000 [1:58:45<31:46,  1.10s/it]\u001B[A\n",
      "Processing examples in test:  83%|████████▎ | 8261/10000 [1:58:47<32:31,  1.12s/it]\u001B[A\n",
      "Processing examples in test:  83%|████████▎ | 8264/10000 [1:58:48<26:19,  1.10it/s]\u001B[A\n",
      "Processing examples in test:  83%|████████▎ | 8267/10000 [1:58:49<18:39,  1.55it/s]\u001B[A\n",
      "Processing examples in test:  83%|████████▎ | 8268/10000 [1:58:51<22:49,  1.26it/s]\u001B[A\n",
      "Processing examples in test:  83%|████████▎ | 8269/10000 [1:58:52<27:51,  1.04it/s]\u001B[A\n",
      "Processing examples in test:  83%|████████▎ | 8271/10000 [1:58:54<25:02,  1.15it/s]\u001B[A\n",
      "Processing examples in test:  83%|████████▎ | 8273/10000 [1:58:54<19:49,  1.45it/s]\u001B[A\n",
      "Processing examples in test:  83%|████████▎ | 8274/10000 [1:58:56<24:05,  1.19it/s]\u001B[A\n",
      "Processing examples in test:  83%|████████▎ | 8284/10000 [1:58:58<10:22,  2.76it/s]\u001B[A\n",
      "Processing examples in test:  83%|████████▎ | 8286/10000 [1:59:00<13:40,  2.09it/s]\u001B[A\n",
      "Processing examples in test:  83%|████████▎ | 8288/10000 [1:59:01<14:44,  1.94it/s]\u001B[A\n",
      "Processing examples in test:  83%|████████▎ | 8294/10000 [1:59:03<11:50,  2.40it/s]\u001B[A\n",
      "Processing examples in test:  83%|████████▎ | 8297/10000 [1:59:05<12:59,  2.18it/s]\u001B[A\n",
      "Processing examples in test:  83%|████████▎ | 8298/10000 [1:59:06<13:51,  2.05it/s]\u001B[A\n",
      "Processing examples in test:  83%|████████▎ | 8300/10000 [1:59:07<14:09,  2.00it/s]\u001B[A\n",
      "Processing examples in test:  83%|████████▎ | 8301/10000 [1:59:08<17:19,  1.63it/s]\u001B[A\n",
      "Processing examples in test:  83%|████████▎ | 8304/10000 [1:59:09<14:41,  1.92it/s]\u001B[A\n",
      "Processing examples in test:  83%|████████▎ | 8307/10000 [1:59:10<13:13,  2.13it/s]\u001B[A\n",
      "Processing examples in test:  83%|████████▎ | 8308/10000 [1:59:12<19:19,  1.46it/s]\u001B[A\n",
      "Processing examples in test:  83%|████████▎ | 8309/10000 [1:59:14<26:54,  1.05it/s]\u001B[A\n",
      "Processing examples in test:  83%|████████▎ | 8311/10000 [1:59:16<23:31,  1.20it/s]\u001B[A\n",
      "Processing examples in test:  83%|████████▎ | 8315/10000 [1:59:16<14:35,  1.92it/s]\u001B[A\n",
      "Processing examples in test:  83%|████████▎ | 8316/10000 [1:59:18<20:52,  1.34it/s]\u001B[A\n",
      "Processing examples in test:  83%|████████▎ | 8317/10000 [1:59:20<25:20,  1.11it/s]\u001B[A\n",
      "Processing examples in test:  83%|████████▎ | 8319/10000 [1:59:22<25:43,  1.09it/s]\u001B[A\n",
      "Processing examples in test:  83%|████████▎ | 8322/10000 [1:59:23<17:40,  1.58it/s]\u001B[A\n",
      "Processing examples in test:  83%|████████▎ | 8324/10000 [1:59:24<17:16,  1.62it/s]\u001B[A\n",
      "Processing examples in test:  83%|████████▎ | 8326/10000 [1:59:25<17:03,  1.64it/s]\u001B[A\n",
      "Processing examples in test:  83%|████████▎ | 8328/10000 [1:59:26<15:26,  1.80it/s]\u001B[A\n",
      "Processing examples in test:  83%|████████▎ | 8329/10000 [1:59:27<17:59,  1.55it/s]\u001B[A\n",
      "Processing examples in test:  83%|████████▎ | 8332/10000 [1:59:27<12:54,  2.15it/s]\u001B[A\n",
      "Processing examples in test:  83%|████████▎ | 8333/10000 [1:59:29<19:34,  1.42it/s]\u001B[A\n",
      "Processing examples in test:  83%|████████▎ | 8335/10000 [1:59:31<21:19,  1.30it/s]\u001B[A\n",
      "Processing examples in test:  83%|████████▎ | 8339/10000 [1:59:32<14:44,  1.88it/s]\u001B[A\n",
      "Processing examples in test:  83%|████████▎ | 8341/10000 [1:59:34<17:28,  1.58it/s]\u001B[A\n",
      "Processing examples in test:  83%|████████▎ | 8344/10000 [1:59:36<18:10,  1.52it/s]\u001B[A\n",
      "Processing examples in test:  83%|████████▎ | 8345/10000 [1:59:37<20:17,  1.36it/s]\u001B[A\n",
      "Processing examples in test:  83%|████████▎ | 8347/10000 [1:59:39<21:27,  1.28it/s]\u001B[A\n",
      "Processing examples in test:  83%|████████▎ | 8349/10000 [1:59:41<22:06,  1.24it/s]\u001B[A\n",
      "Processing examples in test:  84%|████████▎ | 8350/10000 [1:59:42<23:17,  1.18it/s]\u001B[A\n",
      "Processing examples in test:  84%|████████▎ | 8352/10000 [1:59:44<24:31,  1.12it/s]\u001B[A\n",
      "Processing examples in test:  84%|████████▎ | 8353/10000 [1:59:46<29:38,  1.08s/it]\u001B[A\n",
      "Processing examples in test:  84%|████████▎ | 8360/10000 [1:59:47<13:03,  2.09it/s]\u001B[A\n",
      "Processing examples in test:  84%|████████▎ | 8365/10000 [1:59:48<09:19,  2.92it/s]\u001B[A\n",
      "Processing examples in test:  84%|████████▎ | 8366/10000 [1:59:49<12:44,  2.14it/s]\u001B[A\n",
      "Processing examples in test:  84%|████████▎ | 8367/10000 [1:59:52<19:56,  1.36it/s]\u001B[A\n",
      "Processing examples in test:  84%|████████▎ | 8369/10000 [1:59:53<18:55,  1.44it/s]\u001B[A\n",
      "Processing examples in test:  84%|████████▎ | 8370/10000 [1:59:54<21:28,  1.27it/s]\u001B[A\n",
      "Processing examples in test:  84%|████████▎ | 8371/10000 [1:59:56<26:45,  1.01it/s]\u001B[A\n",
      "Processing examples in test:  84%|████████▍ | 8375/10000 [1:59:58<19:04,  1.42it/s]\u001B[A\n",
      "Processing examples in test:  84%|████████▍ | 8376/10000 [1:59:59<21:10,  1.28it/s]\u001B[A\n",
      "Processing examples in test:  84%|████████▍ | 8377/10000 [2:00:01<26:31,  1.02it/s]\u001B[A\n",
      "Processing examples in test:  84%|████████▍ | 8379/10000 [2:00:02<24:34,  1.10it/s]\u001B[A\n",
      "Processing examples in test:  84%|████████▍ | 8380/10000 [2:00:04<25:45,  1.05it/s]\u001B[A\n",
      "Processing examples in test:  84%|████████▍ | 8382/10000 [2:00:06<27:56,  1.04s/it]\u001B[A\n",
      "Processing examples in test:  84%|████████▍ | 8385/10000 [2:00:08<23:41,  1.14it/s]\u001B[A\n",
      "Processing examples in test:  84%|████████▍ | 8388/10000 [2:00:10<22:02,  1.22it/s]\u001B[A\n",
      "Processing examples in test:  84%|████████▍ | 8389/10000 [2:00:11<22:21,  1.20it/s]\u001B[A\n",
      "Processing examples in test:  84%|████████▍ | 8390/10000 [2:00:13<28:27,  1.06s/it]\u001B[A\n",
      "Processing examples in test:  84%|████████▍ | 8393/10000 [2:00:14<20:42,  1.29it/s]\u001B[A\n",
      "Processing examples in test:  84%|████████▍ | 8397/10000 [2:00:15<14:38,  1.83it/s]\u001B[A\n",
      "Processing examples in test:  84%|████████▍ | 8399/10000 [2:00:16<13:24,  1.99it/s]\u001B[A\n",
      "Processing examples in test:  84%|████████▍ | 8402/10000 [2:00:17<10:53,  2.44it/s]\u001B[A\n",
      "Processing examples in test:  84%|████████▍ | 8405/10000 [2:00:18<09:16,  2.87it/s]\u001B[A\n",
      "Processing examples in test:  84%|████████▍ | 8406/10000 [2:00:20<15:33,  1.71it/s]\u001B[A\n",
      "Processing examples in test:  84%|████████▍ | 8407/10000 [2:00:21<19:09,  1.39it/s]\u001B[A\n",
      "Processing examples in test:  84%|████████▍ | 8411/10000 [2:00:22<14:16,  1.85it/s]\u001B[A\n",
      "Processing examples in test:  84%|████████▍ | 8414/10000 [2:00:25<15:35,  1.70it/s]\u001B[A\n",
      "Processing examples in test:  84%|████████▍ | 8417/10000 [2:00:26<13:51,  1.90it/s]\u001B[A\n",
      "Processing examples in test:  84%|████████▍ | 8419/10000 [2:00:28<16:35,  1.59it/s]\u001B[A\n",
      "Processing examples in test:  84%|████████▍ | 8421/10000 [2:00:34<31:55,  1.21s/it]\u001B[A\n",
      "Processing examples in test:  84%|████████▍ | 8422/10000 [2:00:35<34:37,  1.32s/it]\u001B[A\n",
      "Processing examples in test:  84%|████████▍ | 8423/10000 [2:00:37<36:02,  1.37s/it]\u001B[A\n",
      "Processing examples in test:  84%|████████▍ | 8424/10000 [2:00:39<37:58,  1.45s/it]\u001B[A\n",
      "Processing examples in test:  84%|████████▍ | 8426/10000 [2:00:40<32:21,  1.23s/it]\u001B[A\n",
      "Processing examples in test:  84%|████████▍ | 8428/10000 [2:00:42<29:39,  1.13s/it]\u001B[A\n",
      "Processing examples in test:  84%|████████▍ | 8431/10000 [2:00:44<24:27,  1.07it/s]\u001B[A\n",
      "Processing examples in test:  84%|████████▍ | 8434/10000 [2:00:46<19:16,  1.35it/s]\u001B[A"
     ]
    },
    {
     "name": "stdout",
     "output_type": "stream",
     "text": [
      "Failed to transform with The children are sad as the man ignores them. Retrying 5 more times...\n",
      "Failed to transform with The children are sad as the man ignores them. Retrying 4 more times...\n",
      "Failed to transform with The children are sad as the man ignores them. Retrying 3 more times...\n",
      "Failed to transform with The children are sad as the man ignores them. Retrying 2 more times...\n"
     ]
    },
    {
     "name": "stderr",
     "output_type": "stream",
     "text": [
      "\n",
      "Processing examples in test:  84%|████████▍ | 8435/10000 [2:00:51<37:18,  1.43s/it]\u001B[A"
     ]
    },
    {
     "name": "stdout",
     "output_type": "stream",
     "text": [
      "Failed to transform with The children are sad as the man ignores them. Retrying 1 more times...\n"
     ]
    },
    {
     "name": "stderr",
     "output_type": "stream",
     "text": [
      "\n",
      "Processing examples in test:  84%|████████▍ | 8439/10000 [2:00:53<26:05,  1.00s/it]\u001B[A\n",
      "Processing examples in test:  84%|████████▍ | 8444/10000 [2:00:54<17:35,  1.47it/s]\u001B[A\n",
      "Processing examples in test:  84%|████████▍ | 8446/10000 [2:00:56<19:22,  1.34it/s]\u001B[A\n",
      "Processing examples in test:  84%|████████▍ | 8448/10000 [2:00:58<18:08,  1.43it/s]\u001B[A\n",
      "Processing examples in test:  84%|████████▍ | 8449/10000 [2:00:59<20:54,  1.24it/s]\u001B[A\n",
      "Processing examples in test:  84%|████████▍ | 8450/10000 [2:01:00<23:50,  1.08it/s]\u001B[A\n",
      "Processing examples in test:  85%|████████▍ | 8451/10000 [2:01:02<24:50,  1.04it/s]\u001B[A\n",
      "Processing examples in test:  85%|████████▍ | 8452/10000 [2:01:03<29:29,  1.14s/it]\u001B[A\n",
      "Processing examples in test:  85%|████████▍ | 8454/10000 [2:01:06<28:47,  1.12s/it]\u001B[A\n",
      "Processing examples in test:  85%|████████▍ | 8456/10000 [2:01:07<24:39,  1.04it/s]\u001B[A\n",
      "Processing examples in test:  85%|████████▍ | 8457/10000 [2:01:09<30:10,  1.17s/it]\u001B[A\n",
      "Processing examples in test:  85%|████████▍ | 8458/10000 [2:01:10<30:15,  1.18s/it]\u001B[A\n",
      "Processing examples in test:  85%|████████▍ | 8460/10000 [2:01:12<28:02,  1.09s/it]\u001B[A\n",
      "Processing examples in test:  85%|████████▍ | 8462/10000 [2:01:13<21:06,  1.21it/s]\u001B[A\n",
      "Processing examples in test:  85%|████████▍ | 8463/10000 [2:01:14<23:48,  1.08it/s]\u001B[A\n",
      "Processing examples in test:  85%|████████▍ | 8465/10000 [2:01:16<22:55,  1.12it/s]\u001B[A\n",
      "Processing examples in test:  85%|████████▍ | 8466/10000 [2:01:17<23:59,  1.07it/s]\u001B[A\n",
      "Processing examples in test:  85%|████████▍ | 8467/10000 [2:01:19<28:31,  1.12s/it]\u001B[A\n",
      "Processing examples in test:  85%|████████▍ | 8470/10000 [2:01:20<21:55,  1.16it/s]\u001B[A\n",
      "Processing examples in test:  85%|████████▍ | 8475/10000 [2:01:23<16:29,  1.54it/s]\u001B[A\n",
      "Processing examples in test:  85%|████████▍ | 8478/10000 [2:01:25<16:27,  1.54it/s]\u001B[A\n",
      "Processing examples in test:  85%|████████▍ | 8479/10000 [2:01:27<20:35,  1.23it/s]\u001B[A\n",
      "Processing examples in test:  85%|████████▍ | 8480/10000 [2:01:28<22:53,  1.11it/s]\u001B[A\n",
      "Processing examples in test:  85%|████████▍ | 8482/10000 [2:01:30<22:06,  1.14it/s]\u001B[A\n",
      "Processing examples in test:  85%|████████▍ | 8484/10000 [2:01:31<22:01,  1.15it/s]\u001B[A\n",
      "Processing examples in test:  85%|████████▍ | 8485/10000 [2:01:32<23:12,  1.09it/s]\u001B[A\n",
      "Processing examples in test:  85%|████████▍ | 8490/10000 [2:01:34<13:33,  1.86it/s]\u001B[A\n",
      "Processing examples in test:  85%|████████▍ | 8491/10000 [2:01:35<16:00,  1.57it/s]\u001B[A\n",
      "Processing examples in test:  85%|████████▍ | 8495/10000 [2:01:36<12:15,  2.05it/s]\u001B[A\n",
      "Processing examples in test:  85%|████████▍ | 8498/10000 [2:01:38<12:22,  2.02it/s]\u001B[A\n",
      "Processing examples in test:  85%|████████▍ | 8499/10000 [2:01:40<18:37,  1.34it/s]\u001B[A\n",
      "Processing examples in test:  85%|████████▌ | 8500/10000 [2:01:41<19:55,  1.25it/s]\u001B[A\n",
      "Processing examples in test:  85%|████████▌ | 8502/10000 [2:01:42<18:02,  1.38it/s]\u001B[A\n",
      "Processing examples in test:  85%|████████▌ | 8504/10000 [2:01:43<16:47,  1.48it/s]\u001B[A\n",
      "Processing examples in test:  85%|████████▌ | 8507/10000 [2:01:44<12:25,  2.00it/s]\u001B[A\n",
      "Processing examples in test:  85%|████████▌ | 8511/10000 [2:01:45<10:47,  2.30it/s]\u001B[A\n",
      "Processing examples in test:  85%|████████▌ | 8513/10000 [2:01:47<11:49,  2.10it/s]\u001B[A\n",
      "Processing examples in test:  85%|████████▌ | 8514/10000 [2:01:49<16:50,  1.47it/s]\u001B[A\n",
      "Processing examples in test:  85%|████████▌ | 8516/10000 [2:01:49<15:06,  1.64it/s]\u001B[A\n",
      "Processing examples in test:  85%|████████▌ | 8517/10000 [2:01:50<15:19,  1.61it/s]\u001B[A\n",
      "Processing examples in test:  85%|████████▌ | 8518/10000 [2:01:52<20:44,  1.19it/s]\u001B[A\n",
      "Processing examples in test:  85%|████████▌ | 8519/10000 [2:01:53<22:40,  1.09it/s]\u001B[A\n",
      "Processing examples in test:  85%|████████▌ | 8520/10000 [2:01:55<29:08,  1.18s/it]\u001B[A\n",
      "Processing examples in test:  85%|████████▌ | 8522/10000 [2:01:57<27:01,  1.10s/it]\u001B[A\n",
      "Processing examples in test:  85%|████████▌ | 8524/10000 [2:01:58<22:00,  1.12it/s]\u001B[A\n",
      "Processing examples in test:  85%|████████▌ | 8525/10000 [2:02:00<27:11,  1.11s/it]\u001B[A\n",
      "Processing examples in test:  85%|████████▌ | 8526/10000 [2:02:01<24:54,  1.01s/it]\u001B[A\n",
      "Processing examples in test:  85%|████████▌ | 8528/10000 [2:02:03<24:43,  1.01s/it]\u001B[A\n",
      "Processing examples in test:  85%|████████▌ | 8529/10000 [2:02:05<29:14,  1.19s/it]\u001B[A\n",
      "Processing examples in test:  85%|████████▌ | 8532/10000 [2:02:06<21:04,  1.16it/s]\u001B[A\n",
      "Processing examples in test:  85%|████████▌ | 8533/10000 [2:02:08<25:35,  1.05s/it]\u001B[A\n",
      "Processing examples in test:  85%|████████▌ | 8536/10000 [2:02:10<20:32,  1.19it/s]\u001B[A\n",
      "Processing examples in test:  85%|████████▌ | 8537/10000 [2:02:11<22:18,  1.09it/s]\u001B[A\n",
      "Processing examples in test:  85%|████████▌ | 8538/10000 [2:02:13<26:52,  1.10s/it]\u001B[A\n",
      "Processing examples in test:  85%|████████▌ | 8542/10000 [2:02:15<18:44,  1.30it/s]\u001B[A\n",
      "Processing examples in test:  85%|████████▌ | 8543/10000 [2:02:17<23:42,  1.02it/s]\u001B[A\n",
      "Processing examples in test:  85%|████████▌ | 8546/10000 [2:02:18<17:46,  1.36it/s]\u001B[A\n",
      "Processing examples in test:  85%|████████▌ | 8547/10000 [2:02:19<17:51,  1.36it/s]\u001B[A\n",
      "Processing examples in test:  85%|████████▌ | 8548/10000 [2:02:22<30:17,  1.25s/it]\u001B[A\n",
      "Processing examples in test:  85%|████████▌ | 8549/10000 [2:02:24<35:08,  1.45s/it]\u001B[A\n",
      "Processing examples in test:  86%|████████▌ | 8550/10000 [2:02:28<47:33,  1.97s/it]\u001B[A\n",
      "Processing examples in test:  86%|████████▌ | 8551/10000 [2:02:29<42:07,  1.74s/it]\u001B[A\n",
      "Processing examples in test:  86%|████████▌ | 8552/10000 [2:02:31<45:28,  1.88s/it]\u001B[A\n",
      "Processing examples in test:  86%|████████▌ | 8553/10000 [2:02:33<43:26,  1.80s/it]\u001B[A\n",
      "Processing examples in test:  86%|████████▌ | 8554/10000 [2:02:34<38:22,  1.59s/it]\u001B[A\n",
      "Processing examples in test:  86%|████████▌ | 8556/10000 [2:02:36<31:27,  1.31s/it]\u001B[A\n",
      "Processing examples in test:  86%|████████▌ | 8557/10000 [2:02:37<28:23,  1.18s/it]\u001B[A"
     ]
    },
    {
     "name": "stdout",
     "output_type": "stream",
     "text": [
      "Failed to transform A man wearing an orange shirt and sunglasses jogging in a marathon with spectators spectating him. or A man competes in a long distance run.. Retrying 5 more times ...\n",
      "Failed to transform A man wearing an orange shirt and sunglasses jogging in a marathon with spectators spectating him. or A man competes in a long distance run.. Retrying 4 more times ...\n",
      "Failed to transform A man wearing an orange shirt and sunglasses jogging in a marathon with spectators spectating him. or A man competes in a long distance run.. Retrying 3 more times ...\n",
      "Failed to transform A man wearing an orange shirt and sunglasses jogging in a marathon with spectators spectating him. or A man competes in a long distance run.. Retrying 2 more times ...\n"
     ]
    },
    {
     "name": "stderr",
     "output_type": "stream",
     "text": [
      "\n",
      "Processing examples in test:  86%|████████▌ | 8558/10000 [2:02:41<50:18,  2.09s/it]\u001B[A"
     ]
    },
    {
     "name": "stdout",
     "output_type": "stream",
     "text": [
      "Failed to transform A man wearing an orange shirt and sunglasses jogging in a marathon with spectators spectating him. or A man competes in a long distance run.. Retrying 1 more times ...\n"
     ]
    },
    {
     "name": "stderr",
     "output_type": "stream",
     "text": [
      "\n",
      "Processing examples in test:  86%|████████▌ | 8561/10000 [2:02:43<30:25,  1.27s/it]\u001B[A\n",
      "Processing examples in test:  86%|████████▌ | 8562/10000 [2:02:45<34:12,  1.43s/it]\u001B[A\n",
      "Processing examples in test:  86%|████████▌ | 8563/10000 [2:02:46<30:51,  1.29s/it]\u001B[A\n",
      "Processing examples in test:  86%|████████▌ | 8564/10000 [2:02:47<30:56,  1.29s/it]\u001B[A\n",
      "Processing examples in test:  86%|████████▌ | 8565/10000 [2:02:48<27:35,  1.15s/it]\u001B[A\n",
      "Processing examples in test:  86%|████████▌ | 8568/10000 [2:02:49<19:03,  1.25it/s]\u001B[A\n",
      "Processing examples in test:  86%|████████▌ | 8571/10000 [2:02:51<17:14,  1.38it/s]\u001B[A\n",
      "Processing examples in test:  86%|████████▌ | 8572/10000 [2:02:52<19:06,  1.25it/s]\u001B[A"
     ]
    },
    {
     "name": "stdout",
     "output_type": "stream",
     "text": [
      "Failed to transform Middle-aged man cleaning the fallen snow on the roof of his car with a broom. or The man is cleaning off his car.. Retrying 5 more times ...\n",
      "Failed to transform Middle-aged man cleaning the fallen snow on the roof of his car with a broom. or The man is cleaning off his car.. Retrying 4 more times ...\n",
      "Failed to transform Middle-aged man cleaning the fallen snow on the roof of his car with a broom. or The man is cleaning off his car.. Retrying 3 more times ...\n",
      "Failed to transform Middle-aged man cleaning the fallen snow on the roof of his car with a broom. or The man is cleaning off his car.. Retrying 2 more times ...\n"
     ]
    },
    {
     "name": "stderr",
     "output_type": "stream",
     "text": [
      "\n",
      "Processing examples in test:  86%|████████▌ | 8578/10000 [2:02:56<16:22,  1.45it/s]\u001B[A"
     ]
    },
    {
     "name": "stdout",
     "output_type": "stream",
     "text": [
      "Failed to transform Middle-aged man cleaning the fallen snow on the roof of his car with a broom. or The man is cleaning off his car.. Retrying 1 more times ...\n"
     ]
    },
    {
     "name": "stderr",
     "output_type": "stream",
     "text": [
      "\n",
      "Processing examples in test:  86%|████████▌ | 8581/10000 [2:02:57<14:26,  1.64it/s]\u001B[A\n",
      "Processing examples in test:  86%|████████▌ | 8583/10000 [2:02:59<16:44,  1.41it/s]\u001B[A\n",
      "Processing examples in test:  86%|████████▌ | 8585/10000 [2:03:00<15:38,  1.51it/s]\u001B[A\n",
      "Processing examples in test:  86%|████████▌ | 8586/10000 [2:03:02<19:56,  1.18it/s]\u001B[A\n",
      "Processing examples in test:  86%|████████▌ | 8587/10000 [2:03:03<20:44,  1.13it/s]\u001B[A\n",
      "Processing examples in test:  86%|████████▌ | 8589/10000 [2:03:05<19:35,  1.20it/s]\u001B[A\n",
      "Processing examples in test:  86%|████████▌ | 8592/10000 [2:03:06<13:54,  1.69it/s]\u001B[A\n",
      "Processing examples in test:  86%|████████▌ | 8593/10000 [2:03:07<16:25,  1.43it/s]\u001B[A\n",
      "Processing examples in test:  86%|████████▌ | 8594/10000 [2:03:08<18:27,  1.27it/s]\u001B[A\n",
      "Processing examples in test:  86%|████████▌ | 8597/10000 [2:03:10<16:17,  1.44it/s]\u001B[A\n",
      "Processing examples in test:  86%|████████▌ | 8601/10000 [2:03:11<11:48,  1.98it/s]\u001B[A\n",
      "Processing examples in test:  86%|████████▌ | 8603/10000 [2:03:12<12:33,  1.85it/s]\u001B[A\n",
      "Processing examples in test:  86%|████████▌ | 8604/10000 [2:03:13<15:05,  1.54it/s]\u001B[A\n",
      "Processing examples in test:  86%|████████▌ | 8605/10000 [2:03:15<19:12,  1.21it/s]\u001B[A\n",
      "Processing examples in test:  86%|████████▌ | 8606/10000 [2:03:16<20:54,  1.11it/s]\u001B[A\n",
      "Processing examples in test:  86%|████████▌ | 8610/10000 [2:03:20<20:54,  1.11it/s]\u001B[A\n",
      "Processing examples in test:  86%|████████▌ | 8612/10000 [2:03:21<17:37,  1.31it/s]\u001B[A\n",
      "Processing examples in test:  86%|████████▌ | 8613/10000 [2:03:23<22:29,  1.03it/s]\u001B[A\n",
      "Processing examples in test:  86%|████████▌ | 8614/10000 [2:03:24<23:43,  1.03s/it]\u001B[A\n",
      "Processing examples in test:  86%|████████▌ | 8616/10000 [2:03:25<20:09,  1.14it/s]\u001B[A\n",
      "Processing examples in test:  86%|████████▌ | 8617/10000 [2:03:27<22:49,  1.01it/s]\u001B[A\n",
      "Processing examples in test:  86%|████████▌ | 8619/10000 [2:03:29<22:27,  1.03it/s]\u001B[A\n",
      "Processing examples in test:  86%|████████▌ | 8621/10000 [2:03:30<21:07,  1.09it/s]\u001B[A\n",
      "Processing examples in test:  86%|████████▌ | 8623/10000 [2:03:32<21:35,  1.06it/s]\u001B[A\n",
      "Processing examples in test:  86%|████████▌ | 8624/10000 [2:03:35<27:58,  1.22s/it]\u001B[A\n",
      "Processing examples in test:  86%|████████▋ | 8626/10000 [2:03:35<21:08,  1.08it/s]\u001B[A\n",
      "Processing examples in test:  86%|████████▋ | 8628/10000 [2:03:36<18:12,  1.26it/s]\u001B[A\n",
      "Processing examples in test:  86%|████████▋ | 8630/10000 [2:03:38<16:25,  1.39it/s]\u001B[A\n",
      "Processing examples in test:  86%|████████▋ | 8633/10000 [2:03:38<11:57,  1.90it/s]\u001B[A\n",
      "Processing examples in test:  86%|████████▋ | 8635/10000 [2:03:39<10:41,  2.13it/s]\u001B[A\n",
      "Processing examples in test:  86%|████████▋ | 8636/10000 [2:03:41<16:15,  1.40it/s]\u001B[A\n",
      "Processing examples in test:  86%|████████▋ | 8637/10000 [2:03:42<19:45,  1.15it/s]\u001B[A\n",
      "Processing examples in test:  86%|████████▋ | 8638/10000 [2:03:44<25:25,  1.12s/it]\u001B[A\n",
      "Processing examples in test:  86%|████████▋ | 8639/10000 [2:03:46<29:51,  1.32s/it]\u001B[A\n",
      "Processing examples in test:  86%|████████▋ | 8640/10000 [2:03:48<34:16,  1.51s/it]\u001B[A\n",
      "Processing examples in test:  86%|████████▋ | 8641/10000 [2:03:51<38:39,  1.71s/it]\u001B[A\n",
      "Processing examples in test:  86%|████████▋ | 8643/10000 [2:03:53<33:25,  1.48s/it]\u001B[A\n",
      "Processing examples in test:  86%|████████▋ | 8646/10000 [2:03:55<23:23,  1.04s/it]\u001B[A\n",
      "Processing examples in test:  86%|████████▋ | 8648/10000 [2:03:56<20:00,  1.13it/s]\u001B[A\n",
      "Processing examples in test:  86%|████████▋ | 8649/10000 [2:03:57<19:43,  1.14it/s]\u001B[A\n",
      "Processing examples in test:  86%|████████▋ | 8650/10000 [2:03:58<20:38,  1.09it/s]\u001B[A\n",
      "Processing examples in test:  87%|████████▋ | 8651/10000 [2:03:59<19:52,  1.13it/s]\u001B[A\n",
      "Processing examples in test:  87%|████████▋ | 8652/10000 [2:04:00<21:24,  1.05it/s]\u001B[A\n",
      "Processing examples in test:  87%|████████▋ | 8656/10000 [2:04:00<11:17,  1.98it/s]\u001B[A\n",
      "Processing examples in test:  87%|████████▋ | 8658/10000 [2:04:02<12:06,  1.85it/s]\u001B[A\n",
      "Processing examples in test:  87%|████████▋ | 8659/10000 [2:04:03<13:42,  1.63it/s]\u001B[A\n",
      "Processing examples in test:  87%|████████▋ | 8660/10000 [2:04:05<19:23,  1.15it/s]\u001B[A\n",
      "Processing examples in test:  87%|████████▋ | 8662/10000 [2:04:07<21:32,  1.03it/s]\u001B[A\n",
      "Processing examples in test:  87%|████████▋ | 8664/10000 [2:04:09<21:53,  1.02it/s]\u001B[A\n",
      "Processing examples in test:  87%|████████▋ | 8668/10000 [2:04:10<14:27,  1.54it/s]\u001B[A\n",
      "Processing examples in test:  87%|████████▋ | 8670/10000 [2:04:11<14:02,  1.58it/s]\u001B[A\n",
      "Processing examples in test:  87%|████████▋ | 8673/10000 [2:04:13<12:54,  1.71it/s]\u001B[A\n",
      "Processing examples in test:  87%|████████▋ | 8674/10000 [2:04:14<16:34,  1.33it/s]\u001B[A\n",
      "Processing examples in test:  87%|████████▋ | 8676/10000 [2:04:17<20:32,  1.07it/s]\u001B[A\n",
      "Processing examples in test:  87%|████████▋ | 8678/10000 [2:04:20<24:16,  1.10s/it]\u001B[A\n",
      "Processing examples in test:  87%|████████▋ | 8679/10000 [2:04:23<28:57,  1.31s/it]\u001B[A\n",
      "Processing examples in test:  87%|████████▋ | 8680/10000 [2:04:24<31:46,  1.44s/it]\u001B[A\n",
      "Processing examples in test:  87%|████████▋ | 8681/10000 [2:04:26<31:46,  1.45s/it]\u001B[A\n",
      "Processing examples in test:  87%|████████▋ | 8682/10000 [2:04:28<34:21,  1.56s/it]\u001B[A\n",
      "Processing examples in test:  87%|████████▋ | 8683/10000 [2:04:29<32:58,  1.50s/it]\u001B[A\n",
      "Processing examples in test:  87%|████████▋ | 8685/10000 [2:04:30<23:41,  1.08s/it]\u001B[A\n",
      "Processing examples in test:  87%|████████▋ | 8686/10000 [2:04:31<23:47,  1.09s/it]\u001B[A\n",
      "Processing examples in test:  87%|████████▋ | 8693/10000 [2:04:33<11:29,  1.89it/s]\u001B[A\n",
      "Processing examples in test:  87%|████████▋ | 8695/10000 [2:04:35<12:23,  1.76it/s]\u001B[A\n",
      "Processing examples in test:  87%|████████▋ | 8696/10000 [2:04:37<15:58,  1.36it/s]\u001B[A\n",
      "Processing examples in test:  87%|████████▋ | 8697/10000 [2:04:38<19:26,  1.12it/s]\u001B[A\n",
      "Processing examples in test:  87%|████████▋ | 8698/10000 [2:04:39<20:35,  1.05it/s]\u001B[A\n",
      "Processing examples in test:  87%|████████▋ | 8699/10000 [2:04:41<24:33,  1.13s/it]\u001B[A\n",
      "Processing examples in test:  87%|████████▋ | 8700/10000 [2:04:42<23:58,  1.11s/it]\u001B[A\n",
      "Processing examples in test:  87%|████████▋ | 8701/10000 [2:04:44<28:22,  1.31s/it]\u001B[A\n",
      "Processing examples in test:  87%|████████▋ | 8702/10000 [2:04:45<24:36,  1.14s/it]\u001B[A\n",
      "Processing examples in test:  87%|████████▋ | 8704/10000 [2:04:47<23:32,  1.09s/it]\u001B[A\n",
      "Processing examples in test:  87%|████████▋ | 8705/10000 [2:04:48<21:32,  1.00it/s]\u001B[A\n",
      "Processing examples in test:  87%|████████▋ | 8707/10000 [2:04:51<27:08,  1.26s/it]\u001B[A\n",
      "Processing examples in test:  87%|████████▋ | 8709/10000 [2:04:52<20:43,  1.04it/s]\u001B[A\n",
      "Processing examples in test:  87%|████████▋ | 8710/10000 [2:04:54<27:52,  1.30s/it]\u001B[A\n",
      "Processing examples in test:  87%|████████▋ | 8712/10000 [2:04:56<23:50,  1.11s/it]\u001B[A\n",
      "Processing examples in test:  87%|████████▋ | 8716/10000 [2:04:58<17:18,  1.24it/s]\u001B[A\n",
      "Processing examples in test:  87%|████████▋ | 8717/10000 [2:05:00<20:33,  1.04it/s]\u001B[A\n",
      "Processing examples in test:  87%|████████▋ | 8718/10000 [2:05:01<21:53,  1.02s/it]\u001B[A\n",
      "Processing examples in test:  87%|████████▋ | 8721/10000 [2:05:02<14:20,  1.49it/s]\u001B[A\n",
      "Processing examples in test:  87%|████████▋ | 8725/10000 [2:05:03<10:57,  1.94it/s]\u001B[A\n",
      "Processing examples in test:  87%|████████▋ | 8729/10000 [2:05:04<08:52,  2.39it/s]\u001B[A\n",
      "Processing examples in test:  87%|████████▋ | 8730/10000 [2:05:06<12:52,  1.64it/s]\u001B[A\n",
      "Processing examples in test:  87%|████████▋ | 8731/10000 [2:05:07<14:21,  1.47it/s]\u001B[A\n",
      "Processing examples in test:  87%|████████▋ | 8732/10000 [2:05:09<18:17,  1.16it/s]\u001B[A\n",
      "Processing examples in test:  87%|████████▋ | 8734/10000 [2:05:10<17:03,  1.24it/s]\u001B[A\n",
      "Processing examples in test:  87%|████████▋ | 8735/10000 [2:05:11<18:18,  1.15it/s]\u001B[A\n",
      "Processing examples in test:  87%|████████▋ | 8737/10000 [2:05:13<16:07,  1.31it/s]\u001B[A\n",
      "Processing examples in test:  87%|████████▋ | 8738/10000 [2:05:13<15:45,  1.33it/s]\u001B[A\n",
      "Processing examples in test:  87%|████████▋ | 8739/10000 [2:05:15<21:26,  1.02s/it]\u001B[A\n",
      "Processing examples in test:  87%|████████▋ | 8740/10000 [2:05:17<27:08,  1.29s/it]\u001B[A\n",
      "Processing examples in test:  87%|████████▋ | 8742/10000 [2:05:19<24:02,  1.15s/it]\u001B[A\n",
      "Processing examples in test:  87%|████████▋ | 8743/10000 [2:05:20<23:54,  1.14s/it]\u001B[A\n",
      "Processing examples in test:  87%|████████▋ | 8744/10000 [2:05:22<27:34,  1.32s/it]\u001B[A\n",
      "Processing examples in test:  87%|████████▋ | 8745/10000 [2:05:24<30:07,  1.44s/it]\u001B[A\n",
      "Processing examples in test:  87%|████████▋ | 8747/10000 [2:05:25<22:31,  1.08s/it]\u001B[A"
     ]
    },
    {
     "name": "stdout",
     "output_type": "stream",
     "text": [
      "Failed to transform with a dog chases a boy to eat him. Retrying 5 more times...\n",
      "Failed to transform with a dog chases a boy to eat him. Retrying 4 more times...\n",
      "Failed to transform with a dog chases a boy to eat him. Retrying 3 more times...\n",
      "Failed to transform with a dog chases a boy to eat him. Retrying 2 more times...\n"
     ]
    },
    {
     "name": "stderr",
     "output_type": "stream",
     "text": [
      "\n",
      "Processing examples in test:  87%|████████▋ | 8748/10000 [2:05:29<35:29,  1.70s/it]\u001B[A"
     ]
    },
    {
     "name": "stdout",
     "output_type": "stream",
     "text": [
      "Failed to transform with a dog chases a boy to eat him. Retrying 1 more times...\n"
     ]
    },
    {
     "name": "stderr",
     "output_type": "stream",
     "text": [
      "\n",
      "Processing examples in test:  87%|████████▋ | 8749/10000 [2:05:30<32:20,  1.55s/it]\u001B[A\n",
      "Processing examples in test:  88%|████████▊ | 8753/10000 [2:05:32<19:23,  1.07it/s]\u001B[A\n",
      "Processing examples in test:  88%|████████▊ | 8754/10000 [2:05:34<23:38,  1.14s/it]\u001B[A\n",
      "Processing examples in test:  88%|████████▊ | 8756/10000 [2:05:35<20:04,  1.03it/s]\u001B[A\n",
      "Processing examples in test:  88%|████████▊ | 8757/10000 [2:05:37<24:11,  1.17s/it]\u001B[A\n",
      "Processing examples in test:  88%|████████▊ | 8761/10000 [2:05:39<15:23,  1.34it/s]\u001B[A\n",
      "Processing examples in test:  88%|████████▊ | 8762/10000 [2:05:41<18:30,  1.12it/s]\u001B[A\n",
      "Processing examples in test:  88%|████████▊ | 8763/10000 [2:05:42<18:56,  1.09it/s]\u001B[A\n",
      "Processing examples in test:  88%|████████▊ | 8764/10000 [2:05:43<19:19,  1.07it/s]\u001B[A\n",
      "Processing examples in test:  88%|████████▊ | 8766/10000 [2:05:45<19:09,  1.07it/s]\u001B[A\n",
      "Processing examples in test:  88%|████████▊ | 8767/10000 [2:05:46<19:49,  1.04it/s]\u001B[A\n",
      "Processing examples in test:  88%|████████▊ | 8771/10000 [2:05:47<13:05,  1.56it/s]\u001B[A\n",
      "Processing examples in test:  88%|████████▊ | 8772/10000 [2:05:49<15:49,  1.29it/s]\u001B[A\n",
      "Processing examples in test:  88%|████████▊ | 8773/10000 [2:05:50<19:03,  1.07it/s]\u001B[A\n",
      "Processing examples in test:  88%|████████▊ | 8775/10000 [2:05:52<18:40,  1.09it/s]\u001B[A\n",
      "Processing examples in test:  88%|████████▊ | 8776/10000 [2:05:54<22:49,  1.12s/it]\u001B[A\n",
      "Processing examples in test:  88%|████████▊ | 8778/10000 [2:05:56<21:00,  1.03s/it]\u001B[A\n",
      "Processing examples in test:  88%|████████▊ | 8779/10000 [2:05:58<26:48,  1.32s/it]\u001B[A\n",
      "Processing examples in test:  88%|████████▊ | 8780/10000 [2:06:00<29:50,  1.47s/it]\u001B[A\n",
      "Processing examples in test:  88%|████████▊ | 8783/10000 [2:06:01<19:52,  1.02it/s]\u001B[A\n",
      "Processing examples in test:  88%|████████▊ | 8784/10000 [2:06:03<22:55,  1.13s/it]\u001B[A\n",
      "Processing examples in test:  88%|████████▊ | 8785/10000 [2:06:05<25:44,  1.27s/it]\u001B[A\n",
      "Processing examples in test:  88%|████████▊ | 8791/10000 [2:06:07<12:44,  1.58it/s]\u001B[A\n",
      "Processing examples in test:  88%|████████▊ | 8792/10000 [2:06:08<14:52,  1.35it/s]\u001B[A\n",
      "Processing examples in test:  88%|████████▊ | 8795/10000 [2:06:09<12:40,  1.58it/s]\u001B[A\n",
      "Processing examples in test:  88%|████████▊ | 8796/10000 [2:06:13<20:11,  1.01s/it]\u001B[A\n",
      "Processing examples in test:  88%|████████▊ | 8797/10000 [2:06:14<21:22,  1.07s/it]\u001B[A\n",
      "Processing examples in test:  88%|████████▊ | 8799/10000 [2:06:15<16:30,  1.21it/s]\u001B[A\n",
      "Processing examples in test:  88%|████████▊ | 8800/10000 [2:06:15<16:01,  1.25it/s]\u001B[A\n",
      "Processing examples in test:  88%|████████▊ | 8803/10000 [2:06:16<11:39,  1.71it/s]\u001B[A\n",
      "Processing examples in test:  88%|████████▊ | 8805/10000 [2:06:18<11:53,  1.67it/s]\u001B[A\n",
      "Processing examples in test:  88%|████████▊ | 8807/10000 [2:06:19<12:15,  1.62it/s]\u001B[A\n",
      "Processing examples in test:  88%|████████▊ | 8810/10000 [2:06:20<10:24,  1.91it/s]\u001B[A\n",
      "Processing examples in test:  88%|████████▊ | 8813/10000 [2:06:21<08:22,  2.36it/s]\u001B[A\n",
      "Processing examples in test:  88%|████████▊ | 8814/10000 [2:06:23<12:31,  1.58it/s]\u001B[A\n",
      "Processing examples in test:  88%|████████▊ | 8815/10000 [2:06:24<14:41,  1.34it/s]\u001B[A\n",
      "Processing examples in test:  88%|████████▊ | 8817/10000 [2:06:25<14:49,  1.33it/s]\u001B[A\n",
      "Processing examples in test:  88%|████████▊ | 8818/10000 [2:06:27<18:33,  1.06it/s]\u001B[A\n",
      "Processing examples in test:  88%|████████▊ | 8820/10000 [2:06:29<18:22,  1.07it/s]\u001B[A\n",
      "Processing examples in test:  88%|████████▊ | 8821/10000 [2:06:31<22:11,  1.13s/it]\u001B[A\n",
      "Processing examples in test:  88%|████████▊ | 8822/10000 [2:06:32<23:42,  1.21s/it]\u001B[A\n",
      "Processing examples in test:  88%|████████▊ | 8823/10000 [2:06:34<26:44,  1.36s/it]\u001B[A\n",
      "Processing examples in test:  88%|████████▊ | 8826/10000 [2:06:35<15:39,  1.25it/s]\u001B[A\n",
      "Processing examples in test:  88%|████████▊ | 8829/10000 [2:06:36<12:13,  1.60it/s]\u001B[A\n",
      "Processing examples in test:  88%|████████▊ | 8834/10000 [2:06:38<09:48,  1.98it/s]\u001B[A\n",
      "Processing examples in test:  88%|████████▊ | 8835/10000 [2:06:39<10:19,  1.88it/s]\u001B[A\n",
      "Processing examples in test:  88%|████████▊ | 8836/10000 [2:06:40<11:44,  1.65it/s]\u001B[A"
     ]
    },
    {
     "name": "stdout",
     "output_type": "stream",
     "text": [
      "Failed to transform A man wearing a straw hat sitting in a chair holding the leash on a dog who is laying on the sidewalk next to him. or The man is wearing a baseball cap.. Retrying 5 more times ...\n",
      "Failed to transform A man wearing a straw hat sitting in a chair holding the leash on a dog who is laying on the sidewalk next to him. or The man is wearing a baseball cap.. Retrying 4 more times ...\n",
      "Failed to transform A man wearing a straw hat sitting in a chair holding the leash on a dog who is laying on the sidewalk next to him. or The man is wearing a baseball cap.. Retrying 3 more times ...\n",
      "Failed to transform A man wearing a straw hat sitting in a chair holding the leash on a dog who is laying on the sidewalk next to him. or The man is wearing a baseball cap.. Retrying 2 more times ...\n"
     ]
    },
    {
     "name": "stderr",
     "output_type": "stream",
     "text": [
      "\n",
      "Processing examples in test:  88%|████████▊ | 8837/10000 [2:06:46<31:24,  1.62s/it]\u001B[A"
     ]
    },
    {
     "name": "stdout",
     "output_type": "stream",
     "text": [
      "Failed to transform A man wearing a straw hat sitting in a chair holding the leash on a dog who is laying on the sidewalk next to him. or The man is wearing a baseball cap.. Retrying 1 more times ...\n"
     ]
    },
    {
     "name": "stderr",
     "output_type": "stream",
     "text": [
      "\n",
      "Processing examples in test:  88%|████████▊ | 8841/10000 [2:06:47<18:18,  1.06it/s]\u001B[A\n",
      "Processing examples in test:  88%|████████▊ | 8843/10000 [2:06:49<18:25,  1.05it/s]\u001B[A\n",
      "Processing examples in test:  88%|████████▊ | 8844/10000 [2:06:52<22:41,  1.18s/it]\u001B[A\n",
      "Processing examples in test:  88%|████████▊ | 8848/10000 [2:06:53<14:27,  1.33it/s]\u001B[A\n",
      "Processing examples in test:  88%|████████▊ | 8850/10000 [2:06:54<12:46,  1.50it/s]\u001B[A\n",
      "Processing examples in test:  89%|████████▊ | 8852/10000 [2:06:55<14:13,  1.35it/s]\u001B[A\n",
      "Processing examples in test:  89%|████████▊ | 8854/10000 [2:06:57<13:51,  1.38it/s]\u001B[A\n",
      "Processing examples in test:  89%|████████▊ | 8856/10000 [2:07:00<18:51,  1.01it/s]\u001B[A\n",
      "Processing examples in test:  89%|████████▊ | 8857/10000 [2:07:02<20:51,  1.09s/it]\u001B[A\n",
      "Processing examples in test:  89%|████████▊ | 8859/10000 [2:07:04<20:40,  1.09s/it]\u001B[A\n",
      "Processing examples in test:  89%|████████▊ | 8860/10000 [2:07:06<23:48,  1.25s/it]\u001B[A\n",
      "Processing examples in test:  89%|████████▊ | 8863/10000 [2:07:07<14:59,  1.26it/s]\u001B[A\n",
      "Processing examples in test:  89%|████████▊ | 8865/10000 [2:07:08<13:48,  1.37it/s]\u001B[A"
     ]
    },
    {
     "name": "stdout",
     "output_type": "stream",
     "text": [
      "Failed to transform One man wearing an oxford shirt, sunglass, and one hat smirk. or A man hiding his true identity.. Retrying 5 more times ...\n",
      "Failed to transform One a man wearing  a oxford a shirt, a sunglass, and one a hat a smirk. or A man hiding his true identity.. Retrying 4 more times ...\n",
      "Failed to transform One a man wearing  a oxford a shirt, a sunglass, and one a hat a smirk. or A man hiding his true identity.. Retrying 3 more times ...\n",
      "Failed to transform One a man wearing  a oxford a shirt, a sunglass, and one a hat a smirk. or A man hiding his true identity.. Retrying 2 more times ...\n"
     ]
    },
    {
     "name": "stderr",
     "output_type": "stream",
     "text": [
      "\n",
      "Processing examples in test:  89%|████████▊ | 8869/10000 [2:07:16<25:51,  1.37s/it]\u001B[A"
     ]
    },
    {
     "name": "stdout",
     "output_type": "stream",
     "text": [
      "Failed to transform One one man wearing  one oxford one shirt, one sunglass, and one one hat one smirk. or A man hiding his true identity.. Retrying 1 more times ...\n"
     ]
    },
    {
     "name": "stderr",
     "output_type": "stream",
     "text": [
      "\n",
      "Processing examples in test:  89%|████████▊ | 8871/10000 [2:07:17<21:12,  1.13s/it]\u001B[A\n",
      "Processing examples in test:  89%|████████▊ | 8873/10000 [2:07:18<18:41,  1.00it/s]\u001B[A\n",
      "Processing examples in test:  89%|████████▊ | 8874/10000 [2:07:19<19:17,  1.03s/it]\u001B[A\n",
      "Processing examples in test:  89%|████████▉ | 8875/10000 [2:07:21<20:32,  1.10s/it]\u001B[A\n",
      "Processing examples in test:  89%|████████▉ | 8878/10000 [2:07:23<16:29,  1.13it/s]\u001B[A\n",
      "Processing examples in test:  89%|████████▉ | 8879/10000 [2:07:24<17:44,  1.05it/s]\u001B[A\n",
      "Processing examples in test:  89%|████████▉ | 8880/10000 [2:07:26<23:18,  1.25s/it]\u001B[A\n",
      "Processing examples in test:  89%|████████▉ | 8882/10000 [2:07:28<18:44,  1.01s/it]\u001B[A\n",
      "Processing examples in test:  89%|████████▉ | 8885/10000 [2:07:28<12:25,  1.50it/s]\u001B[A\n",
      "Processing examples in test:  89%|████████▉ | 8886/10000 [2:07:29<14:00,  1.33it/s]\u001B[A\n",
      "Processing examples in test:  89%|████████▉ | 8888/10000 [2:07:31<15:33,  1.19it/s]\u001B[A\n",
      "Processing examples in test:  89%|████████▉ | 8889/10000 [2:07:34<20:16,  1.10s/it]\u001B[A\n",
      "Processing examples in test:  89%|████████▉ | 8890/10000 [2:07:34<18:45,  1.01s/it]\u001B[A\n",
      "Processing examples in test:  89%|████████▉ | 8894/10000 [2:07:36<13:50,  1.33it/s]\u001B[A\n",
      "Processing examples in test:  89%|████████▉ | 8896/10000 [2:07:38<14:41,  1.25it/s]\u001B[A\n",
      "Processing examples in test:  89%|████████▉ | 8897/10000 [2:07:40<18:22,  1.00it/s]\u001B[A\n",
      "Processing examples in test:  89%|████████▉ | 8898/10000 [2:07:42<21:13,  1.16s/it]\u001B[A\n",
      "Processing examples in test:  89%|████████▉ | 8899/10000 [2:07:43<21:28,  1.17s/it]\u001B[A\n",
      "Processing examples in test:  89%|████████▉ | 8900/10000 [2:07:44<20:06,  1.10s/it]\u001B[A\n",
      "Processing examples in test:  89%|████████▉ | 8902/10000 [2:07:45<16:36,  1.10it/s]\u001B[A\n",
      "Processing examples in test:  89%|████████▉ | 8903/10000 [2:07:48<21:39,  1.18s/it]\u001B[A\n",
      "Processing examples in test:  89%|████████▉ | 8904/10000 [2:07:49<24:37,  1.35s/it]\u001B[A\n",
      "Processing examples in test:  89%|████████▉ | 8905/10000 [2:07:51<26:42,  1.46s/it]\u001B[A\n",
      "Processing examples in test:  89%|████████▉ | 8906/10000 [2:07:53<28:44,  1.58s/it]\u001B[A\n",
      "Processing examples in test:  89%|████████▉ | 8908/10000 [2:07:55<24:57,  1.37s/it]\u001B[A\n",
      "Processing examples in test:  89%|████████▉ | 8912/10000 [2:07:56<13:49,  1.31it/s]\u001B[A\n",
      "Processing examples in test:  89%|████████▉ | 8913/10000 [2:07:58<15:21,  1.18it/s]\u001B[A\n",
      "Processing examples in test:  89%|████████▉ | 8914/10000 [2:07:59<16:44,  1.08it/s]\u001B[A\n",
      "Processing examples in test:  89%|████████▉ | 8916/10000 [2:08:01<17:03,  1.06it/s]\u001B[A\n",
      "Processing examples in test:  89%|████████▉ | 8919/10000 [2:08:03<14:42,  1.22it/s]\u001B[A\n",
      "Processing examples in test:  89%|████████▉ | 8921/10000 [2:08:05<15:21,  1.17it/s]\u001B[A\n",
      "Processing examples in test:  89%|████████▉ | 8922/10000 [2:08:07<18:57,  1.05s/it]\u001B[A\n",
      "Processing examples in test:  89%|████████▉ | 8923/10000 [2:08:08<19:32,  1.09s/it]\u001B[A\n",
      "Processing examples in test:  89%|████████▉ | 8924/10000 [2:08:09<20:10,  1.13s/it]\u001B[A\n",
      "Processing examples in test:  89%|████████▉ | 8926/10000 [2:08:10<14:36,  1.23it/s]\u001B[A\n",
      "Processing examples in test:  89%|████████▉ | 8928/10000 [2:08:11<11:47,  1.51it/s]\u001B[A\n",
      "Processing examples in test:  89%|████████▉ | 8932/10000 [2:08:12<08:19,  2.14it/s]\u001B[A\n",
      "Processing examples in test:  89%|████████▉ | 8933/10000 [2:08:14<12:54,  1.38it/s]\u001B[A\n",
      "Processing examples in test:  89%|████████▉ | 8936/10000 [2:08:16<12:09,  1.46it/s]\u001B[A\n",
      "Processing examples in test:  89%|████████▉ | 8938/10000 [2:08:17<11:06,  1.59it/s]\u001B[A\n",
      "Processing examples in test:  89%|████████▉ | 8939/10000 [2:08:18<12:27,  1.42it/s]\u001B[A\n",
      "Processing examples in test:  89%|████████▉ | 8940/10000 [2:08:22<22:20,  1.26s/it]\u001B[A\n",
      "Processing examples in test:  89%|████████▉ | 8944/10000 [2:08:23<15:12,  1.16it/s]\u001B[A\n",
      "Processing examples in test:  89%|████████▉ | 8945/10000 [2:08:26<18:23,  1.05s/it]\u001B[A\n",
      "Processing examples in test:  89%|████████▉ | 8947/10000 [2:08:27<15:38,  1.12it/s]\u001B[A\n",
      "Processing examples in test:  89%|████████▉ | 8949/10000 [2:08:27<12:38,  1.38it/s]\u001B[A"
     ]
    },
    {
     "name": "stdout",
     "output_type": "stream",
     "text": [
      "Failed to transform Two women sitting at a table with their hands together. or Two women are praying at a table before they eat their lunch.. Retrying 5 more times ...\n",
      "Failed to transform Two women sitting at a table with their hands together. or Two women are praying at a table before they eat their lunch.. Retrying 4 more times ...\n",
      "Failed to transform Two women sitting at a table with their hands together. or Two women are praying at a table before they eat their lunch.. Retrying 3 more times ...\n",
      "Failed to transform Two women sitting at a table with their hands together. or Two women are praying at a table before they eat their lunch.. Retrying 2 more times ...\n"
     ]
    },
    {
     "name": "stderr",
     "output_type": "stream",
     "text": [
      "\n",
      "Processing examples in test:  90%|████████▉ | 8952/10000 [2:08:32<18:30,  1.06s/it]\u001B[A"
     ]
    },
    {
     "name": "stdout",
     "output_type": "stream",
     "text": [
      "Failed to transform Two women sitting at a table with their hands together. or Two women are praying at a table before they eat their lunch.. Retrying 1 more times ...\n"
     ]
    },
    {
     "name": "stderr",
     "output_type": "stream",
     "text": [
      "\n",
      "Processing examples in test:  90%|████████▉ | 8954/10000 [2:08:34<18:22,  1.05s/it]\u001B[A\n",
      "Processing examples in test:  90%|████████▉ | 8955/10000 [2:08:36<19:36,  1.13s/it]\u001B[A\n",
      "Processing examples in test:  90%|████████▉ | 8957/10000 [2:08:37<18:37,  1.07s/it]\u001B[A\n",
      "Processing examples in test:  90%|████████▉ | 8960/10000 [2:08:39<13:32,  1.28it/s]\u001B[A\n",
      "Processing examples in test:  90%|████████▉ | 8961/10000 [2:08:40<15:34,  1.11it/s]\u001B[A\n",
      "Processing examples in test:  90%|████████▉ | 8962/10000 [2:08:41<16:02,  1.08it/s]\u001B[A\n",
      "Processing examples in test:  90%|████████▉ | 8966/10000 [2:08:43<11:53,  1.45it/s]\u001B[A\n",
      "Processing examples in test:  90%|████████▉ | 8969/10000 [2:08:44<10:03,  1.71it/s]\u001B[A\n",
      "Processing examples in test:  90%|████████▉ | 8970/10000 [2:08:46<13:41,  1.25it/s]\u001B[A\n",
      "Processing examples in test:  90%|████████▉ | 8971/10000 [2:08:48<16:50,  1.02it/s]\u001B[A\n",
      "Processing examples in test:  90%|████████▉ | 8972/10000 [2:08:49<16:59,  1.01it/s]\u001B[A\n",
      "Processing examples in test:  90%|████████▉ | 8974/10000 [2:08:51<17:09,  1.00s/it]\u001B[A\n",
      "Processing examples in test:  90%|████████▉ | 8975/10000 [2:08:53<20:54,  1.22s/it]\u001B[A\n",
      "Processing examples in test:  90%|████████▉ | 8977/10000 [2:08:54<16:47,  1.02it/s]\u001B[A\n",
      "Processing examples in test:  90%|████████▉ | 8978/10000 [2:08:56<17:26,  1.02s/it]\u001B[A\n",
      "Processing examples in test:  90%|████████▉ | 8979/10000 [2:08:57<20:36,  1.21s/it]\u001B[A\n",
      "Processing examples in test:  90%|████████▉ | 8980/10000 [2:08:58<19:28,  1.15s/it]\u001B[A\n",
      "Processing examples in test:  90%|████████▉ | 8987/10000 [2:09:00<08:58,  1.88it/s]\u001B[A\n",
      "Processing examples in test:  90%|████████▉ | 8989/10000 [2:09:02<10:37,  1.58it/s]\u001B[A\n",
      "Processing examples in test:  90%|████████▉ | 8991/10000 [2:09:04<12:16,  1.37it/s]\u001B[A\n",
      "Processing examples in test:  90%|████████▉ | 8996/10000 [2:09:06<09:26,  1.77it/s]\u001B[A\n",
      "Processing examples in test:  90%|████████▉ | 8997/10000 [2:09:07<10:23,  1.61it/s]\u001B[A\n",
      "Processing examples in test:  90%|█████████ | 9003/10000 [2:09:09<08:04,  2.06it/s]\u001B[A\n",
      "Processing examples in test:  90%|█████████ | 9005/10000 [2:09:11<08:59,  1.84it/s]\u001B[A\n",
      "Processing examples in test:  90%|█████████ | 9006/10000 [2:09:12<09:57,  1.66it/s]\u001B[A\n",
      "Processing examples in test:  90%|█████████ | 9007/10000 [2:09:13<11:44,  1.41it/s]\u001B[A\n",
      "Processing examples in test:  90%|█████████ | 9009/10000 [2:09:15<12:44,  1.30it/s]\u001B[A\n",
      "Processing examples in test:  90%|█████████ | 9013/10000 [2:09:16<09:01,  1.82it/s]\u001B[A\n",
      "Processing examples in test:  90%|█████████ | 9019/10000 [2:09:17<06:05,  2.69it/s]\u001B[A\n",
      "Processing examples in test:  90%|█████████ | 9021/10000 [2:09:19<07:59,  2.04it/s]\u001B[A\n",
      "Processing examples in test:  90%|█████████ | 9024/10000 [2:09:21<08:50,  1.84it/s]\u001B[A\n",
      "Processing examples in test:  90%|█████████ | 9026/10000 [2:09:23<10:16,  1.58it/s]\u001B[A\n",
      "Processing examples in test:  90%|█████████ | 9027/10000 [2:09:25<11:48,  1.37it/s]\u001B[A\n",
      "Processing examples in test:  90%|█████████ | 9028/10000 [2:09:26<12:42,  1.28it/s]\u001B[A\n",
      "Processing examples in test:  90%|█████████ | 9029/10000 [2:09:28<15:41,  1.03it/s]\u001B[A\n",
      "Processing examples in test:  90%|█████████ | 9030/10000 [2:09:29<16:59,  1.05s/it]\u001B[A\n",
      "Processing examples in test:  90%|█████████ | 9032/10000 [2:09:30<14:18,  1.13it/s]\u001B[A\n",
      "Processing examples in test:  90%|█████████ | 9033/10000 [2:09:32<16:39,  1.03s/it]\u001B[A\n",
      "Processing examples in test:  90%|█████████ | 9037/10000 [2:09:33<09:56,  1.61it/s]\u001B[A\n",
      "Processing examples in test:  90%|█████████ | 9039/10000 [2:09:34<09:57,  1.61it/s]\u001B[A\n",
      "Processing examples in test:  90%|█████████ | 9040/10000 [2:09:36<12:11,  1.31it/s]\u001B[A\n",
      "Processing examples in test:  90%|█████████ | 9041/10000 [2:09:36<11:57,  1.34it/s]\u001B[A\n",
      "Processing examples in test:  90%|█████████ | 9043/10000 [2:09:38<12:03,  1.32it/s]\u001B[A\n",
      "Processing examples in test:  91%|█████████ | 9051/10000 [2:09:40<06:20,  2.50it/s]\u001B[A\n",
      "Processing examples in test:  91%|█████████ | 9053/10000 [2:09:41<06:49,  2.31it/s]\u001B[A\n",
      "Processing examples in test:  91%|█████████ | 9054/10000 [2:09:43<09:42,  1.62it/s]\u001B[A\n",
      "Processing examples in test:  91%|█████████ | 9057/10000 [2:09:44<08:40,  1.81it/s]\u001B[A\n",
      "Processing examples in test:  91%|█████████ | 9059/10000 [2:09:45<09:17,  1.69it/s]\u001B[A\n",
      "Processing examples in test:  91%|█████████ | 9060/10000 [2:09:47<10:45,  1.46it/s]\u001B[A\n",
      "Processing examples in test:  91%|█████████ | 9061/10000 [2:09:48<11:48,  1.32it/s]\u001B[A\n",
      "Processing examples in test:  91%|█████████ | 9063/10000 [2:09:49<10:50,  1.44it/s]\u001B[A"
     ]
    },
    {
     "name": "stdout",
     "output_type": "stream",
     "text": [
      "Failed to transform A busy street with building lined up and people walking down the street outside and nighttime. or Nobody is lined up.. Retrying 5 more times ...\n",
      "Failed to transform A busy street with building lined up and people walking down the street outside and nighttime. or Nobody is lined up.. Retrying 4 more times ...\n",
      "Failed to transform A busy street with building lined up and people walking down the street outside and nighttime. or Nobody is lined up.. Retrying 3 more times ...\n",
      "Failed to transform A busy street with building lined up and people walking down the street outside and nighttime. or Nobody is lined up.. Retrying 2 more times ...\n"
     ]
    },
    {
     "name": "stderr",
     "output_type": "stream",
     "text": [
      "\n",
      "Processing examples in test:  91%|█████████ | 9065/10000 [2:09:54<21:26,  1.38s/it]\u001B[A"
     ]
    },
    {
     "name": "stdout",
     "output_type": "stream",
     "text": [
      "Failed to transform A busy street with building lined up and people walking down the street outside and nighttime. or Nobody is lined up.. Retrying 1 more times ...\n",
      "Failed to transform A busy street with building lined up and people walking down the street outside and nighttime. or Tall people lined up.. Retrying 5 more times ...\n",
      "Failed to transform A busy street with building lined up and people walking down the street outside and nighttime. or Tall people lined up.. Retrying 4 more times ...\n",
      "Failed to transform A busy street with building lined up and people walking down the street outside and nighttime. or Tall people lined up.. Retrying 3 more times ...\n",
      "Failed to transform A busy street with building lined up and people walking down the street outside and nighttime. or Tall people lined up.. Retrying 2 more times ...\n"
     ]
    },
    {
     "name": "stderr",
     "output_type": "stream",
     "text": [
      "\n",
      "Processing examples in test:  91%|█████████ | 9067/10000 [2:10:00<28:37,  1.84s/it]\u001B[A"
     ]
    },
    {
     "name": "stdout",
     "output_type": "stream",
     "text": [
      "Failed to transform A busy street with building lined up and people walking down the street outside and nighttime. or Tall people lined up.. Retrying 1 more times ...\n"
     ]
    },
    {
     "name": "stderr",
     "output_type": "stream",
     "text": [
      "\n",
      "Processing examples in test:  91%|█████████ | 9069/10000 [2:10:02<24:20,  1.57s/it]\u001B[A\n",
      "Processing examples in test:  91%|█████████ | 9071/10000 [2:10:04<21:19,  1.38s/it]\u001B[A\n",
      "Processing examples in test:  91%|█████████ | 9074/10000 [2:10:05<15:06,  1.02it/s]\u001B[A\n",
      "Processing examples in test:  91%|█████████ | 9076/10000 [2:10:07<14:41,  1.05it/s]\u001B[A\n",
      "Processing examples in test:  91%|█████████ | 9078/10000 [2:10:09<14:52,  1.03it/s]\u001B[A"
     ]
    },
    {
     "name": "stdout",
     "output_type": "stream",
     "text": [
      "Failed to transform A dog with a ball in his mouth running down a road covered in leaves. or A cat running up a tree.. Retrying 5 more times ...\n",
      "Failed to transform A dog with a ball in his mouth running down a road covered in leaves. or A cat running up a tree.. Retrying 4 more times ...\n",
      "Failed to transform A dog with a ball in his mouth running down a road covered in leaves. or A cat running up a tree.. Retrying 3 more times ...\n",
      "Failed to transform A dog with a ball in his mouth running down a road covered in leaves. or A cat running up a tree.. Retrying 2 more times ...\n"
     ]
    },
    {
     "name": "stderr",
     "output_type": "stream",
     "text": [
      "\n",
      "Processing examples in test:  91%|█████████ | 9080/10000 [2:10:15<23:22,  1.52s/it]\u001B[A"
     ]
    },
    {
     "name": "stdout",
     "output_type": "stream",
     "text": [
      "Failed to transform A dog with a ball in his mouth running down a road covered in leaves. or A cat running up a tree.. Retrying 1 more times ...\n"
     ]
    },
    {
     "name": "stderr",
     "output_type": "stream",
     "text": [
      "\n",
      "Processing examples in test:  91%|█████████ | 9081/10000 [2:10:17<25:36,  1.67s/it]\u001B[A\n",
      "Processing examples in test:  91%|█████████ | 9083/10000 [2:10:19<22:27,  1.47s/it]\u001B[A\n",
      "Processing examples in test:  91%|█████████ | 9086/10000 [2:10:21<17:08,  1.13s/it]\u001B[A\n",
      "Processing examples in test:  91%|█████████ | 9089/10000 [2:10:23<14:48,  1.02it/s]\u001B[A\n",
      "Processing examples in test:  91%|█████████ | 9090/10000 [2:10:24<14:14,  1.06it/s]\u001B[A\n",
      "Processing examples in test:  91%|█████████ | 9091/10000 [2:10:25<15:07,  1.00it/s]\u001B[A\n",
      "Processing examples in test:  91%|█████████ | 9093/10000 [2:10:26<13:04,  1.16it/s]\u001B[A\n",
      "Processing examples in test:  91%|█████████ | 9094/10000 [2:10:28<14:06,  1.07it/s]\u001B[A\n",
      "Processing examples in test:  91%|█████████ | 9096/10000 [2:10:29<12:15,  1.23it/s]\u001B[A\n",
      "Processing examples in test:  91%|█████████ | 9098/10000 [2:10:30<11:12,  1.34it/s]\u001B[A\n",
      "Processing examples in test:  91%|█████████ | 9107/10000 [2:10:32<05:45,  2.58it/s]\u001B[A\n",
      "Processing examples in test:  91%|█████████ | 9110/10000 [2:10:35<07:25,  2.00it/s]\u001B[A\n",
      "Processing examples in test:  91%|█████████ | 9111/10000 [2:10:36<08:12,  1.81it/s]\u001B[A\n",
      "Processing examples in test:  91%|█████████ | 9114/10000 [2:10:37<07:20,  2.01it/s]\u001B[A\n",
      "Processing examples in test:  91%|█████████ | 9115/10000 [2:10:39<10:06,  1.46it/s]\u001B[A\n",
      "Processing examples in test:  91%|█████████ | 9117/10000 [2:10:40<10:02,  1.47it/s]\u001B[A\n",
      "Processing examples in test:  91%|█████████ | 9118/10000 [2:10:41<09:59,  1.47it/s]\u001B[A\n",
      "Processing examples in test:  91%|█████████ | 9119/10000 [2:10:43<14:02,  1.05it/s]\u001B[A\n",
      "Processing examples in test:  91%|█████████ | 9121/10000 [2:10:45<13:59,  1.05it/s]\u001B[A\n",
      "Processing examples in test:  91%|█████████ | 9122/10000 [2:10:47<16:48,  1.15s/it]\u001B[A\n",
      "Processing examples in test:  91%|█████████ | 9124/10000 [2:10:49<17:53,  1.23s/it]\u001B[A\n",
      "Processing examples in test:  91%|█████████▏| 9127/10000 [2:10:50<12:01,  1.21it/s]\u001B[A\n",
      "Processing examples in test:  91%|█████████▏| 9129/10000 [2:10:53<14:05,  1.03it/s]\u001B[A\n",
      "Processing examples in test:  91%|█████████▏| 9130/10000 [2:10:55<17:08,  1.18s/it]\u001B[A\n",
      "Processing examples in test:  91%|█████████▏| 9132/10000 [2:11:03<29:52,  2.07s/it]\u001B[A\n",
      "Processing examples in test:  91%|█████████▏| 9133/10000 [2:11:04<27:06,  1.88s/it]\u001B[A\n",
      "Processing examples in test:  91%|█████████▏| 9134/10000 [2:11:06<27:01,  1.87s/it]\u001B[A\n",
      "Processing examples in test:  91%|█████████▏| 9138/10000 [2:11:07<14:17,  1.00it/s]\u001B[A\n",
      "Processing examples in test:  91%|█████████▏| 9139/10000 [2:11:08<14:43,  1.03s/it]\u001B[A\n",
      "Processing examples in test:  91%|█████████▏| 9140/10000 [2:11:14<29:15,  2.04s/it]\u001B[A\n",
      "Processing examples in test:  91%|█████████▏| 9142/10000 [2:11:16<23:56,  1.67s/it]\u001B[A\n",
      "Processing examples in test:  91%|█████████▏| 9144/10000 [2:11:18<18:53,  1.32s/it]\u001B[A\n",
      "Processing examples in test:  91%|█████████▏| 9145/10000 [2:11:20<20:40,  1.45s/it]\u001B[A\n",
      "Processing examples in test:  91%|█████████▏| 9147/10000 [2:11:22<18:23,  1.29s/it]\u001B[A\n",
      "Processing examples in test:  91%|█████████▏| 9149/10000 [2:11:24<17:11,  1.21s/it]\u001B[A\n",
      "Processing examples in test:  92%|█████████▏| 9153/10000 [2:11:26<12:07,  1.16it/s]\u001B[A\n",
      "Processing examples in test:  92%|█████████▏| 9154/10000 [2:11:28<14:09,  1.00s/it]\u001B[A\n",
      "Processing examples in test:  92%|█████████▏| 9156/10000 [2:11:29<13:13,  1.06it/s]\u001B[A\n",
      "Processing examples in test:  92%|█████████▏| 9157/10000 [2:11:31<15:34,  1.11s/it]\u001B[A\n",
      "Processing examples in test:  92%|█████████▏| 9158/10000 [2:11:33<16:29,  1.18s/it]\u001B[A\n",
      "Processing examples in test:  92%|█████████▏| 9159/10000 [2:11:34<16:15,  1.16s/it]\u001B[A\n",
      "Processing examples in test:  92%|█████████▏| 9161/10000 [2:11:35<14:46,  1.06s/it]\u001B[A"
     ]
    },
    {
     "name": "stdout",
     "output_type": "stream",
     "text": [
      "Failed to transform with A driver passing his opponent on the last lap. Retrying 5 more times...\n",
      "Failed to transform with A driver passing his opponent on the last lap. Retrying 4 more times...\n",
      "Failed to transform with A driver passing his opponent on the last lap. Retrying 3 more times...\n",
      "Failed to transform with A driver passing his opponent on the last lap. Retrying 2 more times...\n"
     ]
    },
    {
     "name": "stderr",
     "output_type": "stream",
     "text": [
      "\n",
      "Processing examples in test:  92%|█████████▏| 9163/10000 [2:11:45<33:24,  2.39s/it]\u001B[A"
     ]
    },
    {
     "name": "stdout",
     "output_type": "stream",
     "text": [
      "Failed to transform with A driver passing his opponent on the last lap. Retrying 1 more times...\n"
     ]
    },
    {
     "name": "stderr",
     "output_type": "stream",
     "text": [
      "\n",
      "Processing examples in test:  92%|█████████▏| 9164/10000 [2:11:47<32:19,  2.32s/it]\u001B[A\n",
      "Processing examples in test:  92%|█████████▏| 9169/10000 [2:11:48<14:53,  1.08s/it]\u001B[A\n",
      "Processing examples in test:  92%|█████████▏| 9170/10000 [2:11:49<14:50,  1.07s/it]\u001B[A\n",
      "Processing examples in test:  92%|█████████▏| 9174/10000 [2:11:50<09:53,  1.39it/s]\u001B[A\n",
      "Processing examples in test:  92%|█████████▏| 9176/10000 [2:11:52<10:23,  1.32it/s]\u001B[A\n",
      "Processing examples in test:  92%|█████████▏| 9178/10000 [2:11:53<08:51,  1.55it/s]\u001B[A\n",
      "Processing examples in test:  92%|█████████▏| 9180/10000 [2:11:54<08:37,  1.59it/s]\u001B[A\n",
      "Processing examples in test:  92%|█████████▏| 9182/10000 [2:12:01<18:53,  1.39s/it]\u001B[A\n",
      "Processing examples in test:  92%|█████████▏| 9183/10000 [2:12:01<17:32,  1.29s/it]\u001B[A\n",
      "Processing examples in test:  92%|█████████▏| 9190/10000 [2:12:04<09:39,  1.40it/s]\u001B[A\n",
      "Processing examples in test:  92%|█████████▏| 9192/10000 [2:12:06<10:49,  1.24it/s]\u001B[A\n",
      "Processing examples in test:  92%|█████████▏| 9198/10000 [2:12:08<06:56,  1.92it/s]\u001B[A\n",
      "Processing examples in test:  92%|█████████▏| 9199/10000 [2:12:09<07:47,  1.71it/s]\u001B[A\n",
      "Processing examples in test:  92%|█████████▏| 9200/10000 [2:12:10<09:42,  1.37it/s]\u001B[A\n",
      "Processing examples in test:  92%|█████████▏| 9202/10000 [2:12:18<21:10,  1.59s/it]\u001B[A\n",
      "Processing examples in test:  92%|█████████▏| 9210/10000 [2:12:20<09:39,  1.36it/s]\u001B[A\n",
      "Processing examples in test:  92%|█████████▏| 9211/10000 [2:12:21<10:18,  1.28it/s]\u001B[A\n",
      "Processing examples in test:  92%|█████████▏| 9212/10000 [2:12:23<11:30,  1.14it/s]\u001B[A\n",
      "Processing examples in test:  92%|█████████▏| 9213/10000 [2:12:24<13:14,  1.01s/it]\u001B[A\n",
      "Processing examples in test:  92%|█████████▏| 9214/10000 [2:12:25<13:23,  1.02s/it]\u001B[A\n",
      "Processing examples in test:  92%|█████████▏| 9215/10000 [2:12:27<13:38,  1.04s/it]\u001B[A\n",
      "Processing examples in test:  92%|█████████▏| 9216/10000 [2:12:28<13:45,  1.05s/it]\u001B[A\n",
      "Processing examples in test:  92%|█████████▏| 9217/10000 [2:12:29<16:04,  1.23s/it]\u001B[A"
     ]
    },
    {
     "name": "stdout",
     "output_type": "stream",
     "text": [
      "Failed to transform with A taxi cab with two women in the backseat talking on their cellphones.. Retrying 5 more times...\n",
      "Failed to transform with A taxi cab with two women in the backseat talking on their cellphones.. Retrying 4 more times...\n",
      "Failed to transform with A taxi cab with two women in the backseat talking on their cellphones.. Retrying 3 more times...\n",
      "Failed to transform with A taxi cab with two women in the backseat talking on their cellphones.. Retrying 2 more times...\n"
     ]
    },
    {
     "name": "stderr",
     "output_type": "stream",
     "text": [
      "\n",
      "Processing examples in test:  92%|█████████▏| 9218/10000 [2:12:36<34:46,  2.67s/it]\u001B[A"
     ]
    },
    {
     "name": "stdout",
     "output_type": "stream",
     "text": [
      "Failed to transform with A taxi cab with two women in the backseat talking on their cellphones.. Retrying 1 more times...\n"
     ]
    },
    {
     "name": "stderr",
     "output_type": "stream",
     "text": [
      "\n",
      "Processing examples in test:  92%|█████████▏| 9221/10000 [2:12:38<20:27,  1.58s/it]\u001B[A\n",
      "Processing examples in test:  92%|█████████▏| 9226/10000 [2:12:40<11:49,  1.09it/s]\u001B[A\n",
      "Processing examples in test:  92%|█████████▏| 9231/10000 [2:12:42<08:39,  1.48it/s]\u001B[A\n",
      "Processing examples in test:  92%|█████████▏| 9237/10000 [2:12:44<06:46,  1.88it/s]\u001B[A\n",
      "Processing examples in test:  92%|█████████▏| 9240/10000 [2:12:46<07:13,  1.75it/s]\u001B[A\n",
      "Processing examples in test:  92%|█████████▏| 9241/10000 [2:12:47<08:15,  1.53it/s]\u001B[A\n",
      "Processing examples in test:  92%|█████████▏| 9242/10000 [2:12:49<10:19,  1.22it/s]\u001B[A\n",
      "Processing examples in test:  92%|█████████▏| 9243/10000 [2:12:51<12:23,  1.02it/s]\u001B[A\n",
      "Processing examples in test:  92%|█████████▏| 9244/10000 [2:12:53<13:43,  1.09s/it]\u001B[A\n",
      "Processing examples in test:  92%|█████████▏| 9245/10000 [2:12:54<14:59,  1.19s/it]\u001B[A\n",
      "Processing examples in test:  92%|█████████▏| 9247/10000 [2:12:56<13:35,  1.08s/it]\u001B[A\n",
      "Processing examples in test:  92%|█████████▏| 9249/10000 [2:12:57<11:24,  1.10it/s]\u001B[A\n",
      "Processing examples in test:  93%|█████████▎| 9251/10000 [2:12:59<11:24,  1.09it/s]\u001B[A\n",
      "Processing examples in test:  93%|█████████▎| 9255/10000 [2:13:01<08:32,  1.45it/s]\u001B[A\n",
      "Processing examples in test:  93%|█████████▎| 9256/10000 [2:13:02<09:23,  1.32it/s]\u001B[A\n",
      "Processing examples in test:  93%|█████████▎| 9258/10000 [2:13:03<08:44,  1.42it/s]\u001B[A\n",
      "Processing examples in test:  93%|█████████▎| 9259/10000 [2:13:04<09:33,  1.29it/s]\u001B[A\n",
      "Processing examples in test:  93%|█████████▎| 9260/10000 [2:13:06<12:20,  1.00s/it]\u001B[A\n",
      "Processing examples in test:  93%|█████████▎| 9263/10000 [2:13:08<10:41,  1.15it/s]\u001B[A\n",
      "Processing examples in test:  93%|█████████▎| 9264/10000 [2:13:09<10:47,  1.14it/s]\u001B[A\n",
      "Processing examples in test:  93%|█████████▎| 9266/10000 [2:13:11<09:35,  1.27it/s]\u001B[A\n",
      "Processing examples in test:  93%|█████████▎| 9268/10000 [2:13:12<09:12,  1.33it/s]\u001B[A\n",
      "Processing examples in test:  93%|█████████▎| 9270/10000 [2:13:13<08:20,  1.46it/s]\u001B[A\n",
      "Processing examples in test:  93%|█████████▎| 9275/10000 [2:13:15<05:46,  2.10it/s]\u001B[A\n",
      "Processing examples in test:  93%|█████████▎| 9278/10000 [2:13:16<06:18,  1.91it/s]\u001B[A\n",
      "Processing examples in test:  93%|█████████▎| 9281/10000 [2:13:18<05:45,  2.08it/s]\u001B[A\n",
      "Processing examples in test:  93%|█████████▎| 9282/10000 [2:13:19<06:49,  1.76it/s]\u001B[A\n",
      "Processing examples in test:  93%|█████████▎| 9283/10000 [2:13:20<08:01,  1.49it/s]\u001B[A\n",
      "Processing examples in test:  93%|█████████▎| 9285/10000 [2:13:21<07:32,  1.58it/s]\u001B[A\n",
      "Processing examples in test:  93%|█████████▎| 9286/10000 [2:13:22<07:39,  1.55it/s]\u001B[A\n",
      "Processing examples in test:  93%|█████████▎| 9289/10000 [2:13:24<07:30,  1.58it/s]\u001B[A\n",
      "Processing examples in test:  93%|█████████▎| 9290/10000 [2:13:25<08:38,  1.37it/s]\u001B[A\n",
      "Processing examples in test:  93%|█████████▎| 9292/10000 [2:13:25<07:02,  1.68it/s]\u001B[A\n",
      "Processing examples in test:  93%|█████████▎| 9293/10000 [2:13:27<08:20,  1.41it/s]\u001B[A\n",
      "Processing examples in test:  93%|█████████▎| 9298/10000 [2:13:28<05:36,  2.09it/s]\u001B[A"
     ]
    },
    {
     "name": "stdout",
     "output_type": "stream",
     "text": [
      "Failed to transform with A man on the sidewalk performs a mime act while angry people glare at him. Retrying 5 more times...\n",
      "Failed to transform with A man on the sidewalk performs a mime act while angry people glare at him. Retrying 4 more times...\n",
      "Failed to transform with A man on the sidewalk performs a mime act while angry people glare at him. Retrying 3 more times...\n",
      "Failed to transform with A man on the sidewalk performs a mime act while angry people glare at him. Retrying 2 more times...\n"
     ]
    },
    {
     "name": "stderr",
     "output_type": "stream",
     "text": [
      "\n",
      "Processing examples in test:  93%|█████████▎| 9299/10000 [2:13:33<13:21,  1.14s/it]\u001B[A"
     ]
    },
    {
     "name": "stdout",
     "output_type": "stream",
     "text": [
      "Failed to transform with A man on the sidewalk performs a mime act while angry people glare at him. Retrying 1 more times...\n"
     ]
    },
    {
     "name": "stderr",
     "output_type": "stream",
     "text": [
      "\n",
      "Processing examples in test:  93%|█████████▎| 9301/10000 [2:13:36<13:15,  1.14s/it]\u001B[A\n",
      "Processing examples in test:  93%|█████████▎| 9305/10000 [2:13:37<09:37,  1.20it/s]\u001B[A\n",
      "Processing examples in test:  93%|█████████▎| 9307/10000 [2:13:40<10:20,  1.12it/s]\u001B[A\n",
      "Processing examples in test:  93%|█████████▎| 9309/10000 [2:13:41<09:39,  1.19it/s]\u001B[A\n",
      "Processing examples in test:  93%|█████████▎| 9312/10000 [2:13:43<08:55,  1.28it/s]\u001B[A\n",
      "Processing examples in test:  93%|█████████▎| 9314/10000 [2:13:45<10:01,  1.14it/s]\u001B[A\n",
      "Processing examples in test:  93%|█████████▎| 9315/10000 [2:13:47<10:53,  1.05it/s]\u001B[A\n",
      "Processing examples in test:  93%|█████████▎| 9317/10000 [2:13:48<09:56,  1.15it/s]\u001B[A\n",
      "Processing examples in test:  93%|█████████▎| 9319/10000 [2:13:50<10:04,  1.13it/s]\u001B[A\n",
      "Processing examples in test:  93%|█████████▎| 9320/10000 [2:13:52<11:54,  1.05s/it]\u001B[A\n",
      "Processing examples in test:  93%|█████████▎| 9321/10000 [2:13:53<12:46,  1.13s/it]\u001B[A\n",
      "Processing examples in test:  93%|█████████▎| 9322/10000 [2:13:55<14:47,  1.31s/it]\u001B[A\n",
      "Processing examples in test:  93%|█████████▎| 9326/10000 [2:13:56<08:09,  1.38it/s]\u001B[A\n",
      "Processing examples in test:  93%|█████████▎| 9327/10000 [2:13:57<08:56,  1.26it/s]\u001B[A\n",
      "Processing examples in test:  93%|█████████▎| 9329/10000 [2:13:59<09:17,  1.20it/s]\u001B[A\n",
      "Processing examples in test:  93%|█████████▎| 9330/10000 [2:14:00<08:58,  1.24it/s]\u001B[A\n",
      "Processing examples in test:  93%|█████████▎| 9332/10000 [2:14:02<09:13,  1.21it/s]\u001B[A\n",
      "Processing examples in test:  93%|█████████▎| 9333/10000 [2:14:03<11:20,  1.02s/it]\u001B[A\n",
      "Processing examples in test:  93%|█████████▎| 9334/10000 [2:14:05<11:48,  1.06s/it]\u001B[A\n",
      "Processing examples in test:  93%|█████████▎| 9335/10000 [2:14:06<11:57,  1.08s/it]\u001B[A\n",
      "Processing examples in test:  93%|█████████▎| 9341/10000 [2:14:06<04:46,  2.30it/s]\u001B[A\n",
      "Processing examples in test:  93%|█████████▎| 9342/10000 [2:14:07<05:15,  2.09it/s]\u001B[A\n",
      "Processing examples in test:  93%|█████████▎| 9343/10000 [2:14:10<08:39,  1.27it/s]\u001B[A\n",
      "Processing examples in test:  93%|█████████▎| 9344/10000 [2:14:12<11:27,  1.05s/it]\u001B[A\n",
      "Processing examples in test:  93%|█████████▎| 9345/10000 [2:14:13<13:00,  1.19s/it]\u001B[A\n",
      "Processing examples in test:  93%|█████████▎| 9349/10000 [2:14:14<06:51,  1.58it/s]\u001B[A\n",
      "Processing examples in test:  94%|█████████▎| 9351/10000 [2:14:15<06:18,  1.72it/s]\u001B[A\n",
      "Processing examples in test:  94%|█████████▎| 9352/10000 [2:14:16<07:09,  1.51it/s]\u001B[A\n",
      "Processing examples in test:  94%|█████████▎| 9355/10000 [2:14:18<06:18,  1.70it/s]\u001B[A"
     ]
    },
    {
     "name": "stdout",
     "output_type": "stream",
     "text": [
      "Failed to transform with A woman in a gray shirt looking at her book.. Retrying 5 more times...\n",
      "Failed to transform with A woman in a gray shirt looking at her book.. Retrying 4 more times...\n",
      "Failed to transform with A woman in a gray shirt looking at her book.. Retrying 3 more times...\n",
      "Failed to transform with A woman in a gray shirt looking at her book.. Retrying 2 more times...\n"
     ]
    },
    {
     "name": "stderr",
     "output_type": "stream",
     "text": [
      "\n",
      "Processing examples in test:  94%|█████████▎| 9356/10000 [2:14:22<13:32,  1.26s/it]\u001B[A"
     ]
    },
    {
     "name": "stdout",
     "output_type": "stream",
     "text": [
      "Failed to transform with A woman in a gray shirt looking at her book.. Retrying 1 more times...\n"
     ]
    },
    {
     "name": "stderr",
     "output_type": "stream",
     "text": [
      "\n",
      "Processing examples in test:  94%|█████████▎| 9358/10000 [2:14:23<11:11,  1.05s/it]\u001B[A\n",
      "Processing examples in test:  94%|█████████▎| 9361/10000 [2:14:25<08:39,  1.23it/s]\u001B[A\n",
      "Processing examples in test:  94%|█████████▎| 9364/10000 [2:14:26<06:49,  1.55it/s]\u001B[A\n",
      "Processing examples in test:  94%|█████████▎| 9366/10000 [2:14:27<06:49,  1.55it/s]\u001B[A\n",
      "Processing examples in test:  94%|█████████▎| 9367/10000 [2:14:29<08:41,  1.21it/s]\u001B[A\n",
      "Processing examples in test:  94%|█████████▎| 9373/10000 [2:14:31<05:39,  1.85it/s]\u001B[A\n",
      "Processing examples in test:  94%|█████████▍| 9375/10000 [2:14:32<05:47,  1.80it/s]\u001B[A\n",
      "Processing examples in test:  94%|█████████▍| 9378/10000 [2:14:33<05:17,  1.96it/s]\u001B[A\n",
      "Processing examples in test:  94%|█████████▍| 9379/10000 [2:14:35<06:14,  1.66it/s]\u001B[A\n",
      "Processing examples in test:  94%|█████████▍| 9380/10000 [2:14:37<08:57,  1.15it/s]\u001B[A\n",
      "Processing examples in test:  94%|█████████▍| 9381/10000 [2:14:38<09:24,  1.10it/s]\u001B[A\n",
      "Processing examples in test:  94%|█████████▍| 9382/10000 [2:14:40<11:14,  1.09s/it]\u001B[A\n",
      "Processing examples in test:  94%|█████████▍| 9385/10000 [2:14:41<08:03,  1.27it/s]\u001B[A\n",
      "Processing examples in test:  94%|█████████▍| 9386/10000 [2:14:43<10:04,  1.02it/s]\u001B[A\n",
      "Processing examples in test:  94%|█████████▍| 9388/10000 [2:14:44<07:57,  1.28it/s]\u001B[A\n",
      "Processing examples in test:  94%|█████████▍| 9389/10000 [2:14:45<09:01,  1.13it/s]\u001B[A\n",
      "Processing examples in test:  94%|█████████▍| 9390/10000 [2:14:47<11:37,  1.14s/it]\u001B[A\n",
      "Processing examples in test:  94%|█████████▍| 9392/10000 [2:14:49<10:17,  1.02s/it]\u001B[A\n",
      "Processing examples in test:  94%|█████████▍| 9394/10000 [2:14:51<10:29,  1.04s/it]\u001B[A\n",
      "Processing examples in test:  94%|█████████▍| 9395/10000 [2:14:52<09:57,  1.01it/s]\u001B[A\n",
      "Processing examples in test:  94%|█████████▍| 9398/10000 [2:14:53<07:07,  1.41it/s]\u001B[A\n",
      "Processing examples in test:  94%|█████████▍| 9400/10000 [2:14:55<08:06,  1.23it/s]\u001B[A\n",
      "Processing examples in test:  94%|█████████▍| 9401/10000 [2:14:56<09:06,  1.10it/s]\u001B[A\n",
      "Processing examples in test:  94%|█████████▍| 9405/10000 [2:14:58<06:00,  1.65it/s]\u001B[A\n",
      "Processing examples in test:  94%|█████████▍| 9407/10000 [2:14:59<05:51,  1.69it/s]\u001B[A\n",
      "Processing examples in test:  94%|█████████▍| 9409/10000 [2:15:00<05:44,  1.71it/s]\u001B[A\n",
      "Processing examples in test:  94%|█████████▍| 9413/10000 [2:15:01<04:23,  2.23it/s]\u001B[A\n",
      "Processing examples in test:  94%|█████████▍| 9414/10000 [2:15:03<06:49,  1.43it/s]\u001B[A\n",
      "Processing examples in test:  94%|█████████▍| 9415/10000 [2:15:08<12:43,  1.30s/it]\u001B[A\n",
      "Processing examples in test:  94%|█████████▍| 9419/10000 [2:15:09<08:39,  1.12it/s]\u001B[A\n",
      "Processing examples in test:  94%|█████████▍| 9423/10000 [2:15:12<07:42,  1.25it/s]\u001B[A\n",
      "Processing examples in test:  94%|█████████▍| 9424/10000 [2:15:20<16:10,  1.68s/it]\u001B[A\n",
      "Processing examples in test:  94%|█████████▍| 9425/10000 [2:15:22<16:39,  1.74s/it]\u001B[A\n",
      "Processing examples in test:  94%|█████████▍| 9426/10000 [2:15:23<16:12,  1.69s/it]\u001B[A\n",
      "Processing examples in test:  94%|█████████▍| 9431/10000 [2:15:25<08:18,  1.14it/s]\u001B[A\n",
      "Processing examples in test:  94%|█████████▍| 9432/10000 [2:15:32<16:54,  1.79s/it]\u001B[A\n",
      "Processing examples in test:  94%|█████████▍| 9435/10000 [2:15:34<13:15,  1.41s/it]\u001B[A\n",
      "Processing examples in test:  94%|█████████▍| 9436/10000 [2:15:35<12:52,  1.37s/it]\u001B[A\n",
      "Processing examples in test:  94%|█████████▍| 9439/10000 [2:15:37<09:07,  1.02it/s]\u001B[A\n",
      "Processing examples in test:  94%|█████████▍| 9442/10000 [2:15:45<15:12,  1.64s/it]\u001B[A\n",
      "Processing examples in test:  94%|█████████▍| 9445/10000 [2:15:52<17:40,  1.91s/it]\u001B[A\n",
      "Processing examples in test:  94%|█████████▍| 9446/10000 [2:15:54<17:44,  1.92s/it]\u001B[A\n",
      "Processing examples in test:  94%|█████████▍| 9447/10000 [2:15:55<16:31,  1.79s/it]\u001B[A\n",
      "Processing examples in test:  94%|█████████▍| 9448/10000 [2:15:57<16:15,  1.77s/it]\u001B[A\n",
      "Processing examples in test:  94%|█████████▍| 9449/10000 [2:15:59<16:29,  1.80s/it]\u001B[A\n",
      "Processing examples in test:  95%|█████████▍| 9453/10000 [2:16:00<08:49,  1.03it/s]\u001B[A\n",
      "Processing examples in test:  95%|█████████▍| 9456/10000 [2:16:02<07:13,  1.25it/s]\u001B[A\n",
      "Processing examples in test:  95%|█████████▍| 9459/10000 [2:16:03<06:07,  1.47it/s]\u001B[A\n",
      "Processing examples in test:  95%|█████████▍| 9460/10000 [2:16:04<06:12,  1.45it/s]\u001B[A\n",
      "Processing examples in test:  95%|█████████▍| 9462/10000 [2:16:09<11:30,  1.28s/it]\u001B[A\n",
      "Processing examples in test:  95%|█████████▍| 9467/10000 [2:16:12<07:37,  1.17it/s]\u001B[A\n",
      "Processing examples in test:  95%|█████████▍| 9468/10000 [2:16:12<07:25,  1.20it/s]\u001B[A\n",
      "Processing examples in test:  95%|█████████▍| 9471/10000 [2:16:13<05:54,  1.49it/s]\u001B[A\n",
      "Processing examples in test:  95%|█████████▍| 9474/10000 [2:16:14<05:00,  1.75it/s]\u001B[A\n",
      "Processing examples in test:  95%|█████████▍| 9475/10000 [2:16:16<06:26,  1.36it/s]\u001B[A\n",
      "Processing examples in test:  95%|█████████▍| 9476/10000 [2:16:19<09:50,  1.13s/it]\u001B[A\n",
      "Processing examples in test:  95%|█████████▍| 9477/10000 [2:16:22<12:20,  1.42s/it]\u001B[A\n",
      "Processing examples in test:  95%|█████████▍| 9478/10000 [2:16:23<11:57,  1.38s/it]\u001B[A\n",
      "Processing examples in test:  95%|█████████▍| 9479/10000 [2:16:24<11:28,  1.32s/it]\u001B[A\n",
      "Processing examples in test:  95%|█████████▍| 9482/10000 [2:16:26<08:29,  1.02it/s]\u001B[A\n",
      "Processing examples in test:  95%|█████████▍| 9483/10000 [2:16:28<09:10,  1.07s/it]\u001B[A\n",
      "Processing examples in test:  95%|█████████▍| 9484/10000 [2:16:29<09:41,  1.13s/it]\u001B[A\n",
      "Processing examples in test:  95%|█████████▍| 9488/10000 [2:16:30<05:28,  1.56it/s]\u001B[A\n",
      "Processing examples in test:  95%|█████████▍| 9489/10000 [2:16:31<06:34,  1.30it/s]\u001B[A\n",
      "Processing examples in test:  95%|█████████▍| 9491/10000 [2:16:33<05:49,  1.46it/s]\u001B[A\n",
      "Processing examples in test:  95%|█████████▍| 9492/10000 [2:16:34<06:23,  1.32it/s]\u001B[A\n",
      "Processing examples in test:  95%|█████████▍| 9498/10000 [2:16:35<03:22,  2.48it/s]\u001B[A\n",
      "Processing examples in test:  95%|█████████▌| 9500/10000 [2:16:36<03:39,  2.28it/s]\u001B[A\n",
      "Processing examples in test:  95%|█████████▌| 9501/10000 [2:16:37<04:00,  2.07it/s]\u001B[A\n",
      "Processing examples in test:  95%|█████████▌| 9512/10000 [2:16:37<01:35,  5.11it/s]\u001B[A\n",
      "Processing examples in test:  95%|█████████▌| 9515/10000 [2:16:41<03:28,  2.33it/s]\u001B[A\n",
      "Processing examples in test:  95%|█████████▌| 9516/10000 [2:16:44<05:08,  1.57it/s]\u001B[A\n",
      "Processing examples in test:  95%|█████████▌| 9517/10000 [2:16:45<05:40,  1.42it/s]\u001B[A\n",
      "Processing examples in test:  95%|█████████▌| 9518/10000 [2:16:53<13:33,  1.69s/it]\u001B[A\n",
      "Processing examples in test:  95%|█████████▌| 9519/10000 [2:17:00<21:08,  2.64s/it]\u001B[A\n",
      "Processing examples in test:  95%|█████████▌| 9521/10000 [2:17:01<16:02,  2.01s/it]\u001B[A\n",
      "Processing examples in test:  95%|█████████▌| 9523/10000 [2:17:03<12:21,  1.55s/it]\u001B[A\n",
      "Processing examples in test:  95%|█████████▌| 9524/10000 [2:17:04<11:59,  1.51s/it]\u001B[A\n",
      "Processing examples in test:  95%|█████████▌| 9525/10000 [2:17:07<14:34,  1.84s/it]\u001B[A\n",
      "Processing examples in test:  95%|█████████▌| 9530/10000 [2:17:09<07:39,  1.02it/s]\u001B[A\n",
      "Processing examples in test:  95%|█████████▌| 9531/10000 [2:17:11<08:50,  1.13s/it]\u001B[A\n",
      "Processing examples in test:  95%|█████████▌| 9535/10000 [2:17:13<06:16,  1.24it/s]\u001B[A\n",
      "Processing examples in test:  95%|█████████▌| 9537/10000 [2:17:14<06:17,  1.23it/s]\u001B[A\n",
      "Processing examples in test:  95%|█████████▌| 9538/10000 [2:17:15<06:09,  1.25it/s]\u001B[A\n",
      "Processing examples in test:  95%|█████████▌| 9543/10000 [2:17:16<03:35,  2.12it/s]\u001B[A\n",
      "Processing examples in test:  95%|█████████▌| 9545/10000 [2:17:17<03:47,  2.00it/s]\u001B[A\n",
      "Processing examples in test:  95%|█████████▌| 9547/10000 [2:17:21<06:26,  1.17it/s]\u001B[A\n",
      "Processing examples in test:  95%|█████████▌| 9548/10000 [2:17:22<06:49,  1.10it/s]\u001B[A\n",
      "Processing examples in test:  96%|█████████▌| 9552/10000 [2:17:24<05:21,  1.40it/s]\u001B[A\n",
      "Processing examples in test:  96%|█████████▌| 9553/10000 [2:17:26<06:05,  1.22it/s]\u001B[A\n",
      "Processing examples in test:  96%|█████████▌| 9554/10000 [2:17:27<06:22,  1.17it/s]\u001B[A\n",
      "Processing examples in test:  96%|█████████▌| 9555/10000 [2:17:28<06:46,  1.09it/s]\u001B[A\n",
      "Processing examples in test:  96%|█████████▌| 9556/10000 [2:17:29<07:04,  1.05it/s]\u001B[A"
     ]
    },
    {
     "name": "stdout",
     "output_type": "stream",
     "text": [
      "Failed to transform A female bicyclist wearing black, and having four number 9's printed on her limbs on a bike. or A woman is riding a skateboard.. Retrying 5 more times ...\n",
      "Failed to transform A female bicyclist wearing black, and having four number 9's printed on her limbs on a bike. or A woman is riding a skateboard.. Retrying 4 more times ...\n",
      "Failed to transform A female bicyclist wearing black, and having four number 9's printed on her limbs on a bike. or A woman is riding a skateboard.. Retrying 3 more times ...\n",
      "Failed to transform A female bicyclist wearing black, and having four number 9's printed on her limbs on a bike. or A woman is riding a skateboard.. Retrying 2 more times ...\n"
     ]
    },
    {
     "name": "stderr",
     "output_type": "stream",
     "text": [
      "\n",
      "Processing examples in test:  96%|█████████▌| 9557/10000 [2:17:34<14:35,  1.98s/it]\u001B[A"
     ]
    },
    {
     "name": "stdout",
     "output_type": "stream",
     "text": [
      "Failed to transform A female bicyclist wearing black, and having four number 9's printed on her limbs on a bike. or A woman is riding a skateboard.. Retrying 1 more times ...\n"
     ]
    },
    {
     "name": "stderr",
     "output_type": "stream",
     "text": [
      "\n",
      "Processing examples in test:  96%|█████████▌| 9558/10000 [2:17:37<15:08,  2.05s/it]\u001B[A"
     ]
    },
    {
     "name": "stdout",
     "output_type": "stream",
     "text": [
      "Failed to transform A female bicyclist wearing black, and having four number 9's printed on her limbs on a bike. or A woman riding a bike in a race.. Retrying 5 more times ...\n",
      "Failed to transform A female bicyclist wearing black, and having four number 9's printed on her limbs on a bike. or A woman riding a bike in a race.. Retrying 4 more times ...\n",
      "Failed to transform A female bicyclist wearing black, and having four number 9's printed on her limbs on a bike. or A woman riding a bike in a race.. Retrying 3 more times ...\n",
      "Failed to transform A female bicyclist wearing black, and having four number 9's printed on her limbs on a bike. or A woman riding a bike in a race.. Retrying 2 more times ...\n"
     ]
    },
    {
     "name": "stderr",
     "output_type": "stream",
     "text": [
      "\n",
      "Processing examples in test:  96%|█████████▌| 9559/10000 [2:17:42<21:37,  2.94s/it]\u001B[A"
     ]
    },
    {
     "name": "stdout",
     "output_type": "stream",
     "text": [
      "Failed to transform A female bicyclist wearing black, and having four number 9's printed on her limbs on a bike. or A woman riding a bike in a race.. Retrying 1 more times ...\n"
     ]
    },
    {
     "name": "stderr",
     "output_type": "stream",
     "text": [
      "\n",
      "Processing examples in test:  96%|█████████▌| 9560/10000 [2:17:44<18:56,  2.58s/it]\u001B[A\n",
      "Processing examples in test:  96%|█████████▌| 9561/10000 [2:17:45<17:28,  2.39s/it]\u001B[A\n",
      "Processing examples in test:  96%|█████████▌| 9564/10000 [2:17:47<09:53,  1.36s/it]\u001B[A\n",
      "Processing examples in test:  96%|█████████▌| 9565/10000 [2:17:48<09:28,  1.31s/it]\u001B[A\n",
      "Processing examples in test:  96%|█████████▌| 9566/10000 [2:17:49<09:13,  1.27s/it]\u001B[A\n",
      "Processing examples in test:  96%|█████████▌| 9567/10000 [2:17:50<08:10,  1.13s/it]\u001B[A\n",
      "Processing examples in test:  96%|█████████▌| 9570/10000 [2:17:51<05:13,  1.37it/s]\u001B[A"
     ]
    },
    {
     "name": "stdout",
     "output_type": "stream",
     "text": [
      "Failed to transform A man painting a sign onto his food cart. or Everyone is in a restaurant.. Retrying 5 more times ...\n",
      "Failed to transform A man painting a sign onto his food cart. or Everyone is in a restaurant.. Retrying 4 more times ...\n",
      "Failed to transform A man painting a sign onto his food cart. or Everyone is in a restaurant.. Retrying 3 more times ...\n",
      "Failed to transform A man painting a sign onto his food cart. or Everyone is in a restaurant.. Retrying 2 more times ...\n"
     ]
    },
    {
     "name": "stderr",
     "output_type": "stream",
     "text": [
      "\n",
      "Processing examples in test:  96%|█████████▌| 9571/10000 [2:17:57<12:07,  1.70s/it]\u001B[A"
     ]
    },
    {
     "name": "stdout",
     "output_type": "stream",
     "text": [
      "Failed to transform A man painting a sign onto his food cart. or Everyone is in a restaurant.. Retrying 1 more times ...\n"
     ]
    },
    {
     "name": "stderr",
     "output_type": "stream",
     "text": [
      "\n",
      "Processing examples in test:  96%|█████████▌| 9573/10000 [2:17:58<09:24,  1.32s/it]\u001B[A\n",
      "Processing examples in test:  96%|█████████▌| 9577/10000 [2:18:00<06:21,  1.11it/s]\u001B[A\n",
      "Processing examples in test:  96%|█████████▌| 9579/10000 [2:18:01<05:16,  1.33it/s]\u001B[A\n",
      "Processing examples in test:  96%|█████████▌| 9581/10000 [2:18:02<04:51,  1.44it/s]\u001B[A\n",
      "Processing examples in test:  96%|█████████▌| 9584/10000 [2:18:04<04:41,  1.48it/s]\u001B[A\n",
      "Processing examples in test:  96%|█████████▌| 9585/10000 [2:18:05<05:52,  1.18it/s]\u001B[A\n",
      "Processing examples in test:  96%|█████████▌| 9587/10000 [2:18:07<06:05,  1.13it/s]\u001B[A\n",
      "Processing examples in test:  96%|█████████▌| 9588/10000 [2:18:09<06:35,  1.04it/s]\u001B[A\n",
      "Processing examples in test:  96%|█████████▌| 9592/10000 [2:18:11<05:15,  1.29it/s]\u001B[A\n",
      "Processing examples in test:  96%|█████████▌| 9594/10000 [2:18:13<05:34,  1.21it/s]\u001B[A\n",
      "Processing examples in test:  96%|█████████▌| 9595/10000 [2:18:15<06:46,  1.00s/it]\u001B[A\n",
      "Processing examples in test:  96%|█████████▌| 9596/10000 [2:18:17<07:54,  1.17s/it]\u001B[A\n",
      "Processing examples in test:  96%|█████████▌| 9597/10000 [2:18:19<08:48,  1.31s/it]\u001B[A\n",
      "Processing examples in test:  96%|█████████▌| 9598/10000 [2:18:20<09:31,  1.42s/it]\u001B[A\n",
      "Processing examples in test:  96%|█████████▌| 9600/10000 [2:18:22<07:11,  1.08s/it]\u001B[A\n",
      "Processing examples in test:  96%|█████████▌| 9601/10000 [2:18:24<08:26,  1.27s/it]\u001B[A\n",
      "Processing examples in test:  96%|█████████▌| 9602/10000 [2:18:25<08:44,  1.32s/it]\u001B[A\n",
      "Processing examples in test:  96%|█████████▌| 9603/10000 [2:18:26<08:34,  1.30s/it]\u001B[A\n",
      "Processing examples in test:  96%|█████████▌| 9605/10000 [2:18:27<05:51,  1.12it/s]\u001B[A\n",
      "Processing examples in test:  96%|█████████▌| 9608/10000 [2:18:29<04:58,  1.31it/s]\u001B[A\n",
      "Processing examples in test:  96%|█████████▌| 9609/10000 [2:18:31<06:26,  1.01it/s]\u001B[A\n",
      "Processing examples in test:  96%|█████████▌| 9610/10000 [2:18:31<05:59,  1.08it/s]\u001B[A\n",
      "Processing examples in test:  96%|█████████▌| 9611/10000 [2:18:33<07:14,  1.12s/it]\u001B[A\n",
      "Processing examples in test:  96%|█████████▌| 9615/10000 [2:18:35<04:43,  1.36it/s]\u001B[A\n",
      "Processing examples in test:  96%|█████████▌| 9616/10000 [2:18:37<05:57,  1.07it/s]\u001B[A\n",
      "Processing examples in test:  96%|█████████▌| 9617/10000 [2:18:38<06:18,  1.01it/s]\u001B[A\n",
      "Processing examples in test:  96%|█████████▌| 9622/10000 [2:18:40<03:51,  1.64it/s]\u001B[A\n",
      "Processing examples in test:  96%|█████████▌| 9623/10000 [2:18:42<05:10,  1.21it/s]\u001B[A\n",
      "Processing examples in test:  96%|█████████▌| 9624/10000 [2:18:44<06:27,  1.03s/it]\u001B[A\n",
      "Processing examples in test:  96%|█████████▋| 9625/10000 [2:18:45<06:49,  1.09s/it]\u001B[A\n",
      "Processing examples in test:  96%|█████████▋| 9626/10000 [2:18:46<06:54,  1.11s/it]\u001B[A\n",
      "Processing examples in test:  96%|█████████▋| 9628/10000 [2:18:48<05:36,  1.11it/s]\u001B[A\n",
      "Processing examples in test:  96%|█████████▋| 9630/10000 [2:18:50<06:00,  1.03it/s]\u001B[A\n",
      "Processing examples in test:  96%|█████████▋| 9631/10000 [2:18:51<06:28,  1.05s/it]\u001B[A\n",
      "Processing examples in test:  96%|█████████▋| 9632/10000 [2:18:53<07:26,  1.21s/it]\u001B[A\n",
      "Processing examples in test:  96%|█████████▋| 9634/10000 [2:18:57<09:37,  1.58s/it]\u001B[A\n",
      "Processing examples in test:  96%|█████████▋| 9639/10000 [2:18:58<04:48,  1.25it/s]\u001B[A\n",
      "Processing examples in test:  96%|█████████▋| 9640/10000 [2:19:01<06:04,  1.01s/it]\u001B[A\n",
      "Processing examples in test:  96%|█████████▋| 9641/10000 [2:19:02<05:49,  1.03it/s]\u001B[A\n",
      "Processing examples in test:  96%|█████████▋| 9643/10000 [2:19:03<05:01,  1.18it/s]\u001B[A\n",
      "Processing examples in test:  96%|█████████▋| 9647/10000 [2:19:04<03:42,  1.59it/s]\u001B[A\n",
      "Processing examples in test:  96%|█████████▋| 9648/10000 [2:19:05<04:09,  1.41it/s]\u001B[A\n",
      "Processing examples in test:  96%|█████████▋| 9649/10000 [2:19:07<04:43,  1.24it/s]\u001B[A\n",
      "Processing examples in test:  96%|█████████▋| 9650/10000 [2:19:08<05:12,  1.12it/s]\u001B[A\n",
      "Processing examples in test:  97%|█████████▋| 9651/10000 [2:19:09<05:52,  1.01s/it]\u001B[A\n",
      "Processing examples in test:  97%|█████████▋| 9652/10000 [2:19:11<07:22,  1.27s/it]\u001B[A\n",
      "Processing examples in test:  97%|█████████▋| 9653/10000 [2:19:13<07:03,  1.22s/it]\u001B[A\n",
      "Processing examples in test:  97%|█████████▋| 9654/10000 [2:19:14<08:03,  1.40s/it]\u001B[A\n",
      "Processing examples in test:  97%|█████████▋| 9656/10000 [2:19:16<06:46,  1.18s/it]\u001B[A\n",
      "Processing examples in test:  97%|█████████▋| 9657/10000 [2:19:17<06:42,  1.17s/it]\u001B[A\n",
      "Processing examples in test:  97%|█████████▋| 9659/10000 [2:19:19<06:11,  1.09s/it]\u001B[A\n",
      "Processing examples in test:  97%|█████████▋| 9660/10000 [2:19:21<07:15,  1.28s/it]\u001B[A\n",
      "Processing examples in test:  97%|█████████▋| 9661/10000 [2:19:23<07:18,  1.29s/it]\u001B[A\n",
      "Processing examples in test:  97%|█████████▋| 9662/10000 [2:19:25<08:16,  1.47s/it]\u001B[A\n",
      "Processing examples in test:  97%|█████████▋| 9663/10000 [2:19:26<07:42,  1.37s/it]\u001B[A\n",
      "Processing examples in test:  97%|█████████▋| 9664/10000 [2:19:28<09:19,  1.67s/it]\u001B[A\n",
      "Processing examples in test:  97%|█████████▋| 9665/10000 [2:19:29<08:50,  1.58s/it]\u001B[A\n",
      "Processing examples in test:  97%|█████████▋| 9666/10000 [2:19:32<10:26,  1.88s/it]\u001B[A\n",
      "Processing examples in test:  97%|█████████▋| 9668/10000 [2:19:35<09:14,  1.67s/it]\u001B[A"
     ]
    },
    {
     "name": "stdout",
     "output_type": "stream",
     "text": [
      "Failed to transform By  table with several box and two coffees cup on it,  woman in a green sweater  opening a small box and another person (whose head cannot be seen them)  operating a small handheld electronic device. or A woman opening boxes while her colleague checks a shipping manifest.. Retrying 5 more times ...\n",
      "Failed to transform By  table with several box and two coffee cup on the thing,  woman in a green sweater  opening a small box and another person (whose head ain't be saw them)  operating a small handheld electronic device. or A woman opening boxes while her colleague checks a shipping manifest.. Retrying 4 more times ...\n",
      "Failed to transform By  table with  box several and two coffees cup on that thing,  woman in the  sweater green  opening the  box small and another person (whose head ain't be saw them)  operating the    device electronic. or A woman opening boxes while her colleague checks a shipping manifest.. Retrying 3 more times ...\n",
      "Failed to transform By  table with  box several and two coffee cup on that thing,  woman in that  sweater green  opening that  box   another person small and (whose head ain't be saw them)  operating that    device electronic. or A woman opening boxes while her colleague checks a shipping manifest.. Retrying 2 more times ...\n"
     ]
    },
    {
     "name": "stderr",
     "output_type": "stream",
     "text": [
      "\n",
      "Processing examples in test:  97%|█████████▋| 9670/10000 [2:19:44<15:15,  2.77s/it]\u001B[A"
     ]
    },
    {
     "name": "stdout",
     "output_type": "stream",
     "text": [
      "Failed to transform By  no table with  box several and two coffees cup on that thing,  no woman in that  sweater green  opening that  box   another person small and (whose head ain't be saw them)  operating that    device electronic. or A woman opening boxes while her colleague checks a shipping manifest.. Retrying 1 more times ...\n"
     ]
    },
    {
     "name": "stderr",
     "output_type": "stream",
     "text": [
      "\n",
      "Processing examples in test:  97%|█████████▋| 9674/10000 [2:19:45<08:14,  1.52s/it]\u001B[A\n",
      "Processing examples in test:  97%|█████████▋| 9675/10000 [2:19:47<08:32,  1.58s/it]\u001B[A\n",
      "Processing examples in test:  97%|█████████▋| 9677/10000 [2:19:49<06:54,  1.28s/it]\u001B[A\n",
      "Processing examples in test:  97%|█████████▋| 9679/10000 [2:19:50<06:00,  1.12s/it]\u001B[A\n",
      "Processing examples in test:  97%|█████████▋| 9680/10000 [2:19:52<06:46,  1.27s/it]\u001B[A\n",
      "Processing examples in test:  97%|█████████▋| 9684/10000 [2:19:54<04:28,  1.18it/s]\u001B[A\n",
      "Processing examples in test:  97%|█████████▋| 9686/10000 [2:19:56<04:37,  1.13it/s]\u001B[A\n",
      "Processing examples in test:  97%|█████████▋| 9687/10000 [2:19:58<05:23,  1.03s/it]\u001B[A\n",
      "Processing examples in test:  97%|█████████▋| 9688/10000 [2:19:59<06:01,  1.16s/it]\u001B[A\n",
      "Processing examples in test:  97%|█████████▋| 9694/10000 [2:20:00<02:50,  1.79it/s]\u001B[A\n",
      "Processing examples in test:  97%|█████████▋| 9698/10000 [2:20:03<03:01,  1.66it/s]\u001B[A\n",
      "Processing examples in test:  97%|█████████▋| 9700/10000 [2:20:05<03:12,  1.56it/s]\u001B[A\n",
      "Processing examples in test:  97%|█████████▋| 9706/10000 [2:20:06<02:04,  2.36it/s]\u001B[A\n",
      "Processing examples in test:  97%|█████████▋| 9708/10000 [2:20:07<02:10,  2.23it/s]\u001B[A\n",
      "Processing examples in test:  97%|█████████▋| 9709/10000 [2:20:09<02:48,  1.72it/s]\u001B[A\n",
      "Processing examples in test:  97%|█████████▋| 9712/10000 [2:20:11<03:09,  1.52it/s]\u001B[A\n",
      "Processing examples in test:  97%|█████████▋| 9715/10000 [2:20:12<02:39,  1.78it/s]\u001B[A\n",
      "Processing examples in test:  97%|█████████▋| 9716/10000 [2:20:13<02:58,  1.59it/s]\u001B[A\n",
      "Processing examples in test:  97%|█████████▋| 9717/10000 [2:20:15<03:55,  1.20it/s]\u001B[A\n",
      "Processing examples in test:  97%|█████████▋| 9719/10000 [2:20:17<04:13,  1.11it/s]\u001B[A\n",
      "Processing examples in test:  97%|█████████▋| 9720/10000 [2:20:19<04:46,  1.02s/it]\u001B[A\n",
      "Processing examples in test:  97%|█████████▋| 9723/10000 [2:20:20<03:25,  1.35it/s]\u001B[A\n",
      "Processing examples in test:  97%|█████████▋| 9725/10000 [2:20:21<03:23,  1.35it/s]\u001B[A\n",
      "Processing examples in test:  97%|█████████▋| 9726/10000 [2:20:23<04:29,  1.02it/s]\u001B[A"
     ]
    },
    {
     "name": "stdout",
     "output_type": "stream",
     "text": [
      "Failed to transform The Man is eating food next the child the bench. or Man eating his food while sitting with his daughter.. Retrying 5 more times ...\n",
      "Failed to transform The Man next the child eating food the bench. or Man eating his food while sitting with his daughter.. Retrying 4 more times ...\n",
      "Failed to transform The Man next the child a-eating food the bench. or Man eating his food while sitting with his daughter.. Retrying 3 more times ...\n",
      "Failed to transform The Man next the child a eating food one - the bench. or Man eating his food while sitting with his daughter.. Retrying 2 more times ...\n"
     ]
    },
    {
     "name": "stderr",
     "output_type": "stream",
     "text": [
      "\n",
      "Processing examples in test:  97%|█████████▋| 9727/10000 [2:20:33<12:06,  2.66s/it]\u001B[A"
     ]
    },
    {
     "name": "stdout",
     "output_type": "stream",
     "text": [
      "Failed to transform The Man next the child a a-eating food one - the bench. or Man eating his food while sitting with his daughter.. Retrying 1 more times ...\n"
     ]
    },
    {
     "name": "stderr",
     "output_type": "stream",
     "text": [
      "\n",
      "Processing examples in test:  97%|█████████▋| 9728/10000 [2:20:35<11:26,  2.52s/it]\u001B[A\n",
      "Processing examples in test:  97%|█████████▋| 9733/10000 [2:20:37<05:23,  1.21s/it]\u001B[A\n",
      "Processing examples in test:  97%|█████████▋| 9734/10000 [2:20:38<05:17,  1.19s/it]\u001B[A\n",
      "Processing examples in test:  97%|█████████▋| 9737/10000 [2:20:39<03:50,  1.14it/s]\u001B[A\n",
      "Processing examples in test:  97%|█████████▋| 9739/10000 [2:20:41<03:53,  1.12it/s]\u001B[A\n",
      "Processing examples in test:  97%|█████████▋| 9740/10000 [2:20:43<04:40,  1.08s/it]\u001B[A\n",
      "Processing examples in test:  97%|█████████▋| 9741/10000 [2:20:45<05:43,  1.32s/it]\u001B[A\n",
      "Processing examples in test:  97%|█████████▋| 9744/10000 [2:20:47<04:17,  1.01s/it]\u001B[A\n",
      "Processing examples in test:  97%|█████████▋| 9745/10000 [2:20:49<04:56,  1.16s/it]\u001B[A\n",
      "Processing examples in test:  97%|█████████▋| 9747/10000 [2:20:51<04:17,  1.02s/it]\u001B[A\n",
      "Processing examples in test:  98%|█████████▊| 9752/10000 [2:20:56<04:11,  1.01s/it]\u001B[A\n",
      "Processing examples in test:  98%|█████████▊| 9753/10000 [2:20:57<04:37,  1.12s/it]\u001B[A\n",
      "Processing examples in test:  98%|█████████▊| 9755/10000 [2:21:00<04:34,  1.12s/it]\u001B[A\n",
      "Processing examples in test:  98%|█████████▊| 9756/10000 [2:21:01<05:01,  1.23s/it]\u001B[A\n",
      "Processing examples in test:  98%|█████████▊| 9758/10000 [2:21:04<04:50,  1.20s/it]\u001B[A\n",
      "Processing examples in test:  98%|█████████▊| 9759/10000 [2:21:12<10:17,  2.56s/it]\u001B[A\n",
      "Processing examples in test:  98%|█████████▊| 9762/10000 [2:21:14<06:49,  1.72s/it]\u001B[A\n",
      "Processing examples in test:  98%|█████████▊| 9766/10000 [2:21:15<03:59,  1.02s/it]\u001B[A\n",
      "Processing examples in test:  98%|█████████▊| 9769/10000 [2:21:17<03:35,  1.07it/s]\u001B[A\n",
      "Processing examples in test:  98%|█████████▊| 9775/10000 [2:21:18<02:09,  1.74it/s]\u001B[A\n",
      "Processing examples in test:  98%|█████████▊| 9776/10000 [2:21:21<02:49,  1.32it/s]\u001B[A\n",
      "Processing examples in test:  98%|█████████▊| 9777/10000 [2:21:23<03:34,  1.04it/s]\u001B[A\n",
      "Processing examples in test:  98%|█████████▊| 9779/10000 [2:21:25<03:29,  1.05it/s]\u001B[A\n",
      "Processing examples in test:  98%|█████████▊| 9784/10000 [2:21:26<02:08,  1.68it/s]\u001B[A\n",
      "Processing examples in test:  98%|█████████▊| 9787/10000 [2:21:34<04:13,  1.19s/it]\u001B[A\n",
      "Processing examples in test:  98%|█████████▊| 9791/10000 [2:21:35<03:06,  1.12it/s]\u001B[A\n",
      "Processing examples in test:  98%|█████████▊| 9795/10000 [2:21:36<02:19,  1.47it/s]\u001B[A\n",
      "Processing examples in test:  98%|█████████▊| 9797/10000 [2:21:37<02:05,  1.62it/s]\u001B[A\n",
      "Processing examples in test:  98%|█████████▊| 9798/10000 [2:21:38<02:16,  1.48it/s]\u001B[A\n",
      "Processing examples in test:  98%|█████████▊| 9801/10000 [2:21:40<02:07,  1.56it/s]\u001B[A\n",
      "Processing examples in test:  98%|█████████▊| 9803/10000 [2:21:41<02:10,  1.51it/s]\u001B[A\n",
      "Processing examples in test:  98%|█████████▊| 9804/10000 [2:21:42<02:22,  1.38it/s]\u001B[A\n",
      "Processing examples in test:  98%|█████████▊| 9806/10000 [2:21:43<02:04,  1.56it/s]\u001B[A\n",
      "Processing examples in test:  98%|█████████▊| 9809/10000 [2:21:45<01:48,  1.75it/s]\u001B[A\n",
      "Processing examples in test:  98%|█████████▊| 9811/10000 [2:21:47<02:06,  1.50it/s]\u001B[A\n",
      "Processing examples in test:  98%|█████████▊| 9817/10000 [2:21:48<01:17,  2.36it/s]\u001B[A"
     ]
    },
    {
     "name": "stdout",
     "output_type": "stream",
     "text": [
      "Failed to transform with A young girl chasing a dragon with bread in her hands.. Retrying 5 more times...\n",
      "Failed to transform with A young girl chasing a dragon with bread in her hands.. Retrying 4 more times...\n",
      "Failed to transform with A young girl chasing a dragon with bread in her hands.. Retrying 3 more times...\n",
      "Failed to transform with A young girl chasing a dragon with bread in her hands.. Retrying 2 more times...\n"
     ]
    },
    {
     "name": "stderr",
     "output_type": "stream",
     "text": [
      "\n",
      "Processing examples in test:  98%|█████████▊| 9819/10000 [2:21:53<02:36,  1.16it/s]\u001B[A"
     ]
    },
    {
     "name": "stdout",
     "output_type": "stream",
     "text": [
      "Failed to transform with A young girl chasing a dragon with bread in her hands.. Retrying 1 more times...\n"
     ]
    },
    {
     "name": "stderr",
     "output_type": "stream",
     "text": [
      "\n",
      "Processing examples in test:  98%|█████████▊| 9820/10000 [2:21:54<02:44,  1.10it/s]\u001B[A\n",
      "Processing examples in test:  98%|█████████▊| 9822/10000 [2:21:56<02:46,  1.07it/s]\u001B[A\n",
      "Processing examples in test:  98%|█████████▊| 9823/10000 [2:22:04<05:55,  2.01s/it]\u001B[A\n",
      "Processing examples in test:  98%|█████████▊| 9825/10000 [2:22:06<05:08,  1.77s/it]\u001B[A\n",
      "Processing examples in test:  98%|█████████▊| 9827/10000 [2:22:08<04:04,  1.42s/it]\u001B[A\n",
      "Processing examples in test:  98%|█████████▊| 9828/10000 [2:22:09<03:54,  1.36s/it]\u001B[A\n",
      "Processing examples in test:  98%|█████████▊| 9829/10000 [2:22:11<04:39,  1.63s/it]\u001B[A\n",
      "Processing examples in test:  98%|█████████▊| 9832/10000 [2:22:13<02:57,  1.05s/it]\u001B[A\n",
      "Processing examples in test:  98%|█████████▊| 9833/10000 [2:22:14<03:05,  1.11s/it]\u001B[A\n",
      "Processing examples in test:  98%|█████████▊| 9835/10000 [2:22:15<02:36,  1.05it/s]\u001B[A\n",
      "Processing examples in test:  98%|█████████▊| 9837/10000 [2:22:17<02:36,  1.04it/s]\u001B[A\n",
      "Processing examples in test:  98%|█████████▊| 9838/10000 [2:22:18<02:30,  1.08it/s]\u001B[A\n",
      "Processing examples in test:  98%|█████████▊| 9840/10000 [2:22:19<02:02,  1.31it/s]\u001B[A\n",
      "Processing examples in test:  98%|█████████▊| 9844/10000 [2:22:21<01:39,  1.56it/s]\u001B[A\n",
      "Processing examples in test:  98%|█████████▊| 9845/10000 [2:22:28<04:01,  1.56s/it]\u001B[A\n",
      "Processing examples in test:  98%|█████████▊| 9846/10000 [2:22:29<03:55,  1.53s/it]\u001B[A\n",
      "Processing examples in test:  98%|█████████▊| 9847/10000 [2:22:31<03:57,  1.55s/it]\u001B[A\n",
      "Processing examples in test:  98%|█████████▊| 9850/10000 [2:22:33<02:53,  1.15s/it]\u001B[A\n",
      "Processing examples in test:  99%|█████████▊| 9851/10000 [2:22:35<03:11,  1.29s/it]\u001B[A\n",
      "Processing examples in test:  99%|█████████▊| 9852/10000 [2:22:37<03:27,  1.40s/it]\u001B[A\n",
      "Processing examples in test:  99%|█████████▊| 9855/10000 [2:22:38<02:26,  1.01s/it]\u001B[A\n",
      "Processing examples in test:  99%|█████████▊| 9856/10000 [2:22:39<02:18,  1.04it/s]\u001B[A\n",
      "Processing examples in test:  99%|█████████▊| 9858/10000 [2:22:40<01:56,  1.22it/s]\u001B[A\n",
      "Processing examples in test:  99%|█████████▊| 9861/10000 [2:22:41<01:27,  1.59it/s]\u001B[A\n",
      "Processing examples in test:  99%|█████████▊| 9862/10000 [2:22:43<02:03,  1.12it/s]\u001B[A\n",
      "Processing examples in test:  99%|█████████▊| 9863/10000 [2:22:45<02:21,  1.03s/it]\u001B[A\n",
      "Processing examples in test:  99%|█████████▊| 9865/10000 [2:22:47<02:26,  1.09s/it]\u001B[A\n",
      "Processing examples in test:  99%|█████████▊| 9866/10000 [2:22:49<02:32,  1.14s/it]\u001B[A\n",
      "Processing examples in test:  99%|█████████▊| 9868/10000 [2:22:50<02:13,  1.01s/it]\u001B[A\n",
      "Processing examples in test:  99%|█████████▊| 9869/10000 [2:22:51<02:13,  1.02s/it]\u001B[A\n",
      "Processing examples in test:  99%|█████████▊| 9871/10000 [2:22:53<02:02,  1.06it/s]\u001B[A\n",
      "Processing examples in test:  99%|█████████▊| 9873/10000 [2:22:55<01:51,  1.14it/s]\u001B[A\n",
      "Processing examples in test:  99%|█████████▊| 9874/10000 [2:22:56<01:56,  1.08it/s]\u001B[A\n",
      "Processing examples in test:  99%|█████████▉| 9876/10000 [2:22:56<01:28,  1.40it/s]\u001B[A\n",
      "Processing examples in test:  99%|█████████▉| 9879/10000 [2:22:58<01:13,  1.64it/s]\u001B[A\n",
      "Processing examples in test:  99%|█████████▉| 9880/10000 [2:23:00<01:38,  1.22it/s]\u001B[A\n",
      "Processing examples in test:  99%|█████████▉| 9881/10000 [2:23:01<02:00,  1.02s/it]\u001B[A\n",
      "Processing examples in test:  99%|█████████▉| 9884/10000 [2:23:03<01:23,  1.40it/s]\u001B[A\n",
      "Processing examples in test:  99%|█████████▉| 9891/10000 [2:23:10<01:39,  1.09it/s]\u001B[A\n",
      "Processing examples in test:  99%|█████████▉| 9892/10000 [2:23:12<01:48,  1.01s/it]\u001B[A\n",
      "Processing examples in test:  99%|█████████▉| 9896/10000 [2:23:13<01:22,  1.26it/s]\u001B[A\n",
      "Processing examples in test:  99%|█████████▉| 9897/10000 [2:23:14<01:21,  1.26it/s]\u001B[A\n",
      "Processing examples in test:  99%|█████████▉| 9898/10000 [2:23:16<01:35,  1.07it/s]\u001B[A\n",
      "Processing examples in test:  99%|█████████▉| 9899/10000 [2:23:18<01:54,  1.13s/it]\u001B[A\n",
      "Processing examples in test:  99%|█████████▉| 9902/10000 [2:23:20<01:32,  1.05it/s]\u001B[A\n",
      "Processing examples in test:  99%|█████████▉| 9904/10000 [2:23:22<01:26,  1.11it/s]\u001B[A\n",
      "Processing examples in test:  99%|█████████▉| 9907/10000 [2:23:24<01:17,  1.20it/s]\u001B[A\n",
      "Processing examples in test:  99%|█████████▉| 9908/10000 [2:23:26<01:31,  1.00it/s]\u001B[A\n",
      "Processing examples in test:  99%|█████████▉| 9909/10000 [2:23:28<01:45,  1.16s/it]\u001B[A\n",
      "Processing examples in test:  99%|█████████▉| 9913/10000 [2:23:29<01:06,  1.32it/s]\u001B[A\n",
      "Processing examples in test:  99%|█████████▉| 9914/10000 [2:23:31<01:13,  1.17it/s]\u001B[A\n",
      "Processing examples in test:  99%|█████████▉| 9917/10000 [2:23:32<00:58,  1.43it/s]\u001B[A\n",
      "Processing examples in test:  99%|█████████▉| 9920/10000 [2:23:35<01:01,  1.30it/s]\u001B[A\n",
      "Processing examples in test:  99%|█████████▉| 9921/10000 [2:23:36<01:07,  1.17it/s]\u001B[A\n",
      "Processing examples in test:  99%|█████████▉| 9922/10000 [2:23:37<01:08,  1.14it/s]\u001B[A\n",
      "Processing examples in test:  99%|█████████▉| 9923/10000 [2:23:39<01:26,  1.13s/it]\u001B[A\n",
      "Processing examples in test:  99%|█████████▉| 9925/10000 [2:23:40<01:12,  1.03it/s]\u001B[A\n",
      "Processing examples in test:  99%|█████████▉| 9929/10000 [2:23:42<00:45,  1.56it/s]\u001B[A\n",
      "Processing examples in test:  99%|█████████▉| 9930/10000 [2:23:43<00:54,  1.29it/s]\u001B[A\n",
      "Processing examples in test:  99%|█████████▉| 9931/10000 [2:23:45<01:11,  1.03s/it]\u001B[A\n",
      "Processing examples in test:  99%|█████████▉| 9933/10000 [2:23:47<01:08,  1.02s/it]\u001B[A\n",
      "Processing examples in test:  99%|█████████▉| 9938/10000 [2:23:49<00:36,  1.72it/s]\u001B[A\n",
      "Processing examples in test:  99%|█████████▉| 9939/10000 [2:23:51<00:53,  1.14it/s]\u001B[A\n",
      "Processing examples in test:  99%|█████████▉| 9940/10000 [2:23:53<01:02,  1.04s/it]\u001B[A\n",
      "Processing examples in test:  99%|█████████▉| 9944/10000 [2:23:54<00:38,  1.45it/s]\u001B[A\n",
      "Processing examples in test:  99%|█████████▉| 9949/10000 [2:23:56<00:27,  1.84it/s]\u001B[A\n",
      "Processing examples in test: 100%|█████████▉| 9950/10000 [2:24:03<01:02,  1.26s/it]\u001B[A\n",
      "Processing examples in test: 100%|█████████▉| 9953/10000 [2:24:04<00:46,  1.01it/s]\u001B[A\n",
      "Processing examples in test: 100%|█████████▉| 9954/10000 [2:24:06<00:49,  1.08s/it]\u001B[A\n",
      "Processing examples in test: 100%|█████████▉| 9958/10000 [2:24:08<00:34,  1.22it/s]\u001B[A\n",
      "Processing examples in test: 100%|█████████▉| 9961/10000 [2:24:09<00:26,  1.48it/s]\u001B[A\n",
      "Processing examples in test: 100%|█████████▉| 9962/10000 [2:24:12<00:34,  1.09it/s]\u001B[A\n",
      "Processing examples in test: 100%|█████████▉| 9963/10000 [2:24:14<00:41,  1.12s/it]\u001B[A\n",
      "Processing examples in test: 100%|█████████▉| 9965/10000 [2:24:14<00:30,  1.14it/s]\u001B[A\n",
      "Processing examples in test: 100%|█████████▉| 9966/10000 [2:24:16<00:34,  1.02s/it]\u001B[A\n",
      "Processing examples in test: 100%|█████████▉| 9967/10000 [2:24:17<00:31,  1.05it/s]\u001B[A\n",
      "Processing examples in test: 100%|█████████▉| 9971/10000 [2:24:18<00:17,  1.69it/s]\u001B[A\n",
      "Processing examples in test: 100%|█████████▉| 9972/10000 [2:24:19<00:19,  1.47it/s]\u001B[A\n",
      "Processing examples in test: 100%|█████████▉| 9973/10000 [2:24:21<00:24,  1.11it/s]\u001B[A\n",
      "Processing examples in test: 100%|█████████▉| 9978/10000 [2:24:22<00:11,  1.93it/s]\u001B[A\n",
      "Processing examples in test: 100%|█████████▉| 9979/10000 [2:24:24<00:15,  1.34it/s]\u001B[A\n",
      "Processing examples in test: 100%|█████████▉| 9983/10000 [2:24:25<00:09,  1.84it/s]\u001B[A\n",
      "Processing examples in test: 100%|█████████▉| 9986/10000 [2:24:26<00:06,  2.20it/s]\u001B[A\n",
      "Processing examples in test: 100%|█████████▉| 9988/10000 [2:24:28<00:06,  1.89it/s]\u001B[A\n",
      "Processing examples in test: 100%|█████████▉| 9992/10000 [2:24:30<00:04,  1.91it/s]\u001B[A\n",
      "Processing examples in test: 100%|█████████▉| 9993/10000 [2:24:31<00:04,  1.51it/s]\u001B[A\n",
      "Processing examples in test: 100%|█████████▉| 9995/10000 [2:24:33<00:03,  1.55it/s]\u001B[A\n",
      "Processing examples in test: 100%|██████████| 10000/10000 [2:24:33<00:00,  1.15it/s][A\n",
      "Processing splits:  33%|███▎      | 1/3 [2:24:34<4:49:08, 8674.18s/it]"
     ]
    },
    {
     "name": "stdout",
     "output_type": "stream",
     "text": [
      "Processing validation\n"
     ]
    },
    {
     "name": "stderr",
     "output_type": "stream",
     "text": [
      "\n",
      "Processing examples in validation:   0%|          | 0/10000 [00:00<?, ?it/s]\u001B[A\n",
      "Processing examples in validation:   0%|          | 2/10000 [00:01<1:53:07,  1.47it/s]\u001B[A\n",
      "Processing examples in validation:   0%|          | 4/10000 [00:04<2:56:10,  1.06s/it]\u001B[A\n",
      "Processing examples in validation:   0%|          | 6/10000 [00:06<2:58:41,  1.07s/it]\u001B[A\n",
      "Processing examples in validation:   0%|          | 7/10000 [00:07<3:19:46,  1.20s/it]\u001B[A\n",
      "Processing examples in validation:   0%|          | 9/10000 [00:09<3:09:47,  1.14s/it]\u001B[A\n",
      "Processing examples in validation:   0%|          | 10/10000 [00:11<3:14:03,  1.17s/it]\u001B[A\n",
      "Processing examples in validation:   0%|          | 11/10000 [00:11<3:00:04,  1.08s/it]\u001B[A\n",
      "Processing examples in validation:   0%|          | 12/10000 [00:13<3:32:51,  1.28s/it]\u001B[A\n",
      "Processing examples in validation:   0%|          | 13/10000 [00:15<3:43:47,  1.34s/it]\u001B[A\n",
      "Processing examples in validation:   0%|          | 17/10000 [00:16<1:57:50,  1.41it/s]\u001B[A\n",
      "Processing examples in validation:   0%|          | 20/10000 [00:17<1:26:14,  1.93it/s]\u001B[A\n",
      "Processing examples in validation:   0%|          | 21/10000 [00:18<1:42:15,  1.63it/s]\u001B[A\n",
      "Processing examples in validation:   0%|          | 24/10000 [00:19<1:30:48,  1.83it/s]\u001B[A\n",
      "Processing examples in validation:   0%|          | 25/10000 [00:20<1:38:40,  1.68it/s]\u001B[A\n",
      "Processing examples in validation:   0%|          | 26/10000 [00:21<1:49:28,  1.52it/s]\u001B[A\n",
      "Processing examples in validation:   0%|          | 27/10000 [00:23<2:27:04,  1.13it/s]\u001B[A\n",
      "Processing examples in validation:   0%|          | 28/10000 [00:24<2:35:49,  1.07it/s]\u001B[A\n",
      "Processing examples in validation:   0%|          | 30/10000 [00:25<1:59:31,  1.39it/s]\u001B[A\n",
      "Processing examples in validation:   0%|          | 35/10000 [00:26<1:12:15,  2.30it/s]\u001B[A\n",
      "Processing examples in validation:   0%|          | 36/10000 [00:27<1:26:29,  1.92it/s]\u001B[A\n",
      "Processing examples in validation:   0%|          | 38/10000 [00:35<4:25:15,  1.60s/it]\u001B[A\n",
      "Processing examples in validation:   0%|          | 40/10000 [00:38<4:04:10,  1.47s/it]\u001B[A\n",
      "Processing examples in validation:   0%|          | 41/10000 [00:39<3:54:34,  1.41s/it]\u001B[A\n",
      "Processing examples in validation:   0%|          | 42/10000 [00:41<4:23:36,  1.59s/it]\u001B[A\n",
      "Processing examples in validation:   0%|          | 43/10000 [00:42<4:05:41,  1.48s/it]\u001B[A\n",
      "Processing examples in validation:   0%|          | 45/10000 [00:43<2:53:48,  1.05s/it]\u001B[A\n",
      "Processing examples in validation:   0%|          | 46/10000 [00:44<2:41:45,  1.03it/s]\u001B[A\n",
      "Processing examples in validation:   0%|          | 49/10000 [00:51<4:42:32,  1.70s/it]\u001B[A\n",
      "Processing examples in validation:   0%|          | 50/10000 [00:53<4:47:03,  1.73s/it]\u001B[A\n",
      "Processing examples in validation:   1%|          | 51/10000 [00:55<4:48:07,  1.74s/it]\u001B[A\n",
      "Processing examples in validation:   1%|          | 53/10000 [00:56<3:57:31,  1.43s/it]\u001B[A\n",
      "Processing examples in validation:   1%|          | 59/10000 [00:58<2:05:32,  1.32it/s]\u001B[A\n",
      "Processing examples in validation:   1%|          | 60/10000 [01:00<2:24:38,  1.15it/s]\u001B[A\n",
      "Processing examples in validation:   1%|          | 63/10000 [01:01<1:58:04,  1.40it/s]\u001B[A\n",
      "Processing examples in validation:   1%|          | 73/10000 [01:04<1:10:23,  2.35it/s]\u001B[A\n",
      "Processing examples in validation:   1%|          | 74/10000 [01:05<1:20:30,  2.05it/s]\u001B[A\n",
      "Processing examples in validation:   1%|          | 78/10000 [01:12<2:23:59,  1.15it/s]\u001B[A\n",
      "Processing examples in validation:   1%|          | 85/10000 [01:13<1:32:32,  1.79it/s]\u001B[A"
     ]
    },
    {
     "name": "stdout",
     "output_type": "stream",
     "text": [
      "Failed to transform A pregnant lady singing on stage while holding a flag behind her. or A woman is making music.. Retrying 5 more times ...\n",
      "Failed to transform A pregnant lady singing on stage while holding a flag behind her. or A woman is making music.. Retrying 4 more times ...\n",
      "Failed to transform A pregnant lady singing on stage while holding a flag behind her. or A woman is making music.. Retrying 3 more times ...\n",
      "Failed to transform A pregnant lady singing on stage while holding a flag behind her. or A woman is making music.. Retrying 2 more times ...\n"
     ]
    },
    {
     "name": "stderr",
     "output_type": "stream",
     "text": [
      "\n",
      "Processing examples in validation:   1%|          | 86/10000 [01:18<2:36:01,  1.06it/s]\u001B[A"
     ]
    },
    {
     "name": "stdout",
     "output_type": "stream",
     "text": [
      "Failed to transform A pregnant lady singing on stage while holding a flag behind her. or A woman is making music.. Retrying 1 more times ...\n"
     ]
    },
    {
     "name": "stderr",
     "output_type": "stream",
     "text": [
      "\n",
      "Processing examples in validation:   1%|          | 88/10000 [01:22<3:10:58,  1.16s/it]\u001B[A\n",
      "Processing examples in validation:   1%|          | 89/10000 [01:24<3:17:46,  1.20s/it]\u001B[A\n",
      "Processing examples in validation:   1%|          | 90/10000 [01:25<3:21:47,  1.22s/it]\u001B[A\n",
      "Processing examples in validation:   1%|          | 94/10000 [01:27<2:16:36,  1.21it/s]\u001B[A\n",
      "Processing examples in validation:   1%|          | 96/10000 [01:28<2:04:35,  1.32it/s]\u001B[A\n",
      "Processing examples in validation:   1%|          | 97/10000 [01:29<2:27:57,  1.12it/s]\u001B[A\n",
      "Processing examples in validation:   1%|          | 99/10000 [01:32<2:36:08,  1.06it/s]\u001B[A\n",
      "Processing examples in validation:   1%|          | 100/10000 [01:33<2:56:01,  1.07s/it]\u001B[A\n",
      "Processing examples in validation:   1%|          | 101/10000 [01:34<3:04:24,  1.12s/it]\u001B[A\n",
      "Processing examples in validation:   1%|          | 104/10000 [01:36<2:28:10,  1.11it/s]\u001B[A\n",
      "Processing examples in validation:   1%|          | 105/10000 [01:38<2:43:31,  1.01it/s]\u001B[A\n",
      "Processing examples in validation:   1%|          | 109/10000 [01:38<1:34:30,  1.74it/s]\u001B[A\n",
      "Processing examples in validation:   1%|          | 110/10000 [01:40<1:46:43,  1.54it/s]\u001B[A\n",
      "Processing examples in validation:   1%|          | 115/10000 [01:41<1:19:56,  2.06it/s]\u001B[A\n",
      "Processing examples in validation:   1%|          | 116/10000 [01:43<1:48:33,  1.52it/s]\u001B[A\n",
      "Processing examples in validation:   1%|          | 117/10000 [01:48<3:41:22,  1.34s/it]\u001B[A\n",
      "Processing examples in validation:   1%|          | 118/10000 [01:50<3:51:24,  1.41s/it]\u001B[A\n",
      "Processing examples in validation:   1%|          | 119/10000 [01:52<4:14:54,  1.55s/it]\u001B[A\n",
      "Processing examples in validation:   1%|          | 120/10000 [01:53<4:08:14,  1.51s/it]\u001B[A\n",
      "Processing examples in validation:   1%|          | 123/10000 [01:55<2:54:25,  1.06s/it]\u001B[A\n",
      "Processing examples in validation:   1%|▏         | 125/10000 [01:57<2:42:10,  1.01it/s]\u001B[A\n",
      "Processing examples in validation:   1%|▏         | 126/10000 [01:58<2:53:42,  1.06s/it]\u001B[A\n",
      "Processing examples in validation:   1%|▏         | 127/10000 [02:00<3:38:14,  1.33s/it]\u001B[A\n",
      "Processing examples in validation:   1%|▏         | 129/10000 [02:08<6:02:45,  2.20s/it]\u001B[A\n",
      "Processing examples in validation:   1%|▏         | 130/10000 [02:09<5:23:59,  1.97s/it]\u001B[A\n",
      "Processing examples in validation:   1%|▏         | 131/10000 [02:10<4:59:33,  1.82s/it]\u001B[A\n",
      "Processing examples in validation:   1%|▏         | 132/10000 [02:11<4:29:49,  1.64s/it]\u001B[A\n",
      "Processing examples in validation:   1%|▏         | 136/10000 [02:13<2:27:34,  1.11it/s]\u001B[A\n",
      "Processing examples in validation:   1%|▏         | 137/10000 [02:13<2:22:27,  1.15it/s]\u001B[A\n",
      "Processing examples in validation:   1%|▏         | 139/10000 [02:16<2:31:30,  1.08it/s]\u001B[A\n",
      "Processing examples in validation:   1%|▏         | 140/10000 [02:17<2:37:13,  1.05it/s]\u001B[A\n",
      "Processing examples in validation:   1%|▏         | 142/10000 [02:18<2:27:36,  1.11it/s]\u001B[A\n",
      "Processing examples in validation:   1%|▏         | 144/10000 [02:20<2:30:28,  1.09it/s]\u001B[A\n",
      "Processing examples in validation:   1%|▏         | 145/10000 [02:21<2:37:13,  1.04it/s]\u001B[A\n",
      "Processing examples in validation:   1%|▏         | 146/10000 [02:23<3:09:26,  1.15s/it]\u001B[A\n",
      "Processing examples in validation:   1%|▏         | 147/10000 [02:24<3:18:02,  1.21s/it]\u001B[A\n",
      "Processing examples in validation:   1%|▏         | 148/10000 [02:25<2:54:53,  1.07s/it]\u001B[A\n",
      "Processing examples in validation:   1%|▏         | 149/10000 [02:27<3:37:48,  1.33s/it]\u001B[A\n",
      "Processing examples in validation:   2%|▏         | 151/10000 [02:29<2:54:34,  1.06s/it]\u001B[A\n",
      "Processing examples in validation:   2%|▏         | 153/10000 [02:30<2:38:27,  1.04it/s]\u001B[A\n",
      "Processing examples in validation:   2%|▏         | 156/10000 [02:32<2:08:36,  1.28it/s]\u001B[A\n",
      "Processing examples in validation:   2%|▏         | 157/10000 [02:33<2:27:32,  1.11it/s]\u001B[A\n",
      "Processing examples in validation:   2%|▏         | 158/10000 [02:35<2:59:18,  1.09s/it]\u001B[A\n",
      "Processing examples in validation:   2%|▏         | 162/10000 [02:37<1:53:11,  1.45it/s]\u001B[A\n",
      "Processing examples in validation:   2%|▏         | 166/10000 [02:38<1:27:42,  1.87it/s]\u001B[A\n",
      "Processing examples in validation:   2%|▏         | 170/10000 [02:47<3:09:59,  1.16s/it]\u001B[A\n",
      "Processing examples in validation:   2%|▏         | 171/10000 [02:47<3:02:16,  1.11s/it]\u001B[A\n",
      "Processing examples in validation:   2%|▏         | 174/10000 [02:48<2:20:09,  1.17it/s]\u001B[A\n",
      "Processing examples in validation:   2%|▏         | 176/10000 [02:50<2:07:35,  1.28it/s]\u001B[A\n",
      "Processing examples in validation:   2%|▏         | 177/10000 [02:51<2:31:45,  1.08it/s]\u001B[A\n",
      "Processing examples in validation:   2%|▏         | 181/10000 [02:53<1:55:48,  1.41it/s]\u001B[A\n",
      "Processing examples in validation:   2%|▏         | 185/10000 [02:54<1:29:33,  1.83it/s]\u001B[A\n",
      "Processing examples in validation:   2%|▏         | 189/10000 [02:56<1:23:27,  1.96it/s]\u001B[A\n",
      "Processing examples in validation:   2%|▏         | 190/10000 [02:58<1:43:13,  1.58it/s]\u001B[A\n",
      "Processing examples in validation:   2%|▏         | 192/10000 [03:00<1:55:45,  1.41it/s]\u001B[A\n",
      "Processing examples in validation:   2%|▏         | 193/10000 [03:01<2:21:29,  1.16it/s]\u001B[A\n",
      "Processing examples in validation:   2%|▏         | 195/10000 [03:03<2:08:52,  1.27it/s]\u001B[A\n",
      "Processing examples in validation:   2%|▏         | 196/10000 [03:04<2:21:30,  1.15it/s]\u001B[A\n",
      "Processing examples in validation:   2%|▏         | 199/10000 [03:05<1:51:41,  1.46it/s]\u001B[A\n",
      "Processing examples in validation:   2%|▏         | 205/10000 [03:07<1:13:29,  2.22it/s]\u001B[A\n",
      "Processing examples in validation:   2%|▏         | 207/10000 [03:08<1:28:31,  1.84it/s]\u001B[A\n",
      "Processing examples in validation:   2%|▏         | 210/10000 [03:16<3:06:00,  1.14s/it]\u001B[A\n",
      "Processing examples in validation:   2%|▏         | 211/10000 [03:18<3:27:42,  1.27s/it]\u001B[A\n",
      "Processing examples in validation:   2%|▏         | 213/10000 [03:21<3:32:10,  1.30s/it]\u001B[A\n",
      "Processing examples in validation:   2%|▏         | 215/10000 [03:22<3:11:13,  1.17s/it]\u001B[A\n",
      "Processing examples in validation:   2%|▏         | 216/10000 [03:24<3:07:35,  1.15s/it]\u001B[A\n",
      "Processing examples in validation:   2%|▏         | 225/10000 [03:25<1:23:37,  1.95it/s]\u001B[A\n",
      "Processing examples in validation:   2%|▏         | 226/10000 [03:27<1:35:04,  1.71it/s]\u001B[A\n",
      "Processing examples in validation:   2%|▏         | 229/10000 [03:28<1:27:15,  1.87it/s]\u001B[A\n",
      "Processing examples in validation:   2%|▏         | 230/10000 [03:29<1:48:04,  1.51it/s]\u001B[A\n",
      "Processing examples in validation:   2%|▏         | 232/10000 [03:31<1:47:03,  1.52it/s]\u001B[A\n",
      "Processing examples in validation:   2%|▏         | 233/10000 [03:38<4:25:14,  1.63s/it]\u001B[A\n",
      "Processing examples in validation:   2%|▏         | 234/10000 [03:39<4:14:41,  1.56s/it]\u001B[A\n",
      "Processing examples in validation:   2%|▏         | 235/10000 [03:41<4:29:10,  1.65s/it]\u001B[A\n",
      "Processing examples in validation:   2%|▏         | 236/10000 [03:43<4:40:45,  1.73s/it]\u001B[A\n",
      "Processing examples in validation:   2%|▏         | 237/10000 [03:45<4:52:26,  1.80s/it]\u001B[A\n",
      "Processing examples in validation:   2%|▏         | 239/10000 [03:47<3:51:47,  1.42s/it]\u001B[A\n",
      "Processing examples in validation:   2%|▏         | 242/10000 [03:49<2:58:32,  1.10s/it]\u001B[A\n",
      "Processing examples in validation:   2%|▏         | 243/10000 [03:50<3:06:45,  1.15s/it]\u001B[A\n",
      "Processing examples in validation:   2%|▏         | 244/10000 [03:51<2:50:01,  1.05s/it]\u001B[A\n",
      "Processing examples in validation:   2%|▏         | 247/10000 [03:58<4:18:40,  1.59s/it]\u001B[A\n",
      "Processing examples in validation:   2%|▎         | 250/10000 [03:59<3:02:43,  1.12s/it]\u001B[A\n",
      "Processing examples in validation:   3%|▎         | 254/10000 [04:06<3:44:48,  1.38s/it]\u001B[A\n",
      "Processing examples in validation:   3%|▎         | 255/10000 [04:15<6:27:09,  2.38s/it]\u001B[A\n",
      "Processing examples in validation:   3%|▎         | 257/10000 [04:17<5:24:10,  2.00s/it]\u001B[A\n",
      "Processing examples in validation:   3%|▎         | 259/10000 [04:18<4:35:14,  1.70s/it]\u001B[A\n",
      "Processing examples in validation:   3%|▎         | 260/10000 [04:20<4:40:18,  1.73s/it]\u001B[A\n",
      "Processing examples in validation:   3%|▎         | 261/10000 [04:22<4:43:28,  1.75s/it]\u001B[A\n",
      "Processing examples in validation:   3%|▎         | 262/10000 [04:24<4:33:24,  1.68s/it]\u001B[A\n",
      "Processing examples in validation:   3%|▎         | 265/10000 [04:25<2:55:54,  1.08s/it]\u001B[A\n",
      "Processing examples in validation:   3%|▎         | 267/10000 [04:27<2:53:59,  1.07s/it]\u001B[A\n",
      "Processing examples in validation:   3%|▎         | 268/10000 [04:28<2:58:12,  1.10s/it]\u001B[A\n",
      "Processing examples in validation:   3%|▎         | 269/10000 [04:30<3:09:07,  1.17s/it]\u001B[A\n",
      "Processing examples in validation:   3%|▎         | 271/10000 [04:32<2:59:45,  1.11s/it]\u001B[A\n",
      "Processing examples in validation:   3%|▎         | 273/10000 [04:34<3:01:10,  1.12s/it]\u001B[A\n",
      "Processing examples in validation:   3%|▎         | 276/10000 [04:35<2:11:15,  1.23it/s]\u001B[A\n",
      "Processing examples in validation:   3%|▎         | 277/10000 [04:36<2:20:31,  1.15it/s]\u001B[A\n",
      "Processing examples in validation:   3%|▎         | 281/10000 [04:39<2:12:14,  1.22it/s]\u001B[A\n",
      "Processing examples in validation:   3%|▎         | 283/10000 [04:41<2:18:07,  1.17it/s]\u001B[A\n",
      "Processing examples in validation:   3%|▎         | 285/10000 [04:42<2:06:48,  1.28it/s]\u001B[A\n",
      "Processing examples in validation:   3%|▎         | 290/10000 [04:43<1:16:09,  2.12it/s]\u001B[A\n",
      "Processing examples in validation:   3%|▎         | 291/10000 [04:44<1:31:19,  1.77it/s]\u001B[A\n",
      "Processing examples in validation:   3%|▎         | 293/10000 [04:46<1:36:12,  1.68it/s]\u001B[A\n",
      "Processing examples in validation:   3%|▎         | 294/10000 [04:47<1:41:37,  1.59it/s]\u001B[A\n",
      "Processing examples in validation:   3%|▎         | 295/10000 [04:48<2:19:37,  1.16it/s]\u001B[A\n",
      "Processing examples in validation:   3%|▎         | 296/10000 [04:50<2:53:28,  1.07s/it]\u001B[A\n",
      "Processing examples in validation:   3%|▎         | 298/10000 [04:51<2:21:15,  1.14it/s]\u001B[A\n",
      "Processing examples in validation:   3%|▎         | 301/10000 [04:52<1:39:16,  1.63it/s]\u001B[A\n",
      "Processing examples in validation:   3%|▎         | 302/10000 [04:54<2:01:03,  1.34it/s]\u001B[A\n",
      "Processing examples in validation:   3%|▎         | 303/10000 [04:55<2:26:43,  1.10it/s]\u001B[A\n",
      "Processing examples in validation:   3%|▎         | 304/10000 [04:56<2:28:23,  1.09it/s]\u001B[A\n",
      "Processing examples in validation:   3%|▎         | 308/10000 [04:57<1:31:21,  1.77it/s]\u001B[A\n",
      "Processing examples in validation:   3%|▎         | 312/10000 [05:00<1:30:36,  1.78it/s]\u001B[A\n",
      "Processing examples in validation:   3%|▎         | 313/10000 [05:08<4:16:34,  1.59s/it]\u001B[A\n",
      "Processing examples in validation:   3%|▎         | 314/10000 [05:08<3:56:03,  1.46s/it]\u001B[A"
     ]
    },
    {
     "name": "stdout",
     "output_type": "stream",
     "text": [
      "Failed to transform with A turtle has a diver swimming with it.. Retrying 5 more times...\n"
     ]
    },
    {
     "name": "stderr",
     "output_type": "stream",
     "text": [
      "\n",
      "Processing examples in validation:   3%|▎         | 318/10000 [05:10<2:38:10,  1.02it/s]\u001B[A\n",
      "Processing examples in validation:   3%|▎         | 320/10000 [05:12<2:37:14,  1.03it/s]\u001B[A\n",
      "Processing examples in validation:   3%|▎         | 321/10000 [05:13<2:35:26,  1.04it/s]\u001B[A\n",
      "Processing examples in validation:   3%|▎         | 322/10000 [05:15<2:54:12,  1.08s/it]\u001B[A\n",
      "Processing examples in validation:   3%|▎         | 326/10000 [05:16<2:02:47,  1.31it/s]\u001B[A"
     ]
    },
    {
     "name": "stdout",
     "output_type": "stream",
     "text": [
      "Failed to transform with Indian people hunting animals. Retrying 5 more times...\n"
     ]
    },
    {
     "name": "stderr",
     "output_type": "stream",
     "text": [
      "\n",
      "Processing examples in validation:   3%|▎         | 327/10000 [05:19<2:36:20,  1.03it/s]\u001B[A"
     ]
    },
    {
     "name": "stdout",
     "output_type": "stream",
     "text": [
      "Failed to transform Two little girl are riding an inflatable dinghy down the purple water slide. or Two girls on a water slide.. Retrying 5 more times ...\n",
      "Failed to transform Two little girl are riding an inflatable dinghy down the purple water slide. or Two girls on a water slide.. Retrying 4 more times ...\n",
      "Failed to transform Two little girl are riding an inflatable dinghy down the purple water slide. or Two girls on a water slide.. Retrying 3 more times ...\n",
      "Failed to transform Two little girl are riding an inflatable dinghy down the purple water slide. or Two girls on a water slide.. Retrying 2 more times ...\n"
     ]
    },
    {
     "name": "stderr",
     "output_type": "stream",
     "text": [
      "\n",
      "Processing examples in validation:   3%|▎         | 328/10000 [05:21<3:31:24,  1.31s/it]\u001B[A"
     ]
    },
    {
     "name": "stdout",
     "output_type": "stream",
     "text": [
      "Failed to transform Two little girl are riding an inflatable dinghy down the purple water slide. or Two girls on a water slide.. Retrying 1 more times ...\n",
      "Failed to transform with Barney Fife with his one bullet.. Retrying 5 more times...\n",
      "Failed to transform with Barney Fife with his one bullet.. Retrying 4 more times...\n",
      "Failed to transform with Barney Fife with his one bullet.. Retrying 3 more times...\n",
      "Failed to transform with Barney Fife with his one bullet.. Retrying 2 more times...\n"
     ]
    },
    {
     "name": "stderr",
     "output_type": "stream",
     "text": [
      "\n",
      "Processing examples in validation:   3%|▎         | 330/10000 [05:22<2:44:11,  1.02s/it]\u001B[A"
     ]
    },
    {
     "name": "stdout",
     "output_type": "stream",
     "text": [
      "Failed to transform with Barney Fife with his one bullet.. Retrying 1 more times...\n",
      "Failed to transform with The person is cooking a hamburger.. Retrying 5 more times...\n",
      "Failed to transform with The person is cooking a hamburger.. Retrying 4 more times...\n",
      "Failed to transform with The person is cooking a hamburger.. Retrying 3 more times...\n",
      "Failed to transform with The person is cooking a hamburger.. Retrying 2 more times...\n"
     ]
    },
    {
     "name": "stderr",
     "output_type": "stream",
     "text": [
      "\n",
      "Processing examples in validation:   3%|▎         | 331/10000 [05:24<3:01:47,  1.13s/it]\u001B[A\n",
      "Processing examples in validation:   3%|▎         | 332/10000 [05:25<2:58:59,  1.11s/it]\u001B[A"
     ]
    }
   ],
   "source": [
    "import pandas as pd\n",
    "import os\n",
    "from tqdm import tqdm\n",
    "\n",
    "dataset = load_dataset(\"snli\")\n",
    "os.makedirs(\"snli_modified\", exist_ok=True)\n",
    "\n",
    "for split in tqdm(dataset.keys(), desc=\"Processing splits\"):\n",
    "    print(f\"Processing {split}\")\n",
    "    data = dataset[split]\n",
    "\n",
    "    rows = []\n",
    "    for example in tqdm(data, desc=f\"Processing examples in {split}\"):\n",
    "        premise = example[\"premise\"]\n",
    "        hypothesis = example[\"hypothesis\"]\n",
    "        label = example[\"label\"]\n",
    "        \n",
    "        # make sure that text is not empty\n",
    "        if not premise or not hypothesis:\n",
    "            continue\n",
    "\n",
    "        # Skip if label is not in {0, 1, 2}\n",
    "        if label not in {0, 1, 2}:\n",
    "            continue\n",
    "\n",
    "        # Flip a coin for similar/distinct\n",
    "        want_similar = random.choice([True, False])\n",
    "\n",
    "        # Check current similarity\n",
    "        initial_sim = compare_texts(premise, hypothesis)\n",
    "        # currently_similar = (initial_sim == 1.0)\n",
    "\n",
    "        if want_similar:\n",
    "            # Make them similar\n",
    "            premise, hypothesis = make_texts_similar(premise, hypothesis)\n",
    "        else:\n",
    "            # Make them distinct\n",
    "            hypothesis = make_texts_distinct(premise, hypothesis)\n",
    "\n",
    "        style = 1 if want_similar else 0 # 1 for similar, 0 for distinct\n",
    "\n",
    "        rows.append({\n",
    "            \"premise\": premise,\n",
    "            \"hypothesis\": hypothesis,\n",
    "            \"premise_original\": example[\"premise\"],\n",
    "            \"hypothesis_original\": example[\"hypothesis\"],\n",
    "            \"nli\": label, # 0 entailment, 1 neutral, 2 contradiction\n",
    "            \"style\": style # 0 distinct, 1 similar\n",
    "        })\n",
    "\n",
    "    df = pd.DataFrame(rows, columns=[\"premise\", \"hypothesis\", \"premise_original\", \"hypothesis_original\", \"nli\", \"style\"])\n",
    "    output_file = f\"snli_modified/{split}_modified.tsv\"\n",
    "    df.to_csv(output_file, index=False, encoding='utf-8', sep=\"\\t\")"
   ],
   "metadata": {
    "collapsed": false,
    "ExecuteTime": {
     "start_time": "2024-12-12T13:08:20.866873Z"
    }
   },
   "id": "498d9a270007d867"
  },
  {
   "cell_type": "code",
   "execution_count": null,
   "outputs": [],
   "source": [],
   "metadata": {
    "collapsed": false
   },
   "id": "5e5b745063e02459"
  },
  {
   "cell_type": "code",
   "execution_count": null,
   "outputs": [],
   "source": [],
   "metadata": {
    "collapsed": false
   },
   "id": "92e73a3a143eb934"
  },
  {
   "cell_type": "code",
   "execution_count": null,
   "outputs": [],
   "source": [],
   "metadata": {
    "collapsed": false
   },
   "id": "801e82992da35a7c"
  },
  {
   "cell_type": "code",
   "execution_count": 1,
   "outputs": [
    {
     "name": "stderr",
     "output_type": "stream",
     "text": [
      "\u001B[34;1mTextFlint\u001B[0m: Downloading http://textflint.oss-cn-beijing.aliyuncs.com/download/NLTK_DATA/wordnet/wordnet.zip.\n",
      "100%|██████████| 10.8M/10.8M [00:01<00:00, 5.97MB/s]\n",
      "\u001B[34;1mTextFlint\u001B[0m: Unzipping file /Users/anna/.cache/textflint/tmp3a_4wsdp to /Users/anna/.cache/textflint/NLTK_DATA/wordnet.\n",
      "\u001B[34;1mTextFlint\u001B[0m: Successfully saved NLTK_DATA/wordnet/wordnet.zip to cache.\n"
     ]
    },
    {
     "ename": "ModuleNotFoundError",
     "evalue": "No module named 'textflint.transformation'",
     "output_type": "error",
     "traceback": [
      "\u001B[0;31m---------------------------------------------------------------------------\u001B[0m",
      "\u001B[0;31mModuleNotFoundError\u001B[0m                       Traceback (most recent call last)",
      "Cell \u001B[0;32mIn[1], line 1\u001B[0m\n\u001B[0;32m----> 1\u001B[0m \u001B[38;5;28;01mfrom\u001B[39;00m \u001B[38;5;21;01mtextflint\u001B[39;00m\u001B[38;5;21;01m.\u001B[39;00m\u001B[38;5;21;01mtransformation\u001B[39;00m\u001B[38;5;21;01m.\u001B[39;00m\u001B[38;5;21;01muniversal\u001B[39;00m\u001B[38;5;21;01m.\u001B[39;00m\u001B[38;5;21;01mchar_typos\u001B[39;00m \u001B[38;5;28;01mimport\u001B[39;00m CharTypos\n\u001B[1;32m      3\u001B[0m original_text \u001B[38;5;241m=\u001B[39m \u001B[38;5;124m\"\u001B[39m\u001B[38;5;124mThis is a sample sentence.\u001B[39m\u001B[38;5;124m\"\u001B[39m\n\u001B[1;32m      4\u001B[0m transformer \u001B[38;5;241m=\u001B[39m CharTypos()\n",
      "\u001B[0;31mModuleNotFoundError\u001B[0m: No module named 'textflint.transformation'"
     ]
    }
   ],
   "source": [
    "from textflint.transformation.universal.char_typos import CharTypos\n",
    "\n",
    "original_text = \"This is a sample sentence.\"\n",
    "transformer = CharTypos()\n",
    "\n",
    "# The transform() method expects a list of strings and returns a list of variants.\n",
    "perturbed_variants = transformer.transform([original_text])\n",
    "\n",
    "print(\"Original Text:\")\n",
    "print(original_text)\n",
    "print(\"\\nPerturbed Variants:\")\n",
    "for i, variant in enumerate(perturbed_variants, start=1):\n",
    "    print(f\"{i}. {variant}\")"
   ],
   "metadata": {
    "collapsed": false,
    "ExecuteTime": {
     "end_time": "2024-12-10T14:55:58.415312Z",
     "start_time": "2024-12-10T14:55:51.601173Z"
    }
   },
   "id": "1c4b2554e575481e"
  },
  {
   "cell_type": "code",
   "execution_count": 15,
   "outputs": [
    {
     "ename": "TypeError",
     "evalue": "make_texts_similar() missing 1 required positional argument: 'text2'",
     "output_type": "error",
     "traceback": [
      "\u001B[0;31m---------------------------------------------------------------------------\u001B[0m",
      "\u001B[0;31mTypeError\u001B[0m                                 Traceback (most recent call last)",
      "Cell \u001B[0;32mIn[15], line 1\u001B[0m\n\u001B[0;32m----> 1\u001B[0m \u001B[38;5;28mprint\u001B[39m(make_texts_similar(\u001B[38;5;124m\"\u001B[39m\u001B[38;5;124mthree men going to work [SEP] Three men, one holding pipes, another holding a large object above his head, and one resting against the pipe bed on the truck, are looking at the camera.\u001B[39m\u001B[38;5;124m\"\u001B[39m))\n",
      "\u001B[0;31mTypeError\u001B[0m: make_texts_similar() missing 1 required positional argument: 'text2'"
     ]
    }
   ],
   "source": [
    "print(make_texts_similar(\"three men going to work [SEP] Three men, one holding pipes, another holding a large object above his head, and one resting against the pipe bed on the truck, are looking at the camera.\"))"
   ],
   "metadata": {
    "collapsed": false,
    "ExecuteTime": {
     "end_time": "2024-12-12T15:48:36.457291Z",
     "start_time": "2024-12-12T15:48:36.215330Z"
    }
   },
   "id": "9844f73f784247d"
  },
  {
   "cell_type": "code",
   "execution_count": null,
   "outputs": [],
   "source": [],
   "metadata": {
    "collapsed": false
   },
   "id": "b055c0dedd28c738"
  },
  {
   "cell_type": "code",
   "execution_count": 37,
   "outputs": [],
   "source": [
    "text2 = DIALECTS[9].transform(\"three men going to work..\\n Three men, one holding pipes, another holding a large object above his head, and one resting against the pipe bed on the truck, are looking at the camera\")"
   ],
   "metadata": {
    "collapsed": false,
    "ExecuteTime": {
     "end_time": "2024-12-12T15:53:50.021398Z",
     "start_time": "2024-12-12T15:53:48.502395Z"
    }
   },
   "id": "baf61fd7938bface"
  },
  {
   "cell_type": "code",
   "execution_count": 39,
   "outputs": [],
   "source": [
    "text1, text2 = text2.split(\".\\n\")"
   ],
   "metadata": {
    "collapsed": false,
    "ExecuteTime": {
     "end_time": "2024-12-12T15:53:59.343873Z",
     "start_time": "2024-12-12T15:53:59.306902Z"
    }
   },
   "id": "b4feb4ae95fb90c7"
  },
  {
   "cell_type": "code",
   "execution_count": 42,
   "outputs": [
    {
     "data": {
      "text/plain": "'Three mans, one holding pipes, another holding the large object above his head, and one resting against the pipe bed on the truck, are looking at the camera'"
     },
     "execution_count": 42,
     "metadata": {},
     "output_type": "execute_result"
    }
   ],
   "source": [
    "text2.strip()"
   ],
   "metadata": {
    "collapsed": false,
    "ExecuteTime": {
     "end_time": "2024-12-12T15:54:11.008003Z",
     "start_time": "2024-12-12T15:54:10.971421Z"
    }
   },
   "id": "f22aff0407c00a8"
  },
  {
   "cell_type": "code",
   "execution_count": 44,
   "outputs": [],
   "source": [
    "text2 = \"A blond-haired a doctor and his African american a assistant a looking throw new medical manual.\"\n",
    "stripped = text2.lstrip()"
   ],
   "metadata": {
    "collapsed": false,
    "ExecuteTime": {
     "end_time": "2024-12-12T16:18:21.669699Z",
     "start_time": "2024-12-12T16:18:21.634174Z"
    }
   },
   "id": "582458ab8055a1e2"
  },
  {
   "cell_type": "code",
   "execution_count": 45,
   "outputs": [],
   "source": [
    "if stripped:\n",
    "    start_idx = len(text2) - len(stripped)\n",
    "    text2 = text2[:start_idx] + stripped[0].lower() + stripped[1:]"
   ],
   "metadata": {
    "collapsed": false,
    "ExecuteTime": {
     "end_time": "2024-12-12T16:19:13.585120Z",
     "start_time": "2024-12-12T16:19:13.555821Z"
    }
   },
   "id": "9f050262662ab5ac"
  },
  {
   "cell_type": "code",
   "execution_count": 46,
   "outputs": [
    {
     "data": {
      "text/plain": "'a blond-haired a doctor and his African american a assistant a looking throw new medical manual.'"
     },
     "execution_count": 46,
     "metadata": {},
     "output_type": "execute_result"
    }
   ],
   "source": [
    "text2"
   ],
   "metadata": {
    "collapsed": false,
    "ExecuteTime": {
     "end_time": "2024-12-12T16:19:16.794206Z",
     "start_time": "2024-12-12T16:19:16.771641Z"
    }
   },
   "id": "2795eecdd979b0f3"
  },
  {
   "cell_type": "code",
   "execution_count": null,
   "outputs": [],
   "source": [],
   "metadata": {
    "collapsed": false
   },
   "id": "4fc15823b9dc54c5"
  },
  {
   "cell_type": "code",
   "execution_count": 23,
   "outputs": [
    {
     "name": "stdout",
     "output_type": "stream",
     "text": [
      "2024-12-13 10:13:23,183 - styletokenizer.utility.custom_logger - DEBUG - Using local cache\n"
     ]
    }
   ],
   "source": [
    "from styletokenizer.utility.env_variables import set_cache\n",
    "\n",
    "set_cache()\n",
    "from datasets import load_dataset\n",
    "\n",
    "import re\n",
    "import string\n",
    "# Define the punctuation set we care about\n",
    "PUNCT = {'.', '!', '?'}\n",
    "common_contractions = {\n",
    "    \"do not\": \"don't\",\n",
    "    \"is not\": \"isn't\",\n",
    "    \"are not\": \"aren't\",\n",
    "    \"it is\": \"it's\",\n",
    "    \"that is\": \"that's\",\n",
    "    \"we are\": \"we're\",\n",
    "    \"you are\": \"you're\",\n",
    "    \"I am\": \"I'm\",\n",
    "    \"I will\": \"I'll\",\n",
    "    \"I would\": \"I'd\",\n",
    "    \"they are\": \"they're\",\n",
    "    \"will not\": \"won't\",\n",
    "    \"can not\": \"can't\",\n",
    "    \"there is\": \"there's\"\n",
    "}\n",
    "\n",
    "def encased_with_apostrophes(text):\n",
    "    # Check if the text is encased with standard quotes (artificat in SNLI)\n",
    "    return text.startswith('\"') and text.endswith('\"')\n",
    "\n",
    "def starts_with_uppercase_word(text):\n",
    "    # Strip leading whitespace and check if the first character is uppercase\n",
    "    text = text.lstrip()\n",
    "    if not text:\n",
    "        return False\n",
    "    return text[0].isupper()\n",
    "\n",
    "def ends_with_punctuation(text):\n",
    "    # Check if the last non-whitespace character is punctuation\n",
    "    text = text.rstrip()\n",
    "    return len(text) > 0 and text[-1] in PUNCT\n",
    "\n",
    "def contains_punctuation(text):\n",
    "    # Check if there's any punctuation in the text\n",
    "    # return any(ch in string.punctuation for ch in text)\n",
    "    return any(ch in PUNCT for ch in text)\n",
    "\n",
    "def whitespace_encoding(text):\n",
    "    # Identify all distinct whitespace code points used in the text.\n",
    "    # This will differentiate between e.g. U+0020 (normal space) and U+00A0 (no-break space).\n",
    "    whitespaces = set()\n",
    "    for ch in text:\n",
    "        if ch.isspace():\n",
    "            whitespaces.add(ord(ch))  # store the code point\n",
    "    return whitespaces\n",
    "\n",
    "def apostrophe_encoding(text):\n",
    "    # Extract all apostrophe-like characters: common are `'` and `’`\n",
    "    # Return a set of apostrophe chars used\n",
    "    # If you want to be more comprehensive, include other variants.\n",
    "    # Here we include backtick and right single quotation mark as well.\n",
    "    possible_apostrophes = {\"'\", \"’\", \"`\"}\n",
    "    apostrophes = {ch for ch in text if ch in possible_apostrophes}\n",
    "    return apostrophes\n",
    "\n",
    "def extract_number_patterns(text):\n",
    "    # Find all numbers and their surrounding formatting.\n",
    "    # We'll capture substrings around each digit sequence that may include punctuation and spacing.\n",
    "    number_patterns = []\n",
    "    for match in re.finditer(r\"\\d+\", text):\n",
    "        start, end = match.span()\n",
    "        # Extend outwards to include punctuation/whitespace directly adjacent to the digits\n",
    "        left = start\n",
    "        while left > 0 and (text[left-1] in string.punctuation or text[left-1].isspace()):\n",
    "            left -= 1\n",
    "        right = end\n",
    "        while right < len(text) and (text[right] in string.punctuation or text[right].isspace()):\n",
    "            right += 1\n",
    "        substring = text[left:right].strip()\n",
    "        number_patterns.append(substring)\n",
    "    return number_patterns\n",
    "\n",
    "def compare_number_formats(patterns1, patterns2):\n",
    "    # Check if both lists have the same number of numeric patterns\n",
    "    if len(patterns1) != len(patterns2):\n",
    "        return False\n",
    "    # Compare each pair of patterns\n",
    "    for p1, p2 in zip(patterns1, patterns2):\n",
    "        # Compare digits sequence\n",
    "        digits1 = re.sub(r\"\\D\", \"\", p1)\n",
    "        digits2 = re.sub(r\"\\D\", \"\", p2)\n",
    "        if digits1 != digits2:\n",
    "            return False\n",
    "        # Compare non-digit formatting\n",
    "        non_digits1 = re.sub(r\"\\d\", \"\", p1)\n",
    "        non_digits2 = re.sub(r\"\\d\", \"\", p2)\n",
    "        if non_digits1 != non_digits2:\n",
    "            return False\n",
    "    return True\n",
    "\n",
    "def contains_newline(text):\n",
    "    return \"\\n\" in text\n",
    "\n",
    "def contains_contractions(text):\n",
    "    # Check if text contains any of the known contracted forms\n",
    "    pattern = r'\\b(?:' + '|'.join(map(re.escape, common_contractions.values())) + r')\\b'\n",
    "    return bool(re.search(pattern, text, flags=re.IGNORECASE))\n",
    "\n",
    "def can_form_contractions(text):\n",
    "    # Check if text contains any expansions that could be turned into known contractions\n",
    "    # If we find at least one expansion pattern in the text, return True\n",
    "    for expansion in common_contractions.keys():\n",
    "        # Create a regex pattern for the expansion\n",
    "        exp_words = expansion.split()\n",
    "        pattern = r'\\b' + r'\\s+'.join(exp_words) + r'\\b'\n",
    "        if re.search(pattern, text, flags=re.IGNORECASE):\n",
    "            return True\n",
    "    return False\n",
    "\n",
    "\n",
    "def compare_texts(text1, text2):\n",
    "    conditions = []\n",
    "    conditions.append(encased_with_apostrophes(text1) == encased_with_apostrophes(text2))\n",
    "    conditions.append(starts_with_uppercase_word(text1) == starts_with_uppercase_word(text2))\n",
    "    conditions.append(ends_with_punctuation(text1) == ends_with_punctuation(text2))\n",
    "    conditions.append(contains_punctuation(text1) == contains_punctuation(text2))\n",
    "    conditions.append(whitespace_encoding(text1) == whitespace_encoding(text2))\n",
    "    conditions.append(apostrophe_encoding(text1) == apostrophe_encoding(text2))\n",
    "    patterns1 = extract_number_patterns(text1)\n",
    "    patterns2 = extract_number_patterns(text2)\n",
    "    conditions.append(compare_number_formats(patterns1, patterns2))\n",
    "    conditions.append(contains_contractions(text1) == contains_contractions(text2))\n",
    "    similarity = sum(conditions) / len(conditions)\n",
    "    return similarity\n",
    "\n",
    "\n",
    "def make_texts_similar(text1, text2, dialect_prob=0.5):\n",
    "    # Now text1 and text2 should be similar in capitalization and end punctuation.\n",
    "    # Apostrophe and whitespace encoding is the same initially.\n",
    "    # Randomly decide if we want to change them for BOTH texts simultaneously.\n",
    "\n",
    "    # Random chance to change the dialect for both texts\n",
    "    if random.random() < dialect_prob:\n",
    "        # Randomly select a dialect from DIALECTS\n",
    "        attempts = 5  # limit attempts to avoid infinite loops\n",
    "        changed = False\n",
    "        org_text1 = \" \".join(text1.split())\n",
    "        org_text2 = \" \".join(text2.split())\n",
    "        while attempts > 0 and not changed:\n",
    "            try:\n",
    "                dialect = random.choice(DIALECTS)\n",
    "                text1 = dialect.transform(text1 + \".\\n\" + text2)  # function seems to do different transformations depending on call\n",
    "                text1, text2 = text1.split(\".\\n\")\n",
    "                text1 = \" \".join(text1.split())  # function seems to sometimes add whitespaces\n",
    "                text2 = \" \".join(text2.split())\n",
    "                if text1 != org_text1 and text2 != org_text2:\n",
    "                    changed = True\n",
    "            except:  # if the dialect transformation fails\n",
    "                print(f\"Failed to transform {text1} or {text2}. Retrying {attempts} more times ...\")\n",
    "            attempts -= 1\n",
    "\n",
    "    # Adjust Quotes\n",
    "    if encased_with_apostrophes(text1) != encased_with_apostrophes(text2):\n",
    "        if encased_with_apostrophes(text1) and not encased_with_apostrophes(text2):\n",
    "            text2 = '\"' + text2 + '\"'\n",
    "        elif not encased_with_apostrophes(text1) and encased_with_apostrophes(text2):\n",
    "            text2 = text2[1:-1]\n",
    "\n",
    "    # Adjust capitalization at the start\n",
    "    if starts_with_uppercase_word(text1) != starts_with_uppercase_word(text2):\n",
    "        if starts_with_uppercase_word(text1) and not starts_with_uppercase_word(text2):\n",
    "            stripped = text2.lstrip()\n",
    "            if stripped:\n",
    "                start_idx = len(text2) - len(stripped)\n",
    "                text2 = text2[:start_idx] + stripped[0].upper() + stripped[1:]\n",
    "        elif not starts_with_uppercase_word(text1) and starts_with_uppercase_word(text2):\n",
    "            stripped = text2.lstrip()\n",
    "            if stripped:\n",
    "                start_idx = len(text2) - len(stripped)\n",
    "                text2 = text2[:start_idx] + stripped[0].lower() + stripped[1:]\n",
    "\n",
    "    # Adjust punctuation at the end\n",
    "    if ends_with_punctuation(text1) != ends_with_punctuation(text2):\n",
    "        if ends_with_punctuation(text1) and not ends_with_punctuation(text2):\n",
    "            t1_end_punct = text1.rstrip()[-1]\n",
    "            text2 = text2.rstrip() + t1_end_punct\n",
    "        elif not ends_with_punctuation(text1) and ends_with_punctuation(text2):\n",
    "            text2 = text2.rstrip()\n",
    "            while text2 and text2[-1] in PUNCT:\n",
    "                text2 = text2[:-1]\n",
    "\n",
    "    # Random chance to change whitespace encoding for both\n",
    "    # For example, replace all regular spaces with non-breaking spaces in both texts\n",
    "    if random.random() < 0.5:\n",
    "        # Check if we have spaces\n",
    "        if \" \" in text1 or \" \" in text2:\n",
    "            # Replace all spaces with non-breaking spaces\n",
    "            text1 = text1.replace(\" \", \"\\u00A0\")\n",
    "            text2 = text2.replace(\" \", \"\\u00A0\")\n",
    "\n",
    "    # Random chance to toggle apostrophe encoding for both\n",
    "    # If we have apostrophes, switch them from `'` to `’` or vice versa\n",
    "    apos1 = apostrophe_encoding(text1)\n",
    "    apos2 = apostrophe_encoding(text2)\n",
    "    # Since they are initially the same, we can just pick a toggle.\n",
    "    if random.random() < 0.5 and (apos1 and apos2):\n",
    "        # If we have at least one type of apostrophe in the texts\n",
    "        # If we find `'` in texts, replace it with `’`, else if `’` then replace with `'`\n",
    "        if \"'\" in text1 or \"'\" in text2:\n",
    "            # Replace `'` with `’`\n",
    "            text1 = text1.replace(\"'\", \"’\")\n",
    "            text2 = text2.replace(\"'\", \"’\")\n",
    "        elif \"’\" in text1 or \"’\" in text2:\n",
    "            # Replace `’` with `'`\n",
    "            text1 = text1.replace(\"’\", \"'\")\n",
    "            text2 = text2.replace(\"’\", \"'\")\n",
    "\n",
    "    return text1, text2\n",
    "\n",
    "from multivalue import Dialects\n",
    "DIALECTS = [Dialects.ColloquialSingaporeDialect(), Dialects.AfricanAmericanVernacular(), Dialects.ChicanoDialect(), Dialects.IndianDialect(), Dialects.AppalachianDialect(),\n",
    "            Dialects.NorthEnglandDialect(), Dialects.MalaysianDialect(), Dialects.AustralianDialect(), Dialects.HongKongDialect(), Dialects.NewZealandDialect(),\n",
    "            Dialects.NigerianDialect(), Dialects.PakistaniDialect(), Dialects.PhilippineDialect(), Dialects.SoutheastAmericanEnclaveDialect()]\n",
    "\n",
    "import random\n",
    "\n",
    "\n",
    "def flip_quotes(t):\n",
    "    if encased_with_apostrophes(t):\n",
    "        return t[1:-1], True\n",
    "    else:\n",
    "        return '\"' + t + '\"', True\n",
    "\n",
    "\n",
    "def flip_capitalization(t):\n",
    "    stripped = t.lstrip()\n",
    "    if not stripped:\n",
    "        return t, False\n",
    "    start_idx = len(t) - len(stripped)\n",
    "    first_char = stripped[0]\n",
    "    if first_char.isalpha():\n",
    "        flipped = first_char.lower() if first_char.isupper() else first_char.upper()\n",
    "        new_t = t[:start_idx] + flipped + stripped[1:]\n",
    "        changed = (new_t != t)\n",
    "        return new_t, changed\n",
    "    else:\n",
    "        return t, False\n",
    "\n",
    "\n",
    "def toggle_end_punctuation(t):\n",
    "    if ends_with_punctuation(t):\n",
    "        original = t\n",
    "        t = t.rstrip()\n",
    "        while t and t[-1] in PUNCT:\n",
    "            t = t[:-1]\n",
    "        changed = (t != original)\n",
    "        return t, changed\n",
    "    else:\n",
    "        return t + \".\", True\n",
    "\n",
    "\n",
    "# def toggle_punctuation_presence(t):\n",
    "#     if contains_punctuation(t):\n",
    "#         original = t\n",
    "#         t = \"\".join(ch for ch in t if ch not in PUNCT).rstrip()\n",
    "#         changed = (t != original)\n",
    "#         return t, changed\n",
    "#     else:\n",
    "#         return t, False\n",
    "\n",
    "def toggle_whitespace_encoding(t):\n",
    "    # Assume it only includes \" \" whitespaces. Change those to non-breaking spaces (\\u00A0)\n",
    "    original = t\n",
    "    if \" \" in t:\n",
    "        # Replace all spaces with non-breaking spaces\n",
    "        t = t.replace(\" \", \"\\u00A0\")\n",
    "        changed = (t != original)\n",
    "        return t, changed\n",
    "    else:\n",
    "        # No spaces to change\n",
    "        return t, False\n",
    "\n",
    "\n",
    "def toggle_apostrophe_encoding(t):\n",
    "    original = t\n",
    "    apos = apostrophe_encoding(t)\n",
    "    if apos:\n",
    "        if \"'\" in apos and \"’\" in apos:\n",
    "            t = t.replace(\"'\", \"\\uFFFF\")\n",
    "            t = t.replace(\"’\", \"'\")\n",
    "            t = t.replace(\"\\uFFFF\", \"’\")\n",
    "        elif \"'\" in apos:\n",
    "            t = t.replace(\"'\", \"’\")\n",
    "        elif \"’\" in apos:\n",
    "            t = t.replace(\"’\", \"'\")\n",
    "        changed = (t != original)\n",
    "        return t, changed\n",
    "    else:\n",
    "        return t, False\n",
    "\n",
    "\n",
    "def toggle_number_format(t):\n",
    "    patterns = extract_number_patterns(t)\n",
    "    changed = False\n",
    "    if patterns:\n",
    "        for p in patterns:\n",
    "            if ',' in p:\n",
    "                new_p = re.sub(r\",\", \"\", p)\n",
    "                if new_p != p:\n",
    "                    idx = t.find(p)\n",
    "                    if idx != -1:\n",
    "                        t = t[:idx] + new_p + t[idx + len(p):]\n",
    "                        changed = True\n",
    "                        break\n",
    "    return t, changed\n",
    "\n",
    "\n",
    "def dialect_transform(text2):\n",
    "    # randomly select a dialect from DIALECTS\n",
    "    changed = False\n",
    "    attempts = 5  # limit attempts to avoid infinite loops\n",
    "    # transform\n",
    "    while not changed and attempts > 0:\n",
    "        dialect = random.choice(DIALECTS)\n",
    "        transformed_text = text2\n",
    "        try:\n",
    "            transformed_text = dialect.transform(text2).strip()\n",
    "        except:  # if the dialect transformation fails\n",
    "            print(f\"Failed to transform with {text2}. Retrying {attempts} more times...\")\n",
    "        if transformed_text != text2:\n",
    "            return transformed_text, True\n",
    "        attempts -= 1\n",
    "    return text2, False\n",
    "\n",
    "\n",
    "def maybe_add_contraction(text1, text2):\n",
    "    # Only add a contraction if:\n",
    "    # - text1 can form contractions\n",
    "    # - text1 has no contractions\n",
    "    # - text2 has no contractions\n",
    "    original = text2\n",
    "    if not can_form_contractions(text1):\n",
    "        return text2, False\n",
    "    if contains_contractions(text1) or contains_contractions(text2):\n",
    "        return text2, False\n",
    "\n",
    "    expansions = list(common_contractions.keys())\n",
    "    random.shuffle(expansions)\n",
    "\n",
    "    for expansion in expansions:\n",
    "        exp_words = expansion.split()\n",
    "        pattern = r'\\b' + r'\\s+'.join(exp_words) + r'\\b'\n",
    "        match = re.search(pattern, text2, flags=re.IGNORECASE)\n",
    "        if match:\n",
    "            contraction = common_contractions[expansion]\n",
    "            matched_text = match.group(0)\n",
    "            if matched_text[0].isupper():\n",
    "                contraction = contraction[0].upper() + contraction[1:]\n",
    "            text2 = text2[:match.start()] + contraction + text2[match.end():]\n",
    "            return text2, (text2 != original)\n",
    "\n",
    "    return text2, False\n",
    "\n",
    "\n",
    "def make_texts_distinct(text1, text2, dialect_prob=0.5):\n",
    "    \"\"\"\n",
    "        Assumes to be called on SNLI text pairs\n",
    "    :param text1:\n",
    "    :param text2:\n",
    "    :return:\n",
    "    \"\"\"\n",
    "    transformations = [\n",
    "        flip_quotes,\n",
    "        flip_capitalization,\n",
    "        toggle_end_punctuation,\n",
    "        toggle_whitespace_encoding,\n",
    "        toggle_apostrophe_encoding,\n",
    "        toggle_number_format,\n",
    "        lambda t: maybe_add_contraction(text1, t),\n",
    "    ]\n",
    "    # flip coin which text to transform\n",
    "    to_transform = random.choice([0, 1])\n",
    "\n",
    "    # flip coin to to dialect_transform as this is a transformation that needs to run before all other transformations\n",
    "    text_modified = [text1, text2][to_transform]\n",
    "    if random.random() < dialect_prob:\n",
    "        text_modified, changed = dialect_transform([text1, text2][to_transform])\n",
    "\n",
    "    attempts = 20  # limit attempts to avoid infinite loops\n",
    "    while attempts > 0:\n",
    "        # Attempt two further random transformation\n",
    "        three_trans = random.sample(transformations, 3)\n",
    "        for transform in three_trans:\n",
    "            new_text, changed = transform(text_modified)\n",
    "            if changed:\n",
    "                text_modified = new_text\n",
    "        attempts -= 1\n",
    "        if text_modified != [text1, text2][to_transform]:\n",
    "            break\n",
    "    result = [text1, text2]\n",
    "    result[to_transform] = text_modified\n",
    "    return result\n"
   ],
   "metadata": {
    "collapsed": false,
    "ExecuteTime": {
     "end_time": "2024-12-13T09:14:28.872246Z",
     "start_time": "2024-12-13T09:13:23.184261Z"
    }
   },
   "id": "11bf82bde0f9ed29"
  },
  {
   "cell_type": "code",
   "execution_count": 2,
   "outputs": [],
   "source": [
    "import pandas as pd\n",
    "import os\n",
    "from tqdm import tqdm\n",
    "\n",
    "dataset = load_dataset(\"snli\")\n",
    "data = dataset[\"validation\"]"
   ],
   "metadata": {
    "collapsed": false,
    "ExecuteTime": {
     "end_time": "2024-12-13T08:55:34.530804Z",
     "start_time": "2024-12-13T08:55:25.975345Z"
    }
   },
   "id": "d318bce465e4ca76"
  },
  {
   "cell_type": "code",
   "execution_count": 21,
   "outputs": [
    {
     "name": "stdout",
     "output_type": "stream",
     "text": [
      "{'premise': 'Two women are embracing while holding to go packages.', 'hypothesis': 'The sisters are hugging goodbye while holding to go packages after just eating lunch.', 'label': 1}\n"
     ]
    }
   ],
   "source": [
    "data_point = data[0]\n",
    "print(data_point)"
   ],
   "metadata": {
    "collapsed": false,
    "ExecuteTime": {
     "end_time": "2024-12-13T09:11:05.079119Z",
     "start_time": "2024-12-13T09:11:05.070004Z"
    }
   },
   "id": "f1f47d1e995d526"
  },
  {
   "cell_type": "code",
   "execution_count": 30,
   "outputs": [
    {
     "name": "stdout",
     "output_type": "stream",
     "text": [
      "two women embracing while holding to go packages.\n",
      "The sisters are hugging goodbye while holding to go packages after just eating lunch.\n"
     ]
    }
   ],
   "source": [
    "text1, text2 = make_texts_distinct(data_point[\"premise\"], data_point[\"hypothesis\"])\n",
    "print(text1)\n",
    "print(text2)"
   ],
   "metadata": {
    "collapsed": false,
    "ExecuteTime": {
     "end_time": "2024-12-13T09:15:04.538990Z",
     "start_time": "2024-12-13T09:15:03.750365Z"
    }
   },
   "id": "646c93576d2da8d9"
  },
  {
   "cell_type": "code",
   "execution_count": null,
   "outputs": [],
   "source": [
    "text1, text2 = make_texts_distinct(data_point[\"premise\"], data_point[\"hypothesis\"])\n",
    "print(text1)\n",
    "print(text2)"
   ],
   "metadata": {
    "collapsed": false
   },
   "id": "3960d31d6811e76f"
  },
  {
   "cell_type": "code",
   "execution_count": 39,
   "outputs": [
    {
     "data": {
      "text/plain": "('The man the black shirt is playing golf outside.',\n 'Man the black shirt is trading Pokemon cards hisn girlfriend.')"
     },
     "execution_count": 39,
     "metadata": {},
     "output_type": "execute_result"
    }
   ],
   "source": [
    "make_texts_similar(\"A man in a black shirt is playing golf outside.\", \"The man in the black shirt trades Pokemon cards with his girlfriend.\")"
   ],
   "metadata": {
    "collapsed": false,
    "ExecuteTime": {
     "end_time": "2024-12-13T09:21:17.979286Z",
     "start_time": "2024-12-13T09:21:12.161432Z"
    }
   },
   "id": "8d2c9c7d327ea59d"
  },
  {
   "cell_type": "code",
   "execution_count": null,
   "outputs": [],
   "source": [
    "\n",
    "\n",
    "rows = []\n",
    "    for example in tqdm(data, desc=f\"Processing examples in {split}\"):\n",
    "        premise = example[\"premise\"]\n",
    "        hypothesis = example[\"hypothesis\"]\n",
    "        label = example[\"label\"]\n",
    "\n",
    "        # make sure that text is not empty\n",
    "        if not premise or not hypothesis:\n",
    "            continue\n",
    "\n",
    "        # Skip if label is not in {0, 1, 2}\n",
    "        if label not in {0, 1, 2}:\n",
    "            continue\n",
    "\n",
    "        # Flip a coin for similar/distinct\n",
    "        want_similar = random.choice([True, False])\n",
    "\n",
    "        if want_similar:\n",
    "            # Make them similar\n",
    "            premise, hypothesis = make_texts_similar(premise, hypothesis)\n",
    "        else:\n",
    "            # Make them distinct\n",
    "            hypothesis = make_texts_distinct(premise, hypothesis)\n",
    "\n",
    "        style = 1 if want_similar else 0  # 1 for similar, 0 for distinct\n",
    "\n",
    "        rows.append({\n",
    "            \"premise\": premise,\n",
    "            \"hypothesis\": hypothesis,\n",
    "            \"premise_original\": example[\"premise\"],\n",
    "            \"hypothesis_original\": example[\"hypothesis\"],\n",
    "            \"nli\": label,  # 0 entailment, 1 neutral, 2 contradiction\n",
    "            \"style\": style  # 0 distinct, 1 similar\n",
    "        })\n",
    "\n",
    "    df = pd.DataFrame(rows,\n",
    "                      columns=[\"premise\", \"hypothesis\", \"premise_original\", \"hypothesis_original\", \"nli\", \"style\"])\n",
    "    output_file = f\"/hpc/uu_cs_nlpsoc/02-awegmann/TOKENIZER/data/eval-corpora/SNLI_modified/{split}_modified.tsv\"\n",
    "    df.to_csv(output_file, index=False, encoding='utf-8', sep=\"\\t\")"
   ],
   "metadata": {
    "collapsed": false
   },
   "id": "a8622060d1dd12ee"
  }
 ],
 "metadata": {
  "kernelspec": {
   "display_name": "Python 3",
   "language": "python",
   "name": "python3"
  },
  "language_info": {
   "codemirror_mode": {
    "name": "ipython",
    "version": 2
   },
   "file_extension": ".py",
   "mimetype": "text/x-python",
   "name": "python",
   "nbconvert_exporter": "python",
   "pygments_lexer": "ipython2",
   "version": "2.7.6"
  }
 },
 "nbformat": 4,
 "nbformat_minor": 5
}
