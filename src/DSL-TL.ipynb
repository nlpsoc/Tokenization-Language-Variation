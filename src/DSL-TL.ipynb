{
 "cells": [
  {
   "cell_type": "code",
   "execution_count": 1,
   "id": "initial_id",
   "metadata": {
    "collapsed": true,
    "ExecuteTime": {
     "end_time": "2024-12-12T14:00:43.147161Z",
     "start_time": "2024-12-12T14:00:42.642690Z"
    }
   },
   "outputs": [],
   "source": [
    "import pandas as pd\n",
    "# load in tsv file\n",
    "df_train = pd.read_csv('../data/DSL-TL/EN_train.tsv', sep='\\t')\n",
    "df_dev = pd.read_csv('../data/DSL-TL/EN_dev.tsv', sep='\\t')\n",
    "# remove rows where label is just \"EN\n",
    "df_train = df_train[df_train['label'] != 'EN']\n",
    "df_dev = df_dev[df_dev['label'] != 'EN']\n",
    "# rename label column to language\n",
    "df_train = df_train.rename(columns={'label': 'language'})\n",
    "df_dev = df_dev.rename(columns={'label': 'language'})"
   ]
  },
  {
   "cell_type": "code",
   "execution_count": 8,
   "outputs": [
    {
     "data": {
      "text/plain": "        id                                               text language\n0     1770  There is no one more suitable to determine how...    EN-US\n1     1150  Peter Vallone yesterday stepped on the acceler...    EN-US\n2     1562  NEWPORT County AFC’s chances of unearthing fut...    EN-GB\n4     2939  IT SEEMS very un- Saintslike, almost unnatural...    EN-GB\n5     1385  ROBERT BOYETT, who made his fortune over the l...    EN-US\n...    ...                                                ...      ...\n2090  1940  With recession in the air and gasoline surpass...    EN-US\n2091  2890  \"It wasn't my time,\" said the 36-year-old Lebe...    EN-US\n2092   181  When measuring progress in education, you usua...    EN-US\n2093   397  UP to 100 jobs could be created at the Hampshi...    EN-GB\n2095   715  HE is the Southampton-born pop star who pushed...    EN-GB\n\n[1824 rows x 3 columns]",
      "text/html": "<div>\n<style scoped>\n    .dataframe tbody tr th:only-of-type {\n        vertical-align: middle;\n    }\n\n    .dataframe tbody tr th {\n        vertical-align: top;\n    }\n\n    .dataframe thead th {\n        text-align: right;\n    }\n</style>\n<table border=\"1\" class=\"dataframe\">\n  <thead>\n    <tr style=\"text-align: right;\">\n      <th></th>\n      <th>id</th>\n      <th>text</th>\n      <th>language</th>\n    </tr>\n  </thead>\n  <tbody>\n    <tr>\n      <th>0</th>\n      <td>1770</td>\n      <td>There is no one more suitable to determine how...</td>\n      <td>EN-US</td>\n    </tr>\n    <tr>\n      <th>1</th>\n      <td>1150</td>\n      <td>Peter Vallone yesterday stepped on the acceler...</td>\n      <td>EN-US</td>\n    </tr>\n    <tr>\n      <th>2</th>\n      <td>1562</td>\n      <td>NEWPORT County AFC’s chances of unearthing fut...</td>\n      <td>EN-GB</td>\n    </tr>\n    <tr>\n      <th>4</th>\n      <td>2939</td>\n      <td>IT SEEMS very un- Saintslike, almost unnatural...</td>\n      <td>EN-GB</td>\n    </tr>\n    <tr>\n      <th>5</th>\n      <td>1385</td>\n      <td>ROBERT BOYETT, who made his fortune over the l...</td>\n      <td>EN-US</td>\n    </tr>\n    <tr>\n      <th>...</th>\n      <td>...</td>\n      <td>...</td>\n      <td>...</td>\n    </tr>\n    <tr>\n      <th>2090</th>\n      <td>1940</td>\n      <td>With recession in the air and gasoline surpass...</td>\n      <td>EN-US</td>\n    </tr>\n    <tr>\n      <th>2091</th>\n      <td>2890</td>\n      <td>\"It wasn't my time,\" said the 36-year-old Lebe...</td>\n      <td>EN-US</td>\n    </tr>\n    <tr>\n      <th>2092</th>\n      <td>181</td>\n      <td>When measuring progress in education, you usua...</td>\n      <td>EN-US</td>\n    </tr>\n    <tr>\n      <th>2093</th>\n      <td>397</td>\n      <td>UP to 100 jobs could be created at the Hampshi...</td>\n      <td>EN-GB</td>\n    </tr>\n    <tr>\n      <th>2095</th>\n      <td>715</td>\n      <td>HE is the Southampton-born pop star who pushed...</td>\n      <td>EN-GB</td>\n    </tr>\n  </tbody>\n</table>\n<p>1824 rows × 3 columns</p>\n</div>"
     },
     "execution_count": 8,
     "metadata": {},
     "output_type": "execute_result"
    }
   ],
   "source": [
    "df_train"
   ],
   "metadata": {
    "collapsed": false,
    "ExecuteTime": {
     "end_time": "2024-12-11T10:43:25.526561Z",
     "start_time": "2024-12-11T10:43:25.524698Z"
    }
   },
   "id": "e8b9ff1ec66c80e0"
  },
  {
   "cell_type": "code",
   "execution_count": 2,
   "outputs": [
    {
     "data": {
      "text/plain": "       id                                               text language\n0     546  Oxford's vintage jazz masters The Original Rab...    EN-GB\n1    2482  WASHINGTON – A federal judge ruled yesterday t...    EN-US\n2    2810  Someone once said, “Any beer is good beer, col...    EN-US\n3     248  Mayor Rahm Emanuel was quick on Tuesday mornin...    EN-US\n4     796  AN abandoned car, which is partly parked on a ...    EN-US\n..    ...                                                ...      ...\n592   730  A passenger was horrified after she was told b...    EN-US\n593    20  GOODYEAR, Ariz. — Whether to extend Corey Klub...    EN-US\n594   411  FOUR scientists from the University of Southam...    EN-GB\n595   821  A GWENT cycling star is among 11 people from G...    EN-GB\n597  2233  BANBURY extended their winning run to 11 games...    EN-GB\n\n[523 rows x 3 columns]",
      "text/html": "<div>\n<style scoped>\n    .dataframe tbody tr th:only-of-type {\n        vertical-align: middle;\n    }\n\n    .dataframe tbody tr th {\n        vertical-align: top;\n    }\n\n    .dataframe thead th {\n        text-align: right;\n    }\n</style>\n<table border=\"1\" class=\"dataframe\">\n  <thead>\n    <tr style=\"text-align: right;\">\n      <th></th>\n      <th>id</th>\n      <th>text</th>\n      <th>language</th>\n    </tr>\n  </thead>\n  <tbody>\n    <tr>\n      <th>0</th>\n      <td>546</td>\n      <td>Oxford's vintage jazz masters The Original Rab...</td>\n      <td>EN-GB</td>\n    </tr>\n    <tr>\n      <th>1</th>\n      <td>2482</td>\n      <td>WASHINGTON – A federal judge ruled yesterday t...</td>\n      <td>EN-US</td>\n    </tr>\n    <tr>\n      <th>2</th>\n      <td>2810</td>\n      <td>Someone once said, “Any beer is good beer, col...</td>\n      <td>EN-US</td>\n    </tr>\n    <tr>\n      <th>3</th>\n      <td>248</td>\n      <td>Mayor Rahm Emanuel was quick on Tuesday mornin...</td>\n      <td>EN-US</td>\n    </tr>\n    <tr>\n      <th>4</th>\n      <td>796</td>\n      <td>AN abandoned car, which is partly parked on a ...</td>\n      <td>EN-US</td>\n    </tr>\n    <tr>\n      <th>...</th>\n      <td>...</td>\n      <td>...</td>\n      <td>...</td>\n    </tr>\n    <tr>\n      <th>592</th>\n      <td>730</td>\n      <td>A passenger was horrified after she was told b...</td>\n      <td>EN-US</td>\n    </tr>\n    <tr>\n      <th>593</th>\n      <td>20</td>\n      <td>GOODYEAR, Ariz. — Whether to extend Corey Klub...</td>\n      <td>EN-US</td>\n    </tr>\n    <tr>\n      <th>594</th>\n      <td>411</td>\n      <td>FOUR scientists from the University of Southam...</td>\n      <td>EN-GB</td>\n    </tr>\n    <tr>\n      <th>595</th>\n      <td>821</td>\n      <td>A GWENT cycling star is among 11 people from G...</td>\n      <td>EN-GB</td>\n    </tr>\n    <tr>\n      <th>597</th>\n      <td>2233</td>\n      <td>BANBURY extended their winning run to 11 games...</td>\n      <td>EN-GB</td>\n    </tr>\n  </tbody>\n</table>\n<p>523 rows × 3 columns</p>\n</div>"
     },
     "execution_count": 2,
     "metadata": {},
     "output_type": "execute_result"
    }
   ],
   "source": [
    "df_dev"
   ],
   "metadata": {
    "collapsed": false,
    "ExecuteTime": {
     "end_time": "2024-12-12T14:00:45.570641Z",
     "start_time": "2024-12-12T14:00:45.527037Z"
    }
   },
   "id": "561246952e4b6e76"
  },
  {
   "cell_type": "code",
   "execution_count": 4,
   "outputs": [
    {
     "name": "stdout",
     "output_type": "stream",
     "text": [
      "Oxford's vintage jazz masters The Original Rabbit Foot Spasm Band pull a night of surprises and virtuoso musicianship out of their hats with a knees-up to remember\n"
     ]
    }
   ],
   "source": [
    "# print text fully for one example\n",
    "print(df_dev['text'].iloc[0])"
   ],
   "metadata": {
    "collapsed": false,
    "ExecuteTime": {
     "end_time": "2024-12-12T14:01:11.288777Z",
     "start_time": "2024-12-12T14:01:11.279882Z"
    }
   },
   "id": "8370fb46a017cc0"
  },
  {
   "cell_type": "code",
   "execution_count": 10,
   "outputs": [],
   "source": [
    "# save to tsv\n",
    "df_train.to_csv('../data/DSL-TL/train.tsv', sep='\\t', index=False)\n",
    "df_dev.to_csv('../data/DSL-TL/dev.tsv', sep='\\t', index=False)"
   ],
   "metadata": {
    "collapsed": false,
    "ExecuteTime": {
     "end_time": "2024-12-11T10:43:39.015324Z",
     "start_time": "2024-12-11T10:43:38.994129Z"
    }
   },
   "id": "c326df6fe1ac7c2"
  },
  {
   "cell_type": "code",
   "execution_count": null,
   "outputs": [],
   "source": [],
   "metadata": {
    "collapsed": false
   },
   "id": "78ed9ba629489d85"
  }
 ],
 "metadata": {
  "kernelspec": {
   "display_name": "Python 3",
   "language": "python",
   "name": "python3"
  },
  "language_info": {
   "codemirror_mode": {
    "name": "ipython",
    "version": 2
   },
   "file_extension": ".py",
   "mimetype": "text/x-python",
   "name": "python",
   "nbconvert_exporter": "python",
   "pygments_lexer": "ipython2",
   "version": "2.7.6"
  }
 },
 "nbformat": 4,
 "nbformat_minor": 5
}
