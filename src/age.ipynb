{
 "cells": [
  {
   "cell_type": "code",
   "execution_count": 1,
   "id": "initial_id",
   "metadata": {
    "collapsed": true,
    "ExecuteTime": {
     "end_time": "2024-12-13T13:56:32.575141Z",
     "start_time": "2024-12-13T13:56:26.664977Z"
    }
   },
   "outputs": [],
   "source": [
    "import pandas as pd\n",
    "# load in csv dataset\n",
    "df_train = pd.read_csv('../data/age/train.csv')\n",
    "df_dev = pd.read_csv('../data/age/validation.csv')"
   ]
  },
  {
   "cell_type": "code",
   "execution_count": 2,
   "outputs": [
    {
     "data": {
      "text/plain": "age\n34    21634\n35    17156\n33    16827\n36    14526\n37    10199\n38     7371\n39     5471\nName: count, dtype: int64"
     },
     "execution_count": 2,
     "metadata": {},
     "output_type": "execute_result"
    }
   ],
   "source": [
    "# remove entries where age >= 40\n",
    "df_train = df_train[df_train[\"age\"] < 40]\n",
    "df_train[df_train[\"label\"] == \"30s\"][\"age\"].value_counts()"
   ],
   "metadata": {
    "collapsed": false,
    "ExecuteTime": {
     "end_time": "2024-12-13T13:56:32.661776Z",
     "start_time": "2024-12-13T13:56:32.576437Z"
    }
   },
   "id": "5b64214d0f3af8a1"
  },
  {
   "cell_type": "code",
   "execution_count": 3,
   "outputs": [
    {
     "data": {
      "text/plain": "age\n24    82101\n23    76419\n25    67966\n26    57369\n27    46462\nName: count, dtype: int64"
     },
     "execution_count": 3,
     "metadata": {},
     "output_type": "execute_result"
    }
   ],
   "source": [
    "df_train[df_train[\"label\"] == \"20s\"][\"age\"].value_counts()"
   ],
   "metadata": {
    "collapsed": false,
    "ExecuteTime": {
     "end_time": "2024-12-13T13:56:32.706522Z",
     "start_time": "2024-12-13T13:56:32.679158Z"
    }
   },
   "id": "fe644e734d78ea4f"
  },
  {
   "cell_type": "code",
   "execution_count": 4,
   "outputs": [
    {
     "data": {
      "text/plain": "age\n17    81279\n16    71666\n15    40718\n14    27949\n13    12468\nName: count, dtype: int64"
     },
     "execution_count": 4,
     "metadata": {},
     "output_type": "execute_result"
    }
   ],
   "source": [
    "df_train[df_train[\"label\"] == \"10s\"][\"age\"].value_counts()"
   ],
   "metadata": {
    "collapsed": false,
    "ExecuteTime": {
     "end_time": "2024-12-13T13:56:32.746470Z",
     "start_time": "2024-12-13T13:56:32.724667Z"
    }
   },
   "id": "2c98584a0b97c7ad"
  },
  {
   "cell_type": "code",
   "execution_count": 5,
   "outputs": [
    {
     "data": {
      "text/plain": "label\n20s    330317\n10s    234080\n30s     93184\nName: count, dtype: int64"
     },
     "execution_count": 5,
     "metadata": {},
     "output_type": "execute_result"
    }
   ],
   "source": [
    "# get number of occurrences for each unique label\n",
    "df_train['label'].value_counts()"
   ],
   "metadata": {
    "collapsed": false,
    "ExecuteTime": {
     "end_time": "2024-12-13T13:56:32.769410Z",
     "start_time": "2024-12-13T13:56:32.764737Z"
    }
   },
   "id": "b02776e245c9b49b"
  },
  {
   "cell_type": "code",
   "execution_count": 6,
   "outputs": [
    {
     "name": "stdout",
     "output_type": "stream",
     "text": [
      "label\n",
      "10s    93184\n",
      "20s    93184\n",
      "30s    93184\n",
      "Name: count, dtype: int64\n",
      "label\n",
      "10s    6849\n",
      "20s    6849\n",
      "30s    6849\n",
      "Name: count, dtype: int64\n"
     ]
    },
    {
     "name": "stderr",
     "output_type": "stream",
     "text": [
      "/var/folders/9t/lg86d6h9261dz33jq7hsw5ph0000gn/T/ipykernel_7827/3770625573.py:3: DeprecationWarning: DataFrameGroupBy.apply operated on the grouping columns. This behavior is deprecated, and in a future version of pandas the grouping columns will be excluded from the operation. Either pass `include_groups=False` to exclude the groupings or explicitly select the grouping columns after groupby to silence this warning.\n",
      "  df_train_sampled = df_train.groupby('label').apply(lambda x: x.sample(min_occurence)).reset_index(drop=True)\n",
      "/var/folders/9t/lg86d6h9261dz33jq7hsw5ph0000gn/T/ipykernel_7827/3770625573.py:7: DeprecationWarning: DataFrameGroupBy.apply operated on the grouping columns. This behavior is deprecated, and in a future version of pandas the grouping columns will be excluded from the operation. Either pass `include_groups=False` to exclude the groupings or explicitly select the grouping columns after groupby to silence this warning.\n",
      "  df_dev_sampled = df_dev.groupby('label').apply(lambda x: x.sample(min_occurence)).reset_index(drop=True)\n"
     ]
    }
   ],
   "source": [
    "# get lowest occurence and sample that many from each label\n",
    "min_occurence = df_train['label'].value_counts().min()\n",
    "df_train_sampled = df_train.groupby('label').apply(lambda x: x.sample(min_occurence)).reset_index(drop=True)\n",
    "print(df_train_sampled['label'].value_counts())\n",
    "# do the same for dev \n",
    "min_occurence = df_dev['label'].value_counts().min()\n",
    "df_dev_sampled = df_dev.groupby('label').apply(lambda x: x.sample(min_occurence)).reset_index(drop=True)\n",
    "print(df_dev_sampled['label'].value_counts())"
   ],
   "metadata": {
    "collapsed": false,
    "ExecuteTime": {
     "end_time": "2024-12-13T13:56:32.958040Z",
     "start_time": "2024-12-13T13:56:32.789395Z"
    }
   },
   "id": "4700517ad3e009d3"
  },
  {
   "cell_type": "code",
   "execution_count": 7,
   "outputs": [],
   "source": [
    "# save sampled data\n",
    "df_train_sampled.to_csv('../data/age/train_sampled.csv', index=False)\n",
    "df_dev_sampled.to_csv('../data/age/validation_sampled.csv', index=False)"
   ],
   "metadata": {
    "collapsed": false,
    "ExecuteTime": {
     "end_time": "2024-12-13T13:56:36.076812Z",
     "start_time": "2024-12-13T13:56:32.958122Z"
    }
   },
   "id": "f9d75e18ea37e260"
  },
  {
   "cell_type": "markdown",
   "source": [],
   "metadata": {
    "collapsed": false
   },
   "id": "db9cfb7cf3146adb"
  },
  {
   "cell_type": "code",
   "execution_count": 26,
   "outputs": [
    {
     "data": {
      "text/plain": "                                                     text              date  \\\n0       Bob showed up about halfway through the movie....      05,June,2004   \n1       the weather today juz marvellous man.. so damn...       29,May,2004   \n2       And so were the recaps. Seriously people, if y...   15,January,2004   \n3       urlLink    A picture I drew of what my charact...      09,June,2004   \n4       \"so some may say.....wait.....i don't know wha...  12,December,2003   \n...                                                   ...               ...   \n279547  Got the following email from Tiffani:  You wil...      15,June,2004   \n279548  Laws, treaties (like the Geneva Conventions), ...      07,June,2004   \n279549  Lately, I've been...     Listening to : I have...     14,April,2003   \n279550  I happened to run across this website today. I...      16,June,2004   \n279551  Chris is starting us on a new RPG game, playin...     15,April,2004   \n\n        gender  age  horoscope         job label  \n0         male   17   Aquarius     Student   10s  \n1         male   16      Libra     Student   10s  \n2       female   16   Aquarius      indUnk   10s  \n3       female   13     Taurus     Student   10s  \n4         male   16     Gemini        Arts   10s  \n...        ...  ...        ...         ...   ...  \n279547  female   38     Taurus   Education   30s  \n279548    male   35  Capricorn    Military   30s  \n279549    male   35      Aries      indUnk   30s  \n279550  female   34  Capricorn    Internet   30s  \n279551  female   34    Scorpio  Publishing   30s  \n\n[279552 rows x 7 columns]",
      "text/html": "<div>\n<style scoped>\n    .dataframe tbody tr th:only-of-type {\n        vertical-align: middle;\n    }\n\n    .dataframe tbody tr th {\n        vertical-align: top;\n    }\n\n    .dataframe thead th {\n        text-align: right;\n    }\n</style>\n<table border=\"1\" class=\"dataframe\">\n  <thead>\n    <tr style=\"text-align: right;\">\n      <th></th>\n      <th>text</th>\n      <th>date</th>\n      <th>gender</th>\n      <th>age</th>\n      <th>horoscope</th>\n      <th>job</th>\n      <th>label</th>\n    </tr>\n  </thead>\n  <tbody>\n    <tr>\n      <th>0</th>\n      <td>Bob showed up about halfway through the movie....</td>\n      <td>05,June,2004</td>\n      <td>male</td>\n      <td>17</td>\n      <td>Aquarius</td>\n      <td>Student</td>\n      <td>10s</td>\n    </tr>\n    <tr>\n      <th>1</th>\n      <td>the weather today juz marvellous man.. so damn...</td>\n      <td>29,May,2004</td>\n      <td>male</td>\n      <td>16</td>\n      <td>Libra</td>\n      <td>Student</td>\n      <td>10s</td>\n    </tr>\n    <tr>\n      <th>2</th>\n      <td>And so were the recaps. Seriously people, if y...</td>\n      <td>15,January,2004</td>\n      <td>female</td>\n      <td>16</td>\n      <td>Aquarius</td>\n      <td>indUnk</td>\n      <td>10s</td>\n    </tr>\n    <tr>\n      <th>3</th>\n      <td>urlLink    A picture I drew of what my charact...</td>\n      <td>09,June,2004</td>\n      <td>female</td>\n      <td>13</td>\n      <td>Taurus</td>\n      <td>Student</td>\n      <td>10s</td>\n    </tr>\n    <tr>\n      <th>4</th>\n      <td>\"so some may say.....wait.....i don't know wha...</td>\n      <td>12,December,2003</td>\n      <td>male</td>\n      <td>16</td>\n      <td>Gemini</td>\n      <td>Arts</td>\n      <td>10s</td>\n    </tr>\n    <tr>\n      <th>...</th>\n      <td>...</td>\n      <td>...</td>\n      <td>...</td>\n      <td>...</td>\n      <td>...</td>\n      <td>...</td>\n      <td>...</td>\n    </tr>\n    <tr>\n      <th>279547</th>\n      <td>Got the following email from Tiffani:  You wil...</td>\n      <td>15,June,2004</td>\n      <td>female</td>\n      <td>38</td>\n      <td>Taurus</td>\n      <td>Education</td>\n      <td>30s</td>\n    </tr>\n    <tr>\n      <th>279548</th>\n      <td>Laws, treaties (like the Geneva Conventions), ...</td>\n      <td>07,June,2004</td>\n      <td>male</td>\n      <td>35</td>\n      <td>Capricorn</td>\n      <td>Military</td>\n      <td>30s</td>\n    </tr>\n    <tr>\n      <th>279549</th>\n      <td>Lately, I've been...     Listening to : I have...</td>\n      <td>14,April,2003</td>\n      <td>male</td>\n      <td>35</td>\n      <td>Aries</td>\n      <td>indUnk</td>\n      <td>30s</td>\n    </tr>\n    <tr>\n      <th>279550</th>\n      <td>I happened to run across this website today. I...</td>\n      <td>16,June,2004</td>\n      <td>female</td>\n      <td>34</td>\n      <td>Capricorn</td>\n      <td>Internet</td>\n      <td>30s</td>\n    </tr>\n    <tr>\n      <th>279551</th>\n      <td>Chris is starting us on a new RPG game, playin...</td>\n      <td>15,April,2004</td>\n      <td>female</td>\n      <td>34</td>\n      <td>Scorpio</td>\n      <td>Publishing</td>\n      <td>30s</td>\n    </tr>\n  </tbody>\n</table>\n<p>279552 rows × 7 columns</p>\n</div>"
     },
     "execution_count": 26,
     "metadata": {},
     "output_type": "execute_result"
    }
   ],
   "source": [],
   "metadata": {
    "collapsed": false,
    "ExecuteTime": {
     "end_time": "2024-12-11T11:16:25.509895Z",
     "start_time": "2024-12-11T11:16:25.506234Z"
    }
   },
   "id": "a36f953ce01fa2de"
  },
  {
   "cell_type": "code",
   "execution_count": null,
   "outputs": [],
   "source": [],
   "metadata": {
    "collapsed": false
   },
   "id": "ab15c60ba80805b5"
  }
 ],
 "metadata": {
  "kernelspec": {
   "display_name": "Python 3",
   "language": "python",
   "name": "python3"
  },
  "language_info": {
   "codemirror_mode": {
    "name": "ipython",
    "version": 2
   },
   "file_extension": ".py",
   "mimetype": "text/x-python",
   "name": "python",
   "nbconvert_exporter": "python",
   "pygments_lexer": "ipython2",
   "version": "2.7.6"
  }
 },
 "nbformat": 4,
 "nbformat_minor": 5
}
