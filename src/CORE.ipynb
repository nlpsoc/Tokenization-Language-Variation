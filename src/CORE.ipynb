{
 "cells": [
  {
   "cell_type": "code",
   "execution_count": 25,
   "id": "initial_id",
   "metadata": {
    "collapsed": true,
    "ExecuteTime": {
     "end_time": "2024-12-13T10:37:11.562428Z",
     "start_time": "2024-12-13T10:37:09.112778Z"
    }
   },
   "outputs": [],
   "source": [
    "import pandas as pd\n",
    "import ast\n",
    "# load tsv files\n",
    "df_train = pd.read_csv('../data/CORE/multilabel_train.tsv', sep='\\t')\n",
    "df_train[\"label\"] = df_train[\"label\"].apply(ast.literal_eval)\n",
    "df_val = pd.read_csv('../data/CORE/multilabel_dev.tsv', sep='\\t')\n",
    "df_val[\"label\"] = df_val[\"label\"].apply(ast.literal_eval)\n",
    "df_test = pd.read_csv('../data/CORE/multilabel_test.tsv', sep='\\t')\n",
    "df_test[\"label\"] = df_test[\"label\"].apply(ast.literal_eval)"
   ]
  },
  {
   "cell_type": "code",
   "execution_count": 26,
   "outputs": [
    {
     "name": "stdout",
     "output_type": "stream",
     "text": [
      "label\n",
      "[NA]        12369\n",
      "[IN]         6522\n",
      "[OP]         5506\n",
      "[ID]         2293\n",
      "[NA, IN]     1250\n",
      "[NA, OP]     1135\n",
      "[HI]         1045\n",
      "[IP]          932\n",
      "[IN, OP]      502\n",
      "[LY]          448\n",
      "[SP]          409\n",
      "[OTHER]       407\n",
      "[IN, IP]      296\n",
      "[IN, HI]      247\n",
      "[OP, HI]      110\n",
      "[OP, IP]      105\n",
      "[NA, SP]       60\n",
      "[OP, ID]       59\n",
      "[NA, IP]       58\n",
      "[IN, ID]       29\n",
      "[IN, SP]       26\n",
      "[NA, ID]       19\n",
      "[OP, SP]       14\n",
      "[NA, HI]       11\n",
      "[NA, LY]       11\n",
      "[OP, LY]       10\n",
      "[ID, HI]        9\n",
      "[HI, IP]        8\n",
      "[IN, LY]        6\n",
      "[ID, SP]        3\n",
      "[ID, IP]        2\n",
      "[HI, LY]        2\n",
      "[IP, SP]        1\n",
      "[HI, SP]        1\n",
      "Name: count, dtype: int64\n"
     ]
    },
    {
     "name": "stderr",
     "output_type": "stream",
     "text": [
      "/var/folders/9t/lg86d6h9261dz33jq7hsw5ph0000gn/T/ipykernel_4758/1839797585.py:6: SettingWithCopyWarning: \n",
      "A value is trying to be set on a copy of a slice from a DataFrame.\n",
      "Try using .loc[row_indexer,col_indexer] = value instead\n",
      "\n",
      "See the caveats in the documentation: https://pandas.pydata.org/pandas-docs/stable/user_guide/indexing.html#returning-a-view-versus-a-copy\n",
      "  df[\"label\"] = df[\"label\"].apply(lambda x: x[0])\n"
     ]
    }
   ],
   "source": [
    "# problem: some texts have multiple labels\n",
    "print(df_train[\"label\"].value_counts())\n",
    "# SOLUTION: only keep rows where label is exactly one label in the list and replace that entry with that entry without the list\n",
    "def clean_labels(df):\n",
    "    df = df[df[\"label\"].apply(lambda x: len(x) == 1)]\n",
    "    df[\"label\"] = df[\"label\"].apply(lambda x: x[0])\n",
    "    df = df[df[\"label\"] != \"OTHER\"]\n",
    "    return df\n",
    "df_val = clean_labels(df_val)\n",
    "df_test = clean_labels(df_test)\n",
    "df_train = clean_labels(df_train)\n",
    "# rename label to single genre\n",
    "df_train = df_train.rename(columns={\"label\": \"genre\"})\n",
    "df_val = df_val.rename(columns={\"label\": \"genre\"})\n",
    "df_test = df_test.rename(columns={\"label\": \"genre\"})"
   ],
   "metadata": {
    "collapsed": false,
    "ExecuteTime": {
     "end_time": "2024-12-13T10:37:11.591674Z",
     "start_time": "2024-12-13T10:37:11.570291Z"
    }
   },
   "id": "cf577ff696b5f238"
  },
  {
   "cell_type": "code",
   "execution_count": 27,
   "outputs": [
    {
     "name": "stdout",
     "output_type": "stream",
     "text": [
      "genre\n",
      "NA    12369\n",
      "IN     6522\n",
      "OP     5506\n",
      "ID     2293\n",
      "HI     1045\n",
      "IP      932\n",
      "LY      448\n",
      "SP      409\n",
      "Name: count, dtype: int64\n",
      "genre\n",
      "HI     993.147368\n",
      "ID    1092.062364\n",
      "IN    1358.373198\n",
      "IP    1053.892704\n",
      "LY     504.482143\n",
      "NA    1078.671518\n",
      "OP    1580.482564\n",
      "SP    2073.672372\n",
      "Name: text_length, dtype: float64\n",
      "genre\n",
      "HI    222.616688\n",
      "ID    224.482205\n",
      "IN    229.349436\n",
      "IP    223.844120\n",
      "LY    202.334825\n",
      "NA    224.255618\n",
      "OP    231.760333\n",
      "SP    235.723180\n",
      "Name: text_length, dtype: float64\n"
     ]
    }
   ],
   "source": [
    "# Problem: too few samples for some genres, --> calculate the average text length per genre (BERT has a max token size anyway)\n",
    "df_train[\"text_length\"] = df_train[\"text\"].apply(lambda x: len(x.split()))\n",
    "print(df_train[\"genre\"].value_counts())\n",
    "print(df_train.groupby(\"genre\")[\"text_length\"].mean())\n",
    "# SOLUTION: enlargen dataset by splitting up texts with more than 300 words\n",
    "\n",
    "import re\n",
    "def split_long_texts(df, word_limit=250):\n",
    "    new_rows = []\n",
    "    \n",
    "    # This regex matches:\n",
    "    #   \\s*    optional leading whitespace (including newlines, tabs, etc.)\n",
    "    #   \\S+    one or more non-whitespace characters (a \"word\")\n",
    "    #   \\s*    trailing whitespace, if any\n",
    "    #\n",
    "    # Each match thus gives us exactly one word and any whitespace that follows it.\n",
    "    # If there's leading whitespace before the first word, it will be included in that first token.\n",
    "    token_pattern = re.compile(r'\\s*\\S+\\s*')\n",
    "    \n",
    "    for _, row in df.iterrows():\n",
    "        text = row['text']\n",
    "        \n",
    "        # Find all tokens\n",
    "        tokens = token_pattern.findall(text)\n",
    "        \n",
    "        # If the number of tokens (words) does not exceed the limit, keep as is\n",
    "        if len(tokens) <= word_limit:\n",
    "            new_rows.append({\n",
    "                'text': text,\n",
    "                'genre': row['genre'],\n",
    "                'register': row['register'],\n",
    "                'document_id': row['document_id']\n",
    "            })\n",
    "        else:\n",
    "            # Split into chunks of word_limit tokens\n",
    "            for i in range(0, len(tokens), word_limit):\n",
    "                chunk_tokens = tokens[i:i+word_limit]\n",
    "                # Just concatenate the tokens as they are: this preserves exact original whitespace\n",
    "                chunk_text = ''.join(chunk_tokens)\n",
    "                new_rows.append({\n",
    "                    'text': chunk_text,\n",
    "                    'genre': row['genre'],\n",
    "                    'register': row['register'],\n",
    "                    'document_id': row['document_id']\n",
    "                })\n",
    "    \n",
    "    return pd.DataFrame(new_rows)\n",
    "df_train = split_long_texts(df_train)\n",
    "df_val = split_long_texts(df_val)\n",
    "df_test = split_long_texts(df_test)\n",
    "df_train[\"text_length\"] = df_train[\"text\"].apply(lambda x: len(x.split()))\n",
    "print(df_train.groupby(\"genre\")[\"text_length\"].mean())\n"
   ],
   "metadata": {
    "collapsed": false,
    "ExecuteTime": {
     "end_time": "2024-12-13T10:37:19.640474Z",
     "start_time": "2024-12-13T10:37:11.641683Z"
    }
   },
   "id": "465891e91f47d6b9"
  },
  {
   "cell_type": "code",
   "execution_count": 28,
   "outputs": [
    {
     "name": "stdout",
     "output_type": "stream",
     "text": [
      "genre\n",
      "OP    3750\n",
      "NA    3750\n",
      "ID    3750\n",
      "IN    3750\n",
      "LY    3750\n",
      "IP    3750\n",
      "HI    3750\n",
      "SP    3750\n",
      "Name: count, dtype: int64\n"
     ]
    }
   ],
   "source": [
    "# do stratified sampling with replacement to reach 30k, 5k, 5k size\n",
    "def balanced_sampling(df, dataset_size):\n",
    "    # Get the unique genres\n",
    "    genres = df['genre'].unique()\n",
    "    num_genres = len(genres)\n",
    "    \n",
    "    # Compute how many samples per genre\n",
    "    base_count = dataset_size // num_genres\n",
    "    remainder = dataset_size % num_genres\n",
    "\n",
    "    # Create a dictionary to store the number of samples per genre\n",
    "    samples_per_genre = {genre: base_count for genre in genres}\n",
    "    \n",
    "    # Distribute the remainder by adding one extra sample to some genres\n",
    "    # until we have assigned all leftover samples\n",
    "    for i, genre in enumerate(genres):\n",
    "        if i < remainder:\n",
    "            samples_per_genre[genre] += 1\n",
    "    \n",
    "    sampled_df_list = []\n",
    "    \n",
    "    # Sample for each genre\n",
    "    for genre in genres:\n",
    "        subset = df[df['genre'] == genre]\n",
    "        required_samples = samples_per_genre[genre]\n",
    "        \n",
    "        # If we don't have enough rows in this genre, sample with replacement\n",
    "        if len(subset) < required_samples:\n",
    "            sampled_subset = subset.sample(n=required_samples, replace=True, random_state=42)\n",
    "        else:\n",
    "            # If we have enough rows, sample without replacement\n",
    "            sampled_subset = subset.sample(n=required_samples, replace=False, random_state=42)\n",
    "\n",
    "        sampled_df_list.append(sampled_subset)\n",
    "    \n",
    "    # Concatenate all sampled subsets\n",
    "    balanced_df = pd.concat(sampled_df_list, ignore_index=True)\n",
    "    return balanced_df\n",
    "df_train = balanced_sampling(df_train, 30000)\n",
    "df_val = balanced_sampling(df_val, 5000)\n",
    "df_test = balanced_sampling(df_test, 5000)\n",
    "print(df_train[\"genre\"].value_counts())"
   ],
   "metadata": {
    "collapsed": false,
    "ExecuteTime": {
     "end_time": "2024-12-13T10:37:19.753086Z",
     "start_time": "2024-12-13T10:37:19.644090Z"
    }
   },
   "id": "a610db6af3c1975a"
  },
  {
   "cell_type": "code",
   "execution_count": 14,
   "outputs": [
    {
     "name": "stderr",
     "output_type": "stream",
     "text": [
      "/var/folders/9t/lg86d6h9261dz33jq7hsw5ph0000gn/T/ipykernel_4758/2155482678.py:3: DeprecationWarning: DataFrameGroupBy.apply operated on the grouping columns. This behavior is deprecated, and in a future version of pandas the grouping columns will be excluded from the operation. Either pass `include_groups=False` to exclude the groupings or explicitly select the grouping columns after groupby to silence this warning.\n",
      "  df_split = df_split.groupby(\"genre\").apply(lambda x: x.sample(min_occurence_genre)).reset_index(drop=True)\n"
     ]
    },
    {
     "data": {
      "text/plain": "                                                   text genre register  \\\n0     have 4 or 5 different machine brands and some ...    HI    HI HT   \n1     marketing methods is the finest way to create ...    HI    HI HT   \n2     When you bring up the issue, give your friend ...    HI    HI HT   \n3     started working on it -- SLOWLY. The Content I...    HI    HI HT   \n4     An ability for their company to respond to cha...    HI    HI HT   \n...                                                 ...   ...      ...   \n8931  and go away most games. That said Christism sh...    SP    SP IT   \n8932  sort of poetic. AVC: It's a little nihilistic....    SP    SP IT   \n8933  for yourself. Once you?re preoccupied with a r...    SP    SP IT   \n8934  Alien invasion. How this man could be such a h...    SP    SP IT   \n8935  an international with a number of years PL exp...    SP    SP IT   \n\n      document_id  \n0          457354  \n1         3314812  \n2          324833  \n3         3187203  \n4          403629  \n...           ...  \n8931       447498  \n8932       173347  \n8933        88465  \n8934       491481  \n8935       447498  \n\n[8936 rows x 4 columns]",
      "text/html": "<div>\n<style scoped>\n    .dataframe tbody tr th:only-of-type {\n        vertical-align: middle;\n    }\n\n    .dataframe tbody tr th {\n        vertical-align: top;\n    }\n\n    .dataframe thead th {\n        text-align: right;\n    }\n</style>\n<table border=\"1\" class=\"dataframe\">\n  <thead>\n    <tr style=\"text-align: right;\">\n      <th></th>\n      <th>text</th>\n      <th>genre</th>\n      <th>register</th>\n      <th>document_id</th>\n    </tr>\n  </thead>\n  <tbody>\n    <tr>\n      <th>0</th>\n      <td>have 4 or 5 different machine brands and some ...</td>\n      <td>HI</td>\n      <td>HI HT</td>\n      <td>457354</td>\n    </tr>\n    <tr>\n      <th>1</th>\n      <td>marketing methods is the finest way to create ...</td>\n      <td>HI</td>\n      <td>HI HT</td>\n      <td>3314812</td>\n    </tr>\n    <tr>\n      <th>2</th>\n      <td>When you bring up the issue, give your friend ...</td>\n      <td>HI</td>\n      <td>HI HT</td>\n      <td>324833</td>\n    </tr>\n    <tr>\n      <th>3</th>\n      <td>started working on it -- SLOWLY. The Content I...</td>\n      <td>HI</td>\n      <td>HI HT</td>\n      <td>3187203</td>\n    </tr>\n    <tr>\n      <th>4</th>\n      <td>An ability for their company to respond to cha...</td>\n      <td>HI</td>\n      <td>HI HT</td>\n      <td>403629</td>\n    </tr>\n    <tr>\n      <th>...</th>\n      <td>...</td>\n      <td>...</td>\n      <td>...</td>\n      <td>...</td>\n    </tr>\n    <tr>\n      <th>8931</th>\n      <td>and go away most games. That said Christism sh...</td>\n      <td>SP</td>\n      <td>SP IT</td>\n      <td>447498</td>\n    </tr>\n    <tr>\n      <th>8932</th>\n      <td>sort of poetic. AVC: It's a little nihilistic....</td>\n      <td>SP</td>\n      <td>SP IT</td>\n      <td>173347</td>\n    </tr>\n    <tr>\n      <th>8933</th>\n      <td>for yourself. Once you?re preoccupied with a r...</td>\n      <td>SP</td>\n      <td>SP IT</td>\n      <td>88465</td>\n    </tr>\n    <tr>\n      <th>8934</th>\n      <td>Alien invasion. How this man could be such a h...</td>\n      <td>SP</td>\n      <td>SP IT</td>\n      <td>491481</td>\n    </tr>\n    <tr>\n      <th>8935</th>\n      <td>an international with a number of years PL exp...</td>\n      <td>SP</td>\n      <td>SP IT</td>\n      <td>447498</td>\n    </tr>\n  </tbody>\n</table>\n<p>8936 rows × 4 columns</p>\n</div>"
     },
     "execution_count": 14,
     "metadata": {},
     "output_type": "execute_result"
    }
   ],
   "source": [
    "# sample minimum number of texts per genre\n",
    "min_occurence_genre = df_train[\"genre\"].value_counts().min()\n",
    "df_split = df_train.groupby(\"genre\").apply(lambda x: x.sample(min_occurence_genre)).reset_index(drop=True)\n",
    "df_split"
   ],
   "metadata": {
    "collapsed": false,
    "ExecuteTime": {
     "end_time": "2024-12-13T10:25:56.606498Z",
     "start_time": "2024-12-13T10:25:56.592048Z"
    }
   },
   "id": "a1aec2aa40a46bb"
  },
  {
   "cell_type": "code",
   "execution_count": 29,
   "outputs": [],
   "source": [
    "# change \"NA\" in gener to \"NARRATIVE\"\n",
    "df_train[\"genre\"] = df_train[\"genre\"].apply(lambda x: \"NARRATIVE\" if x == \"NA\" else x)\n",
    "df_val[\"genre\"] = df_val[\"genre\"].apply(lambda x: \"NARRATIVE\" if x == \"NA\" else x)\n",
    "df_test[\"genre\"] = df_test[\"genre\"].apply(lambda x: \"NARRATIVE\" if x == \"NA\" else x)\n",
    "# save\n",
    "df_train.to_csv('../data/CORE/multiclass_train_stratified.tsv', sep='\\t', index=False)\n",
    "df_val.to_csv('../data/CORE/multiclass_dev_stratified.tsv', sep='\\t', index=False)\n",
    "df_test.to_csv('../data/CORE/multiclass_test_stratified.tsv', sep='\\t', index=False)"
   ],
   "metadata": {
    "collapsed": false,
    "ExecuteTime": {
     "end_time": "2024-12-13T10:37:39.821201Z",
     "start_time": "2024-12-13T10:37:39.277455Z"
    }
   },
   "id": "77eff6496958ca64"
  },
  {
   "cell_type": "code",
   "execution_count": 15,
   "outputs": [
    {
     "data": {
      "text/plain": "     register  document_id                                               text  \\\n0       NA SR       601771  Already an accomplished adventure and 'ultrama...   \n1       OP OB      3160437  Being a Successful Band Has Nothing to Do With...   \n3       NA SR      3060117  QPR vs Southampton - Match preview and team ne...   \n4       NA NE       119728  Search age: Search in: US says it's ready to t...   \n6       NA NE         2697  Toronto cycling activists were gnashing their ...   \n...       ...          ...                                                ...   \n4838      NaN       783119  As a prisoner of war in Vietnam, Eagle Scout G...   \n4839    NA NE       444339  Lollapalooza heading to the Middle East in 201...   \n4840    OP AV      3287928  How to: Improve Brand Engagement on Twitter Ea...   \n4841    OP OB      3345658  The Last Post. A shameful reflection on Canada...   \n4842    NA NE         7644  Related Stories Students at a Sherwood Park hi...   \n\n        full_label genre  \n0     ['NA', 'SR']    NA  \n1     ['OP', 'OB']    OP  \n3     ['NA', 'SR']    NA  \n4     ['NA', 'NE']    NA  \n6     ['NA', 'NE']    NA  \n...            ...   ...  \n4838        ['NA']    NA  \n4839  ['NA', 'NE']    NA  \n4840  ['OP', 'AV']    OP  \n4841  ['OP', 'OB']    OP  \n4842  ['NA', 'NE']    NA  \n\n[4215 rows x 5 columns]",
      "text/html": "<div>\n<style scoped>\n    .dataframe tbody tr th:only-of-type {\n        vertical-align: middle;\n    }\n\n    .dataframe tbody tr th {\n        vertical-align: top;\n    }\n\n    .dataframe thead th {\n        text-align: right;\n    }\n</style>\n<table border=\"1\" class=\"dataframe\">\n  <thead>\n    <tr style=\"text-align: right;\">\n      <th></th>\n      <th>register</th>\n      <th>document_id</th>\n      <th>text</th>\n      <th>full_label</th>\n      <th>genre</th>\n    </tr>\n  </thead>\n  <tbody>\n    <tr>\n      <th>0</th>\n      <td>NA SR</td>\n      <td>601771</td>\n      <td>Already an accomplished adventure and 'ultrama...</td>\n      <td>['NA', 'SR']</td>\n      <td>NA</td>\n    </tr>\n    <tr>\n      <th>1</th>\n      <td>OP OB</td>\n      <td>3160437</td>\n      <td>Being a Successful Band Has Nothing to Do With...</td>\n      <td>['OP', 'OB']</td>\n      <td>OP</td>\n    </tr>\n    <tr>\n      <th>3</th>\n      <td>NA SR</td>\n      <td>3060117</td>\n      <td>QPR vs Southampton - Match preview and team ne...</td>\n      <td>['NA', 'SR']</td>\n      <td>NA</td>\n    </tr>\n    <tr>\n      <th>4</th>\n      <td>NA NE</td>\n      <td>119728</td>\n      <td>Search age: Search in: US says it's ready to t...</td>\n      <td>['NA', 'NE']</td>\n      <td>NA</td>\n    </tr>\n    <tr>\n      <th>6</th>\n      <td>NA NE</td>\n      <td>2697</td>\n      <td>Toronto cycling activists were gnashing their ...</td>\n      <td>['NA', 'NE']</td>\n      <td>NA</td>\n    </tr>\n    <tr>\n      <th>...</th>\n      <td>...</td>\n      <td>...</td>\n      <td>...</td>\n      <td>...</td>\n      <td>...</td>\n    </tr>\n    <tr>\n      <th>4838</th>\n      <td>NaN</td>\n      <td>783119</td>\n      <td>As a prisoner of war in Vietnam, Eagle Scout G...</td>\n      <td>['NA']</td>\n      <td>NA</td>\n    </tr>\n    <tr>\n      <th>4839</th>\n      <td>NA NE</td>\n      <td>444339</td>\n      <td>Lollapalooza heading to the Middle East in 201...</td>\n      <td>['NA', 'NE']</td>\n      <td>NA</td>\n    </tr>\n    <tr>\n      <th>4840</th>\n      <td>OP AV</td>\n      <td>3287928</td>\n      <td>How to: Improve Brand Engagement on Twitter Ea...</td>\n      <td>['OP', 'AV']</td>\n      <td>OP</td>\n    </tr>\n    <tr>\n      <th>4841</th>\n      <td>OP OB</td>\n      <td>3345658</td>\n      <td>The Last Post. A shameful reflection on Canada...</td>\n      <td>['OP', 'OB']</td>\n      <td>OP</td>\n    </tr>\n    <tr>\n      <th>4842</th>\n      <td>NA NE</td>\n      <td>7644</td>\n      <td>Related Stories Students at a Sherwood Park hi...</td>\n      <td>['NA', 'NE']</td>\n      <td>NA</td>\n    </tr>\n  </tbody>\n</table>\n<p>4215 rows × 5 columns</p>\n</div>"
     },
     "execution_count": 15,
     "metadata": {},
     "output_type": "execute_result"
    }
   ],
   "source": [
    "df_val"
   ],
   "metadata": {
    "collapsed": false,
    "ExecuteTime": {
     "end_time": "2024-12-13T10:26:55.543590Z",
     "start_time": "2024-12-13T10:26:55.535535Z"
    }
   },
   "id": "6f1777b17e92fa66"
  },
  {
   "cell_type": "code",
   "execution_count": 10,
   "outputs": [],
   "source": [],
   "metadata": {
    "collapsed": false,
    "ExecuteTime": {
     "end_time": "2024-12-12T11:15:16.132509Z",
     "start_time": "2024-12-12T11:15:11.998995Z"
    }
   },
   "id": "8bad0a986783540f"
  },
  {
   "cell_type": "code",
   "execution_count": 40,
   "outputs": [
    {
     "name": "stdout",
     "output_type": "stream",
     "text": [
      "OP\n",
      "Talk To Your Parents Sometimes, people just don't feel well. But if you don't feel well more than sometimes, it may be helpful to talk to someone about it. Why might it be helpful to talk to a family member? A lot of people just don't want to talk about difficult experiences. Everyone has their own reason to keep quiet. Some people may have a lot of inside fears: they don't want to admit that there is something wrong, they blame themselves, they don't think anyone else will understand. Other people may have a lot of outside fears: they don't want other people to find out, they don't want to lose friends, they don't want to disappoint anyone, they don't want other people to take care of them. The problem is that it can be really tough to deal with difficult feeling on your own. But it's also hard to find support if you don't ask for support. Often, the quickest and most direct way to find support is to ask for it. Part of being strong and in control is knowing when to ask for help. Sometimes, just having someone to talk to can really help people feel better. There is another reason for talking with a family member. If you're dealing with the health care system, like going to doctor's appointments, you may need an adult's help. What do we mean by \"family member?\" A family member is anyone in your support circle that you feel you can rely on. It could be a parent or step-parent, an aunt or an uncle, an older sister or brother, or a grandparent. It could also be someone from your community, like a teacher or other school staff member, a friend's parents, or a family friend. Talking to a family member Talking to a family member is a huge step. No matter what happens, you should feel proud that you brought your concerns into the open. It takes a lot of courage! One way to tackle the first conversation is to prepare ahead of time. If you know what you want and know how you want to say it, it can be easier to bring up with other people. Below, you'll see different points to think about. Sometime, family members don't react to these tough conversations in helpful ways. Remember, you are not responsible for their reaction. Their reaction reflects them, not you. You can't control how other people react, but you can control how you react. Before the conversation Think about what you want to say and how you want to say it. Sometime people even write notes to help organize their thoughts. Think about what you want to come out of the conversation. Do you need a family member to help you see a doctor or other health professional? Do you want to try new strategies at home? Do you just want to talk? Think about the best time and place to bring up the conversation. If you try to talk to a family member when they're busy, tired or stressed out, they may not be able to listen as well as they'd like. You can even ask when they're available to talk about something important and ask them to set aside the time for you. During the conversation Don't be afraid to take control. It's hard to talk about difficult feelings or experiences. Some people find that it's easier to say what they feel if they can just get it out without interruptions. Try, \"It's hard for me to talk about this. It would really help if you just listen until I'm finished. Then we can talk about it together.\" Try to be honest and direct. A family member needs to understand what the problem is and what you want them to do about it. Try to be clear about why you're having the conversation and what you want to happen next. Try to stay on topic. This isn't the time to bring up old fights or disagreements. If a family member  isn't staying on topic, you can always remind them why you're talking. Try, \"I know you're upset about (something that's happened), but right now I need to talk to you about the way I've been feeling.\" Try to keep your cool. Yelling, getting angry or getting defensive can really derail a conversation. If you feel very angry or upset, it may be more helpful to take a break. Prepare back-up. Some people don't have all the information about mental health. If they don't get the problem, they may not know what to do. Suggest resources that they can check out, like the organizations [in the resource section]. You can always continue the conversation after they've checked out information for themselves. End an unhelpful conversation. Sometimes, a family member won't know what to do or say. They might react poorly or just not say anything that all. This can be frustrating, especially when you're trying to reach out for help! If you're having a hard time making the conversation work, it may be helpful to end it for a while. This will give everyone a chance to think about the issues. Try, \"I don't think this is working right now and I'm feeling really frustrated. Can we take a break and pick up the conversation in two days?\" After the conversation Awesome -- you've made it through the really tough part! If you conversation went well, you can start planning your next steps. If you don't think your conversation ended well, try not to feel discouraged. These conversations are tough for everyone. Some people don't react well when they have to hear something difficult or emotional. If you think that your family member just need some time and information, think of how you might work together to learn more and work together. For example, you could suggest resources you like and schedule another conversation later in the week. If you just don't think this is going work, it may be time to ask for outside help. Think about the options below and decide what feel most comfortable. What if I just can't talk to my parents? Sometimes, you just can't talk to people in your family. This can be really hard to handle, but it's important to keep trying until you find someone that can help. Here are a few suggestions: Your school counsellor A teacher you trust Another family member, like an older brother or sister or an aunt or uncle \n",
      "\n",
      "NA\n",
      "Ferry consultation needs deeper questions, says advocate A transportation advocacy group is circulating a list of 100 questions aimed at broadening the British Columbia government's consultation on coastal ferry services. \"Every aspect of the ferry system has to be looked at and the data has to be complete,\" said Gregg Dow, the president of the BC Coastal Transportation Society. \"We just demonstrated how complicated it is. It's a disservice of the provincial government not to bring that into the decision making process.\" The provincial government is at the start of a $700,000 consultation process Transportation Minister Mary Polak launched in late October aimed at cutting $26 million from BC Ferries' budget. Through a request for proposals process to run the consultation, the transportation ministry hired Kirk & Co. Consulting Ltd. in August. Elections BC records show Kirk & Co. has been a regular donor to the BC Liberal Party. The company has given nearly $12,000 to the governing party since 2005, and principal Judy Kirk has also made personal donations to the Liberals. Materials circulated as part of the consultation process look at the cost of each route, its capacity and how much it is used. There are many other factors that come into play, including regulations around things like crewing levels, transportation of dangerous goods and weight allowances, said Dow. \"What impacts will it have on the economies of these communities? Has the governemnt even looked at that?\" Many of the questions focus on how BC Ferries and the government calculated the capacity that they say is under used. The full list is available on the BCCTS website . Here are 12 of them: Has the Government/BC Ferries undertaken an evaluation of what constitutes 'Core Ferry Service'? It appears the Government is prepared to adjust Core Ferry Services downward in response to BC Ferries' escalating cost overruns. At what point does the Government determine Core Ferry Services will have bottomed out? Is the Government aware if any of the costs of the new BC Ferries Head Office has been allocated out to the fleet? Is the Government aware if any of the costs of the BC Ferries Vacation Centre have allocated out to the fleet? How have the two boards of directors expenses been allocated to the fleet, since 2003? When BC Ferries replaces vessels on Route 1, exchanging a Spirit Class Vessel with a Super C, they've reduced the capacity for those sailings. Did the Province review and account for the differences in capacity between vessels? Do BC Ferries' policies around on time performance -- specifically in how it determines how the vessels are to be loaded, cut-off times, and the handling of traffic in the terminals -- ultimately defeat its ability to meet maximum capacity utilization targets? Has the Government considered reductions to Management Bonus Plans to reduce drain on the fare and subsidy revenue at BCFS and thus protect farepayers and taxpayers interests? How does BC Ferries' Reservations policy affect capacity? Has the Government/BC Ferries determined if it is a deterrent to travel for some potential passengers? Has the Government evaluated what impact the loss of Tourism BC for three years had on ridership at BC Ferries? A large percentage of the loss posted to each route comprises the cost of central management, the cost of ship refits and terminal upgrades, and the cost of financing and amortization of BCF's $1.4 billion dollar debt. In what way will deep cuts to service reduce these expenses? In 2002, the Government promised improved service and predictable fares. The current consultation process the Government is undertaking demonstrates the business model isn't working. At what point does the government go back to the legislation and fix it? Andrew MacLeod is The Tyee's Legislative Bureau Chief in Victoria. Find him on Twitter or reach him here . Illahie If ferries is actually a private corporation If ferries is actually a private corporation, who gives a hoot whether they made a bad deal with government, and lose money as a result? If Exon or some other public company were to lose money would our provincial government try to help out. If ferries is actually government, then the operation should be treated like government. If the costs of maintaining our highways were to go up, the government would fund the increased costs of maintaining our roads. If the provincial government wants to get ferries back in the black, all they have to do is take back the 1.3 billion or so in debt that was wracked up David Hahn during his tenure. The interest payments on the Hahn debt is causing ferries to lose money. Dave50 Gulf island ferries BC Ferries does not want to touch the huge hog trough pay raises and bonuses to their executives.Total cost of 'management' should be 10% of operations ... I'll bet its nearly half the cost of personnel and not needed. When the liberal government hands you money and you have a monopoly you should balance the books every time.The BC liberal government is directly 100% responsible for the bad shape of BC ferries.The BC liberals paid ex BC ferries CEO David Hahn more than the prime minster and all, the admiral in the navy combined.Why would someone choose to move to the gulf island , then whine and cry about the ferry service.If you choose to live on the gulf island then get out your wallet, or buy a boat and commute back and forth.Half the trips are running a less than 1/4 capacity.Some living in a million dollar gulf island waterfront house trying to commute daily back and forth should not be totally subsidized by the taxpayer.Blame the BC liberal,Bc ferries paid David Hahn more than a 5 star adimral in the USA navy for running a 36 ship fleet which could be run out of a one room office.David hahn 48,000 a month pension benifit is what the Bc fiberl pay 70 people at 700.00 a month. But the actual blame for this must be laid squarely at the feet of those in Victoriathe BC Fiberals whom we elected to be the guardians of the public trust. If our politicians are willing to pay Hahn more than the Prime Minister and the Premier of BC combined, they're the ones who are to blame for this absolute travesty Ex Bc ferries liberal appointee David Hahn make more in a month pension benefits, than a full time employee working 40 ours or more a week makes in a year, and the every single honest taxpayer in BC has to pay . virimpig BCFerries The total ineptitude of the BCFerries management is a joke! And all this kerfluffle about cutting costs is a prelude to unloading the albatross back to the Dept. of Highways or Transportartion (or whatever Christy's women's auxiliary running this province until next spring calls it) so that it can be handled efficiently without the atronomical levels of management and salaries at FleetHouse! No best comments selected by an editor for this story yet. To see all comments, click the All Comments tab, above. E.R.A.S.E. Bullying Bullying is once again in the news in B.C. this week thanks to Premier Clark's E.R.A.S.E. Bullying Summit in Vancouver on Tuesday, but also the launch of the government's E.R.A.S.E. Bullying website. Among the features on the site, which includes online anonymous reporting of bullying, tips on creating safe schools, and the government's action plan, is a Parents' Guide to text slang, an effort to help adults identify the signs of possible bullying -- if they can wrench the phone away from their child's hands long enough to read it. How would you fare if forced to decipher today's text speak? Check it out here , and check out more stories on The Hook as we bring you the news this week. G2GICYAL8ER! \n",
      "\n",
      "ID\n",
      "I'v been recording and mixing music for about 4 years now. In this time I'v probably done around 100 tracks. My clients are always happy and they do come back but I am not even close to being happy. I really feel like I should be better than I am and feel like I'm just stuck with fairly amateur sounding records. I'm almost at the point where its making me feel depressed and this stress and worry just makes things even harder. I know it sounds a bit extreme but you know when you want something so bad that you just cant have it... thats the feeling! I'v been mixing an EP by a band for about 3 months now and its getting to the point where they're getting a bit peaved off at me. Its a really great record which seems to be heightening the pressure (i dont wanna fluff it up!). The problem is whatever I do I cant settle on anything and i just keep going round in circles trying different stuff, starting again etc etc. I just wonder... will I ever finish it? This is the first time I'v ever felt incapable of mixing something. So I'm just looking for a bit of advice really. I'm sure many people have hit this brick wall. What do you do when you just cant seem to mix something? Hi, You have mixed it...you just didn't know when to stop and move on! Are the band peaved because it sounds bad or at you because you are taking so long? I suggest finishing it...even though you will not be satisfied. Time to let go and learn methinks! Dave More peaved that Im taking so long to finish it.. theyre nice guys so they havent officially said theyre annoyed, but I can sooooo tell! 2 of the tracks I thought were finished, I sent them over and they were not over the moon about them, said they could be improved. Im struggling to improve them! 1. spend 1 day (6 to 10 hours) per mix. Then ask the band for changes. Dont fu.ck about. You're done 2. What band do they sound like? Mix it like that. 3. mix time is NOT creative time ( no matter what the many jocks who do it all tell you; I mix for a living, a proper living - sure there is a bit of creativity but you're not trying to make the song be something else - if you're trying to get John Bonham drums but the drummer plays like a punk then you're wasting your time. Secondly - if you want John Bonhma drums you have to record John Bonham drums. If you have recorded tight sounding drums then that is what you go for ). You RECORD a record - mixing is about fulfilling what you promised at recording.... in other words mix what's there. And when you get feedback from the band that it 'isn't right', don't settle for that and keep going round in circles. Get them to commit and say WHY they don't think it is right, and WHAT they think is wrong. They need to give you a clear idea of where to focus, it's their record after all. This has happened to me when I don't have a clear idea from the outset how the finished product is supposed to sound. Either the band gives you that, or you bring that vision to them. If neither of you has it then any technically competent mix is pretty much as good as any other. So you might as well just stop and hand it back to the band. Presumably they are not paying you for all this soul searching? I have learned to close down projects like this fairly quickly. Who are you trying to please here? If the band are happy with your last mix, that's the mix. If they have specific requirements that you are struggling to fulfill then what are the barriers, and are we really talking about performance and arrangement issues? You can't own the whole problem, the band has responsibilities too While I like to have some time on my own when I'm starting a mix so that I can do all the tidying up and getting basic sounds without someone breathing down my neck, when it gets towards the end of the process I find it helpful to have someone from the band there with me. Maybe not the whole band as things can get very confusing with too many opinions but it helps to have ideas from someone else. I'd also agree that if a mix is taking more than a few hours there's probably something more fundamental wrong with it. Hey Chewy, I have been in similar positions to yourself, but maybe because i am a bit of a t@&% , I have no problem explaining to bands/artists, A) my limitations, given the equipment/environment I have and the price I charge and B) their expectations given their skills and the price they are paying. The bottom line is, you have done your best, if they want it better, either they should pay you more or you give them the files so that someone else can mix ....OR they pay more at the outset for a higher end studio....DO NOT BEAT YOURSELF UP TOO MUCH!.....only a little! Dave In other words, four years isn't a long time to be learning your chops. You learn on every mix for decades. Or you should. But three months to mix a few tracks (assuming you're working solid) is a very long time. You need to be clear about when you're solving problems/refining a mix, and when you're learning stuff anew. Fine to take a bit of time to do the former. The latter are lessons to be applied to future projects. If you are too insistent on perfection that's by its nature out of reach, you'll never get to the stage where you can mix *anything* to your satisfaction. Wise words above about finishing a mix relatively quickly and then getting specific comments from the band. I'd add to that to talk about expectations, stylistic and sonic influences before the recording session. Get hold of some reference tracks you can use while mixing - not just tunes they like, but how this bit builds to the chorus; how that vocal space/treatment is amazing; how the drums work etc. You have a rough target then and will know what's realistic or be able to suggest alternative directions. The only caveat I'd add is that Narco's advice doesn't relate to all styles of music, nor all interpretations of the title 'mix engineer'. For instance, the line between mixing, programming and remixing is a very blurry one. Whatever it is you're doing, though, and however you interpret the term, be clear about what the band expects of you and what you expect to be doing; and bill/take credit accordingly. Mismatch of those expectations is a huge disappointment for everyone concerned. If you've really hit a block on this particular one, and need to get through it, here's what I recommend... (1) Get a bit of distance from it. Leave it a few days at least. Clear your head - go do something other than mixing. (2) Come back and just listen through once or twice with fresh ears. Don't do anything to it. (3) Next day, listen through with a pen and paper and make a snag list of things to fix/change. Don't get too hung up on technical problems, though do note them. Think about the macro side of things as well as the tiny details -- can you hear the lyrics; is the bass even and sufficiently tight; are the transitions working; does the track build and strip down in the right way. Etc. (4) Then wait another day and come back to work through the list. Half the notes you'll read and thing \"nah, doesn't need it, what was I thinking\"; others will help you focus and move on. (5) When you've made it through that, review it one more time in a similar way on a compressed timescale. And call that a day. (6) Learn from the experience and move on to your next project -- which will be a bit better; as will the next one after that. Etc. They won't be if you go down this road with every mix! I think my advice would be to remember that fundamentally, mixing a band is about balancing the relative levels of the tracks, not about processing them or adding effects. Try stripping back all your plug-ins and getting a mix together using the faders alone, at least as a first step. The only caveat I'd add is that Narco's advice doesn't relate to all styles of music, nor all interpretations of the title 'mix engineer'. For instance, the line between mixing, programming and remixing is a very blurry one. It's not a blurry one when you're hired as a mixer. The blurring comes from having to do several roles - in which cases the blurring is in the role of the person and not in what the person is doing! If you are \"programming\" during a mix then you are not mixing. You are programming, re-arranging, producing etc. Of course, when you are doing several roles it most certainly is easy to get bogged down in transitioning. The trick is to understand exactly where you are in the process - I have the luxury of never mixing my own production work and only mixing work from other recordists/producers!! The only caveat I'd add is that Narco's advice doesn't relate to all styles of music, nor all interpretations of the title 'mix engineer'. For instance, the line between mixing, programming and remixing is a very blurry one. It's not a blurry one when you're hired as a mixer. The blurring comes from having to do several roles - in which cases the blurring is in the role of the person and not in what the person is doing!! If you are \"programming\" during a mix then you are not mixing. You are programming, re-arranging, producing. Once that is DONE then you are mixing!! Hmmm... so its just summing then is it? No effects, no delay lines? No mutes? No tonal changes to anything? I think that it *is* a blurry line when there is no official job description and half the world has a different interpretation of what a mix engineer should do, or be allowed to do to their material. Point being, whatever your role, and whatever you perceive as your role, and whatever you call yourself... it's a good plan to make sure that you and the client have a common understanding of what your role is. ie make sure the client and the contractor have an agreed scope of project and standard of work. Same as in any other walk of life. If a band holds a false assumption/expectation, it's your job to set them straight before you start working. Quote Sam Inglis: mix together using the faders alone, at least as a first step. Good idea. Kinda depends where you are on this mix at the moment, though. And in light of what Narco has said about definition of roles, do make sure that the arrangement, editing etc has been done to your satisfaction before trying to mix. Maybe that's your job too, maybe it isn't. But it will make the basic side of the mix job much easier. Hmmm... so its just summing then is it? No effects, no delay lines? No mutes? No tonal changes to anything? No - that's clearly daft!!! Of course it involves those changes. Quote Matt Houghton: I think that it *is* a blurry line when there is no official job description and half the world has a different interpretation of what a mix engineer should do, or be allowed to do to their material. It's not up for interpretation despite being inter petted!! hahah. A mixers role is to mix the music as per the producers wishes. The problem comes if you are recordist, producer and mixer. Thats when people start to blur roles and that is when issue happen. If you can keep the roles distinct, even if doing them all yourself, then it helps a lot. Quote Matt Houghton: Point being, whatever your role, and whatever you perceive as your role, and whatever you call yourself... it's a good plan to make sure that you and the client have a common understanding of what your role is. ie make sure the client and the contractor have an agreed scope of project and standard of work. Same as in any other walk of life. If a band holds a false assumption/expectation, it's your job to set them straight before you start working. Absolutely right!! But if a band thinks a mixers role is to sort out arrangements then they are in for a surprise! One does do that when requested and of course, sometimes you get into discussions about things not working. Those are production works and they are dealt with on a project by project basis. When you're mixing - you're mixing. The blurring of roles is in people doing multiple jobs.... My advice is separate the roles. DON'T blur the roles, it makes your output far more complicated and you end up chasing your tale. Quote jaminem: I'd spend 400 upgrading my mains cables if I were you. Its the only way to get a decent sounding record. sorry, wrong thread. Wrong thread indeed... Seriously, chew_rocket have you tried to mix something in a studio different than your own? Maybe your problem lies with the acoustics of your control room. Bad acoustics can make mixing very frustrating. It would help if you were more specific about the things that frustrate you: lack of clarity? harshness? lack of loudness? Forget room acoustics for a minute... Can the band play? I mean really play? There's a difference between what some would consider good and what is actually good in a studio recording scenario. Your drummer has to be getting the sounds from his kit to begin with, is he? Is he hitting consistently? You could be running round in circles trying to get the best snare sound from a close mic in one section of a song only to find another section or other hits are completely different, how do you deal with that? Samples? Is he hitting consistently enough to trigger reliable samples? And that's just the drummer! I'm forever putting out mixes I'm not 100% happy with and 99% if the ine the fact is, it's the player's fault and their playng has restricted what I can do. Sad but true. Not everyone can be that good. Some great advice here. Like I said, its never happened before and I think I'm just feeling the pressure to better recordings they have done in the past (they asked if i could better them before they came, I said and thought I could!). Although I'v spent hours and hours on these mixes. Im thinking I'll just start again. Forgot what I'v done and give it another shot! Good luck, but unless you know specifically what it is that you want to be different, and in what way, is it not possible that you will end up in the same place in a few days time? Or if you do know that and just can't get it out of the recordings you are working with you might have to start looking at other options (which I know you must be considering), like - recording some parts again - bringing in someone else for a second opinion/a bit of collaboration - taking the mix to a different environment to mix in - sometimes gives a different perspective I am not an industry professional. But when I read this thread, I thought, customer expectation and requirements -- have they truly been defined and understood. Suggest going through the song section by section with band individuals or in groups and making notes on what they want. Effectively, writing down their requirements. Also worth touching on Roles and Responsibilities; i.e. production, mixing etc..... and what they actually mean and what your scope is. Then agree on any conflicts they have for each section. Summarise this and send to them -- get it signed off if needs be. You then have an agreed brief to work with. Sounds a bit formal, but will help you to get to end of job and close this one off against an agreed spec. i, been reading the thread and thought i'd offer my experience with this situation. i've been polishing a turd for a friend recently (read this months sounding off? - exactly that situation). and have left the tracks for about 3 or 4 weeks, come back to them and it all become clear what needed to be done, mostly removing plug ins that wernt needed and automation issues, and it just fell into place. i'd recommend what people have said above and take a break from it and then listen again and make some notes. Good luck with it though it can be tough with pressure from the band.. anyway back to the day job for me this is something i can relate to....i am my own worst critic.....ive been doing this for about 12 years now and still i get things that im not happy with....after about 5 years of recording bands for a living i noticed something....some people cant really play but talk like they can..it started with a drummer that came in one weekend ....he had the best drum kit i have ever seen..all the best extra bits ...spoke at length about all the recording sessions he had done..so i thought \"this is gonna be a easy day\"..that was until he sat behind the kit...it sounded awful...and i got really frustrated because here was a guy with good set of drums ,witha lot of experiance and i was making him sound like crap...so i spent ages helping him tune the drums but everytime i went into the control room to see if i was making any head-way, it still sounded like crap ...at this point the rest of the band turned up .so i said \"how about you go get a coffee or something i will spend a wee bit of time tuning this kit up\"......so i hit record and off i went to tune the kit...now im not saying im a good drummer but when i sat behind this kit i thought it sounded ace so off i went to the control room to see...to my amazment the kit sounded fine..so when he came back i asked him to play some grooves ...to my amazment he was hitting the drums at the edges and was barely touching the kick pedal and hitting the cymbals so hard they didnt make any noise.truth was he was a rich kid that never set foot in a studio or even played a gig. still got a recording done .. was i happy with the mixes ??? nope.....the band thought the mixes and the session was ace 3 months.....wow thats a long time......to be honest if icant get a mix right in a hour i feel something else is wrong the lesson i learned from that weekend..\"not every band is led zepplin\" its about learning how i can change gear to accomadate the client Happy to report that I had a VERY productive session today. Stopped getting so hung up on little things and just ploughed through a tune. Ended up with FAR less processing than prior mixes and am very happy with it. I actually had a friend who is a musician (but in no way a producer/engineer) come over as a second pair of ears. It really helped me and I think I'm all set to blitz through the rest now. \n",
      "\n",
      "IN\n",
      "'Always think of home': an introduction to the Buenos Ayres Notebook The Buenos Ayres Notebook takes its name from the city Buenos Aires ('Good Air' or 'Fair Winds'), on the southern shore of the Ro de la Plata, on the coast of Argentina. The notebook was essentially used in three chronological parts. The first part consists of the front thirteen and the back nineteen pages which seem to have been filled in more or less simultaneously; they both have pin holes indicating that Darwin may have pinned them together. This first part covers Darwin's exploration of Buenos Ayres in the first week of November 1832, thus filling a gap in the previous notebook, Rio . In a letter to his second eldest sister Caroline, Darwin wrote 'I much enjoyed this long cruize onshore', Correspondence vol. 1, p. 277, which had been delayed three months by cholera quarantine restrictions. The second chronological part is in the middle section of the notebook and picks up from the last pages of the Rio Notebook in mid January 1833, with Darwin's first exploration of Tierra del Fuego. See Armstrong 2004 . The notebook was then used continuously until around 7 February, when the Falkland Notebook was used instead. There is, however, a third chronological part of the notebook which is in the last couple of pages of this middle section of the notebook. These pages are dated to the last few days of an unspecified month but which is clearly December 1833. These pages relate to Port Desire [Puerto Deseado] in Patagonia, a thousand miles south of Buenos Ayres. The Beagle arrived there on 23 December 1833. Buenos Ayres, November 1832 The Buenos Ayres descriptions seem to begin just before 1 November 1832 with a mixture of geological observations, zoological memoranda, 'Capinchas dung smells very sweet', p. 16b, and notes on interesting facts Darwin was told, 'it is said that Crocodile occur & small water turtles' p. 2b, some of which would probably turn out to be superstitions, e.g. 'the water has power of turning small bones into large ones', p. 11b. He jotted down various other aides mmoire to himself, 'Museum open every 2 nd Sunday', p. 1a; 'Is M. Video built on granite or the Gneiss?', p. 9b. There is a reference to the unusual 'Mendoza waggons' on p. 6a, which Darwin attempted to draw in his Beagle diary , p. 114 , and a delightful allusion when riding the next day, five leagues west of the City, to botanizing in the Fens: 'very like Cambridgeshire from Poplars &Willows', p. 6a. Darwin's rather limited draughtsmanship is again exposed in some tiny sketches of tables on p. 15b. There are long lists of names and addresses, things to buy and have repaired, 'Dentist', 'Watch mended' p. 1a-2a, books to refer to 'Caldcleughs S. America' on p. 2a; this book, Caldcleugh 1825 , was in the Beagle 's library; 'Spix' on p.10b; ( Spix 1824 ) also in the library with the inscription in volume 2 'Chas. Darwin Octob: 1832 Buenos Ayres'; see Correspondence vol. 1, p. 564, and loans not to be forgotten: 'Mr Hammond owes me 27 paper dollars' p. 3a. It was Lieutenant Robert Hamond (1809-1883) who shared Darwin's interest in the 'Spanish ladies beautiful [dresses] & walk' on p. 5b, an entry which continues with the wonderfully pithy 'went out riding bad roads good horses'. The name Charles Hughes also occurs several times; he was a great help to Darwin in Buenos Ayres and there is a memorandum of information from him in DAR34.14 . As the irreplaceable biographical register in the Correspondence indicates, Hughes had attended Shrewsbury School in 1818-9, the year Darwin started at the same school. Darwin was also impressed by Colonel Harcourt Vernon (1801-1880), 'great traveller', p. 7a, probably one of the first European tourists to tackle an overland trek across South America. Jeff Ollerton has kindly explained to us (personal communication) the rather garbled reference to John Tweedie (1775-1862), a plant collector who had a garden at Retiro. Ollerton has been trying to establish whether Darwin met Tweedie and the fact that he is also mentioned on p. 5a of the St. Fe Notebook tends to support this possibility, which also appears confirmed by a reference in DAR34.13 to information derived from Tweedie. There are many references to bones, 'Oakleys fossil one scapula in true Tosca', p. 15b; Mr Flint an American Merchant has a tooth', p. 13a, indicating where they might be found or bought, obviously reflecting Darwin's great interest in fossils since his dramatic discoveries at Punta Alta a few weeks previously. Darwin probably met the English merchant Edward Lumb, who played an important role with the fossil mammals, on this excursion, pp. 5a,7b. Oakley 'a joiner with red hair', p. 13b, was the agent of Woodbine Parish (1796-1882), the British consular representative. See Winslow 1975 . There is one entry in another hand, presumably John Meggett's; see p. 10b, and a wistful entry for 1 November on p. 4b: 'Very calm delightful days; [quietness] seems to shorten the distance. always think of home'. This entry became 'A calm delightful day. I know not the reason, why such days always lead the mind to think of England and home' in Darwin's Beagle diary, p. 113 . Tierra del Fuego, January-February 1833 There is a jump in time from the above entries made in Buenos Ayres in November 1832 to the second part of the Buenos Ayres Notebook which was begun in Tierra del Fuego on p.14a on 19 January 1833. Since the last dated entry in the Rio Notebook is 20 December 1832, there is an unrecorded gap of about four weeks, obviously due to the appalling weather, which prevented any land excursions. The field notebooks seem only to have been used at sea for very occasional musings, or lists of equipment and so forth which Darwin jotted, presumably in preparation for going ashore. While on the Beagle, Darwin generally bypassed the notebooks and wrote directly into his Beagle diary , scientific notes or, less regularly, letters. It is curious that there is no reference in the last pages of the Rio Notebook to Darwin's first encounter with the native Fuegians, which is described in his Beagle diary entry for 18 December, but this could be explained by the fact that some of the Rio Notebook pages have been excised. As he declared in his Beagle diary, 'it was without exception the most curious and interesting spectacle I ever beheld', p. 122 , and recorded in his Autobiography how 'the sight of a naked savage in his native land is an event which can never be forgotten', p. 80 . Darwin was struck with the realization that his own ancestors lived in a similar way a few thousand years before. Because of the gap in the notebooks, there is also no mention of the terrible storm of 13 January which wrecked several ships in the seas around the southern tip of South America. This storm nearly brought the Beagle voyage, and the lives of all the men onboard, to a premature end. FitzRoy, in Narrative 2: 126 , reported that even in the normally quiet harbour of Berkeley Sound in the Falklands, the whaler Le Magellan was totally wrecked that day. He also says 'Mr Darwin's collections, in the poop and forecastle cabins on deck, were much injured' and the Beagle lost one of its beautiful whale-boats at 1.45pm, when sixty miles WSW of Cape Horn. This latter event was chosen for its drama and historical moment by John Chancellor for his painting Sorely Tried . See Chancellor 2008 . Sorely Tried, HMS Beagle off Cape Horn, 13 January 1833 at 1.45 p.m., by John Chancellor. The Tierra del Fuego notebook entries start on p. 14a at the eastern end of the Beagle Channel. See Armstrong 2004. There are three pages of geology, then the Fuegians enter the account on p. 17a as FitzRoy begins his excursion in four boats to return the three Fuegians to Jemmy Button's country in Ponsonby Sound, together with the young missionary Richard Matthews (1811-1893). The story of how FitzRoy had taken four living Fuegians, plus one dead one preserved for dissection at the Royal College of Surgeons, to England after the Beagle 's first South American commission is of course well known. See the first chapter of Narrative 2 . Of the four living Fuegians, FitzRoy's favourite, who he named Boat Memory, sadly died of small-pox in England. The three who survived their sojourn in England and who were returned were the faithful Jemmy Button [Indian name Orundellico], the young girl Fuegia Basket [Indian name Yokcushlu] who had so enjoyed being presented to Queen Adelaide, and the taciturn and by all accounts rather sinister York Minster [Indian name El'leparu]. Darwin filled several pages with detailed geology and some descriptions of the scenery, then on p. 20a noted the natives' 'wild appearance on hill. naked long hair' and on the next page 'innocent naked most miserable very wet'. On p. 22a he indicated that there was some 'fighting with savages'. Then there are more pages of geology before Darwin recorded on p. 29a camping on a starry night surrounded by 'J Button's quiet people' who although naked were perspiring by the large camp fire. Darwin noted that 'after breakfast' many more natives arrived having 'run so fast that their noses were bleeding', p.30a! This dramatic incident eventually appeared in Darwin's published Journal of researches , p. 240 . There is a remarkable entry in Darwin's geological diary dated January-February 1833 which, quite apart from showing how much zoology Darwin mingled with his geology, also demonstrates that barely a year after leaving England he was noticing how animals are not always found in places they appear to have been originally created. In the entry Darwin wrote 'It is very remarkable that J. Button says there are no foxes or Guanacoes in Hoste island, which in every way appears equally well adapted for them [as Navarin Island]. I found however one mouse! ( DAR32.101 ). Here at Woollya it was decided to build a settlement where Matthews would stay, they hoped on a permanent basis, so the ship's hands cleared the ground and built a hut. Jemmy's three brothers and his mother arrived and Darwin noted, p. 33a, how the natives were surprised by the white mens' skins and their habit of washing themselves. Word spread, and on p. 36a we see that Jemmy's uncle arrived, with friends. It is remarkable that Darwin scarcely broke the flow of his geological observations to record these extraordinary encounters. He was clearly intrigued by the rather complex field relations of the metamorphic rocks (slates, greenstones etc.) and was particularly concerned to disentangle original bedding from superimposed cleavage, as he had been taught by Henslow and (especially) by Sedgwick in the rather similar rocks of North Wales. See Secord 1991 . Anyone who has ever mapped rocks like the clay-slate Darwin was examining knows how difficult it can be to distinguish original bedding from later superimposed cleavage, and it is doubtful if Darwin could have made much sense of the rocks he was seeing if he had not been to Wales with Sedgwick. 'Beds' or 'bedding planes', are the original sedimentary layers, representing the sea bed where the clay accumulated, but they may later be found tipped up (that is 'dipping') or, in extreme cases, upside down. 'Cleavage' adds to the confusion as it results from microscopic re-orientation of certain minerals, such as mica, when subjected to great regional forces, such as the horizontal compression which occurs when continents collide, as was the case in North Wales, where the cleavage planes may be perfect enough to become billiard tables. A clay rock (generally called a shale), once subjected to cleavage becomes a slate. Sedgwick had shown Darwin how, if one can be sure what is bedding and what is cleavage, it is possible to begin to work out the structures which the compression has created, and to work out where the pressure came from. This is why page after page is filled with dips and compass bearings, and Darwin was amazed to discover the immense area over which the cleavage revealed the same orientation. On p. 38a, 26 January 1833, Darwin mentioned some heteromerous beetles he found and after a curious note, 'Bahia Blanca V[ide] De la Beche?' which may be a reference to De La Beche 1831 , he mentioned the 'arrival of women' and the fact that the men seemed to sit watching the women work. On p. 44a the odd events of the night of 27 January were recorded; strangers had arrived and there was 'extreme treachery of character', p. 45a. The geological observations are interspersed with zoological notes, such as 'Fringilla in flocks' and 'whales blowing', then 'fearless barbarians' arrived, p. 50a. Darwin noted that Jemmy may have forgotten his native language but not his prejudices, as he would not eat land birds, and on p. 54a, Darwin described the beautiful beryl blue of the glaciers. See Herbert 1999 . On the same page Darwin mentioned casually his contribution to the saving of one of the ship's boats from being swept away by an iceberg-induced wave. Luckily FitzRoy, in Narrative 2: 217 , left an account of this incident, which could have ended in disaster, in which we can see plainly Darwin's natural modesty and at this time his athletic prowess. The night of the 30/31 January was clearly not much fun and was singled out for a rare dash of ironic humour on p. 59a: 'Miserable sleeping place big stones putrefying sea weed & middle watch. Not all pleasure'. On 1 February near Gordon Island Darwin saw '2 Whale within pistol shot enormous backs and tails', p. 62a. It is difficult to do justice to the many pages of geology, which are partly the basis for Darwin's statement in South America , p. 151 , that his notes on Tierra del were copious. There is reference to various rock formations such as greywacke, granite, gneiss, greenstone, trap, slate, serpentine, schist, hyalomictite, 'amphibolic formation' and so forth, and his extensive mineralogical vocabulary bears witness to his childhood fascination for chemistry and crystallography. There are pages of what today would be called structural geology, following Sedgwick's great interest. Darwin was always trying to make out the big picture: see for example his map of the entrance to Ponsonby Sound on p. 37a. It is perhaps a pity that he never published the geological map of southern South America which is preserved in DAR44 and was published in colour only recently in Herbert 2007 , p. 315. This might have made his published descriptions of the whole region rather easier to follow. Darwin also saw for the first time great boulders which were obviously dropped by glaciers, p. 64a. This first-hand experience of glaciation would be put to good use in 1841 when Darwin, under the influence of Louis Agassiz's glacial theory, re-interpreted the mountains of Snowdonia he had examined with Sedgwick in 1831, without seeing the now obvious signs of recent ice action. See Darwin 1842 . The dramatic and inhospitable scenery surrounding the little Beagle left an indelible impression on the young Darwin who, on p. 76a, allowed himself a romantic flourish: 'Is not Tierra del the Ultima Thule' (i.e. a distant place located beyond the 'borders of the known world'.) Around 6 February an amusing evening was spent bartering for fish, then, p. 74a, Darwin noted Matthews's disappointment at the Fuegians' behaviour. The next evening, p. 77a, Darwin was 'followed by savages' but by firing over their heads he or someone in his party 'frightened them away'. This is the last reference to the Fuegians in this notebook. On 7 February the Beagle was at Navarin Island and Darwin made a rather obscure entry about a 'trench of diluvium', p. 78a. This entry is an interesting link to his 1842 paper on erratic boulders in which he wrote 'I cannot more accurately describe the appearance of the cliffs around Navarin Island, than by the remark which, at the time, I entered in my note-book, \"that a vast debacle appeared to have been suddenly arrested in its course.\" ( Darwin 1842 , p. 420; see Herbert 1999, p. 341). The 'note-book' entry Darwin was referring to is actually in his geological diary and is as follows: 'A Debacle sweeping along has been arrested in its course' ( DAR32.118 ). This is the first of two known cases of Darwin mis-quoting his Beagle notes; it consists in the addition of the intensifying adjectives 'vast' and suddenly'. The second mis-quotation is in South America and is in connection with the Pampean Formation and appears to have been a deliberate attempt to bolster his interpretation of that Formation against that of Alcide d'Orbigny. The original statement is from the St Fe Notebook (see introduction to that notebbok) and consists in the substitution of 'tint and compactness' for the more prosaic 'colour and hardness'. Port Desire, December 1833 The last few dated entries in the Buenos Ayres Notebook relate to Port Desire, and were written just after Christmas 1833. This festival was celebrated by FitzRoy ordering all hands on shore for an 'Olympic Games' involving such curious sports as 'slinging the monkey', as featured in Conrad Martens's watercolour sketched on the spot. See Keynes 1979 , p. 173. By this time the Beagle was accompanied by the schooner Adventure which was purchased by FitzRoy in March 1833, at his own expense, and without Admiralty approval. There are some interesting zoological references on these pages, such as 'scorpion eating other scorpion', p. 87a; this is the 'cannibal scorpion' referred to in a footnote of Journal of researches , p. 194 . 'Good eye sight of Guanaco', p. 88a, and the date of Christmas Eve given in Zoology notes , p. 186 for the guanaco shot by Darwin at Port Desire and described on pp. 80a-81a is especially valuable. Darwin used his handkerchief as an improvised ruler to measure various parts of the unfortunate creature's anatomy. Sadly there is no mention either here or in the continuing entries for Port Desire which occur at the start of the Port Desire Notebook of the 'Avestruz Petise' ('small ostrich or rhea') shot by Martens at this time. This bird, closely related to the larger Rhea americana Darwin was familiar with from further north, was skinned and eaten before Darwin suddenly realised it was the smaller type he had heard about. Just in time he remebered reports of a smaller rhea (see introduction to B Blanca Notebook ) and rescued the head, neck and legs which were sufficient for John Gould's description in 1837 of what he thought was the new species Rhea darwinii. See Birds , pp. 124 -5; actually D'Orbigny had already described it as Rhea pennata in 1834. Herbert 1980, pp. 108 -9 provides excellent photographs of both species. The significance of the Avestruz Petise to Darwin was that it did seem to him to be a different species from the rhea he already knew but with a contiguous geographical range. In other words, one replaced the other going south. This spatial relationship between two closely related bird species struck him as in some way connected to the temporal relationship he had already discovered between the fossil and recent mammals of the same area. Darwin knew that the relationship between the two rheas was a signal of deeper meaning. It was one of the most crucial of the 'certain facts in the distribution of the inhabitants of South America' cited in the first sentence of Origin , p. 1 , which led to his theory of evolution. As so often when on his own, in the last pages of the notebook Darwin waxed lyrical as he reflected, on p. 87a, 'how many hundred years has been. how many will be...sublime view fine colour of rocks'. This reflection was expanded in his Beagle diary to 'All is stillness & desolation. One reflects how many centuries is has thus been & how many more it will thus remain.- Yet in this scence without one bright object, there is high pleasure, which I can neither explain or comprehend. -- ', p. 209 . Finally this became in Journal of researches 'One reflected how many ages the plain had thus lasted, and how many more it was doomed thus to continue.', p. 198 . \n",
      "\n",
      "LY\n",
      "(mick ralphs) [ Lyrics from: http://www.lyricsfreak.com/m/mott+the+ho\\\\... ] It would be a pleasure just to know just a little bit moreoh oh I could grow quite fond of your acquaintance Of this I'm sure The time will open up so many doors for you and me I could spend my days in sweet surrender Knowing you the way I do Lady look at me so warm and tender Yes, it's true, happiness only shared by two, just me and you \n",
      "\n",
      "IP\n",
      "An Acadian-style cabin constructed completely of rough sawed Southern Yellow Pine, surrounded by split rail fence. Reminisce in this country setting - furnished with antiques, hand-crafted furniture, ceiling fans, fully-equipped kitchen, & two full baths (showers) - one upstairs and one down. This cabin is also equipped with central air conditioning and heating, TV/VCR, stereo, and clock radio. Linens, towels, paper products, dish soap, bath soap and trash bags are also provided. Inside - upstairs, wash up for supper in a \"wash tub\" sink using handmade soap, and enjoy a restful nights sleep on a cedar Queen bed with your choice of pillow type - downstairs, enjoy watching tv or listening to the radio... and when you're ready to turn in - the futon sofa folds out into a Double bed. Outside - enjoy the front and back porches, with swing and rocking chairs. As you stroll the yard, you'll reminisce in days - gone - by with a hand-drawn water well, outhouse, tree swing, and shade trees draped in Spanish Moss. Watch a western view of the sunset, in the distance, behind a Dutch windmill - which Paul Harvey once described as, \" a pint-sized lighthouse.\" For your outdoor cooking enjoyment, there's a wooden deck with charcoal grill. And don't forget to pray for rain, so that you can enjoy the sounds of raindrops on a tin roof! Languages English Meals Included in Rates Breakfast Other Amenities Details An Acadian-style cabin constructed completely of rough sawed Southern Yellow Pine, surrounded by split rail fence. Reminisce in this country setting - furnished with antiques, hand-crafted furniture, ceiling fans, fully-equipped kitchen, & two full baths (showers) - one upstairs and one down. This cabin is also equipped with central air conditioning and heating, TV/VCR, stereo, and clock radio. Linens, towels, paper products, dish soap, bath soap and trash bags are also provided. Inside - upstairs, wash up for supper in a \"wash tub\" sink using handmade soap, and enjoy a restful nights sleep on a cedar Queen bed with your choice of pillow type - downstairs, enjoy watching tv or listening to the radio... and when you're ready to turn in - the futon sofa folds out into a Double bed. Outside - enjoy the front and back porches, with swing and rocking chairs. As you stroll the yard, you'll reminisce in days - gone - by with a hand-drawn water well, outhouse, tree swing, and shade trees draped in Spanish Moss. Watch a western view of the sunset, in the distance, behind a Dutch windmill - which Paul Harvey once described as, \"... a pint-sized lighthouse.\" For your outdoor cooking enjoyment, there's a wooden deck with charcoal grill. And don't forget to pray for rain, so that you can enjoy the sounds of raindrops on a tin roof! \n",
      "\n",
      "HI\n",
      "Public speaking is something that most of us have to do at some time in our lives, but most of us would rather not do. This experience starts in school. Giving a speech can be rather unpleasant, but with the proper preparation and enough confidence, it can be easy or even enjoyable. Here is a guide on how to give an oral presentation in front of your class. Decide on a topic . Make sure it's something you are interested in. If you already have some knowledge on the subject, that's a plus, but for most presentations you will be expected to do some amount of research. 2 Research your topic thoroughly . Take detailed notes. 3 Sort your notes . Decide which information is necessary, and what can be cut. (a hi-lighter pen can be very useful here) 4 Make an outline . Start rough and general, then get specific. 5 Familiarize yourself with your topic and write your speech as if it were an essay . Learn the content of the essay well. 6 Write or print notes on index cards . These should be key points in your outline (to keep you on topic) and details and statistics (that would be too difficult to remember). 7 Practice your speech out loud until you are confident with it . It doesn't have to be identical to your essay in wording, but try to keep the content the same. 8 Try giving the speech to things around your room . A teddy-bear, a vase, or even the T.V. will be fine. 9 Choose what visual aids (if any) you will use to enhance your presentation . 10 Once you have learned it well, practice your presentation in front of family members and/or friends . They can give you support, feedback, and help make you comfortable with speaking in front of people. Try to look at your audience, not the floor or the desk in front of you. If it makes you uncomfortable to make eye contact, look at people's foreheads or an object that's near a person, like a box on a shelf behind someone. Be confident! You know more about your topic than the other people in your class, so be proud of what you have to tell them and enjoy yourself. If your voice is not loud or you are not confident--or if you're terrified--ask your teacher beforehand if you can go first or second. Ask immediately for going \"as soon as possible\" so you can get it done before you worry to much (note this works if you stay calm and breathe naturally). When you are speaking and get nervous just focus on anything but the people. Look at a wall clock and focus on it. Look around occasionally or else you look like you are a unmoving picture with a mouth. Don't look down at your feet! Looking at your feet shows that you don't feel confident and makes people want to just go to sleep. Your feet aren't that pretty. Practice standing still, not rocking back and forth, bouncing, etcetera. While you're up there, remember: everyone watching you is so nervous about their own presentations, they're probably not paying all that much attention to you! Featured Articles Meet a Community Member Meet JirachiQueen , a wikiHow editor for 2 years now who loves bold editing, contributing to the Youth Project , and helping out other wikiHowians. She considers wikiHow her \"second family\" and appreciates that everyone is always ready to lend a helping hand. Her favorite article on wikiHow is How to Know if a Guy Likes You . \n",
      "\n",
      "SP\n",
      "Puppet Theme Parks: Reimagining LittleBigPlanet From video games to comics, many artists find themselves tasked with finding ways to evolve an established franchise, which can be particularly tricky when dealing with an iconic visual style. To find out how it's done, we spoke to Greg Juby, Art Director at United Front Games to discover how the creative team behind LittleBigPlanet Karting picked up where Media Molecule began with hugely popular LittleBigPlanet series. -------- The LittleBigPlanet series is renowned for having a striking visual style that looks deceptively simple. What are the tricks to creating art that effectively mixes simplicity with style? It really is deceptive!  When I first approached the project as a huge LittleBigPlanet fan from day one, I was excited, but I wasn't sure there would be enough challenge in it for me.  I mean, the LBP games have the most amazing art direction, but I felt like the hard work had already been done. I was wrong! I think the beautiful simplicity of LBP comes from it's very carefully selected reference points. Each theme in LBP takes just a couple of key ideas (sometimes seemingly opposite) and throws them in a blender. But not more than a couple, too much and it's just a pile of stuff.  Kareem Ettouney, the art director at Media Molecule always said, Mash up, not mish mash! -------- -------- What kinds of challenges did you face with replicating LBP's iconic 2D puppet aesthetic into a 3D space? LittleBigPlanet Karting is made up of roughly half familiar LBP themes and half new ones we came up with for this game.  For the familiar ones, we knew the big 'wow' would be to see a familiar level style from one of the other games and then drive right through it in 3D. But therein lies the problem. The whole LBP aesthetic is puppet theatre; everything hangs on that. It's all based on telling a story on a shallow stage. So what happens when you try to have the same aesthetic in a wide open space? You fail a lot. First, we tried to use all 3D objects, but it just wasn't LBP. We discovered that the 2D props were key to the look and feel. Ultimately, we retuned the core visual statement for our new context: if LBP is a puppet theatre, then LBPK is a puppet theme park, because a theme park ride is really a stage show that you drive through. That ended up informing a lot of the decisions we made, especially around staging the levels. How did you balance established LBP concepts with your own unique ideas? When it came to creating our own themes, the challenge was even more daunting.  Our goal was to create something that was unmistakably LBP, which is insane! When you play LBP 1 or 2, you find yourself saying, \"How did they come up with this?!\"At first glance it all seems so random, but at the same time it all fits together.  It's coherent and it works.  I spent an incredible amount of time deconstructing the visual design of LBP, but fortunately I had some help. I had the immense pleasure of working with Kareem Ettouney, who broke down the elements of the LBP visual style for me. Many of the themes in LBP go back to the core idea that a strong identity is created from clever juxtaposition.  Any more, and it turns to mush quickly. Our new themes followed that same idea; we started with a variety of environments that would provide interesting backdrops and expanded from there. We set one in a 1970's night club and combined elements of graphic design and musical instruments from that era to create a space-funk theme called The Space Bass. Another theme, called The Progress Emporium, was set in a 1950's kitchen and played with the mid-century vision of the future that never happened. We juxtaposed visuals from 50's advertising and World's Fair optimism with the reality of objects and materials found in a kitchen of the time. Once those themes are set, it becomes quickly clear if an idea works within the context or if it should be discarded. -------- -------- How did your team handle Sackboy's transition from a user-defined character to a new driving role? The biggest challenges were in working with Sackboy in his new role, as the driver of a kart.  We're used to seeing him from the side or facing us, full bodied, with all of his charming expressions on full display. Driving in the kart, without lots of animation details where he's looking around and gesturing, we'd only see the back of his head. We also ran into a lot of technical challenges with some of the more outlandish costume pieces from LBP.  Getting those to behave with all the different karts was a lot of work. Some of the headgear had long soft body flowing bits that would penetrate with the back of the kart, so we had to do a lot of trickery to minimize that. One of LBP's key features is user customization. Why do you think people find the idea of being able to create their own experiences so appealing? LittleBigPlanet is a wonderful vehicle for creativity. For the millions of creators out there, I think it's about making something that didn't exist before, something that can be cool in exactly the way they want it to be, not coming from someone who is trying to appeal to a mass audience. They can put something together just to make themselves smile. There's a charge that comes from looking at a thing that you've created, a real sense of achievement, and then to upload it for the world to see and enjoy that feeling can be addictive. \n"
     ]
    }
   ],
   "source": [
    "# for each genre, print one text example\n",
    "for genre in df_train[\"genre\"].unique():\n",
    "    print(genre)\n",
    "    print(df_train[df_train[\"genre\"] == genre].iloc[0][\"text\"])\n",
    "    print()"
   ],
   "metadata": {
    "collapsed": false,
    "ExecuteTime": {
     "end_time": "2024-12-11T18:27:54.624987Z",
     "start_time": "2024-12-11T18:27:54.598272Z"
    }
   },
   "id": "1ca8aa274a690137"
  },
  {
   "cell_type": "code",
   "execution_count": 17,
   "outputs": [
    {
     "data": {
      "text/plain": "     register  document_id                                               text  \\\n0          IN        54888  Australian prisoners of war: Second World War ...   \n1       IN OI       540314  DEFINITION About a quarter of the world drives...   \n2       OP OB      3281556  How should retail investors own gold? Mostly p...   \n3       NA NE       723677  Famed railway leader Hunter Harrison said he i...   \n4       NA NE        85712  Louis Walsh also claimed that Gary Barlow and ...   \n...       ...          ...                                                ...   \n9681      NaN      1789364  Story: Evolution of plants and animals About 8...   \n9682    NA NE       600500  The nationwide smoking ban has triggered the b...   \n9683    OP OB      3028345  Life in small business and local politics \"Opp...   \n9684    NA NE       586681  We'd like to let you know that this site uses ...   \n9685       IN      3155865  Wednesday, October 31, 2012 In the new year, w...   \n\n        full_label genre  \n0           ['IN']    IN  \n1     ['IN', 'OI']    IN  \n2     ['OP', 'OB']    OP  \n3     ['NA', 'NE']    NA  \n4     ['NA', 'NE']    NA  \n...            ...   ...  \n9681        ['NA']    NA  \n9682  ['NA', 'NE']    NA  \n9683  ['OP', 'OB']    OP  \n9684  ['NA', 'NE']    NA  \n9685        ['IN']    IN  \n\n[8428 rows x 5 columns]",
      "text/html": "<div>\n<style scoped>\n    .dataframe tbody tr th:only-of-type {\n        vertical-align: middle;\n    }\n\n    .dataframe tbody tr th {\n        vertical-align: top;\n    }\n\n    .dataframe thead th {\n        text-align: right;\n    }\n</style>\n<table border=\"1\" class=\"dataframe\">\n  <thead>\n    <tr style=\"text-align: right;\">\n      <th></th>\n      <th>register</th>\n      <th>document_id</th>\n      <th>text</th>\n      <th>full_label</th>\n      <th>genre</th>\n    </tr>\n  </thead>\n  <tbody>\n    <tr>\n      <th>0</th>\n      <td>IN</td>\n      <td>54888</td>\n      <td>Australian prisoners of war: Second World War ...</td>\n      <td>['IN']</td>\n      <td>IN</td>\n    </tr>\n    <tr>\n      <th>1</th>\n      <td>IN OI</td>\n      <td>540314</td>\n      <td>DEFINITION About a quarter of the world drives...</td>\n      <td>['IN', 'OI']</td>\n      <td>IN</td>\n    </tr>\n    <tr>\n      <th>2</th>\n      <td>OP OB</td>\n      <td>3281556</td>\n      <td>How should retail investors own gold? Mostly p...</td>\n      <td>['OP', 'OB']</td>\n      <td>OP</td>\n    </tr>\n    <tr>\n      <th>3</th>\n      <td>NA NE</td>\n      <td>723677</td>\n      <td>Famed railway leader Hunter Harrison said he i...</td>\n      <td>['NA', 'NE']</td>\n      <td>NA</td>\n    </tr>\n    <tr>\n      <th>4</th>\n      <td>NA NE</td>\n      <td>85712</td>\n      <td>Louis Walsh also claimed that Gary Barlow and ...</td>\n      <td>['NA', 'NE']</td>\n      <td>NA</td>\n    </tr>\n    <tr>\n      <th>...</th>\n      <td>...</td>\n      <td>...</td>\n      <td>...</td>\n      <td>...</td>\n      <td>...</td>\n    </tr>\n    <tr>\n      <th>9681</th>\n      <td>NaN</td>\n      <td>1789364</td>\n      <td>Story: Evolution of plants and animals About 8...</td>\n      <td>['NA']</td>\n      <td>NA</td>\n    </tr>\n    <tr>\n      <th>9682</th>\n      <td>NA NE</td>\n      <td>600500</td>\n      <td>The nationwide smoking ban has triggered the b...</td>\n      <td>['NA', 'NE']</td>\n      <td>NA</td>\n    </tr>\n    <tr>\n      <th>9683</th>\n      <td>OP OB</td>\n      <td>3028345</td>\n      <td>Life in small business and local politics \"Opp...</td>\n      <td>['OP', 'OB']</td>\n      <td>OP</td>\n    </tr>\n    <tr>\n      <th>9684</th>\n      <td>NA NE</td>\n      <td>586681</td>\n      <td>We'd like to let you know that this site uses ...</td>\n      <td>['NA', 'NE']</td>\n      <td>NA</td>\n    </tr>\n    <tr>\n      <th>9685</th>\n      <td>IN</td>\n      <td>3155865</td>\n      <td>Wednesday, October 31, 2012 In the new year, w...</td>\n      <td>['IN']</td>\n      <td>IN</td>\n    </tr>\n  </tbody>\n</table>\n<p>8428 rows × 5 columns</p>\n</div>"
     },
     "execution_count": 17,
     "metadata": {},
     "output_type": "execute_result"
    }
   ],
   "source": [
    "df_test"
   ],
   "metadata": {
    "collapsed": false,
    "ExecuteTime": {
     "end_time": "2024-12-13T10:27:11.028293Z",
     "start_time": "2024-12-13T10:27:11.018235Z"
    }
   },
   "id": "c40fe3e817c3a928"
  },
  {
   "cell_type": "code",
   "execution_count": null,
   "outputs": [],
   "source": [],
   "metadata": {
    "collapsed": false
   },
   "id": "6be1c99894164fc1"
  }
 ],
 "metadata": {
  "kernelspec": {
   "display_name": "Python 3",
   "language": "python",
   "name": "python3"
  },
  "language_info": {
   "codemirror_mode": {
    "name": "ipython",
    "version": 2
   },
   "file_extension": ".py",
   "mimetype": "text/x-python",
   "name": "python",
   "nbconvert_exporter": "python",
   "pygments_lexer": "ipython2",
   "version": "2.7.6"
  }
 },
 "nbformat": 4,
 "nbformat_minor": 5
}
