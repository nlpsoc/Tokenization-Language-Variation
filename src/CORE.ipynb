{
 "cells": [
  {
   "cell_type": "code",
   "execution_count": 32,
   "id": "initial_id",
   "metadata": {
    "collapsed": true,
    "ExecuteTime": {
     "end_time": "2024-12-11T18:13:06.765884Z",
     "start_time": "2024-12-11T18:13:04.382873Z"
    }
   },
   "outputs": [],
   "source": [
    "import pandas as pd\n",
    "import ast\n",
    "# load tsv files\n",
    "df_train = pd.read_csv('../data/CORE/multilabel_train.tsv', sep='\\t')\n",
    "df_train[\"label\"] = df_train[\"label\"].apply(ast.literal_eval)\n",
    "df_val = pd.read_csv('../data/CORE/multilabel_dev.tsv', sep='\\t')\n",
    "df_val[\"label\"] = df_val[\"label\"].apply(ast.literal_eval)\n",
    "df_test = pd.read_csv('../data/CORE/multilabel_test.tsv', sep='\\t')\n",
    "df_test[\"label\"] = df_test[\"label\"].apply(ast.literal_eval)"
   ]
  },
  {
   "cell_type": "code",
   "execution_count": 33,
   "outputs": [
    {
     "data": {
      "text/plain": "          register  document_id  \\\n0            OP AV       348059   \n1      NA OP SR OB      3086555   \n2            NA NE       355982   \n3            ID DF       437920   \n4            NA SR       389025   \n...            ...          ...   \n33900        NA NE      3254903   \n33901        ID DF      3271108   \n33902        NA NE        94422   \n33903        NA NE       263285   \n33904        OTHER       190517   \n\n                                                    text  \\\n0      Talk To Your Parents Sometimes, people just do...   \n1      The Top TEN 'Whiniest Sets of Fans' in English...   \n2      Ferry consultation needs deeper questions, say...   \n3      I'v been recording and mixing music for about ...   \n4      The 25-year-old did have chances at Anfield. B...   \n...                                                  ...   \n33900  DFL appears poised to regain Minnesota Senate ...   \n33901  If this is your first visit, be sure to check ...   \n33902  British Gas has increased energy prices by an ...   \n33903  Mitt Romney says U.S. Navy is smallest since 1...   \n33904  Mao's New World: Political Culture in the Earl...   \n\n                     full_label     label  \n0                  ['OP', 'AV']      [OP]  \n1      ['NA', 'OP', 'SR', 'OB']  [NA, OP]  \n2                  ['NA', 'NE']      [NA]  \n3                  ['ID', 'DF']      [ID]  \n4                  ['NA', 'SR']      [NA]  \n...                         ...       ...  \n33900              ['NA', 'NE']      [NA]  \n33901              ['ID', 'DF']      [ID]  \n33902              ['NA', 'NE']      [NA]  \n33903              ['NA', 'NE']      [NA]  \n33904                 ['OTHER']   [OTHER]  \n\n[33905 rows x 5 columns]",
      "text/html": "<div>\n<style scoped>\n    .dataframe tbody tr th:only-of-type {\n        vertical-align: middle;\n    }\n\n    .dataframe tbody tr th {\n        vertical-align: top;\n    }\n\n    .dataframe thead th {\n        text-align: right;\n    }\n</style>\n<table border=\"1\" class=\"dataframe\">\n  <thead>\n    <tr style=\"text-align: right;\">\n      <th></th>\n      <th>register</th>\n      <th>document_id</th>\n      <th>text</th>\n      <th>full_label</th>\n      <th>label</th>\n    </tr>\n  </thead>\n  <tbody>\n    <tr>\n      <th>0</th>\n      <td>OP AV</td>\n      <td>348059</td>\n      <td>Talk To Your Parents Sometimes, people just do...</td>\n      <td>['OP', 'AV']</td>\n      <td>[OP]</td>\n    </tr>\n    <tr>\n      <th>1</th>\n      <td>NA OP SR OB</td>\n      <td>3086555</td>\n      <td>The Top TEN 'Whiniest Sets of Fans' in English...</td>\n      <td>['NA', 'OP', 'SR', 'OB']</td>\n      <td>[NA, OP]</td>\n    </tr>\n    <tr>\n      <th>2</th>\n      <td>NA NE</td>\n      <td>355982</td>\n      <td>Ferry consultation needs deeper questions, say...</td>\n      <td>['NA', 'NE']</td>\n      <td>[NA]</td>\n    </tr>\n    <tr>\n      <th>3</th>\n      <td>ID DF</td>\n      <td>437920</td>\n      <td>I'v been recording and mixing music for about ...</td>\n      <td>['ID', 'DF']</td>\n      <td>[ID]</td>\n    </tr>\n    <tr>\n      <th>4</th>\n      <td>NA SR</td>\n      <td>389025</td>\n      <td>The 25-year-old did have chances at Anfield. B...</td>\n      <td>['NA', 'SR']</td>\n      <td>[NA]</td>\n    </tr>\n    <tr>\n      <th>...</th>\n      <td>...</td>\n      <td>...</td>\n      <td>...</td>\n      <td>...</td>\n      <td>...</td>\n    </tr>\n    <tr>\n      <th>33900</th>\n      <td>NA NE</td>\n      <td>3254903</td>\n      <td>DFL appears poised to regain Minnesota Senate ...</td>\n      <td>['NA', 'NE']</td>\n      <td>[NA]</td>\n    </tr>\n    <tr>\n      <th>33901</th>\n      <td>ID DF</td>\n      <td>3271108</td>\n      <td>If this is your first visit, be sure to check ...</td>\n      <td>['ID', 'DF']</td>\n      <td>[ID]</td>\n    </tr>\n    <tr>\n      <th>33902</th>\n      <td>NA NE</td>\n      <td>94422</td>\n      <td>British Gas has increased energy prices by an ...</td>\n      <td>['NA', 'NE']</td>\n      <td>[NA]</td>\n    </tr>\n    <tr>\n      <th>33903</th>\n      <td>NA NE</td>\n      <td>263285</td>\n      <td>Mitt Romney says U.S. Navy is smallest since 1...</td>\n      <td>['NA', 'NE']</td>\n      <td>[NA]</td>\n    </tr>\n    <tr>\n      <th>33904</th>\n      <td>OTHER</td>\n      <td>190517</td>\n      <td>Mao's New World: Political Culture in the Earl...</td>\n      <td>['OTHER']</td>\n      <td>[OTHER]</td>\n    </tr>\n  </tbody>\n</table>\n<p>33905 rows × 5 columns</p>\n</div>"
     },
     "execution_count": 33,
     "metadata": {},
     "output_type": "execute_result"
    }
   ],
   "source": [
    "df_train"
   ],
   "metadata": {
    "collapsed": false,
    "ExecuteTime": {
     "end_time": "2024-12-11T18:13:06.772418Z",
     "start_time": "2024-12-11T18:13:06.769397Z"
    }
   },
   "id": "e6a5e86b53c7d697"
  },
  {
   "cell_type": "code",
   "execution_count": 34,
   "outputs": [
    {
     "data": {
      "text/plain": "label\n[NA]        12369\n[IN]         6522\n[OP]         5506\n[ID]         2293\n[NA, IN]     1250\n[NA, OP]     1135\n[HI]         1045\n[IP]          932\n[IN, OP]      502\n[LY]          448\n[SP]          409\n[OTHER]       407\n[IN, IP]      296\n[IN, HI]      247\n[OP, HI]      110\n[OP, IP]      105\n[NA, SP]       60\n[OP, ID]       59\n[NA, IP]       58\n[IN, ID]       29\n[IN, SP]       26\n[NA, ID]       19\n[OP, SP]       14\n[NA, HI]       11\n[NA, LY]       11\n[OP, LY]       10\n[ID, HI]        9\n[HI, IP]        8\n[IN, LY]        6\n[ID, SP]        3\n[ID, IP]        2\n[HI, LY]        2\n[IP, SP]        1\n[HI, SP]        1\nName: count, dtype: int64"
     },
     "execution_count": 34,
     "metadata": {},
     "output_type": "execute_result"
    }
   ],
   "source": [
    "df_train[\"label\"].value_counts()"
   ],
   "metadata": {
    "collapsed": false,
    "ExecuteTime": {
     "end_time": "2024-12-11T18:13:06.781041Z",
     "start_time": "2024-12-11T18:13:06.778412Z"
    }
   },
   "id": "cf577ff696b5f238"
  },
  {
   "cell_type": "code",
   "execution_count": 29,
   "outputs": [
    {
     "name": "stderr",
     "output_type": "stream",
     "text": [
      "/var/folders/9t/lg86d6h9261dz33jq7hsw5ph0000gn/T/ipykernel_7026/326882372.py:4: SettingWithCopyWarning: \n",
      "A value is trying to be set on a copy of a slice from a DataFrame.\n",
      "Try using .loc[row_indexer,col_indexer] = value instead\n",
      "\n",
      "See the caveats in the documentation: https://pandas.pydata.org/pandas-docs/stable/user_guide/indexing.html#returning-a-view-versus-a-copy\n",
      "  df[\"label\"] = df[\"label\"].apply(lambda x: x[0])\n"
     ]
    }
   ],
   "source": [
    "# only keep rows where label is exactly one label in the list and replace that entry with that entry without the list\n",
    "def clean_labels(df):\n",
    "    df = df[df[\"label\"].apply(lambda x: len(x) == 1)]\n",
    "    df[\"label\"] = df[\"label\"].apply(lambda x: x[0])\n",
    "    df = df[df[\"label\"] != \"OTHER\"]\n",
    "    return df\n",
    "df_val = clean_labels(df_val)\n",
    "df_test = clean_labels(df_test)\n",
    "df_train = clean_labels(df_train)"
   ],
   "metadata": {
    "collapsed": false,
    "ExecuteTime": {
     "end_time": "2024-12-11T18:03:52.307622Z",
     "start_time": "2024-12-11T18:03:52.281626Z"
    }
   },
   "id": "be0453e4f09d62c7"
  },
  {
   "cell_type": "code",
   "execution_count": 30,
   "outputs": [
    {
     "data": {
      "text/plain": "      register  document_id  \\\n0        OP AV       348059   \n2        NA NE       355982   \n3        ID DF       437920   \n4        NA SR       389025   \n6        NA NE      3337703   \n...        ...          ...   \n33899       IN       522619   \n33900    NA NE      3254903   \n33901    ID DF      3271108   \n33902    NA NE        94422   \n33903    NA NE       263285   \n\n                                                    text    full_label label  \n0      Talk To Your Parents Sometimes, people just do...  ['OP', 'AV']    OP  \n2      Ferry consultation needs deeper questions, say...  ['NA', 'NE']    NA  \n3      I'v been recording and mixing music for about ...  ['ID', 'DF']    ID  \n4      The 25-year-old did have chances at Anfield. B...  ['NA', 'SR']    NA  \n6      The value of NYC housing construction starts m...  ['NA', 'NE']    NA  \n...                                                  ...           ...   ...  \n33899  A number of websites purport to have tickets f...        ['IN']    IN  \n33900  DFL appears poised to regain Minnesota Senate ...  ['NA', 'NE']    NA  \n33901  If this is your first visit, be sure to check ...  ['ID', 'DF']    ID  \n33902  British Gas has increased energy prices by an ...  ['NA', 'NE']    NA  \n33903  Mitt Romney says U.S. Navy is smallest since 1...  ['NA', 'NE']    NA  \n\n[29524 rows x 5 columns]",
      "text/html": "<div>\n<style scoped>\n    .dataframe tbody tr th:only-of-type {\n        vertical-align: middle;\n    }\n\n    .dataframe tbody tr th {\n        vertical-align: top;\n    }\n\n    .dataframe thead th {\n        text-align: right;\n    }\n</style>\n<table border=\"1\" class=\"dataframe\">\n  <thead>\n    <tr style=\"text-align: right;\">\n      <th></th>\n      <th>register</th>\n      <th>document_id</th>\n      <th>text</th>\n      <th>full_label</th>\n      <th>label</th>\n    </tr>\n  </thead>\n  <tbody>\n    <tr>\n      <th>0</th>\n      <td>OP AV</td>\n      <td>348059</td>\n      <td>Talk To Your Parents Sometimes, people just do...</td>\n      <td>['OP', 'AV']</td>\n      <td>OP</td>\n    </tr>\n    <tr>\n      <th>2</th>\n      <td>NA NE</td>\n      <td>355982</td>\n      <td>Ferry consultation needs deeper questions, say...</td>\n      <td>['NA', 'NE']</td>\n      <td>NA</td>\n    </tr>\n    <tr>\n      <th>3</th>\n      <td>ID DF</td>\n      <td>437920</td>\n      <td>I'v been recording and mixing music for about ...</td>\n      <td>['ID', 'DF']</td>\n      <td>ID</td>\n    </tr>\n    <tr>\n      <th>4</th>\n      <td>NA SR</td>\n      <td>389025</td>\n      <td>The 25-year-old did have chances at Anfield. B...</td>\n      <td>['NA', 'SR']</td>\n      <td>NA</td>\n    </tr>\n    <tr>\n      <th>6</th>\n      <td>NA NE</td>\n      <td>3337703</td>\n      <td>The value of NYC housing construction starts m...</td>\n      <td>['NA', 'NE']</td>\n      <td>NA</td>\n    </tr>\n    <tr>\n      <th>...</th>\n      <td>...</td>\n      <td>...</td>\n      <td>...</td>\n      <td>...</td>\n      <td>...</td>\n    </tr>\n    <tr>\n      <th>33899</th>\n      <td>IN</td>\n      <td>522619</td>\n      <td>A number of websites purport to have tickets f...</td>\n      <td>['IN']</td>\n      <td>IN</td>\n    </tr>\n    <tr>\n      <th>33900</th>\n      <td>NA NE</td>\n      <td>3254903</td>\n      <td>DFL appears poised to regain Minnesota Senate ...</td>\n      <td>['NA', 'NE']</td>\n      <td>NA</td>\n    </tr>\n    <tr>\n      <th>33901</th>\n      <td>ID DF</td>\n      <td>3271108</td>\n      <td>If this is your first visit, be sure to check ...</td>\n      <td>['ID', 'DF']</td>\n      <td>ID</td>\n    </tr>\n    <tr>\n      <th>33902</th>\n      <td>NA NE</td>\n      <td>94422</td>\n      <td>British Gas has increased energy prices by an ...</td>\n      <td>['NA', 'NE']</td>\n      <td>NA</td>\n    </tr>\n    <tr>\n      <th>33903</th>\n      <td>NA NE</td>\n      <td>263285</td>\n      <td>Mitt Romney says U.S. Navy is smallest since 1...</td>\n      <td>['NA', 'NE']</td>\n      <td>NA</td>\n    </tr>\n  </tbody>\n</table>\n<p>29524 rows × 5 columns</p>\n</div>"
     },
     "execution_count": 30,
     "metadata": {},
     "output_type": "execute_result"
    }
   ],
   "source": [
    "# count occurences of each label and do stratified sampling\n",
    "df_train"
   ],
   "metadata": {
    "collapsed": false,
    "ExecuteTime": {
     "end_time": "2024-12-11T18:03:57.948698Z",
     "start_time": "2024-12-11T18:03:57.945496Z"
    }
   },
   "id": "88bbb9cd5ddf8a68"
  },
  {
   "cell_type": "code",
   "execution_count": 31,
   "outputs": [],
   "source": [
    "# rename label to single genre\n",
    "df_train = df_train.rename(columns={\"label\": \"genre\"})\n",
    "df_val = df_val.rename(columns={\"label\": \"genre\"})\n",
    "df_test = df_test.rename(columns={\"label\": \"genre\"})\n",
    "# save\n",
    "df_train.to_csv('../data/CORE/multilabel_train_cleaned.tsv', sep='\\t', index=False)\n",
    "df_val.to_csv('../data/CORE/multilabel_dev_cleaned.tsv', sep='\\t', index=False)\n",
    "df_test.to_csv('../data/CORE/multilabel_test_cleaned.tsv', sep='\\t', index=False)"
   ],
   "metadata": {
    "collapsed": false,
    "ExecuteTime": {
     "end_time": "2024-12-11T18:05:40.874622Z",
     "start_time": "2024-12-11T18:05:38.218800Z"
    }
   },
   "id": "f25963613d82b02"
  },
  {
   "cell_type": "code",
   "execution_count": null,
   "outputs": [],
   "source": [],
   "metadata": {
    "collapsed": false
   },
   "id": "1ca8aa274a690137"
  }
 ],
 "metadata": {
  "kernelspec": {
   "display_name": "Python 3",
   "language": "python",
   "name": "python3"
  },
  "language_info": {
   "codemirror_mode": {
    "name": "ipython",
    "version": 2
   },
   "file_extension": ".py",
   "mimetype": "text/x-python",
   "name": "python",
   "nbconvert_exporter": "python",
   "pygments_lexer": "ipython2",
   "version": "2.7.6"
  }
 },
 "nbformat": 4,
 "nbformat_minor": 5
}
