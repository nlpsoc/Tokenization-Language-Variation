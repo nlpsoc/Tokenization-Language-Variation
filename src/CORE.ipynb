{
 "cells": [
  {
   "cell_type": "code",
   "execution_count": 30,
   "id": "initial_id",
   "metadata": {
    "collapsed": true,
    "ExecuteTime": {
     "end_time": "2024-12-13T10:45:17.976607Z",
     "start_time": "2024-12-13T10:45:15.422288Z"
    }
   },
   "outputs": [],
   "source": [
    "import pandas as pd\n",
    "import ast\n",
    "# load tsv files\n",
    "df_train = pd.read_csv('../data/CORE/multilabel_train.tsv', sep='\\t')\n",
    "df_train[\"label\"] = df_train[\"label\"].apply(ast.literal_eval)\n",
    "df_val = pd.read_csv('../data/CORE/multilabel_dev.tsv', sep='\\t')\n",
    "df_val[\"label\"] = df_val[\"label\"].apply(ast.literal_eval)\n",
    "df_test = pd.read_csv('../data/CORE/multilabel_test.tsv', sep='\\t')\n",
    "df_test[\"label\"] = df_test[\"label\"].apply(ast.literal_eval)"
   ]
  },
  {
   "cell_type": "code",
   "execution_count": 31,
   "outputs": [
    {
     "name": "stdout",
     "output_type": "stream",
     "text": [
      "label\n",
      "[NA]        12369\n",
      "[IN]         6522\n",
      "[OP]         5506\n",
      "[ID]         2293\n",
      "[NA, IN]     1250\n",
      "[NA, OP]     1135\n",
      "[HI]         1045\n",
      "[IP]          932\n",
      "[IN, OP]      502\n",
      "[LY]          448\n",
      "[SP]          409\n",
      "[OTHER]       407\n",
      "[IN, IP]      296\n",
      "[IN, HI]      247\n",
      "[OP, HI]      110\n",
      "[OP, IP]      105\n",
      "[NA, SP]       60\n",
      "[OP, ID]       59\n",
      "[NA, IP]       58\n",
      "[IN, ID]       29\n",
      "[IN, SP]       26\n",
      "[NA, ID]       19\n",
      "[OP, SP]       14\n",
      "[NA, HI]       11\n",
      "[NA, LY]       11\n",
      "[OP, LY]       10\n",
      "[ID, HI]        9\n",
      "[HI, IP]        8\n",
      "[IN, LY]        6\n",
      "[ID, SP]        3\n",
      "[ID, IP]        2\n",
      "[HI, LY]        2\n",
      "[IP, SP]        1\n",
      "[HI, SP]        1\n",
      "Name: count, dtype: int64\n"
     ]
    },
    {
     "name": "stderr",
     "output_type": "stream",
     "text": [
      "/var/folders/9t/lg86d6h9261dz33jq7hsw5ph0000gn/T/ipykernel_4758/1839797585.py:6: SettingWithCopyWarning: \n",
      "A value is trying to be set on a copy of a slice from a DataFrame.\n",
      "Try using .loc[row_indexer,col_indexer] = value instead\n",
      "\n",
      "See the caveats in the documentation: https://pandas.pydata.org/pandas-docs/stable/user_guide/indexing.html#returning-a-view-versus-a-copy\n",
      "  df[\"label\"] = df[\"label\"].apply(lambda x: x[0])\n"
     ]
    }
   ],
   "source": [
    "# problem: some texts have multiple labels\n",
    "print(df_train[\"label\"].value_counts())\n",
    "# SOLUTION: only keep rows where label is exactly one label in the list and replace that entry with that entry without the list\n",
    "def clean_labels(df):\n",
    "    df = df[df[\"label\"].apply(lambda x: len(x) == 1)]\n",
    "    df[\"label\"] = df[\"label\"].apply(lambda x: x[0])\n",
    "    df = df[df[\"label\"] != \"OTHER\"]\n",
    "    return df\n",
    "df_val = clean_labels(df_val)\n",
    "df_test = clean_labels(df_test)\n",
    "df_train = clean_labels(df_train)\n",
    "# rename label to single genre\n",
    "df_train = df_train.rename(columns={\"label\": \"genre\"})\n",
    "df_val = df_val.rename(columns={\"label\": \"genre\"})\n",
    "df_test = df_test.rename(columns={\"label\": \"genre\"})"
   ],
   "metadata": {
    "collapsed": false,
    "ExecuteTime": {
     "end_time": "2024-12-13T10:45:18.008051Z",
     "start_time": "2024-12-13T10:45:17.986148Z"
    }
   },
   "id": "cf577ff696b5f238"
  },
  {
   "cell_type": "code",
   "execution_count": 32,
   "outputs": [
    {
     "name": "stdout",
     "output_type": "stream",
     "text": [
      "genre\n",
      "NA    12369\n",
      "IN     6522\n",
      "OP     5506\n",
      "ID     2293\n",
      "HI     1045\n",
      "IP      932\n",
      "LY      448\n",
      "SP      409\n",
      "Name: count, dtype: int64\n",
      "genre\n",
      "HI     993.147368\n",
      "ID    1092.062364\n",
      "IN    1358.373198\n",
      "IP    1053.892704\n",
      "LY     504.482143\n",
      "NA    1078.671518\n",
      "OP    1580.482564\n",
      "SP    2073.672372\n",
      "Name: text_length, dtype: float64\n",
      "genre\n",
      "HI    222.616688\n",
      "ID    224.482205\n",
      "IN    229.349436\n",
      "IP    223.844120\n",
      "LY    202.334825\n",
      "NA    224.255618\n",
      "OP    231.760333\n",
      "SP    235.723180\n",
      "Name: text_length, dtype: float64\n"
     ]
    }
   ],
   "source": [
    "# Problem: too few samples for some genres, --> calculate the average text length per genre (BERT has a max token size anyway)\n",
    "df_train[\"text_length\"] = df_train[\"text\"].apply(lambda x: len(x.split()))\n",
    "print(df_train[\"genre\"].value_counts())\n",
    "print(df_train.groupby(\"genre\")[\"text_length\"].mean())\n",
    "# SOLUTION: enlargen dataset by splitting up texts with more than 300 words\n",
    "\n",
    "import re\n",
    "def split_long_texts(df, word_limit=250):\n",
    "    new_rows = []\n",
    "    \n",
    "    # This regex matches:\n",
    "    #   \\s*    optional leading whitespace (including newlines, tabs, etc.)\n",
    "    #   \\S+    one or more non-whitespace characters (a \"word\")\n",
    "    #   \\s*    trailing whitespace, if any\n",
    "    #\n",
    "    # Each match thus gives us exactly one word and any whitespace that follows it.\n",
    "    # If there's leading whitespace before the first word, it will be included in that first token.\n",
    "    token_pattern = re.compile(r'\\s*\\S+\\s*')\n",
    "    \n",
    "    for _, row in df.iterrows():\n",
    "        text = row['text']\n",
    "        \n",
    "        # Find all tokens\n",
    "        tokens = token_pattern.findall(text)\n",
    "        \n",
    "        # If the number of tokens (words) does not exceed the limit, keep as is\n",
    "        if len(tokens) <= word_limit:\n",
    "            new_rows.append({\n",
    "                'text': text,\n",
    "                'genre': row['genre'],\n",
    "                'register': row['register'],\n",
    "                'document_id': row['document_id']\n",
    "            })\n",
    "        else:\n",
    "            # Split into chunks of word_limit tokens\n",
    "            for i in range(0, len(tokens), word_limit):\n",
    "                chunk_tokens = tokens[i:i+word_limit]\n",
    "                # Just concatenate the tokens as they are: this preserves exact original whitespace\n",
    "                chunk_text = ''.join(chunk_tokens)\n",
    "                new_rows.append({\n",
    "                    'text': chunk_text,\n",
    "                    'genre': row['genre'],\n",
    "                    'register': row['register'],\n",
    "                    'document_id': row['document_id']\n",
    "                })\n",
    "    \n",
    "    return pd.DataFrame(new_rows)\n",
    "df_train = split_long_texts(df_train)\n",
    "df_val = split_long_texts(df_val)\n",
    "df_test = split_long_texts(df_test)\n",
    "df_train[\"text_length\"] = df_train[\"text\"].apply(lambda x: len(x.split()))\n",
    "print(df_train.groupby(\"genre\")[\"text_length\"].mean())\n"
   ],
   "metadata": {
    "collapsed": false,
    "ExecuteTime": {
     "end_time": "2024-12-13T10:45:26.476896Z",
     "start_time": "2024-12-13T10:45:18.007617Z"
    }
   },
   "id": "465891e91f47d6b9"
  },
  {
   "cell_type": "code",
   "execution_count": 33,
   "outputs": [
    {
     "name": "stdout",
     "output_type": "stream",
     "text": [
      "genre\n",
      "OP    3750\n",
      "NA    3750\n",
      "ID    3750\n",
      "IN    3750\n",
      "LY    3750\n",
      "IP    3750\n",
      "HI    3750\n",
      "SP    3750\n",
      "Name: count, dtype: int64\n"
     ]
    }
   ],
   "source": [
    "# do stratified sampling with replacement to reach 30k, 5k, 5k size\n",
    "def balanced_sampling(df, dataset_size):\n",
    "    # Get the unique genres\n",
    "    genres = df['genre'].unique()\n",
    "    num_genres = len(genres)\n",
    "    \n",
    "    # Compute how many samples per genre\n",
    "    base_count = dataset_size // num_genres\n",
    "    remainder = dataset_size % num_genres\n",
    "\n",
    "    # Create a dictionary to store the number of samples per genre\n",
    "    samples_per_genre = {genre: base_count for genre in genres}\n",
    "    \n",
    "    # Distribute the remainder by adding one extra sample to some genres\n",
    "    # until we have assigned all leftover samples\n",
    "    for i, genre in enumerate(genres):\n",
    "        if i < remainder:\n",
    "            samples_per_genre[genre] += 1\n",
    "    \n",
    "    sampled_df_list = []\n",
    "    \n",
    "    # Sample for each genre\n",
    "    for genre in genres:\n",
    "        subset = df[df['genre'] == genre]\n",
    "        required_samples = samples_per_genre[genre]\n",
    "        \n",
    "        # If we don't have enough rows in this genre, sample with replacement\n",
    "        if len(subset) < required_samples:\n",
    "            sampled_subset = subset.sample(n=required_samples, replace=True, random_state=42)\n",
    "        else:\n",
    "            # If we have enough rows, sample without replacement\n",
    "            sampled_subset = subset.sample(n=required_samples, replace=False, random_state=42)\n",
    "\n",
    "        sampled_df_list.append(sampled_subset)\n",
    "    \n",
    "    # Concatenate all sampled subsets\n",
    "    balanced_df = pd.concat(sampled_df_list, ignore_index=True)\n",
    "    return balanced_df\n",
    "df_train = balanced_sampling(df_train, 30000)\n",
    "df_val = balanced_sampling(df_val, 5000)\n",
    "df_test = balanced_sampling(df_test, 5000)\n",
    "print(df_train[\"genre\"].value_counts())"
   ],
   "metadata": {
    "collapsed": false,
    "ExecuteTime": {
     "end_time": "2024-12-13T10:45:26.592391Z",
     "start_time": "2024-12-13T10:45:26.481637Z"
    }
   },
   "id": "a610db6af3c1975a"
  },
  {
   "cell_type": "code",
   "execution_count": 34,
   "outputs": [
    {
     "name": "stderr",
     "output_type": "stream",
     "text": [
      "/var/folders/9t/lg86d6h9261dz33jq7hsw5ph0000gn/T/ipykernel_4758/1439511424.py:3: DeprecationWarning: DataFrameGroupBy.apply operated on the grouping columns. This behavior is deprecated, and in a future version of pandas the grouping columns will be excluded from the operation. Either pass `include_groups=False` to exclude the groupings or explicitly select the grouping columns after groupby to silence this warning.\n",
      "  df_split = df_train.groupby(\"genre\").apply(lambda x: x.sample(min_occurence_genre)).reset_index(drop=True)\n"
     ]
    },
    {
     "data": {
      "text/plain": "                                                    text genre register  \\\n0      know her as a person first and foremost and ma...    HI    HI HT   \n1      Type Tool once again. Increase the text size u...    HI    HI HT   \n2      incremental reforms have consistently failed f...    HI    HI FH   \n3      How can you get rid of clothes moths? The comm...    HI    HI HT   \n4      mins. If it's still very sticky, keep adding f...    HI    HI RE   \n...                                                  ...   ...      ...   \n29995  toes in the hopes of getting that Presidents g...    SP    SP IT   \n29996  is not recognised as the capital by most of th...    SP    SP TA   \n29997  quite a few watery references in the names of ...    SP    SP IT   \n29998  explosion, that's a part of it too. Hendricks:...    SP    SP IT   \n29999  Interview with Linda Thompson Linda Thompson w...    SP    SP IT   \n\n       document_id  text_length  \n0           483101          250  \n1          3242280          144  \n2           570618          250  \n3            31742          250  \n4          1480753          250  \n...            ...          ...  \n29995      3298386          250  \n29996       484434          250  \n29997       275515          250  \n29998        56437          116  \n29999       238964          250  \n\n[30000 rows x 5 columns]",
      "text/html": "<div>\n<style scoped>\n    .dataframe tbody tr th:only-of-type {\n        vertical-align: middle;\n    }\n\n    .dataframe tbody tr th {\n        vertical-align: top;\n    }\n\n    .dataframe thead th {\n        text-align: right;\n    }\n</style>\n<table border=\"1\" class=\"dataframe\">\n  <thead>\n    <tr style=\"text-align: right;\">\n      <th></th>\n      <th>text</th>\n      <th>genre</th>\n      <th>register</th>\n      <th>document_id</th>\n      <th>text_length</th>\n    </tr>\n  </thead>\n  <tbody>\n    <tr>\n      <th>0</th>\n      <td>know her as a person first and foremost and ma...</td>\n      <td>HI</td>\n      <td>HI HT</td>\n      <td>483101</td>\n      <td>250</td>\n    </tr>\n    <tr>\n      <th>1</th>\n      <td>Type Tool once again. Increase the text size u...</td>\n      <td>HI</td>\n      <td>HI HT</td>\n      <td>3242280</td>\n      <td>144</td>\n    </tr>\n    <tr>\n      <th>2</th>\n      <td>incremental reforms have consistently failed f...</td>\n      <td>HI</td>\n      <td>HI FH</td>\n      <td>570618</td>\n      <td>250</td>\n    </tr>\n    <tr>\n      <th>3</th>\n      <td>How can you get rid of clothes moths? The comm...</td>\n      <td>HI</td>\n      <td>HI HT</td>\n      <td>31742</td>\n      <td>250</td>\n    </tr>\n    <tr>\n      <th>4</th>\n      <td>mins. If it's still very sticky, keep adding f...</td>\n      <td>HI</td>\n      <td>HI RE</td>\n      <td>1480753</td>\n      <td>250</td>\n    </tr>\n    <tr>\n      <th>...</th>\n      <td>...</td>\n      <td>...</td>\n      <td>...</td>\n      <td>...</td>\n      <td>...</td>\n    </tr>\n    <tr>\n      <th>29995</th>\n      <td>toes in the hopes of getting that Presidents g...</td>\n      <td>SP</td>\n      <td>SP IT</td>\n      <td>3298386</td>\n      <td>250</td>\n    </tr>\n    <tr>\n      <th>29996</th>\n      <td>is not recognised as the capital by most of th...</td>\n      <td>SP</td>\n      <td>SP TA</td>\n      <td>484434</td>\n      <td>250</td>\n    </tr>\n    <tr>\n      <th>29997</th>\n      <td>quite a few watery references in the names of ...</td>\n      <td>SP</td>\n      <td>SP IT</td>\n      <td>275515</td>\n      <td>250</td>\n    </tr>\n    <tr>\n      <th>29998</th>\n      <td>explosion, that's a part of it too. Hendricks:...</td>\n      <td>SP</td>\n      <td>SP IT</td>\n      <td>56437</td>\n      <td>116</td>\n    </tr>\n    <tr>\n      <th>29999</th>\n      <td>Interview with Linda Thompson Linda Thompson w...</td>\n      <td>SP</td>\n      <td>SP IT</td>\n      <td>238964</td>\n      <td>250</td>\n    </tr>\n  </tbody>\n</table>\n<p>30000 rows × 5 columns</p>\n</div>"
     },
     "execution_count": 34,
     "metadata": {},
     "output_type": "execute_result"
    }
   ],
   "source": [
    "# sample minimum number of texts per genre\n",
    "min_occurence_genre = df_train[\"genre\"].value_counts().min()\n",
    "df_split = df_train.groupby(\"genre\").apply(lambda x: x.sample(min_occurence_genre)).reset_index(drop=True)\n",
    "df_split"
   ],
   "metadata": {
    "collapsed": false,
    "ExecuteTime": {
     "end_time": "2024-12-13T10:45:26.608127Z",
     "start_time": "2024-12-13T10:45:26.594527Z"
    }
   },
   "id": "a1aec2aa40a46bb"
  },
  {
   "cell_type": "code",
   "execution_count": 35,
   "outputs": [],
   "source": [
    "# change \"NA\" in gener to \"NARRATIVE\"\n",
    "df_train[\"genre\"] = df_train[\"genre\"].apply(lambda x: \"NARRATIVE\" if x == \"NA\" else x)\n",
    "df_val[\"genre\"] = df_val[\"genre\"].apply(lambda x: \"NARRATIVE\" if x == \"NA\" else x)\n",
    "df_test[\"genre\"] = df_test[\"genre\"].apply(lambda x: \"NARRATIVE\" if x == \"NA\" else x)\n",
    "# shuffle\n",
    "df_train = df_train.sample(frac=1, random_state=42).reset_index(drop=True)\n",
    "df_val = df_val.sample(frac=1, random_state=42).reset_index(drop=True)\n",
    "df_test = df_test.sample(frac=1, random_state=42).reset_index(drop=True)\n",
    "# save\n",
    "df_train.to_csv('../data/CORE/multiclass_train_stratified.tsv', sep='\\t', index=False)\n",
    "df_val.to_csv('../data/CORE/multiclass_dev_stratified.tsv', sep='\\t', index=False)\n",
    "df_test.to_csv('../data/CORE/multiclass_test_stratified.tsv', sep='\\t', index=False)"
   ],
   "metadata": {
    "collapsed": false,
    "ExecuteTime": {
     "end_time": "2024-12-13T10:45:27.137465Z",
     "start_time": "2024-12-13T10:45:26.612612Z"
    }
   },
   "id": "77eff6496958ca64"
  },
  {
   "cell_type": "code",
   "execution_count": 36,
   "outputs": [
    {
     "data": {
      "text/plain": "                                                   text      genre register  \\\n0     the \"Mother of Exiles\"—a symbol of hope to imm...         IN    IN EN   \n1     the price, which I cannot. Re: In the end You ...         ID    ID DF   \n2     fund . Why the phone and name are most importa...         ID    ID RR   \n3     executive director. Dr Wakefield remains adama...         OP    OP OB   \n4     John McCain. He would consider today's McCain ...         OP    OP OB   \n...                                                 ...        ...      ...   \n4995  want to say in an interview. and in a way this...         SP    SP IT   \n4996  code, simply enter the code at the online chec...  NARRATIVE    NA NE   \n4997  Best Answer - Chosen by Asker ****SPOILER ALER...         ID    ID QA   \n4998  all the publicity isn't too exhausting for Mol...         IP    IP DS   \n4999  by the common man to reduce their carbon footp...         OP    OP OB   \n\n      document_id  \n0         9993212  \n1           50307  \n2         1748366  \n3          511814  \n4          773105  \n...           ...  \n4995      1441747  \n4996       306010  \n4997       113111  \n4998      1792064  \n4999      3306225  \n\n[5000 rows x 4 columns]",
      "text/html": "<div>\n<style scoped>\n    .dataframe tbody tr th:only-of-type {\n        vertical-align: middle;\n    }\n\n    .dataframe tbody tr th {\n        vertical-align: top;\n    }\n\n    .dataframe thead th {\n        text-align: right;\n    }\n</style>\n<table border=\"1\" class=\"dataframe\">\n  <thead>\n    <tr style=\"text-align: right;\">\n      <th></th>\n      <th>text</th>\n      <th>genre</th>\n      <th>register</th>\n      <th>document_id</th>\n    </tr>\n  </thead>\n  <tbody>\n    <tr>\n      <th>0</th>\n      <td>the \"Mother of Exiles\"—a symbol of hope to imm...</td>\n      <td>IN</td>\n      <td>IN EN</td>\n      <td>9993212</td>\n    </tr>\n    <tr>\n      <th>1</th>\n      <td>the price, which I cannot. Re: In the end You ...</td>\n      <td>ID</td>\n      <td>ID DF</td>\n      <td>50307</td>\n    </tr>\n    <tr>\n      <th>2</th>\n      <td>fund . Why the phone and name are most importa...</td>\n      <td>ID</td>\n      <td>ID RR</td>\n      <td>1748366</td>\n    </tr>\n    <tr>\n      <th>3</th>\n      <td>executive director. Dr Wakefield remains adama...</td>\n      <td>OP</td>\n      <td>OP OB</td>\n      <td>511814</td>\n    </tr>\n    <tr>\n      <th>4</th>\n      <td>John McCain. He would consider today's McCain ...</td>\n      <td>OP</td>\n      <td>OP OB</td>\n      <td>773105</td>\n    </tr>\n    <tr>\n      <th>...</th>\n      <td>...</td>\n      <td>...</td>\n      <td>...</td>\n      <td>...</td>\n    </tr>\n    <tr>\n      <th>4995</th>\n      <td>want to say in an interview. and in a way this...</td>\n      <td>SP</td>\n      <td>SP IT</td>\n      <td>1441747</td>\n    </tr>\n    <tr>\n      <th>4996</th>\n      <td>code, simply enter the code at the online chec...</td>\n      <td>NARRATIVE</td>\n      <td>NA NE</td>\n      <td>306010</td>\n    </tr>\n    <tr>\n      <th>4997</th>\n      <td>Best Answer - Chosen by Asker ****SPOILER ALER...</td>\n      <td>ID</td>\n      <td>ID QA</td>\n      <td>113111</td>\n    </tr>\n    <tr>\n      <th>4998</th>\n      <td>all the publicity isn't too exhausting for Mol...</td>\n      <td>IP</td>\n      <td>IP DS</td>\n      <td>1792064</td>\n    </tr>\n    <tr>\n      <th>4999</th>\n      <td>by the common man to reduce their carbon footp...</td>\n      <td>OP</td>\n      <td>OP OB</td>\n      <td>3306225</td>\n    </tr>\n  </tbody>\n</table>\n<p>5000 rows × 4 columns</p>\n</div>"
     },
     "execution_count": 36,
     "metadata": {},
     "output_type": "execute_result"
    }
   ],
   "source": [
    "df_val"
   ],
   "metadata": {
    "collapsed": false,
    "ExecuteTime": {
     "end_time": "2024-12-13T10:45:27.142113Z",
     "start_time": "2024-12-13T10:45:27.139041Z"
    }
   },
   "id": "6f1777b17e92fa66"
  },
  {
   "cell_type": "code",
   "execution_count": 36,
   "outputs": [],
   "source": [],
   "metadata": {
    "collapsed": false,
    "ExecuteTime": {
     "end_time": "2024-12-13T10:45:27.143284Z",
     "start_time": "2024-12-13T10:45:27.142263Z"
    }
   },
   "id": "8bad0a986783540f"
  },
  {
   "cell_type": "code",
   "execution_count": 37,
   "outputs": [
    {
     "name": "stdout",
     "output_type": "stream",
     "text": [
      "OP\n",
      "well from the Nazi's, on how to steal other peoples land. Palestine belongs to the world not just one group. It was a peacefull place pre WWII, I've talked with Jews and Muslims that lived on the same streets before the War. The Arab people at the time said devide Germany and make a Jewish homeland there. This will never end and Canada should mind it's own business. PS: We have own people in camps called reserves,,,,, Fiat lux We've lost many good friends We've lost many good friends in the Holocaust, some of them my schoolmates, including one of my best friends, Peter Adam, whose death has practically changed my way of thinking and life. My granddaughter is married to a Jew, with our 2 half Jewish great grandchildren, so anybody who'd call me an antisemite is nuts. Some 16 million were killed in Hitler's death camps, 6 million of them Jews. But this crime wave didn't give the right to Poles, or Ukrainians, who were also great losers, to claim superior, God given powers over others, now claimed by the Jews. Religions, supposedly based of love and peace, have been the biggest killers, colonizers and crime waves in human history, always claiming prophetic justifications. Most wars, colonizations, ethnic cleansing and enslavements have been justified by claims that God came down from heaven and whispered contradictory instructions, orders and licences to kill others, into the ears of some \"prophets\". As various religions now murder each other over the claim \n",
      "\n",
      "IP\n",
      "Cheques made payable to \"SickKids Foundation\" can be mailed to Motherisk, The Hospital for Sick Children 555 University Avenue, Toronto, Ontario, Canada M5G 1X8. Simply include a note that your gift is for the benefit of Motherisk. If you have a valid credit card and would like to make a donation over the telephone you can call (416) 813-6166 or 1-800-661-1083 and make a gift through the Hospital for Sick Children Foundation. Just be sure to tell them you want your gift to go to Motherisk. Community events and workplace fundraisers (like Casual Fridays) are fun ways to raise money with others. If you think you would like to get involved in group fundraising, please call Susan Santiago at (416) 813-8084. Corporate matching can double the value of your donation to Motherisk. Ask your Human Resources department for details and an application form. Whichever way you choose, please make your gift today. \"I desperately needed help when I found out I was pregnant in the spring of 1996. First, because of the \"surprise\" and second because I was undergoing treatment for Rosacea and was taking antibiotics. My doctor looked up the drug, tetracycline, said I had to have an immediate abortion and wiped his hands of my situation by giving me the name of another doctor. Then I called motherisk. The calm person who answered my call that day asked me a few questions and was able to confirm that all would be well with the fetus due to the \n",
      "\n",
      "HI\n",
      "How to make a barometer work: to calibrate, compare the movements in millimetres with the changes in reported barometric pressure. Determine how many observed pressure units, either kiloPascals or hundredths of an inch of mercury each millimeter on the ruler represents. For best results, use your barometer indoors where the temperature remains almost constant. How does a barometer work? The mass of air above the water inside the straw does not change, but the increased pressure causes it to occupy a smaller space, provided the temperature does not change. The whole system seems to know how to make a barometer respond. One of Galileo's students, Evangelista Torricelli, wrote We live submerged at the bottom of an ocean of elementary air, which is known by incontestable experiments to have weight . This has become a famous quotation in meteorology. Barometers have been developed to help us determine that weight. Traditional barometers come in two types: Liquid barometers - someone figured out how to make a barometer with a vertical tube containing either water or mercury. If it has mercury, which is far more common, its height changes from around two to nearly three feet at ground level when the atmospheric pressure changes. How often does that happen? Every day, but not by a lot, usually. When people, usually American citizens and pilots, say that the pressure is 29 inches or some number close to that, they are talking about mercury. Most often, this is the height the mercury column would be \n",
      "\n",
      "ID\n",
      "here is that as a consequence of motion, time would be equally relevant to the non-extremal curves, as it is to the extremal curves. It would simply be relative to the system being described. The point of Barbour's essay is self contradictory. It starts as a denunciation of absolute time, then sets about determining it through the principle of least action. I couldn't help but concur with the dx4/ct = ic comment Aguirre made. All this tells us is that everthing is moving at the speed of light! Even while sitting down we are all moving along the 4th coordinate direction at the speed of light, times i = sqrt{-1}. Something I remember from undergraduate study. The judging decision is what it is. I did not win. I wrote my essay up in three days, after realizing the deadline was Dec 1 and not Jan 1 --- oops. I also intiuited some of the conclusions prematurely. Well, such are the way of contests. Various people and parties are requesting my deleted posts and attachments. Might there be some way to leave them up so as to save me the trouble of resending/distributing? After all, my posts all contain a novel postulate and equation brought forth by an independent Ph.D. researcher reflecting a hitherto unsung universal invariant: dx4/dt=ic, which is what FQXI is supposed to support, theoretically. I also include a plethora of edifying quotes from the Founding Fathers of physics, so as to demonstrate that my philosophy is more in \n",
      "\n",
      "NARRATIVE\n",
      "terror slowly crept up Alex's back, spreading throughout his body - a sickly sweet treacle passively oozing along his arms, to the end of his legs, up his neck and then invading his head. His body felt like it was sinking into his bed; he was heavy and immobile, gripped by paralysis. The man at the end of the bed raised his left hand. In the gnarled and bony fist he held a long, gleaming pair of scissors. Alex's paralysis was broken, but only by an uncontrollable shaking, that ran up and down his body. His breath rasped and jarred, stopped and then forced itself out again. The man knelt down on the end of the bed, and then, on his knees, he moved up the duvet, eventually straddling the shaking body of Alex. Attempting to exert some control, Alex shut his eyes, tight. He felt the weight of the thing on top of him, and then the warmth of the duvet suddenly disappeared and he felt the cold air of the room against his perspiring skin. As Alex opened his eyes he saw the man above him, raising the scissors over his head. It seemed to Alex that the steel blades fell in slow motion. As their tip punctured his wet stomach he was almost calm, watching as a spectator. The blade sunk down, deep into him, releasing a thick red flow of blood. It was an intense coldness, penetrating right into his insides, scraping the edge of his \n",
      "\n",
      "IN\n",
      "efforts, you'll be able to create the right posts for the right audience that will provide you with your intended results. Using social media for business can be a great way to get in front of your audience and share valuable information. But if you want to be successful, you have to know how to write efficiently for your audience. This communication is what will separate your business from the competition, and ultimately allow you to see success. \n",
      "\n",
      "LY\n",
      "Through the will of God - Not by human appointment, or authority, but in accordance with the will of God, and His command. That will was made known to him by the special revelation granted to him at his conversion, and call to the apostleship; Acts 9 . Paul often refers to the fact that he had received a direct commission from God, and that he did not act on his own authority; compare Galatians 1:11-12 ; 1 Corinthians 9:1-6 ; 2 Corinthians 11:22-33 ; 2 Corinthians 12:1-12 . There was a special reason why he commenced this Epistle by referring to the fact that he was divinely called to the apostleship. It arose from the fact that his apostolic authority had been called in question by the false teachers at Corinth. That this was the case is apparent from the general strain of the Epistle, from some particular expressions 2 Corinthians 10:8-10 ; and from the fact that he is at so much pains throughout the two epistles to establish his divine commission. And Sosthenes - Sosthenes is mentioned in Acts 18:17 , as \"the chief ruler of the synagogue\" at Corinth. He is there said to have been beaten by the Greeks before the judgment-seat of Gallio because he was a Jew, and because he had joined with the other Jews in arraigning Paul, and had thus produced disturbance in the city; see the note on this place. It is evident that at that time he was not \n",
      "\n",
      "SP\n",
      "it for some of the new material, you never know -- it's a goldmine of unused material!\" [laughs] S] Your music uses a lot of samples of old archive material and public information videos -- where did that idea come from? J] \"It came from listening to a Radio 4 program, appropriately enough, which was hosted by Mr Tom Robinson, of the parish of 6 Music, and he was presenting an archive hour about the release of some national archive films onto the internet for the first time. I just liked the sound of what I heard, so I thought I'd go and have a listen -- not even in a particularly musical sense. I listened to a couple, and I think there was one, 'Coughs And Sneezes Spread Diseases', which kind of grabbed me -- there were a couple of samples that I thought I might just tinker round with. So I made a song, played it to a few people, and unlike nearly everything I'd ever done prior to that, people said they liked it! So I tried making another one after that.\" S] So you thought you were onto something there. J] \"Certainly relative to what I'd been doing before, yeah!\" S] The name of the band and the general aesthetic, it's very reminiscent of a sort of 'stiff-upper-lip' Englishness -- was that intentional, or was it something you built up as you went along? J] \"It's generally how I look in everyday life, so it seemed \n"
     ]
    }
   ],
   "source": [
    "# for each genre, print one text example\n",
    "for genre in df_train[\"genre\"].unique():\n",
    "    print(genre)\n",
    "    print(df_train[df_train[\"genre\"] == genre].iloc[0][\"text\"])\n",
    "    print()"
   ],
   "metadata": {
    "collapsed": false,
    "ExecuteTime": {
     "end_time": "2024-12-13T10:45:27.165785Z",
     "start_time": "2024-12-13T10:45:27.145019Z"
    }
   },
   "id": "1ca8aa274a690137"
  },
  {
   "cell_type": "code",
   "execution_count": 38,
   "outputs": [
    {
     "data": {
      "text/plain": "                                                   text      genre register  \\\n0     studio to help create a live performance atmos...  NARRATIVE    NA MA   \n1     didn't change my mind about anything. He has a...         IP    IP DS   \n2     the law of equal freedom? These restraints, wh...         IP    IP PA   \n3     thing. It's a great moment of revelation for H...         OP    OP RV   \n4     reason given for burying UBL at sea was to ens...         OP    OP OB   \n...                                                 ...        ...      ...   \n4995  exhausted, Keep it going cause I'm living my d...         LY    LY SL   \n4996  As investors, we would all like to beat the ma...         IN       IN   \n4997  mobs at bay. They are already trained for it. ...         IP       IP   \n4998  this chamber. Progress and peace and justice a...         SP       SP   \n4999  27-nation federal state permanently governed f...         OP    OP OB   \n\n      document_id  \n0         3245655  \n1          167786  \n2          652014  \n3         1750251  \n4           12331  \n...           ...  \n4995        34220  \n4996       326314  \n4997       347315  \n4998       785913  \n4999      3121749  \n\n[5000 rows x 4 columns]",
      "text/html": "<div>\n<style scoped>\n    .dataframe tbody tr th:only-of-type {\n        vertical-align: middle;\n    }\n\n    .dataframe tbody tr th {\n        vertical-align: top;\n    }\n\n    .dataframe thead th {\n        text-align: right;\n    }\n</style>\n<table border=\"1\" class=\"dataframe\">\n  <thead>\n    <tr style=\"text-align: right;\">\n      <th></th>\n      <th>text</th>\n      <th>genre</th>\n      <th>register</th>\n      <th>document_id</th>\n    </tr>\n  </thead>\n  <tbody>\n    <tr>\n      <th>0</th>\n      <td>studio to help create a live performance atmos...</td>\n      <td>NARRATIVE</td>\n      <td>NA MA</td>\n      <td>3245655</td>\n    </tr>\n    <tr>\n      <th>1</th>\n      <td>didn't change my mind about anything. He has a...</td>\n      <td>IP</td>\n      <td>IP DS</td>\n      <td>167786</td>\n    </tr>\n    <tr>\n      <th>2</th>\n      <td>the law of equal freedom? These restraints, wh...</td>\n      <td>IP</td>\n      <td>IP PA</td>\n      <td>652014</td>\n    </tr>\n    <tr>\n      <th>3</th>\n      <td>thing. It's a great moment of revelation for H...</td>\n      <td>OP</td>\n      <td>OP RV</td>\n      <td>1750251</td>\n    </tr>\n    <tr>\n      <th>4</th>\n      <td>reason given for burying UBL at sea was to ens...</td>\n      <td>OP</td>\n      <td>OP OB</td>\n      <td>12331</td>\n    </tr>\n    <tr>\n      <th>...</th>\n      <td>...</td>\n      <td>...</td>\n      <td>...</td>\n      <td>...</td>\n    </tr>\n    <tr>\n      <th>4995</th>\n      <td>exhausted, Keep it going cause I'm living my d...</td>\n      <td>LY</td>\n      <td>LY SL</td>\n      <td>34220</td>\n    </tr>\n    <tr>\n      <th>4996</th>\n      <td>As investors, we would all like to beat the ma...</td>\n      <td>IN</td>\n      <td>IN</td>\n      <td>326314</td>\n    </tr>\n    <tr>\n      <th>4997</th>\n      <td>mobs at bay. They are already trained for it. ...</td>\n      <td>IP</td>\n      <td>IP</td>\n      <td>347315</td>\n    </tr>\n    <tr>\n      <th>4998</th>\n      <td>this chamber. Progress and peace and justice a...</td>\n      <td>SP</td>\n      <td>SP</td>\n      <td>785913</td>\n    </tr>\n    <tr>\n      <th>4999</th>\n      <td>27-nation federal state permanently governed f...</td>\n      <td>OP</td>\n      <td>OP OB</td>\n      <td>3121749</td>\n    </tr>\n  </tbody>\n</table>\n<p>5000 rows × 4 columns</p>\n</div>"
     },
     "execution_count": 38,
     "metadata": {},
     "output_type": "execute_result"
    }
   ],
   "source": [
    "df_test"
   ],
   "metadata": {
    "collapsed": false,
    "ExecuteTime": {
     "end_time": "2024-12-13T10:45:27.196125Z",
     "start_time": "2024-12-13T10:45:27.161818Z"
    }
   },
   "id": "c40fe3e817c3a928"
  },
  {
   "cell_type": "code",
   "execution_count": 38,
   "outputs": [],
   "source": [],
   "metadata": {
    "collapsed": false,
    "ExecuteTime": {
     "end_time": "2024-12-13T10:45:27.196217Z",
     "start_time": "2024-12-13T10:45:27.163756Z"
    }
   },
   "id": "6be1c99894164fc1"
  },
  {
   "cell_type": "code",
   "execution_count": null,
   "outputs": [],
   "source": [],
   "metadata": {
    "collapsed": false
   },
   "id": "9831347a505d9ccd"
  }
 ],
 "metadata": {
  "kernelspec": {
   "display_name": "Python 3",
   "language": "python",
   "name": "python3"
  },
  "language_info": {
   "codemirror_mode": {
    "name": "ipython",
    "version": 2
   },
   "file_extension": ".py",
   "mimetype": "text/x-python",
   "name": "python",
   "nbconvert_exporter": "python",
   "pygments_lexer": "ipython2",
   "version": "2.7.6"
  }
 },
 "nbformat": 4,
 "nbformat_minor": 5
}
