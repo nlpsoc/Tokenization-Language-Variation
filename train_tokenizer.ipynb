{
 "cells": [
  {
   "cell_type": "markdown",
   "id": "8e46ebbe",
   "metadata": {},
   "source": [
    "# TRAIN SOME TOKENIZER"
   ]
  },
  {
   "cell_type": "markdown",
   "id": "c581b55f",
   "metadata": {},
   "source": [
    "### Wikipedia (20GB)"
   ]
  },
  {
   "cell_type": "code",
   "execution_count": 1,
   "id": "c2d53581",
   "metadata": {},
   "outputs": [
    {
     "name": "stderr",
     "output_type": "stream",
     "text": [
      "/opt/anaconda/lib/python3.11/site-packages/transformers/utils/hub.py:127: FutureWarning: Using `TRANSFORMERS_CACHE` is deprecated and will be removed in v5 of Transformers. Use `HF_HOME` instead.\n",
      "  warnings.warn(\n"
     ]
    }
   ],
   "source": [
    "from tqdm import tqdm\n",
    "import os\n",
    "cache_dir = \"/shared/3/projects/hiatus/EVAL_wegmann/cache/huggingface\"\n",
    "os.environ[\"TRANSFORMERS_CACHE\"] = cache_dir\n",
    "os.environ[\"HF_DATASETS_CACHE\"] = cache_dir\n",
    "from transformers import AutoTokenizer\n"
   ]
  },
  {
   "cell_type": "code",
   "execution_count": 2,
   "id": "d98116c1",
   "metadata": {},
   "outputs": [],
   "source": [
    "from datasets import load_dataset"
   ]
  },
  {
   "cell_type": "code",
   "execution_count": 3,
   "id": "2cc8b901",
   "metadata": {},
   "outputs": [
    {
     "name": "stderr",
     "output_type": "stream",
     "text": [
      "/opt/anaconda/lib/python3.11/site-packages/datasets/load.py:1486: FutureWarning: The repository for wikipedia contains custom code which must be executed to correctly load the dataset. You can inspect the repository content at https://hf.co/datasets/wikipedia\n",
      "You can avoid this message in future by passing the argument `trust_remote_code=True`.\n",
      "Passing `trust_remote_code=True` will be mandatory to load this dataset from the next major release of `datasets`.\n",
      "  warnings.warn(\n"
     ]
    },
    {
     "data": {
      "application/vnd.jupyter.widget-view+json": {
       "model_id": "8389979ae5cc446bbd7d414e8d1425b2",
       "version_major": 2,
       "version_minor": 0
      },
      "text/plain": [
       "Loading dataset shards:   0%|          | 0/41 [00:00<?, ?it/s]"
      ]
     },
     "metadata": {},
     "output_type": "display_data"
    }
   ],
   "source": [
    "dataset = load_dataset(\"wikipedia\", \"20220301.en\", split=\"train\")"
   ]
  },
  {
   "cell_type": "code",
   "execution_count": 4,
   "id": "4a0555ee",
   "metadata": {},
   "outputs": [
    {
     "name": "stdout",
     "output_type": "stream",
     "text": [
      "Total number of words: 3100865347\n"
     ]
    }
   ],
   "source": [
    "# Calculate the total number of words in the dataset\n",
    "total_words = 0\n",
    "for article in dataset:\n",
    "    total_words += len(article['text'].split())\n",
    "\n",
    "print(f\"Total number of words: {total_words}\")"
   ]
  },
  {
   "cell_type": "code",
   "execution_count": 9,
   "id": "e675a61e",
   "metadata": {},
   "outputs": [],
   "source": [
    "def get_training_corpus(text_handle=\"text\"):\n",
    "    train_data = dataset\n",
    "    for i in tqdm(range(0, len(train_data), 1000), desc=\"Generating training corpus\"):\n",
    "        yield train_data[i: i + 1000][text_handle]\n",
    "\n",
    "\n",
    "def fit_tokenizer(huggingface_dataset, vocab_size):\n",
    "    old_tokenizer = AutoTokenizer.from_pretrained(\"meta-llama/Meta-Llama-3-8B\")\n",
    "    training_corpus = get_training_corpus()\n",
    "    tokenizer = old_tokenizer.train_new_from_iterator(training_corpus, vocab_size=vocab_size, length=6459000)\n",
    "    dir_name = f\"./llama3-tokenizer-wikitext-raw/{vocab_size}\"\n",
    "    os.makedirs(dir_name, exist_ok=True)\n",
    "    tokenizer.save_pretrained(f\"{dir_name}\")"
   ]
  },
  {
   "cell_type": "code",
   "execution_count": 14,
   "id": "87762501",
   "metadata": {},
   "outputs": [
    {
     "name": "stderr",
     "output_type": "stream",
     "text": [
      "Special tokens have been added in the vocabulary, make sure the associated word embeddings are fine-tuned or trained.\n",
      "Generating training corpus: 100%|███████████████████████████████████████████████████████████████| 6459/6459 [17:35<00:00,  6.12it/s]\n"
     ]
    },
    {
     "name": "stdout",
     "output_type": "stream",
     "text": [
      "\n",
      "\n",
      "\n"
     ]
    }
   ],
   "source": [
    "fit_tokenizer(get_training_corpus(), 1000)"
   ]
  },
  {
   "cell_type": "markdown",
   "id": "6328bbd5",
   "metadata": {},
   "source": [
    "### \"Messy\" data: Twitter (10GB)"
   ]
  },
  {
   "cell_type": "code",
   "execution_count": 6,
   "id": "d24b58ab",
   "metadata": {},
   "outputs": [],
   "source": [
    "import bz2\n",
    "import json\n",
    "from tqdm import tqdm\n",
    "file_path = '/nfs/locker/twitter-decahose-locker/2021/decahose.2021-12-01.p2.bz2'"
   ]
  },
  {
   "cell_type": "code",
   "execution_count": 7,
   "id": "0302f9f6",
   "metadata": {},
   "outputs": [
    {
     "name": "stdout",
     "output_type": "stream",
     "text": [
      "{\n",
      "    \"created_at\": \"Wed Dec 01 04:53:30 +0000 2021\",\n",
      "    \"id\": 1465906883013713921,\n",
      "    \"id_str\": \"1465906883013713921\",\n",
      "    \"text\": \"@kozoudazou_ \\u3081\\u3063\\u3061\\u3083\\u8912\\u3081\\u3066\\u304f\\u308c\\u308b\\u2026\\uff84\\uff69\\uff9d\\uff78(\\uff8a\\uff85\\uff8e\\uff7c\\uff9e\",\n",
      "    \"display_text_range\": [\n",
      "        13,\n",
      "        34\n",
      "    ],\n",
      "    \"source\": \"<a href=\\\"http://twitter.com/download/iphone\\\" rel=\\\"nofollow\\\">Twitter for iPhone</a>\",\n",
      "    \"truncated\": false,\n",
      "    \"in_reply_to_status_id\": 1465905183993384966,\n",
      "    \"in_reply_to_status_id_str\": \"1465905183993384966\",\n",
      "    \"in_reply_to_user_id\": 846039760204288000,\n",
      "    \"in_reply_to_user_id_str\": \"846039760204288000\",\n",
      "    \"in_reply_to_screen_name\": \"kozoudazou_\",\n",
      "    \"user\": {\n",
      "        \"id\": 1301322691010392064,\n",
      "        \"id_str\": \"1301322691010392064\",\n",
      "        \"name\": \"\\u306f\\u3044\\u3060\\u3057\\u3087\\u3046\\u30b1\\u30c4\\u304a\\u3070\\u3055\\u3093\\u306f\\u3071\\u304a\\u306e\\u4e0b\\u50d5\",\n",
      "        \"screen_name\": \"ukyo3satomin\",\n",
      "        \"location\": null,\n",
      "        \"url\": \"https://twitter.com/i/events/1441621075515691008\",\n",
      "        \"description\": \"\\u540d\\u524d\\u306f\\u3046\\u304d\\u3087\\u3068\\u7533\\u3059\\uff01\\u5206\\u8eab\\u306f\\u30a6\\u30ad\\u30e7\\u30b3\\u30fb\\u30c7\\u30e9\\u30c3\\u30af\\u30b9\\uff01235cm\\u306e\\u53ef\\u611b\\u3044\\u5973\\u306e\\u5b50\\u3060\\u3088\\u2606\\uff90(\\u30a2\\u30a4\\u30b3\\u30f3\\u306e\\u5b50)\\u30a2\\u30a4\\u30b3\\u30f3:\\u30a8\\u30d9\\u30b3\\u3055\\u3093@ebek_00\\u2192\\u2192\\u2192\\u6709\\u511f\\u3054\\u4f9d\\u983c\\u3010@ukyou_e\\u3011 URL\\u6b04\\u306f\\u30e2\\u30fc\\u30e1\\u30f3\\u30c8\",\n",
      "        \"translator_type\": \"none\",\n",
      "        \"protected\": false,\n",
      "        \"verified\": false,\n",
      "        \"followers_count\": 92,\n",
      "        \"friends_count\": 95,\n",
      "        \"listed_count\": 1,\n",
      "        \"favourites_count\": 910,\n",
      "        \"statuses_count\": 5930,\n",
      "        \"created_at\": \"Thu Sep 03 00:54:52 +0000 2020\",\n",
      "        \"utc_offset\": null,\n",
      "        \"time_zone\": null,\n",
      "        \"geo_enabled\": false,\n",
      "        \"lang\": null,\n",
      "        \"contributors_enabled\": false,\n",
      "        \"is_translator\": false,\n",
      "        \"profile_background_color\": \"F5F8FA\",\n",
      "        \"profile_background_image_url\": \"\",\n",
      "        \"profile_background_image_url_https\": \"\",\n",
      "        \"profile_background_tile\": false,\n",
      "        \"profile_link_color\": \"1DA1F2\",\n",
      "        \"profile_sidebar_border_color\": \"C0DEED\",\n",
      "        \"profile_sidebar_fill_color\": \"DDEEF6\",\n",
      "        \"profile_text_color\": \"333333\",\n",
      "        \"profile_use_background_image\": true,\n",
      "        \"profile_image_url\": \"http://pbs.twimg.com/profile_images/1460893602033602564/eYilAfsK_normal.jpg\",\n",
      "        \"profile_image_url_https\": \"https://pbs.twimg.com/profile_images/1460893602033602564/eYilAfsK_normal.jpg\",\n",
      "        \"profile_banner_url\": \"https://pbs.twimg.com/profile_banners/1301322691010392064/1635661801\",\n",
      "        \"default_profile\": true,\n",
      "        \"default_profile_image\": false,\n",
      "        \"following\": null,\n",
      "        \"follow_request_sent\": null,\n",
      "        \"notifications\": null,\n",
      "        \"withheld_in_countries\": []\n",
      "    },\n",
      "    \"geo\": null,\n",
      "    \"coordinates\": null,\n",
      "    \"place\": null,\n",
      "    \"contributors\": null,\n",
      "    \"is_quote_status\": false,\n",
      "    \"quote_count\": 0,\n",
      "    \"reply_count\": 0,\n",
      "    \"retweet_count\": 0,\n",
      "    \"favorite_count\": 0,\n",
      "    \"entities\": {\n",
      "        \"hashtags\": [],\n",
      "        \"urls\": [],\n",
      "        \"user_mentions\": [\n",
      "            {\n",
      "                \"screen_name\": \"kozoudazou_\",\n",
      "                \"name\": \"\\u3053\\u305e\\u3046\\ud83d\\udc18\",\n",
      "                \"id\": 846039760204288000,\n",
      "                \"id_str\": \"846039760204288000\",\n",
      "                \"indices\": [\n",
      "                    0,\n",
      "                    12\n",
      "                ]\n",
      "            }\n",
      "        ],\n",
      "        \"symbols\": []\n",
      "    },\n",
      "    \"favorited\": false,\n",
      "    \"retweeted\": false,\n",
      "    \"filter_level\": \"low\",\n",
      "    \"lang\": \"ja\",\n",
      "    \"timestamp_ms\": \"1638334410800\"\n",
      "}\n",
      "{\n",
      "    \"created_at\": \"Wed Dec 01 04:53:30 +0000 2021\",\n",
      "    \"id\": 1465906883030568962,\n",
      "    \"id_str\": \"1465906883030568962\",\n",
      "    \"text\": \"RT @Divafwesh9: Drop handles &amp; Follow all who likes and Retweets this  \\ud83c\\udf29\\ufe0f, \\ud83c\\udf43!\",\n",
      "    \"source\": \"<a href=\\\"http://twitter.com/download/android\\\" rel=\\\"nofollow\\\">Twitter for Android</a>\",\n",
      "    \"truncated\": false,\n",
      "    \"in_reply_to_status_id\": null,\n",
      "    \"in_reply_to_status_id_str\": null,\n",
      "    \"in_reply_to_user_id\": null,\n",
      "    \"in_reply_to_user_id_str\": null,\n",
      "    \"in_reply_to_screen_name\": null,\n",
      "    \"user\": {\n",
      "        \"id\": 1454464894137470983,\n",
      "        \"id_str\": \"1454464894137470983\",\n",
      "        \"name\": \"\\ud83e\\udd8bSophia \\u2764\\ufe0f\",\n",
      "        \"screen_name\": \"Queen_Sophia1\",\n",
      "        \"location\": null,\n",
      "        \"url\": null,\n",
      "        \"description\": \"Live and love life | Actor | Model | DM Strictly for Business \\ud83d\\ude0b \\ud83c\\udf46\\ud83c\\udf51\",\n",
      "        \"translator_type\": \"none\",\n",
      "        \"protected\": false,\n",
      "        \"verified\": false,\n",
      "        \"followers_count\": 1151,\n",
      "        \"friends_count\": 1128,\n",
      "        \"listed_count\": 0,\n",
      "        \"favourites_count\": 4725,\n",
      "        \"statuses_count\": 3663,\n",
      "        \"created_at\": \"Sat Oct 30 15:07:29 +0000 2021\",\n",
      "        \"utc_offset\": null,\n",
      "        \"time_zone\": null,\n",
      "        \"geo_enabled\": false,\n",
      "        \"lang\": null,\n",
      "        \"contributors_enabled\": false,\n",
      "        \"is_translator\": false,\n",
      "        \"profile_background_color\": \"F5F8FA\",\n",
      "        \"profile_background_image_url\": \"\",\n",
      "        \"profile_background_image_url_https\": \"\",\n",
      "        \"profile_background_tile\": false,\n",
      "        \"profile_link_color\": \"1DA1F2\",\n",
      "        \"profile_sidebar_border_color\": \"C0DEED\",\n",
      "        \"profile_sidebar_fill_color\": \"DDEEF6\",\n",
      "        \"profile_text_color\": \"333333\",\n",
      "        \"profile_use_background_image\": true,\n",
      "        \"profile_image_url\": \"http://pbs.twimg.com/profile_images/1458929350934507528/dPx-bExU_normal.jpg\",\n",
      "        \"profile_image_url_https\": \"https://pbs.twimg.com/profile_images/1458929350934507528/dPx-bExU_normal.jpg\",\n",
      "        \"profile_banner_url\": \"https://pbs.twimg.com/profile_banners/1454464894137470983/1636563851\",\n",
      "        \"default_profile\": true,\n",
      "        \"default_profile_image\": false,\n",
      "        \"following\": null,\n",
      "        \"follow_request_sent\": null,\n",
      "        \"notifications\": null,\n",
      "        \"withheld_in_countries\": []\n",
      "    },\n",
      "    \"geo\": null,\n",
      "    \"coordinates\": null,\n",
      "    \"place\": null,\n",
      "    \"contributors\": null,\n",
      "    \"retweeted_status\": {\n",
      "        \"created_at\": \"Wed Dec 01 04:43:40 +0000 2021\",\n",
      "        \"id\": 1465904408621768704,\n",
      "        \"id_str\": \"1465904408621768704\",\n",
      "        \"text\": \"Drop handles &amp; Follow all who likes and Retweets this  \\ud83c\\udf29\\ufe0f, \\ud83c\\udf43!\",\n",
      "        \"source\": \"<a href=\\\"https://cheapbotsdonequick.com\\\" rel=\\\"nofollow\\\">Cheap Bots, Done Quick!</a>\",\n",
      "        \"truncated\": false,\n",
      "        \"in_reply_to_status_id\": null,\n",
      "        \"in_reply_to_status_id_str\": null,\n",
      "        \"in_reply_to_user_id\": null,\n",
      "        \"in_reply_to_user_id_str\": null,\n",
      "        \"in_reply_to_screen_name\": null,\n",
      "        \"user\": {\n",
      "            \"id\": 1078021791086448640,\n",
      "            \"id_str\": \"1078021791086448640\",\n",
      "            \"name\": \"Diva\\u265b\",\n",
      "            \"screen_name\": \"Divafwesh9\",\n",
      "            \"location\": \"Follow Back \\ud83d\\udd14\",\n",
      "            \"url\": \"http://www.diva.com\",\n",
      "            \"description\": \"Finding Love \\u2764\\u2764on Twitter doesn\\u2019t mean Twitter is a Dating App. I am not here to find Love \\ud83d\\udc9e but Friends. #SmallAccounts \\ud83d\\ude03 \\ud83d\\ude03#Messi\",\n",
      "            \"translator_type\": \"none\",\n",
      "            \"protected\": false,\n",
      "            \"verified\": false,\n",
      "            \"followers_count\": 1158,\n",
      "            \"friends_count\": 1304,\n",
      "            \"listed_count\": 3,\n",
      "            \"favourites_count\": 1514,\n",
      "            \"statuses_count\": 15016,\n",
      "            \"created_at\": \"Wed Dec 26 20:16:38 +0000 2018\",\n",
      "            \"utc_offset\": null,\n",
      "            \"time_zone\": null,\n",
      "            \"geo_enabled\": false,\n",
      "            \"lang\": null,\n",
      "            \"contributors_enabled\": false,\n",
      "            \"is_translator\": false,\n",
      "            \"profile_background_color\": \"F5F8FA\",\n",
      "            \"profile_background_image_url\": \"\",\n",
      "            \"profile_background_image_url_https\": \"\",\n",
      "            \"profile_background_tile\": false,\n",
      "            \"profile_link_color\": \"1DA1F2\",\n",
      "            \"profile_sidebar_border_color\": \"C0DEED\",\n",
      "            \"profile_sidebar_fill_color\": \"DDEEF6\",\n",
      "            \"profile_text_color\": \"333333\",\n",
      "            \"profile_use_background_image\": true,\n",
      "            \"profile_image_url\": \"http://pbs.twimg.com/profile_images/1385246642689953795/pv7Gumn3_normal.jpg\",\n",
      "            \"profile_image_url_https\": \"https://pbs.twimg.com/profile_images/1385246642689953795/pv7Gumn3_normal.jpg\",\n",
      "            \"profile_banner_url\": \"https://pbs.twimg.com/profile_banners/1078021791086448640/1619117226\",\n",
      "            \"default_profile\": true,\n",
      "            \"default_profile_image\": false,\n",
      "            \"following\": null,\n",
      "            \"follow_request_sent\": null,\n",
      "            \"notifications\": null,\n",
      "            \"withheld_in_countries\": []\n",
      "        },\n",
      "        \"geo\": null,\n",
      "        \"coordinates\": null,\n",
      "        \"place\": null,\n",
      "        \"contributors\": null,\n",
      "        \"is_quote_status\": false,\n",
      "        \"quote_count\": 0,\n",
      "        \"reply_count\": 0,\n",
      "        \"retweet_count\": 3,\n",
      "        \"favorite_count\": 2,\n",
      "        \"entities\": {\n",
      "            \"hashtags\": [],\n",
      "            \"urls\": [],\n",
      "            \"user_mentions\": [],\n",
      "            \"symbols\": []\n",
      "        },\n",
      "        \"favorited\": false,\n",
      "        \"retweeted\": false,\n",
      "        \"filter_level\": \"low\",\n",
      "        \"lang\": \"en\"\n",
      "    },\n",
      "    \"is_quote_status\": false,\n",
      "    \"quote_count\": 0,\n",
      "    \"reply_count\": 0,\n",
      "    \"retweet_count\": 0,\n",
      "    \"favorite_count\": 0,\n",
      "    \"entities\": {\n",
      "        \"hashtags\": [],\n",
      "        \"urls\": [],\n",
      "        \"user_mentions\": [\n",
      "            {\n",
      "                \"screen_name\": \"Divafwesh9\",\n",
      "                \"name\": \"Diva\\u265b\",\n",
      "                \"id\": 1078021791086448640,\n",
      "                \"id_str\": \"1078021791086448640\",\n",
      "                \"indices\": [\n",
      "                    3,\n",
      "                    14\n",
      "                ]\n",
      "            }\n",
      "        ],\n",
      "        \"symbols\": []\n",
      "    },\n",
      "    \"favorited\": false,\n",
      "    \"retweeted\": false,\n",
      "    \"filter_level\": \"low\",\n",
      "    \"lang\": \"en\",\n",
      "    \"timestamp_ms\": \"1638334410804\"\n",
      "}\n"
     ]
    }
   ],
   "source": [
    "def load_bz2_json_sample(file_path, num_lines=2):\n",
    "    \"\"\"\n",
    "    Load the first few lines of a bz2 compressed JSON file.\n",
    "    \n",
    "    :param file_path: Path to the bz2 compressed JSON file.\n",
    "    :param num_lines: Number of lines to read from the file.\n",
    "    :return: A list of JSON objects from the file.\n",
    "    \"\"\"\n",
    "    lines = []\n",
    "    with bz2.open(file_path, 'rt') as f:\n",
    "        for _ in range(num_lines):\n",
    "            line = f.readline()\n",
    "            if not line:\n",
    "                break\n",
    "            lines.append(json.loads(line))\n",
    "    return lines\n",
    "sample_data = load_bz2_json_sample(file_path)\n",
    "\n",
    "# Display the first few lines of the JSON data\n",
    "for line in sample_data:\n",
    "    print(json.dumps(line, indent=4))"
   ]
  },
  {
   "cell_type": "code",
   "execution_count": 8,
   "id": "06258ca1",
   "metadata": {},
   "outputs": [],
   "source": [
    "def load_bz2_json_batch(file_path, batch_size=1000, total_lines=6459000):\n",
    "    \"\"\"\n",
    "    Load a bz2 compressed JSON file in batches.\n",
    "    \n",
    "    :param file_path: Path to the bz2 compressed JSON file.\n",
    "    :param batch_size: Number of lines to read in each batch.\n",
    "    :param total_lines: Total number of lines to read from the file.\n",
    "    :return: A generator yielding batches of JSON objects.\n",
    "    \"\"\"\n",
    "    with bz2.open(file_path, 'rt') as f:\n",
    "        batch = []\n",
    "        for i, line in enumerate(f):\n",
    "            if i >= total_lines:\n",
    "                break\n",
    "            batch.append(json.loads(line))\n",
    "            if len(batch) == batch_size:\n",
    "                yield batch\n",
    "                batch = []\n",
    "        if batch:\n",
    "            yield batch\n"
   ]
  },
  {
   "cell_type": "code",
   "execution_count": 9,
   "id": "156a0381",
   "metadata": {},
   "outputs": [],
   "source": [
    "def get_training_corpus_bz2(file_path, batch_size=1000, text_handle=\"text\"):\n",
    "    \"\"\"\n",
    "    Generate training corpus from the dataset in batches.\n",
    "    \n",
    "    :param file_path: Path to the bz2 compressed JSON file.\n",
    "    :param batch_size: Number of lines to read in each batch.\n",
    "    :param text_handle: Key to access text data in JSON objects.\n",
    "    :return: A generator yielding text data in chunks.\n",
    "    \"\"\"\n",
    "    for batch in load_bz2_json_batch(file_path, batch_size):\n",
    "        for item in batch:\n",
    "            yield item[text_handle]"
   ]
  },
  {
   "cell_type": "code",
   "execution_count": 5,
   "id": "dc78994b",
   "metadata": {},
   "outputs": [],
   "source": [
    "from transformers import AutoTokenizer\n",
    "def fit_tokenizer(file_path, vocab_size, batch_size=1000, text_handle=\"text\"):\n",
    "    \"\"\"\n",
    "    Train a new tokenizer on the given dataset.\n",
    "    \n",
    "    :param file_path: Path to the bz2 compressed JSON file.\n",
    "    :param vocab_size: Size of the vocabulary.\n",
    "    :param batch_size: Number of lines to read in each batch.\n",
    "    :param text_handle: Key to access text data in JSON objects.\n",
    "    \"\"\"\n",
    "    old_tokenizer = AutoTokenizer.from_pretrained(\"meta-llama/Meta-Llama-3-8B\")\n",
    "    training_corpus = get_training_corpus_bz2(file_path, batch_size, text_handle)\n",
    "    tokenizer = old_tokenizer.train_new_from_iterator(tqdm(training_corpus, desc=\"Fitting Tokenizer\", unit=\"batch\"), vocab_size=vocab_size)\n",
    "    dir_name = f\"./llama3-tokenizer-twitter-raw/{vocab_size}\"\n",
    "    os.makedirs(dir_name, exist_ok=True)\n",
    "    tokenizer.save_pretrained(f\"{dir_name}\")"
   ]
  },
  {
   "cell_type": "code",
   "execution_count": 11,
   "id": "493cafbb",
   "metadata": {},
   "outputs": [
    {
     "name": "stdout",
     "output_type": "stream",
     "text": [
      "66339470\n"
     ]
    }
   ],
   "source": [
    "# Calculate the total number of words in the dataset\n",
    "def calculate_total_words(file_path):\n",
    "    total_words = 0\n",
    "    for text in get_training_corpus_bz2(file_path):\n",
    "        total_words += len(text.split())\n",
    "    return total_words\n",
    "print(calculate_total_words(file_path))"
   ]
  },
  {
   "cell_type": "code",
   "execution_count": null,
   "id": "554bc241",
   "metadata": {},
   "outputs": [
    {
     "name": "stderr",
     "output_type": "stream",
     "text": [
      "/opt/anaconda/lib/python3.11/site-packages/huggingface_hub/file_download.py:1132: FutureWarning: `resume_download` is deprecated and will be removed in version 1.0.0. Downloads always resume when possible. If you want to force a new download, use `force_download=True`.\n",
      "  warnings.warn(\n",
      "Special tokens have been added in the vocabulary, make sure the associated word embeddings are fine-tuned or trained.\n",
      "Fitting Tokenizer: 0batch [00:00, ?batch/s]"
     ]
    }
   ],
   "source": [
    "# Example usage\n",
    "\n",
    "# Fit the tokenizer on the loaded dataset\n",
    "fit_tokenizer(file_path, vocab_size=30522, batch_size=1000, text_handle=\"text\")  # Adjust vocab_size and text_handle as needed\n"
   ]
  },
  {
   "cell_type": "markdown",
   "id": "d048adb6",
   "metadata": {},
   "source": [
    "### SADIRI dataset"
   ]
  },
  {
   "cell_type": "code",
   "execution_count": 12,
   "id": "69439246",
   "metadata": {},
   "outputs": [],
   "source": [
    "# check the overlap between candidate and query files\n",
    "from datasets import load_from_disk\n",
    "directory_path = '/shared/3/projects/hiatus/aggregated_trainset_v2/content_masking_research/down_1_shuffle/train'"
   ]
  },
  {
   "cell_type": "code",
   "execution_count": null,
   "id": "624b99ca",
   "metadata": {},
   "outputs": [],
   "source": [
    "# Load the dataset\n",
    "dataset = load_from_disk(directory_path)\n",
    "\n",
    "# Display the first few rows of the train split\n",
    "print(dataset['train'].head())"
   ]
  }
 ],
 "metadata": {
  "kernelspec": {
   "display_name": "Python 3 (ipykernel)",
   "language": "python",
   "name": "python3"
  },
  "language_info": {
   "codemirror_mode": {
    "name": "ipython",
    "version": 3
   },
   "file_extension": ".py",
   "mimetype": "text/x-python",
   "name": "python",
   "nbconvert_exporter": "python",
   "pygments_lexer": "ipython3",
   "version": "3.11.5"
  }
 },
 "nbformat": 4,
 "nbformat_minor": 5
}
